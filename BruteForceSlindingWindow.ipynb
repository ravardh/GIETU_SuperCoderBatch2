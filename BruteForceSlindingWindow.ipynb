{
  "nbformat": 4,
  "nbformat_minor": 0,
  "metadata": {
    "colab": {
      "provenance": []
    },
    "kernelspec": {
      "name": "python3",
      "display_name": "Python 3"
    },
    "language_info": {
      "name": "python"
    }
  },
  "cells": [
    {
      "cell_type": "code",
      "execution_count": 1,
      "metadata": {
        "colab": {
          "base_uri": "https://localhost:8080/"
        },
        "id": "BNnwIKEpk7BX",
        "outputId": "2ad1a89a-bf21-4df0-a802-43a97d08c641"
      },
      "outputs": [
        {
          "output_type": "stream",
          "name": "stdout",
          "text": [
            "Enter the consecutive number5\n",
            "18\n"
          ]
        }
      ],
      "source": [
        "arr= [1,3,5,2,7,4,8,9,5,3,5,7,9,3,2,0]\n",
        "n=int(input(\"Enter the consecutive number\"))\n",
        "l=len(arr)\n",
        "sum=0\n",
        "for i in range(0,n):\n",
        "    sum+=arr[i]\n",
        "win = sum\n",
        "for i in range(0,l-n):\n",
        "    if(win>sum):\n",
        "        sum = win\n",
        "    win-=arr[i]+arr[i+n]\n",
        "print(sum)"
      ]
    },
    {
      "cell_type": "code",
      "source": [],
      "metadata": {
        "id": "CSLwm8nrlKY4"
      },
      "execution_count": null,
      "outputs": []
    }
  ]
}
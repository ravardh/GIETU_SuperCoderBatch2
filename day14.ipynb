{
  "nbformat": 4,
  "nbformat_minor": 0,
  "metadata": {
    "colab": {
      "provenance": []
    },
    "kernelspec": {
      "name": "python3",
      "display_name": "Python 3"
    },
    "language_info": {
      "name": "python"
    }
  },
  "cells": [
    {
      "cell_type": "code",
      "execution_count": null,
      "metadata": {
        "colab": {
          "base_uri": "https://localhost:8080/"
        },
        "id": "dbnjT28DrW4U",
        "outputId": "a99391ad-5666-4d05-d95f-a438d40238c1"
      },
      "outputs": [
        {
          "output_type": "stream",
          "name": "stdout",
          "text": [
            "(  1  ,  2  )\t(  1  ,  3  )\t(  1  ,  4  )\t\n",
            "(  2  ,  5  )\t\n",
            "(  3  ,  2  )\t(  3  ,  5  )\t\n",
            "(  4  ,  3  )\t(  4  ,  6  )\t\n",
            "(  5  ,  7  )\t\n",
            "(  6  ,  7  )\t\n",
            "\n",
            "{1: 0, 2: 1, 3: 3, 4: 5, 5: 0, 6: 4, 7: 3}\n"
          ]
        }
      ],
      "source": [
        "class Edge:\n",
        "    def __init__(self, s, d, w):\n",
        "        self.source = s\n",
        "        self.destination = d\n",
        "        self.weight = w\n",
        "\n",
        "class GraphLevelOrder:\n",
        "    def __init__(self):\n",
        "        self.l = []\n",
        "\n",
        "    def insertv(self):\n",
        "        for i in range(7):\n",
        "            self.l.append([])\n",
        "\n",
        "        self.l[0].append(Edge(1,2,6))\n",
        "        self.l[0].append(Edge(1,3,5))\n",
        "        self.l[0].append(Edge(1,4,5))\n",
        "\n",
        "        self.l[1].append(Edge(2,5,-1))\n",
        "\n",
        "        self.l[2].append(Edge(3,2,-2))\n",
        "        self.l[2].append(Edge(3,5,1))\n",
        "\n",
        "        self.l[3].append(Edge(4,3,-2))\n",
        "        self.l[3].append(Edge(4,6,-1))\n",
        "\n",
        "        self.l[4].append(Edge(5,7,3))\n",
        "\n",
        "        self.l[5].append(Edge(6,7,3))\n",
        "\n",
        "    def display(self):\n",
        "        for i in self.l:\n",
        "            for j in i:\n",
        "                print(\"( \", j.source, \" , \", j.destination, \" )\", end=\"\\t\")\n",
        "            print()\n",
        "\n",
        "    def belMan(self,start):\n",
        "        dist = dict()\n",
        "        for x in range(1, len(self.l) + 1):\n",
        "            dist[x] = float('inf')\n",
        "        dist[start] = 0\n",
        "\n",
        "        for i in range(9):\n",
        "            for i in range(len(self.l) - 1):\n",
        "                found_key = i + 1\n",
        "                for j in range(len(self.l[found_key - 1])):\n",
        "                    dist[self.l[found_key - 1][j].destination] = min(dist[self.l[found_key - 1][j].destination], dist[found_key] + self.l[found_key - 1][j].weight)\n",
        "        return dist\n",
        "\n",
        "g = GraphLevelOrder()\n",
        "g.insertv()\n",
        "g.display()\n",
        "start = 1\n",
        "print(g.belMan(start))\n"
      ]
    }
  ]
}
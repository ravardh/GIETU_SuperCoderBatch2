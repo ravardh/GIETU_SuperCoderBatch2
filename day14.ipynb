{
 "cells": [
  {
   "cell_type": "code",
   "execution_count": 1,
   "id": "48629077",
   "metadata": {},
   "outputs": [
    {
     "name": "stdout",
     "output_type": "stream",
     "text": [
      "5\n"
     ]
    }
   ],
   "source": [
    "def fun(arr):\n",
    "    maxl=0\n",
    "    for i in range(len(arr)):\n",
    "        cur=0\n",
    "        for j in range(i,len(arr)):\n",
    "            cur+=arr[j]\n",
    "            if cur==0:\n",
    "                maxl=max(maxl,j-i+1)\n",
    "    return maxl\n",
    "arr=[9,-3,3,-1,6,-5]\n",
    "res=fun(arr)\n",
    "print(res)"
   ]
  },
  {
   "cell_type": "code",
   "execution_count": null,
   "id": "70da7b56",
   "metadata": {},
   "outputs": [],
   "source": []
  }
 ],
 "metadata": {
  "kernelspec": {
   "display_name": "Python 3 (ipykernel)",
   "language": "python",
   "name": "python3"
  },
  "language_info": {
   "codemirror_mode": {
    "name": "ipython",
    "version": 3
   },
   "file_extension": ".py",
   "mimetype": "text/x-python",
   "name": "python",
   "nbconvert_exporter": "python",
   "pygments_lexer": "ipython3",
   "version": "3.11.5"
  }
 },
 "nbformat": 4,
 "nbformat_minor": 5
}

{
 "cells": [
  {
   "cell_type": "code",
   "execution_count": 1,
   "id": "f774d62a",
   "metadata": {},
   "outputs": [
    {
     "name": "stdout",
     "output_type": "stream",
     "text": [
      "{'A': ['B', 'C'], 'B': ['A', 'D'], 'C': ['A', 'D'], 'D': ['B', 'C']}\n"
     ]
    }
   ],
   "source": [
    "def create_adj_list(edges):\n",
    "    # Initialize the adjacency list with empty lists\n",
    "    adj_list = {node: [] for edge in edges for node in edge}\n",
    "\n",
    "    # Add edges to the adjacency list\n",
    "    for edge in edges:\n",
    "        adj_list[edge[0]].append(edge[1])\n",
    "        adj_list[edge[1]].append(edge[0])\n",
    "\n",
    "    return adj_list\n",
    "\n",
    "edges = [('A', 'B'), ('A', 'C'), ('B', 'D'), ('C', 'D')]\n",
    "adj_list = create_adj_list(edges)\n",
    "print(adj_list)"
   ]
  },
  {
   "cell_type": "code",
   "execution_count": 4,
   "id": "c95c1b71",
   "metadata": {},
   "outputs": [
    {
     "name": "stdout",
     "output_type": "stream",
     "text": [
      "Adjacency list of vertex 0\n",
      "head -> 1 -> 4 \n",
      "\n",
      "Adjacency list of vertex 1\n",
      "head -> 0 -> 2 -> 3 -> 4 \n",
      "\n",
      "Adjacency list of vertex 2\n",
      "head -> 1 -> 3 \n",
      "\n",
      "Adjacency list of vertex 3\n",
      "head -> 1 -> 2 -> 4 \n",
      "\n",
      "Adjacency list of vertex 4\n",
      "head -> 0 -> 1 -> 3 \n",
      "\n"
     ]
    }
   ],
   "source": [
    "class Graph:\n",
    "    def __init__(self, num_vertices):\n",
    "        self.num_vertices = num_vertices\n",
    "        self.adj_list = [[] for _ in range(num_vertices)]\n",
    "\n",
    "    def add_edge(self, u, v):\n",
    "        self.adj_list[u].append(v)\n",
    "        self.adj_list[v].append(u)\n",
    "\n",
    "    def print_adj_list(self):\n",
    "        for i in range(self.num_vertices):\n",
    "            print(\"Adjacency list of vertex\", i)\n",
    "            print(\"head\", end=\"\")\n",
    "            for neighbor in self.adj_list[i]:\n",
    "                print(\" ->\", neighbor, end=\"\")\n",
    "            print(\" \\n\")\n",
    "\n",
    "if __name__ == \"__main__\":\n",
    "    num_vertices = 5\n",
    "    graph = Graph(num_vertices)\n",
    "    graph.add_edge(0, 1)\n",
    "    graph.add_edge(0, 4)\n",
    "    graph.add_edge(1, 2)\n",
    "    graph.add_edge(1, 3)\n",
    "    graph.add_edge(1, 4)\n",
    "    graph.add_edge(2, 3)\n",
    "    graph.add_edge(3, 4)\n",
    "    graph.print_adj_list()"
   ]
  },
  {
   "cell_type": "code",
   "execution_count": null,
   "id": "1fcf099f",
   "metadata": {},
   "outputs": [],
   "source": []
  }
 ],
 "metadata": {
  "kernelspec": {
   "display_name": "Python 3 (ipykernel)",
   "language": "python",
   "name": "python3"
  },
  "language_info": {
   "codemirror_mode": {
    "name": "ipython",
    "version": 3
   },
   "file_extension": ".py",
   "mimetype": "text/x-python",
   "name": "python",
   "nbconvert_exporter": "python",
   "pygments_lexer": "ipython3",
   "version": "3.9.13"
  }
 },
 "nbformat": 4,
 "nbformat_minor": 5
}

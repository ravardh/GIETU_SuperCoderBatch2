{
 "cells": [
  {
   "cell_type": "markdown",
   "id": "d5bdced5-c24e-4889-973c-f2c17adfd7ed",
   "metadata": {},
   "source": [
    "Depth of a Binary tree"
   ]
  },
  {
   "cell_type": "code",
   "execution_count": 6,
   "id": "8092e9fc-ba5f-4130-b277-9fbebc33cf7b",
   "metadata": {},
   "outputs": [
    {
     "name": "stdout",
     "output_type": "stream",
     "text": [
      "Depth of the binary tree: 3\n"
     ]
    }
   ],
   "source": [
    "class TreeNode:\n",
    "    def __init__(self, value):\n",
    "        self.value = value\n",
    "        self.left = None\n",
    "        self.right = None\n",
    "\n",
    "def max_depth(root):\n",
    "    if root is None:\n",
    "        return 0\n",
    "    else:\n",
    "        left_depth = max_depth(root.left)\n",
    "        right_depth = max_depth(root.right)\n",
    "        return max(left_depth, right_depth) + 1\n",
    "\n",
    "root = TreeNode(1)\n",
    "root.left = TreeNode(2)\n",
    "root.right = TreeNode(3)\n",
    "root.left.left = TreeNode(4)\n",
    "root.left.right = TreeNode(5)\n",
    "\n",
    "print(\"Depth of the binary tree:\", max_depth(root))"
   ]
  },
  {
   "cell_type": "code",
   "execution_count": 4,
   "id": "88e007ea-596f-4092-9c1a-9431a500c7df",
   "metadata": {},
   "outputs": [
    {
     "name": "stdout",
     "output_type": "stream",
     "text": [
      "Leaf Nodes are : \n",
      "4 40 35 6 8 16 2 "
     ]
    }
   ],
   "source": [
    "class Node:\n",
    "    def __init__(self, data=None):\n",
    "        self.data = data\n",
    "        self.left = None\n",
    "        self.right = None\n",
    "\n",
    "def leafNode(root):\n",
    "    if root is None:\n",
    "        return\n",
    "    if root.left is None and root.right is None:\n",
    "        print(root.data, end=\" \")\n",
    "    leafNode(root.left)\n",
    "    leafNode(root.right)\n",
    "\n",
    "root = Node(20)\n",
    "root.left = Node(32)\n",
    "root.right = Node(10)\n",
    "root.left.left = Node(15)\n",
    "root.left.right = Node(12)\n",
    "root.right.left = Node(8)\n",
    "root.right.right = Node(24)\n",
    "root.left.left.left = Node(4)\n",
    "root.left.right.left = Node(50)\n",
    "root.left.right.right = Node(6)\n",
    "root.right.right.left = Node(16)\n",
    "root.right.right.right = Node(2)\n",
    "root.left.right.left.left = Node(40)\n",
    "root.left.right.left.right = Node(35)\n",
    "\n",
    "print(\"Leaf Nodes are : \")\n",
    "leafNode(root)"
   ]
  },
  {
   "cell_type": "code",
   "execution_count": 6,
   "id": "a8aa3af0-c8c8-4f68-ba96-99faf425afd1",
   "metadata": {},
   "outputs": [
    {
     "name": "stdout",
     "output_type": "stream",
     "text": [
      "Depth of tree is : 5\n"
     ]
    }
   ],
   "source": [
    "class Node:\n",
    "    def __init__(self, data=None):\n",
    "        self.data = data\n",
    "        self.left = None\n",
    "        self.right = None\n",
    "\n",
    "def find_height(root):\n",
    "    if root is None:\n",
    "        return 0\n",
    "    left_height = find_height(root.left)\n",
    "    right_height = find_height(root.right)\n",
    "    height = max(left_height, right_height) + 1 \n",
    "    return height\n",
    "\n",
    "root = Node(1)\n",
    "root.left = Node(2)\n",
    "root.right = Node(4)\n",
    "root.left.left = Node(19)\n",
    "root.left.right = Node(14)\n",
    "root.right.left = Node(6)\n",
    "root.right.right = Node(12)\n",
    "root.left.right.left = Node(9)\n",
    "root.left.right.right = Node(5)\n",
    "root.left.right.left.right = Node(10)\n",
    "root.right.left.right = Node(16)\n",
    "root.right.right.left = Node(8)\n",
    "root.right.right.right = Node(11)\n",
    "root.right.right.left.left = Node(15)\n",
    "root.right.right.right.left = Node(17)\n",
    "root.right.right.right.right = Node(20)\n",
    "\n",
    "print(\"Depth of tree is : \" + str(find_height(root)))"
   ]
  },
  {
   "cell_type": "code",
   "execution_count": 7,
   "id": "dc9bb96f-3669-44ac-8b15-08f1123e1007",
   "metadata": {},
   "outputs": [
    {
     "name": "stdout",
     "output_type": "stream",
     "text": [
      "Bottom view of the tree:\n",
      "4 40 50 35 16 24 2 "
     ]
    }
   ],
   "source": [
    "class Node:\n",
    "    def __init__(self, data=None):\n",
    "        self.data = data\n",
    "        self.left = None\n",
    "        self.right = None\n",
    "        self.key = None\n",
    "\n",
    "def bottomView(root):\n",
    "    if root is None:\n",
    "        return\n",
    "    q = [root]\n",
    "    key = 0\n",
    "    bView = dict()\n",
    "    root.key = key\n",
    "    while len(q) != 0:\n",
    "        curr = q.pop(0)\n",
    "        key = curr.key\n",
    "        bView[key] = curr.data\n",
    "        if curr.left is not None:\n",
    "            q.append(curr.left)\n",
    "            curr.left.key = key - 1\n",
    "        if curr.right is not None:\n",
    "            q.append(curr.right)\n",
    "            curr.right.key = key + 1\n",
    "    for x in sorted(bView.keys()):\n",
    "        print(bView[x], end=\" \")\n",
    "\n",
    "root = Node(20)\n",
    "root.left = Node(32)\n",
    "root.right = Node(10)\n",
    "root.left.left = Node(15)\n",
    "root.left.right = Node(12)\n",
    "root.right.left = Node(8)\n",
    "root.right.right = Node(24)\n",
    "root.left.left.left = Node(4)\n",
    "root.left.right.left = Node(50)\n",
    "root.left.right.right = Node(6)\n",
    "root.right.right.left = Node(16)\n",
    "root.right.right.right = Node(2)\n",
    "root.left.right.left.left = Node(40)\n",
    "root.left.right.left.right = Node(35)\n",
    "\n",
    "print(\"Bottom view of the tree:\")\n",
    "bottomView(root)"
   ]
  },
  {
   "cell_type": "code",
   "execution_count": 8,
   "id": "fe87fb04-aa11-45b1-abf4-193d8462a2a3",
   "metadata": {},
   "outputs": [
    {
     "name": "stdout",
     "output_type": "stream",
     "text": [
      "Top view of the tree:\n",
      "4 15 32 20 10 24 2 "
     ]
    }
   ],
   "source": [
    "class Node:\n",
    "    def __init__(self, data=None):\n",
    "        self.data = data\n",
    "        self.left = None\n",
    "        self.right = None\n",
    "        self.hd = None\n",
    "\n",
    "def topView(root):\n",
    "    if root is None:\n",
    "        return\n",
    "    q = [root]\n",
    "    hd = 0\n",
    "    top_view = {}\n",
    "    root.hd = hd\n",
    "    while len(q) != 0:\n",
    "        curr = q.pop(0)\n",
    "        hd = curr.hd\n",
    "        if hd not in top_view:\n",
    "            top_view[hd] = curr.data\n",
    "        if curr.left is not None:\n",
    "            q.append(curr.left)\n",
    "            curr.left.hd = hd - 1\n",
    "        if curr.right is not None:\n",
    "            q.append(curr.right)\n",
    "            curr.right.hd = hd + 1\n",
    "    for key in sorted(top_view.keys()):\n",
    "        print(top_view[key], end=\" \")\n",
    "\n",
    "root = Node(20)\n",
    "root.left = Node(32)\n",
    "root.right = Node(10)\n",
    "root.left.left = Node(15)\n",
    "root.left.right = Node(12)\n",
    "root.right.left = Node(8)\n",
    "root.right.right = Node(24)\n",
    "root.left.left.left = Node(4)\n",
    "root.left.right.left = Node(50)\n",
    "root.left.right.right = Node(6)\n",
    "root.right.right.left = Node(16)\n",
    "root.right.right.right = Node(2)\n",
    "root.left.right.left.left = Node(40)\n",
    "root.left.right.left.right = Node(35)\n",
    "\n",
    "print(\"Top view of the tree:\")\n",
    "topView(root)"
   ]
  },
  {
   "cell_type": "code",
   "execution_count": null,
   "id": "676ad281-3678-42a3-ac50-baabba8de3f2",
   "metadata": {},
   "outputs": [],
   "source": []
  }
 ],
 "metadata": {
  "kernelspec": {
   "display_name": "Python 3 (ipykernel)",
   "language": "python",
   "name": "python3"
  },
  "language_info": {
   "codemirror_mode": {
    "name": "ipython",
    "version": 3
   },
   "file_extension": ".py",
   "mimetype": "text/x-python",
   "name": "python",
   "nbconvert_exporter": "python",
   "pygments_lexer": "ipython3",
   "version": "3.10.9"
  }
 },
 "nbformat": 4,
 "nbformat_minor": 5
}

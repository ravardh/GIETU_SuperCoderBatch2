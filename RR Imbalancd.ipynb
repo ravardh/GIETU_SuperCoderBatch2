{
 "cells": [
  {
   "cell_type": "markdown",
   "id": "d4df03a8",
   "metadata": {},
   "source": [
    "# RR imbalance"
   ]
  },
  {
   "cell_type": "code",
   "execution_count": 4,
   "id": "8fa6fb64",
   "metadata": {},
   "outputs": [
    {
     "name": "stdout",
     "output_type": "stream",
     "text": [
      "Inorder traversal of the BST after insertion:\n",
      "15 20 22 25 30 35 40 41 42 45 47 48 50 55 60 70 90 "
     ]
    }
   ],
   "source": [
    "class TreeNode:\n",
    "    def __init__(self, key):\n",
    "        self.key = key\n",
    "        self.left = None\n",
    "        self.right = None\n",
    "\n",
    "def RR(y):\n",
    "    x = y.left\n",
    "    T2 = x.right\n",
    "\n",
    "    x.right = y\n",
    "    y.left = T2\n",
    "\n",
    "    return x\n",
    "\n",
    "def insert(root, key):\n",
    "    if root is None:\n",
    "        return TreeNode(key)\n",
    "\n",
    "    if key < root.key:\n",
    "        root.left = insert(root.left, key)\n",
    "    elif key > root.key:\n",
    "        root.right = insert(root.right, key)\n",
    "\n",
    "    if root.left and root.left.left:\n",
    "        root = RR(root)\n",
    "\n",
    "    return root\n",
    "\n",
    "def inorderTraversal(root):\n",
    "    if root:\n",
    "        inorderTraversal(root.left)\n",
    "        print(root.key, end=\" \")\n",
    "        inorderTraversal(root.right)\n",
    "\n",
    "root = None\n",
    "keys = [50,45,55,35,40,48,60,20,70,41,47,42,15,22,25,30,90]\n",
    "\n",
    "for key in keys:\n",
    "    root = insert(root, key)\n",
    "\n",
    "print(\"Inorder traversal of the BST after insertion:\")\n",
    "inorderTraversal(root)\n"
   ]
  },
  {
   "cell_type": "code",
   "execution_count": null,
   "id": "a5391612",
   "metadata": {},
   "outputs": [],
   "source": []
  }
 ],
 "metadata": {
  "kernelspec": {
   "display_name": "Python 3 (ipykernel)",
   "language": "python",
   "name": "python3"
  },
  "language_info": {
   "codemirror_mode": {
    "name": "ipython",
    "version": 3
   },
   "file_extension": ".py",
   "mimetype": "text/x-python",
   "name": "python",
   "nbconvert_exporter": "python",
   "pygments_lexer": "ipython3",
   "version": "3.11.3"
  }
 },
 "nbformat": 4,
 "nbformat_minor": 5
}

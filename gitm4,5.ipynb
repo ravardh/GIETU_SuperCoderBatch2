{
  "nbformat": 4,
  "nbformat_minor": 0,
  "metadata": {
    "colab": {
      "provenance": [],
      "authorship_tag": "ABX9TyP0kjvLCchaNfg6Guj3b0lT",
      "include_colab_link": true
    },
    "kernelspec": {
      "name": "python3",
      "display_name": "Python 3"
    },
    "language_info": {
      "name": "python"
    }
  },
  "cells": [
    {
      "cell_type": "markdown",
      "metadata": {
        "id": "view-in-github",
        "colab_type": "text"
      },
      "source": [
        "<a href=\"https://colab.research.google.com/github/ravardh/GIETU_SuperCoderBatch2/blob/shrejal_21CSEDS044/gitm4%2C5.ipynb\" target=\"_parent\"><img src=\"https://colab.research.google.com/assets/colab-badge.svg\" alt=\"Open In Colab\"/></a>"
      ]
    },
    {
      "cell_type": "code",
      "execution_count": null,
      "metadata": {
        "id": "ZX9UUVXP1sQY"
      },
      "outputs": [],
      "source": [
        "class Solution:\n",
        "  def firstMissingPositive(self, nums):\n",
        "    n = len(nums)\n",
        "    for i in range(n):\n",
        "      while nums[i] > 0 and nums[i] <= n and nums[nums[i] - 1] != nums[i]:\n",
        "        nums[nums[i] - 1], nums[i] = nums[i], nums[nums[i] - 1]\n",
        "    for i, num in enumerate(nums):\n",
        "      if num != i + 1:\n",
        "        return i + 1\n",
        "    return n + 1\n"
      ]
    },
    {
      "cell_type": "code",
      "source": [
        "def knapsack01(capacity, weights, prices, n):\n",
        "    table = [[0 for _ in range(capacity + 1)] for _ in range(n + 1)]\n",
        "    for i in range(n + 1):\n",
        "        for w in range(capacity + 1):\n",
        "            if i == 0 or w == 0:\n",
        "                table[i][w] = 0\n",
        "            elif weights[i - 1] <= w:\n",
        "                table[i][w] = max(prices[i - 1] + table[i - 1][w - weights[i - 1]], table[i - 1][w])\n",
        "            else:\n",
        "                table[i][w] = table[i - 1][w]\n",
        "    selected_items = []\n",
        "    w = capacity\n",
        "    for i in range(n, 0, -1):\n",
        "        if table[i][w] != table[i - 1][w]:\n",
        "            selected_items.append(i - 1)\n",
        "            w -= weights[i - 1]\n",
        "\n",
        "    selected_items.reverse()\n",
        "    return selected_items\n",
        "\n",
        "capacity = 15\n",
        "item = [0, 1, 2, 3, 4, 5, 6]\n",
        "price = [10, 5, 15, 7, 6, 18, 3]\n",
        "weight = [2, 3, 5, 7, 1, 4, 1]\n",
        "n = len(item)\n",
        "\n",
        "selected_items = knapsack01(capacity, weight, price, n)\n",
        "print(\"Selected items:\", selected_items)"
      ],
      "metadata": {
        "id": "XN096arjSyEK",
        "colab": {
          "base_uri": "https://localhost:8080/"
        },
        "outputId": "34e27a11-0750-450b-a483-812d82313153"
      },
      "execution_count": 1,
      "outputs": [
        {
          "output_type": "stream",
          "name": "stdout",
          "text": [
            "Selected items: [0, 1, 2, 4, 5]\n"
          ]
        }
      ]
    },
    {
      "cell_type": "code",
      "source": [
        "def knapsack(weights, values, capacity):\n",
        "    n = len(weights)\n",
        "    dp = [[0] * (capacity + 1) for _ in range(n + 1)]\n",
        "\n",
        "    for i in range(1, n + 1):\n",
        "        for w in range(1, capacity + 1):\n",
        "            if weights[i - 1] <= w:\n",
        "                dp[i][w] = max(values[i - 1] + dp[i - 1][w - weights[i - 1]], dp[i - 1][w])\n",
        "            else:\n",
        "                dp[i][w] = dp[i - 1][w]\n",
        "\n",
        "    return dp[n][capacity]\n",
        "\n",
        "# Example usage:\n",
        "values = [10,5,15,7,6,18,3]\n",
        "weights = [2,3,5,7,1,4,1]\n",
        "capacity =15\n",
        "print(\"Maximum value:\", knapsack(weights, values, capacity))\n"
      ],
      "metadata": {
        "colab": {
          "base_uri": "https://localhost:8080/"
        },
        "id": "rLHUhFfAl7L8",
        "outputId": "27a4765f-2d80-4ba0-fdcc-8175328dd5f5"
      },
      "execution_count": 2,
      "outputs": [
        {
          "output_type": "stream",
          "name": "stdout",
          "text": [
            "Maximum value: 54\n"
          ]
        }
      ]
    }
  ]
}
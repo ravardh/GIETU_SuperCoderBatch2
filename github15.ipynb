{
  "nbformat": 4,
  "nbformat_minor": 0,
  "metadata": {
    "colab": {
      "provenance": []
    },
    "kernelspec": {
      "name": "python3",
      "display_name": "Python 3"
    },
    "language_info": {
      "name": "python"
    }
  },
  "cells": [
    {
      "cell_type": "code",
      "execution_count": 1,
      "metadata": {
        "colab": {
          "base_uri": "https://localhost:8080/"
        },
        "id": "yOya9nyvh7Tc",
        "outputId": "25042171-623f-4eb0-a541-3565af0f8d9c"
      },
      "outputs": [
        {
          "output_type": "stream",
          "name": "stdout",
          "text": [
            "First player wins.\n"
          ]
        }
      ],
      "source": [
        "def firstPlayerWins(coins):\n",
        "    n = len(coins)\n",
        "    dp = [[0] * n for _ in range(n)]\n",
        "\n",
        "    for i in range(n):\n",
        "        dp[i][i] = coins[i]\n",
        "\n",
        "    for length in range(2, n+1):\n",
        "        for i in range(n - length + 1):\n",
        "            j = i + length - 1\n",
        "            if length == 2:\n",
        "                dp[i][j] = max(coins[i], coins[j])\n",
        "            else:\n",
        "                dp[i][j] = max(\n",
        "                    coins[i] + min(dp[i+1][j-1], dp[i+2][j]),\n",
        "                    coins[j] + min(dp[i][j-2], dp[i+1][j-1])\n",
        "                )\n",
        "\n",
        "    total_sum = sum(coins)\n",
        "    first_player_sum = dp[0][n-1]\n",
        "    second_player_sum = total_sum - first_player_sum\n",
        "\n",
        "    if first_player_sum > second_player_sum:\n",
        "        return \"First player wins.\"\n",
        "    else:\n",
        "        return \"Second player wins.\"\n",
        "\n",
        "# Example usage:\n",
        "coins = [18, 20, 15, 30, 10, 14]\n",
        "print(firstPlayerWins(coins))\n"
      ]
    },
    {
      "cell_type": "code",
      "source": [],
      "metadata": {
        "id": "ewrCpJ-Th8gl"
      },
      "execution_count": null,
      "outputs": []
    }
  ]
}
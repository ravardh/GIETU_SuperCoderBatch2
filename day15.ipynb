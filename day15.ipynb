{
  "nbformat": 4,
  "nbformat_minor": 0,
  "metadata": {
    "colab": {
      "provenance": []
    },
    "kernelspec": {
      "name": "python3",
      "display_name": "Python 3"
    },
    "language_info": {
      "name": "python"
    }
  },
  "cells": [
    {
      "cell_type": "code",
      "source": [
        "class Graph:\n",
        "    def add_edge(self, vertices, u, v):\n",
        "        if u not in vertices:\n",
        "            vertices[u] = []\n",
        "        vertices[u].append(v)\n",
        "\n",
        "    def is_cyclics(self, vertices, v, visited):\n",
        "        visited[v] = True\n",
        "\n",
        "        for neighbour in vertices.get(v, []):\n",
        "            if neighbour not in visited:\n",
        "                visited[neighbour] = False\n",
        "            if not visited[neighbour]:\n",
        "                if self.is_cyclics(vertices, neighbour, visited):\n",
        "                    return True\n",
        "            elif neighbour != v:\n",
        "                return True\n",
        "\n",
        "        return False\n",
        "\n",
        "    def is_cyclic(self, vertices):\n",
        "        visited = {v: False for v in vertices}\n",
        "        for node in vertices:\n",
        "            if not visited[node]:\n",
        "                if self.is_cyclics(vertices, node, visited):\n",
        "                    return True\n",
        "        return False\n",
        "\n",
        "g = Graph()\n",
        "vertices = {}\n",
        "g.add_edge(vertices, 1, 2)\n",
        "g.add_edge(vertices, 1, 4)\n",
        "g.add_edge(vertices, 2, 3)\n",
        "g.add_edge(vertices, 3, 6)\n",
        "g.add_edge(vertices, 3, 5)\n",
        "g.add_edge(vertices, 4, 5)\n",
        "g.add_edge(vertices, 4, 7)\n",
        "g.add_edge(vertices, 7, 8)\n",
        "\n",
        "if g.is_cyclic(vertices):\n",
        "    print(\"Graph contains cycle\")\n",
        "else:\n",
        "    print(\"Graph doesn't contain cycle\")\n"
      ],
      "metadata": {
        "colab": {
          "base_uri": "https://localhost:8080/"
        },
        "id": "I6g_-SPd9Beb",
        "outputId": "21d4b205-f9c7-47f6-a128-cef889ac34d1"
      },
      "execution_count": null,
      "outputs": [
        {
          "output_type": "stream",
          "name": "stdout",
          "text": [
            "Graph contains cycle\n"
          ]
        }
      ]
    },
    {
      "cell_type": "code",
      "source": [
        "l=[[25,4],[20,2],[30,4],[15,3],[5,2],[35,3],[12,1]]\n",
        "l.sort()\n",
        "l.reverse()\n",
        "l1=[-1,-1,-1,-1]\n",
        "for i in range(len(l)):\n",
        "  for j in range(l[i][1]-1,-1,-1):\n",
        "    if(l1[j]==-1):\n",
        "      l1[j]=l[i][0]\n",
        "      break\n",
        "print(sum(l1))"
      ],
      "metadata": {
        "colab": {
          "base_uri": "https://localhost:8080/"
        },
        "id": "93GjZrn3HK3T",
        "outputId": "b85be5ca-14a6-43ef-ba74-cc6114d7ac2f"
      },
      "execution_count": null,
      "outputs": [
        {
          "output_type": "stream",
          "name": "stdout",
          "text": [
            "110\n"
          ]
        }
      ]
    },
    {
      "cell_type": "code",
      "source": [
        "\n"
      ],
      "metadata": {
        "id": "ya2jxR-79Zt8"
      },
      "execution_count": null,
      "outputs": []
    }
  ]
}
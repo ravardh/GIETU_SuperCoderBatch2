{
 "cells": [
  {
   "cell_type": "code",
   "execution_count": 1,
   "id": "a095cbe8",
   "metadata": {},
   "outputs": [
    {
     "name": "stdout",
     "output_type": "stream",
     "text": [
      "5\n",
      "126\n"
     ]
    }
   ],
   "source": [
    "def subset(l, target_sum, lnew, index, length,C):\n",
    "    if index == len(l):\n",
    "        if sum(lnew) == 0 and len(lnew) > length[0]:\n",
    "            length[0] = len(lnew)\n",
    "\n",
    "        return\n",
    "    subset(l, target_sum + l[index], lnew + [l[index]], index + 1, length,C)\n",
    "    subset(l, target_sum, lnew, index + 1, length,C)\n",
    "    C[0]=C[0]+2\n",
    "l = [9, -3, 3, -1, 6, -5]\n",
    "length = [0]\n",
    "C=[0]\n",
    "subset(l, 0, [], 0, length,C)\n",
    "print(length[0])\n",
    "print(C[0])"
   ]
  },
  {
   "cell_type": "code",
   "execution_count": 3,
   "id": "830db41e",
   "metadata": {},
   "outputs": [
    {
     "ename": "NameError",
     "evalue": "name '_name_' is not defined",
     "output_type": "error",
     "traceback": [
      "\u001b[1;31m---------------------------------------------------------------------------\u001b[0m",
      "\u001b[1;31mNameError\u001b[0m                                 Traceback (most recent call last)",
      "Cell \u001b[1;32mIn[3], line 27\u001b[0m\n\u001b[0;32m     23\u001b[0m     divide(st, end \u001b[38;5;241m+\u001b[39m \u001b[38;5;241m1\u001b[39m, ans, arr)\n\u001b[0;32m     24\u001b[0m     divide(st \u001b[38;5;241m+\u001b[39m \u001b[38;5;241m1\u001b[39m, end, ans, arr)\n\u001b[1;32m---> 27\u001b[0m \u001b[38;5;28;01mif\u001b[39;00m _name_ \u001b[38;5;241m==\u001b[39m \u001b[38;5;124m'\u001b[39m\u001b[38;5;124m_main_\u001b[39m\u001b[38;5;124m'\u001b[39m:\n\u001b[0;32m     28\u001b[0m     arr: \u001b[38;5;28mlist\u001b[39m \u001b[38;5;241m=\u001b[39m [\u001b[38;5;241m9\u001b[39m, \u001b[38;5;241m-\u001b[39m\u001b[38;5;241m3\u001b[39m, \u001b[38;5;241m3\u001b[39m, \u001b[38;5;241m-\u001b[39m\u001b[38;5;241m1\u001b[39m, \u001b[38;5;241m6\u001b[39m, \u001b[38;5;241m-\u001b[39m\u001b[38;5;241m5\u001b[39m]\n\u001b[0;32m     29\u001b[0m     ans: \u001b[38;5;28mlist\u001b[39m \u001b[38;5;241m=\u001b[39m []\n",
      "\u001b[1;31mNameError\u001b[0m: name '_name_' is not defined"
     ]
    }
   ],
   "source": [
    "def divide(st: int, end: int, ans: list, arr: list):\n",
    "    if end == len(arr) or st == len(arr) or st >= end:\n",
    "        return\n",
    "    # print(st,end)\n",
    "\n",
    "    idx: int = st\n",
    "    sum: int = 0\n",
    "    while idx <= end:\n",
    "        sum += arr[idx]\n",
    "        idx += 1\n",
    "\n",
    "    if sum == 0:\n",
    "        idx = st\n",
    "        sub_arr: list = []\n",
    "        while idx <= end:\n",
    "            print(arr[idx], end='\\t')\n",
    "            sub_arr.append(arr[idx])\n",
    "            sum += arr[idx]\n",
    "            idx += 1\n",
    "        print()\n",
    "        ans.append(sub_arr)\n",
    "\n",
    "    divide(st, end + 1, ans, arr)\n",
    "    divide(st + 1, end, ans, arr)\n",
    "\n",
    "\n",
    "if _name_ == '_main_':\n",
    "    arr: list = [9, -3, 3, -1, 6, -5]\n",
    "    ans: list = []\n",
    "    divide(0, 1, ans, arr)\n",
    "    max_len: int = 0\n",
    "    for i in range(len(ans)):\n",
    "        if len(ans[i]) > max_len:\n",
    "            max_len = len(ans[i])\n",
    "\n",
    "    print(max_len)"
   ]
  },
  {
   "cell_type": "code",
   "execution_count": 4,
   "id": "8730c33d",
   "metadata": {},
   "outputs": [
    {
     "name": "stdout",
     "output_type": "stream",
     "text": [
      "5\n"
     ]
    }
   ],
   "source": [
    "def fun(arr):\n",
    "    maxl=0\n",
    "    for i in range(len(arr)):\n",
    "        cur=0\n",
    "        for j in range(i,len(arr)):\n",
    "            cur+=arr[j]\n",
    "            if cur==0:\n",
    "                maxl=max(maxl,j-i+1)\n",
    "    return maxl\n",
    "arr=[9,-3,3,-1,6,-5]\n",
    "res=fun(arr)\n",
    "print(res)"
   ]
  },
  {
   "cell_type": "code",
   "execution_count": 5,
   "id": "9e5a1acc",
   "metadata": {},
   "outputs": [
    {
     "name": "stdout",
     "output_type": "stream",
     "text": [
      "[18, 15, 10]\n",
      "[14, 20, 30]\n"
     ]
    }
   ],
   "source": [
    "l=[18,20,15,30,10,14]\n",
    "l1=[]\n",
    "l2=[]\n",
    "for i in range(0,len(l)+1):\n",
    "    if(l[i-1]!=-1 and i%2!=0):\n",
    "      l1.append(l[i-1]);\n",
    "      l[i-1]=-1\n",
    "    if(l[i-1]!=-1 and i%2==0):\n",
    "      l2.append(l[i-1])\n",
    "      l[i-1]=-1\n",
    "for i in range(1,len(l)+1):\n",
    "    if(l[i-1]!=-1 and i%2==0):\n",
    "      l1.append(l[i-1]);\n",
    "      l[i-1]=-1\n",
    "    if(l[i-1]!=-1 and i%2!=0):\n",
    "      l2.append(l[i-1])\n",
    "      l[i-1]=-1\n",
    "print(l1)\n",
    "print(l2)"
   ]
  },
  {
   "cell_type": "code",
   "execution_count": null,
   "id": "5ad50ebc",
   "metadata": {},
   "outputs": [],
   "source": []
  }
 ],
 "metadata": {
  "kernelspec": {
   "display_name": "Python 3 (ipykernel)",
   "language": "python",
   "name": "python3"
  },
  "language_info": {
   "codemirror_mode": {
    "name": "ipython",
    "version": 3
   },
   "file_extension": ".py",
   "mimetype": "text/x-python",
   "name": "python",
   "nbconvert_exporter": "python",
   "pygments_lexer": "ipython3",
   "version": "3.11.5"
  }
 },
 "nbformat": 4,
 "nbformat_minor": 5
}

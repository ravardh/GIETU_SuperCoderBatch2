{
 "cells": [
  {
   "cell_type": "code",
   "execution_count": 9,
   "id": "9460374e",
   "metadata": {},
   "outputs": [
    {
     "name": "stdout",
     "output_type": "stream",
     "text": [
      "5\n",
      "[0, 1, 1, 2, 3]\n"
     ]
    }
   ],
   "source": [
    "#TABULATION(bottom-up approach)\n",
    "def fibo(l1,n):\n",
    "    l1[0]=0\n",
    "    l1[1]=1\n",
    "    for i in range(2,len(l1)):\n",
    "        l1[i]=l1[i-1]+l1[i-2]\n",
    "    return l1\n",
    "\n",
    "\n",
    "n=int(input())\n",
    "l1=[i for i in range(n)]6\n",
    "#l1=[0]*n\n",
    "result=fibo(l1,n)\n",
    "print(result)"
   ]
  },
  {
   "cell_type": "code",
   "execution_count": 1,
   "id": "5b3edf2b",
   "metadata": {},
   "outputs": [
    {
     "name": "stdout",
     "output_type": "stream",
     "text": [
      "total profit   54\n"
     ]
    }
   ],
   "source": [
    "##### Knapsack problem(0/1)\n",
    "\n",
    "items=[0, 1, 2, 3, 4, 5, 6]\n",
    "# for i in range(0,n):\n",
    "#     items.append(i)\n",
    "price=[10, 5, 15, 7, 6, 18, 3]\n",
    "# # for _ in range(0,n):\n",
    "#     price.append(int(input()))\n",
    "weight=[2, 3, 5, 7, 1, 4, 1]\n",
    "# for _ in range(0,n):\n",
    "#     weight.append(int(input()))\n",
    "capacity=15\n",
    "rows =len(items)\n",
    "columns =capacity+1\n",
    "v= [[0 for _ in range(columns)] for _ in range(rows)]\n",
    "for i in range(1,rows):\n",
    "    for w in range(columns):\n",
    "            v[i][w]=max(v[i-1][w],v[i-1][w-weight[i]]+price[i])\n",
    "print(\"total profit  \",v[rows-1][columns-1])"
   ]
  },
  {
   "cell_type": "code",
   "execution_count": null,
   "id": "a501b900",
   "metadata": {},
   "outputs": [],
   "source": []
  }
 ],
 "metadata": {
  "kernelspec": {
   "display_name": "Python 3 (ipykernel)",
   "language": "python",
   "name": "python3"
  },
  "language_info": {
   "codemirror_mode": {
    "name": "ipython",
    "version": 3
   },
   "file_extension": ".py",
   "mimetype": "text/x-python",
   "name": "python",
   "nbconvert_exporter": "python",
   "pygments_lexer": "ipython3",
   "version": "3.11.3"
  }
 },
 "nbformat": 4,
 "nbformat_minor": 5
}

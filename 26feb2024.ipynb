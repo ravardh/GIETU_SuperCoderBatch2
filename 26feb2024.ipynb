{
 "cells": [
  {
   "cell_type": "markdown",
   "id": "e24b4d83",
   "metadata": {},
   "source": [
    "# Height of a Binary Tree"
   ]
  },
  {
   "cell_type": "code",
   "execution_count": 9,
   "id": "58658884",
   "metadata": {},
   "outputs": [
    {
     "name": "stdout",
     "output_type": "stream",
     "text": [
      "The height of the tree is:  5\n"
     ]
    }
   ],
   "source": [
    "class node:\n",
    "    def __init__(self,data=None):\n",
    "        self.data=data\n",
    "        self.left=None\n",
    "        self.right=None\n",
    "        \n",
    "def height(root):\n",
    "    if (root==None):\n",
    "        return 0\n",
    "    return max(height(root.left),height(root.right))+1\n",
    "    \n",
    "\n",
    "root=node(1)\n",
    "root.left=node(2)\n",
    "root.right=node(3)\n",
    "root.left.left=node(4)\n",
    "root.left.right=node(5)\n",
    "root.right.left=node(7)\n",
    "root.left.left.left=node(8)\n",
    "root.left.right.right=node(6)\n",
    "root.left.right.right.left=node(9)\n",
    "root.left.right.right.right=node(10)\n",
    "root.right.left.left=node(11)\n",
    "root.right.left.right=node(12)\n",
    "root.right.left.right.left=node(13)\n",
    "\n",
    "print(\"The height of the tree is: \", height(root))"
   ]
  },
  {
   "cell_type": "markdown",
   "id": "a77b2c3a",
   "metadata": {},
   "source": [
    "# Printing the leaf node"
   ]
  },
  {
   "cell_type": "code",
   "execution_count": 11,
   "id": "0690cf97",
   "metadata": {},
   "outputs": [
    {
     "name": "stdout",
     "output_type": "stream",
     "text": [
      "Leaf nodes of the binary tree are:\n",
      "8\n",
      "9\n",
      "10\n",
      "11\n",
      "13\n"
     ]
    }
   ],
   "source": [
    "class node:\n",
    "    def __init__(self, value):\n",
    "        self.value = value\n",
    "        self.left = None\n",
    "        self.right = None\n",
    "\n",
    "def print_leaf_nodes(root):\n",
    "    if root is None:\n",
    "        return\n",
    "\n",
    "    if root.left is None and root.right is None:\n",
    "        print(root.value)\n",
    "\n",
    "    if root.left:\n",
    "        print_leaf_nodes(root.left)\n",
    "    \n",
    "    if root.right:\n",
    "        print_leaf_nodes(root.right)\n",
    "\n",
    "# Example usage:\n",
    "# Constructing a binary tree\n",
    "root=node(1)\n",
    "root.left=node(2)\n",
    "root.right=node(3)\n",
    "root.left.left=node(4)\n",
    "root.left.right=node(5)\n",
    "root.right.left=node(7)\n",
    "root.left.left.left=node(8)\n",
    "root.left.right.right=node(6)\n",
    "root.left.right.right.left=node(9)\n",
    "root.left.right.right.right=node(10)\n",
    "root.right.left.left=node(11)\n",
    "root.right.left.right=node(12)\n",
    "root.right.left.right.left=node(13)\n",
    "\n",
    "print(\"Leaf nodes of the binary tree are:\")\n",
    "print_leaf_nodes(root)\n"
   ]
  },
  {
   "cell_type": "markdown",
   "id": "65981ffd",
   "metadata": {},
   "source": [
    "# Top View of Tree"
   ]
  },
  {
   "cell_type": "code",
   "execution_count": 12,
   "id": "8d770053",
   "metadata": {},
   "outputs": [
    {
     "name": "stdout",
     "output_type": "stream",
     "text": [
      "4 15 32 20 10 24 2 None\n"
     ]
    }
   ],
   "source": [
    "class node:\n",
    "    def __init__(self,data=None):\n",
    "        self.data=data\n",
    "        self.key=None\n",
    "        self.left=None\n",
    "        self.right=None\n",
    "        \n",
    "        \n",
    "def top(root):\n",
    "    if (root==None):\n",
    "        return 0\n",
    "    Q=[root]\n",
    "    key=0\n",
    "    tv=dict()\n",
    "    root.key=key\n",
    "    while len(Q)!=0:\n",
    "        curr=Q.pop(0)\n",
    "        key=curr.key\n",
    "        if key not in tv:\n",
    "            tv[key]=curr.data\n",
    "        if curr.left!=None:\n",
    "            Q.append(curr.left)\n",
    "            curr.left.key=key-1\n",
    "        if curr.right!=None:\n",
    "            Q.append(curr.right)\n",
    "            curr.right.key=key+1\n",
    "    for x in sorted(tv.keys()):\n",
    "        print(tv[x],end=\" \")\n",
    "    \n",
    "    \n",
    "root=node(20)\n",
    "root.left=node(32)\n",
    "root.right=node(10)\n",
    "root.left.left=node(15)\n",
    "root.left.right=node(12)\n",
    "root.right.left=node(8)\n",
    "root.right.right=node(24)\n",
    "root.right.right.left=node(16)\n",
    "root.right.right.right=node(2)\n",
    "root.left.left.left=node(4)\n",
    "root.left.right.left=node(50)\n",
    "root.left.right.left.left=node(40)\n",
    "root.left.right.left.right=node(35)\n",
    "root.left.right.left=node(6)\n",
    "\n",
    "print(top(root))"
   ]
  },
  {
   "cell_type": "markdown",
   "id": "4571580b",
   "metadata": {},
   "source": [
    "# Bottom View of Tree"
   ]
  },
  {
   "cell_type": "code",
   "execution_count": 13,
   "id": "a6b993a2",
   "metadata": {},
   "outputs": [
    {
     "name": "stdout",
     "output_type": "stream",
     "text": [
      "Bottom view of the binary tree:\n",
      "4 15 6 8 16 24 2 "
     ]
    }
   ],
   "source": [
    "from collections import deque\n",
    "\n",
    "class node:\n",
    "    def __init__(self, value):\n",
    "        self.value = value\n",
    "        self.left = None\n",
    "        self.right = None\n",
    "        self.hd = 0  # horizontal distance\n",
    "\n",
    "def bottom_view(root):\n",
    "    if root is None:\n",
    "        return\n",
    "    \n",
    "    # Initialize a queue for level order traversal\n",
    "    queue = deque()\n",
    "    queue.append(root)\n",
    "\n",
    "    # Dictionary to store the last node at each horizontal distance\n",
    "    hd_map = {}\n",
    "\n",
    "    # Level order traversal\n",
    "    while queue:\n",
    "        node = queue.popleft()\n",
    "        hd_map[node.hd] = node.value\n",
    "\n",
    "        if node.left:\n",
    "            node.left.hd = node.hd - 1\n",
    "            queue.append(node.left)\n",
    "        \n",
    "        if node.right:\n",
    "            node.right.hd = node.hd + 1\n",
    "            queue.append(node.right)\n",
    "\n",
    "    # Print the bottom view nodes\n",
    "    for hd in sorted(hd_map.keys()):\n",
    "        print(hd_map[hd], end=' ')\n",
    "\n",
    "# Example usage:\n",
    "# Constructing a binary tree\n",
    "root=node(20)\n",
    "root.left=node(32)\n",
    "root.right=node(10)\n",
    "root.left.left=node(15)\n",
    "root.left.right=node(12)\n",
    "root.right.left=node(8)\n",
    "root.right.right=node(24)\n",
    "root.right.right.left=node(16)\n",
    "root.right.right.right=node(2)\n",
    "root.left.left.left=node(4)\n",
    "root.left.right.left=node(50)\n",
    "root.left.right.left.left=node(40)\n",
    "root.left.right.left.right=node(35)\n",
    "root.left.right.left=node(6)\n",
    "\n",
    "print(\"Bottom view of the binary tree:\")\n",
    "bottom_view(root)"
   ]
  },
  {
   "cell_type": "code",
   "execution_count": 1,
   "id": "e73e9cbb",
   "metadata": {},
   "outputs": [
    {
     "name": "stdout",
     "output_type": "stream",
     "text": [
      "4 15 6 8 16 24 2 None\n"
     ]
    }
   ],
   "source": [
    "class node:\n",
    "    def __init__(self,data=None):\n",
    "        self.data=data\n",
    "        self.key=None\n",
    "        self.left=None\n",
    "        self.right=None\n",
    "        \n",
    "        \n",
    "def bottom(root):\n",
    "    if (root==None):\n",
    "        return 0\n",
    "    Q=[root]\n",
    "    key=0\n",
    "    tv=dict()\n",
    "    root.key=0\n",
    "    while len(Q)!=0:\n",
    "        curr=Q.pop(0)\n",
    "        key=curr.key\n",
    "        tv[key]=curr.data\n",
    "        if curr.left!=None:\n",
    "            Q.append(curr.left)\n",
    "            curr.left.key=curr.key-1\n",
    "        if curr.right!=None:\n",
    "            Q.append(curr.right)\n",
    "            curr.right.key=curr.key+1\n",
    "    for x in sorted(tv.keys()):\n",
    "        print(tv[x],end=\" \")\n",
    "    \n",
    "    \n",
    "root=node(20)\n",
    "root.left=node(32)\n",
    "root.right=node(10)\n",
    "root.left.left=node(15)\n",
    "root.left.right=node(12)\n",
    "root.right.left=node(8)\n",
    "root.right.right=node(24)\n",
    "root.right.right.left=node(16)\n",
    "root.right.right.right=node(2)\n",
    "root.left.left.left=node(4)\n",
    "root.left.right.left=node(50)\n",
    "root.left.right.left.left=node(40)\n",
    "root.left.right.left.right=node(35)\n",
    "root.left.right.left=node(6)\n",
    "\n",
    "print(bottom(root))"
   ]
  },
  {
   "cell_type": "code",
   "execution_count": null,
   "id": "f4adb379",
   "metadata": {},
   "outputs": [],
   "source": []
  }
 ],
 "metadata": {
  "kernelspec": {
   "display_name": "Python 3 (ipykernel)",
   "language": "python",
   "name": "python3"
  },
  "language_info": {
   "codemirror_mode": {
    "name": "ipython",
    "version": 3
   },
   "file_extension": ".py",
   "mimetype": "text/x-python",
   "name": "python",
   "nbconvert_exporter": "python",
   "pygments_lexer": "ipython3",
   "version": "3.11.5"
  }
 },
 "nbformat": 4,
 "nbformat_minor": 5
}

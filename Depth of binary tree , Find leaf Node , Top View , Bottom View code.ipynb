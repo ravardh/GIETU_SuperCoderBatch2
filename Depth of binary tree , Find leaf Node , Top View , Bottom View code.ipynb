{
 "cells": [
  {
   "cell_type": "markdown",
   "id": "342b9d55",
   "metadata": {},
   "source": [
    "# Depth of a Binary Tree\n",
    "\n",
    "findheight(root)\n",
    "{\n",
    "   if(root == null)\n",
    "      return 0;\n",
    "}\n",
    "\n",
    "leftheight = findheight(root.left);\n",
    "rightheight = findheight(root.right);\n",
    "\n",
    "height = max(leftheight,rightheight) + 1;"
   ]
  },
  {
   "cell_type": "code",
   "execution_count": 11,
   "id": "cb02d824",
   "metadata": {},
   "outputs": [
    {
     "name": "stdout",
     "output_type": "stream",
     "text": [
      "Depth of tree is : 5\n"
     ]
    }
   ],
   "source": [
    "class node:\n",
    "    def __init__(self,data = None):\n",
    "        self.data = data\n",
    "        self.left = None\n",
    "        self.right = None\n",
    "\n",
    "def findheight(root):\n",
    "    if(root==None):\n",
    "        return 0\n",
    "    leftheight = findheight(root.left)\n",
    "    rightheight = findheight(root.right)\n",
    "    height = (max(leftheight,rightheight)) + 1 \n",
    "    return height\n",
    "\n",
    "root=node(1)\n",
    "root.left=node(2)\n",
    "root.right=node(4)\n",
    "root.left.left=node(19)\n",
    "root.left.right=node(14)\n",
    "root.right.left=node(6)\n",
    "root.right.right=node(12)\n",
    "root.left.right.left=node(9)\n",
    "root.left.right.right=node(5)\n",
    "root.left.right.left.right=node(10)\n",
    "root.right.left.right=node(16)\n",
    "root.right.right.left=node(8)\n",
    "root.right.right.right=node(11)\n",
    "root.right.right.left.left=node(15)\n",
    "root.right.right.right.left=node(17)\n",
    "root.right.right.right.right=node(20)\n",
    "\n",
    "print(\"Depth of tree is : \"+str(findheight(root)))"
   ]
  },
  {
   "cell_type": "markdown",
   "id": "2a81248b",
   "metadata": {},
   "source": [
    "# printing Leaf Node "
   ]
  },
  {
   "cell_type": "code",
   "execution_count": 20,
   "id": "b9c49a6f",
   "metadata": {},
   "outputs": [
    {
     "name": "stdout",
     "output_type": "stream",
     "text": [
      "Leaf Nodes are : \n",
      "4 40 35 6 8 16 2 "
     ]
    }
   ],
   "source": [
    "class node:\n",
    "    def __init__(self,data = None):\n",
    "        self.data = data\n",
    "        self.left = None\n",
    "        self.right = None\n",
    "\n",
    "def leafNode(root):\n",
    "    if(root==None):\n",
    "        return 0\n",
    "    if (root.left == None) and (root.right == None):\n",
    "        print(root.data, end=\" \")\n",
    "    leafNode(root.left)\n",
    "    leafNode(root.right)\n",
    "\n",
    "root=node(20)\n",
    "root.left=node(32)\n",
    "root.right=node(10)\n",
    "root.left.left=node(15)\n",
    "root.left.right=node(12)\n",
    "root.right.left=node(8)\n",
    "root.right.right=node(24)\n",
    "root.left.left.left=node(4)\n",
    "root.left.right.left=node(50)\n",
    "root.left.right.right=node(6)\n",
    "root.right.right.left=node(16)\n",
    "root.right.right.right=node(2)\n",
    "root.left.right.left.left=node(40)\n",
    "root.left.right.left.right=node(35)\n",
    "\n",
    "print(\"Leaf Nodes are : \")\n",
    "leafNode(root)"
   ]
  },
  {
   "cell_type": "markdown",
   "id": "57627545",
   "metadata": {},
   "source": [
    "# Top view"
   ]
  },
  {
   "cell_type": "code",
   "execution_count": 23,
   "id": "2d5c62eb",
   "metadata": {},
   "outputs": [
    {
     "name": "stdout",
     "output_type": "stream",
     "text": [
      "4 15 32 20 10 24 2 "
     ]
    }
   ],
   "source": [
    "class node:\n",
    "    def __init__(self,data = None):\n",
    "        self.data = data\n",
    "        self.left = None\n",
    "        self.right = None\n",
    "        self.key = None\n",
    "def topView(root):\n",
    "    if(root == None):\n",
    "        return\n",
    "    q = [root]\n",
    "    key = 0\n",
    "    tView = dict()\n",
    "    root.key = key\n",
    "    while(len(q) != 0):\n",
    "        curr = q.pop(0)\n",
    "        key = curr.key\n",
    "        if key not in tView:\n",
    "            tView[key] = curr.data\n",
    "        if curr.left != None:\n",
    "            q.append(curr.left)\n",
    "            curr.left.key = key - 1\n",
    "        if curr.right != None:\n",
    "            q.append(curr.right)\n",
    "            curr.right.key = key + 1\n",
    "    for x in sorted(tView.keys()):\n",
    "        print(tView[x],end=\" \")\n",
    "              \n",
    "root=node(20)\n",
    "root.left=node(32)\n",
    "root.right=node(10)\n",
    "root.left.left=node(15)\n",
    "root.left.right=node(12)\n",
    "root.right.left=node(8)\n",
    "root.right.right=node(24)\n",
    "root.left.left.left=node(4)\n",
    "root.left.right.left=node(50)\n",
    "root.left.right.right=node(6)\n",
    "root.right.right.left=node(16)\n",
    "root.right.right.right=node(2)\n",
    "root.left.right.left.left=node(40)\n",
    "root.left.right.left.right=node(35)\n",
    "              \n",
    "topView(root)\n",
    "            "
   ]
  },
  {
   "cell_type": "markdown",
   "id": "6d5fb066",
   "metadata": {},
   "source": [
    "# Bottom View"
   ]
  },
  {
   "cell_type": "code",
   "execution_count": 25,
   "id": "aad09b43",
   "metadata": {},
   "outputs": [
    {
     "name": "stdout",
     "output_type": "stream",
     "text": [
      "Bottom view of the tree:\n",
      "4 40 50 35 16 24 2 "
     ]
    }
   ],
   "source": [
    "class Node:\n",
    "    def __init__(self, data=None):\n",
    "        self.data = data\n",
    "        self.left = None\n",
    "        self.right = None\n",
    "        self.key = None\n",
    "\n",
    "def bottomView(root):\n",
    "    if root is None:\n",
    "        return\n",
    "    q = [root]\n",
    "    key = 0\n",
    "    bView = dict()\n",
    "    root.key = key\n",
    "    while len(q) != 0:\n",
    "        curr = q.pop(0)\n",
    "        key = curr.key\n",
    "        bView[key] = curr.data\n",
    "        if curr.left is not None:\n",
    "            q.append(curr.left)\n",
    "            curr.left.key = key - 1\n",
    "        if curr.right is not None:\n",
    "            q.append(curr.right)\n",
    "            curr.right.key = key + 1\n",
    "    for x in sorted(bView.keys()):\n",
    "        print(bView[x], end=\" \")\n",
    "root = Node(20)\n",
    "root.left = Node(32)\n",
    "root.right = Node(10)\n",
    "root.left.left = Node(15)\n",
    "root.left.right = Node(12)\n",
    "root.right.left = Node(8)\n",
    "root.right.right = Node(24)\n",
    "root.left.left.left = Node(4)\n",
    "root.left.right.left = Node(50)\n",
    "root.left.right.right = Node(6)\n",
    "root.right.right.left = Node(16)\n",
    "root.right.right.right = Node(2)\n",
    "root.left.right.left.left = Node(40)\n",
    "root.left.right.left.right = Node(35)\n",
    "\n",
    "print(\"Bottom view of the tree:\")\n",
    "bottomView(root)\n"
   ]
  },
  {
   "cell_type": "code",
   "execution_count": null,
   "id": "c71493fe",
   "metadata": {},
   "outputs": [],
   "source": []
  }
 ],
 "metadata": {
  "kernelspec": {
   "display_name": "Python 3 (ipykernel)",
   "language": "python",
   "name": "python3"
  },
  "language_info": {
   "codemirror_mode": {
    "name": "ipython",
    "version": 3
   },
   "file_extension": ".py",
   "mimetype": "text/x-python",
   "name": "python",
   "nbconvert_exporter": "python",
   "pygments_lexer": "ipython3",
   "version": "3.11.3"
  }
 },
 "nbformat": 4,
 "nbformat_minor": 5
}

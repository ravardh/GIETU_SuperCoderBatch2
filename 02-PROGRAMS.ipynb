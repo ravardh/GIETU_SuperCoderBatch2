{
 "cells": [
  {
   "cell_type": "code",
   "execution_count": 1,
   "id": "a39153c1",
   "metadata": {},
   "outputs": [
    {
     "name": "stdout",
     "output_type": "stream",
     "text": [
      "3\n",
      "21\n"
     ]
    }
   ],
   "source": [
    "#consecutive sum\n",
    "l1=[1,3,5,2,7,9,5,4,3,5,7,9,3,2,0,8]\n",
    "dist=int(input())\n",
    "s=[]\n",
    "l=len(l1)\n",
    "j=0\n",
    "for i in range(0,l-dist-1):\n",
    "    s1=0\n",
    "    j=i\n",
    "    for k in range(0,dist):\n",
    "            s1=s1+l1[j]\n",
    "            j=j+1\n",
    "    s.append(s1)\n",
    "s.sort()\n",
    "print(s[len(s)-1])\n",
    "    "
   ]
  },
  {
   "cell_type": "code",
   "execution_count": 2,
   "id": "85e28e27",
   "metadata": {},
   "outputs": [
    {
     "name": "stdout",
     "output_type": "stream",
     "text": [
      "3\n",
      "21\n"
     ]
    }
   ],
   "source": [
    "# With Sliding window\n",
    "a=[1,3,5,2,7,9,5,4,3,5,7,9,3,2,0,8]\n",
    "ni=int(input())\n",
    "s=0\n",
    "for i in range(0,ni):\n",
    "    s=s+a[i]\n",
    "win=s   \n",
    "for i in range(0,len(a)-ni):\n",
    "    if(win > s):\n",
    "        s=win    \n",
    "    win=win-a[i]+a[i+ni]\n",
    "\n",
    "print(s)"
   ]
  },
  {
   "cell_type": "code",
   "execution_count": 3,
   "id": "e9613b38",
   "metadata": {},
   "outputs": [
    {
     "name": "stdout",
     "output_type": "stream",
     "text": [
      "[3, 3, 4, 5, 5, 5, 6]\n"
     ]
    }
   ],
   "source": [
    "#Maximum of all subarray\n",
    "b=[]\n",
    "k=0\n",
    "res=[]\n",
    "arr=[1,2,3,1,4,5,2,3,6]\n",
    "for i in range(0,len(arr)-2):\n",
    "        b.append(arr[i])\n",
    "        for j in range(i+1,i+3):   \n",
    "            b.append(arr[j])\n",
    "        result=max(b)\n",
    "        res.append(result)\n",
    "print(res)\n",
    "            \n",
    "           \n",
    "\n"
   ]
  },
  {
   "cell_type": "code",
   "execution_count": 4,
   "id": "6f37462b",
   "metadata": {},
   "outputs": [
    {
     "name": "stdout",
     "output_type": "stream",
     "text": [
      "ABCBBACBAABACBABC\n",
      "CBA\n",
      "6\n",
      "12\n"
     ]
    }
   ],
   "source": [
    "#Pattern Matching\n",
    "s1=input()\n",
    "pattern=input()\n",
    "l=len(s1)\n",
    "l1=len(pattern)\n",
    "p=0\n",
    "j=0\n",
    "for i in range(0,l):\n",
    "    if(p<l1):\n",
    "        if(p<=l1-1):\n",
    "            if(s1[i]==pattern[p]):\n",
    "                p=p+1    \n",
    "            else:\n",
    "                p=0\n",
    "    else:\n",
    "        j=(i-1)-(p-1)\n",
    "        print(j)\n",
    "        p=0      "
   ]
  },
  {
   "cell_type": "code",
   "execution_count": null,
   "id": "f4b43aca",
   "metadata": {},
   "outputs": [],
   "source": []
  }
 ],
 "metadata": {
  "kernelspec": {
   "display_name": "Python 3 (ipykernel)",
   "language": "python",
   "name": "python3"
  },
  "language_info": {
   "codemirror_mode": {
    "name": "ipython",
    "version": 3
   },
   "file_extension": ".py",
   "mimetype": "text/x-python",
   "name": "python",
   "nbconvert_exporter": "python",
   "pygments_lexer": "ipython3",
   "version": "3.11.3"
  }
 },
 "nbformat": 4,
 "nbformat_minor": 5
}

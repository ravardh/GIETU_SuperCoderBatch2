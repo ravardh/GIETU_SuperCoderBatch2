{
 "cells": [
  {
   "cell_type": "code",
   "execution_count": 1,
   "id": "e4646e4e",
   "metadata": {},
   "outputs": [
    {
     "name": "stdout",
     "output_type": "stream",
     "text": [
      "enter the operation you want to perform:-+\n",
      "enter first number2\n",
      "enter second number3\n",
      "5\n"
     ]
    }
   ],
   "source": [
    "#SIMPLE CALCULATOR\n",
    "ch=input(\"enter the operation you want to perform:- \")\n",
    "a=int(input(\"enter first number:- \"))\n",
    "b=int(input(\"enter second number:- \"))\n",
    "match ch:\n",
    "    case \"+\":\n",
    "       print(a+b)\n",
    "       \n",
    "    case \"-\":\n",
    "        print(a-b)\n",
    "       \n",
    "    case \"*\":\n",
    "        print(a*b)\n",
    "           \n",
    "    case \"/\":\n",
    "        print(a/b)\n",
    "        \n",
    "    case \"//\":\n",
    "        print(a//b)\n",
    "       \n",
    "    case \"%\":\n",
    "        print(a%b)\n",
    "       \n",
    "    case _:\n",
    "        print(\"invalid input\")"
   ]
  },
  {
   "cell_type": "code",
   "execution_count": 24,
   "id": "35c5ca09",
   "metadata": {},
   "outputs": [
    {
     "name": "stdout",
     "output_type": "stream",
     "text": [
      "enter the range10\n",
      "4\n",
      "8\n",
      "1\n",
      "6\n",
      "3\n",
      "9\n",
      "5\n",
      "0\n",
      "7\n",
      "2\n",
      "[4, 8, 1, 6, 3, 9, 5, 0, 7, 2]\n",
      "[0, 1, 2, 3, 4, 5, 6, 7, 8, 9]\n"
     ]
    }
   ],
   "source": [
    "#SELECTION SORT\n",
    "n=int(input(\"enter the range\"))\n",
    "L1=[]\n",
    "for i in range(0,n):\n",
    "    e=int(input())\n",
    "    L1.append(e)\n",
    "print(L1)\n",
    "for i in range(0,len(L1)):\n",
    "    min=L1[i]\n",
    "    for j in range(i+1,len(L1)):\n",
    "        if(min>L1[j]): \n",
    "            L1[i],L1[j]=L1[j],L1[i]\n",
    "            min=L1[i]\n",
    "print(L1)\n",
    "    \n",
    "\n",
    "    \n",
    "\n",
    "    "
   ]
  },
  {
   "cell_type": "code",
   "execution_count": 26,
   "id": "04df5005",
   "metadata": {},
   "outputs": [
    {
     "name": "stdout",
     "output_type": "stream",
     "text": [
      "enter the range9\n",
      "4\n",
      "8\n",
      "7\n",
      "1\n",
      "9\n",
      "2\n",
      "3\n",
      "6\n",
      "5\n",
      "[4, 8, 7, 1, 9, 2, 3, 6, 5]\n",
      "[1, 2, 3, 4, 5, 6, 7, 8, 9]\n"
     ]
    }
   ],
   "source": [
    "#BUBBLE SORT\n",
    "n=int(input(\"enter the range\"))\n",
    "L1=[]\n",
    "for i in range(0,n):\n",
    "    e=int(input())\n",
    "    L1.append(e)\n",
    "print(L1)\n",
    "for i in range(0,len(L1)):\n",
    "    for j in range(i+1,len(L1)):\n",
    "        if (L1[i]>L1[j]):\n",
    "            L1[i],L1[j]=L1[j],L1[i]\n",
    "print(L1)"
   ]
  },
  {
   "cell_type": "code",
   "execution_count": 30,
   "id": "94963ad3",
   "metadata": {},
   "outputs": [
    {
     "name": "stdout",
     "output_type": "stream",
     "text": [
      "enter the range9\n",
      "4\n",
      "8\n",
      "7\n",
      "1\n",
      "9\n",
      "2\n",
      "3\n",
      "6\n",
      "5\n",
      "[4, 8, 7, 1, 9, 2, 3, 6, 5]\n",
      "[1, 2, 3, 4, 5, 6, 7, 8, 9]\n"
     ]
    }
   ],
   "source": [
    "#INSERTION SORT\n",
    "n=int(input(\"enter the range\"))\n",
    "L1=[]\n",
    "for i in range(0,n):\n",
    "    e=int(input())\n",
    "    L1.append(e)\n",
    "print(L1)\n",
    "for i in range(0,len(L1)):\n",
    "    for j in range(i+1,len(L1)):\n",
    "        if(L1[i]>L1[j]):\n",
    "            L1[i],L1[j]=L1[j],L1[i]\n",
    "print(L1)\n",
    "        "
   ]
  },
  {
   "cell_type": "code",
   "execution_count": null,
   "id": "8d62e0b7",
   "metadata": {},
   "outputs": [],
   "source": []
  }
 ],
 "metadata": {
  "kernelspec": {
   "display_name": "Python 3 (ipykernel)",
   "language": "python",
   "name": "python3"
  },
  "language_info": {
   "codemirror_mode": {
    "name": "ipython",
    "version": 3
   },
   "file_extension": ".py",
   "mimetype": "text/x-python",
   "name": "python",
   "nbconvert_exporter": "python",
   "pygments_lexer": "ipython3",
   "version": "3.11.3"
  }
 },
 "nbformat": 4,
 "nbformat_minor": 5
}

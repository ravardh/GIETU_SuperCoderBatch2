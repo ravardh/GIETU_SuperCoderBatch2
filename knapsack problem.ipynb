{
 "cells": [
  {
   "cell_type": "code",
   "execution_count": 30,
   "id": "224f21ff",
   "metadata": {},
   "outputs": [
    {
     "name": "stdout",
     "output_type": "stream",
     "text": [
      "Dictionary: {'0': 5.0, '1': 1.6666666666666667, '2': 3.0, '3': 1.0, '4': 6.0, '5': 4.5, '6': 3.0}\n",
      "Max Prof: 54\n"
     ]
    }
   ],
   "source": [
    "items = ['0', '1', '2', '3', '4', '5', '6']\n",
    "prices = [10, 5, 15, 7, 6, 18, 3]\n",
    "weights = [2, 3, 5, 7, 1, 4, 1]\n",
    "knap_dict = {}\n",
    "for item, price, weight in zip(items, prices, weights):\n",
    "    knap_dict[item] = price / weight\n",
    "print(\"Dictionary:\", knap_dict)\n",
    "max_weight = 15\n",
    "def knapsack(items, prices, weights, max_weight):\n",
    "    n = len(items)\n",
    "    sorted_items = sorted(items, key=lambda x: knap_dict[x], reverse=True)\n",
    "    v = [[0] * (max_weight + 1) for _ in range(n + 1)]\n",
    "    for i in range(1, n + 1):\n",
    "        for w in range(1, max_weight + 1):\n",
    "            if weights[int(sorted_items[i - 1])] <= w:\n",
    "                v[i][w] = max(prices[int(sorted_items[i - 1])] + v[i - 1][w - weights[int(sorted_items[i - 1])]], v[i - 1][w])\n",
    "            else:\n",
    "                v[i][w] = v[i - 1][w]\n",
    "\n",
    "    w = max_weight\n",
    "    for i in range(n, 0, -1):\n",
    "        if v[i][w] != v[i - 1][w]:\n",
    "\n",
    "            w= w-weights[int(sorted_items[i - 1])]\n",
    "\n",
    "    return v[n][max_weight]\n",
    "\n",
    "\n",
    "total_price = knapsack(items, prices, weights, max_weight)\n",
    "print(\"Max Prof:\", total_price)\n"
   ]
  },
  {
   "cell_type": "code",
   "execution_count": null,
   "id": "c8377ff1",
   "metadata": {},
   "outputs": [],
   "source": []
  }
 ],
 "metadata": {
  "kernelspec": {
   "display_name": "Python 3 (ipykernel)",
   "language": "python",
   "name": "python3"
  },
  "language_info": {
   "codemirror_mode": {
    "name": "ipython",
    "version": 3
   },
   "file_extension": ".py",
   "mimetype": "text/x-python",
   "name": "python",
   "nbconvert_exporter": "python",
   "pygments_lexer": "ipython3",
   "version": "3.11.5"
  }
 },
 "nbformat": 4,
 "nbformat_minor": 5
}

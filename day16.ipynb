{
  "nbformat": 4,
  "nbformat_minor": 0,
  "metadata": {
    "colab": {
      "provenance": []
    },
    "kernelspec": {
      "name": "python3",
      "display_name": "Python 3"
    },
    "language_info": {
      "name": "python"
    }
  },
  "cells": [
    {
      "cell_type": "code",
      "execution_count": null,
      "metadata": {
        "colab": {
          "base_uri": "https://localhost:8080/"
        },
        "id": "hGdS3fSNv81E",
        "outputId": "651655fe-7b6c-412b-c436-63e0632b1ae8"
      },
      "outputs": [
        {
          "output_type": "stream",
          "name": "stdout",
          "text": [
            "Enter the number of queens: 4\n",
            "Solution for 4 queens:\n",
            "0 0 1 0\n",
            "1 0 0 0\n",
            "0 0 0 1\n",
            "0 1 0 0\n"
          ]
        }
      ],
      "source": [
        "def is_safe(board, row, col, n):\n",
        "    for i in range(col):\n",
        "        if board[row][i] == 1:\n",
        "            return False\n",
        "    for i in range(row, -1, -1):\n",
        "        if board[i][col - (row - i)] == 1:\n",
        "            return False\n",
        "    for i in range(row, n):\n",
        "        if col - (row - i) >= 0 and col - (row - i) < n and board[i][col - (row - i)] == 1:\n",
        "            return False\n",
        "    return True\n",
        "def solve_n_queens_util(board, col, n):\n",
        "    if col >= n:\n",
        "        return True\n",
        "\n",
        "    for i in range(n):\n",
        "        if is_safe(board, i, col, n):\n",
        "            board[i][col] = 1\n",
        "\n",
        "            if solve_n_queens_util(board, col + 1, n):\n",
        "                return True\n",
        "\n",
        "            board[i][col] = 0\n",
        "\n",
        "    return False\n",
        "\n",
        "\n",
        "def solve_n_queens(n):\n",
        "    board = [[0] * n for _ in range(n)]\n",
        "\n",
        "    if not solve_n_queens_util(board, 0, n):\n",
        "        print(\"No solution exists\")\n",
        "        return\n",
        "\n",
        "    print(\"Solution for {} queens:\".format(n))\n",
        "    for row in board:\n",
        "        print(\" \".join(map(str, row)))\n",
        "n = int(input(\"Enter the number of queens: \"))\n",
        "solve_n_queens(n)\n"
      ]
    },
    {
      "cell_type": "code",
      "source": [
        "def matrix_multiply(A, B):\n",
        "    rows_A = len(A)\n",
        "    cols_A = len(A[0])\n",
        "    rows_B = len(B)\n",
        "    cols_B = len(B[0])\n",
        "\n",
        "    if cols_A != rows_B:\n",
        "        raise ValueError(\"The number of columns in matrix A must be equal to the number of rows in matrix B.\")\n",
        "    result = [[0 for _ in range(cols_B)] for _ in range(rows_A)]\n",
        "\n",
        "    for i in range(rows_A):\n",
        "        for j in range(cols_B):\n",
        "            for k in range(cols_A):\n",
        "                result[i][j] += A[i][k] * B[k][j]\n",
        "\n",
        "    return result\n",
        "A = [[1, 2], [3, 4]]\n",
        "B = [[5, 6], [7, 8]]\n",
        "result = matrix_multiply(A, B)\n",
        "print(\"Matrix A:\")\n",
        "for row in A:\n",
        "    print(row)\n",
        "\n",
        "print(\"\\nMatrix B:\")\n",
        "for row in B:\n",
        "    print(row)\n",
        "\n",
        "print(\"\\nResult of matrix multiplication A * B:\")\n",
        "for row in result:\n",
        "    print(row)\n"
      ],
      "metadata": {
        "colab": {
          "base_uri": "https://localhost:8080/"
        },
        "id": "W4_6c7MDJTDr",
        "outputId": "d0dc00c5-8cae-48b5-9289-254d258c93c9"
      },
      "execution_count": null,
      "outputs": [
        {
          "output_type": "stream",
          "name": "stdout",
          "text": [
            "Matrix A:\n",
            "[1, 2]\n",
            "[3, 4]\n",
            "\n",
            "Matrix B:\n",
            "[5, 6]\n",
            "[7, 8]\n",
            "\n",
            "Result of matrix multiplication A * B:\n",
            "[19, 22]\n",
            "[43, 50]\n"
          ]
        }
      ]
    },
    {
      "cell_type": "code",
      "source": [],
      "metadata": {
        "id": "PZbxJ_73JdDG"
      },
      "execution_count": null,
      "outputs": []
    }
  ]
}
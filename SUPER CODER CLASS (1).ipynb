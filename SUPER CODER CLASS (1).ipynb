{
 "cells": [
  {
   "cell_type": "markdown",
   "id": "73cfee52",
   "metadata": {},
   "source": [
    "QUICK SORT"
   ]
  },
  {
   "cell_type": "markdown",
   "id": "5888cad5",
   "metadata": {},
   "source": [
    "Here the given values are : 4,8,7,1,9,2,3,6,5\n"
   ]
  },
  {
   "cell_type": "code",
   "execution_count": 1,
   "id": "c43af941",
   "metadata": {},
   "outputs": [
    {
     "name": "stdout",
     "output_type": "stream",
     "text": [
      "Enter the size: 9\n",
      "Enter all the values : 4\n",
      "Enter all the values : 8\n",
      "Enter all the values : 7\n",
      "Enter all the values : 1\n",
      "Enter all the values : 9\n",
      "Enter all the values : 2\n",
      "Enter all the values : 3\n",
      "Enter all the values : 6\n",
      "Enter all the values : 5\n",
      "The Sorted array is :\n",
      "1 2 3 4 5 6 7 8 9 "
     ]
    }
   ],
   "source": [
    "def part(arr,st,end):\n",
    "    pi=arr[end]\n",
    "    i=st-1\n",
    "    for j in range(st,end):\n",
    "        if(pi>arr[j]):\n",
    "            i+=1\n",
    "            (arr[j],arr[i])=(arr[i],arr[j])\n",
    "            \n",
    "    (arr[i+1],arr[end])=(arr[end],arr[i+1])\n",
    "    return i+1\n",
    "\n",
    "def quick(arr, st, end):\n",
    "    if st < end:\n",
    "        pi = part(arr, st, end)\n",
    "        quick(arr, st, pi - 1)\n",
    "        quick(arr, pi + 1, end)\n",
    "\n",
    "if __name__ == '__main__':\n",
    "    arr = []\n",
    "    n = int(input(\"Enter the size: \"))\n",
    "    for i in range(n):\n",
    "        arr.append(int(input(\"Enter all the values : \")))\n",
    "    quick(arr, 0, n - 1)\n",
    "    print(\"The Sorted array is :\")\n",
    "    for i in arr:\n",
    "        print(i, end=\" \")"
   ]
  },
  {
   "cell_type": "markdown",
   "id": "46473f44",
   "metadata": {},
   "source": [
    "BUBBLE SORT"
   ]
  },
  {
   "cell_type": "code",
   "execution_count": 2,
   "id": "d258ff48",
   "metadata": {},
   "outputs": [
    {
     "name": "stdout",
     "output_type": "stream",
     "text": [
      "Enter the number of elements: 5\n",
      "Enter element 1: 5\n",
      "Enter element 2: 7\n",
      "Enter element 3: 3\n",
      "Enter element 4: 9\n",
      "Enter element 5: 1\n",
      "Sorted array is:\n",
      " 1  3  5  7  9 "
     ]
    }
   ],
   "source": [
    "def bubbleSort(arr):\n",
    "    n = len(arr)\n",
    "    swapped = False\n",
    "    for i in range(n-1):\n",
    "        for j in range(0, n-i-1):\n",
    "            if arr[j] > arr[j + 1]:\n",
    "                swapped = True\n",
    "                arr[j], arr[j + 1] = arr[j + 1], arr[j]\n",
    "        \n",
    "        if not swapped:\n",
    "            return\n",
    "\n",
    "def main():\n",
    "    n = int(input(\"Enter the number of elements: \"))\n",
    "    arr = []\n",
    "    for i in range(n):\n",
    "        element = int(input(f\"Enter element {i+1}: \"))\n",
    "        arr.append(element)\n",
    "\n",
    "    bubbleSort(arr)\n",
    "    print(\"Sorted array is:\")\n",
    "    for i in range(len(arr)):\n",
    "        print(\"% d\" % arr[i], end=\" \")\n",
    "\n",
    "if __name__ == \"__main__\":\n",
    "    main()\n"
   ]
  },
  {
   "cell_type": "markdown",
   "id": "ea003a5f",
   "metadata": {},
   "source": [
    "SELECTION SORT"
   ]
  },
  {
   "cell_type": "code",
   "execution_count": 4,
   "id": "46ddf6b2",
   "metadata": {},
   "outputs": [
    {
     "name": "stdout",
     "output_type": "stream",
     "text": [
      "Enter the number of elements: 5\n",
      "Enter element 1: 8\n",
      "Enter element 2: 3\n",
      "Enter element 3: 5\n",
      "Enter element 4: 2\n",
      "Enter element 5: 7\n",
      "The array after sorting in Ascending Order by selection sort is:\n",
      "[2, 3, 5, 7, 8]\n"
     ]
    }
   ],
   "source": [
    "def selectionSort(array):\n",
    "    length = len(array)\n",
    "    for ind in range(length):\n",
    "        minimum_index = ind\n",
    "        for j in range(ind + 1, length):\n",
    "            if array[j] < array[minimum_index]:\n",
    "                minimum_index = j\n",
    "        (array[ind], array[minimum_index]) = (array[minimum_index], array[ind])\n",
    "\n",
    "def main():\n",
    "    n = int(input(\"Enter the number of elements: \"))\n",
    "    array = []\n",
    "    for i in range(n):\n",
    "        element = int(input(f\"Enter element {i+1}: \"))\n",
    "        array.append(element)\n",
    "\n",
    "    selectionSort(array)\n",
    "    print('The array after sorting in Ascending order by selection sort is:')\n",
    "    print(array)\n",
    "\n",
    "if __name__ == \"__main__\":\n",
    "    main()\n"
   ]
  },
  {
   "cell_type": "markdown",
   "id": "be250bf0",
   "metadata": {},
   "source": [
    "INSERTION SORT"
   ]
  },
  {
   "cell_type": "code",
   "execution_count": 1,
   "id": "046ad341",
   "metadata": {},
   "outputs": [
    {
     "name": "stdout",
     "output_type": "stream",
     "text": [
      "Enter the number of elements: 5\n",
      "Enter element 1: 2\n",
      "Enter element 2: 4\n",
      "Enter element 3: 7\n",
      "Enter element 4: 3\n",
      "Enter element 5: 5\n",
      "Sorted array is:\n",
      "[2, 3, 4, 5, 7]\n"
     ]
    }
   ],
   "source": [
    "def insertionSort(arr):\n",
    "    n = len(arr)\n",
    "    if n <= 1:\n",
    "        return \n",
    "\n",
    "    for i in range(1, n): \n",
    "        key = arr[i] \n",
    "        j = i - 1\n",
    "        while j >= 0 and key < arr[j]: \n",
    "            arr[j + 1] = arr[j] \n",
    "            j -= 1\n",
    "        arr[j + 1] = key  \n",
    "\n",
    "def main():\n",
    "    n = int(input(\"Enter the number of elements: \"))\n",
    "    arr = []\n",
    "    for i in range(n):\n",
    "        element = int(input(f\"Enter element {i + 1}: \"))\n",
    "        arr.append(element)\n",
    "    insertionSort(arr)\n",
    "    print(\"Sorted array is:\")\n",
    "    print(arr)\n",
    "if __name__ == \"__main__\":\n",
    "    main()\n"
   ]
  },
  {
   "cell_type": "markdown",
   "id": "3e427905",
   "metadata": {},
   "source": [
    "SLIDING WINDOW"
   ]
  },
  {
   "cell_type": "code",
   "execution_count": 1,
   "id": "41e83c41",
   "metadata": {},
   "outputs": [
    {
     "name": "stdout",
     "output_type": "stream",
     "text": [
      "22\n"
     ]
    }
   ],
   "source": [
    "a=[1,3,5,2,7,4,8,9,5,3,5,7,9,3,2,0]\n",
    "max=0\n",
    "\n",
    "for i in range(len(a)-2):\n",
    "    sum=a[i]+a[i+1]+a[i+2]\n",
    "    if(sum>max):\n",
    "        max=sum\n",
    "print(max)"
   ]
  },
  {
   "cell_type": "code",
   "execution_count": 2,
   "id": "8a8f48d0",
   "metadata": {},
   "outputs": [
    {
     "name": "stdout",
     "output_type": "stream",
     "text": [
      "3 3 4 5 5 5 6\n"
     ]
    }
   ],
   "source": [
    "from collections import deque\n",
    "\n",
    "class Solution:\n",
    "  \n",
    "    def max_of_subarrays(self, arr, n, k):\n",
    "        result = []\n",
    "        window = deque()\n",
    "\n",
    "        for i in range(n):\n",
    "            \n",
    "            while window and window[0] <= i - k:\n",
    "                window.popleft()\n",
    "\n",
    "           \n",
    "            while window and arr[i] >= arr[window[-1]]:\n",
    "                window.pop()\n",
    "\n",
    "           \n",
    "            window.append(i)\n",
    "\n",
    "            \n",
    "            if i >= k - 1:\n",
    "                result.append(arr[window[0]])\n",
    "\n",
    "        return result\n",
    "\n",
    "\n",
    "if __name__ == \"__main__\":\n",
    "    sol = Solution()\n",
    "    N = 9\n",
    "    K = 3\n",
    "    arr = [1, 2, 3, 1, 4, 5, 2, 3, 6]\n",
    "    print(*sol.max_of_subarrays(arr, N, K))  \n"
   ]
  },
  {
   "cell_type": "code",
   "execution_count": 2,
   "id": "1ba2cc1d",
   "metadata": {},
   "outputs": [
    {
     "name": "stdout",
     "output_type": "stream",
     "text": [
      "Found pattern at index 3\n",
      "Found pattern at index 10\n",
      "Found pattern at index 16\n"
     ]
    }
   ],
   "source": [
    "#KMP Algorithm\n",
    "\n",
    "\n",
    "def KMPSearch(pat, data):\n",
    "\tM = len(pat)\n",
    "\tN = len(data)\n",
    "\t\n",
    "\tlps = [0]*M\n",
    "\tj = 0 \n",
    "\t\n",
    "\tLPS(pat, M, lps)\n",
    "\n",
    "\ti = 0 \n",
    "\twhile (N - i) >= (M - j):\n",
    "\t\tif pat[j] == data[i]:\n",
    "\t\t\ti += 1\n",
    "\t\t\tj += 1\n",
    "\n",
    "\t\tif j == M:\n",
    "\t\t\tprint(\"Found pattern at index \" + str(i-j))\n",
    "\t\t\tj = lps[j-1]\n",
    "\n",
    "\t\telif i < N and pat[j] != data[i]:\n",
    "\t\t\tif j != 0:\n",
    "\t\t\t\tj = lps[j-1]\n",
    "\t\t\telse:\n",
    "\t\t\t\ti += 1\n",
    "\n",
    "\n",
    "\n",
    "def LPS(pat, M, lps):\n",
    "\tlen = 0 \n",
    "\n",
    "\tlps[0] = 0 \n",
    "\ti = 1\n",
    "\n",
    "\t\n",
    "\twhile i < M:\n",
    "\t\tif pat[i] == pat[len]:\n",
    "\t\t\tlen += 1\n",
    "\t\t\tlps[i] = len\n",
    "\t\t\ti += 1\n",
    "\t\telse:\n",
    "\t\t\tif len != 0:\n",
    "\t\t\t\tlen = lps[len-1]\n",
    "\t\t\telse:\n",
    "\t\t\t\tlps[i] = 0\n",
    "\t\t\t\ti += 1\n",
    "\n",
    "\n",
    "# Driver code\n",
    "if __name__ == '__main__':\n",
    "\tdata = \"ABAABABCABABABCAABABCABAC\"\n",
    "\tpat = \"ABABC\"\n",
    "\tKMPSearch(pat, data)"
   ]
  },
  {
   "cell_type": "code",
   "execution_count": null,
   "id": "75f1d35b",
   "metadata": {},
   "outputs": [],
   "source": []
  }
 ],
 "metadata": {
  "kernelspec": {
   "display_name": "Python 3 (ipykernel)",
   "language": "python",
   "name": "python3"
  },
  "language_info": {
   "codemirror_mode": {
    "name": "ipython",
    "version": 3
   },
   "file_extension": ".py",
   "mimetype": "text/x-python",
   "name": "python",
   "nbconvert_exporter": "python",
   "pygments_lexer": "ipython3",
   "version": "3.9.13"
  }
 },
 "nbformat": 4,
 "nbformat_minor": 5
}

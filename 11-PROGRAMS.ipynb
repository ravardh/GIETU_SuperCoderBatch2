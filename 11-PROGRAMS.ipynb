{
 "cells": [
  {
   "cell_type": "code",
   "execution_count": 1,
   "id": "e578a6d3",
   "metadata": {},
   "outputs": [
    {
     "name": "stdout",
     "output_type": "stream",
     "text": [
      "Enter the range: 8\n",
      "0 1 1 2 3 5 8 13 "
     ]
    }
   ],
   "source": [
    "def fibo(n, list1):\n",
    "    if n <= 1:\n",
    "        return n\n",
    "    if list1[n] == -1:\n",
    "        list1[n] = fibo(n-1, list1) + fibo(n-2, list1)\n",
    "    return list1[n]\n",
    "n = int(input(\"Enter the range: \"))\n",
    "for i in range(1,n+1):\n",
    "    list1 = [-1] * (n + 1)\n",
    "for i in range(n):\n",
    "    print(fibo(i,list1),end=\" \")"
   ]
  },
  {
   "cell_type": "code",
   "execution_count": null,
   "id": "f190100e",
   "metadata": {},
   "outputs": [],
   "source": []
  }
 ],
 "metadata": {
  "kernelspec": {
   "display_name": "Python 3 (ipykernel)",
   "language": "python",
   "name": "python3"
  },
  "language_info": {
   "codemirror_mode": {
    "name": "ipython",
    "version": 3
   },
   "file_extension": ".py",
   "mimetype": "text/x-python",
   "name": "python",
   "nbconvert_exporter": "python",
   "pygments_lexer": "ipython3",
   "version": "3.11.3"
  }
 },
 "nbformat": 4,
 "nbformat_minor": 5
}

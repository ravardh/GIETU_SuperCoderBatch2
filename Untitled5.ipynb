{
 "cells": [
  {
   "cell_type": "code",
   "execution_count": 1,
   "id": "c1eef6fe",
   "metadata": {},
   "outputs": [
    {
     "name": "stdout",
     "output_type": "stream",
     "text": [
      "Height of tree is 3\n"
     ]
    }
   ],
   "source": [
    "#depth of a binry tree\n",
    "\n",
    "class Node:\n",
    "\n",
    "    def __init__(self, data):\n",
    "        self.data = data\n",
    "        self.left = None\n",
    "        self.right = None\n",
    "\n",
    "def maxDepth(node):\n",
    "    if node is None:\n",
    "        return 0\n",
    "\n",
    "    else:\n",
    "\n",
    "        lDepth = maxDepth(node.left)\n",
    "        rDepth = maxDepth(node.right)\n",
    "\n",
    "        if (lDepth > rDepth):\n",
    "            return lDepth+1\n",
    "        else:\n",
    "            return rDepth+1\n",
    "\n",
    "\n",
    "root = Node(1)\n",
    "root.left = Node(2)\n",
    "root.right = Node(3)\n",
    "root.left.left = Node(4)\n",
    "root.left.right = Node(5)\n",
    "\n",
    "\n",
    "print(\"Height of tree is %d\" % (maxDepth(root)))\n",
    "\n"
   ]
  },
  {
   "cell_type": "code",
   "execution_count": 2,
   "id": "447a40bd",
   "metadata": {},
   "outputs": [
    {
     "name": "stdout",
     "output_type": "stream",
     "text": [
      "Depth of the binary tree: 3\n",
      "Leaf nodes:\n",
      "29\n",
      "12\n",
      "15\n",
      "21\n"
     ]
    }
   ],
   "source": [
    "class TreeNode:\n",
    "    def __init__(self, value):\n",
    "        self.value = value\n",
    "        self.left = None\n",
    "        self.right = None\n",
    "\n",
    "def find_depth(node):\n",
    "    if not node:\n",
    "        return 0\n",
    "    else:\n",
    "        left_depth = find_depth(node.left)\n",
    "        right_depth = find_depth(node.right)\n",
    "        return max(left_depth, right_depth) + 1\n",
    "\n",
    "def print_leaf_nodes(node):\n",
    "    if not node:\n",
    "        return\n",
    "    if not node.left and not node.right:\n",
    "        print(node.value)  \n",
    "    print_leaf_nodes(node.left)\n",
    "    print_leaf_nodes(node.right)\n",
    "\n",
    "root = TreeNode(10)\n",
    "root.left = TreeNode(23)\n",
    "root.right = TreeNode(25)\n",
    "root.left.left = TreeNode(29)\n",
    "root.left.right = TreeNode(12)\n",
    "root.right.left = TreeNode(15)\n",
    "root.right.right = TreeNode(21)\n",
    "\n",
    "depth = find_depth(root)\n",
    "print(\"Depth of the binary tree:\", depth)\n",
    "\n",
    "print(\"Leaf nodes:\")\n",
    "print_leaf_nodes(root)\n"
   ]
  },
  {
   "cell_type": "code",
   "execution_count": null,
   "id": "cc5c39aa",
   "metadata": {},
   "outputs": [],
   "source": []
  }
 ],
 "metadata": {
  "kernelspec": {
   "display_name": "Python 3 (ipykernel)",
   "language": "python",
   "name": "python3"
  },
  "language_info": {
   "codemirror_mode": {
    "name": "ipython",
    "version": 3
   },
   "file_extension": ".py",
   "mimetype": "text/x-python",
   "name": "python",
   "nbconvert_exporter": "python",
   "pygments_lexer": "ipython3",
   "version": "3.10.9"
  }
 },
 "nbformat": 4,
 "nbformat_minor": 5
}

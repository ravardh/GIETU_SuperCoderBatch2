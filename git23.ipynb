{
  "nbformat": 4,
  "nbformat_minor": 0,
  "metadata": {
    "colab": {
      "provenance": [],
      "authorship_tag": "ABX9TyNAmfbrMxW6wCTqGf3lEwkv",
      "include_colab_link": true
    },
    "kernelspec": {
      "name": "python3",
      "display_name": "Python 3"
    },
    "language_info": {
      "name": "python"
    }
  },
  "cells": [
    {
      "cell_type": "markdown",
      "metadata": {
        "id": "view-in-github",
        "colab_type": "text"
      },
      "source": [
        "<a href=\"https://colab.research.google.com/github/ravardh/GIETU_SuperCoderBatch2/blob/shrejal_21CSEDS044/git23.ipynb\" target=\"_parent\"><img src=\"https://colab.research.google.com/assets/colab-badge.svg\" alt=\"Open In Colab\"/></a>"
      ]
    },
    {
      "cell_type": "markdown",
      "source": [
        "**KMP ALGO**"
      ],
      "metadata": {
        "id": "WWWGHWEZd4Ww"
      }
    },
    {
      "cell_type": "code",
      "execution_count": null,
      "metadata": {
        "colab": {
          "base_uri": "https://localhost:8080/"
        },
        "id": "kFluchLVdxm9",
        "outputId": "6c75155c-c1be-4e28-ae7a-050a6c234de8"
      },
      "outputs": [
        {
          "output_type": "stream",
          "name": "stdout",
          "text": [
            "Found pattern at index 3\n",
            "Found pattern at index 10\n",
            "Found pattern at index 16\n"
          ]
        }
      ],
      "source": [
        "\n",
        "def KMPSearch(pat, data):\n",
        "\tM = len(pat)\n",
        "\tN = len(data)\n",
        "\n",
        "\tlps = [0]*M\n",
        "\tj = 0\n",
        "\n",
        "\tLPS(pat, M, lps)\n",
        "\n",
        "\ti = 0\n",
        "\twhile (N - i) >= (M - j):\n",
        "\t\tif pat[j] == data[i]:\n",
        "\t\t\ti += 1\n",
        "\t\t\tj += 1\n",
        "\n",
        "\t\tif j == M:\n",
        "\t\t\tprint(\"Found pattern at index \" + str(i-j))\n",
        "\t\t\tj = lps[j-1]\n",
        "\n",
        "\t\telif i < N and pat[j] != data[i]:\n",
        "\t\t\tif j != 0:\n",
        "\t\t\t\tj = lps[j-1]\n",
        "\t\t\telse:\n",
        "\t\t\t\ti += 1\n",
        "\n",
        "\n",
        "\n",
        "def LPS(pat, M, lps):\n",
        "\tlen = 0\n",
        "\n",
        "\tlps[0] = 0\n",
        "\ti = 1\n",
        "\n",
        "\n",
        "\twhile i < M:\n",
        "\t\tif pat[i] == pat[len]:\n",
        "\t\t\tlen += 1\n",
        "\t\t\tlps[i] = len\n",
        "\t\t\ti += 1\n",
        "\t\telse:\n",
        "\t\t\tif len != 0:\n",
        "\t\t\t\tlen = lps[len-1]\n",
        "\t\t\telse:\n",
        "\t\t\t\tlps[i] = 0\n",
        "\t\t\t\ti += 1\n",
        "\n",
        "\n",
        "\n",
        "if __name__ == '__main__':\n",
        "\tdata = \"ABAABABCABABABCAABABCABAC\"\n",
        "\tpat = \"ABABC\"\n",
        "\tKMPSearch(pat, data)"
      ]
    },
    {
      "cell_type": "code",
      "source": [
        "class Node:\n",
        "\tdef __init__(self, data):\n",
        "\t\tself.data = data\n",
        "\t\tself.next = None\n",
        "newNode=node(1)\n",
        "start=newNode\n",
        "start.next=node(2)\n",
        "start.next.next=node(3)\n",
        "\n",
        "\n"
      ],
      "metadata": {
        "id": "YZstzW6uhAm_"
      },
      "execution_count": 4,
      "outputs": []
    },
    {
      "cell_type": "code",
      "source": [
        "def insertAtBegin(self, data):\n",
        "\tnew_node = Node(data)\n",
        "\tif self.head is None:\n",
        "\t\tself.head = new_node\n",
        "\t\treturn\n",
        "\telse:\n",
        "\t\tnew_node.next = self.head\n",
        "\t\tself.head = new_node\n"
      ],
      "metadata": {
        "id": "ocqXomDnxceI"
      },
      "execution_count": 5,
      "outputs": []
    },
    {
      "cell_type": "markdown",
      "source": [
        "**INSERTION AT A SPECIFIC POSITION**"
      ],
      "metadata": {
        "id": "1lc7R_qmxvei"
      }
    },
    {
      "cell_type": "code",
      "source": [
        "\n",
        "def insertAtIndex(self, data, index):\n",
        "\t\tnew_node = Node(data)\n",
        "\t\tcurrent_node = self.head\n",
        "\t\tposition = 5\n",
        "\t\tif position == index:\n",
        "\t\t\tself.insertAtBegin(data)\n",
        "\t\telse:\n",
        "\t\t\twhile(current_node != None and position+1 != index):\n",
        "\t\t\t\tposition = position+1\n",
        "\t\t\t\tcurrent_node = current_node.next\n",
        "\n",
        "\t\t\tif current_node != None:\n",
        "\n",
        "\t\t\t\tnew_node.next = current_node.next\n",
        "\t\t\t\tcurrent_node.next = new_node\n",
        "\t\t\telse:\n",
        "\t\t\t\tprint(\"Index not present\")\n"
      ],
      "metadata": {
        "id": "3gT3IQUkxkFp"
      },
      "execution_count": 7,
      "outputs": []
    },
    {
      "cell_type": "markdown",
      "source": [
        "**INSERTION AT END**"
      ],
      "metadata": {
        "id": "IxpCX2EJx3KX"
      }
    },
    {
      "cell_type": "code",
      "source": [
        "from typing_extensions import dataclass_transform\n",
        "def inserAtEnd(self, data):\n",
        "\tnew_node = Node(data)\n",
        "\tif self.head is None:\n",
        "\t\tself.head = new_node\n",
        "\t\treturn\n",
        "\n",
        "\tcurrent_node = self.head\n",
        "\twhile(current_node.next):\n",
        "\t\tcurrent_node = current_node.next\n",
        "\n",
        "\tcurrent_node.next = new_node\n",
        "\n",
        "\n",
        "\n"
      ],
      "metadata": {
        "colab": {
          "base_uri": "https://localhost:8080/"
        },
        "id": "rAwOYl4oyAoE",
        "outputId": "d97a5eb6-df34-4cdc-a0f6-02658353e799"
      },
      "execution_count": 13,
      "outputs": [
        {
          "output_type": "stream",
          "name": "stdout",
          "text": [
            "ABAABABCABABABCAABABCABAC\n"
          ]
        }
      ]
    },
    {
      "cell_type": "code",
      "source": [
        "#LINK LIST\n",
        "\n",
        "class node:\n",
        "    def __init__(self,data=None):\n",
        "        self.data=data\n",
        "        self.next=None\n",
        "newNode = node(1)\n",
        "start = newNode\n",
        "\n",
        "start.next= node(2)\n",
        "start.next.next= node(3)\n",
        "start.next.next.next= node(4)\n",
        "start.next.next.next.next= node(5)\n",
        "\n",
        "temp = start\n",
        "print(temp)\n",
        "while temp:\n",
        "    print(temp.data)\n",
        "    temp=temp.next\n",
        "    print(temp)\n",
        "\n",
        "\n",
        "n1=node(0)\n",
        "n1.next=start\n",
        "start=n1\n",
        "print(\"Node added into begining\")\n",
        "\n",
        "temp = start\n",
        "print(temp)\n",
        "while temp:\n",
        "    print(temp.data)\n",
        "    temp=temp.next\n",
        "    print(temp)\n",
        "\n",
        "\n",
        "\n",
        "n2=node(6)\n",
        "temp=start\n",
        "while temp.next:\n",
        "    temp=temp.next\n",
        "temp.next=n2\n",
        "print(\"Node added into End\")\n",
        "\n",
        "temp = start\n",
        "print(temp)\n",
        "while temp:\n",
        "    print(temp.data)\n",
        "    temp=temp.next\n",
        "    print(temp)"
      ],
      "metadata": {
        "colab": {
          "base_uri": "https://localhost:8080/"
        },
        "id": "lZSVYftU2vYw",
        "outputId": "e9e5b3eb-27cc-42c6-da56-fda2b3e547f6"
      },
      "execution_count": 17,
      "outputs": [
        {
          "output_type": "stream",
          "name": "stdout",
          "text": [
            "<__main__.node object at 0x789eaa34a800>\n",
            "1\n",
            "<__main__.node object at 0x789eaa34aa70>\n",
            "2\n",
            "<__main__.node object at 0x789eaa3490f0>\n",
            "3\n",
            "<__main__.node object at 0x789eaa34ba90>\n",
            "4\n",
            "<__main__.node object at 0x789eaa34bb80>\n",
            "5\n",
            "None\n",
            "Node added into begining\n",
            "<__main__.node object at 0x789eaa349bd0>\n",
            "0\n",
            "<__main__.node object at 0x789eaa34a800>\n",
            "1\n",
            "<__main__.node object at 0x789eaa34aa70>\n",
            "2\n",
            "<__main__.node object at 0x789eaa3490f0>\n",
            "3\n",
            "<__main__.node object at 0x789eaa34ba90>\n",
            "4\n",
            "<__main__.node object at 0x789eaa34bb80>\n",
            "5\n",
            "None\n",
            "Node added into End\n",
            "<__main__.node object at 0x789eaa349bd0>\n",
            "0\n",
            "<__main__.node object at 0x789eaa34a800>\n",
            "1\n",
            "<__main__.node object at 0x789eaa34aa70>\n",
            "2\n",
            "<__main__.node object at 0x789eaa3490f0>\n",
            "3\n",
            "<__main__.node object at 0x789eaa34ba90>\n",
            "4\n",
            "<__main__.node object at 0x789eaa34bb80>\n",
            "5\n",
            "<__main__.node object at 0x789ed2b0cf70>\n",
            "6\n",
            "None\n"
          ]
        }
      ]
    },
    {
      "cell_type": "code",
      "source": [
        "def recur_factorial(n):\n",
        "   if n == 1:\n",
        "       return n\n",
        "   else:\n",
        "       return n*recur_factorial(n-1)\n",
        "num = 7\n",
        "if num < 0:\n",
        "   print(\"Sorry, factorial does not exist for negative numbers\")\n",
        "elif num == 0:\n",
        "   print(\"The factorial of 0 is 1\")\n",
        "else:\n",
        "   print(\"The factorial of\", num, \"is\", recur_factorial(num))\n"
      ],
      "metadata": {
        "colab": {
          "base_uri": "https://localhost:8080/"
        },
        "id": "3pcGdIZD9fwa",
        "outputId": "81782c04-1d85-4474-d30c-1933eeb9d732"
      },
      "execution_count": 18,
      "outputs": [
        {
          "output_type": "stream",
          "name": "stdout",
          "text": [
            "The factorial of 7 is 5040\n"
          ]
        }
      ]
    },
    {
      "cell_type": "code",
      "source": [
        "def pow_recursive(x, n):\n",
        "    if n == 0:\n",
        "        return 1\n",
        "    elif n < 0:\n",
        "        return 1 / pow_recursive(x, -n)\n",
        "    elif n % 2 == 0:\n",
        "        temp = pow_recursive(x, n // 2)\n",
        "        return temp * temp\n",
        "\n",
        "    else:\n",
        "        return x * pow_recursive(x, n - 1)\n",
        "\n",
        "x = 2\n",
        "n = 5\n",
        "print(pow_recursive(x, n))"
      ],
      "metadata": {
        "colab": {
          "base_uri": "https://localhost:8080/"
        },
        "id": "HtPsAuDp-6zY",
        "outputId": "c98aa8a3-e0a3-4eb9-bb7a-7b62aa549914"
      },
      "execution_count": 19,
      "outputs": [
        {
          "output_type": "stream",
          "name": "stdout",
          "text": [
            "32\n"
          ]
        }
      ]
    }
  ]
}
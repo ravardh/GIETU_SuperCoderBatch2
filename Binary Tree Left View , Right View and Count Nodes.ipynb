{
 "cells": [
  {
   "cell_type": "markdown",
   "id": "a2c72bbc",
   "metadata": {},
   "source": [
    "# Count total number of nodes "
   ]
  },
  {
   "cell_type": "code",
   "execution_count": 5,
   "id": "cd401b6b",
   "metadata": {},
   "outputs": [
    {
     "name": "stdout",
     "output_type": "stream",
     "text": [
      "Total number of nodes =  16\n"
     ]
    }
   ],
   "source": [
    "class node:\n",
    "    def __init__(self,data=None):\n",
    "        self.data = data\n",
    "        self.left = None\n",
    "        self.right = None\n",
    "\n",
    "def count(root):\n",
    "    if root == None:\n",
    "        return 0\n",
    "    else:\n",
    "        return 1 + count(root.left) + count(root.right)\n",
    "root=node(1)\n",
    "root.left=node(2)\n",
    "root.right=node(4)\n",
    "root.left.left=node(19)\n",
    "root.left.right=node(14)\n",
    "root.right.left=node(6)\n",
    "root.right.right=node(12)\n",
    "root.left.right.left=node(9)\n",
    "root.left.right.right=node(5)\n",
    "root.left.right.left.right=node(10)\n",
    "root.right.left.right=node(16)\n",
    "root.right.right.left=node(8)\n",
    "root.right.right.right=node(11)\n",
    "root.right.right.left.left=node(15)\n",
    "root.right.right.right.left=node(17)\n",
    "root.right.right.right.right=node(20)\n",
    "\n",
    "print(\"Total number of nodes = \",count(root))"
   ]
  },
  {
   "cell_type": "markdown",
   "id": "85827bf5",
   "metadata": {},
   "source": [
    "# Binary tree Left View"
   ]
  },
  {
   "cell_type": "code",
   "execution_count": 7,
   "id": "4b872fb0",
   "metadata": {},
   "outputs": [
    {
     "name": "stdout",
     "output_type": "stream",
     "text": [
      "1\n",
      "5\n",
      "2\n",
      "20\n",
      "10\n",
      "21\n",
      "15\n"
     ]
    }
   ],
   "source": [
    "class node:\n",
    "    def __init__(self,data=None):\n",
    "        self.data = data\n",
    "        self.left = None\n",
    "        self.right = None\n",
    "\n",
    "root=node(1)\n",
    "root.left=node(5)\n",
    "root.right=node(7)\n",
    "root.left.left=node(2)\n",
    "root.left.right=node(4)\n",
    "root.right.right=node(17)\n",
    "root.left.left.left=node(20)\n",
    "root.left.right.left=node(11)\n",
    "root.left.right.right=node(3)\n",
    "root.right.right.left=node(12)\n",
    "root.right.right.right=node(16)\n",
    "root.left.left.left.right=node(10)\n",
    "root.right.right.left.left=node(14)\n",
    "root.right.right.left.right=node(19)\n",
    "root.left.left.left.right.left=node(21)\n",
    "root.right.right.left.right.right=node(18)\n",
    "root.right.right.left.right.right.right=node(15)\n",
    "\n",
    "\n",
    "\n",
    "L =[0]\n",
    "def leftView(root,value,L):\n",
    "    if root == None:\n",
    "        return \n",
    "    cl = value\n",
    "    if(L[0]<cl):\n",
    "        print(root.data)\n",
    "        L[0] = cl\n",
    "    leftView(root.left,cl+1,L)\n",
    "    leftView(root.right,cl+1,L)\n",
    "    \n",
    "leftView(root,1,L)"
   ]
  },
  {
   "cell_type": "markdown",
   "id": "f95c3919",
   "metadata": {},
   "source": [
    "# Binary tree Right View"
   ]
  },
  {
   "cell_type": "code",
   "execution_count": 10,
   "id": "9ee0521c",
   "metadata": {},
   "outputs": [
    {
     "name": "stdout",
     "output_type": "stream",
     "text": [
      "1\n",
      "7\n",
      "17\n",
      "16\n",
      "19\n",
      "18\n",
      "15\n"
     ]
    }
   ],
   "source": [
    "class node:\n",
    "    def __init__(self,data=None):\n",
    "        self.data = data\n",
    "        self.left = None\n",
    "        self.right = None\n",
    "\n",
    "root=node(1)\n",
    "root.left=node(5)\n",
    "root.right=node(7)\n",
    "root.left.left=node(2)\n",
    "root.left.right=node(4)\n",
    "root.right.right=node(17)\n",
    "root.left.left.left=node(20)\n",
    "root.left.right.left=node(11)\n",
    "root.left.right.right=node(3)\n",
    "root.right.right.left=node(12)\n",
    "root.right.right.right=node(16)\n",
    "root.left.left.left.right=node(10)\n",
    "root.right.right.left.left=node(14)\n",
    "root.right.right.left.right=node(19)\n",
    "root.left.left.left.right.left=node(21)\n",
    "root.right.right.left.right.right=node(18)\n",
    "root.right.right.left.right.right.right=node(15)\n",
    "\n",
    "\n",
    "\n",
    "L =[0]\n",
    "def rightView(root,value,L):\n",
    "    if root == None:\n",
    "        return \n",
    "    cl = value\n",
    "    if(L[0]<cl):\n",
    "        print(root.data)\n",
    "        L[0] = cl\n",
    "    rightView(root.right,cl+1,L)\n",
    "    rightView(root.left,cl+1,L)\n",
    "    \n",
    "rightView(root,1,L)"
   ]
  },
  {
   "cell_type": "code",
   "execution_count": null,
   "id": "5e63b3dd",
   "metadata": {},
   "outputs": [],
   "source": []
  }
 ],
 "metadata": {
  "kernelspec": {
   "display_name": "Python 3 (ipykernel)",
   "language": "python",
   "name": "python3"
  },
  "language_info": {
   "codemirror_mode": {
    "name": "ipython",
    "version": 3
   },
   "file_extension": ".py",
   "mimetype": "text/x-python",
   "name": "python",
   "nbconvert_exporter": "python",
   "pygments_lexer": "ipython3",
   "version": "3.11.3"
  }
 },
 "nbformat": 4,
 "nbformat_minor": 5
}

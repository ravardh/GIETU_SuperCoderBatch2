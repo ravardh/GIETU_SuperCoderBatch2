{
 "cells": [
  {
   "cell_type": "code",
   "execution_count": 2,
   "id": "10ca8864",
   "metadata": {},
   "outputs": [
    {
     "name": "stdout",
     "output_type": "stream",
     "text": [
      "height of the binary tree is: 4\n"
     ]
    }
   ],
   "source": [
    "class node:\n",
    "    def __init__(self,value=None):\n",
    "        self.left = None\n",
    "        self.right = None\n",
    "        self.value = value\n",
    "\n",
    "def height(root):\n",
    "    if root == None:\n",
    "        return 0\n",
    "    \n",
    "    left_height = height(root.left)\n",
    "    right_height = height(root.right)\n",
    "\n",
    "    return max(left_height , right_height) + 1\n",
    "\n",
    "root = node(1)\n",
    "root.left = node(2)\n",
    "root.right = node(3)\n",
    "root.left.left = node(4)\n",
    "root.left.right = node(5)\n",
    "root.left.left.left = node(6)\n",
    "root.right.left = node(7)\n",
    "root.right.right = node(8)\n",
    "root.right.right.left = node(9)\n",
    "root.right.right.right= node(10)\n",
    "root.right.right.left = node(11)\n",
    "\n",
    "\n",
    "height_of_BT = height(root)\n",
    "print(\"height of the binary tree is:\", height_of_BT)"
   ]
  },
  {
   "cell_type": "code",
   "execution_count": 3,
   "id": "7771c620",
   "metadata": {},
   "outputs": [
    {
     "name": "stdout",
     "output_type": "stream",
     "text": [
      "9\n",
      "10\n",
      "5\n",
      "7\n",
      "11\n"
     ]
    }
   ],
   "source": [
    "class node:\n",
    "    def __init__(self,value=None):\n",
    "        self.left = None\n",
    "        self.right = None\n",
    "        self.value = value\n",
    "\n",
    "def printleafnodes(root):\n",
    "    if root is None:\n",
    "        return\n",
    "\n",
    "    if root.left is None and root.right is None:\n",
    "        print(root.value)\n",
    "\n",
    "    printleafnodes(root.left)\n",
    "    printleafnodes(root.right)\n",
    "\n",
    "root = node(1)\n",
    "root.left = node(2)\n",
    "root.right = node(3)\n",
    "root.left.left = node(4)\n",
    "root.left.right = node(5)\n",
    "root.left.left.left = node(6)\n",
    "root.right.left = node(7)\n",
    "root.right.right = node(8)\n",
    "root.left.left.left = node(9)\n",
    "root.left.left.right = node(10)\n",
    "root.right.right.right = node(11)\n",
    "\n",
    "#heightof_BT = height(root)\n",
    "#print(\"height of BT IS :\" ,heightof_BT)\n",
    "\n",
    "printleafnodes(root)\n",
    "\n",
    "\n",
    "\n"
   ]
  },
  {
   "cell_type": "code",
   "execution_count": 6,
   "id": "b1ed5caa",
   "metadata": {},
   "outputs": [
    {
     "name": "stdout",
     "output_type": "stream",
     "text": [
      "The top view of the tree is: \n",
      "2 1 3 6 "
     ]
    }
   ],
   "source": [
    "class newNode:\n",
    " \n",
    "    def __init__(self, key):\n",
    "        self.data = key\n",
    "        self.left = None\n",
    "        self.right = None\n",
    "        self.hd = 0\n",
    " \n",
    "def topview(root):\n",
    " \n",
    "    if(root == None):\n",
    "        return\n",
    "    q = []\n",
    "    m = dict()\n",
    "    hd = 0\n",
    "    root.hd = hd\n",
    " \n",
    "    q.append(root)\n",
    " \n",
    "    while(len(q)):\n",
    "        root = q[0]\n",
    "        hd = root.hd\n",
    " \n",
    "        if hd not in m:\n",
    "            m[hd] = root.data\n",
    "        if(root.left):\n",
    "            root.left.hd = hd - 1\n",
    "            q.append(root.left)\n",
    " \n",
    "        if(root.right):\n",
    "            root.right.hd = hd + 1\n",
    "            q.append(root.right)\n",
    " \n",
    "        q.pop(0)\n",
    "    for i in sorted(m):\n",
    "        print(m[i], end=\" \")\n",
    " \n",
    "if __name__ == '__main__':\n",
    " \n",
    "    root = newNode(1)\n",
    "    root.left = newNode(2)\n",
    "    root.right = newNode(3)\n",
    "    root.left.right = newNode(4)\n",
    "    root.left.right.right = newNode(5)\n",
    "    root.left.right.right.right = newNode(6)\n",
    "    print(\"The top view of the tree is: \")\n",
    "    topview(root)"
   ]
  },
  {
   "cell_type": "code",
   "execution_count": 5,
   "id": "db117378",
   "metadata": {},
   "outputs": [
    {
     "name": "stdout",
     "output_type": "stream",
     "text": [
      "The bottom view of the tree is: \n",
      "2 4 5 6 "
     ]
    }
   ],
   "source": [
    "class newNode:\n",
    " \n",
    "    def __init__(self, key):\n",
    "        self.data = key\n",
    "        self.left = None\n",
    "        self.right = None\n",
    "        self.hd = 0\n",
    " \n",
    "# function should print the bottomView\n",
    "# of the binary tree\n",
    " \n",
    " \n",
    "def bottomview(root):\n",
    " \n",
    "    if(root == None):\n",
    "        return\n",
    "    q = []\n",
    "    m = dict()\n",
    "    hd = 0\n",
    "    root.hd = hd\n",
    "\n",
    "    q.append(root)\n",
    " \n",
    "    while(len(q)):\n",
    "        root = q[0]\n",
    "        hd = root.hd\n",
    " \n",
    "        m[hd] = root.data\n",
    "        if(root.left):\n",
    "            root.left.hd = hd - 1\n",
    "            q.append(root.left)\n",
    " \n",
    "        if(root.right):\n",
    "            root.right.hd = hd + 1\n",
    "            q.append(root.right)\n",
    " \n",
    "        q.pop(0)\n",
    "    for i in sorted(m):\n",
    "        print(m[i], end=\" \")\n",
    " \n",
    "if __name__ == '__main__':\n",
    " \n",
    "\n",
    "    root = newNode(1)\n",
    "    root.left = newNode(2)\n",
    "    root.right = newNode(3)\n",
    "    root.left.right = newNode(4)\n",
    "    root.left.right.right = newNode(5)\n",
    "    root.left.right.right.right = newNode(6)\n",
    "    print(\"The bottom view of the tree is: \")\n",
    "    bottomview(root)\n"
   ]
  },
  {
   "cell_type": "code",
   "execution_count": null,
   "id": "da9a8832",
   "metadata": {},
   "outputs": [],
   "source": []
  }
 ],
 "metadata": {
  "kernelspec": {
   "display_name": "Python 3 (ipykernel)",
   "language": "python",
   "name": "python3"
  },
  "language_info": {
   "codemirror_mode": {
    "name": "ipython",
    "version": 3
   },
   "file_extension": ".py",
   "mimetype": "text/x-python",
   "name": "python",
   "nbconvert_exporter": "python",
   "pygments_lexer": "ipython3",
   "version": "3.11.5"
  }
 },
 "nbformat": 4,
 "nbformat_minor": 5
}

{
  "nbformat": 4,
  "nbformat_minor": 0,
  "metadata": {
    "colab": {
      "provenance": [],
      "authorship_tag": "ABX9TyOhJg0WomktaLih7F6HexeG",
      "include_colab_link": true
    },
    "kernelspec": {
      "name": "python3",
      "display_name": "Python 3"
    },
    "language_info": {
      "name": "python"
    }
  },
  "cells": [
    {
      "cell_type": "markdown",
      "metadata": {
        "id": "view-in-github",
        "colab_type": "text"
      },
      "source": [
        "<a href=\"https://colab.research.google.com/github/ravardh/GIETU_SuperCoderBatch2/blob/Kundan_21cse046/Bell_Man_Ford.ipynb\" target=\"_parent\"><img src=\"https://colab.research.google.com/assets/colab-badge.svg\" alt=\"Open In Colab\"/></a>"
      ]
    },
    {
      "cell_type": "code",
      "source": [
        "def bellman_ford(graph, start):\n",
        "    distances = {node: float('inf') for node in graph}\n",
        "    distances[start] = 0\n",
        "\n",
        "    for _ in range(len(graph) - 1):\n",
        "        for node in graph:\n",
        "            for start, weight in graph[node]:\n",
        "                if distances[node] + weight < distances[start]:\n",
        "                    distances[start] = distances[node] + weight\n",
        "\n",
        "    for node in graph:\n",
        "        for start, weight in graph[node]:\n",
        "            if distances[node] + weight < distances[start]:\n",
        "                print(\"Graph contains negative cycle\")\n",
        "                return\n",
        "\n",
        "    return distances\n",
        "\n",
        "graph = {\n",
        "    1: [(2, 6), (3, 5), (4, 5)],\n",
        "    2: [(5, -1)],\n",
        "    3: [(2, -2)],\n",
        "    4: [(3, -2), (6, -1)],\n",
        "    5: [(7, 3)],\n",
        "    6: [(7, 3)],\n",
        "    7: []\n",
        "}\n",
        "\n",
        "start_node=int(input(\"enter the  starting node\"))\n",
        "distances = bellman_ford(graph, start_node)\n",
        "\n",
        "print(\"Minimum distances from node\", start_node, \":\")\n",
        "for node, distance in distances.items():\n",
        "    print(\"Node:\", node, \"Distance:\", distance)\n"
      ],
      "metadata": {
        "colab": {
          "base_uri": "https://localhost:8080/"
        },
        "id": "1CSrCCmH7ZQG",
        "outputId": "337e0869-09d6-4506-832c-46aaae6c6307"
      },
      "execution_count": 26,
      "outputs": [
        {
          "output_type": "stream",
          "name": "stdout",
          "text": [
            "enter the  starting node1\n",
            "Minimum distances from node 1 :\n",
            "Node: 1 Distance: 0\n",
            "Node: 2 Distance: 1\n",
            "Node: 3 Distance: 3\n",
            "Node: 4 Distance: 5\n",
            "Node: 5 Distance: 0\n",
            "Node: 6 Distance: 4\n",
            "Node: 7 Distance: 3\n"
          ]
        }
      ]
    }
  ]
}
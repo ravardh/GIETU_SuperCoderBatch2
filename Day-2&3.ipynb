{
 "cells": [
  {
   "cell_type": "code",
   "execution_count": null,
   "id": "721d290c-b742-4176-8f99-8a551bd2f690",
   "metadata": {},
   "outputs": [],
   "source": [
    "#Calculator design\n",
    "import math\n",
    "def calculator(Symbol,First_number,Second_number):\n",
    "    match Symbol:\n",
    "        case '+':\n",
    "            return First_number+Second_number\n",
    "        case '-':\n",
    "            return First_number-Second_number\n",
    "        case '*':\n",
    "            return First_number*Second_number\n",
    "        case '/':\n",
    "            if Second_number!=0:\n",
    "                return First_number/Second_number\n",
    "            else:\n",
    "                return \"Not Divisible by zero!\"\n",
    "        case '%':\n",
    "            if Second_number!=0:\n",
    "                return First_number%Second_number\n",
    "            else:\n",
    "                return \"Not Modulo by zero!\"\n",
    "        case '**':\n",
    "            return First_number ** Second_number\n",
    "        case 'sqrt':\n",
    "            return math.sqrt(First_number)\n",
    "        case _:\n",
    "            return \"Invalid symbol!\"\n",
    "\n",
    "Symbol=input(\"Enter Symbol (+,-,*,/,%,**,sqrt): \")\n",
    "First_number=float(input(\"Enter First Number: \"))\n",
    "Second_number=float(input(\"Enter Second Number: \"))\n",
    "\n",
    "result=calculator(Symbol, First_number, Second_number)\n",
    "print(\"Result:\",result)"
   ]
  },
  {
   "cell_type": "code",
   "execution_count": null,
   "id": "52235d2a-5eb0-4758-a5d1-950c747bf60e",
   "metadata": {},
   "outputs": [],
   "source": [
    "#Bubble sort\n",
    "def bubbleSort(arr):\n",
    "    n=len(arr)\n",
    "    swapped=False\n",
    "    for i in range(n-1):\n",
    "        for j in range(0,n-i-1):\n",
    "            if arr[j]> arr[j+1]:\n",
    "                swapped=True\n",
    "                arr[j],arr[j+1]=arr[j+1],arr[j]\n",
    "        if not swapped:\n",
    "            return\n",
    "arr= list(map(int,input(\"Enter the elements: \").split()))\n",
    "bubbleSort(arr)\n",
    "print(\"Sorted array: \")\n",
    "for i in range(len(arr)):\n",
    "    print(\"%d\" % arr[i],end=\" \")"
   ]
  },
  {
   "cell_type": "code",
   "execution_count": null,
   "id": "057eab56-34e1-4ea3-9ffe-ef8ba6257187",
   "metadata": {},
   "outputs": [],
   "source": [
    "#Insertion Sort\n",
    "def insertionSort(arr):\n",
    "    n=len(arr)\n",
    "    if n<=1:\n",
    "        return\n",
    "    for i in range(1,n):\n",
    "        key=arr[i]\n",
    "        j=i-1\n",
    "        while j>=0 and key<arr[j]:\n",
    "            arr[j+1]=arr[j]\n",
    "            j-=1\n",
    "        arr[j+1]=key\n",
    "\n",
    "input_string =input(\"Enter the elements: \")\n",
    "arr=list(map(int,input_string.split()))\n",
    "insertionSort(arr)\n",
    "print(\"Sorted array:\",arr)"
   ]
  },
  {
   "cell_type": "code",
   "execution_count": null,
   "id": "023a5bb3-b550-4392-bf8e-8347a61652b7",
   "metadata": {},
   "outputs": [],
   "source": [
    "#selection sort\n",
    "def selectionSort(array,size):\n",
    "    for i in range(size):\n",
    "        min_index =i\n",
    "        for j in range(i+1,size):\n",
    "            if array[j]<array[min_index]:\n",
    "                min_index=j\n",
    "        (array[i],array[min_index])=(array[min_index],array[i])\n",
    "arr = list(map(int, input(\"Enter the elements: \").split()))\n",
    "size = len(arr)\n",
    "selectionSort(arr,size)\n",
    "print('sort is:')\n",
    "print(arr)"
   ]
  }
 ],
 "metadata": {
  "kernelspec": {
   "display_name": "Python 3 (ipykernel)",
   "language": "python",
   "name": "python3"
  },
  "language_info": {
   "codemirror_mode": {
    "name": "ipython",
    "version": 3
   },
   "file_extension": ".py",
   "mimetype": "text/x-python",
   "name": "python",
   "nbconvert_exporter": "python",
   "pygments_lexer": "ipython3",
   "version": "3.10.9"
  }
 },
 "nbformat": 4,
 "nbformat_minor": 5
}

{
 "cells": [
  {
   "cell_type": "code",
   "execution_count": 1,
   "id": "87df33cb",
   "metadata": {},
   "outputs": [
    {
     "name": "stdout",
     "output_type": "stream",
     "text": [
      "50\n",
      "30\n",
      "20\n",
      "40\n",
      "70\n",
      "60\n",
      "80\n"
     ]
    }
   ],
   "source": [
    "#BINARY SEARCH IN BST(BINARY SEARCH TREE (TC=LOG(N)))\n",
    "#BALANCED BINARY SEARCG TREE IS KNOWN AS AVL TREE\n",
    "# RULE OF AVS:-WHILE CREATING THE TREE THE TC SHOULS NOT BE MORE THAN LOG(N)\n",
    "#RR LL RL LR\n",
    "\n",
    "\n",
    "\n",
    "#binary search tree (insertion)\n",
    "class node:\n",
    "    def __init__(self,data):\n",
    "        self.data=data\n",
    "        self.left=None\n",
    "        self.right=None\n",
    "        \n",
    "def insert(root,data):\n",
    "    if root==None:\n",
    "        return node(data)\n",
    "    elif data<root.data:\n",
    "        root.left=insert(root.left,data)\n",
    "    else:\n",
    "        root.right=insert(root,right,data)\n",
    "    return root\n",
    "\n",
    "def pre_order(root):\n",
    "    if root==None:\n",
    "        return \n",
    "    else:\n",
    "        print(root.data)\n",
    "        pre_order(root.left)\n",
    "        pre_order(root.right)\n",
    "    return root\n",
    "\n",
    "if __name__==\"main\":\n",
    "    root=None\n",
    "    root=insert(root,50)\n",
    "    insert(root,30)\n",
    "    insert(root,70)\n",
    "    insert(root,20)\n",
    "    insert(root,40)\n",
    "    insert(root,60)\n",
    "    insert(root,80)\n",
    "    pre_order(root)"
   ]
  },
  {
   "cell_type": "code",
   "execution_count": null,
   "id": "1a32a5f8",
   "metadata": {},
   "outputs": [],
   "source": []
  }
 ],
 "metadata": {
  "kernelspec": {
   "display_name": "Python 3 (ipykernel)",
   "language": "python",
   "name": "python3"
  },
  "language_info": {
   "codemirror_mode": {
    "name": "ipython",
    "version": 3
   },
   "file_extension": ".py",
   "mimetype": "text/x-python",
   "name": "python",
   "nbconvert_exporter": "python",
   "pygments_lexer": "ipython3",
   "version": "3.11.3"
  }
 },
 "nbformat": 4,
 "nbformat_minor": 5
}

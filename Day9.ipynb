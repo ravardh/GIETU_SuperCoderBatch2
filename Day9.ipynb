{
  "nbformat": 4,
  "nbformat_minor": 0,
  "metadata": {
    "colab": {
      "provenance": []
    },
    "kernelspec": {
      "name": "python3",
      "display_name": "Python 3"
    },
    "language_info": {
      "name": "python"
    }
  },
  "cells": [
    {
      "cell_type": "code",
      "execution_count": 2,
      "metadata": {
        "colab": {
          "base_uri": "https://localhost:8080/"
        },
        "id": "mcZO0yN_tN0o",
        "outputId": "bdb2af25-8502-4da9-c212-a1a75efdfbf4"
      },
      "outputs": [
        {
          "output_type": "stream",
          "name": "stdout",
          "text": [
            "[<__main__.edge object at 0x78fbd8330b50>]\n"
          ]
        }
      ],
      "source": [
        "class edge:\n",
        "  def __init__(self,start,dest):\n",
        "    self.start=start\n",
        "    self.dest=dest\n",
        "AL=[ ]\n",
        "AL.append(edge(1,2))\n",
        "print(AL)"
      ]
    },
    {
      "cell_type": "code",
      "source": [
        "v = 9\n",
        "graph = [[] for _ in range(v)]\n",
        "\n",
        "def creategraph(graph, start, end, weight):\n",
        "    graph[start - 1].append((start, end, weight))\n",
        "\n",
        "creategraph(graph, 1, 2, 4)\n",
        "creategraph(graph, 1, 3, 1)\n",
        "creategraph(graph, 1, 5, 3)\n",
        "creategraph(graph, 2, 1, 2)\n",
        "creategraph(graph, 2, 4, 8)\n",
        "creategraph(graph, 3, 1, 1)\n",
        "creategraph(graph, 3, 9, 1)\n",
        "creategraph(graph, 4, 2, 2)\n",
        "creategraph(graph, 4, 6, 2)\n",
        "creategraph(graph, 4, 5, 1)\\\n",
        "creategraph(graph, 5, 1, 6)\n",
        "creategraph(graph, 5, 4, 3)\n",
        "creategraph(graph, 5, 9, 2)\n",
        "creategraph(graph, 5, 8, 5)\n",
        "creategraph(graph, 5, 7, 2)\n",
        "creategraph(graph, 6, 4, 1)\n",
        "creategraph(graph, 6, 7, 3)\n",
        "creategraph(graph, 7, 6, 1)\n",
        "creategraph(graph, 7, 5, 2)\n",
        "creategraph(graph, 8, 5, 2)\n",
        "creategraph(graph, 9, 8, 5)\n",
        "creategraph(graph, 9, 5, 3)\n",
        "\n",
        "print(graph)\n"
      ],
      "metadata": {
        "colab": {
          "base_uri": "https://localhost:8080/"
        },
        "id": "LXi6-UOHFT6V",
        "outputId": "9fc2cffa-3ff8-482f-ecac-c36a0b3d15fe"
      },
      "execution_count": 12,
      "outputs": [
        {
          "output_type": "stream",
          "name": "stdout",
          "text": [
            "[[(1, 2, 4), (1, 3, 1), (1, 5, 3)], [(2, 1, 2), (2, 4, 8)], [(3, 1, 1), (3, 9, 1)], [(4, 2, 2), (4, 6, 2), (4, 5, 1)], [(5, 1, 6), (5, 4, 3), (5, 9, 2), (5, 8, 5), (5, 7, 2)], [(6, 4, 1), (6, 7, 3)], [(7, 6, 1), (7, 5, 2)], [(8, 5, 2)], [(9, 8, 5), (9, 5, 3)]]\n"
          ]
        }
      ]
    },
    {
      "cell_type": "code",
      "source": [
        "\n"
      ],
      "metadata": {
        "id": "u18fh1BJF_Iu"
      },
      "execution_count": null,
      "outputs": []
    },
    {
      "cell_type": "code",
      "source": [],
      "metadata": {
        "id": "Ue9hAoCm-84e"
      },
      "execution_count": null,
      "outputs": []
    }
  ]
}
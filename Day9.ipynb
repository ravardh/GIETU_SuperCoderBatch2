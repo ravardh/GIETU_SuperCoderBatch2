{
  "nbformat": 4,
  "nbformat_minor": 0,
  "metadata": {
    "colab": {
      "provenance": []
    },
    "kernelspec": {
      "name": "python3",
      "display_name": "Python 3"
    },
    "language_info": {
      "name": "python"
    }
  },
  "cells": [
    {
      "cell_type": "markdown",
      "source": [
        "GRAPH"
      ],
      "metadata": {
        "id": "kuiwgZfuufWo"
      }
    },
    {
      "cell_type": "code",
      "source": [
        "# class edge:\n",
        "#   def __init__(self,start,dest):\n",
        "#     self.start=start\n",
        "#     self.dest=dest\n",
        "#   def __show__(self,list):\n",
        "#     print(self.start,\",\",self.dest)\n",
        "def List(start,dest):\n",
        "\n",
        "  return [start,dest]\n",
        "\n",
        "AdList=[]\n",
        "# e=edge()\n",
        "AdList.append(List(1,2))\n",
        "print(AdList)"
      ],
      "metadata": {
        "id": "Mg2EJNIBui13",
        "colab": {
          "base_uri": "https://localhost:8080/"
        },
        "outputId": "bd1c8e51-0156-4fcf-f632-8a153bd7bd5c"
      },
      "execution_count": null,
      "outputs": [
        {
          "output_type": "stream",
          "name": "stdout",
          "text": [
            "[[1, 2]]\n"
          ]
        }
      ]
    },
    {
      "cell_type": "code",
      "source": [
        "class Edge:\n",
        "    def __init__(self, start: str, end: str):\n",
        "        self.start: str = start\n",
        "        self.end: str = end\n",
        "        # self.weight: int = weight\n",
        "class Graph:\n",
        "    def __init__(self):\n",
        "        self.adjacency_list: list = []\n",
        "    def insert(self, start: str, end: str):\n",
        "        isThere: bool = False\n",
        "        index: int = -1\n",
        "        for i in range(len(self.adjacency_list)):\n",
        "            # for j in self.adjacency_list[i]:\n",
        "            #     if j and j.start == start:\n",
        "            #         isThere = True\n",
        "            #         index = i\n",
        "            #         break\n",
        "            if self.adjacency_list[i][0] and self.adjacency_list[i][0].start==start:\n",
        "                isThere=True\n",
        "                index=i\n",
        "        if isThere and index != -1:\n",
        "            self.adjacency_list[index].append(Edge(start, end))\n",
        "        else:\n",
        "            self.adjacency_list.append([Edge(start, end)])\n",
        "    def display(self):\n",
        "        for i in self.adjacency_list:\n",
        "            for j in i:\n",
        "                print(\"( \", j.start, \" , \", j.end, \" )\", end=\"\\t\")\n",
        "            print()\n",
        "if __name__ == '__main__':\n",
        "    graph: Graph = Graph()\n",
        "    graph.insert(\"1\",\"2\")\n",
        "    graph.insert(\"1\",\"5\")\n",
        "    graph.insert(\"1\",\"4\")\n",
        "    graph.insert(\"3\",\"2\")\n",
        "    graph.insert(\"2\",\"5\")\n",
        "    graph.display()"
      ],
      "metadata": {
        "colab": {
          "base_uri": "https://localhost:8080/"
        },
        "id": "JErQjxGrNKgv",
        "outputId": "6da0685b-1271-450d-be88-8d56fde3dc84"
      },
      "execution_count": null,
      "outputs": [
        {
          "output_type": "stream",
          "name": "stdout",
          "text": [
            "(  1  ,  2  )\t(  1  ,  5  )\t(  1  ,  4  )\t\n",
            "(  3  ,  2  )\t\n",
            "(  2  ,  5  )\t\n"
          ]
        }
      ]
    },
    {
      "cell_type": "code",
      "source": [
        "class Edge:\n",
        "  def __init__(self,s: str,d: str,w: str):\n",
        "    self.s: str=s\n",
        "    self.d: str=d\n",
        "    self.w: str=w\n",
        "class Graph:\n",
        "  def __init__(self):\n",
        "    self.adL: list=[]\n",
        "  def insert(self,s: str,d: str,w: str):\n",
        "    isThere: bool=false\n",
        "    index: int=-1\n",
        "    for i in range(len(self.adL)):\n",
        "      for j in self.adL[i]:\n",
        "        if j and j.start==start:\n",
        "          index=j\n",
        "          isThere=True\n",
        "          break\n",
        "      if isThere:\n",
        "        adL[index].append(Edge())\n",
        "\n"
      ],
      "metadata": {
        "id": "Yj5mNGRcNqhJ"
      },
      "execution_count": null,
      "outputs": []
    }
  ]
}
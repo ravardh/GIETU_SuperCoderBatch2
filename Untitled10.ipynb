{
 "cells": [
  {
   "cell_type": "code",
   "execution_count": 4,
   "id": "03e7d76b",
   "metadata": {},
   "outputs": [
    {
     "name": "stdout",
     "output_type": "stream",
     "text": [
      "Following is Breadth First Traversal (starting from vertex 2)\n",
      "2 0 3 1 "
     ]
    }
   ],
   "source": [
    "#BFS traversal\n",
    "from collections import defaultdict\n",
    "\n",
    "class Graph:\n",
    "    def __init__(self):\n",
    "\n",
    "        self.graph = defaultdict(list)\n",
    "\n",
    "    def addEdge(self, u, v):\n",
    "        self.graph[u].append(v)\n",
    "\n",
    "    def BFS(self, s):\n",
    "        visited = [False] * (max(self.graph) + 1)\n",
    "        queue = []\n",
    "\n",
    "        queue.append(s)\n",
    "        visited[s] = True\n",
    "\n",
    "        while queue:\n",
    "            s = queue.pop(0)\n",
    "            print(s, end=\" \")\n",
    "\n",
    "            for i in self.graph[s]:\n",
    "                if visited[i] == False:\n",
    "                    queue.append(i)\n",
    "                    visited[i] = True\n",
    "\n",
    "if __name__ == '__main__':\n",
    "    g = Graph()\n",
    "    g.addEdge(0, 1)\n",
    "    g.addEdge(0, 2)\n",
    "    g.addEdge(1, 2)\n",
    "    g.addEdge(2, 0)\n",
    "    g.addEdge(2, 3)\n",
    "    g.addEdge(3, 3)\n",
    "\n",
    "    print(\"Following is Breadth First Traversal\"\n",
    "        \" (starting from vertex 2)\")\n",
    "    g.BFS(2)"
   ]
  },
  {
   "cell_type": "code",
   "execution_count": 5,
   "id": "dbf09b57",
   "metadata": {},
   "outputs": [
    {
     "name": "stdout",
     "output_type": "stream",
     "text": [
      "Following is Depth First Traversal (starting from vertex 2)\n",
      "2 0 1 3 "
     ]
    }
   ],
   "source": [
    "#  DFS traversal\n",
    "\n",
    "from collections import defaultdict\n",
    "\n",
    "class Graph:\n",
    "\n",
    "    def __init__(self):\n",
    "\n",
    "        self.graph = defaultdict(list)\n",
    "\n",
    "    def addEdge(self, u, v):\n",
    "        self.graph[u].append(v)\n",
    "\n",
    "    def DFSUtil(self, v, visited):\n",
    "\n",
    "        visited.add(v)\n",
    "        print(v, end=' ')\n",
    "\n",
    "        for neighbour in self.graph[v]:\n",
    "            if neighbour not in visited:\n",
    "                self.DFSUtil(neighbour, visited)\n",
    "\n",
    "    def DFS(self, v):\n",
    "\n",
    "        visited = set()\n",
    "\n",
    "        self.DFSUtil(v, visited)\n",
    "\n",
    "if __name__ == \"__main__\":\n",
    "    g = Graph()\n",
    "    g.addEdge(0, 1)\n",
    "    g.addEdge(0, 2)\n",
    "    g.addEdge(1, 2)\n",
    "    g.addEdge(2, 0)\n",
    "    g.addEdge(2, 3)\n",
    "    g.addEdge(3, 3)\n",
    "\n",
    "    print(\"Following is Depth First Traversal (starting from vertex 2)\")\n",
    "\n",
    "    g.DFS(2)"
   ]
  },
  {
   "cell_type": "code",
   "execution_count": null,
   "id": "61e62258",
   "metadata": {},
   "outputs": [],
   "source": []
  }
 ],
 "metadata": {
  "kernelspec": {
   "display_name": "Python 3 (ipykernel)",
   "language": "python",
   "name": "python3"
  },
  "language_info": {
   "codemirror_mode": {
    "name": "ipython",
    "version": 3
   },
   "file_extension": ".py",
   "mimetype": "text/x-python",
   "name": "python",
   "nbconvert_exporter": "python",
   "pygments_lexer": "ipython3",
   "version": "3.10.9"
  }
 },
 "nbformat": 4,
 "nbformat_minor": 5
}

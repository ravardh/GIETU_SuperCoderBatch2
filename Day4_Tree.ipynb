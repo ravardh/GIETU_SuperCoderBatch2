{
  "nbformat": 4,
  "nbformat_minor": 0,
  "metadata": {
    "colab": {
      "provenance": [],
      "authorship_tag": "ABX9TyNjcR8ptweq3fCTHPlZn04x",
      "include_colab_link": true
    },
    "kernelspec": {
      "name": "python3",
      "display_name": "Python 3"
    },
    "language_info": {
      "name": "python"
    }
  },
  "cells": [
    {
      "cell_type": "markdown",
      "metadata": {
        "id": "view-in-github",
        "colab_type": "text"
      },
      "source": [
        "<a href=\"https://colab.research.google.com/github/ravardh/GIETU_SuperCoderBatch2/blob/Jatin_21CSE153/Day4_Tree.ipynb\" target=\"_parent\"><img src=\"https://colab.research.google.com/assets/colab-badge.svg\" alt=\"Open In Colab\"/></a>"
      ]
    },
    {
      "cell_type": "code",
      "execution_count": 1,
      "metadata": {
        "colab": {
          "base_uri": "https://localhost:8080/"
        },
        "id": "c6IERjjUMmfZ",
        "outputId": "5ec11798-6696-479c-e8a3-ecd9c9a9ca09"
      },
      "outputs": [
        {
          "output_type": "stream",
          "name": "stdout",
          "text": [
            "<__main__.node object at 0x78ad8e450e20>\n",
            "preorder traversal: \n",
            "1\n",
            "2\n",
            "3\n",
            "6\n",
            "4\n",
            "5\n",
            "7\n",
            "inorder traversal: \n",
            "3\n",
            "2\n",
            "6\n",
            "1\n",
            "5\n",
            "4\n",
            "7\n",
            "postorder traversal: \n",
            "3\n",
            "6\n",
            "2\n",
            "5\n",
            "7\n",
            "4\n",
            "1\n",
            "levelorder traversal: \n",
            "1 2 4 3 6 5 7 "
          ]
        }
      ],
      "source": [
        "class node:\n",
        "    def __init__(self, data=None):\n",
        "        self.data = data\n",
        "        self.left = None\n",
        "        self.right = None\n",
        "\n",
        "\n",
        "root = node(1)\n",
        "root.left = node(2)\n",
        "root.right = node(4)\n",
        "root.left.left = node(3)\n",
        "root.left.right = node(6)\n",
        "root.right.left = node(5)\n",
        "root.right.right = node(7)\n",
        "print(root)\n",
        "\n",
        "# print(root.data)\n",
        "\n",
        "\n",
        "def preorder(root):\n",
        "\n",
        "    if root == None:\n",
        "        return\n",
        "    print(root.data)\n",
        "    preorder(root.left)\n",
        "\n",
        "    preorder(root.right)\n",
        "\n",
        "\n",
        "def postorder(root):\n",
        "\n",
        "    if root == None:\n",
        "        return\n",
        "    postorder(root.left)\n",
        "\n",
        "    postorder(root.right)\n",
        "    print(root.data)\n",
        "\n",
        "\n",
        "def inorder(root):\n",
        "\n",
        "    if root == None:\n",
        "        return\n",
        "    inorder(root.left)\n",
        "    print(root.data)\n",
        "\n",
        "    inorder(root.right)\n",
        "\n",
        "\n",
        "def levelorder(root):\n",
        "    Q = [root]\n",
        "    while Q:\n",
        "        level_length = len(Q)\n",
        "        for i in range(level_length):\n",
        "            cur = Q.pop(0)\n",
        "            print(cur.data, end=\" \")\n",
        "            if cur.left:\n",
        "                Q.append(cur.left)\n",
        "            if cur.right:\n",
        "                Q.append(cur.right)\n",
        "\n",
        "\n",
        "print(\"preorder traversal: \")\n",
        "preorder(root)\n",
        "\n",
        "print(\"inorder traversal: \")\n",
        "inorder(root)\n",
        "\n",
        "print(\"postorder traversal: \")\n",
        "postorder(root)\n",
        "\n",
        "print(\"levelorder traversal: \")\n",
        "\n",
        "levelorder(root)\n"
      ]
    }
  ]
}
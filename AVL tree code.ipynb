{
 "cells": [
  {
   "cell_type": "markdown",
   "id": "56d7c85b",
   "metadata": {},
   "source": [
    "# AVL Tree Code"
   ]
  },
  {
   "cell_type": "code",
   "execution_count": 23,
   "id": "f75a081a",
   "metadata": {},
   "outputs": [
    {
     "name": "stdout",
     "output_type": "stream",
     "text": [
      "15 20 22 25 30 35 40 41 42 45 47 48 50 55 60 70 90 "
     ]
    }
   ],
   "source": [
    "class Node:\n",
    "    def __init__(self, data):\n",
    "        self.data = data\n",
    "        self.left = None\n",
    "        self.right = None\n",
    "        self.height = 1\n",
    "\n",
    "class AVLTree:\n",
    "    def insert(self, root, value):\n",
    "        if root is None:\n",
    "            return Node(value)\n",
    "        \n",
    "        if value < root.data:\n",
    "            root.left = self.insert(root.left, value)\n",
    "        elif value > root.data:\n",
    "            root.right = self.insert(root.right, value)\n",
    "        \n",
    "        root.height = 1 + max(self.ght(root.left), self.ght(root.right))\n",
    "        \n",
    "        bl = self.bal(root)\n",
    "        if bl > 1 and value < root.left.data:\n",
    "            return self.rightRotate(root)\n",
    "        \n",
    "        if bl < -1 and value > root.right.data:\n",
    "            return self.leftRotate(root)\n",
    "        \n",
    "        if bl > 1 and value > root.left.data:\n",
    "            root.left = self.leftRotate(root.left)\n",
    "            return self.rightRotate(root)\n",
    "        \n",
    "        if bl < -1 and value < root.right.data:\n",
    "            root.right = self.rightRotate(root.right)\n",
    "            return self.leftRotate(root)\n",
    "        \n",
    "        return root\n",
    "\n",
    "    def ght(self, root):\n",
    "        if root is None:\n",
    "            return 0\n",
    "        return root.height\n",
    "\n",
    "    def bal(self, root):\n",
    "        if root is None:\n",
    "            return 0\n",
    "        return self.ght(root.left) - self.ght(root.right)\n",
    "\n",
    "    def leftRotate(self, A):\n",
    "        B = A.right\n",
    "        temp = B.left\n",
    "\n",
    "        B.left = A\n",
    "        A.right = temp\n",
    "\n",
    "        A.height = 1 + max(self.ght(A.left), self.ght(A.right))\n",
    "        B.height = 1 + max(self.ght(B.left), self.ght(B.right))\n",
    "\n",
    "        return B\n",
    "\n",
    "    def rightRotate(self, B):\n",
    "        A = B.left\n",
    "        temp = A.right\n",
    "\n",
    "        A.right = B\n",
    "        B.left = temp\n",
    "\n",
    "        B.height = 1 + max(self.ght(B.left), self.ght(B.right))\n",
    "        A.height = 1 + max(self.ght(A.left), self.ght(A.right))\n",
    "\n",
    "        return A\n",
    "\n",
    "    def inOrder(self, root):\n",
    "        if root == None:\n",
    "            return\n",
    "        self.inOrder(root.left)\n",
    "        print(root.data,end=\" \")\n",
    "        self.inOrder(root.right)\n",
    "\n",
    "root = None\n",
    "keys = [50, 45, 55, 35, 40, 48, 60, 20, 70, 41, 47, 42, 15, 22, 25, 30, 90]\n",
    "\n",
    "avlTree = AVLTree()\n",
    "for x in keys:\n",
    "    root = avlTree.insert(root, x)\n",
    "\n",
    "avlTree.inOrder(root)\n"
   ]
  },
  {
   "cell_type": "code",
   "execution_count": null,
   "id": "450ff4fc",
   "metadata": {},
   "outputs": [],
   "source": []
  }
 ],
 "metadata": {
  "kernelspec": {
   "display_name": "Python 3 (ipykernel)",
   "language": "python",
   "name": "python3"
  },
  "language_info": {
   "codemirror_mode": {
    "name": "ipython",
    "version": 3
   },
   "file_extension": ".py",
   "mimetype": "text/x-python",
   "name": "python",
   "nbconvert_exporter": "python",
   "pygments_lexer": "ipython3",
   "version": "3.11.3"
  }
 },
 "nbformat": 4,
 "nbformat_minor": 5
}

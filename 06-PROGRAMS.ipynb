{
 "cells": [
  {
   "cell_type": "code",
   "execution_count": null,
   "id": "95e9e993",
   "metadata": {},
   "outputs": [],
   "source": [
    "class node:\n",
    "    def __init__(self, data=None):\n",
    "        self.data = data\n",
    "        self.left = None\n",
    "        self.right = None\n",
    "        self.key = None\n",
    "def levelorder(root,count):\n",
    "    Q = [root]\n",
    "    Q.append(None)\n",
    "    while Q:\n",
    "        cur = Q.pop(0)\n",
    "        if cur:\n",
    "            print(cur.data, end=\" \")\n",
    "            count += 1\n",
    "            if cur.left:\n",
    "                Q.append(cur.left)\n",
    "            if cur.right:\n",
    "                Q.append(cur.right)\n",
    "        elif len(Q) == 0:\n",
    "            return count\n",
    "        else:\n",
    "            Q.append(None)\n",
    "            print()\n",
    "\n",
    "    return count\n",
    "\n",
    "root = node(1)\n",
    "root.left = node(5)\n",
    "root.right = node(7)\n",
    "root.left.left = node(2)\n",
    "root.left.right = node(4)\n",
    "root.left.left.left = node(20)\n",
    "root.left.left.left.right = node(10)\n",
    "root.left.left.left.right.left = node(21)\n",
    "root.left.right.left = node(11)\n",
    "root.left.right.right = node(3)\n",
    "root.right.right= node(17)\n",
    "root.right.right.left = node(12)\n",
    "root.right.right.right = node(16)\n",
    "root.right.right.left.left = node(14)\n",
    "root.right.right.left.right = node(19)\n",
    "root.right.right.left.right.right = node(18)\n",
    "root.right.right.left.right.right.right = node(15)\n",
    "print(\"the tree is:-\")\n",
    "print(\"\\nThe no of Node are:-\",levelorder(root,0))\n",
    "\n"
   ]
  },
  {
   "cell_type": "code",
   "execution_count": null,
   "id": "8a6e6237",
   "metadata": {},
   "outputs": [],
   "source": [
    "#right view\n",
    "def rightView(root,value,l):\n",
    "    if(root==None):\n",
    "        return\n",
    "    cl=value\n",
    "    if(l[0]<cl):\n",
    "        print(root.data,end=\" \")\n",
    "        l[0]=cl\n",
    "\n",
    "    rightView(root.right, cl + 1, l)\n",
    "    rightView(root.left, cl + 1, l)"
   ]
  },
  {
   "cell_type": "code",
   "execution_count": null,
   "id": "f1013d77",
   "metadata": {},
   "outputs": [],
   "source": [
    "#left view\n",
    "def leftView(root,value,l):\n",
    "    if(root==None):\n",
    "        return\n",
    "    cl=value\n",
    "    if(l[0]<cl):\n",
    "        print(root.data,end=\" \")\n",
    "        l[0]=cl\n",
    "    leftView(root.left,cl+1,l)\n",
    "    leftView(root.right, cl + 1, l)"
   ]
  }
 ],
 "metadata": {
  "kernelspec": {
   "display_name": "Python 3 (ipykernel)",
   "language": "python",
   "name": "python3"
  },
  "language_info": {
   "codemirror_mode": {
    "name": "ipython",
    "version": 3
   },
   "file_extension": ".py",
   "mimetype": "text/x-python",
   "name": "python",
   "nbconvert_exporter": "python",
   "pygments_lexer": "ipython3",
   "version": "3.11.3"
  }
 },
 "nbformat": 4,
 "nbformat_minor": 5
}

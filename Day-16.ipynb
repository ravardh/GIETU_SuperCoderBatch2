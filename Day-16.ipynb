{
 "cells": [
  {
   "cell_type": "code",
   "execution_count": 30,
   "id": "31785295-0c52-403d-833b-b9c8f2c2b466",
   "metadata": {},
   "outputs": [
    {
     "name": "stdout",
     "output_type": "stream",
     "text": [
      "Vertex \t\tDistance from source\n",
      "0 \t\t 0\n",
      "1 \t\t inf\n",
      "2 \t\t inf\n",
      "3 \t\t inf\n",
      "4 \t\t inf\n"
     ]
    }
   ],
   "source": [
    "import heapq\n",
    "\n",
    "class Graph:\n",
    "    def __init__(self, vertices):\n",
    "        self.V = vertices\n",
    "        self.graph = [[] for _ in range(vertices)]\n",
    "\n",
    "    def addEdge(self, u, v, w):\n",
    "        self.graph[u].append((v, w))\n",
    "\n",
    "    def minDistance(self, src):\n",
    "        dist = [float('inf')] * self.V\n",
    "        dist[src] = 0\n",
    "        pq = [(0, src)]\n",
    "\n",
    "        while pq:\n",
    "            (d, u) = heapq.heappop(pq)\n",
    "            if dist[u] < d:\n",
    "                continue \n",
    "            for v, weight in self.graph[u]:\n",
    "                if dist[v] > dist[u] + weight:\n",
    "                    dist[v] = dist[u] + weight\n",
    "                    heapq.heappush(pq, (dist[v], v))\n",
    "        return dist\n",
    "\n",
    "g = Graph(5)\n",
    "g.addEdge(1, 1, 3)\n",
    "g.addEdge(1, 2, 6)\n",
    "g.addEdge(2, 3, 5)\n",
    "g.addEdge(3, 1, -10)\n",
    "\n",
    "print(\"Vertex \\t\\tDistance from source\")\n",
    "for i, d in enumerate(g.minDistance(0)):\n",
    "    print(f\"{i} \\t\\t {d}\")"
   ]
  },
  {
   "cell_type": "code",
   "execution_count": 29,
   "id": "de710256-d82c-4c27-a162-f17e9f77c4c1",
   "metadata": {},
   "outputs": [
    {
     "name": "stdout",
     "output_type": "stream",
     "text": [
      "Vertex \t Distance\n",
      "1 \t 0\n",
      "2 \t 1\n",
      "3 \t 3\n",
      "4 \t 5\n",
      "5 \t 0\n",
      "6 \t 4\n",
      "7 \t 3\n"
     ]
    }
   ],
   "source": [
    "class Graph:\n",
    "    def edge(self,u,v,w):\n",
    "        if not hasattr(self,'graph'):\n",
    "            self.graph=[]\n",
    "        self.graph.append((u,v,w))\n",
    "\n",
    "    def bellmanford(self,vertices,src):\n",
    "        if not hasattr(self,'graph'):\n",
    "            print(\"Graph is not initialized\")\n",
    "            return\n",
    "        distance=[float('inf')]*vertices\n",
    "        distance[src-1]=0\n",
    "        for _ in range(vertices-1):\n",
    "            for u,v,weight in self.graph:\n",
    "                if distance[u-1]!=float('inf') and distance[u-1]+weight<distance[v-1]:\n",
    "                    distance[v-1]=distance[u-1]+weight\n",
    "        return distance\n",
    "\n",
    "g=Graph()\n",
    "g.edge(1,2,6)\n",
    "g.edge(1,3,5)\n",
    "g.edge(1,4,5)\n",
    "g.edge(2,5,-1)\n",
    "g.edge(3,2,-2)\n",
    "g.edge(3,5,1)\n",
    "g.edge(4,3,-2)\n",
    "g.edge(4,6,-1)\n",
    "g.edge(5,7,3)\n",
    "g.edge(6,7,3)\n",
    "src=1\n",
    "num_vertices=7\n",
    "print(\"Vertex \\t Distance\")\n",
    "distances=g.bellmanford(num_vertices,src)\n",
    "for i in range(len(distances)):\n",
    "    print(f\"{i+1} \\t {distances[i]}\")"
   ]
  },
  {
   "cell_type": "code",
   "execution_count": null,
   "id": "bced92f0-98ba-413d-962e-198a2560ce32",
   "metadata": {},
   "outputs": [],
   "source": []
  }
 ],
 "metadata": {
  "kernelspec": {
   "display_name": "Python 3 (ipykernel)",
   "language": "python",
   "name": "python3"
  },
  "language_info": {
   "codemirror_mode": {
    "name": "ipython",
    "version": 3
   },
   "file_extension": ".py",
   "mimetype": "text/x-python",
   "name": "python",
   "nbconvert_exporter": "python",
   "pygments_lexer": "ipython3",
   "version": "3.10.9"
  }
 },
 "nbformat": 4,
 "nbformat_minor": 5
}

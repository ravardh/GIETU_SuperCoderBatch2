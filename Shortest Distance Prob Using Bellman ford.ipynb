{
 "cells": [
  {
   "cell_type": "code",
   "execution_count": 19,
   "id": "4461ebbc",
   "metadata": {},
   "outputs": [
    {
     "name": "stdout",
     "output_type": "stream",
     "text": [
      "Shortest distance from vertex 1 to each vertex:\n",
      "{1: 0, 2: 1, 3: 3, 4: 5, 5: 0, 6: 4, 7: 3}\n"
     ]
    }
   ],
   "source": [
    "lst = [[1, 2, 6], [1, 3, 5], [1, 4, 5], [2, 5, -1], [3, 2, -2], [3, 5, 1], [4, 3, -2], [4, 6, -1], [5, 7, 3], [6, 7, 3]]\n",
    "\n",
    "def bellman(n, edges, start):\n",
    "    dist = {node: float('inf') for node in n}\n",
    "    dist[start] = 0\n",
    "    for i in range(len(n) - 1):\n",
    "        for edge in edges:\n",
    "            u, v, w = edge\n",
    "            if dist[u] + w < dist[v]:\n",
    "                dist[v] = dist[u] + w\n",
    "    for edge in edges:\n",
    "        u, v, w = edge\n",
    "        if dist[u] + w < dist[v]:\n",
    "            print(\"Graph contains negative cycle\")\n",
    "            return {}\n",
    "    return dist\n",
    "n = set()\n",
    "for edge in lst:\n",
    "    n.add(edge[0])\n",
    "    n.add(edge[1])\n",
    "\n",
    "shortest_dist = bellman(n, lst, 1)\n",
    "\n",
    "print(\"Shortest distance from vertex 1 to each vertex:\")\n",
    "print(shortest_dist)"
   ]
  },
  {
   "cell_type": "code",
   "execution_count": null,
   "id": "23401e53",
   "metadata": {},
   "outputs": [],
   "source": []
  }
 ],
 "metadata": {
  "kernelspec": {
   "display_name": "Python 3 (ipykernel)",
   "language": "python",
   "name": "python3"
  },
  "language_info": {
   "codemirror_mode": {
    "name": "ipython",
    "version": 3
   },
   "file_extension": ".py",
   "mimetype": "text/x-python",
   "name": "python",
   "nbconvert_exporter": "python",
   "pygments_lexer": "ipython3",
   "version": "3.11.5"
  }
 },
 "nbformat": 4,
 "nbformat_minor": 5
}

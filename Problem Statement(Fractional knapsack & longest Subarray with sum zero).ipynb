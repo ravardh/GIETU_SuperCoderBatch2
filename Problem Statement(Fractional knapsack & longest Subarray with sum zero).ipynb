{
 "cells": [
  {
   "cell_type": "code",
   "execution_count": 7,
   "id": "72d09fca",
   "metadata": {},
   "outputs": [
    {
     "name": "stdout",
     "output_type": "stream",
     "text": [
      "Maximum Profit: 22.5\n"
     ]
    }
   ],
   "source": [
    "def fract_knapsack(max_cap, Nop, lst_weight, lst_prof):\n",
    "    unitwise_weight_prof = [(lst_prof[i] / lst_weight[i], lst_weight[i], lst_prof[i]) for i in range(Nop)]\n",
    "    unitwise_weight_prof.sort(reverse=True)\n",
    "    max_profit = 0\n",
    "    for ratio, weight, profit in unitwise_weight_profit:\n",
    "        if max_cap >= weight:\n",
    "            max_profit = max_profit+profit\n",
    "            max_cap = max_cap-weight\n",
    "        else:\n",
    "            max_profit = max_profit+(max_cap / weight)*profit\n",
    "            break \n",
    "    return max_profit\n",
    "max_cap = 15\n",
    "Nop = 4\n",
    "lst_weight = [5, 10, 10, 5]\n",
    "lst_prof = [10, 5, 5, 10]\n",
    "\n",
    "print(\"Maximum Profit:\", fractional_knapsack(max_cap, Nop, lst_weight, lst_prof))\n"
   ]
  },
  {
   "cell_type": "code",
   "execution_count": 17,
   "id": "f4736c63",
   "metadata": {},
   "outputs": [
    {
     "name": "stdout",
     "output_type": "stream",
     "text": [
      "Enter the elements9 -3 3 -1 6 -5\n",
      "Length of the longest subarray is 5\n"
     ]
    }
   ],
   "source": [
    "def longest_subarray(arr):\n",
    "    t_sum = []  \n",
    "    max_length = 0   \n",
    "    Sum = 0  \n",
    "    \n",
    "    for i in range(len(arr)):\n",
    "        Sum = Sum + arr[i]\n",
    "        if Sum == 0:\n",
    "            max_length = i+1\n",
    "        if Sum in dict_sum:\n",
    "            max_length = max(max_length,i-t_sum[Sum])\n",
    "        else:\n",
    "            t_sum[Sum] = i\n",
    "    return max_length\n",
    "\n",
    "arr_str = input(\"Enter the elements\")\n",
    "arr = [int(x) for x in arr_str.split()]\n",
    "print(\"Length of the longest subarray is\", longest_subarray_with_zero_sum(arr))\n"
   ]
  },
  {
   "cell_type": "code",
   "execution_count": null,
   "id": "82b37e08",
   "metadata": {},
   "outputs": [],
   "source": []
  }
 ],
 "metadata": {
  "kernelspec": {
   "display_name": "Python 3 (ipykernel)",
   "language": "python",
   "name": "python3"
  },
  "language_info": {
   "codemirror_mode": {
    "name": "ipython",
    "version": 3
   },
   "file_extension": ".py",
   "mimetype": "text/x-python",
   "name": "python",
   "nbconvert_exporter": "python",
   "pygments_lexer": "ipython3",
   "version": "3.11.5"
  }
 },
 "nbformat": 4,
 "nbformat_minor": 5
}

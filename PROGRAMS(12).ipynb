{
 "cells": [
  {
   "cell_type": "code",
   "execution_count": 1,
   "id": "d73bb3e6",
   "metadata": {},
   "outputs": [
    {
     "name": "stdout",
     "output_type": "stream",
     "text": [
      "Minimum Spanning Tree:\n",
      "('B', 1)\n",
      "('C', 2)\n",
      "('D', 3)\n",
      "('E', 4)\n"
     ]
    }
   ],
   "source": [
    "#PRIMS ALGORITHM\n",
    "\n",
    "import heapq\n",
    "def prims_algorithm(graph):\n",
    "    mst = []  \n",
    "    visited = set()  \n",
    "    start_vertex = list(graph.keys())[0]\n",
    "    heap = [(0, start_vertex)]  \n",
    "\n",
    "    while heap:\n",
    "        weight, vertex = heapq.heappop(heap)  \n",
    "        if vertex not in visited:\n",
    "            visited.add(vertex)\n",
    "            if weight > 0:\n",
    "                mst.append((vertex, weight))  \n",
    "\n",
    "            for neighbor, neighbor_weight in graph[vertex]:\n",
    "                if neighbor not in visited:\n",
    "                    heapq.heappush(heap, (neighbor_weight, neighbor))  \n",
    "\n",
    "    return mst\n",
    "\n",
    "graph = {\n",
    "    'A': [('B', 1), ('C', 5)],\n",
    "    'B': [('A', 1), ('C', 2)],\n",
    "    'C': [('B', 2), ('A', 5), ('D', 3)],\n",
    "    'D': [('C', 3), ('E', 4)],\n",
    "    'E': [('D', 4)]\n",
    "}\n",
    "\n",
    "minimum_spanning_tree = prims_algorithm(graph)\n",
    "print(\"Minimum Spanning Tree:\")\n",
    "for edge in minimum_spanning_tree:\n",
    "    print(edge)"
   ]
  },
  {
   "cell_type": "code",
   "execution_count": 2,
   "id": "7ce00224",
   "metadata": {},
   "outputs": [
    {
     "name": "stdout",
     "output_type": "stream",
     "text": [
      "Minimum Spanning Tree:\n",
      "('A', 'B', 1)\n",
      "('B', 'C', 2)\n",
      "('C', 'D', 3)\n",
      "('D', 'E', 4)\n"
     ]
    }
   ],
   "source": [
    "#Kruskal Algorithm\n",
    "\n",
    "class UnionFind:\n",
    "    def __init__(self, vertices):\n",
    "        self.parent = {v: v for v in vertices}\n",
    "        self.rank = {v: 0 for v in vertices}\n",
    "    \n",
    "    def find(self, vertex):\n",
    "        if self.parent[vertex] != vertex:\n",
    "            self.parent[vertex] = self.find(self.parent[vertex])\n",
    "        return self.parent[vertex]\n",
    "    \n",
    "    def union(self, x, y):\n",
    "        root_x = self.find(x)\n",
    "        root_y = self.find(y)\n",
    "        \n",
    "        if root_x == root_y:\n",
    "            return\n",
    "        \n",
    "        if self.rank[root_x] < self.rank[root_y]:\n",
    "            self.parent[root_x] = root_y\n",
    "        elif self.rank[root_x] > self.rank[root_y]:\n",
    "            self.parent[root_y] = root_x\n",
    "        else:\n",
    "            self.parent[root_y] = root_x\n",
    "            self.rank[root_x] += 1\n",
    "\n",
    "def kruskal_algorithm(graph):\n",
    "    mst = []  \n",
    "    vertices = set(graph.keys())\n",
    "    union_find = UnionFind(vertices)\n",
    "    edges = []\n",
    "\n",
    "    for vertex in graph:\n",
    "        for neighbor, weight in graph[vertex]:\n",
    "            edges.append((weight, vertex, neighbor))\n",
    "\n",
    "    edges.sort()  \n",
    "\n",
    "    for edge in edges:\n",
    "        weight, vertex1, vertex2 = edge\n",
    "        if union_find.find(vertex1) != union_find.find(vertex2):\n",
    "            mst.append((vertex1, vertex2, weight))\n",
    "            union_find.union(vertex1, vertex2)\n",
    "\n",
    "    return mst\n",
    "\n",
    "graph = {\n",
    "    'A': [('B', 1), ('C', 5)],\n",
    "    'B': [('A', 1), ('C', 2)],\n",
    "    'C': [('B', 2), ('A', 5), ('D', 3)],\n",
    "    'D': [('C', 3), ('E', 4)],\n",
    "    'E': [('D', 4)]\n",
    "}\n",
    "\n",
    "minimum_spanning_tree = kruskal_algorithm(graph)\n",
    "print(\"Minimum Spanning Tree:\")\n",
    "for edge in minimum_spanning_tree:\n",
    "    print(edge)"
   ]
  },
  {
   "cell_type": "code",
   "execution_count": 3,
   "id": "0dac8ae7",
   "metadata": {},
   "outputs": [
    {
     "name": "stdout",
     "output_type": "stream",
     "text": [
      "Maximum profit: 40\n",
      "Scheduled jobs: ['J1', 'J4', 'J5']\n"
     ]
    }
   ],
   "source": [
    "#Job Sequencing\n",
    "\n",
    "def job_sequencing(jobs):\n",
    "    jobs.sort(key=lambda x: x[2], reverse=True)\n",
    "    max_deadline = max(jobs, key=lambda x: x[1])[1]\n",
    "    schedule = [-1] * max_deadline\n",
    "    total_profit = 0\n",
    "\n",
    "    for job in jobs:\n",
    "        deadline = job[1] - 1\n",
    "        while deadline >= 0:\n",
    "            if schedule[deadline] == -1:\n",
    "                schedule[deadline] = job[0]\n",
    "                total_profit += job[2]\n",
    "                break\n",
    "            deadline -= 1\n",
    "\n",
    "    return total_profit, [job_id for job_id in schedule if job_id != -1]\n",
    "\n",
    "\n",
    "jobs = [(\"J1\", 2, 15), (\"J2\", 3, 1), (\"J3\", 1, 10), (\"J4\", 2, 20), (\"J5\", 3, 5)]\n",
    "profit, schedule = job_sequencing(jobs)\n",
    "print(\"Maximum profit:\", profit)\n",
    "print(\"Scheduled jobs:\", schedule)"
   ]
  },
  {
   "cell_type": "code",
   "execution_count": 6,
   "id": "934350dc",
   "metadata": {},
   "outputs": [
    {
     "name": "stdout",
     "output_type": "stream",
     "text": [
      "[[(1, 2, 1)], [(2, 1, 1)]]\n",
      "Does the graph contain a cycle?\n",
      "False\n"
     ]
    }
   ],
   "source": [
    "#Presence of Cycles in a Graph\n",
    "\n",
    "def DFS_cycle(start, graph, visited, parent):\n",
    "    visited[start - 1] = True\n",
    "\n",
    "    for i in graph[start - 1]:\n",
    "        if not visited[i[1] - 1]:\n",
    "            parent[i[1] - 1] = start\n",
    "            if DFS_cycle(i[1], graph, visited, parent):\n",
    "                return True\n",
    "        elif parent[start - 1] != i[1]:\n",
    "            return True\n",
    "\n",
    "    return False\n",
    "\n",
    "\n",
    "def has_cycle(graph):\n",
    "    v = len(graph)\n",
    "    visited = [False] * v\n",
    "    parent = [-1] * v\n",
    "\n",
    "    for i in range(v):\n",
    "        if not visited[i]:\n",
    "            if DFS_cycle(i + 1, graph, visited, parent):\n",
    "                return True\n",
    "\n",
    "    return False\n",
    "\n",
    "def create_graph(graph,source,destination,weight=1):\n",
    "    graph[source-1].append((source,destination,weight))\n",
    "\n",
    "v = 2  \n",
    "graph = [[] for _ in range(v)]\n",
    "\n",
    "create_graph(graph, 1, 2)\n",
    "create_graph(graph, 2, 1)\n",
    "\n",
    "print(graph)\n",
    "print(\"Does the graph contain a cycle?\")\n",
    "print( has_cycle(graph))"
   ]
  },
  {
   "cell_type": "code",
   "execution_count": null,
   "id": "d5a565f1",
   "metadata": {},
   "outputs": [],
   "source": []
  }
 ],
 "metadata": {
  "kernelspec": {
   "display_name": "Python 3 (ipykernel)",
   "language": "python",
   "name": "python3"
  },
  "language_info": {
   "codemirror_mode": {
    "name": "ipython",
    "version": 3
   },
   "file_extension": ".py",
   "mimetype": "text/x-python",
   "name": "python",
   "nbconvert_exporter": "python",
   "pygments_lexer": "ipython3",
   "version": "3.10.6"
  }
 },
 "nbformat": 4,
 "nbformat_minor": 5
}

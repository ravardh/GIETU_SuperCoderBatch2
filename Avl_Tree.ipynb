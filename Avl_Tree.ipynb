{
  "nbformat": 4,
  "nbformat_minor": 0,
  "metadata": {
    "colab": {
      "provenance": [],
      "authorship_tag": "ABX9TyNVmSl0qX+0jTTPXMmJh7YA",
      "include_colab_link": true
    },
    "kernelspec": {
      "name": "python3",
      "display_name": "Python 3"
    },
    "language_info": {
      "name": "python"
    }
  },
  "cells": [
    {
      "cell_type": "markdown",
      "metadata": {
        "id": "view-in-github",
        "colab_type": "text"
      },
      "source": [
        "<a href=\"https://colab.research.google.com/github/ravardh/GIETU_SuperCoderBatch2/blob/Kundan_21cse046/Avl_Tree.ipynb\" target=\"_parent\"><img src=\"https://colab.research.google.com/assets/colab-badge.svg\" alt=\"Open In Colab\"/></a>"
      ]
    },
    {
      "cell_type": "code",
      "source": [
        "class TreeNode:\n",
        "    def __init__(self, key):\n",
        "        self.key = key\n",
        "        self.left = None\n",
        "        self.right = None\n",
        "\n",
        "def RR(y):\n",
        "    x = y.left\n",
        "    T2 = x.right\n",
        "\n",
        "    x.right = y\n",
        "    y.left = T2\n",
        "\n",
        "    return x\n",
        "\n",
        "def insert(root, key):\n",
        "    if root is None:\n",
        "        return TreeNode(key)\n",
        "\n",
        "    if key < root.key:\n",
        "        root.left = insert(root.left, key)\n",
        "    elif key > root.key:\n",
        "        root.right = insert(root.right, key)\n",
        "\n",
        "    if root.left and root.left.left:\n",
        "        root = RR(root)\n",
        "\n",
        "    return root\n",
        "\n",
        "def inorderTraversal(root):\n",
        "    if root:\n",
        "        inorderTraversal(root.left)\n",
        "        print(root.key, end=\" \")\n",
        "        inorderTraversal(root.right)\n",
        "\n",
        "root = None\n",
        "keys = [50,45,55,35,40,48,60,20,70,41,47,42,15,22,25,30,90]\n",
        "\n",
        "for key in keys:\n",
        "    root = insert(root, key)\n",
        "\n",
        "print(\"Inorder traversal of the BST after insertion:\")\n",
        "inorderTraversal(root)"
      ],
      "metadata": {
        "colab": {
          "base_uri": "https://localhost:8080/"
        },
        "id": "6yaKjs9urhcW",
        "outputId": "f9ef6cf7-629e-4745-c545-afc9810a7d3b"
      },
      "execution_count": 6,
      "outputs": [
        {
          "output_type": "stream",
          "name": "stdout",
          "text": [
            "Inorder traversal of the BST after insertion:\n",
            "15 20 22 25 30 35 40 41 42 45 47 48 50 55 60 70 90 "
          ]
        }
      ]
    }
  ]
}
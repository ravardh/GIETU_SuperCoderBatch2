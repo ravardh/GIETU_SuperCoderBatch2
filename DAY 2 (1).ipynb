{
 "cells": [
  {
   "cell_type": "markdown",
   "id": "d79f0760",
   "metadata": {},
   "source": [
    "Basics of python"
   ]
  },
  {
   "cell_type": "code",
   "execution_count": 2,
   "id": "4f841b9f",
   "metadata": {},
   "outputs": [
    {
     "name": "stdout",
     "output_type": "stream",
     "text": [
      "<class 'int'>\n",
      "<class 'float'>\n",
      "<class 'str'>\n"
     ]
    }
   ],
   "source": [
    "a=10\n",
    "b=1.2\n",
    "c='r'\n",
    "print(type(a))\n",
    "print(type(b))\n",
    "print(type(c))"
   ]
  },
  {
   "cell_type": "code",
   "execution_count": 27,
   "id": "b5d51c71",
   "metadata": {},
   "outputs": [
    {
     "name": "stdout",
     "output_type": "stream",
     "text": [
      "raj123\n"
     ]
    }
   ],
   "source": [
    "n=\"raj123\"\n",
    "print(n)"
   ]
  },
  {
   "cell_type": "code",
   "execution_count": 28,
   "id": "5c83e50f",
   "metadata": {},
   "outputs": [
    {
     "data": {
      "text/plain": [
       "'RAJ123'"
      ]
     },
     "execution_count": 28,
     "metadata": {},
     "output_type": "execute_result"
    }
   ],
   "source": [
    "n.upper()\n"
   ]
  },
  {
   "cell_type": "code",
   "execution_count": 29,
   "id": "140c8425",
   "metadata": {},
   "outputs": [
    {
     "data": {
      "text/plain": [
       "'raj123'"
      ]
     },
     "execution_count": 29,
     "metadata": {},
     "output_type": "execute_result"
    }
   ],
   "source": [
    "n.lower()"
   ]
  },
  {
   "cell_type": "code",
   "execution_count": 30,
   "id": "d288e14d",
   "metadata": {},
   "outputs": [
    {
     "data": {
      "text/plain": [
       "'Raj123'"
      ]
     },
     "execution_count": 30,
     "metadata": {},
     "output_type": "execute_result"
    }
   ],
   "source": [
    "n.capitalize()"
   ]
  },
  {
   "cell_type": "code",
   "execution_count": 37,
   "id": "5d927da4",
   "metadata": {},
   "outputs": [
    {
     "data": {
      "text/plain": [
       "['raj123']"
      ]
     },
     "execution_count": 37,
     "metadata": {},
     "output_type": "execute_result"
    }
   ],
   "source": [
    "n.split(' ')"
   ]
  },
  {
   "cell_type": "code",
   "execution_count": 38,
   "id": "9a0336a3",
   "metadata": {},
   "outputs": [
    {
     "data": {
      "text/plain": [
       "'Raj123'"
      ]
     },
     "execution_count": 38,
     "metadata": {},
     "output_type": "execute_result"
    }
   ],
   "source": [
    "n.title()"
   ]
  },
  {
   "cell_type": "code",
   "execution_count": 39,
   "id": "15e6940b",
   "metadata": {},
   "outputs": [
    {
     "data": {
      "text/plain": [
       "False"
      ]
     },
     "execution_count": 39,
     "metadata": {},
     "output_type": "execute_result"
    }
   ],
   "source": [
    "n.isalpha()"
   ]
  },
  {
   "cell_type": "code",
   "execution_count": 40,
   "id": "32d81fd1",
   "metadata": {},
   "outputs": [
    {
     "data": {
      "text/plain": [
       "False"
      ]
     },
     "execution_count": 40,
     "metadata": {},
     "output_type": "execute_result"
    }
   ],
   "source": [
    "n.isdigit()"
   ]
  },
  {
   "cell_type": "code",
   "execution_count": 42,
   "id": "733f604a",
   "metadata": {},
   "outputs": [
    {
     "data": {
      "text/plain": [
       "'r'"
      ]
     },
     "execution_count": 42,
     "metadata": {},
     "output_type": "execute_result"
    }
   ],
   "source": [
    "n[0:1] "
   ]
  },
  {
   "cell_type": "code",
   "execution_count": 43,
   "id": "b7c15bb3",
   "metadata": {},
   "outputs": [
    {
     "data": {
      "text/plain": [
       "'321jar'"
      ]
     },
     "execution_count": 43,
     "metadata": {},
     "output_type": "execute_result"
    }
   ],
   "source": [
    "n[::-1]"
   ]
  },
  {
   "cell_type": "code",
   "execution_count": 44,
   "id": "1e3239fe",
   "metadata": {},
   "outputs": [
    {
     "data": {
      "text/plain": [
       "'raj12'"
      ]
     },
     "execution_count": 44,
     "metadata": {},
     "output_type": "execute_result"
    }
   ],
   "source": [
    "n[:-1]"
   ]
  },
  {
   "cell_type": "code",
   "execution_count": 5,
   "id": "f7f24032",
   "metadata": {},
   "outputs": [
    {
     "name": "stdout",
     "output_type": "stream",
     "text": [
      "enter the number1:1\n",
      "enter the number2:2\n",
      "3\n"
     ]
    }
   ],
   "source": [
    "a=(input(\"enter the number1:\"))\n",
    "b=int(input(\"enter the number2:\"))\n",
    "print(int(a)+b)"
   ]
  },
  {
   "cell_type": "code",
   "execution_count": 8,
   "id": "a232ec68",
   "metadata": {},
   "outputs": [
    {
     "name": "stdout",
     "output_type": "stream",
     "text": [
      "s\n",
      "u\n",
      "b\n",
      "h\n",
      "a\n",
      "m\n"
     ]
    }
   ],
   "source": [
    "n=\"subham\"\n",
    "for x in n:\n",
    "    print(x)"
   ]
  },
  {
   "cell_type": "code",
   "execution_count": 15,
   "id": "e95aa6d7",
   "metadata": {},
   "outputs": [
    {
     "name": "stdout",
     "output_type": "stream",
     "text": [
      "4\n",
      "[1, 2, 'raj']\n"
     ]
    },
    {
     "data": {
      "text/plain": [
       "[1, 2, 'raj', 'rohit', 4.4, 32]"
      ]
     },
     "execution_count": 15,
     "metadata": {},
     "output_type": "execute_result"
    }
   ],
   "source": [
    "a=[1,2,\"raj\",4.4]\n",
    "print(len(a))\n",
    "print(a[:3])\n",
    "a.append(32)\n",
    "a\n",
    "a.insert(3,\"rohit\")\n",
    "a"
   ]
  },
  {
   "cell_type": "code",
   "execution_count": 17,
   "id": "a66945fb",
   "metadata": {},
   "outputs": [
    {
     "data": {
      "text/plain": [
       "dict_values(['cricket', 'badminton', 'volleyball', 'table tennis'])"
      ]
     },
     "execution_count": 17,
     "metadata": {},
     "output_type": "execute_result"
    }
   ],
   "source": [
    "d={1:\"cricket\",2:\"badminton\",3:\"volleyball\",4:\"table tennis\"}\n",
    "d.keys()"
   ]
  },
  {
   "cell_type": "code",
   "execution_count": 18,
   "id": "dfb48c40",
   "metadata": {},
   "outputs": [
    {
     "data": {
      "text/plain": [
       "dict_values(['cricket', 'badminton', 'volleyball', 'table tennis'])"
      ]
     },
     "execution_count": 18,
     "metadata": {},
     "output_type": "execute_result"
    }
   ],
   "source": [
    "d.values()"
   ]
  },
  {
   "cell_type": "code",
   "execution_count": 20,
   "id": "40f7c950",
   "metadata": {},
   "outputs": [
    {
     "name": "stdout",
     "output_type": "stream",
     "text": [
      "1\n",
      "2\n",
      "3\n",
      "4\n"
     ]
    }
   ],
   "source": [
    "for x in d.keys():\n",
    "    print(x)"
   ]
  },
  {
   "cell_type": "code",
   "execution_count": 22,
   "id": "6474122d",
   "metadata": {},
   "outputs": [
    {
     "data": {
      "text/plain": [
       "{1: 'subham', 2: 'badminton', 3: 'volleyball', 4: 'table tennis'}"
      ]
     },
     "execution_count": 22,
     "metadata": {},
     "output_type": "execute_result"
    }
   ],
   "source": [
    "d[1]=\"subham\"\n",
    "d"
   ]
  },
  {
   "cell_type": "markdown",
   "id": "6e62155f",
   "metadata": {},
   "source": [
    "selection sort"
   ]
  },
  {
   "cell_type": "code",
   "execution_count": 33,
   "id": "6ecabb76",
   "metadata": {},
   "outputs": [
    {
     "name": "stdout",
     "output_type": "stream",
     "text": [
      "Sorted array is: [2, 2, 4, 4, 5, 7, 8, 9]\n"
     ]
    }
   ],
   "source": [
    "def selection(ar):\n",
    "    m = len(ar)\n",
    "    for i in range (m):\n",
    "        min = i\n",
    "        for j in range (i + 1,m):\n",
    "            if(ar[min] > ar[j]):\n",
    "                min = j\n",
    "        ar[min],ar[i] = ar[i], ar[min]\n",
    "\n",
    "\n",
    "ar = [2,4,5,2,8,9,4,7]\n",
    "selection(ar)\n",
    "print(\"Sorted array is:\", ar)"
   ]
  },
  {
   "cell_type": "code",
   "execution_count": null,
   "id": "34270064",
   "metadata": {},
   "outputs": [],
   "source": []
  }
 ],
 "metadata": {
  "kernelspec": {
   "display_name": "Python 3 (ipykernel)",
   "language": "python",
   "name": "python3"
  },
  "language_info": {
   "codemirror_mode": {
    "name": "ipython",
    "version": 3
   },
   "file_extension": ".py",
   "mimetype": "text/x-python",
   "name": "python",
   "nbconvert_exporter": "python",
   "pygments_lexer": "ipython3",
   "version": "3.9.12"
  }
 },
 "nbformat": 4,
 "nbformat_minor": 5
}

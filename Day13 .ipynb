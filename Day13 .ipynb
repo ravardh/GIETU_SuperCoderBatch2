{
  "nbformat": 4,
  "nbformat_minor": 0,
  "metadata": {
    "colab": {
      "provenance": []
    },
    "kernelspec": {
      "name": "python3",
      "display_name": "Python 3"
    },
    "language_info": {
      "name": "python"
    }
  },
  "cells": [
    {
      "cell_type": "code",
      "execution_count": null,
      "metadata": {
        "colab": {
          "base_uri": "https://localhost:8080/"
        },
        "id": "JTlSWTVpmj3E",
        "outputId": "98d89acc-8114-40bd-9982-fd67ab03c459"
      },
      "outputs": [
        {
          "output_type": "stream",
          "name": "stdout",
          "text": [
            "(  1  ,  2  )\t(  1  ,  8  )\t\n",
            "(  2  ,  3  )\t(  2  ,  8  )\t(  2  ,  1  )\t\n",
            "(  3  ,  2  )\t(  3  ,  9  )\t(  3  ,  6  )\t(  3  ,  4  )\t\n",
            "(  4  ,  3  )\t(  4  ,  6  )\t(  4  ,  5  )\t\n",
            "(  5  ,  4  )\t(  5  ,  6  )\t\n",
            "(  6  ,  5  )\t(  6  ,  4  )\t(  6  ,  3  )\t(  6  ,  7  )\t\n",
            "(  7  ,  6  )\t(  7  ,  9  )\t(  7  ,  8  )\t\n",
            "(  8  ,  1  )\t(  8  ,  2  )\t(  8  ,  9  )\t(  8  ,  7  )\t\n",
            "(  9  ,  3  )\t(  9  ,  8  )\t(  9  ,  7  )\t\n",
            "[[1, 0], [2, 4], [8, 8], [7, 9], [6, 11], [3, 12], [9, 14], [4, 19], [5, 21]]\n"
          ]
        }
      ],
      "source": [
        "class Edge:\n",
        "    def __init__(self,s,d,w):\n",
        "        self.source=s\n",
        "        self.destination=d\n",
        "        self.weight=w\n",
        "class GraphLevelOrder:\n",
        "    def __init__(self):\n",
        "            self.l = []\n",
        "    def insertv(self):\n",
        "        for i in range(9):\n",
        "            self.l.append([])\n",
        "        self.l[0].append(Edge(1,2,4))\n",
        "        self.l[0].append(Edge(1,8,8))\n",
        "\n",
        "        self.l[1].append(Edge(2,3,8))\n",
        "        self.l[1].append(Edge(2,8,11))\n",
        "        self.l[1].append(Edge(2,1,4))\n",
        "\n",
        "\n",
        "        self.l[2].append(Edge(3,2,8))\n",
        "        self.l[2].append(Edge(3,9,2))\n",
        "        self.l[2].append(Edge(3,6,4))\n",
        "        self.l[2].append(Edge(3,4,7))\n",
        "\n",
        "        self.l[3].append(Edge(4,3,7))\n",
        "        self.l[3].append(Edge(4,6,14))\n",
        "        self.l[3].append(Edge(4,5,9))\n",
        "\n",
        "        self.l[4].append(Edge(5,4,9))\n",
        "        self.l[4].append(Edge(5,6,10))\n",
        "\n",
        "        self.l[5].append(Edge(6,5,10))\n",
        "        self.l[5].append(Edge(6,4,14))\n",
        "        self.l[5].append(Edge(6,3,4))\n",
        "        self.l[5].append(Edge(6,7,2))\n",
        "\n",
        "\n",
        "        self.l[6].append(Edge(7,6,2))\n",
        "        self.l[6].append(Edge(7,9,6))\n",
        "        self.l[6].append(Edge(7,8,1))\n",
        "\n",
        "        self.l[7].append(Edge(8,1,8))\n",
        "        self.l[7].append(Edge(8,2,11))\n",
        "        self.l[7].append(Edge(8,9,7))\n",
        "        self.l[7].append(Edge(8,7,1))\n",
        "\n",
        "        self.l[8].append(Edge(9,3,2))\n",
        "        self.l[8].append(Edge(9,8,7))\n",
        "        self.l[8].append(Edge(9,7,6))\n",
        "    def display(self):\n",
        "        for i in self.l:\n",
        "            for j in i:\n",
        "                print(\"( \", j.source, \" , \", j.destination, \" )\", end=\"\\t\")\n",
        "            print()\n",
        "    def findShortestPath(self,start):\n",
        "      dist = dict()\n",
        "      for x in range(1,len(self.l)+1):\n",
        "        dist[x]=float('inf')\n",
        "      dist[start]=0\n",
        "      Visit=[]\n",
        "      while len(dist) != 0:\n",
        "        found_key = next((key for key, value in dist.items() if value == min(dist.values())), None)\n",
        "        for i in range(len(self.l[found_key-1])):\n",
        "          if(self.l[found_key-1][i].destination in dist.keys()):\n",
        "            dist[self.l[found_key-1][i].destination] = min(dist[self.l[found_key-1][i].destination], dist[found_key] + self.l[found_key-1][i].weight)\n",
        "        Visit.append([found_key,dist[found_key]])\n",
        "        del dist[found_key]\n",
        "      return Visit\n",
        "g=GraphLevelOrder()\n",
        "g.insertv()\n",
        "g.display()\n",
        "start=1\n",
        "print(g.findShortestPath(start))\n"
      ]
    },
    {
      "cell_type": "code",
      "source": [],
      "metadata": {
        "id": "UFfi6Jfyv7jv"
      },
      "execution_count": null,
      "outputs": []
    }
  ]
}
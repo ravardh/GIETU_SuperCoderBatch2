{
  "nbformat": 4,
  "nbformat_minor": 0,
  "metadata": {
    "colab": {
      "provenance": [],
      "authorship_tag": "ABX9TyPTgS3WcJX64iqOfPDpmnOC",
      "include_colab_link": true
    },
    "kernelspec": {
      "name": "python3",
      "display_name": "Python 3"
    },
    "language_info": {
      "name": "python"
    }
  },
  "cells": [
    {
      "cell_type": "markdown",
      "metadata": {
        "id": "view-in-github",
        "colab_type": "text"
      },
      "source": [
        "<a href=\"https://colab.research.google.com/github/ravardh/GIETU_SuperCoderBatch2/blob/Jatin_21CSE153/Graph_BFS_DFS.ipynb\" target=\"_parent\"><img src=\"https://colab.research.google.com/assets/colab-badge.svg\" alt=\"Open In Colab\"/></a>"
      ]
    },
    {
      "cell_type": "code",
      "execution_count": 2,
      "metadata": {
        "id": "rN61AWwxGhCZ",
        "colab": {
          "base_uri": "https://localhost:8080/"
        },
        "outputId": "868033c5-cb93-4000-cf5e-fff464474dee"
      },
      "outputs": [
        {
          "output_type": "stream",
          "name": "stdout",
          "text": [
            "5 4 2 6 1 7 3 9 8 "
          ]
        }
      ],
      "source": [
        "#BFS\n",
        "class Graph:\n",
        "    def __init__(self):\n",
        "        self.graph = {}\n",
        "\n",
        "    def addEdge(self, u, v):\n",
        "        if u not in self.graph:\n",
        "            self.graph[u] = []\n",
        "        if v not in self.graph:\n",
        "            self.graph[v] = []\n",
        "        self.graph[u].append(v)\n",
        "        self.graph[v].append(u)\n",
        "\n",
        "    def BFS(self, s):\n",
        "        visited = [False] * (max(self.graph) + 1)\n",
        "        queue = []\n",
        "        queue.append(s)\n",
        "        visited[s] = True\n",
        "\n",
        "        while queue:\n",
        "            s = queue.pop(0)\n",
        "            print(s, end=\" \")\n",
        "            for i in self.graph[s]:\n",
        "                if not visited[i]:\n",
        "                    queue.append(i)\n",
        "                    visited[i] = True\n",
        "\n",
        "\n",
        "g = Graph()\n",
        "g.addEdge(1, 2)\n",
        "g.addEdge(1, 3)\n",
        "g.addEdge(1, 9)\n",
        "g.addEdge(2, 4)\n",
        "g.addEdge(3, 8)\n",
        "g.addEdge(4, 5)\n",
        "g.addEdge(4, 6)\n",
        "g.addEdge(6, 7)\n",
        "g.addEdge(7, 8)\n",
        "g.addEdge(8, 9)\n",
        "g.addEdge(8, 7)\n",
        "\n",
        "g.BFS(5)\n"
      ]
    },
    {
      "cell_type": "code",
      "source": [
        "#DFS\n",
        "class Graph:\n",
        "    def __init__(self):\n",
        "        self.graph = {}\n",
        "\n",
        "    def addEdge(self, u, v):\n",
        "        if u not in self.graph:\n",
        "            self.graph[u] = []\n",
        "        if v not in self.graph:\n",
        "            self.graph[v] = []\n",
        "        self.graph[u].append(v)\n",
        "        self.graph[v].append(u)\n",
        "\n",
        "    def dfs(self, visited, node):  # function for dfs\n",
        "        if node not in visited:\n",
        "            print(node, end=\" \")\n",
        "            visited.add(node)\n",
        "            for neighbour in self.graph[node]:\n",
        "                self.dfs(visited, neighbour)\n",
        "\n",
        "\n",
        "g = Graph()\n",
        "g.addEdge(1, 2)\n",
        "g.addEdge(1, 3)\n",
        "g.addEdge(1, 9)\n",
        "g.addEdge(2, 4)\n",
        "g.addEdge(3, 8)\n",
        "g.addEdge(4, 5)\n",
        "g.addEdge(4, 6)\n",
        "g.addEdge(6, 7)\n",
        "g.addEdge(7, 8)\n",
        "g.addEdge(8, 9)\n",
        "g.addEdge(8, 7)\n",
        "\n",
        "visited = set()\n",
        "g.dfs(visited, 5)\n"
      ],
      "metadata": {
        "colab": {
          "base_uri": "https://localhost:8080/"
        },
        "id": "H2oFKu3nH0Lp",
        "outputId": "d2e66da7-3bf3-4fa9-e561-53af46dd2634"
      },
      "execution_count": 3,
      "outputs": [
        {
          "output_type": "stream",
          "name": "stdout",
          "text": [
            "5 4 2 1 3 8 7 6 9 "
          ]
        }
      ]
    }
  ]
}
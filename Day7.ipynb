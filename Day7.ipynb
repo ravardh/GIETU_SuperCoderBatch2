{
  "nbformat": 4,
  "nbformat_minor": 0,
  "metadata": {
    "colab": {
      "provenance": []
    },
    "kernelspec": {
      "name": "python3",
      "display_name": "Python 3"
    },
    "language_info": {
      "name": "python"
    }
  },
  "cells": [
    {
      "cell_type": "code",
      "execution_count": null,
      "metadata": {
        "id": "HL58NTgyaPQ8"
      },
      "outputs": [],
      "source": [
        "# list n eliment then time should be logbase2(n) if it exced this then we need to balance it\n",
        "# for balancing we can use ll rr lr rl\n",
        "# if it is extnded to right-then right we have to do rr-rotation and rotate it to left\n",
        "#left then left->ll rotation rotate right\n",
        "#left then right->lr rotate r then l\n",
        "#right the left->rl rotate l then r\n"
      ]
    },
    {
      "cell_type": "code",
      "source": [
        "class Node:\n",
        "    def __init__(self, key):\n",
        "        self.key = key\n",
        "        self.left = None\n",
        "        self.right = None\n",
        "        self.height = 1\n",
        "class AVLTree:\n",
        "    def __init__(self):\n",
        "        self.root = None\n",
        "\n",
        "    def height(self, node):\n",
        "        if not node:\n",
        "            return 0\n",
        "        return node.height\n",
        "\n",
        "    def balance(self, node):\n",
        "        if not node:\n",
        "            return 0\n",
        "        return self.height(node.left) - self.height(node.right)\n",
        "\n",
        "    def rotate_right(self, y):\n",
        "        x = y.left\n",
        "        T2 = x.right\n",
        "\n",
        "        x.right = y\n",
        "        y.left = T2\n",
        "\n",
        "        y.height = 1 + max(self.height(y.left), self.height(y.right))\n",
        "        x.height = 1 + max(self.height(x.left), self.height(x.right))\n",
        "\n",
        "        return x\n",
        "\n",
        "    def rotate_left(self, x):\n",
        "        y = x.right\n",
        "        T2 = y.left\n",
        "        y.left = x\n",
        "        x.right = T2\n",
        "        x.height = 1 + max(self.height(x.left), self.height(x.right))\n",
        "        y.height = 1 + max(self.height(y.left), self.height(y.right))\n",
        "\n",
        "        return y\n",
        "\n",
        "    def insert(self, root, key):\n",
        "        if not root:\n",
        "            return Node(key)\n",
        "\n",
        "        if key < root.key:\n",
        "            root.left = self.insert(root.left, key)\n",
        "        else:\n",
        "            root.right = self.insert(root.right, key)\n",
        "\n",
        "        root.height = 1 + max(self.height(root.left), self.height(root.right))\n",
        "\n",
        "        balance = self.balance(root)\n",
        "\n",
        "        if balance > 1:\n",
        "            if key < root.left.key:\n",
        "                return self.rotate_right(root)\n",
        "            else:\n",
        "                root.left = self.rotate_left(root.left)\n",
        "                return self.rotate_right(root)\n",
        "\n",
        "        if balance < -1:\n",
        "            if key > root.right.key:\n",
        "                return self.rotate_left(root)\n",
        "            else:\n",
        "                root.right = self.rotate_right(root.right)\n",
        "                return self.rotate_left(root)\n",
        "\n",
        "        return root\n",
        "\n",
        "    def insert_key(self, key):\n",
        "        self.root = self.insert(self.root, key)\n",
        "\n",
        "    def display(self, root, level=0, prefix=\"Root: \"):\n",
        "        if root:\n",
        "            print(\" \" * (level * 4) + prefix + str(root.key))\n",
        "            if root.left or root.right:\n",
        "                self.display(root.left, level + 1, \"L-- \")\n",
        "                self.display(root.right, level + 1, \"R-- \")\n",
        "\n",
        "    def display_tree(self):\n",
        "        self.display(self.root)\n",
        "\n",
        "\n",
        "# Example usage:\n",
        "avl_tree = AVLTree()\n",
        "keys = [50,36,39,66,75,19,98,76,105,22,42,21]\n",
        "\n",
        "for key in keys:\n",
        "    avl_tree.insert_key(key)\n",
        "\n",
        "avl_tree.display_tree()\n"
      ],
      "metadata": {
        "colab": {
          "base_uri": "https://localhost:8080/"
        },
        "id": "dehqvEgSbDpn",
        "outputId": "403a188a-2cf7-483c-94e7-b6156b56d206"
      },
      "execution_count": null,
      "outputs": [
        {
          "output_type": "stream",
          "name": "stdout",
          "text": [
            "Root: 66\n",
            "    L-- 39\n",
            "        L-- 22\n",
            "            L-- 19\n",
            "                R-- 21\n",
            "            R-- 36\n",
            "        R-- 50\n",
            "            L-- 42\n",
            "    R-- 76\n",
            "        L-- 75\n",
            "        R-- 98\n",
            "            R-- 105\n"
          ]
        }
      ]
    },
    {
      "cell_type": "code",
      "source": [],
      "metadata": {
        "id": "Zuk4HCYm4_7G"
      },
      "execution_count": null,
      "outputs": []
    }
  ]
}
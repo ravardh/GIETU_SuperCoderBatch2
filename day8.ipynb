{
 "cells": [
  {
   "cell_type": "code",
   "execution_count": 1,
   "id": "c2b032af",
   "metadata": {},
   "outputs": [
    {
     "name": "stdout",
     "output_type": "stream",
     "text": [
      "1  \n",
      "2  \n",
      "4  \n"
     ]
    }
   ],
   "source": [
    "#left view\n",
    "class node:\n",
    "    def __init__(self,data = None):\n",
    "        self.left = None\n",
    "        self.right = None\n",
    "        self.data = data\n",
    "\n",
    "def leftUntil(root ,level , max_level):\n",
    "    if root is None:\n",
    "        return \n",
    "    \n",
    "    if(max_level[0] < level):\n",
    "        print(root.data ,\" \")\n",
    "        max_level[0] = level\n",
    "\n",
    "        leftUntil(root.left , level + 1 , max_level)\n",
    "        leftUntil(root.right , level + 1 ,max_level)\n",
    "\n",
    "def leftview(root):\n",
    "    max_level = [0]\n",
    "\n",
    "    leftUntil(root , 1 , max_level)\n",
    "\n",
    "\n",
    "if __name__ == '__main__':\n",
    "    root = node(1)\n",
    "    root.left = node(2)\n",
    "    root.right = node(3)\n",
    "    root.left.left = node(4)\n",
    "    root.left.right = node(5)\n",
    "    root.right.right = node(6)\n",
    "    #root.right.right.left = node(7)\n",
    "\n",
    "    leftview(root)"
   ]
  },
  {
   "cell_type": "code",
   "execution_count": 2,
   "id": "743d78f1",
   "metadata": {},
   "outputs": [
    {
     "name": "stdout",
     "output_type": "stream",
     "text": [
      "1  \n",
      "3  \n",
      "6  \n"
     ]
    }
   ],
   "source": [
    "#right view\n",
    "class node:\n",
    "    def __init__(self,data = None):\n",
    "        self.left = None\n",
    "        self.right = None\n",
    "        self.data = data\n",
    "\n",
    "def rightUntil(root ,level , max_level):\n",
    "    if root is None:\n",
    "        return \n",
    "    \n",
    "    if(max_level[0] < level):\n",
    "        print(root.data ,\" \")\n",
    "        max_level[0] = level\n",
    "\n",
    "    rightUntil(root.right , level + 1 ,max_level)\n",
    "    rightUntil(root.left , level + 1 , max_level)\n",
    "\n",
    "def rightview(root):\n",
    "    max_level = [0]\n",
    "\n",
    "    rightUntil(root , 1 , max_level)\n",
    "\n",
    "\n",
    "if __name__ == '__main__':\n",
    "    root = node(1)\n",
    "    root.left = node(2)\n",
    "    root.right = node(3)\n",
    "    root.left.left = node(4)\n",
    "    root.left.right = node(5)\n",
    "    root.right.right = node(6)\n",
    "    \n",
    "\n",
    "    rightview(root)\n"
   ]
  },
  {
   "cell_type": "code",
   "execution_count": 3,
   "id": "ced832ac",
   "metadata": {},
   "outputs": [
    {
     "name": "stdout",
     "output_type": "stream",
     "text": [
      "total nodes in BT is : 7\n"
     ]
    }
   ],
   "source": [
    "#total nodes in a binary tree\n",
    "class node:\n",
    "    def __init__(self,data=None):\n",
    "        self.left = None\n",
    "        self.right = None\n",
    "        self.data = data\n",
    "\n",
    "def totalcount(root):\n",
    "    if root is None:\n",
    "        return 0\n",
    "    return totalcount(root.left) + totalcount(root.right) + 1\n",
    "    \n",
    "root = node(1)\n",
    "root.left = node(2)\n",
    "root.right = node(3)\n",
    "root.left.left = node(4)\n",
    "root.left.right = node(5)\n",
    "root.right.left = node(6)\n",
    "root.right.right = node(7)\n",
    "\n",
    "totalcount(root)\n",
    "count = totalcount(root)\n",
    "print(\"total nodes in BT is :\" , count)"
   ]
  },
  {
   "cell_type": "code",
   "execution_count": null,
   "id": "c00ed0b8",
   "metadata": {},
   "outputs": [],
   "source": [
    "#binary search tree\n"
   ]
  }
 ],
 "metadata": {
  "kernelspec": {
   "display_name": "Python 3 (ipykernel)",
   "language": "python",
   "name": "python3"
  },
  "language_info": {
   "codemirror_mode": {
    "name": "ipython",
    "version": 3
   },
   "file_extension": ".py",
   "mimetype": "text/x-python",
   "name": "python",
   "nbconvert_exporter": "python",
   "pygments_lexer": "ipython3",
   "version": "3.11.5"
  }
 },
 "nbformat": 4,
 "nbformat_minor": 5
}

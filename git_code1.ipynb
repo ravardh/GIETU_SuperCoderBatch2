{
  "nbformat": 4,
  "nbformat_minor": 0,
  "metadata": {
    "colab": {
      "provenance": []
    },
    "kernelspec": {
      "name": "python3",
      "display_name": "Python 3"
    },
    "language_info": {
      "name": "python"
    }
  },
  "cells": [
    {
      "cell_type": "markdown",
      "source": [
        "#Selection sort\n"
      ],
      "metadata": {
        "id": "LYKjWGS-wxHi"
      }
    },
    {
      "cell_type": "code",
      "execution_count": 2,
      "metadata": {
        "colab": {
          "base_uri": "https://localhost:8080/"
        },
        "id": "gEXp0CF4sINe",
        "outputId": "569e5f9a-5fd2-4c35-8292-c0f2908c31d8"
      },
      "outputs": [
        {
          "output_type": "stream",
          "name": "stdout",
          "text": [
            "Enter the number of elements: 3 \n",
            "Enter the elements:\n",
            "1\n",
            "2\n",
            "0\n",
            "Sorted array:\n",
            "0 1 2 "
          ]
        }
      ],
      "source": [
        "def selection_sort(arr):\n",
        "  n = len(arr)\n",
        "  for i in range(n - 1):\n",
        "      min_index = i\n",
        "      for j in range(i + 1, n):\n",
        "          if arr[j] < arr[min_index]:\n",
        "              min_index = j\n",
        "      arr[i], arr[min_index] = arr[min_index], arr[i]\n",
        "n = int(input(\"Enter the number of elements: \"))\n",
        "arr = []\n",
        "print(\"Enter the elements:\")\n",
        "for _ in range(n):\n",
        "    arr.append(int(input()))\n",
        "\n",
        "selection_sort(arr)\n",
        "print(\"Sorted array:\")\n",
        "for num in arr:\n",
        "    print(num, end=\" \")"
      ]
    },
    {
      "cell_type": "markdown",
      "source": [
        "# Insertion sort\n"
      ],
      "metadata": {
        "id": "TWHrRzV7xAxD"
      }
    },
    {
      "cell_type": "code",
      "source": [
        "def insertion_sort(arr):\n",
        "    for i in range(1, len(arr)):\n",
        "        key = arr[i]\n",
        "        j = i - 1\n",
        "        while j >= 0 and key < arr[j]:\n",
        "            arr[j + 1] = arr[j]\n",
        "            j -= 1\n",
        "        arr[j + 1] = key\n",
        "n = int(input(\"Enter the number of elements: \"))\n",
        "arr = []\n",
        "print(\"Enter the elements:\")\n",
        "for i in range(n):\n",
        "    arr.append(int(input()))\n",
        "\n",
        "insertion_sort(arr)\n",
        "print(\"Sorted array:\", arr)\n"
      ],
      "metadata": {
        "colab": {
          "base_uri": "https://localhost:8080/"
        },
        "id": "7HxOq7ttxI3G",
        "outputId": "d380b1ff-7b13-4612-acf0-555f3da8755a"
      },
      "execution_count": 3,
      "outputs": [
        {
          "output_type": "stream",
          "name": "stdout",
          "text": [
            "Enter the number of elements: 4\n",
            "Enter the elements:\n",
            "9\n",
            "1\n",
            "7\n",
            "2\n",
            "Sorted array: [1, 2, 7, 9]\n"
          ]
        }
      ]
    },
    {
      "cell_type": "markdown",
      "source": [
        "#Bubble sort\n"
      ],
      "metadata": {
        "id": "R7BJMBd0xtvj"
      }
    },
    {
      "cell_type": "code",
      "source": [
        "def bubble_sort(arr):\n",
        "    n = len(arr)\n",
        "    for i in range(n - 1):\n",
        "        for j in range(0, n - i - 1):\n",
        "            if arr[j] > arr[j + 1]:\n",
        "                arr[j], arr[j + 1] = arr[j + 1], arr[j]\n",
        "\n",
        "n = int(input(\"Enter the number of elements: \"))\n",
        "arr = []\n",
        "print(\"Enter the elements:\")\n",
        "for i in range(n):\n",
        "    arr.append(int(input()))\n",
        "bubble_sort(arr)\n",
        "print(\"Sorted array:\", arr)\n"
      ],
      "metadata": {
        "colab": {
          "base_uri": "https://localhost:8080/"
        },
        "id": "-c0SVUEzyR2p",
        "outputId": "3613f0d5-d92e-4d96-a2eb-55173b0b92ea"
      },
      "execution_count": 4,
      "outputs": [
        {
          "output_type": "stream",
          "name": "stdout",
          "text": [
            "Enter the number of elements: 5\n",
            "Enter the elements:\n",
            "12\n",
            "11\n",
            "13\n",
            "9\n",
            "1\n",
            "Sorted array: [1, 9, 11, 12, 13]\n"
          ]
        }
      ]
    },
    {
      "cell_type": "markdown",
      "source": [
        "# Calculator"
      ],
      "metadata": {
        "id": "3gttaNHZyiSn"
      }
    },
    {
      "cell_type": "code",
      "source": [
        "def add(x, y):\n",
        "    return x + y\n",
        "\n",
        "def subtract(x, y):\n",
        "    return x - y\n",
        "\n",
        "def multiply(x, y):\n",
        "    return x * y\n",
        "\n",
        "def divide(x, y):\n",
        "    if y == 0:\n",
        "        return \"Cannot divide by zero\"\n",
        "    return x / y\n",
        "\n",
        "print(\"Select operation:\")\n",
        "print(\"1. Add\")\n",
        "print(\"2. Subtract\")\n",
        "print(\"3. Multiply\")\n",
        "print(\"4. Divide\")\n",
        "\n",
        "choice = input(\"Enter the choice: \")\n",
        "\n",
        "num1 = float(input(\"Enter first number: \"))\n",
        "num2 = float(input(\"Enter second number: \"))\n",
        "\n",
        "if choice == '1':\n",
        "    print(\"Result:\", add(num1, num2))\n",
        "elif choice == '2':\n",
        "    print(\"Result:\", subtract(num1, num2))\n",
        "elif choice == '3':\n",
        "    print(\"Result:\", multiply(num1, num2))\n",
        "elif choice == '4':\n",
        "    print(\"Result:\", divide(num1, num2))\n",
        "else:\n",
        "    print(\"Invalid input\")\n"
      ],
      "metadata": {
        "colab": {
          "base_uri": "https://localhost:8080/"
        },
        "id": "3WkadnJWxtPf",
        "outputId": "9d0db131-401a-4cd2-a32c-fdd3ea164974"
      },
      "execution_count": 8,
      "outputs": [
        {
          "output_type": "stream",
          "name": "stdout",
          "text": [
            "Select operation:\n",
            "1. Add\n",
            "2. Subtract\n",
            "3. Multiply\n",
            "4. Divide\n",
            "Enter the choice: 1\n",
            "Enter first number: 2.5\n",
            "Enter second number: 1\n",
            "Result: 3.5\n"
          ]
        }
      ]
    }
  ]
}
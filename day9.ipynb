{
 "cells": [
  {
   "cell_type": "code",
   "execution_count": 1,
   "id": "4c5f8e31",
   "metadata": {},
   "outputs": [
    {
     "name": "stdout",
     "output_type": "stream",
     "text": [
      "[[1, 2]]\n"
     ]
    }
   ],
   "source": [
    "# class edge:\n",
    "#   def __init__(self,start,dest):\n",
    "#     self.start=start\n",
    "#     self.dest=dest\n",
    "#   def __show__(self,list):\n",
    "#     print(self.start,\",\",self.dest)\n",
    "def List(start,dest):\n",
    "\n",
    "  return [start,dest]\n",
    "\n",
    "AdList=[]\n",
    "# e=edge()\n",
    "AdList.append(List(1,2))\n",
    "print(AdList)"
   ]
  },
  {
   "cell_type": "code",
   "execution_count": 2,
   "id": "7052868d",
   "metadata": {},
   "outputs": [
    {
     "name": "stdout",
     "output_type": "stream",
     "text": [
      "(  1  ,  2  )\t(  1  ,  5  )\t(  1  ,  4  )\t\n",
      "(  3  ,  2  )\t\n",
      "(  2  ,  5  )\t\n"
     ]
    }
   ],
   "source": [
    "class Edge:\n",
    "    def __init__(self, start: str, end: str):\n",
    "        self.start: str = start\n",
    "        self.end: str = end\n",
    "        # self.weight: int = weight\n",
    "class Graph:\n",
    "    def __init__(self):\n",
    "        self.adjacency_list: list = []\n",
    "    def insert(self, start: str, end: str):\n",
    "        isThere: bool = False\n",
    "        index: int = -1\n",
    "        for i in range(len(self.adjacency_list)):\n",
    "            # for j in self.adjacency_list[i]:\n",
    "            #     if j and j.start == start:\n",
    "            #         isThere = True\n",
    "            #         index = i\n",
    "            #         break\n",
    "            if self.adjacency_list[i][0] and self.adjacency_list[i][0].start==start:\n",
    "                isThere=True\n",
    "                index=i\n",
    "        if isThere and index != -1:\n",
    "            self.adjacency_list[index].append(Edge(start, end))\n",
    "        else:\n",
    "            self.adjacency_list.append([Edge(start, end)])\n",
    "    def display(self):\n",
    "        for i in self.adjacency_list:\n",
    "            for j in i:\n",
    "                print(\"( \", j.start, \" , \", j.end, \" )\", end=\"\\t\")\n",
    "            print()\n",
    "if __name__ == '__main__':\n",
    "    graph: Graph = Graph()\n",
    "    graph.insert(\"1\",\"2\")\n",
    "    graph.insert(\"1\",\"5\")\n",
    "    graph.insert(\"1\",\"4\")\n",
    "    graph.insert(\"3\",\"2\")\n",
    "    graph.insert(\"2\",\"5\")\n",
    "    graph.display()"
   ]
  },
  {
   "cell_type": "code",
   "execution_count": null,
   "id": "564ac761",
   "metadata": {},
   "outputs": [],
   "source": [
    "\n",
    "class Edge:\n",
    "  def __init__(self,s: str,d: str,w: str):\n",
    "    self.s: str=s\n",
    "    self.d: str=d\n",
    "    self.w: str=w\n",
    "class Graph:\n",
    "  def __init__(self):\n",
    "    self.adL: list=[]\n",
    "  def insert(self,s: str,d: str,w: str):\n",
    "    isThere: bool=false\n",
    "    index: int=-1\n",
    "    for i in range(len(self.adL)):\n",
    "      for j in self.adL[i]:\n",
    "        if j and j.start==start:\n",
    "          index=j\n",
    "          isThere=True\n",
    "          break\n",
    "      if isThere:\n",
    "        adL[index].append(Edge())\n"
   ]
  }
 ],
 "metadata": {
  "kernelspec": {
   "display_name": "Python 3 (ipykernel)",
   "language": "python",
   "name": "python3"
  },
  "language_info": {
   "codemirror_mode": {
    "name": "ipython",
    "version": 3
   },
   "file_extension": ".py",
   "mimetype": "text/x-python",
   "name": "python",
   "nbconvert_exporter": "python",
   "pygments_lexer": "ipython3",
   "version": "3.11.5"
  }
 },
 "nbformat": 4,
 "nbformat_minor": 5
}

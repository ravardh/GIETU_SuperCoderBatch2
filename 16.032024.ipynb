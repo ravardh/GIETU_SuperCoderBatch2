{
 "cells": [
  {
   "cell_type": "code",
   "execution_count": 1,
   "id": "adc6cc70",
   "metadata": {},
   "outputs": [
    {
     "name": "stdout",
     "output_type": "stream",
     "text": [
      "Solution:\n",
      "-1 1 -1 -1\n",
      "-1 -1 -1 1\n",
      "1 -1 -1 -1\n",
      "-1 -1 1 -1\n"
     ]
    },
    {
     "data": {
      "text/plain": [
       "True"
      ]
     },
     "execution_count": 1,
     "metadata": {},
     "output_type": "execute_result"
    }
   ],
   "source": [
    "def is_safe(board, row, col, n):\n",
    "    for i in range(row):\n",
    "        if board[i][col] == 1:\n",
    "            return False\n",
    "    for i, j in zip(range(row, -1, -1), range(col, -1, -1)):\n",
    "        if board[i][j] == 1:\n",
    "            return False\n",
    "    for i, j in zip(range(row, -1, -1), range(col, n)):\n",
    "        if board[i][j] == 1:\n",
    "            return False\n",
    "    return True\n",
    "\n",
    "def solve_n_queens_util(board, row, n):\n",
    "    if row >= n:\n",
    "        return True\n",
    "\n",
    "    for col in range(n):\n",
    "        if is_safe(board, row, col, n):\n",
    "            board[row][col] = 1\n",
    "            if solve_n_queens_util(board, row + 1, n):\n",
    "                return True\n",
    "            board[row][col] = -1\n",
    "\n",
    "    return False\n",
    "\n",
    "def solve_n_queens(n):\n",
    "    board = [[-1] * n for _ in range(n)]\n",
    "\n",
    "    if not solve_n_queens_util(board, 0, n):\n",
    "        print(\"Solution does not exist\")\n",
    "        return False\n",
    "\n",
    "    print(\"Solution:\")\n",
    "    for row in board:\n",
    "        print(\" \".join(map(str, row)))\n",
    "\n",
    "    return True\n",
    "n = 4\n",
    "solve_n_queens(n)"
   ]
  },
  {
   "cell_type": "code",
   "execution_count": 5,
   "id": "10acddfb",
   "metadata": {},
   "outputs": [
    {
     "name": "stdout",
     "output_type": "stream",
     "text": [
      "[19, 22]\n",
      "[43, 50]\n"
     ]
    }
   ],
   "source": [
    "def mat_mult(matrix1,matrix2):\n",
    "    if len(matrix1[0])!=len(matrix2):\n",
    "        raise ValueError(\"Matrices cannot be multiplied\")\n",
    "\n",
    "    result = [[0 for i in range(len(matrix2[0]))] for i in range(len(matrix1))]\n",
    "    for i in range(len(matrix1)):\n",
    "        for j in range(len(matrix2[0])):\n",
    "            for k in range(len(matrix2)):\n",
    "                result[i][j]+=matrix1[i][k]*matrix2[k][j]\n",
    "\n",
    "    return result\n",
    "matrix_a = [\n",
    "    [1, 2],\n",
    "    [3, 4]\n",
    "]\n",
    "matrix_b = [\n",
    "    [5, 6],\n",
    "    [7, 8]\n",
    "]\n",
    "result = mat_mult(matrix_a, matrix_b)\n",
    "\n",
    "for row in result:\n",
    "    print(row)"
   ]
  },
  {
   "cell_type": "code",
   "execution_count": null,
   "id": "33b39579",
   "metadata": {},
   "outputs": [],
   "source": []
  }
 ],
 "metadata": {
  "kernelspec": {
   "display_name": "Python 3 (ipykernel)",
   "language": "python",
   "name": "python3"
  },
  "language_info": {
   "codemirror_mode": {
    "name": "ipython",
    "version": 3
   },
   "file_extension": ".py",
   "mimetype": "text/x-python",
   "name": "python",
   "nbconvert_exporter": "python",
   "pygments_lexer": "ipython3",
   "version": "3.9.13"
  }
 },
 "nbformat": 4,
 "nbformat_minor": 5
}

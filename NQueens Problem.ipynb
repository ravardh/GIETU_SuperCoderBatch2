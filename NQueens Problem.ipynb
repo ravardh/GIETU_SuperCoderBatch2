{
 "cells": [
  {
   "cell_type": "code",
   "execution_count": 30,
   "id": "87fb52ef",
   "metadata": {},
   "outputs": [
    {
     "name": "stdout",
     "output_type": "stream",
     "text": [
      "['-1Q-1-1', '-1-1-1Q', 'Q-1-1-1', '-1-1Q-1']\n"
     ]
    }
   ],
   "source": [
    "class Solution:\n",
    "    def NQueens(self):\n",
    "        n = 4\n",
    "        cols = [0] * n\n",
    "        diags = [0] * (2 * n - 1)  \n",
    "        anti_diags = [0] * (2 * n - 1) \n",
    "        board = [['-1'] * n for _ in range(n)]\n",
    "\n",
    "        def add_solution(board):\n",
    "            temp = []\n",
    "            for row in board:\n",
    "                temp.append(''.join(row))\n",
    "            return temp\n",
    "\n",
    "        def place_queen(row):\n",
    "            solution = None\n",
    "            if row >= n:\n",
    "                return add_solution(board)\n",
    "            for col in range(n):\n",
    "                diag_index = row + col\n",
    "                anti_diag_index = n - 1 - row + col\n",
    "            \n",
    "                if not cols[col] and not diags[diag_index] and not anti_diags[anti_diag_index]:\n",
    "                    \n",
    "                    cols[col] = 1\n",
    "                    diags[diag_index] = 1\n",
    "                    anti_diags[anti_diag_index] = 1\n",
    "                    board[row][col] = 'Q'\n",
    "                 \n",
    "                    solution = place_queen(row + 1)\n",
    "               \n",
    "                    cols[col] = 0\n",
    "                    diags[diag_index] = 0\n",
    "                    anti_diags[anti_diag_index] = 0\n",
    "                    board[row][col] = '-1'\n",
    "                    if solution:\n",
    "                        return solution\n",
    "            return solution\n",
    "\n",
    "        return place_queen(0)\n",
    "\n",
    "solution = Solution()\n",
    "print(solution.NQueens())\n"
   ]
  },
  {
   "cell_type": "code",
   "execution_count": null,
   "id": "ac444a63",
   "metadata": {},
   "outputs": [],
   "source": []
  }
 ],
 "metadata": {
  "kernelspec": {
   "display_name": "Python 3 (ipykernel)",
   "language": "python",
   "name": "python3"
  },
  "language_info": {
   "codemirror_mode": {
    "name": "ipython",
    "version": 3
   },
   "file_extension": ".py",
   "mimetype": "text/x-python",
   "name": "python",
   "nbconvert_exporter": "python",
   "pygments_lexer": "ipython3",
   "version": "3.11.5"
  }
 },
 "nbformat": 4,
 "nbformat_minor": 5
}

{
  "nbformat": 4,
  "nbformat_minor": 0,
  "metadata": {
    "colab": {
      "provenance": [],
      "authorship_tag": "ABX9TyNXIFs0aO5/nCtXkZ5tNHu3",
      "include_colab_link": true
    },
    "kernelspec": {
      "name": "python3",
      "display_name": "Python 3"
    },
    "language_info": {
      "name": "python"
    }
  },
  "cells": [
    {
      "cell_type": "markdown",
      "metadata": {
        "id": "view-in-github",
        "colab_type": "text"
      },
      "source": [
        "<a href=\"https://colab.research.google.com/github/ravardh/GIETU_SuperCoderBatch2/blob/Kundan_21cse046/leftview_rightview_calculateNoOfNodes.ipynb\" target=\"_parent\"><img src=\"https://colab.research.google.com/assets/colab-badge.svg\" alt=\"Open In Colab\"/></a>"
      ]
    },
    {
      "cell_type": "code",
      "execution_count": null,
      "metadata": {
        "colab": {
          "base_uri": "https://localhost:8080/"
        },
        "id": "5BRhhcOoa-X5",
        "outputId": "cbf05b40-7e09-4072-d21d-3285f04957f0"
      },
      "outputs": [
        {
          "output_type": "stream",
          "name": "stdout",
          "text": [
            "Left view of the binary tree:\n",
            "[1, 2, 4, 5]\n"
          ]
        }
      ],
      "source": [
        "class TreeNode:\n",
        "    def __init__(self, key):\n",
        "        self.val = key\n",
        "        self.left = None\n",
        "        self.right = None\n",
        "\n",
        "def left_view_helper(root, level, max_level, result):\n",
        "    if root is None:\n",
        "        return\n",
        "\n",
        "    if max_level[0] < level:\n",
        "        result.append(root.val)\n",
        "        max_level[0] = level\n",
        "\n",
        "    left_view_helper(root.left, level + 1, max_level, result)\n",
        "    left_view_helper(root.right, level + 1, max_level, result)\n",
        "\n",
        "def left_view(root):\n",
        "    result = []\n",
        "    max_level = [0]\n",
        "    left_view_helper(root, 1, max_level, result)\n",
        "    return result\n",
        "\n",
        "root = TreeNode(1)\n",
        "root.left = TreeNode(2)\n",
        "root.right = TreeNode(3)\n",
        "root.left.right = TreeNode(4)\n",
        "root.left.right.right = TreeNode(5)\n",
        "\n",
        "print(\"Left view of the binary tree:\")\n",
        "print(left_view(root))\n"
      ]
    },
    {
      "cell_type": "code",
      "source": [
        "class TreeNode:\n",
        "    def __init__(self, key):\n",
        "        self.val = key\n",
        "        self.left = None\n",
        "        self.right = None\n",
        "\n",
        "def right_view_helper(root, level, max_level, result):\n",
        "    if root is None:\n",
        "        return\n",
        "\n",
        "    if max_level[0] < level:\n",
        "        result.append(root.val)\n",
        "        max_level[0] = level\n",
        "\n",
        "    right_view_helper(root.right, level + 1, max_level, result)\n",
        "    right_view_helper(root.left, level + 1, max_level, result)\n",
        "\n",
        "def right_view(root):\n",
        "    result = []\n",
        "    max_level = [0]\n",
        "    right_view_helper(root, 1, max_level, result)\n",
        "    return result\n",
        "\n",
        "\n",
        "root = TreeNode(1)\n",
        "root.left = TreeNode(2)\n",
        "root.right = TreeNode(3)\n",
        "root.left.right = TreeNode(4)\n",
        "root.left.right.right = TreeNode(5)\n",
        "\n",
        "print(\"Right view of the binary tree:\")\n",
        "print(right_view(root))\n"
      ],
      "metadata": {
        "colab": {
          "base_uri": "https://localhost:8080/"
        },
        "id": "563cvRbPbuMN",
        "outputId": "f559f326-32fc-46e6-9cb7-e71769658f08"
      },
      "execution_count": null,
      "outputs": [
        {
          "output_type": "stream",
          "name": "stdout",
          "text": [
            "Right view of the binary tree:\n",
            "[1, 3, 4, 5]\n"
          ]
        }
      ]
    },
    {
      "cell_type": "code",
      "source": [
        "class TreeNode:\n",
        "    def __init__(self, key):\n",
        "        self.val = key\n",
        "        self.left = None\n",
        "        self.right = None\n",
        "\n",
        "def count_nodes(root):\n",
        "    if root is None:\n",
        "        return 0\n",
        "    return 1 + count_nodes(root.left) + count_nodes(root.right)\n",
        "\n",
        "\n",
        "root = TreeNode(1)\n",
        "root.left = TreeNode(2)\n",
        "root.right = TreeNode(3)\n",
        "root.left.left = TreeNode(4)\n",
        "root.left.right = TreeNode(5)\n",
        "root.right.left = TreeNode(6)\n",
        "root.right.right = TreeNode(7)\n",
        "\n",
        "print(\"Number of nodes in the binary tree:\", count_nodes(root))\n"
      ],
      "metadata": {
        "colab": {
          "base_uri": "https://localhost:8080/"
        },
        "id": "1tunFmQue3gO",
        "outputId": "e24ab1d3-91a7-4ec2-fcfa-c95f551a210a"
      },
      "execution_count": null,
      "outputs": [
        {
          "output_type": "stream",
          "name": "stdout",
          "text": [
            "Number of nodes in the binary tree: 7\n"
          ]
        }
      ]
    },
    {
      "cell_type": "code",
      "source": [],
      "metadata": {
        "id": "jkWII7lsjKIi"
      },
      "execution_count": null,
      "outputs": []
    }
  ]
}
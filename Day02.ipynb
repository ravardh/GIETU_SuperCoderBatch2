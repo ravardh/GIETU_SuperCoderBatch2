{
 "cells": [
  {
   "cell_type": "markdown",
   "id": "609d020f",
   "metadata": {},
   "source": [
    "## Sliding Window"
   ]
  },
  {
   "cell_type": "code",
   "execution_count": 2,
   "id": "1f15baee",
   "metadata": {},
   "outputs": [
    {
     "name": "stdout",
     "output_type": "stream",
     "text": [
      "Enter window size:3\n"
     ]
    },
    {
     "data": {
      "text/plain": [
       "22"
      ]
     },
     "execution_count": 2,
     "metadata": {},
     "output_type": "execute_result"
    }
   ],
   "source": [
    "# Sliding Window\n",
    "arr = [1,3,5,2,7,4,8,9,5,3,5,7,9,3,2,0]\n",
    "def sliding_window(arr,n):\n",
    "    m=len(arr)\n",
    "    if m<n:\n",
    "        print(\"Invalid\")\n",
    "    wsum=arr[0]+arr[1]+arr[2]\n",
    "    msum=wsum\n",
    "    for i in range(0,(len(arr)-n)):\n",
    "        wsum=wsum-arr[i]+arr[i+n]\n",
    "        msum=max(msum,wsum)\n",
    "    return msum\n",
    "\n",
    "\n",
    "# Driver Code\n",
    "n=int(input(\"Enter window size:\"))\n",
    "sliding_window(arr,n)\n"
   ]
  },
  {
   "cell_type": "code",
   "execution_count": null,
   "id": "659e2a2d",
   "metadata": {},
   "outputs": [],
   "source": []
  }
 ],
 "metadata": {
  "kernelspec": {
   "display_name": "Python 3 (ipykernel)",
   "language": "python",
   "name": "python3"
  },
  "language_info": {
   "codemirror_mode": {
    "name": "ipython",
    "version": 3
   },
   "file_extension": ".py",
   "mimetype": "text/x-python",
   "name": "python",
   "nbconvert_exporter": "python",
   "pygments_lexer": "ipython3",
   "version": "3.9.13"
  }
 },
 "nbformat": 4,
 "nbformat_minor": 5
}

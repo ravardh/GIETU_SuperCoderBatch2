{
 "cells": [
  {
   "cell_type": "code",
   "execution_count": 1,
   "id": "4ceb1fbe",
   "metadata": {},
   "outputs": [
    {
     "name": "stdout",
     "output_type": "stream",
     "text": [
      "Enter the size of array: 4\n",
      "1\n",
      "4\n",
      "2\n",
      "5\n",
      "Unsorted array: 1 4 2 5 \n",
      "Sorted array: 1 2 4 5 \n"
     ]
    }
   ],
   "source": [
    "# Insertion Sort\n",
    "def print_array(l):\n",
    "    for i in range(len(l)):\n",
    "        print(l[i], end=\" \")\n",
    "    print()\n",
    "def insertionSort(l):\n",
    "    n = len(l) \n",
    "    if n <= 1:\n",
    "        return \n",
    "    for i in range(1, n): \n",
    "        key = l[i] \n",
    "        j = i-1\n",
    "        while j >= 0 and key < l[j]: \n",
    "            l[j+1] = l[j] \n",
    "            j -= 1\n",
    "        l[j+1] = key \n",
    "l=[]\n",
    "n=int(input(\"Enter the size of array: \"))\n",
    "for i in range(n):\n",
    "    e=int(input())\n",
    "    l.append(e)\n",
    "print(\"Unsorted array: \", end=\"\")\n",
    "print_array(l)\n",
    "insertionSort(l)\n",
    "print(\"Sorted array: \", end=\"\")\n",
    "print_array(l)"
   ]
  },
  {
   "cell_type": "code",
   "execution_count": null,
   "id": "feea6594",
   "metadata": {},
   "outputs": [],
   "source": []
  }
 ],
 "metadata": {
  "kernelspec": {
   "display_name": "Python 3 (ipykernel)",
   "language": "python",
   "name": "python3"
  },
  "language_info": {
   "codemirror_mode": {
    "name": "ipython",
    "version": 3
   },
   "file_extension": ".py",
   "mimetype": "text/x-python",
   "name": "python",
   "nbconvert_exporter": "python",
   "pygments_lexer": "ipython3",
   "version": "3.9.13"
  }
 },
 "nbformat": 4,
 "nbformat_minor": 5
}

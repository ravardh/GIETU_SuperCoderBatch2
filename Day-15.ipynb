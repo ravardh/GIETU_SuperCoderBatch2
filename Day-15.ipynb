{
 "cells": [
  {
   "cell_type": "code",
   "execution_count": 5,
   "id": "d2122a93-4935-4690-9696-2fc68eb852b7",
   "metadata": {},
   "outputs": [
    {
     "name": "stdout",
     "output_type": "stream",
     "text": [
      "Node 0: 0:0, 1:4, 2:12, 3:19, 4:21, 5:11, 6:9, 7:8, 8:14, \n",
      "Node 1: 0:4, 1:0, 2:8, 3:15, 4:22, 5:12, 6:12, 7:11, 8:10, \n",
      "Node 2: 0:12, 1:8, 2:0, 3:7, 4:14, 5:4, 6:6, 7:7, 8:2, \n",
      "Node 3: 0:19, 1:15, 2:7, 3:0, 4:9, 5:11, 6:13, 7:14, 8:9, \n",
      "Node 4: 0:21, 1:22, 2:14, 3:9, 4:0, 5:10, 6:12, 7:13, 8:16, \n",
      "Node 5: 0:11, 1:12, 2:4, 3:11, 4:10, 5:0, 6:2, 7:3, 8:6, \n",
      "Node 6: 0:9, 1:12, 2:6, 3:13, 4:12, 5:2, 6:0, 7:1, 8:6, \n",
      "Node 7: 0:8, 1:11, 2:7, 3:14, 4:13, 5:3, 6:1, 7:0, 8:7, \n",
      "Node 8: 0:14, 1:10, 2:2, 3:9, 4:16, 5:6, 6:6, 7:7, 8:0, \n"
     ]
    }
   ],
   "source": [
    "import heapq\n",
    "import sys\n",
    "\n",
    "class Graph:\n",
    "    def __init__(self, vertices):\n",
    "        self.V = vertices\n",
    "        self.graph = [[] for _ in range(vertices)]\n",
    "        self.edges = []\n",
    "\n",
    "    def add_edge(self, u, v, w):\n",
    "        self.graph[u].append((v, w))\n",
    "        self.graph[v].append((u, w))\n",
    "        self.edges.append((u, v, w))\n",
    "\n",
    "class Dijkstra:\n",
    "    def __init__(self, graph):\n",
    "        self.graph = graph\n",
    "        self.distances = [float('inf')] * graph.V\n",
    "        self.visited = [False] * graph.V\n",
    "        self.pq = []\n",
    "\n",
    "    def shortest_path(self, src):\n",
    "        self.distances[src] = 0\n",
    "        heapq.heappush(self.pq, (0, src))\n",
    "\n",
    "        while self.pq:\n",
    "            weight, node = heapq.heappop(self.pq)\n",
    "            if self.visited[node]:\n",
    "                continue\n",
    "            self.visited[node] = True\n",
    "\n",
    "            for child, child_weight in self.graph.graph[node]:\n",
    "                if self.distances[child] > child_weight + weight:\n",
    "                    self.distances[child] = child_weight + weight\n",
    "                    heapq.heappush(self.pq, (self.distances[child], child))\n",
    "\n",
    "class ShortestDistance:\n",
    "    def __init__(self, graph):\n",
    "        self.graph = graph\n",
    "\n",
    "    def shortest_distances_from_source(self, src):\n",
    "        dijkstra = Dijkstra(self.graph)\n",
    "        dijkstra.shortest_path(src)\n",
    "        return dijkstra.distances\n",
    "\n",
    "if __name__ == \"__main__\":\n",
    "    N, M = 9, 14\n",
    "    g = Graph(N)\n",
    "    g.add_edge(0, 1, 4)\n",
    "    g.add_edge(1, 2, 8)\n",
    "    g.add_edge(2, 3, 7)\n",
    "    g.add_edge(3, 4, 9)\n",
    "    g.add_edge(4, 5, 10)\n",
    "    g.add_edge(5, 6, 2)\n",
    "    g.add_edge(6, 7, 1)\n",
    "    g.add_edge(7, 0, 8)\n",
    "    g.add_edge(1, 7, 11)\n",
    "    g.add_edge(7, 8, 7)\n",
    "    g.add_edge(2, 8, 2)\n",
    "    g.add_edge(6, 8, 6)\n",
    "    g.add_edge(2, 5, 4)\n",
    "    g.add_edge(3, 5, 14)\n",
    "\n",
    "    shortest_dist = ShortestDistance(g)\n",
    "    for i in range(N):\n",
    "        shortest_distances = shortest_dist.shortest_distances_from_source(i)\n",
    "        print(f\"Node {i}: \", end=\"\")\n",
    "        for j, distance in enumerate(shortest_distances):\n",
    "            if distance != float('inf'):\n",
    "                print(f\"{j}:{distance}\", end=\", \")\n",
    "        print()\n"
   ]
  },
  {
   "cell_type": "code",
   "execution_count": null,
   "id": "50ee419e-20a3-4f3f-925d-033191ccec6e",
   "metadata": {},
   "outputs": [],
   "source": []
  }
 ],
 "metadata": {
  "kernelspec": {
   "display_name": "Python 3 (ipykernel)",
   "language": "python",
   "name": "python3"
  },
  "language_info": {
   "codemirror_mode": {
    "name": "ipython",
    "version": 3
   },
   "file_extension": ".py",
   "mimetype": "text/x-python",
   "name": "python",
   "nbconvert_exporter": "python",
   "pygments_lexer": "ipython3",
   "version": "3.10.9"
  }
 },
 "nbformat": 4,
 "nbformat_minor": 5
}

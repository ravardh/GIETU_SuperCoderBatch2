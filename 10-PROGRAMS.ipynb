{
 "cells": [
  {
   "cell_type": "code",
   "execution_count": null,
   "id": "ca5639c9",
   "metadata": {},
   "outputs": [],
   "source": [
    "#BFS=queue\n",
    "#DFS=stack"
   ]
  },
  {
   "cell_type": "code",
   "execution_count": 4,
   "id": "6b08fe3b",
   "metadata": {},
   "outputs": [
    {
     "ename": "TypeError",
     "evalue": "tuple expected at most 1 argument, got 3",
     "output_type": "error",
     "traceback": [
      "\u001b[1;31m---------------------------------------------------------------------------\u001b[0m",
      "\u001b[1;31mTypeError\u001b[0m                                 Traceback (most recent call last)",
      "Cell \u001b[1;32mIn[4], line 31\u001b[0m\n\u001b[0;32m     29\u001b[0m end\u001b[38;5;241m=\u001b[39m\u001b[38;5;241m7\u001b[39m\n\u001b[0;32m     30\u001b[0m weight\u001b[38;5;241m=\u001b[39m\u001b[38;5;28;01mNone\u001b[39;00m               \n\u001b[1;32m---> 31\u001b[0m createGraph(graph, start, end, weight)\n\u001b[0;32m     32\u001b[0m BFS(graph)\n",
      "Cell \u001b[1;32mIn[4], line 7\u001b[0m, in \u001b[0;36mcreateGraph\u001b[1;34m(graph, start, end, weight)\u001b[0m\n\u001b[0;32m      6\u001b[0m \u001b[38;5;28;01mdef\u001b[39;00m \u001b[38;5;21mcreateGraph\u001b[39m(graph,start,end,weight):\n\u001b[1;32m----> 7\u001b[0m     graph[start\u001b[38;5;241m-\u001b[39m\u001b[38;5;241m1\u001b[39m]\u001b[38;5;241m.\u001b[39mappend(\u001b[38;5;28mtuple\u001b[39m(start,end,weight))\n",
      "\u001b[1;31mTypeError\u001b[0m: tuple expected at most 1 argument, got 3"
     ]
    }
   ],
   "source": [
    "v=9\n",
    "graph=[[] for _ in range(v)]\n",
    "for i in range(v):\n",
    "    graph[i]=[]\n",
    "\n",
    "def createGraph(graph,start,end,weight):\n",
    "    graph[start-1].append(tuple(start,end,weight))\n",
    "    \n",
    "\n",
    "def BFS(graph):\n",
    "    dict1={}\n",
    "    Queue=[]\n",
    "    for i in range(1, len(graph) + 1):\n",
    "        dict1[i] = False\n",
    "    n=int(input(\"from where you want to traverse: \"))\n",
    "    Queue.append(n)\n",
    "    dict1[n] = True\n",
    "    while Queue:\n",
    "        now=Queue.pop(0)\n",
    "        print(now,end=\" \")\n",
    "        for i in graph[now-1]:\n",
    "            dest=i[1]\n",
    "            if not dict1[dest]:\n",
    "                Queue.append(dest)\n",
    "                dict1[dest]=True\n",
    "\n",
    "start=1\n",
    "end=7\n",
    "weight=None               \n",
    "createGraph(graph, start, end, weight)\n",
    "BFS(graph)"
   ]
  },
  {
   "cell_type": "code",
   "execution_count": null,
   "id": "2efd1b2b",
   "metadata": {},
   "outputs": [],
   "source": [
    "#DFS(STACK)\n",
    "def DFS(graph):\n",
    "    \n",
    "    \n",
    "    "
   ]
  }
 ],
 "metadata": {
  "kernelspec": {
   "display_name": "Python 3 (ipykernel)",
   "language": "python",
   "name": "python3"
  },
  "language_info": {
   "codemirror_mode": {
    "name": "ipython",
    "version": 3
   },
   "file_extension": ".py",
   "mimetype": "text/x-python",
   "name": "python",
   "nbconvert_exporter": "python",
   "pygments_lexer": "ipython3",
   "version": "3.11.3"
  }
 },
 "nbformat": 4,
 "nbformat_minor": 5
}

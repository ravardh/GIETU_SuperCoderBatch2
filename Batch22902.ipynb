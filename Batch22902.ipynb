{
 "cells": [
  {
   "cell_type": "raw",
   "id": "dd610236-1592-4e36-80d7-02c1ae8ff900",
   "metadata": {},
   "source": [
    "AVL Tree Code"
   ]
  },
  {
   "cell_type": "code",
   "execution_count": 19,
   "id": "2582e43d-9ffd-4f5f-be13-555adaa6c62a",
   "metadata": {},
   "outputs": [
    {
     "name": "stdout",
     "output_type": "stream",
     "text": [
      "<__main__.node object at 0x0000016A8C606F90>\n",
      "12 18 20 36 44 50 52 76 90 "
     ]
    }
   ],
   "source": [
    "class node:\n",
    "    def __init__(self,value):\n",
    "        self.data = value\n",
    "        self.left = None\n",
    "        self.right = None\n",
    "        self.height = 1\n",
    "\n",
    "class AVLTree(object):\n",
    "\n",
    "    def insert(self,root,value):\n",
    "        if root == None:\n",
    "            return node(value)\n",
    "        if(value<root.data):\n",
    "            root.left = self.insert(root.left,value)\n",
    "        elif value>root.data:\n",
    "            root.right = self.insert(root.right,value)\n",
    "        \n",
    "        root.height = 1 + max(self.ght(root.left),\n",
    "                              self.ght(root.right))\n",
    "\n",
    "\n",
    "        bl = self.bal(root)\n",
    "\n",
    "        if bl > 1 and value < root.left.data:\n",
    "            return self.leftrotate(root)\n",
    "\n",
    "        if bl > 1 and value > root.left.data:\n",
    "            root.left = self.rightrotate(root.left)\n",
    "            return self.leftrotate(root)\n",
    "\n",
    "        if bl < -1 and value > root.right.data:\n",
    "            return self.rightrotate(root)\n",
    "\n",
    "        if bl < -1 and value < root.right.data:\n",
    "            root.right = self.leftrotate(root.right)\n",
    "            return self.rightrotate(root)\n",
    "        return root\n",
    "\n",
    "    def ght(self,root):\n",
    "        if root == None:\n",
    "            return 0\n",
    "        return root.height\n",
    "\n",
    "    def bal(self,root):\n",
    "        if root == None:\n",
    "            return 0\n",
    "        return self.ght(root.left)-self.ght(root.right)\n",
    "\n",
    "    def leftrotate(self,A):\n",
    "        B = A.left\n",
    "        temp = B.right\n",
    "        B.right = A\n",
    "        A.left = temp\n",
    "\n",
    "        A.height = 1 + max(self.ght(root.left),\n",
    "                              self.ght(root.right))\n",
    "        B.height = 1 + max(self.ght(root.left),\n",
    "                              self.ght(root.right))\n",
    "        return B\n",
    "\n",
    "    def rightrotate(self,A):\n",
    "        B = A.right\n",
    "        temp = B.left\n",
    "        B.left = A\n",
    "        A.right = temp\n",
    "\n",
    "        A.height = 1 + max(self.ght(root.left),\n",
    "                              self.ght(root.right))\n",
    "        B.height = 1 + max(self.ght(root.left),\n",
    "                              self.ght(root.right))\n",
    "        return B\n",
    "\n",
    "    def inorder(self,root):\n",
    "        if root == None:\n",
    "            return\n",
    "        self.inorder(root.left)\n",
    "        print(root.data, end=\" \")\n",
    "        self.inorder(root.right)\n",
    "    \n",
    "\n",
    "tree = AVLTree()\n",
    "\n",
    "root = None\n",
    "V_L = [50 , 36, 12, 20, 76, 18, 44, 52, 90]\n",
    "for x in V_L:\n",
    "    root = tree.insert(root,x)\n",
    "\n",
    "print(root)\n",
    "\n",
    "tree.inorder(root)"
   ]
  },
  {
   "cell_type": "code",
   "execution_count": 10,
   "id": "f9d01c9c-1ee3-4aeb-881a-6b4f8ee5b9dc",
   "metadata": {},
   "outputs": [
    {
     "name": "stdout",
     "output_type": "stream",
     "text": [
      "<__main__.node object at 0x0000016A8C4A6AE0>\n",
      "50 36 12 20 18 44 76 52 90 "
     ]
    }
   ],
   "source": [
    "class node:\n",
    "    def __init__(self,value):\n",
    "        self.data = value\n",
    "        self.left = None\n",
    "        self.right = None\n",
    "\n",
    "def insert(root,value):\n",
    "    if root == None:\n",
    "        return node(value)\n",
    "    if(value<root.data):\n",
    "        root.left = insert(root.left,value)\n",
    "    elif value>root.data:\n",
    "        root.right = insert(root.right,value)\n",
    "    return root\n",
    "\n",
    "def preorder(root):\n",
    "    if root == None:\n",
    "        return\n",
    "    print(root.data, end=\" \")\n",
    "    preorder(root.left)\n",
    "    preorder(root.right)\n",
    "\n",
    "root= None\n",
    "V_L = [50,36,12,20,44,76,18,44,52,90]\n",
    "for x in V_L:\n",
    "    root = insert(root,x)\n",
    "\n",
    "print(root)\n",
    "preorder(root)\n"
   ]
  },
  {
   "cell_type": "code",
   "execution_count": 11,
   "id": "c1f7b46a-767b-45e9-826c-171477fffcfb",
   "metadata": {},
   "outputs": [
    {
     "name": "stdout",
     "output_type": "stream",
     "text": [
      "<__main__.node object at 0x0000016A8C5EA990>\n",
      "50 36 12 20 18 44 76 52 90 "
     ]
    }
   ],
   "source": [
    "class node:\n",
    "    def __init__(self,value):\n",
    "        self.data = value\n",
    "        self.left = None\n",
    "        self.right = None\n",
    "\n",
    "def insert(root,value):\n",
    "    if value<root.data:\n",
    "        if root.left == None:\n",
    "            root.left = node(value)\n",
    "            return\n",
    "        insert(root.left,value)\n",
    "        \n",
    "    elif value>root.data:\n",
    "        if root.right == None:\n",
    "            root.right = node(value)\n",
    "            return\n",
    "        insert(root.right,value)\n",
    "        \n",
    "\n",
    "def preorder(root):\n",
    "    if root == None:\n",
    "        return\n",
    "    print(root.data, end=\" \")\n",
    "    preorder(root.left)\n",
    "    preorder(root.right)\n",
    "\n",
    "\n",
    "V_L = [50,36,12,20,44,76,18,44,52,90]\n",
    "root = node(V_L[0])\n",
    "for x in range(1,len(V_L)):\n",
    "    insert(root,V_L[x])\n",
    "\n",
    "print(root)\n",
    "preorder(root)"
   ]
  },
  {
   "cell_type": "code",
   "execution_count": null,
   "id": "b352b34a-9e3d-4c5e-88d1-39ccfc2bc4b8",
   "metadata": {},
   "outputs": [],
   "source": []
  }
 ],
 "metadata": {
  "kernelspec": {
   "display_name": "Python 3 (ipykernel)",
   "language": "python",
   "name": "python3"
  },
  "language_info": {
   "codemirror_mode": {
    "name": "ipython",
    "version": 3
   },
   "file_extension": ".py",
   "mimetype": "text/x-python",
   "name": "python",
   "nbconvert_exporter": "python",
   "pygments_lexer": "ipython3",
   "version": "3.12.1"
  }
 },
 "nbformat": 4,
 "nbformat_minor": 5
}

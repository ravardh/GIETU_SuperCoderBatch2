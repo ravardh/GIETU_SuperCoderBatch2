{
  "nbformat": 4,
  "nbformat_minor": 0,
  "metadata": {
    "colab": {
      "provenance": [],
      "authorship_tag": "ABX9TyP47hQ7CGFpqySPkhV9hq2N",
      "include_colab_link": true
    },
    "kernelspec": {
      "name": "python3",
      "display_name": "Python 3"
    },
    "language_info": {
      "name": "python"
    }
  },
  "cells": [
    {
      "cell_type": "markdown",
      "metadata": {
        "id": "view-in-github",
        "colab_type": "text"
      },
      "source": [
        "<a href=\"https://colab.research.google.com/github/ravardh/GIETU_SuperCoderBatch2/blob/Jatin_21CSE153/MatrixMultiplication.ipynb\" target=\"_parent\"><img src=\"https://colab.research.google.com/assets/colab-badge.svg\" alt=\"Open In Colab\"/></a>"
      ]
    },
    {
      "cell_type": "code",
      "execution_count": null,
      "metadata": {
        "id": "JPzHfE8IljzE"
      },
      "outputs": [],
      "source": [
        "\n",
        "r = int(input(\"enter the rows: \"))\n",
        "c = int(input(\"enter the columns: \"))\n",
        "\n",
        "print(\"enter matrix A: \")\n",
        "a = [[0 for i in range(c)] for j in range(r)]\n",
        "for i in range(r):\n",
        "    for j in range(c):\n",
        "        a[i][j] = int(input())\n",
        "\n",
        "print(\"enter matrix B: \")\n",
        "b = [[0 for i in range(c)] for j in range(r)]\n",
        "for i in range(r):\n",
        "    for j in range(c):\n",
        "        b[i][j] = int(input())\n",
        "\n",
        "print(\"multiplication matrix: \")\n",
        "d = [[0 for i in range(c)] for j in range(r)]\n",
        "for i in range(r):\n",
        "    for j in range(c):\n",
        "        d[i][j] = 0\n",
        "        for k in range(c):\n",
        "            d[i][j] += a[i][k] * b[k][j]\n",
        "        print(d[i][j], end=\" \")\n",
        "    print()\n"
      ]
    }
  ]
}
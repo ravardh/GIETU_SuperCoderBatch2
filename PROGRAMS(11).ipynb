{
 "cells": [
  {
   "cell_type": "code",
   "execution_count": 1,
   "id": "f6179fbe",
   "metadata": {},
   "outputs": [
    {
     "name": "stdout",
     "output_type": "stream",
     "text": [
      "Max Profit: 22.5\n"
     ]
    }
   ],
   "source": [
    "#FractionalKnapsack\n",
    "\n",
    "def fractional_knapsack(W, N, PW, PP):\n",
    "    ratio = [(PP[i] / PW[i], PW[i], PP[i]) for i in range(N)]\n",
    "    \n",
    "    ratio.sort(reverse=True)\n",
    "    \n",
    "    total_profit = 0.0\n",
    "    remaining_weight = W\n",
    "    \n",
    "    for i in range(N):\n",
    "        if ratio[i][1] <= remaining_weight:\n",
    "            total_profit += ratio[i][2]\n",
    "            remaining_weight -= ratio[i][1]\n",
    "        else:\n",
    "            total_profit += ratio[i][0] * remaining_weight\n",
    "            break  \n",
    "        \n",
    "    return total_profit\n",
    "\n",
    "W = 15\n",
    "N = 4\n",
    "PW = [5, 10, 10, 5]\n",
    "PP = [10, 5, 5, 10]\n",
    "\n",
    "max_profit = fractional_knapsack(W, N, PW, PP)\n",
    "print(\"Max Profit:\", max_profit)"
   ]
  },
  {
   "cell_type": "code",
   "execution_count": 2,
   "id": "eed9d655",
   "metadata": {},
   "outputs": [
    {
     "name": "stdout",
     "output_type": "stream",
     "text": [
      "Second player wins\n"
     ]
    }
   ],
   "source": [
    "#Coin Game Problem\n",
    "\n",
    "def coin_game_strategy(coins):\n",
    "    total_coins = len(coins)\n",
    "    if total_coins % 2 != 0:\n",
    "        return \"Invalid input: Number of coins should be even\"\n",
    "\n",
    "    def max_value(coins, start, end):\n",
    "        if start == end:\n",
    "            return coins[start]\n",
    "        if start + 1 == end:\n",
    "            return max(coins[start], coins[end])\n",
    "\n",
    "        return max(\n",
    "            coins[start] + min(max_value(coins, start + 2, end), max_value(coins, start + 1, end - 1)),\n",
    "            coins[end] + min(max_value(coins, start + 1, end - 1), max_value(coins, start, end - 2))\n",
    "        )\n",
    "\n",
    "    max_value_second_player = max_value(coins, 0, total_coins - 1)\n",
    "    total_value = sum(coins)\n",
    "    if max_value_second_player > total_value - max_value_second_player:\n",
    "        return \"Second player wins\"\n",
    "    elif max_value_second_player == total_value - max_value_second_player:\n",
    "        return \"The game is a tie\"\n",
    "    else:\n",
    "        return \"First player wins\"\n",
    "\n",
    "coins = [18, 20, 15, 30, 10, 14]\n",
    "print(coin_game_strategy(coins))"
   ]
  },
  {
   "cell_type": "code",
   "execution_count": 3,
   "id": "8838109c",
   "metadata": {},
   "outputs": [
    {
     "name": "stdout",
     "output_type": "stream",
     "text": [
      "Maximum number of potential treasure locations: 4\n"
     ]
    }
   ],
   "source": [
    "#Treasure Hunt\n",
    "\n",
    "def max_treasure_locations(locations, compass_range):\n",
    "    if not locations:\n",
    "        return 0\n",
    "    \n",
    "    locations.sort()  \n",
    "    max_count = 1  \n",
    "    n = len(locations)\n",
    "\n",
    "    left = 0\n",
    "    right = 1\n",
    "\n",
    "    while right < n:\n",
    "        if locations[right] - locations[left] <= compass_range:\n",
    "            max_count = max(max_count, right - left + 1)\n",
    "            right += 1\n",
    "        else:\n",
    "            left += 1\n",
    "\n",
    "    return max_count\n",
    "\n",
    "locations = [2, 7, 1, 4, 8, 3, 5]\n",
    "compass_range = 3\n",
    "max_locations = max_treasure_locations(locations, compass_range)\n",
    "print(\"Maximum number of potential treasure locations:\", max_locations)"
   ]
  },
  {
   "cell_type": "code",
   "execution_count": 4,
   "id": "7c1a7242",
   "metadata": {},
   "outputs": [
    {
     "name": "stdout",
     "output_type": "stream",
     "text": [
      "The winning child is: 5\n"
     ]
    }
   ],
   "source": [
    "#Musical Chair\n",
    "\n",
    "def find_winning_child(N, K):\n",
    "    children = list(range(1, N + 1))\n",
    "\n",
    "    index = 0\n",
    "\n",
    "    while len(children) > 1:\n",
    "        index = (index + K - 1) % len(children)\n",
    "        children.pop(index)\n",
    "\n",
    "    return children[0]\n",
    "\n",
    "N = 14\n",
    "K = 20\n",
    "print(\"The winning child is:\", find_winning_child(N, K))"
   ]
  },
  {
   "cell_type": "code",
   "execution_count": 5,
   "id": "1d33b5a5",
   "metadata": {},
   "outputs": [
    {
     "name": "stdout",
     "output_type": "stream",
     "text": [
      "Length of longest subarray with sum zero: 5\n"
     ]
    }
   ],
   "source": [
    "#Longest SubArray\n",
    "\n",
    "def longest_zero_sum_subarray(arr):\n",
    "    sum_map = {}\n",
    "    max_len = 0\n",
    "    curr_sum = 0\n",
    "\n",
    "    for i in range(len(arr)):\n",
    "        curr_sum += arr[i]\n",
    "\n",
    "        if curr_sum == 0:\n",
    "            max_len = i + 1\n",
    "\n",
    "        if curr_sum in sum_map:\n",
    "            max_len = max(max_len, i - sum_map[curr_sum])\n",
    "        else:\n",
    "            sum_map[curr_sum] = i\n",
    "\n",
    "    return max_len\n",
    "\n",
    "arr = [9, -3, 3, -1, 6, -5]\n",
    "result = longest_zero_sum_subarray(arr)\n",
    "print(\"Length of longest subarray with sum zero:\", result)"
   ]
  },
  {
   "cell_type": "code",
   "execution_count": null,
   "id": "7c5a1603",
   "metadata": {},
   "outputs": [],
   "source": []
  }
 ],
 "metadata": {
  "kernelspec": {
   "display_name": "Python 3 (ipykernel)",
   "language": "python",
   "name": "python3"
  },
  "language_info": {
   "codemirror_mode": {
    "name": "ipython",
    "version": 3
   },
   "file_extension": ".py",
   "mimetype": "text/x-python",
   "name": "python",
   "nbconvert_exporter": "python",
   "pygments_lexer": "ipython3",
   "version": "3.10.6"
  }
 },
 "nbformat": 4,
 "nbformat_minor": 5
}

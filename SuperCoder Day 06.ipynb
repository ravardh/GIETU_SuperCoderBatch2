{
 "cells": [
  {
   "cell_type": "markdown",
   "id": "e4d5bf52",
   "metadata": {},
   "source": [
    "## Left View of a Binary Tree Using Level Order Traversal"
   ]
  },
  {
   "cell_type": "code",
   "execution_count": 1,
   "id": "6c6f3a5d",
   "metadata": {},
   "outputs": [
    {
     "name": "stdout",
     "output_type": "stream",
     "text": [
      "10 2 7 14 "
     ]
    }
   ],
   "source": [
    "class newNode:\n",
    "    def __init__(self, key):\n",
    "        self.data = key\n",
    "        self.left = None\n",
    "        self.right = None\n",
    "        self.hd = 0\n",
    "\n",
    "def printLeftView(root):\n",
    "\n",
    "    if (not root):\n",
    "        return\n",
    "\n",
    "    q = []\n",
    "    q.append(root)\n",
    "    \n",
    "    while (len(q)):\n",
    "        n = len(q)\n",
    "\n",
    "        for i in range(1, n + 1):\n",
    "            temp = q[0]\n",
    "            q.pop(0)\n",
    "            \n",
    "            if (i == 1):\n",
    "                print(temp.data, end=\" \")\n",
    "                \n",
    "            if (temp.left != None):\n",
    "                q.append(temp.left)\n",
    "\n",
    "            if (temp.right != None):\n",
    "                q.append(temp.right)\n",
    "\n",
    "\n",
    "# Driver Code\n",
    "if __name__ == '__main__':\n",
    "\n",
    "    root = newNode(10)\n",
    "    root.left = newNode(2)\n",
    "    root.right = newNode(3)\n",
    "    root.left.left = newNode(7)\n",
    "    root.left.right = newNode(8)\n",
    "    root.right.right = newNode(15)\n",
    "    root.right.left = newNode(12)\n",
    "    root.right.right.left = newNode(14)\n",
    "    printLeftView(root)\n",
    "    \n"
   ]
  },
  {
   "cell_type": "code",
   "execution_count": null,
   "id": "7aa4ad36",
   "metadata": {},
   "outputs": [],
   "source": []
  }
 ],
 "metadata": {
  "kernelspec": {
   "display_name": "Python 3 (ipykernel)",
   "language": "python",
   "name": "python3"
  },
  "language_info": {
   "codemirror_mode": {
    "name": "ipython",
    "version": 3
   },
   "file_extension": ".py",
   "mimetype": "text/x-python",
   "name": "python",
   "nbconvert_exporter": "python",
   "pygments_lexer": "ipython3",
   "version": "3.9.13"
  }
 },
 "nbformat": 4,
 "nbformat_minor": 5
}

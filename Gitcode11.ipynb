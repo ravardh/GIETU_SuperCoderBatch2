{
  "nbformat": 4,
  "nbformat_minor": 0,
  "metadata": {
    "colab": {
      "provenance": []
    },
    "kernelspec": {
      "name": "python3",
      "display_name": "Python 3"
    },
    "language_info": {
      "name": "python"
    }
  },
  "cells": [
    {
      "cell_type": "code",
      "execution_count": 1,
      "metadata": {
        "colab": {
          "base_uri": "https://localhost:8080/"
        },
        "id": "-_Pm3wpbq2Cy",
        "outputId": "f0f6bbbf-25db-42c2-95c1-e1bddc1aabf3"
      },
      "outputs": [
        {
          "output_type": "stream",
          "name": "stdout",
          "text": [
            "[[(1, 2, 1)], [(2, 1, 1)]]\n",
            "Does the graph contain a cycle? False\n"
          ]
        }
      ],
      "source": [
        "def DFS_cycle(start, graph, visited, parent):\n",
        "    visited[start - 1] = True\n",
        "\n",
        "    for i in graph[start - 1]:\n",
        "        if not visited[i[1] - 1]:\n",
        "            parent[i[1] - 1] = start\n",
        "            if DFS_cycle(i[1], graph, visited, parent):\n",
        "                return True\n",
        "        elif parent[start - 1] != i[1]:\n",
        "            return True\n",
        "\n",
        "    return False\n",
        "\n",
        "\n",
        "def has_cycle(graph):\n",
        "    v = len(graph)\n",
        "    visited = [False] * v\n",
        "    parent = [-1] * v\n",
        "\n",
        "    for i in range(v):\n",
        "        if not visited[i]:\n",
        "            if DFS_cycle(i + 1, graph, visited, parent):\n",
        "                return True\n",
        "\n",
        "    return False\n",
        "\n",
        "def create_graph(graph,source,destination,weight=1):\n",
        "    graph[source-1].append((source,destination,weight))\n",
        "\n",
        "v = 2  #11\n",
        "graph = [[] for _ in range(v)]\n",
        "\n",
        "create_graph(graph, 1, 2)\n",
        "create_graph(graph, 2, 1)\n",
        "\n",
        "# create_graph(graph, 1, 2)\n",
        "# create_graph(graph, 1, 3)\n",
        "# create_graph(graph, 1, 10)\n",
        "# create_graph(graph, 2, 1)\n",
        "# create_graph(graph, 2, 4)\n",
        "# create_graph(graph, 3, 1)\n",
        "# create_graph(graph, 3, 7)\n",
        "# create_graph(graph, 4, 2)\n",
        "# create_graph(graph, 4, 5)\n",
        "# create_graph(graph, 4, 7)\n",
        "# create_graph(graph, 4, 8)\n",
        "# create_graph(graph, 5, 4)\n",
        "# create_graph(graph, 5, 6)\n",
        "# create_graph(graph, 6, 5)\n",
        "# create_graph(graph, 6, 10)\n",
        "# create_graph(graph, 6, 9)\n",
        "# create_graph(graph, 7, 3)\n",
        "# create_graph(graph, 7, 4)\n",
        "# create_graph(graph, 7, 11)\n",
        "# create_graph(graph, 8, 4)\n",
        "# create_graph(graph, 8, 9)\n",
        "# create_graph(graph, 9, 6)\n",
        "# create_graph(graph, 9, 8)\n",
        "# create_graph(graph, 10, 1)\n",
        "# create_graph(graph, 10, 6)\n",
        "# create_graph(graph, 11, 7)\n",
        "\n",
        "print(graph)\n",
        "print(\"Does the graph contain a cycle?\", has_cycle(graph))"
      ]
    },
    {
      "cell_type": "code",
      "source": [],
      "metadata": {
        "id": "KC91FN9dq3GW"
      },
      "execution_count": null,
      "outputs": []
    }
  ]
}
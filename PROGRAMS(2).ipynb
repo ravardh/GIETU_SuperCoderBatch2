{
 "cells": [
  {
   "cell_type": "code",
   "execution_count": 1,
   "id": "a77a4276",
   "metadata": {},
   "outputs": [
    {
     "name": "stdout",
     "output_type": "stream",
     "text": [
      "Enter Elements of Array: [1,3,6,4,5,8,7,9]\n",
      "Max Sum of Three Consecutive Numbers: 24\n"
     ]
    }
   ],
   "source": [
    "#SLIDING WINDOW\n",
    "\n",
    "def max_num(arr):\n",
    "    if len(arr) < 3:\n",
    "        return \"Array should have at least three elements.\"\n",
    "\n",
    "    max_sum = sum(arr[:3])\n",
    "\n",
    "    for i in range(3, len(arr)):\n",
    "        current_sum = sum(arr[i - 2:i + 1])\n",
    "        max_sum = max(max_sum, current_sum)\n",
    "\n",
    "    return max_sum\n",
    "\n",
    "data=eval(input(\"Enter Elements of Array: \"))\n",
    "max_num(data)\n",
    "result=max_num(data)\n",
    "print(\"Max Sum of Three Consecutive Numbers:\", result)"
   ]
  },
  {
   "cell_type": "code",
   "execution_count": 2,
   "id": "f01548f8",
   "metadata": {},
   "outputs": [
    {
     "name": "stdout",
     "output_type": "stream",
     "text": [
      "11 th position match\n",
      "15 th position match\n"
     ]
    }
   ],
   "source": [
    "#STRING_PATTERN\n",
    "\n",
    "string=\"BCDECACSCBNCBACCBACCC\"\n",
    "pattern=\"CBA\"\n",
    "for i in range(0,len(string)):\n",
    "    sub_array=string[i:i+3]\n",
    "    if(len(sub_array)==len(pattern)):\n",
    "        if(pattern==sub_array):\n",
    "            print(i,\"th position match\")"
   ]
  },
  {
   "cell_type": "code",
   "execution_count": 3,
   "id": "598fed14",
   "metadata": {},
   "outputs": [
    {
     "name": "stdout",
     "output_type": "stream",
     "text": [
      " [1,3,6,4,5,8,7,9]\n",
      "3\n",
      "[1, 3, 6] 6\n",
      "[3, 6, 4] 6\n",
      "[6, 4, 5] 6\n",
      "[4, 5, 8] 8\n",
      "[5, 8, 7] 8\n",
      "[8, 7, 9] 9\n"
     ]
    }
   ],
   "source": [
    "#MAX_VAL_IN_ARRAY\n",
    "\n",
    "array=eval(input())\n",
    "size=int(input())\n",
    "for i in range(0,len(array)):\n",
    "    sub_array=array[i:i+size]\n",
    "    if(len(sub_array)==size):\n",
    "        print(sub_array,max(sub_array))"
   ]
  },
  {
   "cell_type": "code",
   "execution_count": null,
   "id": "0c4e7a58",
   "metadata": {},
   "outputs": [],
   "source": []
  }
 ],
 "metadata": {
  "kernelspec": {
   "display_name": "Python 3 (ipykernel)",
   "language": "python",
   "name": "python3"
  },
  "language_info": {
   "codemirror_mode": {
    "name": "ipython",
    "version": 3
   },
   "file_extension": ".py",
   "mimetype": "text/x-python",
   "name": "python",
   "nbconvert_exporter": "python",
   "pygments_lexer": "ipython3",
   "version": "3.10.6"
  }
 },
 "nbformat": 4,
 "nbformat_minor": 5
}

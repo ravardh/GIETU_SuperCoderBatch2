{
 "cells": [
  {
   "cell_type": "markdown",
   "id": "86d0bdc5",
   "metadata": {},
   "source": [
    "## Quick Sort"
   ]
  },
  {
   "cell_type": "code",
   "execution_count": 1,
   "id": "8f641c26",
   "metadata": {},
   "outputs": [
    {
     "name": "stdout",
     "output_type": "stream",
     "text": [
      "Enter size 5\n",
      "Enter value 2\n",
      "Enter value 4\n",
      "Enter value 5\n",
      "Enter value 7\n",
      "Enter value 7\n",
      "Sorted array:\n",
      "2 4 5 7 7 "
     ]
    }
   ],
   "source": [
    "def partition(arr,low,high):\n",
    "    piv=arr[high]\n",
    "    i=low-1\n",
    "    for j in range(low,high):\n",
    "        if arr[j]<=piv:\n",
    "            i=i+1\n",
    "            (arr[i],arr[j])=(arr[j],arr[i])\n",
    "    (arr[i+1],arr[high])=(arr[high],arr[i+1])\n",
    "    return i+1\n",
    "\n",
    "\n",
    "def quicksort(arr,low,high):\n",
    "    if low<high:\n",
    "        piv=partition(arr,low,high)\n",
    "        quicksort(arr,low,piv-1)\n",
    "        quicksort(arr,piv+1,high)\n",
    "\n",
    "\n",
    "if __name__ == '__main__':\n",
    "    arr=[]\n",
    "    N = int(input(\"Enter size \"))\n",
    "    for i in range(0,N):\n",
    "        arr.append(int(input(\"Enter value \")))\n",
    "    quicksort(arr, 0, N - 1)\n",
    "    print('Sorted array:')\n",
    "    for x in arr:\n",
    "        print(x, end=\" \")\n"
   ]
  },
  {
   "cell_type": "markdown",
   "id": "e04af83a",
   "metadata": {},
   "source": [
    "## Selection Sort"
   ]
  },
  {
   "cell_type": "code",
   "execution_count": 10,
   "id": "f2cec5b1",
   "metadata": {},
   "outputs": [
    {
     "name": "stdout",
     "output_type": "stream",
     "text": [
      "The sorted array is:  [6, 8, 12, 54, 65, 7676]\n"
     ]
    }
   ],
   "source": [
    "def selection(array):  \n",
    "    length = len(array)  \n",
    "    for i in range(length-1):  \n",
    "        minIndex = i  \n",
    "        for j in range(i+1,length):  \n",
    "            if array[j]<array[minIndex]:  \n",
    "                minIndex = j  \n",
    "        array[i], array[minIndex] = array[minIndex],array[i]  \n",
    "    return array      \n",
    "array = [12,54,65,7676,8,6]  \n",
    "print(\"The sorted array is: \",selection(array))"
   ]
  },
  {
   "cell_type": "markdown",
   "id": "cc0c6f89",
   "metadata": {},
   "source": [
    "## Bubble Sort"
   ]
  },
  {
   "cell_type": "code",
   "execution_count": 17,
   "id": "3234bc08",
   "metadata": {},
   "outputs": [
    {
     "name": "stdout",
     "output_type": "stream",
     "text": [
      "Enter the number of elements: 5\n",
      "Enter element 1: 3\n",
      "Enter element 2: 9\n",
      "Enter element 3: 5\n",
      "Enter element 4: 1\n",
      "Enter element 5: 0\n",
      "Sorted array is:\n",
      " 0  1  3  5  9 "
     ]
    }
   ],
   "source": [
    "def bubble(arr):\n",
    "    n = len(arr)\n",
    "    swapped = False\n",
    "    for i in range(n-1):\n",
    "        for j in range(0, n-i-1):\n",
    "            if arr[j] > arr[j + 1]:\n",
    "                swapped = True\n",
    "                arr[j], arr[j + 1] = arr[j + 1], arr[j]\n",
    "        \n",
    "        if not swapped:\n",
    "            return\n",
    "\n",
    "n = int(input(\"Enter the number of elements: \"))\n",
    "arr = []\n",
    "for i in range(n):\n",
    "    element = int(input(f\"Enter element {i+1}: \"))\n",
    "    arr.append(element)\n",
    "\n",
    "bubble(arr)\n",
    "print(\"Sorted array is:\")\n",
    "for i in range(len(arr)):\n",
    "    print(\"% d\" % arr[i], end=\" \")\n"
   ]
  },
  {
   "cell_type": "code",
   "execution_count": null,
   "id": "bbca0e4c",
   "metadata": {},
   "outputs": [],
   "source": []
  }
 ],
 "metadata": {
  "kernelspec": {
   "display_name": "Python 3 (ipykernel)",
   "language": "python",
   "name": "python3"
  },
  "language_info": {
   "codemirror_mode": {
    "name": "ipython",
    "version": 3
   },
   "file_extension": ".py",
   "mimetype": "text/x-python",
   "name": "python",
   "nbconvert_exporter": "python",
   "pygments_lexer": "ipython3",
   "version": "3.9.13"
  }
 },
 "nbformat": 4,
 "nbformat_minor": 5
}

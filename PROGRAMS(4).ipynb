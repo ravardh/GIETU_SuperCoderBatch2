{
 "cells": [
  {
   "cell_type": "code",
   "execution_count": 3,
   "id": "69e3632f",
   "metadata": {},
   "outputs": [
    {
     "name": "stdout",
     "output_type": "stream",
     "text": [
      "Post Order Traversal\n",
      "7\n",
      "8\n",
      "4\n",
      "1\n",
      "0\n",
      "6\n",
      "2\n"
     ]
    }
   ],
   "source": [
    "class Node:\n",
    "    def __init__(self,data):\n",
    "        self.data=data\n",
    "        self.left=None\n",
    "        self.right=None\n",
    "\n",
    "def PostOrder(root):\n",
    "    if root:\n",
    "        PostOrder(root.left)\n",
    "        PostOrder(root.right)\n",
    "        print(root.data)\n",
    "if __name__==\"__main__\":\n",
    "    root=Node(2)\n",
    "    root.left=Node(4)\n",
    "    root.right=Node(6)\n",
    "    root.left.left=Node(7)\n",
    "    root.left.right=Node(8)\n",
    "    root.right.left=Node(1)\n",
    "    root.right.right=Node(0)\n",
    "\n",
    "print(\"Post Order Traversal\")\n",
    "PostOrder(root)"
   ]
  },
  {
   "cell_type": "code",
   "execution_count": 4,
   "id": "cb687a5d",
   "metadata": {},
   "outputs": [
    {
     "name": "stdout",
     "output_type": "stream",
     "text": [
      "PreOrder Traversal\n",
      "1\n",
      "2\n",
      "4\n",
      "5\n",
      "3\n",
      "6\n",
      "7\n"
     ]
    }
   ],
   "source": [
    "class Node:\n",
    "    def __init__(self,data):\n",
    "                 self.data=data\n",
    "                 self.left=None\n",
    "                 self.right=None\n",
    "\n",
    "def PreOrder(root):\n",
    "        if root:\n",
    "            print(root.data)\n",
    "            PreOrder(root.left)\n",
    "            PreOrder(root.right)\n",
    "\n",
    "if __name__==\"__main__\":\n",
    "    root=Node(1)\n",
    "    root.left=Node(2)\n",
    "    root.right=Node(3)\n",
    "    root.left.left=Node(4)\n",
    "    root.left.right=Node(5)\n",
    "    root.right.left=Node(6)\n",
    "    root.right.right=Node(7)\n",
    "print(\"PreOrder Traversal\")\n",
    "PreOrder(root)"
   ]
  },
  {
   "cell_type": "code",
   "execution_count": 5,
   "id": "e7673748",
   "metadata": {},
   "outputs": [
    {
     "name": "stdout",
     "output_type": "stream",
     "text": [
      "InOrder Traversal\n",
      "4\n",
      "2\n",
      "5\n",
      "1\n",
      "6\n",
      "3\n",
      "7\n"
     ]
    }
   ],
   "source": [
    "class Node:\n",
    "    def __init__(self,data):\n",
    "                 self.data=data\n",
    "                 self.left=None\n",
    "                 self.right=None\n",
    "\n",
    "def InOrder(root):\n",
    "        if root:\n",
    "            InOrder(root.left)\n",
    "            print(root.data)\n",
    "            InOrder(root.right)\n",
    "\n",
    "if __name__==\"__main__\":\n",
    "    root=Node(1)\n",
    "    root.left=Node(2)\n",
    "    root.right=Node(3)\n",
    "    root.left.left=Node(4)\n",
    "    root.left.right=Node(5)\n",
    "    root.right.left=Node(6)\n",
    "    root.right.right=Node(7)\n",
    "print(\"InOrder Traversal\")\n",
    "InOrder(root)"
   ]
  },
  {
   "cell_type": "code",
   "execution_count": 5,
   "id": "9b813ab8",
   "metadata": {},
   "outputs": [
    {
     "name": "stdout",
     "output_type": "stream",
     "text": [
      "<__main__.Node object at 0x00000207743EBAF0>\n",
      "1\n",
      "Level order Traversal\n",
      "1 \n",
      "2 4 \n",
      "19 14 6 12 \n",
      "9 5 16 8 11 \n",
      "10 15 17 20 \n"
     ]
    }
   ],
   "source": [
    "class Node:\n",
    "    def __init__(self,data):\n",
    "        self.data=data\n",
    "        self.left=None\n",
    "        self.right=None\n",
    "\n",
    "\n",
    "def inorder(root):\n",
    "    if root == None:\n",
    "        return\n",
    "    \n",
    "    inorder(root.left)\n",
    "    print(root.data)\n",
    "    inorder(root.right)\n",
    "\n",
    "def preorder(root):\n",
    "    if root == None:\n",
    "        return\n",
    "    \n",
    "    print(root.data)\n",
    "    preorder(root.left)\n",
    "    preorder(root.right)\n",
    "\n",
    "def postorder(root):\n",
    "    if root == None:\n",
    "        return\n",
    "    postorder(root.left)\n",
    "    postorder(root.right)\n",
    "    print(root.data)\n",
    "   \n",
    "def levelorder(root):\n",
    "    if root is None:\n",
    "        return\n",
    "    \n",
    "    Q = [root]\n",
    "\n",
    "    while Q:\n",
    "        level_length = len(Q)\n",
    "        for _ in range(level_length):\n",
    "            cur = Q.pop(0)\n",
    "            print(cur.data, end=\" \")\n",
    "            \n",
    "            if cur.left:\n",
    "                Q.append(cur.left)\n",
    "            if cur.right:\n",
    "                Q.append(cur.right)\n",
    "        print()  \n",
    "\n",
    "root=Node(1)\n",
    "root.left=Node(2)\n",
    "root.right=Node(4)\n",
    "root.left.left=Node(19)\n",
    "root.left.right=Node(14)\n",
    "root.right.left=Node(6)\n",
    "root.right.right=Node(12)\n",
    "root.left.right.left=Node(9)\n",
    "root.left.right.right=Node(5)\n",
    "root.left.right.left.right=Node(10)\n",
    "root.right.left.right=Node(16)\n",
    "root.right.right.left=Node(8)\n",
    "root.right.right.right=Node(11)\n",
    "root.right.right.left.left=Node(15)\n",
    "root.right.right.right.left=Node(17)\n",
    "root.right.right.right.right=Node(20)\n",
    "\n",
    "print(root)\n",
    "print(root.data)\n",
    "\n",
    "\n",
    "print(\"Level order Traversal\")\n",
    "levelorder(root)\n"
   ]
  }
 ],
 "metadata": {
  "kernelspec": {
   "display_name": "Python 3 (ipykernel)",
   "language": "python",
   "name": "python3"
  },
  "language_info": {
   "codemirror_mode": {
    "name": "ipython",
    "version": 3
   },
   "file_extension": ".py",
   "mimetype": "text/x-python",
   "name": "python",
   "nbconvert_exporter": "python",
   "pygments_lexer": "ipython3",
   "version": "3.10.6"
  }
 },
 "nbformat": 4,
 "nbformat_minor": 5
}

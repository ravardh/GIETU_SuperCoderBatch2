{
  "nbformat": 4,
  "nbformat_minor": 0,
  "metadata": {
    "colab": {
      "provenance": [],
      "authorship_tag": "ABX9TyOzEikjPaue11nA0cIQo3iD",
      "include_colab_link": true
    },
    "kernelspec": {
      "name": "python3",
      "display_name": "Python 3"
    },
    "language_info": {
      "name": "python"
    }
  },
  "cells": [
    {
      "cell_type": "markdown",
      "metadata": {
        "id": "view-in-github",
        "colab_type": "text"
      },
      "source": [
        "<a href=\"https://colab.research.google.com/github/ravardh/GIETU_SuperCoderBatch2/blob/Kundan_21cse046/pattern_and_slidingWindow.ipynb\" target=\"_parent\"><img src=\"https://colab.research.google.com/assets/colab-badge.svg\" alt=\"Open In Colab\"/></a>"
      ]
    },
    {
      "cell_type": "code",
      "execution_count": 4,
      "metadata": {
        "colab": {
          "base_uri": "https://localhost:8080/"
        },
        "id": "MXAWe7aQwA8k",
        "outputId": "81a483c1-54f7-46d9-9bef-a30a4e8c420a"
      },
      "outputs": [
        {
          "output_type": "stream",
          "name": "stdout",
          "text": [
            "Number of occurrences of pattern 'CBA': 2\n"
          ]
        }
      ],
      "source": [
        "string = \"ABCBBACBAABACBABC\"\n",
        "pattern = \"CBA\"\n",
        "\n",
        "count = 0\n",
        "\n",
        "for i in range(len(string) - len(pattern) + 1):\n",
        "    if string[i:i+len(pattern)] == pattern:\n",
        "        count += 1\n",
        "\n",
        "print(\"Number of occurrences of pattern '{}': {}\".format(pattern, count))"
      ]
    },
    {
      "cell_type": "code",
      "source": [
        "string=\"abcabcabcabchgdabcabc\"\n",
        "pattern=\"abc\"\n",
        "\n",
        "count=0\n",
        "for i in range(len(string)-len(pattern)+1):\n",
        "  if string[i:i+len(pattern)]==pattern:\n",
        "    count+=1\n",
        "print(\"number of occurence of pattern '{}':{}\".format(pattern,count))"
      ],
      "metadata": {
        "colab": {
          "base_uri": "https://localhost:8080/"
        },
        "id": "79gM5PbpzHAW",
        "outputId": "f4f57b96-013b-48c0-d17f-c9e567bfa0c1"
      },
      "execution_count": 6,
      "outputs": [
        {
          "output_type": "stream",
          "name": "stdout",
          "text": [
            "number of occurence of pattern 'abc':6\n"
          ]
        }
      ]
    },
    {
      "cell_type": "code",
      "source": [
        "a=[1,3,5,2,7,4,8,9,5,3,5,7,9,3,2,0]\n",
        "k=3\n",
        "sum=0\n",
        "max=0\n",
        "for  i in range(k):\n",
        "    sum=sum+a[i]\n",
        "max=sum\n",
        "for i in range(k,len(a)):\n",
        "    sum=sum-a[i-k]\n",
        "    sum=sum+a[i]\n",
        "    if(sum>max):\n",
        "        max=sum\n",
        "print(max)"
      ],
      "metadata": {
        "colab": {
          "base_uri": "https://localhost:8080/"
        },
        "id": "AGIQ_usF0Kxg",
        "outputId": "69ef5594-f157-4d68-c675-9c691eb608f2"
      },
      "execution_count": 7,
      "outputs": [
        {
          "output_type": "stream",
          "name": "stdout",
          "text": [
            "22\n"
          ]
        }
      ]
    }
  ]
}
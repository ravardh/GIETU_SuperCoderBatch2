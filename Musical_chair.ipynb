{
  "nbformat": 4,
  "nbformat_minor": 0,
  "metadata": {
    "colab": {
      "provenance": [],
      "authorship_tag": "ABX9TyPu8rxsw+/qAPxdmciB0K4Z",
      "include_colab_link": true
    },
    "kernelspec": {
      "name": "python3",
      "display_name": "Python 3"
    },
    "language_info": {
      "name": "python"
    }
  },
  "cells": [
    {
      "cell_type": "markdown",
      "metadata": {
        "id": "view-in-github",
        "colab_type": "text"
      },
      "source": [
        "<a href=\"https://colab.research.google.com/github/ravardh/GIETU_SuperCoderBatch2/blob/Jatin_21CSE153/Musical_chair.ipynb\" target=\"_parent\"><img src=\"https://colab.research.google.com/assets/colab-badge.svg\" alt=\"Open In Colab\"/></a>"
      ]
    },
    {
      "cell_type": "code",
      "execution_count": 1,
      "metadata": {
        "colab": {
          "base_uri": "https://localhost:8080/"
        },
        "id": "cHrRfT_AHGOa",
        "outputId": "a4199c63-3d28-4fca-938c-baad6e267ee1"
      },
      "outputs": [
        {
          "output_type": "stream",
          "name": "stdout",
          "text": [
            "Winner: 5\n"
          ]
        }
      ],
      "source": [
        "def find_winner(N, K):\n",
        "    children = list(range(1, N + 1))\n",
        "    index = 0\n",
        "    while len(children) > 1:\n",
        "        index = (index + K - 1) % len(children)\n",
        "        del children[index]\n",
        "\n",
        "    return children[0]\n",
        "\n",
        "\n",
        "N = 14\n",
        "K = 20\n",
        "\n",
        "print(\"Winner:\", find_winner(N, K))"
      ]
    }
  ]
}
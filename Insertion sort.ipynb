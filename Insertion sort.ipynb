{
 "cells": [
  {
   "cell_type": "code",
   "execution_count": 2,
   "id": "5e670e38",
   "metadata": {},
   "outputs": [
    {
     "name": "stdout",
     "output_type": "stream",
     "text": [
      "Enter the size of array: 5\n",
      "33\n",
      "22\n",
      "66\n",
      "77\n",
      "11\n",
      "Unsorted array: 33 22 66 77 11 \n",
      "Sorted array: 11 22 33 66 77 \n"
     ]
    }
   ],
   "source": [
    "# Insertion Sort\n",
    "def print_array(arr):\n",
    "    for i in range(len(arr)):\n",
    "        print(arr[i], end=\" \")\n",
    "    print()\n",
    "def insertionSort(arr):\n",
    "    n = len(arr) \n",
    "    if n <= 1:\n",
    "        return \n",
    "    for i in range(1, n): \n",
    "        key = arr[i] \n",
    "        j = i-1\n",
    "        while j >= 0 and key < arr[j]: \n",
    "            arr[j+1] = arr[j] \n",
    "            j -= 1\n",
    "        arr[j+1] = key \n",
    "arr=[]\n",
    "n=int(input(\"Enter the size of array: \"))\n",
    "for i in range(n):\n",
    "    e=int(input())\n",
    "    arr.append(e)\n",
    "print(\"Unsorted array: \", end=\"\")\n",
    "print_array(arr)\n",
    "insertionSort(arr)\n",
    "print(\"Sorted array: \", end=\"\")\n",
    "print_array(arr)"
   ]
  },
  {
   "cell_type": "code",
   "execution_count": null,
   "id": "889d0407",
   "metadata": {},
   "outputs": [],
   "source": []
  }
 ],
 "metadata": {
  "kernelspec": {
   "display_name": "Python 3 (ipykernel)",
   "language": "python",
   "name": "python3"
  },
  "language_info": {
   "codemirror_mode": {
    "name": "ipython",
    "version": 3
   },
   "file_extension": ".py",
   "mimetype": "text/x-python",
   "name": "python",
   "nbconvert_exporter": "python",
   "pygments_lexer": "ipython3",
   "version": "3.9.13"
  }
 },
 "nbformat": 4,
 "nbformat_minor": 5
}

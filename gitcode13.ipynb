{
  "nbformat": 4,
  "nbformat_minor": 0,
  "metadata": {
    "colab": {
      "provenance": []
    },
    "kernelspec": {
      "name": "python3",
      "display_name": "Python 3"
    },
    "language_info": {
      "name": "python"
    }
  },
  "cells": [
    {
      "cell_type": "code",
      "execution_count": 1,
      "metadata": {
        "colab": {
          "base_uri": "https://localhost:8080/"
        },
        "id": "gW7mLgMhVNWC",
        "outputId": "f8e6da87-85a2-47a5-8875-ba1231c724f5"
      },
      "outputs": [
        {
          "output_type": "stream",
          "name": "stdout",
          "text": [
            "Edges in the constructed MST\n",
            "2 -- 3 == 4\n",
            "0 -- 3 == 5\n",
            "0 -- 1 == 10\n",
            "Minimum Spanning Tree 19\n"
          ]
        }
      ],
      "source": [
        "class Graph:\n",
        "\n",
        "\tdef __init__(self, vertices):\n",
        "\t\tself.V = vertices\n",
        "\t\tself.graph = []\n",
        "\tdef addEdge(self, u, v, w):\n",
        "\t\tself.graph.append([u, v, w])\n",
        "\tdef find(self, parent, i):\n",
        "\t\tif parent[i] != i:\n",
        "\t\t\tparent[i] = self.find(parent, parent[i])\n",
        "\t\treturn parent[i]\n",
        "\n",
        "\n",
        "\tdef union(self, parent, rank, x, y):\n",
        "\t\tif rank[x] < rank[y]:\n",
        "\t\t\tparent[x] = y\n",
        "\t\telif rank[x] > rank[y]:\n",
        "\t\t\tparent[y] = x\n",
        "\n",
        "\n",
        "\t\telse:\n",
        "\t\t\tparent[y] = x\n",
        "\t\t\trank[x] += 1\n",
        "\n",
        "\n",
        "\tdef KruskalMST(self):\n",
        "\n",
        "\t\tresult = []\n",
        "\t\ti = 0\n",
        "\t\te = 0\n",
        "\t\tself.graph = sorted(self.graph,\n",
        "\t\t\t\t\t\t\tkey=lambda item: item[2])\n",
        "\n",
        "\t\tparent = []\n",
        "\t\trank = []\n",
        "\n",
        "\t\tfor node in range(self.V):\n",
        "\t\t\tparent.append(node)\n",
        "\t\t\trank.append(0)\n",
        "\n",
        "\t\twhile e < self.V - 1:\n",
        "\t\t\tu, v, w = self.graph[i]\n",
        "\t\t\ti = i + 1\n",
        "\t\t\tx = self.find(parent, u)\n",
        "\t\t\ty = self.find(parent, v)\n",
        "\n",
        "\t\t\tif x != y:\n",
        "\t\t\t\te = e + 1\n",
        "\t\t\t\tresult.append([u, v, w])\n",
        "\t\t\t\tself.union(parent, rank, x, y)\n",
        "\n",
        "\t\tminimumCost = 0\n",
        "\t\tprint(\"Edges in the constructed MST\")\n",
        "\t\tfor u, v, weight in result:\n",
        "\t\t\tminimumCost += weight\n",
        "\t\t\tprint(\"%d -- %d == %d\" % (u, v, weight))\n",
        "\t\tprint(\"Minimum Spanning Tree\", minimumCost)\n",
        "\n",
        "\n",
        "if __name__ == '__main__':\n",
        "\tg = Graph(4)\n",
        "\tg.addEdge(0, 1, 10)\n",
        "\tg.addEdge(0, 2, 6)\n",
        "\tg.addEdge(0, 3, 5)\n",
        "\tg.addEdge(1, 3, 15)\n",
        "\tg.addEdge(2, 3, 4)\n",
        "\n",
        "\tg.KruskalMST()\n",
        "\n"
      ]
    },
    {
      "cell_type": "code",
      "source": [],
      "metadata": {
        "id": "D8OgFniLVrZH"
      },
      "execution_count": null,
      "outputs": []
    }
  ]
}
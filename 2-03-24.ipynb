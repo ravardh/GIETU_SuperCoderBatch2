{
 "cells": [
  {
   "cell_type": "code",
   "execution_count": 1,
   "id": "175abd93",
   "metadata": {},
   "outputs": [
    {
     "name": "stdout",
     "output_type": "stream",
     "text": [
      "Following is Breadth First Traversal (starting from vertex 2)\n",
      "2 "
     ]
    },
    {
     "ename": "NameError",
     "evalue": "name 'visited' is not defined",
     "output_type": "error",
     "traceback": [
      "\u001b[1;31m---------------------------------------------------------------------------\u001b[0m",
      "\u001b[1;31mNameError\u001b[0m                                 Traceback (most recent call last)",
      "Cell \u001b[1;32mIn[1], line 38\u001b[0m\n\u001b[0;32m     34\u001b[0m g\u001b[38;5;241m.\u001b[39maddEdge(\u001b[38;5;241m3\u001b[39m, \u001b[38;5;241m3\u001b[39m) \n\u001b[0;32m     36\u001b[0m \u001b[38;5;28mprint\u001b[39m (\u001b[38;5;124m\"\u001b[39m\u001b[38;5;124mFollowing is Breadth First Traversal\u001b[39m\u001b[38;5;124m\"\u001b[39m\n\u001b[0;32m     37\u001b[0m \t\t\t\t\u001b[38;5;124m\"\u001b[39m\u001b[38;5;124m (starting from vertex 2)\u001b[39m\u001b[38;5;124m\"\u001b[39m) \n\u001b[1;32m---> 38\u001b[0m \u001b[43mg\u001b[49m\u001b[38;5;241;43m.\u001b[39;49m\u001b[43mBFS\u001b[49m\u001b[43m(\u001b[49m\u001b[38;5;241;43m2\u001b[39;49m\u001b[43m)\u001b[49m\n",
      "Cell \u001b[1;32mIn[1], line 24\u001b[0m, in \u001b[0;36mGraph.BFS\u001b[1;34m(self, s)\u001b[0m\n\u001b[0;32m     21\u001b[0m \u001b[38;5;28mprint\u001b[39m (s, end \u001b[38;5;241m=\u001b[39m \u001b[38;5;124m\"\u001b[39m\u001b[38;5;124m \u001b[39m\u001b[38;5;124m\"\u001b[39m) \n\u001b[0;32m     23\u001b[0m \u001b[38;5;28;01mfor\u001b[39;00m i \u001b[38;5;129;01min\u001b[39;00m \u001b[38;5;28mself\u001b[39m\u001b[38;5;241m.\u001b[39mgraph[s]: \n\u001b[1;32m---> 24\u001b[0m \t\u001b[38;5;28;01mif\u001b[39;00m i \u001b[38;5;129;01mnot\u001b[39;00m \u001b[38;5;129;01min\u001b[39;00m \u001b[43mvisited\u001b[49m: \n\u001b[0;32m     25\u001b[0m \t\tqueue\u001b[38;5;241m.\u001b[39mappend(i) \n\u001b[0;32m     26\u001b[0m \t\t\u001b[38;5;28mself\u001b[39m\u001b[38;5;241m.\u001b[39mvisited\u001b[38;5;241m.\u001b[39mappend(s)\n",
      "\u001b[1;31mNameError\u001b[0m: name 'visited' is not defined"
     ]
    }
   ],
   "source": [
    " from collections import defaultdict \n",
    "\n",
    "class Graph: \n",
    "\n",
    "\tdef __init__(self): \n",
    "\n",
    "\n",
    "\t\tself.graph = defaultdict(list)  \n",
    "\tdef addEdge(self,u,v): \n",
    "\t\tself.graph[u].append(v) \n",
    "\t\tself.visited=[] \n",
    "\tdef BFS(self, s): \n",
    "\t\tqueue = [] \n",
    "\n",
    "\t\tqueue.append(s) \n",
    "\t\tself.visited.append(s) \n",
    "\n",
    "\t\twhile queue: .\n",
    "\n",
    "\t\t\ts = queue.pop(0) \n",
    "\t\t\tprint (s, end = \" \") \n",
    "\n",
    "\t\t\tfor i in self.graph[s]: \n",
    "\t\t\t\tif i not in visited: \n",
    "\t\t\t\t\tqueue.append(i) \n",
    "\t\t\t\t\tself.visited.append(s) \n",
    "\n",
    "g = Graph() \n",
    "g.addEdge(0, 1) \n",
    "g.addEdge(0, 2) \n",
    "g.addEdge(1, 2) \n",
    "g.addEdge(2, 0) \n",
    "g.addEdge(2, 3) \n",
    "g.addEdge(3, 3) \n",
    "\n",
    "print (\"Following is Breadth First Traversal\"\n",
    "\t\t\t\t\" (starting from vertex 2)\") \n",
    "g.BFS(2) \n",
    "\n",
    "\n"
   ]
  },
  {
   "cell_type": "code",
   "execution_count": null,
   "id": "22e76265",
   "metadata": {},
   "outputs": [],
   "source": []
  }
 ],
 "metadata": {
  "kernelspec": {
   "display_name": "Python 3 (ipykernel)",
   "language": "python",
   "name": "python3"
  },
  "language_info": {
   "codemirror_mode": {
    "name": "ipython",
    "version": 3
   },
   "file_extension": ".py",
   "mimetype": "text/x-python",
   "name": "python",
   "nbconvert_exporter": "python",
   "pygments_lexer": "ipython3",
   "version": "3.10.9"
  }
 },
 "nbformat": 4,
 "nbformat_minor": 5
}

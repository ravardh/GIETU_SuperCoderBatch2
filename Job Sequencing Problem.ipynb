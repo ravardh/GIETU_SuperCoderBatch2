{
 "cells": [
  {
   "cell_type": "code",
   "execution_count": 18,
   "id": "7d743886",
   "metadata": {},
   "outputs": [
    {
     "name": "stdout",
     "output_type": "stream",
     "text": [
      "Max Profit: 110\n",
      "Selected Jobs: ['Job2', 'Job1', 'Job6', 'Job3']\n"
     ]
    }
   ],
   "source": [
    "def job_sequencing(jobs):\n",
    "    jobs.sort(key=lambda x: x[1], reverse=True)\n",
    "    max_deadline = max(jobs, key=lambda x: x[2])[2]\n",
    "    time_slots = [None] * (max_deadline + 1)\n",
    "    total_profit = 0\n",
    "    for job, profit, deadline in jobs:\n",
    "        for i in range(deadline, 0, -1):\n",
    "            if time_slots[i] is None:\n",
    "                time_slots[i] = job\n",
    "                total_profit += profit\n",
    "                break\n",
    "\n",
    "    selected_jobs = [job for job in time_slots if job is not None]\n",
    "\n",
    "    return total_profit, selected_jobs\n",
    "\n",
    "jobs = [\n",
    "    (\"Job1\", 25, 4),\n",
    "    (\"Job2\", 20, 2),\n",
    "    (\"Job3\", 30, 4),\n",
    "    (\"Job4\", 15, 3),\n",
    "    (\"Job5\", 5, 2),\n",
    "    (\"Job6\", 35, 3),\n",
    "    (\"Job7\", 12, 1)\n",
    "]\n",
    "\n",
    "total_profit, selected_jobs = job_sequencing(jobs)\n",
    "print(\"Max Profit:\", total_profit)\n",
    "print(\"Selected Jobs:\", selected_jobs)\n"
   ]
  },
  {
   "cell_type": "code",
   "execution_count": null,
   "id": "17610922",
   "metadata": {},
   "outputs": [],
   "source": []
  }
 ],
 "metadata": {
  "kernelspec": {
   "display_name": "Python 3 (ipykernel)",
   "language": "python",
   "name": "python3"
  },
  "language_info": {
   "codemirror_mode": {
    "name": "ipython",
    "version": 3
   },
   "file_extension": ".py",
   "mimetype": "text/x-python",
   "name": "python",
   "nbconvert_exporter": "python",
   "pygments_lexer": "ipython3",
   "version": "3.11.5"
  }
 },
 "nbformat": 4,
 "nbformat_minor": 5
}

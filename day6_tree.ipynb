{
  "nbformat": 4,
  "nbformat_minor": 0,
  "metadata": {
    "colab": {
      "provenance": [],
      "authorship_tag": "ABX9TyMiCmTfnQD35dZIuZzMUAxr",
      "include_colab_link": true
    },
    "kernelspec": {
      "name": "python3",
      "display_name": "Python 3"
    },
    "language_info": {
      "name": "python"
    }
  },
  "cells": [
    {
      "cell_type": "markdown",
      "metadata": {
        "id": "view-in-github",
        "colab_type": "text"
      },
      "source": [
        "<a href=\"https://colab.research.google.com/github/ravardh/GIETU_SuperCoderBatch2/blob/Jatin_21CSE153/day6_tree.ipynb\" target=\"_parent\"><img src=\"https://colab.research.google.com/assets/colab-badge.svg\" alt=\"Open In Colab\"/></a>"
      ]
    },
    {
      "cell_type": "code",
      "execution_count": 1,
      "metadata": {
        "colab": {
          "base_uri": "https://localhost:8080/"
        },
        "id": "L7WThEajn9IB",
        "outputId": "f2910b59-e931-4524-cbc4-cbe56546b757"
      },
      "outputs": [
        {
          "output_type": "stream",
          "name": "stdout",
          "text": [
            "left view of tree:  1 2 3 "
          ]
        }
      ],
      "source": [
        "#left view of the tree\n",
        "class node:\n",
        "    def __init__(self, data):\n",
        "        self.data = data\n",
        "        self.left = None\n",
        "        self.right = None\n",
        "\n",
        "\n",
        "root = node(1)\n",
        "root.left = node(2)\n",
        "root.right = node(4)\n",
        "root.left.left = node(3)\n",
        "root.left.right = node(6)\n",
        "root.right.left = node(5)\n",
        "root.right.right = node(7)\n",
        "\n",
        "\n",
        "def leftView(root, level, max_level):\n",
        "    if root is None:\n",
        "        return\n",
        "\n",
        "    if (max_level[0] < level):\n",
        "        print(root.data, end=\" \")\n",
        "        max_level[0] = level\n",
        "\n",
        "    leftView(root.left, level + 1, max_level)\n",
        "    leftView(root.right, level + 1, max_level)\n",
        "\n",
        "\n",
        "max_level = [0]\n",
        "print(\"left view of tree: \", end=\" \")\n",
        "leftView(root, 1, max_level)\n"
      ]
    }
  ]
}
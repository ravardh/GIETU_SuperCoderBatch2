{
  "nbformat": 4,
  "nbformat_minor": 0,
  "metadata": {
    "colab": {
      "provenance": []
    },
    "kernelspec": {
      "name": "python3",
      "display_name": "Python 3"
    },
    "language_info": {
      "name": "python"
    }
  },
  "cells": [
    {
      "cell_type": "code",
      "execution_count": null,
      "metadata": {
        "colab": {
          "base_uri": "https://localhost:8080/",
          "height": 211
        },
        "id": "hLJC_kw3rk53",
        "outputId": "04301530-d7a7-48bd-9dc6-c00f37266fce"
      },
      "outputs": [
        {
          "output_type": "error",
          "ename": "KeyError",
          "evalue": "9",
          "traceback": [
            "\u001b[0;31m---------------------------------------------------------------------------\u001b[0m",
            "\u001b[0;31mKeyError\u001b[0m                                  Traceback (most recent call last)",
            "\u001b[0;32m<ipython-input-11-0b068cb2f9b2>\u001b[0m in \u001b[0;36m<cell line: 25>\u001b[0;34m()\u001b[0m\n\u001b[1;32m     23\u001b[0m \u001b[0;34m\u001b[0m\u001b[0m\n\u001b[1;32m     24\u001b[0m \u001b[0mnodes\u001b[0m \u001b[0;34m=\u001b[0m \u001b[0;34m{\u001b[0m\u001b[0mi\u001b[0m\u001b[0;34m:\u001b[0m \u001b[0mGraphNode\u001b[0m\u001b[0;34m(\u001b[0m\u001b[0mi\u001b[0m\u001b[0;34m)\u001b[0m \u001b[0;32mfor\u001b[0m \u001b[0mi\u001b[0m \u001b[0;32min\u001b[0m \u001b[0mrange\u001b[0m\u001b[0;34m(\u001b[0m\u001b[0;36m1\u001b[0m\u001b[0;34m,\u001b[0m \u001b[0;36m9\u001b[0m\u001b[0;34m)\u001b[0m\u001b[0;34m}\u001b[0m\u001b[0;34m\u001b[0m\u001b[0;34m\u001b[0m\u001b[0m\n\u001b[0;32m---> 25\u001b[0;31m \u001b[0mnodes\u001b[0m\u001b[0;34m[\u001b[0m\u001b[0;36m1\u001b[0m\u001b[0;34m]\u001b[0m\u001b[0;34m.\u001b[0m\u001b[0mneighbors\u001b[0m\u001b[0;34m.\u001b[0m\u001b[0mextend\u001b[0m\u001b[0;34m(\u001b[0m\u001b[0;34m[\u001b[0m\u001b[0mnodes\u001b[0m\u001b[0;34m[\u001b[0m\u001b[0;36m2\u001b[0m\u001b[0;34m]\u001b[0m\u001b[0;34m,\u001b[0m \u001b[0mnodes\u001b[0m\u001b[0;34m[\u001b[0m\u001b[0;36m3\u001b[0m\u001b[0;34m]\u001b[0m\u001b[0;34m,\u001b[0m \u001b[0mnodes\u001b[0m\u001b[0;34m[\u001b[0m\u001b[0;36m9\u001b[0m\u001b[0;34m]\u001b[0m\u001b[0;34m]\u001b[0m\u001b[0;34m)\u001b[0m\u001b[0;34m\u001b[0m\u001b[0;34m\u001b[0m\u001b[0m\n\u001b[0m\u001b[1;32m     26\u001b[0m \u001b[0mnodes\u001b[0m\u001b[0;34m[\u001b[0m\u001b[0;36m2\u001b[0m\u001b[0;34m]\u001b[0m\u001b[0;34m.\u001b[0m\u001b[0mneighbors\u001b[0m\u001b[0;34m.\u001b[0m\u001b[0mextend\u001b[0m\u001b[0;34m(\u001b[0m\u001b[0;34m[\u001b[0m\u001b[0mnodes\u001b[0m\u001b[0;34m[\u001b[0m\u001b[0;36m4\u001b[0m\u001b[0;34m]\u001b[0m\u001b[0;34m,\u001b[0m \u001b[0mnodes\u001b[0m\u001b[0;34m[\u001b[0m\u001b[0;36m1\u001b[0m\u001b[0;34m]\u001b[0m\u001b[0;34m]\u001b[0m\u001b[0;34m)\u001b[0m\u001b[0;34m\u001b[0m\u001b[0;34m\u001b[0m\u001b[0m\n\u001b[1;32m     27\u001b[0m \u001b[0mnodes\u001b[0m\u001b[0;34m[\u001b[0m\u001b[0;36m3\u001b[0m\u001b[0;34m]\u001b[0m\u001b[0;34m.\u001b[0m\u001b[0mneighbors\u001b[0m\u001b[0;34m.\u001b[0m\u001b[0mextend\u001b[0m\u001b[0;34m(\u001b[0m\u001b[0;34m[\u001b[0m\u001b[0mnodes\u001b[0m\u001b[0;34m[\u001b[0m\u001b[0;36m8\u001b[0m\u001b[0;34m]\u001b[0m\u001b[0;34m]\u001b[0m\u001b[0;34m)\u001b[0m\u001b[0;34m\u001b[0m\u001b[0;34m\u001b[0m\u001b[0m\n",
            "\u001b[0;31mKeyError\u001b[0m: 9"
          ]
        }
      ],
      "source": [
        "class GraphNode:\n",
        "    def __init__(self, key):\n",
        "        self.data = key\n",
        "        self.neighbors = []\n",
        "\n",
        "def printLevelOrder(root):\n",
        "    if not root:\n",
        "        return []\n",
        "\n",
        "    visited = set()\n",
        "    queue = []\n",
        "    queue.append(root)\n",
        "\n",
        "    while queue:\n",
        "        node = queue.pop(0)\n",
        "        print(node.data, end=' ')\n",
        "        visited.add(node)\n",
        "\n",
        "        for neighbor in node.neighbors:\n",
        "            if neighbor not in visited:\n",
        "                queue.append(neighbor)\n",
        "                visited.add(neighbor)\n",
        "\n",
        "nodes = {i: GraphNode(i) for i in range(1, 9)}\n",
        "nodes[1].neighbors.extend([nodes[2], nodes[3], nodes[9]])\n",
        "nodes[2].neighbors.extend([nodes[4], nodes[1]])\n",
        "nodes[3].neighbors.extend([nodes[8]])\n",
        "nodes[4].neighbors.extend([nodes[2], nodes[5], nodes[6]])\n",
        "nodes[5].neighbors.extend([nodes[4]])\n",
        "nodes[6].neighbors.extend([nodes[4], nodes[7]])\n",
        "nodes[7].neighbors.extend([nodes[6], nodes[8]])\n",
        "nodes[8].neighbors.extend([nodes[9], nodes[3], nodes[7]])\n",
        "nodes[9].neighbors.extend([nodes[1], nodes[8]])\n",
        "\n",
        "print(\"Level Order Traversal of the graph:\")\n",
        "printLevelOrder(nodes[1])\n",
        "\n"
      ]
    },
    {
      "cell_type": "code",
      "source": [
        "class GraphNode:\n",
        "    def __init__(self, key):\n",
        "        self.data = key\n",
        "        self.neighbors = []\n",
        "\n",
        "def levelOrderTraversal(root):\n",
        "    if not root:\n",
        "        return\n",
        "\n",
        "    visited = set()\n",
        "    queue = []  ;\n",
        "    queue.append(root)\n",
        "\n",
        "    while queue:\n",
        "        cur = queue.pop(0)\n",
        "        if cur not in visited:\n",
        "            print(cur.data, end=' ')\n",
        "            visited.add(cur)\n",
        "\n",
        "            for neighbor in cur.neighbors:\n",
        "                if neighbor not in visited:\n",
        "                    queue.append(neighbor)\n",
        "nodes = {i: GraphNode(i) for i in range(1, 10)}\n",
        "nodes[1].neighbors.extend([nodes[2], nodes[3], nodes[9]])\n",
        "nodes[2].neighbors.extend([nodes[4], nodes[1]])\n",
        "nodes[3].neighbors.extend([nodes[8]])\n",
        "nodes[4].neighbors.extend([nodes[2], nodes[5], nodes[6]])\n",
        "nodes[5].neighbors.extend([nodes[4]])\n",
        "nodes[6].neighbors.extend([nodes[4], nodes[7]])\n",
        "nodes[7].neighbors.extend([nodes[6], nodes[8]])\n",
        "nodes[8].neighbors.extend([nodes[9], nodes[3], nodes[7]])\n",
        "nodes[9].neighbors.extend([nodes[1], nodes[8]])\n",
        "start_node_key = int(input(\"Enter the key of the starting node: \"))\n",
        "start_node = nodes[start_node_key]\n",
        "\n",
        "print(\"Level Order Traversal of the graph:\")\n",
        "levelOrderTraversal(start_node)\n"
      ],
      "metadata": {
        "colab": {
          "base_uri": "https://localhost:8080/"
        },
        "id": "CLXTU_gMwBmz",
        "outputId": "add490b4-3fce-44e5-a641-e1b12c7c47f0"
      },
      "execution_count": null,
      "outputs": [
        {
          "output_type": "stream",
          "name": "stdout",
          "text": [
            "Enter the key of the starting node: 6\n",
            "Level Order Traversal of the graph:\n",
            "6 4 7 2 5 8 1 9 3 "
          ]
        }
      ]
    },
    {
      "cell_type": "code",
      "source": [
        "class GraphNode:\n",
        "    def __init__(self, key):\n",
        "        self.data = key\n",
        "        self.neighbors = []\n",
        "\n",
        "def dfsTraversal(start):\n",
        "    if not start:\n",
        "        return\n",
        "\n",
        "    visited = set()\n",
        "    stack = []\n",
        "    stack.append(start)\n",
        "\n",
        "    while stack:\n",
        "        cur = stack.pop()\n",
        "        if cur not in visited:\n",
        "            print(cur.data, end=' ')\n",
        "            visited.add(cur)\n",
        "            for neighbor in cur.neighbors[::-1]:\n",
        "                if neighbor not in visited:\n",
        "                    stack.append(neighbor)\n",
        "\n",
        "nodes = {i: GraphNode(i) for i in range(1, 10)}\n",
        "nodes[1].neighbors.extend([nodes[2], nodes[3], nodes[9]])\n",
        "nodes[2].neighbors.extend([nodes[4], nodes[1]])\n",
        "nodes[3].neighbors.extend([nodes[8]])\n",
        "nodes[4].neighbors.extend([nodes[2], nodes[5], nodes[6]])\n",
        "nodes[5].neighbors.extend([nodes[4]])\n",
        "nodes[6].neighbors.extend([nodes[4], nodes[7]])\n",
        "nodes[7].neighbors.extend([nodes[6], nodes[8]])\n",
        "nodes[8].neighbors.extend([nodes[9], nodes[3], nodes[7]])\n",
        "nodes[9].neighbors.extend([nodes[1], nodes[8]])\n",
        "\n",
        "start_node_key = int(input(\"Enter the key of the starting node: \"))\n",
        "start_node = nodes[start_node_key]\n",
        "\n",
        "print(\"DFS Traversal of the graph:\")\n",
        "dfsTraversal(start_node)"
      ],
      "metadata": {
        "colab": {
          "base_uri": "https://localhost:8080/"
        },
        "id": "oYbGh-wZCCrM",
        "outputId": "ca4dd8d6-7172-4d4b-96c4-3e815d440c01"
      },
      "execution_count": null,
      "outputs": [
        {
          "output_type": "stream",
          "name": "stdout",
          "text": [
            "Enter the key of the starting node: 4\n",
            "DFS Traversal of the graph:\n",
            "4 2 1 3 8 9 7 6 5 "
          ]
        }
      ]
    }
  ]
}
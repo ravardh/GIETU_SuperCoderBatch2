{
 "cells": [
  {
   "cell_type": "markdown",
   "id": "60318796",
   "metadata": {},
   "source": [
    "## BFS using Level Order Traversal"
   ]
  },
  {
   "cell_type": "code",
   "execution_count": 8,
   "id": "76c51df6",
   "metadata": {},
   "outputs": [
    {
     "name": "stdout",
     "output_type": "stream",
     "text": [
      "Breadth First Traversal\n",
      "2 0 3 5 3 "
     ]
    }
   ],
   "source": [
    "from collections import defaultdict \n",
    "\n",
    "class Graph:\n",
    "    def __init__(self):\n",
    "        self.graph = defaultdict(list) \n",
    "\n",
    "    def addEdge(self,u,v): \n",
    "        self.graph[u].append(v) \n",
    "        self.visited=[]\n",
    "\n",
    "    def BFS(self, s):\n",
    "        queue = [] \n",
    "\n",
    "        queue.append(s) \n",
    "        self.visited.append(s) \n",
    "\n",
    "        while queue:\n",
    "            s = queue.pop(0) \n",
    "            print (s, end = \" \") \n",
    "\n",
    "            for i in self.graph[s]: \n",
    "                if i not in self.visited: \n",
    "                    queue.append(i) \n",
    "                    self.visited.append(s) \n",
    "\n",
    "#---------------------------------------------\n",
    "g = Graph() \n",
    "g.addEdge(0, 5) \n",
    "g.addEdge(5, 2) \n",
    "g.addEdge(1, 2) \n",
    "g.addEdge(2, 0) \n",
    "g.addEdge(2, 3) \n",
    "g.addEdge(3, 3) \n",
    "\n",
    "print (\"Breadth First Traversal\") \n",
    "g.BFS(2) "
   ]
  },
  {
   "cell_type": "markdown",
   "id": "52075a50",
   "metadata": {},
   "source": [
    "## DFS"
   ]
  },
  {
   "cell_type": "code",
   "execution_count": 9,
   "id": "0ff371d9",
   "metadata": {},
   "outputs": [
    {
     "name": "stdout",
     "output_type": "stream",
     "text": [
      "Breadth First Traversal\n",
      "2 0 5 3 "
     ]
    }
   ],
   "source": [
    "from collections import defaultdict \n",
    "\n",
    "class Graph:\n",
    "    def __init__(self):\n",
    "        self.graph = defaultdict(list) \n",
    "\n",
    "    def addEdge(self,u,v): \n",
    "        self.graph[u].append(v)\n",
    "\n",
    "    def DFSUtil(self, v, visited):\n",
    "        visited.add(v)\n",
    "        print(v, end=' ')\n",
    " \n",
    "        for neighbour in self.graph[v]:\n",
    "            if neighbour not in visited:\n",
    "                self.DFSUtil(neighbour, visited)\n",
    " \n",
    "     \n",
    "    def DFS(self, v):\n",
    "        visited = set()\n",
    "        self.DFSUtil(v, visited) \n",
    "\n",
    "#---------------------------------------------\n",
    "g = Graph() \n",
    "g.addEdge(0, 5) \n",
    "g.addEdge(5, 2) \n",
    "g.addEdge(1, 2) \n",
    "g.addEdge(2, 0) \n",
    "g.addEdge(2, 3) \n",
    "g.addEdge(3, 3) \n",
    "\n",
    "print (\"Breadth First Traversal\") \n",
    "g.DFS(2)"
   ]
  },
  {
   "cell_type": "code",
   "execution_count": null,
   "id": "68d2b51c",
   "metadata": {},
   "outputs": [],
   "source": []
  }
 ],
 "metadata": {
  "kernelspec": {
   "display_name": "Python 3 (ipykernel)",
   "language": "python",
   "name": "python3"
  },
  "language_info": {
   "codemirror_mode": {
    "name": "ipython",
    "version": 3
   },
   "file_extension": ".py",
   "mimetype": "text/x-python",
   "name": "python",
   "nbconvert_exporter": "python",
   "pygments_lexer": "ipython3",
   "version": "3.9.13"
  }
 },
 "nbformat": 4,
 "nbformat_minor": 5
}

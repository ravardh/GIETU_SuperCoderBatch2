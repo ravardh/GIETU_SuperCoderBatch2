{
  "nbformat": 4,
  "nbformat_minor": 0,
  "metadata": {
    "colab": {
      "provenance": []
    },
    "kernelspec": {
      "name": "python3",
      "display_name": "Python 3"
    },
    "language_info": {
      "name": "python"
    }
  },
  "cells": [
    {
      "cell_type": "code",
      "execution_count": null,
      "metadata": {
        "colab": {
          "base_uri": "https://localhost:8080/",
          "height": 443
        },
        "id": "fL_9jm1Oymo-",
        "outputId": "9a467e08-8ac7-42a5-f92d-68df4f53d13d"
      },
      "outputs": [
        {
          "output_type": "stream",
          "name": "stdout",
          "text": [
            "(  1  ,  2  )\t(  1  ,  5  )\t(  1  ,  4  )\t\n",
            "(  3  ,  2  )\t\n",
            "(  2  ,  5  )\t\n",
            "1\n",
            "2\n"
          ]
        },
        {
          "output_type": "error",
          "ename": "RecursionError",
          "evalue": "maximum recursion depth exceeded in comparison",
          "traceback": [
            "\u001b[0;31m---------------------------------------------------------------------------\u001b[0m",
            "\u001b[0;31mRecursionError\u001b[0m                            Traceback (most recent call last)",
            "\u001b[0;32m<ipython-input-27-8e239a032dbd>\u001b[0m in \u001b[0;36m<cell line: 57>\u001b[0;34m()\u001b[0m\n\u001b[1;32m     64\u001b[0m     \u001b[0;31m# print(\"hello\")\u001b[0m\u001b[0;34m\u001b[0m\u001b[0;34m\u001b[0m\u001b[0m\n\u001b[1;32m     65\u001b[0m     \u001b[0mgraph\u001b[0m\u001b[0;34m.\u001b[0m\u001b[0mdisplay\u001b[0m\u001b[0;34m(\u001b[0m\u001b[0;34m)\u001b[0m\u001b[0;34m\u001b[0m\u001b[0;34m\u001b[0m\u001b[0m\n\u001b[0;32m---> 66\u001b[0;31m     \u001b[0mgraph\u001b[0m\u001b[0;34m.\u001b[0m\u001b[0mLevelOrder\u001b[0m\u001b[0;34m(\u001b[0m\u001b[0;34m\"1\"\u001b[0m\u001b[0;34m)\u001b[0m\u001b[0;34m\u001b[0m\u001b[0;34m\u001b[0m\u001b[0m\n\u001b[0m",
            "\u001b[0;32m<ipython-input-27-8e239a032dbd>\u001b[0m in \u001b[0;36mLevelOrder\u001b[0;34m(self, val)\u001b[0m\n\u001b[1;32m     51\u001b[0m           \u001b[0;32mreturn\u001b[0m\u001b[0;34m\u001b[0m\u001b[0;34m\u001b[0m\u001b[0m\n\u001b[1;32m     52\u001b[0m         \u001b[0;32melse\u001b[0m\u001b[0;34m:\u001b[0m\u001b[0;34m\u001b[0m\u001b[0;34m\u001b[0m\u001b[0m\n\u001b[0;32m---> 53\u001b[0;31m           \u001b[0mself\u001b[0m\u001b[0;34m.\u001b[0m\u001b[0mLevelOrder\u001b[0m\u001b[0;34m(\u001b[0m\u001b[0mself\u001b[0m\u001b[0;34m.\u001b[0m\u001b[0mqueue\u001b[0m\u001b[0;34m[\u001b[0m\u001b[0;36m0\u001b[0m\u001b[0;34m]\u001b[0m\u001b[0;34m)\u001b[0m\u001b[0;34m\u001b[0m\u001b[0;34m\u001b[0m\u001b[0m\n\u001b[0m\u001b[1;32m     54\u001b[0m         \u001b[0;31m# print(self.adL[0][0].d)\u001b[0m\u001b[0;34m\u001b[0m\u001b[0;34m\u001b[0m\u001b[0m\n\u001b[1;32m     55\u001b[0m \u001b[0;34m\u001b[0m\u001b[0m\n",
            "... last 1 frames repeated, from the frame below ...\n",
            "\u001b[0;32m<ipython-input-27-8e239a032dbd>\u001b[0m in \u001b[0;36mLevelOrder\u001b[0;34m(self, val)\u001b[0m\n\u001b[1;32m     51\u001b[0m           \u001b[0;32mreturn\u001b[0m\u001b[0;34m\u001b[0m\u001b[0;34m\u001b[0m\u001b[0m\n\u001b[1;32m     52\u001b[0m         \u001b[0;32melse\u001b[0m\u001b[0;34m:\u001b[0m\u001b[0;34m\u001b[0m\u001b[0;34m\u001b[0m\u001b[0m\n\u001b[0;32m---> 53\u001b[0;31m           \u001b[0mself\u001b[0m\u001b[0;34m.\u001b[0m\u001b[0mLevelOrder\u001b[0m\u001b[0;34m(\u001b[0m\u001b[0mself\u001b[0m\u001b[0;34m.\u001b[0m\u001b[0mqueue\u001b[0m\u001b[0;34m[\u001b[0m\u001b[0;36m0\u001b[0m\u001b[0;34m]\u001b[0m\u001b[0;34m)\u001b[0m\u001b[0;34m\u001b[0m\u001b[0;34m\u001b[0m\u001b[0m\n\u001b[0m\u001b[1;32m     54\u001b[0m         \u001b[0;31m# print(self.adL[0][0].d)\u001b[0m\u001b[0;34m\u001b[0m\u001b[0;34m\u001b[0m\u001b[0m\n\u001b[1;32m     55\u001b[0m \u001b[0;34m\u001b[0m\u001b[0m\n",
            "\u001b[0;31mRecursionError\u001b[0m: maximum recursion depth exceeded in comparison"
          ]
        }
      ],
      "source": [
        "class Edge:\n",
        "  def __init__(self,s: str,d: str,w: str):\n",
        "    self.s: str=s\n",
        "    self.d: str=d\n",
        "    self.w: str=w\n",
        "    # self.val: int=val\n",
        "class Graph:\n",
        "  def __init__(self):\n",
        "    self.adL: list=[]\n",
        "    self.Visited: list=[]\n",
        "    self.queue: list=[]\n",
        "    self.val: int=None\n",
        "  def insert(self,s: str,d: str,w: str):\n",
        "    isThere: bool=False\n",
        "    index: int=-1\n",
        "    for i in range(len(self.adL)):\n",
        "      for j in self.adL[i]:\n",
        "        if j and j.s==s:\n",
        "          index=i\n",
        "          isThere=True\n",
        "          break\n",
        "    if isThere:\n",
        "      self.adL[index].append(Edge(s,d,w))\n",
        "    else:\n",
        "      self.adL.append([Edge(s,d,w)])\n",
        "  def display(self):\n",
        "    for i in self.adL:\n",
        "      for j in i:\n",
        "        print(\"( \", j.s, \" , \", j.d, \" )\", end=\"\\t\")\n",
        "      print()\n",
        "  def LevelOrder(self, val):\n",
        "        self.val = val\n",
        "        if self.val not in self.Visited:\n",
        "            self.queue.append(self.val)\n",
        "            self.Visited.append(self.val)\n",
        "        for i in range(len(self.adL)):\n",
        "            if self.adL[i][0].s == self.val:\n",
        "                print(self.val)\n",
        "                self.queue.remove(self.val)\n",
        "                for j in range(len(self.adL[i])):\n",
        "                    if self.adL[i][j].d not in self.Visited:\n",
        "                        self.queue.append(self.adL[i][j].d)\n",
        "                        self.Visited.append(self.adL[i][j].d)\n",
        "        # for i in self.adL:\n",
        "        #   if i[0].s==self.val:\n",
        "        #     self.queue.append(i[0].d)\n",
        "        # print(self.queue)\n",
        "        # print(self.Visited)\n",
        "\n",
        "        if(len(self.queue)==0):\n",
        "          return\n",
        "        else:\n",
        "          self.LevelOrder(self.queue[0])\n",
        "        # print(self.adL[0][0].d)\n",
        "\n",
        "\n",
        "if __name__ == '__main__':\n",
        "    graph: Graph = Graph()\n",
        "    graph.insert(\"1\",\"2\",\"3\")\n",
        "    graph.insert(\"1\",\"5\",\"3\")\n",
        "    graph.insert(\"1\",\"4\",\"3\")\n",
        "    graph.insert(\"3\",\"2\",\"3\")\n",
        "    graph.insert(\"2\",\"5\",\"3\")\n",
        "    # print(\"hello\")\n",
        "    graph.display()\n",
        "    graph.LevelOrder(\"1\")\n"
      ]
    },
    {
      "cell_type": "code",
      "source": [
        "class Edge:\n",
        "    def __init__(self,s,d):\n",
        "        self.source=s\n",
        "        self.destination=d\n",
        "class GraphLevelOrder:\n",
        "    def __init__(self):\n",
        "            self.l = [[] for _ in range(4)]\n",
        "    # def Edge(self,s,d):\n",
        "    #     self.source=s\n",
        "    #     self.destination=d\n",
        "    def insertv(self):\n",
        "\n",
        "        for i in range(4):\n",
        "            self.l.append([])\n",
        "        self.l[0].append(Edge(0,1))\n",
        "        self.l[0].append(Edge(0,2))\n",
        "\n",
        "        self.l[1].append(Edge(1,2))\n",
        "        self.l[1].append(Edge(1,3))\n",
        "\n",
        "        self.l[2].append(Edge(2,3))\n",
        "        self.l[2].append(Edge(2,1))\n",
        "\n",
        "        self.l[3].append(Edge(3,2))\n",
        "        self.l[3].append(Edge(3,3))\n",
        "    def display(self):\n",
        "        for i in self.l:\n",
        "            for j in i:\n",
        "                print(\"( \", j.source, \" , \", j.destination, \" )\", end=\"\\t\")\n",
        "            print()\n",
        "    def LevelOrder(self,queue,visit,current):\n",
        "        queue.append(current)\n",
        "        while len(queue)!=0:\n",
        "                current=queue.pop(0)\n",
        "                if(visit[current]==False):\n",
        "                    print(current,end=\" \")\n",
        "                    visit[current]=True\n",
        "                    for i in range(len(self.l[current])):\n",
        "                        queue.append(self.l[current][i].destination)\n",
        "    def graphDfs(self,visit,current):\n",
        "        if(visit[current]==True):\n",
        "            return\n",
        "        print(current,end=\" \")\n",
        "        visit[current]=True\n",
        "        for i in range(len(self.l[current])):\n",
        "            self.graphDfs(visit,self.l[current][i].destination)\n",
        "\n",
        "g=GraphLevelOrder()\n",
        "visit=[]\n",
        "queue=[]\n",
        "for i in range(4):\n",
        "        visit.append(False)\n",
        "g.insertv()\n",
        "g.display()\n",
        "print(\"LEVEL ORDER\")\n",
        "for i in range(4):\n",
        "        if visit[i]==False:\n",
        "            g.LevelOrder(queue,visit,i)\n",
        "print(\"DFS\")\n",
        "g.graphDfs(visit,0)"
      ],
      "metadata": {
        "id": "5QJCMBsx79SJ",
        "colab": {
          "base_uri": "https://localhost:8080/"
        },
        "outputId": "df9583f0-8c9b-4f95-8ff5-80fb38ffe19a"
      },
      "execution_count": null,
      "outputs": [
        {
          "output_type": "stream",
          "name": "stdout",
          "text": [
            "(  0  ,  1  )\t(  0  ,  2  )\t\n",
            "(  1  ,  2  )\t(  1  ,  3  )\t\n",
            "(  2  ,  3  )\t(  2  ,  1  )\t\n",
            "(  3  ,  2  )\t(  3  ,  3  )\t\n",
            "\n",
            "\n",
            "\n",
            "\n",
            "LEVEL ORDER\n",
            "0 1 2 3 DFS\n"
          ]
        }
      ]
    },
    {
      "cell_type": "code",
      "source": [],
      "metadata": {
        "id": "90uN6BZABqTl"
      },
      "execution_count": null,
      "outputs": []
    },
    {
      "cell_type": "code",
      "source": [],
      "metadata": {
        "id": "uB7KQPUgZreE"
      },
      "execution_count": null,
      "outputs": []
    }
  ]
}
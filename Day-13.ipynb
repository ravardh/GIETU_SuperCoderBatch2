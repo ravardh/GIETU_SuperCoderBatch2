{
 "cells": [
  {
   "cell_type": "markdown",
   "id": "c407066f-e123-4ba7-9856-557560e60835",
   "metadata": {},
   "source": [
    "Given an unsorted integer array nums. Return the smallest positive integer that is not present in nums.\n",
    "You must implement an algorithm that runs in O(n) time and uses O(1) auxiliary space.\n",
    "Example 1:\n",
    "Input: nums = [1,2,0]\n",
    "Output: 3\n",
    "Explanation: The numbers in the range [1,2] are all in the array.\n",
    "Example 2:\n",
    "Input: nums = [3,4,-1,1]\n",
    "Output: 2\n",
    "Explanation: 1 is in the array but 2 is missing.\n",
    "Example 3:\n",
    "Input: nums = [7,8,9,11,12]\n",
    "Output: 1\n",
    "Explanation: The smallest positive integer 1 is missing. \n",
    "Constraints:\n",
    "1 <= nums.length <= 105\n",
    "-231 <= nums[i] <= 231 - 1"
   ]
  },
  {
   "cell_type": "code",
   "execution_count": null,
   "id": "e1a30b12-477a-47c1-9593-128bf9319725",
   "metadata": {},
   "outputs": [],
   "source": [
    "#Solution\n",
    "class Solution:\n",
    "    def firstMissingPositive(self, nums: List[int]) -> int:\n",
    "        N=set(nums)\n",
    "        n=len(nums)\n",
    "        for i in range(1,n+2):\n",
    "            if i not in N:\n",
    "                return i"
   ]
  },
  {
   "cell_type": "markdown",
   "id": "6c55c87f-c92f-4b9b-9657-e069515c8fe4",
   "metadata": {},
   "source": [
    "You are given an integer array height of length n. There are n vertical lines drawn such that the two endpoints of the ith line are (i, 0) and (i, height[i]).\n",
    "Find two lines that together with the x-axis form a container, such that the container contains the most water.\n",
    "Return the maximum amount of water a container can store.\n",
    "Notice that you may not slant the container.\n",
    "Example 1:\n",
    "Input: height = [1,8,6,2,5,4,8,3,7]\n",
    "Output: 49\n",
    "Explanation: The above vertical lines are represented by array [1,8,6,2,5,4,8,3,7]. In this case, the max area of water (blue section) the container can contain is 49.\n",
    "Example 2:\n",
    "Input: height = [1,1]\n",
    "Output: 1"
   ]
  },
  {
   "cell_type": "code",
   "execution_count": null,
   "id": "44f938a9-c7cc-47c3-acbe-6d239d9581d6",
   "metadata": {},
   "outputs": [],
   "source": [
    "class Solution:\n",
    "  def maxArea(self, height: List[int]) -> int:\n",
    "    ans = 0\n",
    "    l = 0\n",
    "    r = len(height) - 1\n",
    "\n",
    "    while l < r:\n",
    "      minHeight = min(height[l], height[r])\n",
    "      ans = max(ans, minHeight * (r - l))\n",
    "      if height[l] < height[r]:\n",
    "        l += 1\n",
    "      else:\n",
    "        r -= 1\n",
    "    return ans"
   ]
  }
 ],
 "metadata": {
  "kernelspec": {
   "display_name": "Python 3 (ipykernel)",
   "language": "python",
   "name": "python3"
  },
  "language_info": {
   "codemirror_mode": {
    "name": "ipython",
    "version": 3
   },
   "file_extension": ".py",
   "mimetype": "text/x-python",
   "name": "python",
   "nbconvert_exporter": "python",
   "pygments_lexer": "ipython3",
   "version": "3.10.9"
  }
 },
 "nbformat": 4,
 "nbformat_minor": 5
}

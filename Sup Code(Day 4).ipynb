{
 "cells": [
  {
   "cell_type": "code",
   "execution_count": 5,
   "id": "bdcf87d4",
   "metadata": {},
   "outputs": [
    {
     "name": "stdout",
     "output_type": "stream",
     "text": [
      "Height of the tree: 6\n"
     ]
    }
   ],
   "source": [
    "#height Of a Tree\n",
    "class node:\n",
    "    def __init__(self, value):\n",
    "        self.value = value\n",
    "        self.left = None\n",
    "        self.right = None\n",
    "def height(root):\n",
    "    if root is None:\n",
    "        return 0\n",
    "    else:\n",
    "        left_height = height(root.left)\n",
    "        right_height = height(root.right)\n",
    "        return max(left_height, right_height) + 1\n",
    "root = node(20)\n",
    "root.left = node(15)\n",
    "root.right = node(56)\n",
    "root.left.left = node(43)\n",
    "root.left.right = node(18)\n",
    "root.right.left = node(67)\n",
    "root.right.right = node(31)\n",
    "root.right.right.left = node(9)\n",
    "root.right.right.right = node(87)\n",
    "root.right.right.right.left = node(7)\n",
    "root.right.right.right.right = node(13)\n",
    "root.right.right.right.right.left = node(17)\n",
    "\n",
    "print(\"Height of the tree:\", height(root))\n"
   ]
  },
  {
   "cell_type": "code",
   "execution_count": 7,
   "id": "c9b5f38e",
   "metadata": {},
   "outputs": [
    {
     "name": "stdout",
     "output_type": "stream",
     "text": [
      "Leaf Nodes:\n",
      "43\n",
      "18\n",
      "67\n",
      "9\n",
      "7\n",
      "17\n"
     ]
    }
   ],
   "source": [
    "#Leaf nodes of a tree\n",
    "\n",
    "class node:\n",
    "    def __init__(self, value):\n",
    "        self.value = value\n",
    "        self.left = None\n",
    "        self.right = None\n",
    "\n",
    "def print_leaf_nodes(root):\n",
    "    if root == None:\n",
    "        return 0\n",
    "\n",
    "    if root.left == None and root.right == None:\n",
    "        print(root.value)\n",
    "\n",
    "    print_leaf_nodes(root.left)\n",
    "    print_leaf_nodes(root.right)\n",
    "    \n",
    "root = node(20)\n",
    "root.left = node(15)\n",
    "root.right = node(56)\n",
    "root.left.left = node(43)\n",
    "root.left.right = node(18)\n",
    "root.right.left = node(67)\n",
    "root.right.right = node(31)\n",
    "root.right.right.left = node(9)\n",
    "root.right.right.right = node(87)\n",
    "root.right.right.right.left = node(7)\n",
    "root.right.right.right.right = node(13)\n",
    "root.right.right.right.right.left = node(17)\n",
    "\n",
    "print(\"Leaf Nodes:\")\n",
    "print_leaf_nodes(root)\n"
   ]
  },
  {
   "cell_type": "code",
   "execution_count": 16,
   "id": "63940f29",
   "metadata": {},
   "outputs": [
    {
     "name": "stdout",
     "output_type": "stream",
     "text": [
      "Top view of the binary tree is: 2 1 3 6 "
     ]
    }
   ],
   "source": [
    "class node:\n",
    "    def __init__(self, key):\n",
    "        self.key = key\n",
    "        self.left = None\n",
    "        self.right = None\n",
    "        self.hd = 0\n",
    "\n",
    "def top_view(root):\n",
    "    if root == None:\n",
    "        return 0\n",
    "\n",
    "    queue = []\n",
    "    top_view_nodes = {}\n",
    "\n",
    "    queue.append(root)\n",
    "\n",
    "    while queue:\n",
    "        temp = queue[0]\n",
    "        queue.pop(0)\n",
    "        hd = temp.hd\n",
    "        if hd not in top_view_nodes:\n",
    "            top_view_nodes[hd] = temp.key\n",
    "        if temp.left:\n",
    "            temp.left.hd = hd - 1\n",
    "            queue.append(temp.left)\n",
    "\n",
    "        if temp.right:\n",
    "            temp.right.hd = hd + 1\n",
    "            queue.append(temp.right)\n",
    "\n",
    "    for key in sorted(top_view_nodes.keys()):\n",
    "        print(top_view_nodes[key], end=\" \")\n",
    "\n",
    "if __name__ == \"__main__\":\n",
    "    root = node(1)\n",
    "    root.left = node(2)\n",
    "    root.right = node(3)\n",
    "    root.left.right = node(4)\n",
    "    root.left.right.right = node(5)\n",
    "    root.left.right.right.right = node(6)\n",
    "\n",
    "\n",
    "    print(\"Top view of the binary tree is:\", end=\" \")\n",
    "    top_view(root)\n"
   ]
  },
  {
   "cell_type": "code",
   "execution_count": 17,
   "id": "79a9c951",
   "metadata": {},
   "outputs": [
    {
     "name": "stdout",
     "output_type": "stream",
     "text": [
      "Bottom view of the binary tree is: 2 4 5 6 "
     ]
    }
   ],
   "source": [
    "class node:\n",
    "    def __init__(self, key):\n",
    "        self.key = key\n",
    "        self.left = None\n",
    "        self.right = None\n",
    "        self.hd = 0\n",
    "\n",
    "def bottom_view(root):\n",
    "    if root == None:\n",
    "        return 0\n",
    "\n",
    "    queue = []\n",
    "    bottom_view_nodes = {}\n",
    "\n",
    "    queue.append(root)\n",
    "\n",
    "    while queue:\n",
    "        temp = queue[0]\n",
    "        queue.pop(0)\n",
    "        hd = temp.hd\n",
    "        bottom_view_nodes[hd] = temp.key  \n",
    "\n",
    "        if temp.left:\n",
    "            temp.left.hd = hd - 1\n",
    "            queue.append(temp.left)\n",
    "\n",
    "        if temp.right:\n",
    "            temp.right.hd = hd + 1\n",
    "            queue.append(temp.right)\n",
    "\n",
    "    for key in sorted(bottom_view_nodes.keys()):\n",
    "        print(bottom_view_nodes[key], end=\" \")\n",
    "\n",
    "if __name__ == \"__main__\":\n",
    "    root = node(1)\n",
    "    root.left = node(2)\n",
    "    root.right = node(3)\n",
    "    root.left.right = node(4)\n",
    "    root.left.right.right = node(5)\n",
    "    root.left.right.right.right = node(6)\n",
    "\n",
    "    print(\"Bottom view of the binary tree is:\", end=\" \")\n",
    "    bottom_view(root)\n"
   ]
  },
  {
   "cell_type": "code",
   "execution_count": null,
   "id": "f6c60d4a",
   "metadata": {},
   "outputs": [],
   "source": []
  }
 ],
 "metadata": {
  "kernelspec": {
   "display_name": "Python 3 (ipykernel)",
   "language": "python",
   "name": "python3"
  },
  "language_info": {
   "codemirror_mode": {
    "name": "ipython",
    "version": 3
   },
   "file_extension": ".py",
   "mimetype": "text/x-python",
   "name": "python",
   "nbconvert_exporter": "python",
   "pygments_lexer": "ipython3",
   "version": "3.11.5"
  }
 },
 "nbformat": 4,
 "nbformat_minor": 5
}

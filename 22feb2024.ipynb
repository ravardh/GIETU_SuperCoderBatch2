{
 "cells": [
  {
   "cell_type": "code",
   "execution_count": 7,
   "id": "da505dfb",
   "metadata": {},
   "outputs": [
    {
     "name": "stdout",
     "output_type": "stream",
     "text": [
      "8\n",
      "9\n",
      "5\n",
      "Sum:  22\n"
     ]
    }
   ],
   "source": [
    "#sliding Window\n",
    "\n",
    "a=[1,3,5,2,7,4,8,9,5,3,5,7,9,3,2,0]\n",
    "#grades or ranking of students\n",
    "\n",
    "sum=0\n",
    "b=0\n",
    "for i in range(0,len(a)-2):\n",
    "    if a[i]+a[i+1]+a[i+2] > sum:\n",
    "        sum=a[i]+a[i+1]+a[i+2]\n",
    "        b=i\n",
    "print(a[b])\n",
    "print(a[b+1])\n",
    "print(a[b+2])\n",
    "print(\"Sum: \",sum)"
   ]
  },
  {
   "cell_type": "code",
   "execution_count": 5,
   "id": "ec26f2f4",
   "metadata": {},
   "outputs": [
    {
     "name": "stdout",
     "output_type": "stream",
     "text": [
      "{1: 'abc', 2: 'def', 5: 'xyz'}\n",
      "def\n",
      "valid key\n",
      "Code executed successfully\n"
     ]
    }
   ],
   "source": [
    "#Exception Handling\n",
    "d={1:\"abc\",2:\"def\",5:\"xyz\"}\n",
    "print(d)\n",
    "try:\n",
    "    print(d[2])\n",
    "except:\n",
    "    print(\"The key is not present\")\n",
    "else:\n",
    "    print(\"valid key\")\n",
    "finally:\n",
    "    print(\"Code executed successfully\")"
   ]
  },
  {
   "cell_type": "code",
   "execution_count": 11,
   "id": "2c2a74ef",
   "metadata": {},
   "outputs": [
    {
     "name": "stdout",
     "output_type": "stream",
     "text": [
      "Enter length: 6\n",
      "Enter number: 1\n",
      "Enter number: 2\n",
      "Enter number: 3\n",
      "Enter number: 4\n",
      "Enter number: 5\n",
      "Enter number: 6\n",
      "4\n",
      "5\n",
      "6\n",
      "Sum:  15\n"
     ]
    }
   ],
   "source": [
    "#Using user input\n",
    "\n",
    "n=int(input(\"Enter length: \"))\n",
    "a=[]\n",
    "\n",
    "for i in range (0,n):\n",
    "    b=int(input(\"Enter number: \"))\n",
    "    a.append(b)\n",
    "\n",
    "sum=0\n",
    "b=0\n",
    "for i in range(0,len(a)-2):\n",
    "    if a[i]+a[i+1]+a[i+2] > sum:\n",
    "        sum=a[i]+a[i+1]+a[i+2]\n",
    "        b=i\n",
    "print(a[b])\n",
    "print(a[b+1])\n",
    "print(a[b+2])\n",
    "print(\"Sum: \",sum)"
   ]
  },
  {
   "cell_type": "code",
   "execution_count": 7,
   "id": "bb038e98",
   "metadata": {},
   "outputs": [
    {
     "name": "stdout",
     "output_type": "stream",
     "text": [
      "Enter length: 4\n",
      "9\n",
      "3\n",
      "2\n",
      "0\n",
      "Sum:  28\n"
     ]
    }
   ],
   "source": [
    "a=[1,3,5,2,7,4,8,9,5,3,5,7,9,3,2,0]\n",
    "#grades or ranking of students\n",
    "\n",
    "n=int(input(\"Enter length: \"))\n",
    "sum=0\n",
    "b=0\n",
    "for i in range(0,len(a)-n+1):\n",
    "    sum1=0\n",
    "    for j in range(i,n+i):\n",
    "        sum1+=a[j]\n",
    "        if sum1>sum:\n",
    "            sum=sum1\n",
    "            b=i\n",
    "for k in range(i,n+i):\n",
    "    print(a[k])\n",
    "print(\"Sum: \",sum)"
   ]
  },
  {
   "cell_type": "code",
   "execution_count": 1,
   "id": "f9cad0f4",
   "metadata": {},
   "outputs": [
    {
     "name": "stdout",
     "output_type": "stream",
     "text": [
      "[6, 12]\n"
     ]
    }
   ],
   "source": [
    "string=\"ABCBBACBAABACBABC\"\n",
    "pattern=\"CBA\"\n",
    "l=[]\n",
    "b=0\n",
    "for i in range(0,len(string)-len(pattern)+1):\n",
    "        if string[i:len(pattern)+i]==pattern:\n",
    "            l.append(i)\n",
    "            \n",
    "print(l)"
   ]
  },
  {
   "cell_type": "code",
   "execution_count": 4,
   "id": "d0f79af3",
   "metadata": {},
   "outputs": [
    {
     "name": "stdout",
     "output_type": "stream",
     "text": [
      "Enter the length which u want to see the maximum sum of three consecutive numbers:4\n",
      "7\n",
      "9\n",
      "3\n",
      "2\n",
      "28\n"
     ]
    }
   ],
   "source": [
    "a= [1,3,5,2,7,4,8,9,5,3,5,7,9,3,2,0]\n",
    "n=int(input(\"Enter the length which u want to see the maximum sum of three consecutive numbers:\"))\n",
    "max=win=0\n",
    "for i in range(0,n):\n",
    "    max+=a[i]\n",
    "win=max\n",
    "for i in range(0,len(a)-n):\n",
    "    if (max<win):\n",
    "        max=win\n",
    "    win=win+a[i+n]-a[i]\n",
    "    b=i\n",
    "\n",
    "for i in range(b,n+b):\n",
    "    print(a[i])\n",
    "print(max)"
   ]
  },
  {
   "cell_type": "code",
   "execution_count": null,
   "id": "2eddc0f9",
   "metadata": {},
   "outputs": [],
   "source": []
  }
 ],
 "metadata": {
  "kernelspec": {
   "display_name": "Python 3 (ipykernel)",
   "language": "python",
   "name": "python3"
  },
  "language_info": {
   "codemirror_mode": {
    "name": "ipython",
    "version": 3
   },
   "file_extension": ".py",
   "mimetype": "text/x-python",
   "name": "python",
   "nbconvert_exporter": "python",
   "pygments_lexer": "ipython3",
   "version": "3.11.5"
  }
 },
 "nbformat": 4,
 "nbformat_minor": 5
}

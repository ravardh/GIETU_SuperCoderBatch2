{
  "nbformat": 4,
  "nbformat_minor": 0,
  "metadata": {
    "colab": {
      "provenance": []
    },
    "kernelspec": {
      "name": "python3",
      "display_name": "Python 3"
    },
    "language_info": {
      "name": "python"
    }
  },
  "cells": [
    {
      "cell_type": "code",
      "execution_count": 2,
      "metadata": {
        "colab": {
          "base_uri": "https://localhost:8080/"
        },
        "id": "AIxWUpfAZQkD",
        "outputId": "0a3e04c8-012f-4476-889c-3bc01efd77f3"
      },
      "outputs": [
        {
          "output_type": "stream",
          "name": "stdout",
          "text": [
            "Found pattern at index 3\n",
            "Found pattern at index 10\n",
            "Found pattern at index 16\n"
          ]
        }
      ],
      "source": [
        "#KMP Algorithm\n",
        "\n",
        "\n",
        "def KMPSearch(pat, data):\n",
        "\tM = len(pat)\n",
        "\tN = len(data)\n",
        "\n",
        "\tlps = [0]*M\n",
        "\tj = 0\n",
        "\n",
        "\tLPS(pat, M, lps)\n",
        "\n",
        "\ti = 0\n",
        "\twhile (N - i) >= (M - j):\n",
        "\t\tif pat[j] == data[i]:\n",
        "\t\t\ti += 1\n",
        "\t\t\tj += 1\n",
        "\n",
        "\t\tif j == M:\n",
        "\t\t\tprint(\"Found pattern at index \" + str(i-j))\n",
        "\t\t\tj = lps[j-1]\n",
        "\n",
        "\t\telif i < N and pat[j] != data[i]:\n",
        "\t\t\tif j != 0:\n",
        "\t\t\t\tj = lps[j-1]\n",
        "\t\t\telse:\n",
        "\t\t\t\ti += 1\n",
        "\n",
        "\n",
        "\n",
        "def LPS(pat, M, lps):\n",
        "\tlen = 0\n",
        "\n",
        "\tlps[0] = 0\n",
        "\ti = 1\n",
        "\n",
        "\n",
        "\twhile i < M:\n",
        "\t\tif pat[i] == pat[len]:\n",
        "\t\t\tlen += 1\n",
        "\t\t\tlps[i] = len\n",
        "\t\t\ti += 1\n",
        "\t\telse:\n",
        "\t\t\tif len != 0:\n",
        "\t\t\t\tlen = lps[len-1]\n",
        "\t\t\telse:\n",
        "\t\t\t\tlps[i] = 0\n",
        "\t\t\t\ti += 1\n",
        "\n",
        "\n",
        "# Driver code\n",
        "if __name__ == '__main__':\n",
        "\tdata = \"ABAABABCABABABCAABABCABAC\"\n",
        "\tpat = \"ABABC\"\n",
        "\tKMPSearch(pat, data)"
      ]
    },
    {
      "cell_type": "code",
      "source": [
        "#LINK LIST\n",
        "\n",
        "class node:\n",
        "    def __init__(self,data=None):\n",
        "        self.data=data\n",
        "        self.next=None\n",
        "newNode = node(1)\n",
        "start = newNode\n",
        "\n",
        "start.next= node(2)\n",
        "start.next.next= node(3)\n",
        "start.next.next.next= node(4)\n",
        "start.next.next.next.next= node(5)\n",
        "\n",
        "temp = start\n",
        "print(temp)\n",
        "while temp:\n",
        "    print(temp.data)\n",
        "    temp=temp.next\n",
        "    print(temp)\n",
        "\n",
        "\n",
        "n1=node(0)\n",
        "n1.next=start\n",
        "start=n1\n",
        "print(\"Node added into begining\")\n",
        "\n",
        "temp = start\n",
        "print(temp)\n",
        "while temp:\n",
        "    print(temp.data)\n",
        "    temp=temp.next\n",
        "    print(temp)\n",
        "\n",
        "\n",
        "\n",
        "n2=node(6)\n",
        "temp=start\n",
        "while temp.next:\n",
        "    temp=temp.next\n",
        "temp.next=n2\n",
        "print(\"Node added into End\")\n",
        "\n",
        "temp = start\n",
        "print(temp)\n",
        "while temp:\n",
        "    print(temp.data)\n",
        "    temp=temp.next\n",
        "    print(temp)"
      ],
      "metadata": {
        "colab": {
          "base_uri": "https://localhost:8080/"
        },
        "id": "VtSbulu1d2cl",
        "outputId": "7e9afb0d-db19-4935-f9cb-c330efa0d7f1"
      },
      "execution_count": 4,
      "outputs": [
        {
          "output_type": "stream",
          "name": "stdout",
          "text": [
            "<__main__.node object at 0x792b6b7a18a0>\n",
            "1\n",
            "<__main__.node object at 0x792b6b7a25c0>\n",
            "2\n",
            "<__main__.node object at 0x792b6b7a2530>\n",
            "3\n",
            "<__main__.node object at 0x792b6b7a2c50>\n",
            "4\n",
            "<__main__.node object at 0x792b6b7a1390>\n",
            "5\n",
            "None\n",
            "Node added into begining\n",
            "<__main__.node object at 0x792b78666c50>\n",
            "0\n",
            "<__main__.node object at 0x792b6b7a18a0>\n",
            "1\n",
            "<__main__.node object at 0x792b6b7a25c0>\n",
            "2\n",
            "<__main__.node object at 0x792b6b7a2530>\n",
            "3\n",
            "<__main__.node object at 0x792b6b7a2c50>\n",
            "4\n",
            "<__main__.node object at 0x792b6b7a1390>\n",
            "5\n",
            "None\n",
            "Node added into End\n",
            "<__main__.node object at 0x792b78666c50>\n",
            "0\n",
            "<__main__.node object at 0x792b6b7a18a0>\n",
            "1\n",
            "<__main__.node object at 0x792b6b7a25c0>\n",
            "2\n",
            "<__main__.node object at 0x792b6b7a2530>\n",
            "3\n",
            "<__main__.node object at 0x792b6b7a2c50>\n",
            "4\n",
            "<__main__.node object at 0x792b6b7a1390>\n",
            "5\n",
            "<__main__.node object at 0x792b6b7a3940>\n",
            "6\n",
            "None\n"
          ]
        }
      ]
    },
    {
      "cell_type": "code",
      "source": [
        "def factorial(n):\n",
        "    if n == 1:\n",
        "        return 1\n",
        "    else:\n",
        "        return n * factorial(n - 1)\n",
        "\n",
        "\n",
        "n= int(input(\"Enter a number \"))\n",
        "\n",
        "if n < 0:\n",
        "    print(\"Factorial is not defined for negative numbers\")\n",
        "else:\n",
        "    print(\"Factorial  is\", factorial(n))"
      ],
      "metadata": {
        "colab": {
          "base_uri": "https://localhost:8080/"
        },
        "id": "VIwhjrem3BiS",
        "outputId": "9515d78d-10b4-48fd-a062-a63f247edde0"
      },
      "execution_count": 5,
      "outputs": [
        {
          "output_type": "stream",
          "name": "stdout",
          "text": [
            "Enter a number 5\n",
            "Factorial  is 120\n"
          ]
        }
      ]
    },
    {
      "cell_type": "code",
      "source": [
        "def pow_recursive(x, n):\n",
        "    if n == 0:\n",
        "        return 1\n",
        "    elif n < 0:\n",
        "        return 1 / pow_recursive(x, -n)\n",
        "    elif n % 2 == 0:\n",
        "        temp = pow_recursive(x, n // 2)\n",
        "        return temp * temp\n",
        "\n",
        "    else:\n",
        "        return x * pow_recursive(x, n - 1)\n",
        "\n",
        "x = 2\n",
        "n = 5\n",
        "print(pow_recursive(x, n))"
      ],
      "metadata": {
        "colab": {
          "base_uri": "https://localhost:8080/"
        },
        "id": "qEFDEu_LCleo",
        "outputId": "6aef775b-7b86-4e0d-d573-dd37f600ca03"
      },
      "execution_count": 6,
      "outputs": [
        {
          "output_type": "stream",
          "name": "stdout",
          "text": [
            "32\n"
          ]
        }
      ]
    },
    {
      "cell_type": "code",
      "source": [],
      "metadata": {
        "id": "LW4ZkNQnIXLa"
      },
      "execution_count": null,
      "outputs": []
    }
  ]
}
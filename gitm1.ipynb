{
  "nbformat": 4,
  "nbformat_minor": 0,
  "metadata": {
    "colab": {
      "provenance": [],
      "authorship_tag": "ABX9TyNoNRKXXWAF4pGzSQ6ZBV4g",
      "include_colab_link": true
    },
    "kernelspec": {
      "name": "python3",
      "display_name": "Python 3"
    },
    "language_info": {
      "name": "python"
    }
  },
  "cells": [
    {
      "cell_type": "markdown",
      "metadata": {
        "id": "view-in-github",
        "colab_type": "text"
      },
      "source": [
        "<a href=\"https://colab.research.google.com/github/ravardh/GIETU_SuperCoderBatch2/blob/shrejal_21CSEDS044/gitm1.ipynb\" target=\"_parent\"><img src=\"https://colab.research.google.com/assets/colab-badge.svg\" alt=\"Open In Colab\"/></a>"
      ]
    },
    {
      "cell_type": "code",
      "source": [
        "def find_number_of_nodes_from_vertex(graph, vertex):\n",
        "  queue = [vertex]\n",
        "  visited = set()\n",
        "  count = 0\n",
        "  while queue:\n",
        "    node = queue.pop(0)\n",
        "    visited.add(node)\n",
        "    count += 1\n",
        "    for neighbor in graph[node]:\n",
        "      if neighbor not in visited:\n",
        "        queue.append(neighbor)\n",
        "  return count"
      ],
      "metadata": {
        "id": "Y4SP72jB4so7"
      },
      "execution_count": null,
      "outputs": []
    },
    {
      "cell_type": "code",
      "source": [
        "import networkx as nx\n",
        "\n",
        "# Create a graph\n",
        "G = nx.Graph()\n",
        "\n",
        "# Add edges\n",
        "G.add_edges_from([(1, 2), (2, 3), (3, 4), (4, 1)])\n",
        "\n",
        "# Get the number of nodes\n",
        "num_nodes = G.number_of_nodes()\n",
        "\n",
        "print(\"Number of nodes:\", num_nodes)\n"
      ],
      "metadata": {
        "colab": {
          "base_uri": "https://localhost:8080/"
        },
        "id": "mijqGgLP6Tpf",
        "outputId": "d42dc098-c8ef-4cec-ba95-2d383b763e6d"
      },
      "execution_count": null,
      "outputs": [
        {
          "output_type": "stream",
          "name": "stdout",
          "text": [
            "Number of nodes: 4\n"
          ]
        }
      ]
    },
    {
      "cell_type": "code",
      "source": [
        "def find_number_of_nodes_from_vertex(graph, vertex):\n",
        "    queue = [vertex]\n",
        "    visited = set()\n",
        "    count = 0\n",
        "    while queue:\n",
        "        node = queue.pop(0)\n",
        "        visited.add(node)\n",
        "        count += 1\n",
        "\n",
        "        for neighbor in graph[node]:\n",
        "            if neighbor not in visited:\n",
        "                queue.append(neighbor)\n",
        "    return count\n",
        "graph = {\n",
        "    'A': ['B', 'C'],\n",
        "    'B': ['A', 'D', 'E'],\n",
        "    'C': ['A', 'F'],\n",
        "    'D': ['B'],\n",
        "    'E': ['B', 'F'],\n",
        "    'F': ['C', 'E']\n",
        "}\n",
        "start_vertex = 'A'\n",
        "num_nodes = find_number_of_nodes_from_vertex(graph, start_vertex)\n",
        "print(\"Number of nodes from vertex {}: {}\".format(start_vertex, num_nodes))\n"
      ],
      "metadata": {
        "colab": {
          "base_uri": "https://localhost:8080/"
        },
        "id": "FuLxVAnt6xuU",
        "outputId": "8fdf4e15-48de-488e-c7b5-cfa8fa874069"
      },
      "execution_count": null,
      "outputs": [
        {
          "output_type": "stream",
          "name": "stdout",
          "text": [
            "Number of nodes from vertex A: 7\n"
          ]
        }
      ]
    },
    {
      "cell_type": "code",
      "source": [],
      "metadata": {
        "id": "1HgKa-OE-G-Z"
      },
      "execution_count": null,
      "outputs": []
    }
  ]
}
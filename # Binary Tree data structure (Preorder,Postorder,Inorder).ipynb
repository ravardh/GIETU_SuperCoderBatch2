{
 "cells": [
  {
   "cell_type": "markdown",
   "id": "520ee02d",
   "metadata": {},
   "source": [
    "# Binary Tree data structure\n",
    "Preorder : Root->left->right"
   ]
  },
  {
   "cell_type": "code",
   "execution_count": 7,
   "id": "44e29a2a",
   "metadata": {},
   "outputs": [
    {
     "name": "stdout",
     "output_type": "stream",
     "text": [
      "1\n",
      "2\n",
      "3\n",
      "6\n",
      "4\n",
      "5\n",
      "7\n"
     ]
    }
   ],
   "source": [
    "class Node:\n",
    "    def __init__(self,data = None):\n",
    "        self.data = data\n",
    "        self.left = None\n",
    "        self.right = None\n",
    "\n",
    "\n",
    "root = Node(1)\n",
    "root.left = Node(2)\n",
    "root.right = Node(4)\n",
    "root.left.left = Node(3)\n",
    "root.left.right = Node(6)\n",
    "root.right.left = Node(5)\n",
    "root.right.right = Node(7)\n",
    "\n",
    "def preorder(root):\n",
    "    if(root == None):\n",
    "        return\n",
    "    print(root.data)\n",
    "    preorder(root.left)\n",
    "    preorder(root.right)\n",
    "preorder(root)\n"
   ]
  },
  {
   "cell_type": "markdown",
   "id": "f17f7479",
   "metadata": {},
   "source": [
    "# Binary Tree data structure\n",
    "postorder : left->right->root"
   ]
  },
  {
   "cell_type": "code",
   "execution_count": 9,
   "id": "cb0b1d8f",
   "metadata": {},
   "outputs": [
    {
     "name": "stdout",
     "output_type": "stream",
     "text": [
      "3\n",
      "6\n",
      "2\n",
      "5\n",
      "7\n",
      "4\n",
      "1\n"
     ]
    }
   ],
   "source": [
    "class Node:\n",
    "    def __init__(self,data = None):\n",
    "        self.data = data\n",
    "        self.left = None\n",
    "        self.right = None\n",
    "\n",
    "\n",
    "root = Node(1)\n",
    "root.left = Node(2)\n",
    "root.right = Node(4)\n",
    "root.left.left = Node(3)\n",
    "root.left.right = Node(6)\n",
    "root.right.left = Node(5)\n",
    "root.right.right = Node(7)\n",
    "\n",
    "def postorder(root):\n",
    "    if(root == None):\n",
    "       return \n",
    "    postorder(root.left)\n",
    "    postorder(root.right)\n",
    "    print(root.data)\n",
    "postorder(root)\n"
   ]
  },
  {
   "cell_type": "markdown",
   "id": "e2342509",
   "metadata": {},
   "source": [
    "# Binary Tree data structure\n",
    "inorder : left->root->right"
   ]
  },
  {
   "cell_type": "code",
   "execution_count": 12,
   "id": "dd156311",
   "metadata": {},
   "outputs": [
    {
     "name": "stdout",
     "output_type": "stream",
     "text": [
      "3\n",
      "2\n",
      "6\n",
      "1\n",
      "5\n",
      "4\n",
      "7\n"
     ]
    }
   ],
   "source": [
    "class Node:\n",
    "    def __init__(self,data = None):\n",
    "        self.data = data\n",
    "        self.left = None\n",
    "        self.right = None\n",
    "\n",
    "\n",
    "root = Node(1)\n",
    "root.left = Node(2)\n",
    "root.right = Node(4)\n",
    "root.left.left = Node(3)\n",
    "root.left.right = Node(6)\n",
    "root.right.left = Node(5)\n",
    "root.right.right = Node(7)\n",
    "\n",
    "def inorder(root):\n",
    "    if(root == None):\n",
    "       return \n",
    "    inorder(root.left)\n",
    "    print(root.data)\n",
    "    inorder(root.right)\n",
    "inorder(root)\n"
   ]
  },
  {
   "cell_type": "code",
   "execution_count": null,
   "id": "b1305af0",
   "metadata": {},
   "outputs": [],
   "source": []
  }
 ],
 "metadata": {
  "kernelspec": {
   "display_name": "Python 3 (ipykernel)",
   "language": "python",
   "name": "python3"
  },
  "language_info": {
   "codemirror_mode": {
    "name": "ipython",
    "version": 3
   },
   "file_extension": ".py",
   "mimetype": "text/x-python",
   "name": "python",
   "nbconvert_exporter": "python",
   "pygments_lexer": "ipython3",
   "version": "3.11.3"
  }
 },
 "nbformat": 4,
 "nbformat_minor": 5
}

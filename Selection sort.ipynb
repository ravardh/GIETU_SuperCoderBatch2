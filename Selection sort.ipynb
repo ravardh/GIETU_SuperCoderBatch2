{
 "cells": [
  {
   "cell_type": "code",
   "execution_count": 1,
   "id": "13fb1aff",
   "metadata": {},
   "outputs": [
    {
     "name": "stdout",
     "output_type": "stream",
     "text": [
      "Enter the size of array: 4\n",
      "22\n",
      "33\n",
      "1\n",
      "4\n",
      "Unsorted array: 22 33 1 4 \n",
      "Sorted array: 1 4 22 33 \n"
     ]
    }
   ],
   "source": [
    "# Selection Sort\n",
    "def print_array(array):\n",
    "    for i in range(len(array)):\n",
    "        print(array[i], end=\" \")\n",
    "    print()\n",
    "\n",
    "def selectionSort(array, size):\n",
    "    for ind in range(size):\n",
    "        min_index = ind\n",
    "\n",
    "        for j in range(ind + 1, size):\n",
    "            if array[j] < array[min_index]:\n",
    "                min_index = j\n",
    "        (array[ind], array[min_index]) = (array[min_index], array[ind])\n",
    "    \n",
    "array=[]\n",
    "n=int(input(\"Enter the size of array: \"))\n",
    "for i in range(n):\n",
    "    e=int(input())\n",
    "    array.append(e)\n",
    "print(\"Unsorted array: \", end=\"\")\n",
    "print_array(array)\n",
    "selectionSort(array,n)\n",
    "print(\"Sorted array: \", end=\"\")\n",
    "print_array(array)"
   ]
  },
  {
   "cell_type": "code",
   "execution_count": null,
   "id": "1ce3a472",
   "metadata": {},
   "outputs": [],
   "source": []
  }
 ],
 "metadata": {
  "kernelspec": {
   "display_name": "Python 3 (ipykernel)",
   "language": "python",
   "name": "python3"
  },
  "language_info": {
   "codemirror_mode": {
    "name": "ipython",
    "version": 3
   },
   "file_extension": ".py",
   "mimetype": "text/x-python",
   "name": "python",
   "nbconvert_exporter": "python",
   "pygments_lexer": "ipython3",
   "version": "3.9.13"
  }
 },
 "nbformat": 4,
 "nbformat_minor": 5
}

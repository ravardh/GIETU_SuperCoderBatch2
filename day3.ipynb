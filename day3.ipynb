{
  "nbformat": 4,
  "nbformat_minor": 0,
  "metadata": {
    "colab": {
      "provenance": []
    },
    "kernelspec": {
      "name": "python3",
      "display_name": "Python 3"
    },
    "language_info": {
      "name": "python"
    }
  },
  "cells": [
    {
      "cell_type": "code",
      "source": [
        "#KMP Algorithm\n",
        "def KMPSearch(pat, data):\n",
        "\tM = len(pat)\n",
        "\tN = len(data)\n",
        "\n",
        "\tlps = [0]*M\n",
        "\tj = 0\n",
        "\n",
        "\tLPS(pat, M, lps)\n",
        "\ti = 0\n",
        "\twhile (N - i) >= (M - j):\n",
        "\t\tif pat[j] == data[i]:\n",
        "\t\t\ti += 1\n",
        "\t\t\tj += 1\n",
        "\t\tif j == M:\n",
        "\t\t\tprint(\"Found pattern at index \" + str(i-j))\n",
        "\t\t\tj = lps[j-1]\n",
        "\t\telif i < N and pat[j] != data[i]:\n",
        "\t\t\tif j != 0:\n",
        "\t\t\t\tj = lps[j-1]\n",
        "\t\t\telse:\n",
        "\t\t\t\ti += 1\n",
        "def LPS(pat, M, lps):\n",
        "\tlen = 0\n",
        "\tlps[0] = 0\n",
        "\ti = 1\n",
        "\twhile i < M:\n",
        "\t\tif pat[i] == pat[len]:\n",
        "\t\t\tlen += 1\n",
        "\t\t\tlps[i] = len\n",
        "\t\t\ti += 1\n",
        "\t\telse:\n",
        "\t\t\tif len != 0:\n",
        "\t\t\t\tlen = lps[len-1]\n",
        "\t\t\telse:\n",
        "\t\t\t\tlps[i] = 0\n",
        "\t\t\t\ti += 1\n",
        "data = \"ABAABABCABABABCAABABCABAC\"\n",
        "pat = \"ABABC\"\n",
        "KMPSearch(pat, data)"
      ],
      "metadata": {
        "colab": {
          "base_uri": "https://localhost:8080/"
        },
        "id": "nNJGGpwjpvjd",
        "outputId": "16316f69-53f3-479f-b56a-e1180e55bc47"
      },
      "execution_count": null,
      "outputs": [
        {
          "output_type": "stream",
          "name": "stdout",
          "text": [
            "Found pattern at index 3\n",
            "Found pattern at index 10\n",
            "Found pattern at index 16\n"
          ]
        }
      ]
    },
    {
      "cell_type": "code",
      "source": [
        "class Node:\n",
        "   def __init__(self, dataval=None):\n",
        "      self.dataval = dataval\n",
        "      self.nextval = None\n",
        "class SLinkedList:\n",
        "   def __init__(self):\n",
        "      self.headval = None\n",
        "list1 = SLinkedList()\n",
        "list1.headval = Node(\"Mon\")\n",
        "e2 = Node(\"Tue\")\n",
        "e3 = Node(\"Wed\")\n",
        "list1.headval.nextval = e2\n",
        "e2.nextval = e3"
      ],
      "metadata": {
        "id": "Wb2lg4Yft-OO"
      },
      "execution_count": null,
      "outputs": []
    },
    {
      "cell_type": "code",
      "source": [
        "class Node:\n",
        "    def __init__(self, data):\n",
        "        self.data = data\n",
        "        self.next = None\n",
        "\n",
        "class LinkedList:\n",
        "    def __init__(self):\n",
        "        self.head = None\n",
        "    def display(self):\n",
        "        current = self.head\n",
        "        while current:\n",
        "            print(current.data, end=\" \")\n",
        "            current = current.next\n",
        "        print()\n",
        "    def insert(self, data):\n",
        "        new_node = Node(data)\n",
        "        if not self.head:\n",
        "            self.head = new_node\n",
        "        else:\n",
        "            current = self.head\n",
        "            while current.next:\n",
        "                current = current.next\n",
        "            current.next = new_node\n",
        "    def delete(self, data):\n",
        "        if not self.head:\n",
        "            return\n",
        "\n",
        "        if self.head.data == data:\n",
        "            self.head = self.head.next\n",
        "            return\n",
        "\n",
        "        current = self.head\n",
        "        prev = None\n",
        "        while current and current.data != data:\n",
        "            prev = current\n",
        "            current = current.next\n",
        "\n",
        "        if current:\n",
        "            prev.next = current.next\n",
        "\n",
        "\n",
        "linked_list = LinkedList()\n",
        "linked_list.insert(1)\n",
        "linked_list.insert(2)\n",
        "linked_list.insert(3)\n",
        "linked_list.insert(4)\n",
        "print(\"Initial Linked List:\")\n",
        "linked_list.display()\n",
        "# linked_list.insertpos(5,2)\n",
        "# linked_list.insert(5)\n",
        "# print(\"After inserting a new node (5):\")\n",
        "# linked_list.display()\n",
        "# linked_list.delete(2)\n",
        "# print(\"After deleting an existing node (2):\")\n",
        "# linked_list.display()\n"
      ],
      "metadata": {
        "colab": {
          "base_uri": "https://localhost:8080/",
          "height": 245
        },
        "id": "ZUVgbOc7AfXO",
        "outputId": "180d3bd0-0a2d-439b-9424-b1cedb72456c"
      },
      "execution_count": null,
      "outputs": [
        {
          "output_type": "stream",
          "name": "stdout",
          "text": [
            "Initial Linked List:\n",
            "1 2 3 4 \n"
          ]
        },
        {
          "output_type": "error",
          "ename": "AttributeError",
          "evalue": "'LinkedList' object has no attribute 'insertpos'",
          "traceback": [
            "\u001b[0;31m---------------------------------------------------------------------------\u001b[0m",
            "\u001b[0;31mAttributeError\u001b[0m                            Traceback (most recent call last)",
            "\u001b[0;32m<ipython-input-15-a1f8d7c8bc31>\u001b[0m in \u001b[0;36m<cell line: 49>\u001b[0;34m()\u001b[0m\n\u001b[1;32m     47\u001b[0m \u001b[0mprint\u001b[0m\u001b[0;34m(\u001b[0m\u001b[0;34m\"Initial Linked List:\"\u001b[0m\u001b[0;34m)\u001b[0m\u001b[0;34m\u001b[0m\u001b[0;34m\u001b[0m\u001b[0m\n\u001b[1;32m     48\u001b[0m \u001b[0mlinked_list\u001b[0m\u001b[0;34m.\u001b[0m\u001b[0mdisplay\u001b[0m\u001b[0;34m(\u001b[0m\u001b[0;34m)\u001b[0m\u001b[0;34m\u001b[0m\u001b[0;34m\u001b[0m\u001b[0m\n\u001b[0;32m---> 49\u001b[0;31m \u001b[0mlinked_list\u001b[0m\u001b[0;34m.\u001b[0m\u001b[0minsertpos\u001b[0m\u001b[0;34m(\u001b[0m\u001b[0;36m5\u001b[0m\u001b[0;34m,\u001b[0m\u001b[0;36m2\u001b[0m\u001b[0;34m)\u001b[0m\u001b[0;34m\u001b[0m\u001b[0;34m\u001b[0m\u001b[0m\n\u001b[0m\u001b[1;32m     50\u001b[0m \u001b[0;31m# linked_list.insert(5)\u001b[0m\u001b[0;34m\u001b[0m\u001b[0;34m\u001b[0m\u001b[0m\n\u001b[1;32m     51\u001b[0m \u001b[0;31m# print(\"After inserting a new node (5):\")\u001b[0m\u001b[0;34m\u001b[0m\u001b[0;34m\u001b[0m\u001b[0m\n",
            "\u001b[0;31mAttributeError\u001b[0m: 'LinkedList' object has no attribute 'insertpos'"
          ]
        }
      ]
    },
    {
      "cell_type": "code",
      "source": [],
      "metadata": {
        "colab": {
          "base_uri": "https://localhost:8080/"
        },
        "id": "vKrM6ZTUH19e",
        "outputId": "d32934f0-51ac-4499-b106-77aedd65d2e4"
      },
      "execution_count": null,
      "outputs": [
        {
          "output_type": "stream",
          "name": "stdout",
          "text": [
            "5\n",
            "4\n",
            "5\n"
          ]
        }
      ]
    },
    {
      "cell_type": "code",
      "source": [
        "def fact(n):\n",
        "  if(n==1 or n==0):\n",
        "    return 1\n",
        "  return n*fact(n-1)\n",
        "print(fact(5))"
      ],
      "metadata": {
        "colab": {
          "base_uri": "https://localhost:8080/"
        },
        "id": "gStgndZ6NhOO",
        "outputId": "9fbf3c1d-c0f9-4a47-b08b-b77461171182"
      },
      "execution_count": null,
      "outputs": [
        {
          "output_type": "stream",
          "name": "stdout",
          "text": [
            "120\n"
          ]
        }
      ]
    },
    {
      "cell_type": "code",
      "source": [
        "#LINK LIST\n",
        "\n",
        "class node:\n",
        "    def _init_(self,data=None):\n",
        "        self.data=data\n",
        "        self.next=None\n",
        "newNode = node(1)\n",
        "start = newNode\n",
        "\n",
        "start.next= node(2)\n",
        "start.next.next= node(3)\n",
        "start.next.next.next= node(4)\n",
        "start.next.next.next.next= node(5)\n",
        "\n",
        "temp = start\n",
        "print(temp)\n",
        "while temp:\n",
        "    print(temp.data)\n",
        "    temp=temp.next\n",
        "    print(temp)\n",
        "\n",
        "\n",
        "n1=node(0)\n",
        "n1.next=start\n",
        "start=n1\n",
        "print(\"Node added into begining\")\n",
        "\n",
        "temp = start\n",
        "print(temp)\n",
        "while temp:\n",
        "    print(temp.data)\n",
        "    temp=temp.next\n",
        "    print(temp)\n",
        "\n",
        "\n",
        "\n",
        "n2=node(6)\n",
        "temp=start\n",
        "while temp.next:\n",
        "    temp=temp.next\n",
        "temp.next=n2\n",
        "print(\"Node added into End\")\n",
        "\n",
        "temp = start\n",
        "print(temp)\n",
        "while temp:\n",
        "    print(temp.data)\n",
        "    temp=temp.next\n",
        "    print(temp)"
      ],
      "metadata": {
        "id": "oUagp5dGE31q"
      },
      "execution_count": null,
      "outputs": []
    },
    {
      "cell_type": "code",
      "source": [
        "#power of n\n",
        "def power(X,N):\n",
        "  if(N<0):\n",
        "    return(1/(X*power(X,(-N)-1)))\n",
        "  if(N==0):\n",
        "    return 1\n",
        "  return(X*power(X,N-1))\n",
        "X=float(input(\"enter num\"))\n",
        "N=int(input(\"enter power\"))\n",
        "power(X,N)"
      ],
      "metadata": {
        "colab": {
          "base_uri": "https://localhost:8080/"
        },
        "id": "WMmJlksdQkkI",
        "outputId": "89411730-0ab4-4a86-f0c2-c31f64b715ef"
      },
      "execution_count": null,
      "outputs": [
        {
          "name": "stdout",
          "output_type": "stream",
          "text": [
            "enter num2.00\n",
            "enter power-2\n"
          ]
        },
        {
          "output_type": "execute_result",
          "data": {
            "text/plain": [
              "0.25"
            ]
          },
          "metadata": {},
          "execution_count": 32
        }
      ]
    }
  ]
}
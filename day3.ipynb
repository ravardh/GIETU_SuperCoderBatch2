{
  "nbformat": 4,
  "nbformat_minor": 0,
  "metadata": {
    "colab": {
      "provenance": []
    },
    "kernelspec": {
      "name": "python3",
      "display_name": "Python 3"
    },
    "language_info": {
      "name": "python"
    }
  },
  "cells": [
    {
      "cell_type": "code",
      "execution_count": null,
      "metadata": {
        "id": "lXixJabMYpnb"
      },
      "outputs": [],
      "source": []
    },
    {
      "cell_type": "code",
      "source": [
        "#KMP Algorithm\n",
        "\n",
        "\n",
        "def KMPSearch(pat,data):\n",
        "\tM = len(pat)\n",
        "\tN = len(data)\n",
        "\n",
        "\tlps = [0]*M\n",
        "\tj = 0\n",
        "\n",
        "\tLPS(pat, M, lps)\n",
        "\n",
        "\ti = 0\n",
        "\twhile (N - i) >= (M - j):\n",
        "\t\tif pat[j] == data[i]:\n",
        "\t\t\ti += 1\n",
        "\t\t\tj += 1\n",
        "\n",
        "\t\tif j == M:\n",
        "\t\t\tprint(\"Found pattern at index \" + str(i-j))\n",
        "\t\t\tj = lps[j-1]\n",
        "\n",
        "\t\telif i < N and pat[j] != data[i]:\n",
        "\t\t\tif j != 0:\n",
        "\t\t\t\tj = lps[j-1]\n",
        "\t\t\telse:\n",
        "\t\t\t\ti += 1\n",
        "\n",
        "\n",
        "\n",
        "def LPS(pat, M, lps):\n",
        "\tlen = 0\n",
        "\n",
        "\tlps[0] = 0\n",
        "\ti = 1\n",
        "\n",
        "\n",
        "\twhile i < M:\n",
        "\t\tif pat[i] == pat[len]:\n",
        "\t\t\tlen += 1\n",
        "\t\t\tlps[i] = len\n",
        "\t\t\ti += 1\n",
        "\t\telse:\n",
        "\t\t\tif len != 0:\n",
        "\t\t\t\tlen = lps[len-1]\n",
        "\t\t\telse:\n",
        "\t\t\t\tlps[i] = 0\n",
        "\t\t\t\ti += 1\n",
        "\n",
        "\n",
        "# Driver code\n",
        "data = \"ABAABABCABABABCAABABCABAC\"\n",
        "pat = \"ABABC\"\n",
        "KMPSearch(pat,data)"
      ],
      "metadata": {
        "colab": {
          "base_uri": "https://localhost:8080/"
        },
        "id": "3BJk-ENUdZ7K",
        "outputId": "76be38c5-28a9-4658-f19f-399e03e12ef0"
      },
      "execution_count": 5,
      "outputs": [
        {
          "output_type": "stream",
          "name": "stdout",
          "text": [
            "Found pattern at index 3\n",
            "Found pattern at index 10\n",
            "Found pattern at index 16\n"
          ]
        }
      ]
    },
    {
      "cell_type": "code",
      "source": [
        "#linked list\n",
        "class Node:\n",
        "    def __init__(self, data=None):\n",
        "        self.data = data\n",
        "        self.next = None\n",
        "\n",
        "class LinkedList:\n",
        "    def __init__(self):\n",
        "        self.head = None\n",
        "\n",
        "    def insert_at_beginning(self, data):\n",
        "        new_node = Node(data)\n",
        "        new_node.next = self.head\n",
        "        self.head = new_node\n",
        "\n",
        "    def display(self):\n",
        "        current = self.head\n",
        "        while current:\n",
        "            print(current.data, end=\" -> \")\n",
        "            current = current.next\n",
        "        print(\"None\")\n",
        "\n",
        "if __name__ == \"__main__\":\n",
        "    linked_list = LinkedList()\n",
        "    linked_list.insert_at_beginning(3)\n",
        "    linked_list.insert_at_beginning(2)\n",
        "    linked_list.insert_at_beginning(1)\n",
        "    linked_list.display()\n"
      ],
      "metadata": {
        "colab": {
          "base_uri": "https://localhost:8080/"
        },
        "id": "RMIS5pRa3cZW",
        "outputId": "30fe5cfa-3677-44fc-b1a4-1520606a54d3"
      },
      "execution_count": 17,
      "outputs": [
        {
          "output_type": "stream",
          "name": "stdout",
          "text": [
            "1 -> 2 -> 3 -> None\n"
          ]
        }
      ]
    },
    {
      "cell_type": "code",
      "source": [
        "#factorial\n",
        "def factorial(n):\n",
        "    if n == 0:\n",
        "        return 1\n",
        "    else:\n",
        "        return n * factorial(n - 1)\n",
        "number = int(input(\"Enter a number: \"))\n",
        "if number < 0:\n",
        "    print(\"Factorial is not defined for negative numbers.\")\n",
        "else:\n",
        "    print(\"Factorial of\", number, \"is\", factorial(number))\n"
      ],
      "metadata": {
        "colab": {
          "base_uri": "https://localhost:8080/"
        },
        "id": "j03UZEoA81SJ",
        "outputId": "276c6a10-b3c5-4d69-9f0b-df06ab71b3c8"
      },
      "execution_count": 20,
      "outputs": [
        {
          "output_type": "stream",
          "name": "stdout",
          "text": [
            "Enter a number: 7\n",
            "Factorial of 7 is 5040\n"
          ]
        }
      ]
    },
    {
      "cell_type": "code",
      "source": [
        "#Implement pow(x, n), which calculates x raised to the power n (i.e., xn).\n",
        "class Solution(object):\n",
        "    def myPow(self, x, n):\n",
        "\n",
        "        def recursive_power(x, n):\n",
        "            if n == 0:\n",
        "                return 1\n",
        "            half = recursive_power(x, n // 2)\n",
        "            if n % 2 == 0:\n",
        "                return half * half\n",
        "            else:\n",
        "                return half * half * x\n",
        "\n",
        "        if n < 0:\n",
        "            x = 1 / x\n",
        "            n = -n\n",
        "\n",
        "        return recursive_power(x, n)\n",
        "\n",
        "solution = Solution()\n",
        "\n",
        "x = float(input(\"Enter the value of x: \"))\n",
        "n = int(input(\"Enter the value of n: \"))\n",
        "\n",
        "result = solution.myPow(x, n)\n",
        "\n",
        "print(\"Result:\", result)\n",
        "\n"
      ],
      "metadata": {
        "colab": {
          "base_uri": "https://localhost:8080/"
        },
        "id": "DQjicOV29tVh",
        "outputId": "9f760aac-63bd-4f98-d0ab-b41e1af5d7b1"
      },
      "execution_count": 30,
      "outputs": [
        {
          "output_type": "stream",
          "name": "stdout",
          "text": [
            "Enter the value of x: 7\n",
            "Enter the value of n: 5\n",
            "Result: 16807.0\n"
          ]
        }
      ]
    },
    {
      "cell_type": "code",
      "source": [],
      "metadata": {
        "id": "cueKesP9DyeE"
      },
      "execution_count": null,
      "outputs": []
    }
  ]
}
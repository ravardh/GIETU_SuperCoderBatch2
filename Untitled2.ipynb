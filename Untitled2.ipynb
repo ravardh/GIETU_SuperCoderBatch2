{
 "cells": [
  {
   "cell_type": "code",
   "execution_count": 3,
   "id": "104c2292",
   "metadata": {},
   "outputs": [
    {
     "name": "stdout",
     "output_type": "stream",
     "text": [
      "The sum of three consecutive elements is: 197\n"
     ]
    }
   ],
   "source": [
    "a = [1, 3, 5, 2, 7, 4, 8, 9, 5, 3, 7, 9, 3, 2, 0]\n",
    "\n",
    "if len(a) >= 3:\n",
    "    total_sum = 0\n",
    "\n",
    "    for i in range(len(a) - 2):\n",
    "        total_sum += sum(a[i:i + 3])\n",
    "\n",
    "    print(f\"The sum of three consecutive elements is: {total_sum}\")\n",
    "else:\n",
    "    print(\"The array does not have enough elements to find the sum of three consecutive integers.\")\n"
   ]
  },
  {
   "cell_type": "code",
   "execution_count": 4,
   "id": "b296b23f",
   "metadata": {},
   "outputs": [
    {
     "name": "stdout",
     "output_type": "stream",
     "text": [
      "Enter the length of consecutive integers to sum: 5\n",
      "The sum of 5 consecutive integers is: 294\n"
     ]
    }
   ],
   "source": [
    "a = [1, 3, 5, 2, 7, 4, 8, 9, 5, 3, 7, 9, 3, 2, 0]\n",
    "\n",
    "num_elements = int(input(\"Enter the length of consecutive integers to sum: \"))\n",
    "\n",
    "if num_elements <= len(a):\n",
    "    total_sum = 0\n",
    "\n",
    "    for i in range(len(a) - num_elements + 1):\n",
    "        total_sum += sum(a[i:i + num_elements])\n",
    "\n",
    "    print(f\"The sum of {num_elements} consecutive integers is: {total_sum}\")\n",
    "else:\n",
    "    print(\"Invalid input. The length of consecutive integers to sum should be less than or equal to the length of the array.\")\n"
   ]
  },
  {
   "cell_type": "code",
   "execution_count": 5,
   "id": "e34d3aa6",
   "metadata": {},
   "outputs": [
    {
     "name": "stdout",
     "output_type": "stream",
     "text": [
      "Enter the number of consecutive elements to add: 4\n",
      "The sum of 4 consecutive elements is: 251\n"
     ]
    }
   ],
   "source": [
    "a = [1, 3, 5, 2, 7, 4, 8, 9, 5, 3, 7, 9, 3, 2, 0]\n",
    "\n",
    "num_elements = int(input(\"Enter the number of consecutive elements to add: \"))\n",
    "\n",
    "if num_elements <= len(a):\n",
    "    total_sum = 0\n",
    "\n",
    "    for i in range(len(a) - num_elements + 1):\n",
    "        total_sum += sum(a[i:i + num_elements])\n",
    "\n",
    "    print(f\"The sum of {num_elements} consecutive elements is: {total_sum}\")\n",
    "else:\n",
    "    print(\"Invalid input. The number of elements to add should be less than or equal to the length of the array.\")\n"
   ]
  },
  {
   "cell_type": "code",
   "execution_count": null,
   "id": "7f944a77",
   "metadata": {},
   "outputs": [],
   "source": [
    "String=ABCBBACBAABACBABC\n",
    "Pattern=CBA\n"
   ]
  }
 ],
 "metadata": {
  "kernelspec": {
   "display_name": "Python 3 (ipykernel)",
   "language": "python",
   "name": "python3"
  },
  "language_info": {
   "codemirror_mode": {
    "name": "ipython",
    "version": 3
   },
   "file_extension": ".py",
   "mimetype": "text/x-python",
   "name": "python",
   "nbconvert_exporter": "python",
   "pygments_lexer": "ipython3",
   "version": "3.10.9"
  }
 },
 "nbformat": 4,
 "nbformat_minor": 5
}

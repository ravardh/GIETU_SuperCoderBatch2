{
  "nbformat": 4,
  "nbformat_minor": 0,
  "metadata": {
    "colab": {
      "provenance": [],
      "authorship_tag": "ABX9TyPfO4PusXrqND6rhR7LRuCa",
      "include_colab_link": true
    },
    "kernelspec": {
      "name": "python3",
      "display_name": "Python 3"
    },
    "language_info": {
      "name": "python"
    }
  },
  "cells": [
    {
      "cell_type": "markdown",
      "metadata": {
        "id": "view-in-github",
        "colab_type": "text"
      },
      "source": [
        "<a href=\"https://colab.research.google.com/github/ravardh/GIETU_SuperCoderBatch2/blob/Jatin_21CSE153/Knapsack.ipynb\" target=\"_parent\"><img src=\"https://colab.research.google.com/assets/colab-badge.svg\" alt=\"Open In Colab\"/></a>"
      ]
    },
    {
      "cell_type": "code",
      "execution_count": 1,
      "metadata": {
        "colab": {
          "base_uri": "https://localhost:8080/"
        },
        "id": "Q3kEex3pW9eG",
        "outputId": "11d306ad-3520-4a4c-ca0c-e360765b5523"
      },
      "outputs": [
        {
          "output_type": "stream",
          "name": "stdout",
          "text": [
            "Maximum value:52\n",
            "items:[4, 0, 5, 2, 6]\n"
          ]
        }
      ],
      "source": [
        "# 0/1 Knapsack\n",
        "items = [0, 1, 2, 3, 4, 5, 6]\n",
        "price = [10, 5, 15, 7, 6, 18, 3]\n",
        "weight = [2, 3, 5, 7, 1, 4, 1]\n",
        "capacity = 15\n",
        "n = len(items)\n",
        "ratios = {}\n",
        "for i in range(n):\n",
        "    ratio = price[i] / weight[i]\n",
        "    ratios[i] = ratio\n",
        "sorted = sorted(ratios, key=ratios.get, reverse=True)\n",
        "max = 0\n",
        "item = []\n",
        "for i in sorted:\n",
        "    if weight[i] <= capacity:\n",
        "        max += price[i]\n",
        "        item.append(items[i])\n",
        "        capacity -= weight[i]\n",
        "print(f\"Maximum value:{max}\")\n",
        "print(f\"items:{item}\")"
      ]
    }
  ]
}
{
 "cells": [
  {
   "cell_type": "code",
   "execution_count": null,
   "id": "df554f5f",
   "metadata": {},
   "outputs": [],
   "source": [
    "num1 = int(input(\"Enter the first number: \"))\n",
    "operator = input(\"Enter the operation (+, -, *, /): \")\n",
    "num2 = float(input(\"Enter the second number: \"))\n",
    "\n",
    "match operator:\n",
    "    \n",
    "    case '+':\n",
    "        print(\"Sum:\", num1 + num2)\n",
    "    case '-':\n",
    "        print(\"Difference:\", num1 - num2)\n",
    "    case '*':\n",
    "        print(\"Multiplication:\", num1 * num2)\n",
    "    case '/':\n",
    "        if num2 != 0:\n",
    "            print(\"Division:\", num1 / num2)\n",
    "        else:\n",
    "            print(\"Error: Division by zero is not allowed.\")\n",
    "    case _:\n",
    "        print(\"Invalid operator. Please enter +, -, *, or /\")\n",
    "\n"
   ]
  }
 ],
 "metadata": {
  "kernelspec": {
   "display_name": "Python 3 (ipykernel)",
   "language": "python",
   "name": "python3"
  },
  "language_info": {
   "codemirror_mode": {
    "name": "ipython",
    "version": 3
   },
   "file_extension": ".py",
   "mimetype": "text/x-python",
   "name": "python",
   "nbconvert_exporter": "python",
   "pygments_lexer": "ipython3",
   "version": "3.9.13"
  }
 },
 "nbformat": 4,
 "nbformat_minor": 5
}

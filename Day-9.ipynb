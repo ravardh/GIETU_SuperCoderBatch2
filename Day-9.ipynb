{
 "cells": [
  {
   "cell_type": "code",
   "execution_count": 4,
   "id": "420540a9-7ea5-47d8-9f79-f22fb61550b0",
   "metadata": {},
   "outputs": [
    {
     "name": "stdout",
     "output_type": "stream",
     "text": [
      "6.5\n"
     ]
    }
   ],
   "source": [
    "def getCountOccurances(text, word):\n",
    "    wHeap = [0] * 26\n",
    "    textHeap = [0] * 26\n",
    "    start = 0\n",
    "    count = 0\n",
    "    \n",
    "    for c in word:\n",
    "        wHeap[ord(c) - ord('a')] += 1\n",
    "    \n",
    "    for i in range(len(text)):\n",
    "        textHeap[ord(text[i]) - ord('a')] += 1\n",
    "        if (i - start + 1) == len(word):\n",
    "            if textHeap == wHeap:\n",
    "                count += 1\n",
    "            textHeap[ord(text[start]) - ord('a')] -= 1\n",
    "            start += 1\n",
    "        \n",
    "    return count\n",
    "\n",
    "def getMinMaxDiff(arr, k):\n",
    "    n = len(arr)\n",
    "    \n",
    "    if k > n:\n",
    "        return -1\n",
    "    \n",
    "    min_avg = float('inf')\n",
    "    max_avg = float('-inf')\n",
    "    \n",
    "    window_sum = sum(arr[:k])\n",
    "    \n",
    "    for i in range(k, n):\n",
    "        current_avg = window_sum / k\n",
    "        min_avg = min(min_avg, current_avg)\n",
    "        max_avg = max(max_avg, current_avg)\n",
    "        window_sum -= arr[i - k]\n",
    "        window_sum += arr[i]\n",
    "    \n",
    "    last_avg = window_sum / k\n",
    "    min_avg = min(min_avg, last_avg)\n",
    "    max_avg = max(max_avg, last_avg)\n",
    "    \n",
    "    difference = max_avg - min_avg\n",
    "    \n",
    "    return difference\n",
    "\n",
    "# Test case\n",
    "arr = [3, 8, 9, 15]\n",
    "k = 2\n",
    "result = getMinMaxDiff(arr, k)\n",
    "print(result)  # Output: 6.5\n"
   ]
  },
  {
   "cell_type": "code",
   "execution_count": null,
   "id": "0a54d06a-7f36-44ec-9d4c-b74f48d8e09a",
   "metadata": {},
   "outputs": [],
   "source": []
  }
 ],
 "metadata": {
  "kernelspec": {
   "display_name": "Python 3 (ipykernel)",
   "language": "python",
   "name": "python3"
  },
  "language_info": {
   "codemirror_mode": {
    "name": "ipython",
    "version": 3
   },
   "file_extension": ".py",
   "mimetype": "text/x-python",
   "name": "python",
   "nbconvert_exporter": "python",
   "pygments_lexer": "ipython3",
   "version": "3.10.9"
  }
 },
 "nbformat": 4,
 "nbformat_minor": 5
}

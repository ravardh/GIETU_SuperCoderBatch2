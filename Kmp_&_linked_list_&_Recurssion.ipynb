{
  "nbformat": 4,
  "nbformat_minor": 0,
  "metadata": {
    "colab": {
      "provenance": [],
      "authorship_tag": "ABX9TyPzcd/XeyJf5p2EDRCm0Key",
      "include_colab_link": true
    },
    "kernelspec": {
      "name": "python3",
      "display_name": "Python 3"
    },
    "language_info": {
      "name": "python"
    }
  },
  "cells": [
    {
      "cell_type": "markdown",
      "metadata": {
        "id": "view-in-github",
        "colab_type": "text"
      },
      "source": [
        "<a href=\"https://colab.research.google.com/github/ravardh/GIETU_SuperCoderBatch2/blob/Kundan_21cse046/Kmp_%26_linked_list_%26_Recurssion.ipynb\" target=\"_parent\"><img src=\"https://colab.research.google.com/assets/colab-badge.svg\" alt=\"Open In Colab\"/></a>"
      ]
    },
    {
      "cell_type": "code",
      "execution_count": 1,
      "metadata": {
        "colab": {
          "base_uri": "https://localhost:8080/"
        },
        "id": "kKLxGGn1hjZk",
        "outputId": "f533e4ba-fcf1-4bd5-e069-55fa7fee5039"
      },
      "outputs": [
        {
          "output_type": "stream",
          "name": "stdout",
          "text": [
            "Found pattern at index 3\n",
            "Found pattern at index 10\n",
            "Found pattern at index 16\n"
          ]
        }
      ],
      "source": [
        "# KMP\n",
        "\n",
        "def KMPSearch(pat, data):\n",
        "    M = len(pat)\n",
        "    N = len(data)\n",
        "    lps = [0]*M\n",
        "    j = 0\n",
        "    LPS(pat, M, lps)\n",
        "    i = 0\n",
        "    while (N - i) >= (M - j):\n",
        "        if pat[j] == data[i]:\n",
        "            i += 1\n",
        "            j += 1\n",
        "\n",
        "        if j == M:\n",
        "            print(\"Found pattern at index \" + str(i-j))\n",
        "            j = lps[j-1]\n",
        "\n",
        "        elif i < N and pat[j] != data[i]:\n",
        "            if j != 0:\n",
        "                j = lps[j-1]\n",
        "            else:\n",
        "                i += 1\n",
        "\n",
        "\n",
        "def LPS(pat, M, lps):\n",
        "    len = 0\n",
        "    lps[0] = 0\n",
        "    i = 1\n",
        "    while i < M:\n",
        "        if pat[i] == pat[len]:\n",
        "            len += 1\n",
        "            lps[i] = len\n",
        "            i += 1\n",
        "        else:\n",
        "            if len != 0:\n",
        "                len = lps[len-1]\n",
        "            else:\n",
        "                lps[i] = 0\n",
        "                i += 1\n",
        "\n",
        "\n",
        "data = \"ABAABABCABABABCAABABCABAC\"\n",
        "pat = \"ABABC\"\n",
        "KMPSearch(pat, data)"
      ]
    },
    {
      "cell_type": "code",
      "source": [
        "data = \"ABAABABCABABABCAABABCABAC\"\n",
        "pat = \"ABABC\"\n",
        "count=0\n",
        "for i in range(len(data)-len(pat)+1):\n",
        "  if data[i:i+len(pat)]==pat:\n",
        "    count+=1\n",
        "print(\"number of occurence of pattern '{}':{}\".format(pat,count))"
      ],
      "metadata": {
        "colab": {
          "base_uri": "https://localhost:8080/"
        },
        "id": "fNjCHXnDhpZX",
        "outputId": "cd3e9f01-78b7-41f5-efc7-5fdcc3b4e4e5"
      },
      "execution_count": 28,
      "outputs": [
        {
          "output_type": "stream",
          "name": "stdout",
          "text": [
            "number of occurence of pattern 'ABABC':3\n"
          ]
        }
      ]
    },
    {
      "cell_type": "code",
      "source": [
        "class Node:\n",
        "    def __init__(self, data=None):\n",
        "        self.data = data\n",
        "        self.next = None\n",
        "\n",
        "class LinkedList:\n",
        "    def __init__(self):\n",
        "        self.head = None\n",
        "\n",
        "    def append(self, data):\n",
        "        new_node = Node(data)\n",
        "        if not self.head:\n",
        "            self.head = new_node\n",
        "            return\n",
        "        current = self.head\n",
        "        while current.next:\n",
        "            current = current.next\n",
        "        current.next = new_node\n",
        "\n",
        "    def prepend(self, data):\n",
        "        new_node = Node(data)\n",
        "        new_node.next = self.head\n",
        "        self.head = new_node\n",
        "\n",
        "    def insert_at_index(self, index, data):\n",
        "        if index == 0:\n",
        "            self.prepend(data)\n",
        "            return\n",
        "        new_node = Node(data)\n",
        "        current = self.head\n",
        "        for i in range(index - 1):\n",
        "            if current is None:\n",
        "                print(\"Index out of bounds\")\n",
        "                return\n",
        "            current = current.next\n",
        "        if current is None:\n",
        "            print(\"Index out of bounds\")\n",
        "            return\n",
        "        new_node.next = current.next\n",
        "        current.next = new_node\n",
        "\n",
        "    def display(self):\n",
        "        temp = self.head\n",
        "        while temp:\n",
        "            print(temp.data, end=\" \")\n",
        "            temp = temp.next\n",
        "        print()\n",
        "\n",
        "my_list = LinkedList()\n",
        "\n",
        "print(\"Adding nodes:\")\n",
        "my_list.append(1)\n",
        "my_list.append(2)\n",
        "my_list.append(4)\n",
        "my_list.append(5)\n",
        "my_list.display()\n",
        "\n",
        "print(\"\\nAdding node at the beginning:\")\n",
        "my_list.prepend(0)\n",
        "my_list.display()\n",
        "\n",
        "print(\"\\nAdding node at index 2:\")\n",
        "my_list.insert_at_index(2, 3)\n",
        "my_list.display()\n",
        "\n",
        "print(\"\\nAdding node at the end:\")\n",
        "my_list.append(6)\n",
        "my_list.display()\n"
      ],
      "metadata": {
        "colab": {
          "base_uri": "https://localhost:8080/"
        },
        "id": "v8KMq0tF4ztH",
        "outputId": "dade143a-4464-40a5-f8bd-2f19628a7e40"
      },
      "execution_count": 30,
      "outputs": [
        {
          "output_type": "stream",
          "name": "stdout",
          "text": [
            "Adding nodes:\n",
            "1 2 4 5 \n",
            "\n",
            "Adding node at the beginning:\n",
            "0 1 2 4 5 \n",
            "\n",
            "Adding node at index 2:\n",
            "0 1 3 2 4 5 \n",
            "\n",
            "Adding node at the end:\n",
            "0 1 3 2 4 5 6 \n"
          ]
        }
      ]
    },
    {
      "cell_type": "code",
      "source": [
        "class Node:\n",
        "    def __init__(self, data=None):\n",
        "        self.data = data\n",
        "        self.next = None\n",
        "\n",
        "newNode = Node(1)\n",
        "start = newNode\n",
        "\n",
        "start.next = Node(2)\n",
        "start.next.next = Node(3)\n",
        "start.next.next.next = Node(4)\n",
        "start.next.next.next.next = Node(5)\n",
        "\n",
        "temp = start\n",
        "print(\"Traversing the linked list:\")\n",
        "while temp:\n",
        "    print(temp.data)\n",
        "    temp = temp.next\n",
        "\n",
        "n1 = Node(0)\n",
        "n1.next = start\n",
        "start = n1\n",
        "print(\"\\nNode added at the beginning:\")\n",
        "temp = start\n",
        "while temp:\n",
        "    print(temp.data)\n",
        "    temp = temp.next\n",
        "\n",
        "n2 = Node(6)\n",
        "temp = start\n",
        "while temp.next:\n",
        "    temp = temp.next\n",
        "temp.next = n2\n",
        "print(\"\\nNode added at the end:\")\n",
        "temp = start\n",
        "while temp:\n",
        "    print(temp.data)\n",
        "    temp = temp.next\n"
      ],
      "metadata": {
        "colab": {
          "base_uri": "https://localhost:8080/"
        },
        "id": "5CCQEGeI5FFD",
        "outputId": "532747c6-ac7d-49fb-f2c8-1646a1e7f9af"
      },
      "execution_count": 35,
      "outputs": [
        {
          "output_type": "stream",
          "name": "stdout",
          "text": [
            "Traversing the linked list:\n",
            "1\n",
            "2\n",
            "3\n",
            "4\n",
            "5\n",
            "\n",
            "Node added at the beginning:\n",
            "0\n",
            "1\n",
            "2\n",
            "3\n",
            "4\n",
            "5\n",
            "\n",
            "Node added at the end:\n",
            "0\n",
            "1\n",
            "2\n",
            "3\n",
            "4\n",
            "5\n",
            "6\n"
          ]
        }
      ]
    },
    {
      "cell_type": "code",
      "source": [
        "def factorial(n):\n",
        "    # Base case: factorial of 0 or 1 is 1\n",
        "    if n == 0 or n == 1:\n",
        "        return 1\n",
        "    # Recursive case: factorial of n is n times factorial of (n-1)\n",
        "    else:\n",
        "        return n * factorial(n - 1)\n",
        "\n",
        "# Example usage:\n",
        "num = 5\n",
        "print(\"Factorial of\", num, \"is\", factorial(num))\n"
      ],
      "metadata": {
        "colab": {
          "base_uri": "https://localhost:8080/"
        },
        "id": "ZOz89Y-T_j43",
        "outputId": "28be81db-a5d9-4ad6-c801-95563d01b7df"
      },
      "execution_count": 70,
      "outputs": [
        {
          "output_type": "stream",
          "name": "stdout",
          "text": [
            "Factorial of 5 is 120\n"
          ]
        }
      ]
    },
    {
      "cell_type": "code",
      "source": [
        "class Solution(object):\n",
        "    def myPow(self, x, n):\n",
        "        # Base case: when the exponent is 0, return 1\n",
        "        if n == 0:\n",
        "            return 1\n",
        "\n",
        "        # Recursive case: when the exponent is positive\n",
        "        if n > 0:\n",
        "            return x * self.myPow(x, n - 1)\n"
      ],
      "metadata": {
        "id": "KtYPeLgTDjqY"
      },
      "execution_count": 78,
      "outputs": []
    }
  ]
}
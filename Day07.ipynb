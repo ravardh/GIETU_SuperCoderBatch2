{
 "cells": [
  {
   "cell_type": "markdown",
   "id": "1b5f52b8",
   "metadata": {},
   "source": [
    "## AVL Tree"
   ]
  },
  {
   "cell_type": "code",
   "execution_count": 2,
   "id": "db5e9c72",
   "metadata": {},
   "outputs": [
    {
     "name": "stdout",
     "output_type": "stream",
     "text": [
      "Inorder traversal of AVL tree is :\n",
      "15 20 22 25 30 35 40 41 42 45 47 48 50 55 60 70 90 "
     ]
    }
   ],
   "source": [
    "class TreeNode:\n",
    "    def __init__(self, key):\n",
    "        self.key = key\n",
    "        self.height = 1\n",
    "        self.left = None\n",
    "        self.right = None\n",
    "\n",
    "class AVLTree:\n",
    "    def __init__(self):\n",
    "        self.root = None\n",
    "\n",
    "    def insert(self, root, key):\n",
    "        if not root:\n",
    "            return TreeNode(key)\n",
    "        \n",
    "        if key < root.key:\n",
    "            root.left = self.insert(root.left, key)\n",
    "        else:\n",
    "            root.right = self.insert(root.right, key)\n",
    "        \n",
    "        root.height = 1 + max(self._get_height(root.left), self._get_height(root.right))\n",
    "        balance = self._get_balance(root)\n",
    "\n",
    "        if balance > 1:\n",
    "            if key < root.left.key:\n",
    "                return self._right_rotate(root)\n",
    "            else:\n",
    "                root.left = self._left_rotate(root.left)\n",
    "                return self._right_rotate(root)\n",
    "        elif balance < -1:\n",
    "            if key > root.right.key:\n",
    "                return self._left_rotate(root)\n",
    "            else:\n",
    "                root.right = self._right_rotate(root.right)\n",
    "                return self._left_rotate(root)\n",
    "        \n",
    "        return root\n",
    "\n",
    "    def _get_height(self, node):\n",
    "        return node.height if node else 0\n",
    "\n",
    "    def _get_balance(self, node):\n",
    "        return self._get_height(node.left) - self._get_height(node.right)\n",
    "\n",
    "    def _left_rotate(self, z):\n",
    "        y = z.right\n",
    "        T2 = y.left\n",
    "\n",
    "        y.left = z\n",
    "        z.right = T2\n",
    "\n",
    "        z.height = 1 + max(self._get_height(z.left), self._get_height(z.right))\n",
    "        y.height = 1 + max(self._get_height(y.left), self._get_height(y.right))\n",
    "\n",
    "        return y\n",
    "\n",
    "    def _right_rotate(self, y):\n",
    "        z = y.left\n",
    "        T3 = z.right\n",
    "\n",
    "        z.right = y\n",
    "        y.left = T3\n",
    "\n",
    "        y.height = 1 + max(self._get_height(y.left), self._get_height(y.right))\n",
    "        z.height = 1 + max(self._get_height(z.left), self._get_height(z.right))\n",
    "\n",
    "        return z\n",
    "\n",
    "    def inorder_traversal(self, root):\n",
    "        if root:\n",
    "            self.inorder_traversal(root.left)\n",
    "            print(root.key, end=\" \")\n",
    "            self.inorder_traversal(root.right)\n",
    "\n",
    "values = [50, 45, 55, 35, 40, 48, 60, 20, 70, 41, 47, 42, 15, 22, 25, 30, 90]\n",
    "avl_tree = AVLTree()\n",
    "for val in values:\n",
    "    avl_tree.root = avl_tree.insert(avl_tree.root, val)\n",
    "\n",
    "print(\"Traversal of AVL tree is :\")\n",
    "avl_tree.inorder_traversal(avl_tree.root)\n"
   ]
  },
  {
   "cell_type": "code",
   "execution_count": null,
   "id": "6aa15575",
   "metadata": {},
   "outputs": [],
   "source": []
  }
 ],
 "metadata": {
  "kernelspec": {
   "display_name": "Python 3 (ipykernel)",
   "language": "python",
   "name": "python3"
  },
  "language_info": {
   "codemirror_mode": {
    "name": "ipython",
    "version": 3
   },
   "file_extension": ".py",
   "mimetype": "text/x-python",
   "name": "python",
   "nbconvert_exporter": "python",
   "pygments_lexer": "ipython3",
   "version": "3.9.13"
  }
 },
 "nbformat": 4,
 "nbformat_minor": 5
}

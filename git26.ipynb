{
  "nbformat": 4,
  "nbformat_minor": 0,
  "metadata": {
    "colab": {
      "provenance": [],
      "authorship_tag": "ABX9TyPWQ+kIupni7eVwNpQcQv8G",
      "include_colab_link": true
    },
    "kernelspec": {
      "name": "python3",
      "display_name": "Python 3"
    },
    "language_info": {
      "name": "python"
    }
  },
  "cells": [
    {
      "cell_type": "markdown",
      "metadata": {
        "id": "view-in-github",
        "colab_type": "text"
      },
      "source": [
        "<a href=\"https://colab.research.google.com/github/ravardh/GIETU_SuperCoderBatch2/blob/shrejal_21CSEDS044/git26.ipynb\" target=\"_parent\"><img src=\"https://colab.research.google.com/assets/colab-badge.svg\" alt=\"Open In Colab\"/></a>"
      ]
    },
    {
      "cell_type": "markdown",
      "source": [
        "DEPTH OF A BINARY TREE"
      ],
      "metadata": {
        "id": "Z9gXzT9J-m8o"
      }
    },
    {
      "cell_type": "code",
      "source": [
        "class Node:\n",
        "\n",
        "\tdef __init__(self, data):\n",
        "\t\tself.data = data\n",
        "\t\tself.left = None\n",
        "\t\tself.right = None\n",
        "\n",
        "# Function to print leaf\n",
        "# nodes from left to right\n",
        "def printLeafNodes(root: Node) -> None:\n",
        "\n",
        "\t# If node is null, return\n",
        "\tif (not root):\n",
        "\t\treturn\n",
        "\n",
        "\t# If node is leaf node,\n",
        "\t# print its data\n",
        "\tif (not root.left and\n",
        "\t\tnot root.right):\n",
        "\t\tprint(root.data,\n",
        "\t\t\tend = \" \")\n",
        "\t\treturn\n",
        "\n",
        "\t# If left child exists,\n",
        "\t# check for leaf recursively\n",
        "\tif root.left:\n",
        "\t\tprintLeafNodes(root.left)\n",
        "\n",
        "\t# If right child exists,\n",
        "\t# check for leaf recursively\n",
        "\tif root.right:\n",
        "\t\tprintLeafNodes(root.right)\n",
        "\n",
        "# Driver Code\n",
        "if __name__ == \"__main__\":\n",
        "\n",
        "\t# Let us create binary tree shown in\n",
        "\t# above diagram\n",
        "\troot = Node(1)\n",
        "\troot.left = Node(2)\n",
        "\troot.right = Node(3)\n",
        "\troot.left.left = Node(4)\n",
        "\troot.right.left = Node(5)\n",
        "\troot.right.right = Node(8)\n",
        "\troot.right.left.left = Node(6)\n",
        "\troot.right.left.right = Node(7)\n",
        "\troot.right.right.left = Node(9)\n",
        "\troot.right.right.right = Node(10)\n",
        "\n",
        "\t# print leaf nodes of the given tree\n",
        "\tprintLeafNodes(root)\n"
      ],
      "metadata": {
        "colab": {
          "base_uri": "https://localhost:8080/"
        },
        "id": "K-4O4Ur-DHDZ",
        "outputId": "15a0aaeb-64fe-4a0b-da01-50538ad0e399"
      },
      "execution_count": 4,
      "outputs": [
        {
          "output_type": "stream",
          "name": "stdout",
          "text": [
            "4 6 7 9 10 "
          ]
        }
      ]
    },
    {
      "cell_type": "code",
      "source": [
        "class Node:\n",
        "    def __init__(self, value=0, left=None, right=None):\n",
        "        self.data = value\n",
        "        self.left = None\n",
        "        self.right = None\n",
        "\n",
        "def maxDepth(node):\n",
        "    if node is None:\n",
        "        return 0\n",
        "    else:\n",
        "        left_depth = maxDepth(node.left)\n",
        "        right_depth = maxDepth(node.right)\n",
        "        return max(left_depth, right_depth) + 1\n",
        "\n",
        "# Test case\n",
        "if __name__ == \"__main__\":\n",
        "    root = Node(1)\n",
        "    root.left = Node(2)\n",
        "    root.right = Node(3)\n",
        "    root.left.left = Node(4)\n",
        "    root.left.right = Node(5)\n",
        "    root.left.left.left = Node(6)\n",
        "\n",
        "    print(\"Maximum Depth of the Binary Tree:\", maxDepth(root))"
      ],
      "metadata": {
        "colab": {
          "base_uri": "https://localhost:8080/"
        },
        "id": "AGlOAH17DS31",
        "outputId": "553155f3-1059-4300-f79f-e1b99b55398e"
      },
      "execution_count": 6,
      "outputs": [
        {
          "output_type": "stream",
          "name": "stdout",
          "text": [
            "Maximum Depth of the Binary Tree: 4\n"
          ]
        }
      ]
    },
    {
      "cell_type": "markdown",
      "source": [
        "TOP VIEW OF BINARY TREE"
      ],
      "metadata": {
        "id": "4eC1jMcwbrnb"
      }
    },
    {
      "cell_type": "code",
      "source": [
        "class newNode:\n",
        "\tdef __init__(self, key):\n",
        "\t\tself.data = key\n",
        "\t\tself.left = None\n",
        "\t\tself.right = None\n",
        "def topview(root):\n",
        "\tif(root == None):\n",
        "\t\treturn\n",
        "\tq = []\n",
        "\tm = dict()\n",
        "\thd = 0\n",
        "\troot.hd = hd\n",
        "\tq.append(root)\n",
        "\twhile(len(q)):\n",
        "\t\troot = q[0]\n",
        "\t\thd = root.hd\n",
        "\t\tif hd not in m:\n",
        "\t\t\tm[hd] = root.data\n",
        "\t\tif(root.left):\n",
        "\t\t\troot.left.hd = hd - 1\n",
        "\t\t\tq.append(root.left)\n",
        "\t\tif(root.right):\n",
        "\t\t\troot.right.hd = hd + 1\n",
        "\t\t\tq.append(root.right)\n",
        "\t\tq.pop(0)\n",
        "\tfor i in sorted(m):\n",
        "\t\tprint(m[i], end=\" \")\n",
        "if __name__ == '__main__':\n",
        "\troot = newNode(1)\n",
        "\troot.left = newNode(2)\n",
        "\troot.right = newNode(3)\n",
        "\troot.left.right = newNode(4)\n",
        "\troot.left.right.right = newNode(5)\n",
        "\troot.left.right.right.right = newNode(6)\n",
        "\tprint(\"The top view of the tree is: \")\n",
        "\ttopview(root)"
      ],
      "metadata": {
        "colab": {
          "base_uri": "https://localhost:8080/"
        },
        "id": "17zdz7iybG-f",
        "outputId": "d2eab0c8-9cd1-48d8-99bd-fa4200aa1d6f"
      },
      "execution_count": 2,
      "outputs": [
        {
          "output_type": "stream",
          "name": "stdout",
          "text": [
            "The top view of the tree is: \n",
            "2 1 3 6 "
          ]
        }
      ]
    },
    {
      "cell_type": "markdown",
      "source": [
        "BOTTOM VIEW OF BINARY TREE"
      ],
      "metadata": {
        "id": "JzMZU61nbnmH"
      }
    },
    {
      "cell_type": "code",
      "source": [
        "\n",
        "from collections import deque\n",
        "class Node:\n",
        "\tdef __init__(self, key):\n",
        "\t\tself.data = key\n",
        "\t\tself.hd = float('inf')\n",
        "\t\tself.left = None\n",
        "\t\tself.right = None\n",
        "def bottomView(root):\n",
        "\tif (root == None):\n",
        "\t\treturn\n",
        "\thd = 0\n",
        "\tmin_hd, max_hd = 0, 0\n",
        "\thd_dict = dict()\n",
        "\tq = deque()\n",
        "\troot.hd = hd\n",
        "\tq.append(root)\n",
        "\twhile q:\n",
        "\t\tcurr_node = q.popleft()\n",
        "\t\thd = curr_node.hd\n",
        "\t\tmin_hd = min(min_hd, hd)\n",
        "\t\tmax_hd = max(max_hd, hd)\n",
        "\t\thd_dict[hd] = curr_node.data\n",
        "\t\tif curr_node.left:\n",
        "\t\t\tcurr_node.left.hd = hd - 1\n",
        "\t\t\tq.append(curr_node.left)\n",
        "\t\tif curr_node.right:\n",
        "\t\t\tcurr_node.right.hd = hd + 1\n",
        "\t\t\tq.append(curr_node.right)\n",
        "\tfor i in range(min_hd, max_hd+1):\n",
        "\t\tprint(hd_dict[i], end = ' ')\n",
        "if __name__=='__main__':\n",
        "\troot = Node(20)\n",
        "\troot.left = Node(8)\n",
        "\troot.right = Node(22)\n",
        "\troot.left.left = Node(5)\n",
        "\troot.left.right = Node(3)\n",
        "\troot.right.left = Node(4)\n",
        "\troot.right.right = Node(25)\n",
        "\troot.left.right.left = Node(10)\n",
        "\troot.left.right.right = Node(14)\n",
        "\tprint(\"Bottom view of the given binary tree :\")\n",
        "\tbottomView(root)"
      ],
      "metadata": {
        "colab": {
          "base_uri": "https://localhost:8080/"
        },
        "id": "Neyom4lxUZVk",
        "outputId": "bda2591c-0faa-434a-b0d8-1f6a8d20e987"
      },
      "execution_count": 1,
      "outputs": [
        {
          "output_type": "stream",
          "name": "stdout",
          "text": [
            "Bottom view of the given binary tree :\n",
            "5 10 4 14 25 "
          ]
        }
      ]
    }
  ]
}
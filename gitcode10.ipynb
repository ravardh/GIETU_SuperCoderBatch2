{
  "nbformat": 4,
  "nbformat_minor": 0,
  "metadata": {
    "colab": {
      "provenance": []
    },
    "kernelspec": {
      "name": "python3",
      "display_name": "Python 3"
    },
    "language_info": {
      "name": "python"
    }
  },
  "cells": [
    {
      "cell_type": "code",
      "execution_count": 1,
      "metadata": {
        "colab": {
          "base_uri": "https://localhost:8080/"
        },
        "id": "Z3ZKEheYl0F6",
        "outputId": "afb6ee07-c81b-482e-bebd-85fb56dd4fc6"
      },
      "outputs": [
        {
          "output_type": "stream",
          "name": "stdout",
          "text": [
            "Max Profit: 22.5\n"
          ]
        }
      ],
      "source": [
        "def fractional_knapsack(W, N, PW, PP):\n",
        "    # Calculate profit density (profit per unit weight) for each item\n",
        "    profit_density = [(PP[i] / PW[i], PW[i], PP[i]) for i in range(N)]\n",
        "\n",
        "    # Sort items based on profit density in descending order\n",
        "    profit_density.sort(reverse=True)\n",
        "\n",
        "    max_profit = 0\n",
        "    current_weight = 0\n",
        "\n",
        "    for density, weight, profit in profit_density:\n",
        "        if current_weight + weight <= W:\n",
        "            max_profit += profit\n",
        "            current_weight += weight\n",
        "        else:\n",
        "            fraction = (W - current_weight) / weight\n",
        "            max_profit += fraction * profit\n",
        "            break\n",
        "\n",
        "    return max_profit\n",
        "\n",
        "# Input\n",
        "W = 15\n",
        "N = 4\n",
        "PW = [5, 10, 10, 5]\n",
        "PP = [10, 5, 5, 10]\n",
        "\n",
        "# Output\n",
        "print(\"Max Profit:\", fractional_knapsack(W, N, PW, PP))\n"
      ]
    },
    {
      "cell_type": "code",
      "source": [],
      "metadata": {
        "id": "TEjjipd8l6cE"
      },
      "execution_count": null,
      "outputs": []
    }
  ]
}
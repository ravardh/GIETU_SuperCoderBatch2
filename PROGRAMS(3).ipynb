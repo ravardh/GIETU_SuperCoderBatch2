{
 "cells": [
  {
   "cell_type": "code",
   "execution_count": 11,
   "id": "4cab8100",
   "metadata": {},
   "outputs": [
    {
     "name": "stdout",
     "output_type": "stream",
     "text": [
      "1 2 3 4 5 \n",
      "Adding node at the beginning: 0 1 2 3 4 5 \n",
      "Adding node at the end: 0 1 2 3 4 5 6 \n",
      "Adding node at the given location: 0 1 10 2 3 4 5 6 "
     ]
    }
   ],
   "source": [
    "#LINKED LIST\n",
    "\n",
    "class Node:\n",
    "    def __init__(self,data):\n",
    "        self.data=data\n",
    "        self.next=None\n",
    "\n",
    "start =  Node(1)\n",
    "start.next =  Node(2)\n",
    "start.next.next =  Node(3)\n",
    "start.next.next.next =  Node(4)\n",
    "start.next.next.next.next =  Node(5)\n",
    "temp=start\n",
    "while temp:\n",
    "    print(temp.data,end=\" \")\n",
    "    temp=temp.next\n",
    "    \n",
    "#INSERTION OF NODE AT BEGINNING \n",
    "\n",
    "print(\"\\nAdding node at the beginning:\",end=\" \")\n",
    "begin=Node(0)\n",
    "begin.next=start\n",
    "start=begin\n",
    "temp = start\n",
    "while temp:\n",
    "    print(temp.data,end=\" \")\n",
    "    temp=temp.next\n",
    "    \n",
    "#INSERTION OF NODE AT END\n",
    "\n",
    "endNode=Node(6)\n",
    "temp = start\n",
    "while temp.next:\n",
    "    temp=temp.next\n",
    "temp.next=endNode\n",
    "print(\"\\nAdding node at the end:\",end=\" \")\n",
    "temp = start\n",
    "while temp:\n",
    "    print(temp.data,end=\" \")\n",
    "    temp=temp.next\n",
    "    \n",
    "#INSERTION OF NODE AT SPECIFIC POSITION\n",
    "\n",
    "desiredNode=Node(10)\n",
    "position=3\n",
    "temp=start\n",
    "while temp.next:\n",
    "    position=position-1\n",
    "    if position == 1:\n",
    "        desiredNode.next = temp.next\n",
    "        temp.next=desiredNode\n",
    "        break\n",
    "    temp = temp.next\n",
    "    \n",
    "\n",
    "print(\"\\nAdding node at the given location:\",end=\" \")\n",
    "temp = start\n",
    "while temp:\n",
    "    print(temp.data,end=\" \")\n",
    "    temp=temp.next"
   ]
  },
  {
   "cell_type": "code",
   "execution_count": 12,
   "id": "cf6d5efa",
   "metadata": {},
   "outputs": [
    {
     "name": "stdout",
     "output_type": "stream",
     "text": [
      "0.0009765625\n"
     ]
    }
   ],
   "source": [
    "#POWER OF NUMBER USING RECURSIVE FUNCTION\n",
    "def numPow(data,n):\n",
    "    if(n==0):\n",
    "        return 1\n",
    "    elif n<0:\n",
    "        return 1 / numPow(data, -n)\n",
    "    else:\n",
    "        return data*numPow(data,n-1)\n",
    "print(numPow(2,-10))"
   ]
  },
  {
   "cell_type": "code",
   "execution_count": 18,
   "id": "79e14b35",
   "metadata": {},
   "outputs": [
    {
     "name": "stdout",
     "output_type": "stream",
     "text": [
      "Found pattern at index 3\n",
      "Found pattern at index 10\n",
      "Found pattern at index 16\n"
     ]
    }
   ],
   "source": [
    "#KMP Algorithm\n",
    "\n",
    "def KMPSearch(pat, data):\n",
    "\tM = len(pat)\n",
    "\tN = len(data)\n",
    "\t\n",
    "\tlps = [0]*M\n",
    "\tj = 0 \n",
    "\t\n",
    "\tLPS(pat, M, lps)\n",
    "\n",
    "\ti = 0 \n",
    "\twhile (N - i) >= (M - j):\n",
    "\t\tif pat[j] == data[i]:\n",
    "\t\t\ti += 1\n",
    "\t\t\tj += 1\n",
    "\n",
    "\t\tif j == M:\n",
    "\t\t\tprint(\"Found pattern at index \" + str(i-j))\n",
    "\t\t\tj = lps[j-1]\n",
    "\n",
    "\t\telif i < N and pat[j] != data[i]:\n",
    "\t\t\tif j != 0:\n",
    "\t\t\t\tj = lps[j-1]\n",
    "\t\t\telse:\n",
    "\t\t\t\ti += 1\n",
    "\n",
    "def LPS(pat, M, lps):\n",
    "\tlen = 0 \n",
    "\n",
    "\tlps[0] = 0 \n",
    "\ti = 1\n",
    "\n",
    "\t\n",
    "\twhile i < M:\n",
    "\t\tif pat[i] == pat[len]:\n",
    "\t\t\tlen += 1\n",
    "\t\t\tlps[i] = len\n",
    "\t\t\ti += 1\n",
    "\t\telse:\n",
    "\t\t\tif len != 0:\n",
    "\t\t\t\tlen = lps[len-1]\n",
    "\t\t\telse:\n",
    "\t\t\t\tlps[i] = 0\n",
    "\t\t\t\ti += 1\n",
    "\n",
    "data = \"ABAABABCABABABCAABABCABAC\"\n",
    "pat = \"ABABC\"\n",
    "KMPSearch(pat, data)"
   ]
  },
  {
   "cell_type": "code",
   "execution_count": null,
   "id": "1aefdc1b",
   "metadata": {},
   "outputs": [],
   "source": []
  }
 ],
 "metadata": {
  "kernelspec": {
   "display_name": "Python 3 (ipykernel)",
   "language": "python",
   "name": "python3"
  },
  "language_info": {
   "codemirror_mode": {
    "name": "ipython",
    "version": 3
   },
   "file_extension": ".py",
   "mimetype": "text/x-python",
   "name": "python",
   "nbconvert_exporter": "python",
   "pygments_lexer": "ipython3",
   "version": "3.10.6"
  }
 },
 "nbformat": 4,
 "nbformat_minor": 5
}

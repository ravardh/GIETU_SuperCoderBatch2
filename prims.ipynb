{
  "nbformat": 4,
  "nbformat_minor": 0,
  "metadata": {
    "colab": {
      "provenance": [],
      "authorship_tag": "ABX9TyNfj53tsoh/MR1F3KQKf/N3",
      "include_colab_link": true
    },
    "kernelspec": {
      "name": "python3",
      "display_name": "Python 3"
    },
    "language_info": {
      "name": "python"
    }
  },
  "cells": [
    {
      "cell_type": "markdown",
      "metadata": {
        "id": "view-in-github",
        "colab_type": "text"
      },
      "source": [
        "<a href=\"https://colab.research.google.com/github/ravardh/GIETU_SuperCoderBatch2/blob/Jatin_21CSE153/prims.ipynb\" target=\"_parent\"><img src=\"https://colab.research.google.com/assets/colab-badge.svg\" alt=\"Open In Colab\"/></a>"
      ]
    },
    {
      "cell_type": "code",
      "execution_count": 1,
      "metadata": {
        "colab": {
          "base_uri": "https://localhost:8080/"
        },
        "id": "l7NS95ts9-jq",
        "outputId": "942351d6-b7d2-4677-88f9-05a51ed4e166"
      },
      "outputs": [
        {
          "output_type": "stream",
          "name": "stdout",
          "text": [
            "Edge \tWeight\n",
            "0 - 1 \t 2\n",
            "1 - 2 \t 3\n",
            "0 - 3 \t 6\n",
            "1 - 4 \t 5\n"
          ]
        }
      ],
      "source": [
        "class Graph:\n",
        "    def __init__(self, vertices):\n",
        "        self.V = vertices\n",
        "        self.graph = [[0 for _ in range(vertices)] for _ in range(vertices)]\n",
        "\n",
        "    def min_key(self, key, mst_set):\n",
        "        min_val = float('inf')\n",
        "        min_index = None\n",
        "        for v in range(self.V):\n",
        "            if key[v] < min_val and not mst_set[v]:\n",
        "                min_val = key[v]\n",
        "                min_index = v\n",
        "        return min_index\n",
        "\n",
        "    def prim_mst(self):\n",
        "        parent = [-1] * self.V\n",
        "        key = [float('inf')] * self.V\n",
        "        mst_set = [False] * self.V\n",
        "\n",
        "        key[0] = 0\n",
        "        parent[0] = -1\n",
        "\n",
        "        for _ in range(self.V):\n",
        "            u = self.min_key(key, mst_set)\n",
        "            mst_set[u] = True\n",
        "            for v in range(self.V):\n",
        "                if self.graph[u][v] and not mst_set[v] and self.graph[u][v] < key[v]:\n",
        "                    parent[v] = u\n",
        "                    key[v] = self.graph[u][v]\n",
        "\n",
        "        return parent\n",
        "\n",
        "\n",
        "\n",
        "g = Graph(5)\n",
        "g.graph = [\n",
        "    [0, 2, 0, 6, 0],\n",
        "    [2, 0, 3, 8, 5],\n",
        "    [0, 3, 0, 0, 7],\n",
        "    [6, 8, 0, 0, 9],\n",
        "    [0, 5, 7, 9, 0]\n",
        "]\n",
        "mst = g.prim_mst()\n",
        "print(\"Edge \\tWeight\")\n",
        "for i in range(1, g.V):\n",
        "    print(mst[i], \"-\", i, \"\\t\", g.graph[i][mst[i]])"
      ]
    }
  ]
}
{
  "nbformat": 4,
  "nbformat_minor": 0,
  "metadata": {
    "colab": {
      "provenance": [],
      "authorship_tag": "ABX9TyPGQll+4wE+hBcs111+aTdM",
      "include_colab_link": true
    },
    "kernelspec": {
      "name": "python3",
      "display_name": "Python 3"
    },
    "language_info": {
      "name": "python"
    }
  },
  "cells": [
    {
      "cell_type": "markdown",
      "metadata": {
        "id": "view-in-github",
        "colab_type": "text"
      },
      "source": [
        "<a href=\"https://colab.research.google.com/github/ravardh/GIETU_SuperCoderBatch2/blob/shrejal_21CSEDS044/153git.ipynb\" target=\"_parent\"><img src=\"https://colab.research.google.com/assets/colab-badge.svg\" alt=\"Open In Colab\"/></a>"
      ]
    },
    {
      "cell_type": "code",
      "execution_count": 1,
      "metadata": {
        "colab": {
          "base_uri": "https://localhost:8080/"
        },
        "id": "X3fBwINsqp0r",
        "outputId": "0402d4fa-d234-45ea-c505-a7d9be52f83f"
      },
      "outputs": [
        {
          "output_type": "stream",
          "name": "stdout",
          "text": [
            "[[(1, 2, 1)], [(2, 1, 1)]]\n",
            "Does the graph contain a cycle? False\n"
          ]
        }
      ],
      "source": [
        "def DFS_cycle(start, graph, visited, parent):\n",
        "    visited[start - 1] = True\n",
        "    for i in graph[start - 1]:\n",
        "        if not visited[i[1] - 1]:\n",
        "            parent[i[1] - 1] = start\n",
        "            if DFS_cycle(i[1], graph, visited, parent):\n",
        "                return True\n",
        "        elif parent[start - 1] != i[1]:\n",
        "            return True\n",
        "    return False\n",
        "def has_cycle(graph):\n",
        "    v = len(graph)\n",
        "    visited = [False] * v\n",
        "    parent = [-1] * v\n",
        "    for i in range(v):\n",
        "        if not visited[i]:\n",
        "            if DFS_cycle(i + 1, graph, visited, parent):\n",
        "                return True\n",
        "    return False\n",
        "def create_graph(graph,source,destination,weight=1):\n",
        "    graph[source-1].append((source,destination,weight))\n",
        "v = 2  #11\n",
        "graph = [[] for _ in range(v)]\n",
        "create_graph(graph, 1, 2)\n",
        "create_graph(graph, 2, 1)\n",
        "# create_graph(graph, 1, 2)\n",
        "# create_graph(graph, 1, 3)\n",
        "# create_graph(graph, 1, 10)\n",
        "# create_graph(graph, 2, 1)\n",
        "# create_graph(graph, 2, 4)\n",
        "# create_graph(graph, 3, 1)\n",
        "# create_graph(graph, 3, 7)\n",
        "# create_graph(graph, 4, 2)\n",
        "# create_graph(graph, 4, 5)\n",
        "# create_graph(graph, 4, 7)\n",
        "# create_graph(graph, 4, 8)\n",
        "# create_graph(graph, 5, 4)\n",
        "# create_graph(graph, 5, 6)\n",
        "# create_graph(graph, 6, 5)\n",
        "# create_graph(graph, 6, 10)\n",
        "# create_graph(graph, 6, 9)\n",
        "# create_graph(graph, 7, 3)\n",
        "# create_graph(graph, 7, 4)\n",
        "# create_graph(graph, 7, 11)\n",
        "# create_graph(graph, 8, 4)\n",
        "# create_graph(graph, 8, 9)\n",
        "# create_graph(graph, 9, 6)\n",
        "# create_graph(graph, 9, 8)\n",
        "# create_graph(graph, 10, 1)\n",
        "# create_graph(graph, 10, 6)\n",
        "# create_graph(graph, 11, 7)\n",
        "print(graph)\n",
        "print(\"Does the graph contain a cycle?\", has_cycle(graph))"
      ]
    },
    {
      "cell_type": "code",
      "source": [
        "class DisjointSet:\n",
        "    def _init_(self, n):\n",
        "        self.parent = [i for i in range(n)]\n",
        "        self.rank = [0] * n\n",
        "\n",
        "    def find(self, u):\n",
        "        if self.parent[u] != u:\n",
        "            self.parent[u] = self.find(self.parent[u])\n",
        "        return self.parent[u]\n",
        "\n",
        "    def union(self, u, v):\n",
        "        pu, pv = self.find(u), self.find(v)\n",
        "        if pu != pv:\n",
        "            if self.rank[pu] < self.rank[pv]:\n",
        "                self.parent[pu] = pv\n",
        "            elif self.rank[pu] > self.rank[pv]:\n",
        "                self.parent[pv] = pu\n",
        "            else:\n",
        "                self.parent[pv] = pu\n",
        "                self.rank[pu] += 1\n",
        "\n",
        "def kruskal(graph):\n",
        "    n = len(graph)\n",
        "    mst = []\n",
        "    edges = []\n",
        "\n",
        "    # Convert graph to list of edges\n",
        "    for u in range(n):\n",
        "        for v, weight in graph[u]:\n",
        "            edges.append((u, v, weight))\n",
        "\n",
        "    # Sort edges by weight\n",
        "    edges.sort(key=lambda x: x[2])\n",
        "\n",
        "    # Create disjoint set\n",
        "    ds = DisjointSet(n)\n",
        "\n",
        "    # Add edges to MST\n",
        "    for edge in edges:\n",
        "        u, v, weight = edge\n",
        "        if ds.find(u) != ds.find(v):\n",
        "            mst.append(edge)\n",
        "            ds.union(u, v)\n",
        "\n",
        "    return mst\n",
        "\n",
        "# Example usage:\n",
        "graph = {\n",
        "    0: [(1, 2), (2, 3)],\n",
        "    1: [(0, 2), (2, 4), (3, 1)],\n",
        "    2: [(0, 3), (1, 4), (3, 5)],\n",
        "    3: [(1, 1), (2, 5)]\n",
        "}\n",
        "\n",
        "print(kruskal(graph))"
      ],
      "metadata": {
        "id": "zbqo0Gt_BJAf"
      },
      "execution_count": null,
      "outputs": []
    }
  ]
}
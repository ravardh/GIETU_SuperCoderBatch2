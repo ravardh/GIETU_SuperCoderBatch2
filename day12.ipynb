{
  "nbformat": 4,
  "nbformat_minor": 0,
  "metadata": {
    "colab": {
      "provenance": []
    },
    "kernelspec": {
      "name": "python3",
      "display_name": "Python 3"
    },
    "language_info": {
      "name": "python"
    }
  },
  "cells": [
    {
      "cell_type": "code",
      "execution_count": null,
      "metadata": {
        "colab": {
          "base_uri": "https://localhost:8080/"
        },
        "id": "XNDSOJ-nTzuy",
        "outputId": "6fb9e54b-a30d-411c-c6c3-02c0691a0d7e"
      },
      "outputs": [
        {
          "output_type": "stream",
          "name": "stdout",
          "text": [
            "[0, 1, 1, 2, 3, 5, 8, 13]\n"
          ]
        }
      ],
      "source": [
        "#TABULATION\n",
        "F=[-1 for _ in range(8)]\n",
        "F[0]=0\n",
        "F[1]=1\n",
        "for i in range(2,8):\n",
        "  F[i]=F[i-1]+F[i-2]\n",
        "print(F)"
      ]
    },
    {
      "cell_type": "code",
      "source": [],
      "metadata": {
        "id": "wMeUTN04Kws7"
      },
      "execution_count": null,
      "outputs": []
    },
    {
      "cell_type": "code",
      "source": [
        "def find(limit,l,now,carry,i,price):\n",
        "  if(limit<now or i==len(l)):\n",
        "    return\n",
        "  if(limit==now):\n",
        "    return price\n",
        "  # return max(find(limit,l,now+l[i][2],carry.append(i),i+1,price+l[i][1]),find(limit,l,now,carry,i+1,price))\n",
        "\n",
        "limit=15\n",
        "now=0\n",
        "price=0\n",
        "carry=[]\n",
        "i=0\n",
        "l=[[10,2],[5,3],[15,5],[7,7],[6,1],[18,4],[3,1]]\n",
        "print(find(limit,l,now,carry,i,price))"
      ],
      "metadata": {
        "colab": {
          "base_uri": "https://localhost:8080/"
        },
        "id": "P7_tiZsQXf0l",
        "outputId": "d2c76cf4-43e4-4ddd-8d3b-f474fd416b46"
      },
      "execution_count": null,
      "outputs": [
        {
          "output_type": "stream",
          "name": "stdout",
          "text": [
            "None\n"
          ]
        }
      ]
    },
    {
      "cell_type": "code",
      "source": [
        "# KNAPSACK\n",
        "l=[[10,2],[5,3],[15,5],[7,7],[6,1],[18,4],[3,1]]\n",
        "DICT={}\n",
        "WeightBag=15\n",
        "instantW=0\n",
        "price=0\n",
        "for i in range(len(l)):\n",
        "  DICT[i] = round(l[i][0]/l[i][1],2)*100\n",
        "print(DICT)\n",
        "DICT=dict(sorted(DICT.items(), key=lambda item: item[1]))\n",
        "print(DICT)\n",
        "for i in DICT.keys():\n",
        "  instantW = instantW+l[i][1]\n",
        "  price= price+l[i][0]\n",
        "  if(instantW==WeightBag):\n",
        "    break\n",
        "print(price)"
      ],
      "metadata": {
        "colab": {
          "base_uri": "https://localhost:8080/"
        },
        "id": "CpdQwRUJax_R",
        "outputId": "70b9d2a4-d6ec-4e28-a23b-ba38df578ac7"
      },
      "execution_count": null,
      "outputs": [
        {
          "output_type": "stream",
          "name": "stdout",
          "text": [
            "{0: 500.0, 1: 167.0, 2: 300.0, 3: 100.0, 4: 600.0, 5: 450.0, 6: 300.0}\n",
            "{3: 100.0, 1: 167.0, 2: 300.0, 6: 300.0, 5: 450.0, 0: 500.0, 4: 600.0}\n",
            "27\n"
          ]
        }
      ]
    },
    {
      "cell_type": "code",
      "source": [
        "p=[10,5,15,7,6,18,3]\n",
        "w=[2,3,5,7,1,4,1]\n",
        "rows = len(p)\n",
        "C = int(input(\"Enter the capacity of Bag: \"))\n",
        "NAP = [[0 for _ in range(C+1)] for _ in range(rows+1)]\n",
        "for i in range(1,C+1):\n",
        "  for j in range(1,rows+1):\n",
        "        if w[j-1] <= i:\n",
        "            NAP[j][i] = max(NAP[j-1][i], NAP[j-1][i-w[j-1]] + p[j-1])\n",
        "        else:\n",
        "            NAP[j][i] = NAP[j-1][i]\n",
        "print(NAP)\n",
        "print(NAP[rows][C])"
      ],
      "metadata": {
        "colab": {
          "base_uri": "https://localhost:8080/"
        },
        "id": "tofDOOaKd2ES",
        "outputId": "0e9a7d87-c93a-4bfb-e691-bfa63a8c0d2c"
      },
      "execution_count": null,
      "outputs": [
        {
          "output_type": "stream",
          "name": "stdout",
          "text": [
            "Enter the capacity of Bag: 23\n",
            "[[0, 0, 0, 0, 0, 0, 0, 0, 0, 0, 0, 0, 0, 0, 0, 0, 0, 0, 0, 0, 0, 0, 0, 0], [0, 0, 10, 10, 10, 10, 10, 10, 10, 10, 10, 10, 10, 10, 10, 10, 10, 10, 10, 10, 10, 10, 10, 10], [0, 0, 10, 10, 10, 15, 15, 15, 15, 15, 15, 15, 15, 15, 15, 15, 15, 15, 15, 15, 15, 15, 15, 15], [0, 0, 10, 10, 10, 15, 15, 25, 25, 25, 30, 30, 30, 30, 30, 30, 30, 30, 30, 30, 30, 30, 30, 30], [0, 0, 10, 10, 10, 15, 15, 25, 25, 25, 30, 30, 30, 30, 32, 32, 32, 37, 37, 37, 37, 37, 37, 37], [0, 6, 10, 16, 16, 16, 21, 25, 31, 31, 31, 36, 36, 36, 36, 38, 38, 38, 43, 43, 43, 43, 43, 43], [0, 6, 10, 16, 18, 24, 28, 34, 34, 34, 39, 43, 49, 49, 49, 54, 54, 54, 54, 56, 56, 56, 61, 61], [0, 6, 10, 16, 19, 24, 28, 34, 37, 37, 39, 43, 49, 52, 52, 54, 57, 57, 57, 57, 59, 59, 61, 64]]\n",
            "64\n"
          ]
        }
      ]
    },
    {
      "cell_type": "markdown",
      "source": [],
      "metadata": {
        "id": "P0f4zqn9K06z"
      }
    },
    {
      "cell_type": "code",
      "source": [],
      "metadata": {
        "id": "uoNYeTs7ubHQ"
      },
      "execution_count": null,
      "outputs": []
    }
  ]
}
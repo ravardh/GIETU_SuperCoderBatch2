{
 "cells": [
  {
   "cell_type": "code",
   "execution_count": null,
   "id": "6f9837fb",
   "metadata": {},
   "outputs": [
    {
     "name": "stdout",
     "output_type": "stream",
     "text": [
      "[[(1, 2, 4), (1, 8, 8)], [(2, 3, 8), (2, 8, 11), (2, 1, 4)], [(3, 2, 8), (3, 9, 2), (3, 4, 7), (3, 6, 4)], [(4, 6, 14), (4, 5, 9), (4, 3, 7)], [(5, 4, 9), (5, 6, 10)], [(6, 3, 4), (6, 5, 10), (6, 4, 14), (6, 7, 2)], [(7, 9, 6), (7, 6, 2), (7, 8, 1)], [(8, 1, 8), (8, 2, 11), (8, 7, 1), (8, 9, 7)], [(9, 3, 2), (9, 7, 6), (9, 8, 7)]]\n",
      "[inf, inf, inf, inf, inf, inf, inf, inf, inf]\n"
     ]
    }
   ],
   "source": [
    "def dijkstra(start,v):\n",
    "    f = [float('inf') for _ in range(v)]\n",
    "    print(f)\n",
    "    f[start-1]=0\n",
    "    dist = dict()\n",
    "    while len(f)>=0:\n",
    "        max=float('inf')\n",
    "        pos=-1\n",
    "        for x in range(0,v):\n",
    "            if(x<max):\n",
    "                min=x\n",
    "                pos=pos+1\n",
    "\n",
    "    print(min)\n",
    "    print(pos)\n",
    "    print(f)\n",
    "        \n",
    "        \n",
    "\n",
    "\n",
    "\n",
    "    \n",
    "def CreateGraph(graph,start,destination,weight=0):\n",
    "    graph[start-1].append(tuple((start,destination,weight)))\n",
    "\n",
    "\n",
    "v=9\n",
    "graph=[[] for _ in range(v)]\n",
    "for i in range(v):\n",
    "    graph[i]=[]\n",
    "\n",
    "CreateGraph( graph,1,2,4)\n",
    "CreateGraph( graph,1,8,8)\n",
    "CreateGraph( graph,2,3,8)\n",
    "CreateGraph( graph,2,8,11)\n",
    "CreateGraph( graph,2,1,4)\n",
    "CreateGraph( graph,3,2,8)\n",
    "CreateGraph( graph,3,9,2)\n",
    "CreateGraph( graph,3,4,7)\n",
    "CreateGraph( graph,3,6,4)\n",
    "CreateGraph( graph,4,6,14)\n",
    "CreateGraph( graph,4,5,9)\n",
    "CreateGraph( graph,4,3,7)\n",
    "CreateGraph( graph,5,4,9)\n",
    "CreateGraph( graph,5,6,10)\n",
    "CreateGraph( graph,6,3,4)\n",
    "CreateGraph( graph,6,5,10)\n",
    "CreateGraph( graph,6,4,14)\n",
    "CreateGraph( graph,6,7,2)\n",
    "CreateGraph( graph,7,9,6)\n",
    "CreateGraph( graph,7,6,2)\n",
    "CreateGraph( graph,7,8,1)\n",
    "CreateGraph( graph,8,1,8)\n",
    "CreateGraph( graph,8,2,11)\n",
    "CreateGraph( graph,8,7,1)\n",
    "CreateGraph( graph,8,9,7)\n",
    "CreateGraph( graph,9,3,2)\n",
    "CreateGraph( graph,9,7,6)\n",
    "CreateGraph( graph,9,8,7)\n",
    "print(graph)\n",
    "\n",
    "dijkstra(1,v)"
   ]
  },
  {
   "cell_type": "code",
   "execution_count": null,
   "id": "058daf2d",
   "metadata": {},
   "outputs": [],
   "source": []
  }
 ],
 "metadata": {
  "kernelspec": {
   "display_name": "Python 3 (ipykernel)",
   "language": "python",
   "name": "python3"
  },
  "language_info": {
   "codemirror_mode": {
    "name": "ipython",
    "version": 3
   },
   "file_extension": ".py",
   "mimetype": "text/x-python",
   "name": "python",
   "nbconvert_exporter": "python",
   "pygments_lexer": "ipython3",
   "version": "3.11.5"
  }
 },
 "nbformat": 4,
 "nbformat_minor": 5
}

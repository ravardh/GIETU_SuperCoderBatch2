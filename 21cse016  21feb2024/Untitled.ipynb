{
 "cells": [
  {
   "cell_type": "code",
   "execution_count": null,
   "id": "736b6925",
   "metadata": {},
   "outputs": [],
   "source": [
    "//calculator using match\n",
    "operator=input(\"Enter any operator(+,-,*,/,**,//,%):\")\n",
    "a1=int(input(\"Enter a number:\"))\n",
    "a2=int(input(\"Enter a number:\"))\n",
    "\n",
    "match(operator):\n",
    "    case \"+\":\n",
    "        print(\"addition:\",a1+a2)\n",
    "    case \"-\":\n",
    "        print(\"substraction:\",a1-a2)\n",
    "    case \"*\":\n",
    "        print(\"multification:\",a1*a2)\n",
    "    case \"/\":\n",
    "        print(\"division:\",a1/a2)\n",
    "    case \"**\":\n",
    "        print(\"square:\",a1**a2)\n",
    "    case \"*\":\n",
    "        print(\"floor division:\",a1//a2)\n",
    "    case \"%\":\n",
    "        print(\"module:\",a1%a2)\n",
    "    "
   ]
  },
  {
   "cell_type": "code",
   "execution_count": null,
   "id": "9a480965",
   "metadata": {},
   "outputs": [],
   "source": [
    "// selection sort\n",
    "arr = [38, 27, 43, 3, 9, 82, 10]\n",
    "for i in range(len(arr)):\n",
    "    min_index = i\n",
    "    for j in range(i + 1, len(arr)):\n",
    "        if arr[j] < arr[min_index]:\n",
    "            min_index = j\n",
    "    arr[i], arr[min_index] = arr[min_index], arr[i]\n",
    "print(\"Sorted array:\")\n",
    "for num in arr:\n",
    "    print(num, end=\" \")\n",
    "\n"
   ]
  },
  {
   "cell_type": "code",
   "execution_count": null,
   "id": "6739df2a",
   "metadata": {},
   "outputs": [],
   "source": [
    "//bubble sort\n",
    "arr = [64, 34, 25, 12, 22, 11, 90]\n",
    "for i in range(len(arr)):\n",
    "    for j in range(0, len(arr)-i-1):\n",
    "            arr[j], arr[j+1] = arr[j+1], arr[j]\n",
    "\n",
    "print(\"Sorted array:\")\n",
    "for i in range(len(arr)):\n",
    "    print(\"%d\" % arr[i], end=\" \")\n",
    "\n"
   ]
  },
  {
   "cell_type": "code",
   "execution_count": null,
   "id": "0bc112c1",
   "metadata": {},
   "outputs": [],
   "source": [
    "// insertion sort\n",
    "arr = [12, 11, 13, 5, 6]\n",
    "for i in range(1, len(arr)):\n",
    "    key = arr[i]  \n",
    "    j = i - 1\n",
    "    while j >= 0 and key < arr[j]:\n",
    "        arr[j + 1] = arr[j]\n",
    "        j -= 1\n",
    "    arr[j + 1] = key\n",
    "\n",
    "print(\"Sorted array:\")\n",
    "for i in range(len(arr)):\n",
    "    print(\"%d\" % arr[i], end=\" \")\n",
    "\n"
   ]
  },
  {
   "cell_type": "code",
   "execution_count": null,
   "id": "aaf352be",
   "metadata": {},
   "outputs": [],
   "source": []
  }
 ],
 "metadata": {
  "kernelspec": {
   "display_name": "Python 3 (ipykernel)",
   "language": "python",
   "name": "python3"
  },
  "language_info": {
   "codemirror_mode": {
    "name": "ipython",
    "version": 3
   },
   "file_extension": ".py",
   "mimetype": "text/x-python",
   "name": "python",
   "nbconvert_exporter": "python",
   "pygments_lexer": "ipython3",
   "version": "3.11.3"
  }
 },
 "nbformat": 4,
 "nbformat_minor": 5
}

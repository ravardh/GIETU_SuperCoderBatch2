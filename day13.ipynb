{
  "nbformat": 4,
  "nbformat_minor": 0,
  "metadata": {
    "colab": {
      "provenance": []
    },
    "kernelspec": {
      "name": "python3",
      "display_name": "Python 3"
    },
    "language_info": {
      "name": "python"
    }
  },
  "cells": [
    {
      "cell_type": "code",
      "execution_count": null,
      "metadata": {
        "colab": {
          "base_uri": "https://localhost:8080/"
        },
        "id": "98TkTVe3cOqa",
        "outputId": "0a1deb6b-3508-47c3-c684-7c107bde4413"
      },
      "outputs": [
        {
          "output_type": "stream",
          "name": "stdout",
          "text": [
            "Shortest distances from node 1\n",
            "To node 1: 0\n",
            "To node 2: 4\n",
            "To node 3: 12\n",
            "To node 4: 19\n",
            "To node 5: 21\n",
            "To node 6: 11\n",
            "To node 7: 9\n",
            "To node 8: 8\n",
            "To node 9: 14\n"
          ]
        }
      ],
      "source": [
        "def dijkstra(graph, start):\n",
        "    shortest_distance = {node: float('inf') for node in graph}\n",
        "    shortest_distance[start] = 0\n",
        "    visited = set()\n",
        "\n",
        "    while len(visited) < len(graph):\n",
        "        min_node = None\n",
        "        min_distance = float('inf')\n",
        "        for node in graph:\n",
        "            if node not in visited and shortest_distance[node] < min_distance:\n",
        "                min_node = node\n",
        "                min_distance = shortest_distance[node]\n",
        "        visited.add(min_node)\n",
        "        for neighbor, weight in graph[min_node].items():\n",
        "            new_distance = shortest_distance[min_node] + weight\n",
        "            if new_distance < shortest_distance[neighbor]:\n",
        "                shortest_distance[neighbor] = new_distance\n",
        "\n",
        "    return shortest_distance\n",
        "graph = {\n",
        "    '1': {'2': 4, '8': 8},\n",
        "    '2': {'1': 4, '3': 8, '8': 11},\n",
        "    '3': {'2': 8, '9': 2, '4': 7, '6': 4},\n",
        "    '4': {'3': 7, '5': 9, '6': 14},\n",
        "    '5': {'4': 9, '6': 10},\n",
        "    '6': {'3': 4, '4': 14, '5': 10, '7': 2},\n",
        "    '7': {'6': 2, '9': 6, '8': 1},\n",
        "    '8': {'1': 8, '2': 11, '7': 1, '9': 7},\n",
        "    '9': {'3': 2, '7': 6, '8': 7}\n",
        "}\n",
        "start_node = '1'\n",
        "shortest_distances = dijkstra(graph, start_node)\n",
        "\n",
        "print(\"Shortest distances from node\", start_node)\n",
        "for node, distance in shortest_distances.items():\n",
        "    print(\"To node {}: {}\".format(node, distance))"
      ]
    },
    {
      "cell_type": "code",
      "source": [
        "def dijkstra(graph, start):\n",
        "    distances = {node: float('inf') for node in graph}\n",
        "    distances[start] = 0\n",
        "    visited = set()\n",
        "\n",
        "    while len(visited) < len(graph):\n",
        "        min_node = None\n",
        "        min_distance = float('inf')\n",
        "        for node in graph:\n",
        "            if node not in visited and distances[node] < min_distance:\n",
        "                min_node = node\n",
        "                min_distance = distances[node]\n",
        "        visited.add(min_node)\n",
        "        for neighbor, weight in graph[min_node]:\n",
        "            new_distance = distances[min_node] + weight\n",
        "            if new_distance < distances[neighbor]:\n",
        "                distances[neighbor] = new_distance\n",
        "\n",
        "    return distances\n",
        "graph = {\n",
        "    '1': [('2', 4), ('8', 8)],\n",
        "    '2': [('1', 4), ('3', 8), ('8', 11)],\n",
        "    '3': [('2', 8), ('9', 2), ('4', 7), ('6', 4)],\n",
        "    '4': [('3', 7), ('5', 9), ('6', 14)],\n",
        "    '5': [('4', 9), ('6', 10)],\n",
        "    '6': [('3', 4), ('4', 14), ('5', 10), ('7', 2)],\n",
        "    '7': [('6', 2), ('9', 6), ('8', 1)],\n",
        "    '8': [('1', 8), ('2', 11), ('7', 1), ('9', 7)],\n",
        "    '9': [('3', 2), ('7', 6), ('8', 7)]\n",
        "}\n",
        "\n",
        "start_node = '1'\n",
        "shortest_distances = dijkstra(graph, start_node)\n",
        "\n",
        "print(\"Shortest distances from node\", start_node)\n",
        "for node, distance in shortest_distances.items():\n",
        "    print(f\"To node {node}: {distance}\")"
      ],
      "metadata": {
        "colab": {
          "base_uri": "https://localhost:8080/"
        },
        "id": "w21utjvmqW4w",
        "outputId": "647a3e20-8bb5-4232-a800-e6e8ed5ce7db"
      },
      "execution_count": null,
      "outputs": [
        {
          "output_type": "stream",
          "name": "stdout",
          "text": [
            "Shortest distances from node 1\n",
            "To node 1: 0\n",
            "To node 2: 4\n",
            "To node 3: 12\n",
            "To node 4: 19\n",
            "To node 5: 21\n",
            "To node 6: 11\n",
            "To node 7: 9\n",
            "To node 8: 8\n",
            "To node 9: 14\n"
          ]
        }
      ]
    }
  ]
}
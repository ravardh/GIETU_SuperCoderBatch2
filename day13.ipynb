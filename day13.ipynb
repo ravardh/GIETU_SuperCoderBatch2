{
 "cells": [
  {
   "cell_type": "code",
   "execution_count": 1,
   "id": "362bea59",
   "metadata": {},
   "outputs": [
    {
     "ename": "AttributeError",
     "evalue": "'GraphLevelOrder' object has no attribute 'l'",
     "output_type": "error",
     "traceback": [
      "\u001b[1;31m---------------------------------------------------------------------------\u001b[0m",
      "\u001b[1;31mAttributeError\u001b[0m                            Traceback (most recent call last)",
      "Cell \u001b[1;32mIn[1], line 50\u001b[0m\n\u001b[0;32m     48\u001b[0m       \u001b[38;5;28;01mreturn\u001b[39;00m dist\n\u001b[0;32m     49\u001b[0m g\u001b[38;5;241m=\u001b[39mGraphLevelOrder()\n\u001b[1;32m---> 50\u001b[0m g\u001b[38;5;241m.\u001b[39minsertv()\n\u001b[0;32m     51\u001b[0m g\u001b[38;5;241m.\u001b[39mdisplay()\n\u001b[0;32m     52\u001b[0m start\u001b[38;5;241m=\u001b[39m\u001b[38;5;241m1\u001b[39m\n",
      "Cell \u001b[1;32mIn[1], line 11\u001b[0m, in \u001b[0;36mGraphLevelOrder.insertv\u001b[1;34m(self)\u001b[0m\n\u001b[0;32m      9\u001b[0m \u001b[38;5;28;01mdef\u001b[39;00m \u001b[38;5;21minsertv\u001b[39m(\u001b[38;5;28mself\u001b[39m):\n\u001b[0;32m     10\u001b[0m     \u001b[38;5;28;01mfor\u001b[39;00m i \u001b[38;5;129;01min\u001b[39;00m \u001b[38;5;28mrange\u001b[39m(\u001b[38;5;241m7\u001b[39m):\n\u001b[1;32m---> 11\u001b[0m         \u001b[38;5;28mself\u001b[39m\u001b[38;5;241m.\u001b[39ml\u001b[38;5;241m.\u001b[39mappend([])\n\u001b[0;32m     12\u001b[0m     \u001b[38;5;28mself\u001b[39m\u001b[38;5;241m.\u001b[39ml[\u001b[38;5;241m0\u001b[39m]\u001b[38;5;241m.\u001b[39mappend(Edge(\u001b[38;5;241m1\u001b[39m,\u001b[38;5;241m2\u001b[39m,\u001b[38;5;241m6\u001b[39m))\n\u001b[0;32m     13\u001b[0m     \u001b[38;5;28mself\u001b[39m\u001b[38;5;241m.\u001b[39ml[\u001b[38;5;241m0\u001b[39m]\u001b[38;5;241m.\u001b[39mappend(Edge(\u001b[38;5;241m1\u001b[39m,\u001b[38;5;241m3\u001b[39m,\u001b[38;5;241m5\u001b[39m))\n",
      "\u001b[1;31mAttributeError\u001b[0m: 'GraphLevelOrder' object has no attribute 'l'"
     ]
    }
   ],
   "source": [
    "class Edge:\n",
    "    def __init__(self,s,d,w):\n",
    "        self.source=s\n",
    "        self.destination=d\n",
    "        self.weight=w\n",
    "class GraphLevelOrder:\n",
    "    def _init_(self):\n",
    "            self.l = []\n",
    "    def insertv(self):\n",
    "        for i in range(7):\n",
    "            self.l.append([])\n",
    "        self.l[0].append(Edge(1,2,6))\n",
    "        self.l[0].append(Edge(1,3,5))\n",
    "        self.l[0].append(Edge(1,4,5))\n",
    "\n",
    "\n",
    "        self.l[1].append(Edge(2,5,-1))\n",
    "\n",
    "        self.l[2].append(Edge(3,2,-2))\n",
    "        self.l[2].append(Edge(3,5,1))\n",
    "\n",
    "       \n",
    "        self.l[3].append(Edge(4,3,-2))\n",
    "        self.l[3].append(Edge(4,6,-1))\n",
    "\n",
    "        self.l[4].append(Edge(5,7,3))\n",
    "\n",
    "        self.l[5].append(Edge(6,7,3))\n",
    "\n",
    "\n",
    "        \n",
    "    def display(self):\n",
    "        for i in self.l:\n",
    "            for j in i:\n",
    "                print(\"( \", j.source, \" , \", j.destination, \" )\", end=\"\\t\")\n",
    "            print()\n",
    "    def belMan(self,start):\n",
    "      dist = dict()\n",
    "      for x in range(1,len(self.l)+1):\n",
    "        dist[x]=float('inf')\n",
    "      dist[start]=0\n",
    "      # print(len(self.l))\n",
    "      for i in range(9):\n",
    "        for i in range(len(self.l)-1):\n",
    "          found_key = i+1\n",
    "          for j in range(len(self.l[found_key-1])):\n",
    "            dist[self.l[found_key-1][j].destination] = min(dist[self.l[found_key-1][j].destination], dist[found_key] + self.l[found_key-1][j].weight)\n",
    "      return dist\n",
    "g=GraphLevelOrder()\n",
    "g.insertv()\n",
    "g.display()\n",
    "start=1\n",
    "print(g.belMan(start))\n",
    "#1-0 2-1 3 5 0 4 3"
   ]
  },
  {
   "cell_type": "code",
   "execution_count": null,
   "id": "0fbb83c5",
   "metadata": {},
   "outputs": [],
   "source": []
  }
 ],
 "metadata": {
  "kernelspec": {
   "display_name": "Python 3 (ipykernel)",
   "language": "python",
   "name": "python3"
  },
  "language_info": {
   "codemirror_mode": {
    "name": "ipython",
    "version": 3
   },
   "file_extension": ".py",
   "mimetype": "text/x-python",
   "name": "python",
   "nbconvert_exporter": "python",
   "pygments_lexer": "ipython3",
   "version": "3.11.5"
  }
 },
 "nbformat": 4,
 "nbformat_minor": 5
}

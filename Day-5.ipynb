{
 "cells": [
  {
   "cell_type": "code",
   "execution_count": 10,
   "id": "ac20ed93-d393-4e78-b6f8-6375fd319830",
   "metadata": {},
   "outputs": [
    {
     "name": "stdout",
     "output_type": "stream",
     "text": [
      "Found pattern at index 3\n",
      "Found pattern at index 10\n",
      "Found pattern at index 16\n"
     ]
    }
   ],
   "source": [
    "#KMP Search\n",
    "def KMPSearch(pat, data):\n",
    "    M = len(pat)\n",
    "    N = len(data)\n",
    "    lps = [0] * M\n",
    "    j = 0\n",
    "    LPS(pat, M, lps)\n",
    "    i = 0\n",
    "    while i < N:\n",
    "        if pat[j] == data[i]:\n",
    "            i += 1\n",
    "            j += 1\n",
    "        if j == M:\n",
    "            print(\"Found pattern at index \" + str(i - j))\n",
    "            j = lps[j - 1]\n",
    "\n",
    "        elif i < N and pat[j] != data[i]:\n",
    "            if j != 0:\n",
    "                j = lps[j - 1]\n",
    "            else:\n",
    "                i += 1\n",
    "def LPS(pat, M, lps):\n",
    "    length = 0\n",
    "    lps[0] = 0\n",
    "    i = 1\n",
    "    while i < M:\n",
    "        if pat[i] == pat[length]:\n",
    "            length += 1\n",
    "            lps[i] = length\n",
    "            i += 1\n",
    "        else:\n",
    "            if length != 0:\n",
    "                length = lps[length - 1]\n",
    "            else:\n",
    "                lps[i] = 0\n",
    "                i += 1\n",
    "data = \"ABAABABCABABABCAABABCABAC\"\n",
    "pat = \"ABABC\"\n",
    "KMPSearch(pat, data)"
   ]
  },
  {
   "cell_type": "code",
   "execution_count": 11,
   "id": "dce8e79a-edbd-489a-a669-56f211072d61",
   "metadata": {},
   "outputs": [
    {
     "name": "stdout",
     "output_type": "stream",
     "text": [
      "1\n",
      "1\n",
      "2\n",
      "3\n",
      "4\n",
      "5\n",
      "Node added at the beginning\n",
      "0\n",
      "0\n",
      "1\n",
      "2\n",
      "3\n",
      "4\n",
      "5\n",
      "Node added at the end\n",
      "0\n",
      "0\n",
      "1\n",
      "2\n",
      "3\n",
      "4\n",
      "5\n",
      "6\n"
     ]
    }
   ],
   "source": [
    "#Linked list\n",
    "class node:\n",
    "    def __init__(self, data=None):\n",
    "        self.data = data\n",
    "        self.next = None\n",
    "\n",
    "newNode = node(1)\n",
    "start = newNode\n",
    "\n",
    "start.next = node(2)\n",
    "start.next.next = node(3)\n",
    "start.next.next.next = node(4)\n",
    "start.next.next.next.next = node(5)\n",
    "\n",
    "temp = start\n",
    "print(temp.data)\n",
    "while temp:\n",
    "    print(temp.data)\n",
    "    temp = temp.next\n",
    "\n",
    "n1 = node(0)\n",
    "n1.next = start\n",
    "start = n1\n",
    "print(\"Node added at the beginning\")\n",
    "\n",
    "temp = start\n",
    "print(temp.data)\n",
    "while temp:\n",
    "    print(temp.data)\n",
    "    temp = temp.next\n",
    "\n",
    "n2 = node(6)\n",
    "temp = start\n",
    "while temp.next:\n",
    "    temp = temp.next\n",
    "temp.next = n2\n",
    "print(\"Node added at the end\")\n",
    "\n",
    "temp = start\n",
    "print(temp.data)\n",
    "while temp:\n",
    "    print(temp.data)\n",
    "    temp = temp.next"
   ]
  },
  {
   "cell_type": "code",
   "execution_count": 14,
   "id": "38957d32-8f40-41b9-b40a-8aaa1d7a7186",
   "metadata": {},
   "outputs": [
    {
     "name": "stdin",
     "output_type": "stream",
     "text": [
      "Enter the number:  5\n"
     ]
    },
    {
     "name": "stdout",
     "output_type": "stream",
     "text": [
      "Factorial of 5 is 120\n"
     ]
    }
   ],
   "source": [
    "def factorial(n):\n",
    "    if n < 0:\n",
    "        return 0\n",
    "    elif n == 0 or n == 1:\n",
    "        return 1\n",
    "    else:\n",
    "        fact = 1\n",
    "        while(n > 1):\n",
    "            fact *= n\n",
    "            n -= 1\n",
    "        return fact\n",
    "\n",
    "num = int(input(\"Enter the number: \"))\n",
    "print(\"Factorial of\", num, \"is\", factorial(num))"
   ]
  },
  {
   "cell_type": "code",
   "execution_count": 20,
   "id": "5ce23718-6db5-401d-ade7-93f8e75ae42a",
   "metadata": {},
   "outputs": [
    {
     "name": "stdout",
     "output_type": "stream",
     "text": [
      "1024.0\n",
      "9.261000000000001\n",
      "0.25\n"
     ]
    }
   ],
   "source": [
    "class Solution:\n",
    "    def myPow(self,x:float,n:int)->float:\n",
    "        if n==0:\n",
    "            return 1\n",
    "        if n<0:\n",
    "            return 1/self.A(x,-n)\n",
    "        return self.A(x,n)\n",
    "\n",
    "    def A(self,x:float,n:int)->float:\n",
    "        if n==0:\n",
    "            return 1\n",
    "        if n&1:\n",
    "            return x*self.A(x,n-1)\n",
    "        return self.A(x*x,n//2)\n",
    "print(myPow(2.00000,10))\n",
    "print(myPow(2.10000,3))\n",
    "print(myPow(2.00000,-2))"
   ]
  },
  {
   "cell_type": "code",
   "execution_count": null,
   "id": "33177dc1-3236-4858-8aa6-ef458aed632a",
   "metadata": {},
   "outputs": [],
   "source": []
  }
 ],
 "metadata": {
  "kernelspec": {
   "display_name": "Python 3 (ipykernel)",
   "language": "python",
   "name": "python3"
  },
  "language_info": {
   "codemirror_mode": {
    "name": "ipython",
    "version": 3
   },
   "file_extension": ".py",
   "mimetype": "text/x-python",
   "name": "python",
   "nbconvert_exporter": "python",
   "pygments_lexer": "ipython3",
   "version": "3.10.9"
  }
 },
 "nbformat": 4,
 "nbformat_minor": 5
}

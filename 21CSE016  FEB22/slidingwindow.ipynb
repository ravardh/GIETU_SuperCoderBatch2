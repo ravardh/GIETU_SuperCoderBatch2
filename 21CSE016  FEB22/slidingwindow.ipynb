{
 "cells": [
  {
   "cell_type": "code",
   "execution_count": 1,
   "id": "0b3601de",
   "metadata": {},
   "outputs": [
    {
     "name": "stdout",
     "output_type": "stream",
     "text": [
      "Enter the array elements : 2 3 4 5 7 8 3 4 5 2 9 8 7\n",
      "Enter the window size: 3\n",
      "Maximum sum of subarray of length 3 : 24\n"
     ]
    }
   ],
   "source": [
    "arr = list(map(int, input(\"Enter the array elements : \").split()))\n",
    "k = int(input(\"Enter the window size: \"))\n",
    "window_sum = sum(arr[:k])\n",
    "max_sum = window_sum\n",
    "\n",
    "for i in range(k, len(arr)):\n",
    "    window_sum = window_sum - arr[i - k] + arr[i]\n",
    "    max_sum = max(max_sum, window_sum)\n",
    "\n",
    "print(\"Maximum sum of subarray of length\", k, \":\", max_sum)"
   ]
  },
  {
   "cell_type": "code",
   "execution_count": null,
   "id": "ce637b02",
   "metadata": {},
   "outputs": [],
   "source": []
  }
 ],
 "metadata": {
  "kernelspec": {
   "display_name": "Python 3 (ipykernel)",
   "language": "python",
   "name": "python3"
  },
  "language_info": {
   "codemirror_mode": {
    "name": "ipython",
    "version": 3
   },
   "file_extension": ".py",
   "mimetype": "text/x-python",
   "name": "python",
   "nbconvert_exporter": "python",
   "pygments_lexer": "ipython3",
   "version": "3.11.3"
  }
 },
 "nbformat": 4,
 "nbformat_minor": 5
}

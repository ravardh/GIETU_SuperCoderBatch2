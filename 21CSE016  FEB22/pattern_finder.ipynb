{
 "cells": [
  {
   "cell_type": "code",
   "execution_count": 1,
   "id": "5b455f2d",
   "metadata": {},
   "outputs": [
    {
     "name": "stdout",
     "output_type": "stream",
     "text": [
      "Enter String :my name is himanshu\n",
      "Enter Pattern :3 4 5 3 5 2 5 23\n",
      "[0, 0, 0, 0, 0, 0, 1, 2, 0, 0, 0, 0, 0, 0, 0, 1] LPS\n",
      "[]\n"
     ]
    },
    {
     "data": {
      "text/plain": [
       "[]"
      ]
     },
     "execution_count": 1,
     "metadata": {},
     "output_type": "execute_result"
    }
   ],
   "source": [
    "s= input(\"Enter String :\")\n",
    "pt=input(\"Enter Pattern :\")\n",
    "def computeLPSArray(pattern):\n",
    "    n = len(pattern)\n",
    "    lps = [0] * n\n",
    "    length = 0\n",
    "    i = 1\n",
    "\n",
    "    while i < n:\n",
    "        if pattern[i] == pattern[length]:\n",
    "            length += 1\n",
    "            lps[i] = length\n",
    "            i += 1\n",
    "        else:\n",
    "            if length != 0:\n",
    "                length = lps[length - 1]\n",
    "            else:\n",
    "                lps[i] = 0\n",
    "                i += 1\n",
    "    print(lps,\"LPS\")\n",
    "    return lps\n",
    "def KMP( p, s):\n",
    "    lps=computeLPSArray(p)\n",
    "    ans=[]\n",
    "    sn=len(s)\n",
    "    k=len(p)\n",
    "    i=0\n",
    "    j=0\n",
    "    while(i<sn):\n",
    "        if(s[i]==p[j]):\n",
    "            i+=1\n",
    "            j+=1\n",
    "        if(j==k):\n",
    "            ans.append(i-j+1)\n",
    "            j=lps[j-1]\n",
    "        elif(i<sn and(j==0 or s[i]!=p[j])):\n",
    "            if j!=0:\n",
    "                j=lps[j-1]\n",
    "            else:\n",
    "                i+=1\n",
    "    print(ans)\n",
    "    return ans\n",
    "KMP(pt,s)"
   ]
  },
  {
   "cell_type": "code",
   "execution_count": null,
   "id": "2a3928c5",
   "metadata": {},
   "outputs": [],
   "source": []
  }
 ],
 "metadata": {
  "kernelspec": {
   "display_name": "Python 3 (ipykernel)",
   "language": "python",
   "name": "python3"
  },
  "language_info": {
   "codemirror_mode": {
    "name": "ipython",
    "version": 3
   },
   "file_extension": ".py",
   "mimetype": "text/x-python",
   "name": "python",
   "nbconvert_exporter": "python",
   "pygments_lexer": "ipython3",
   "version": "3.11.3"
  }
 },
 "nbformat": 4,
 "nbformat_minor": 5
}

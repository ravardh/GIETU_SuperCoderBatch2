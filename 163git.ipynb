{
  "nbformat": 4,
  "nbformat_minor": 0,
  "metadata": {
    "colab": {
      "provenance": [],
      "authorship_tag": "ABX9TyNHRUlTYGAgYF0g86cQdwgX",
      "include_colab_link": true
    },
    "kernelspec": {
      "name": "python3",
      "display_name": "Python 3"
    },
    "language_info": {
      "name": "python"
    }
  },
  "cells": [
    {
      "cell_type": "markdown",
      "metadata": {
        "id": "view-in-github",
        "colab_type": "text"
      },
      "source": [
        "<a href=\"https://colab.research.google.com/github/ravardh/GIETU_SuperCoderBatch2/blob/shrejal_21CSEDS044/163git.ipynb\" target=\"_parent\"><img src=\"https://colab.research.google.com/assets/colab-badge.svg\" alt=\"Open In Colab\"/></a>"
      ]
    },
    {
      "cell_type": "code",
      "source": [
        "def is_safe(board, row, col):\n",
        "    for i in range(col):\n",
        "        if board[row][i] == 1:\n",
        "            return False\n",
        "    for i, j in zip(range(row, -1, -1), range(col, -1, -1)):\n",
        "        if board[i][j] == 1:\n",
        "            return False\n",
        "    for i, j in zip(range(row, 4, 1), range(col, -1, -1)):\n",
        "        if board[i][j] == 1:\n",
        "            return False\n",
        "    return True\n",
        "def solve_queens_util(board, col):\n",
        "    if col >= 4:\n",
        "        return True\n",
        "    for i in range(4):\n",
        "        if is_safe(board, i, col):\n",
        "            board[i][col] = 1\n",
        "            if solve_queens_util(board, col + 1):\n",
        "                return True\n",
        "            board[i][col] = 0\n",
        "    return False\n",
        "def solve_queens():\n",
        "    board = [[0 for _ in range(4)] for _ in range(4)]\n",
        "    if not solve_queens_util(board, 0):\n",
        "        print(\"Solution does not exist\")\n",
        "        return False\n",
        "    print(\"Solution:\")\n",
        "    print_board(board)\n",
        "    return\n",
        "def print_board(board):\n",
        "    for i in range(4):\n",
        "        for j in range(4):\n",
        "            print(board[i][j], end=\" \")\n",
        "        print()\n",
        "solve_queens()\n"
      ],
      "metadata": {
        "colab": {
          "base_uri": "https://localhost:8080/"
        },
        "id": "1_GuaOKZqC6M",
        "outputId": "b08f1f32-a74a-481d-a135-bb3e10121150"
      },
      "execution_count": 4,
      "outputs": [
        {
          "output_type": "stream",
          "name": "stdout",
          "text": [
            "Solution:\n",
            "0 0 1 0 \n",
            "1 0 0 0 \n",
            "0 0 0 1 \n",
            "0 1 0 0 \n"
          ]
        }
      ]
    },
    {
      "cell_type": "code",
      "source": [
        "import numpy as np\n",
        "A = np.array([[1, 2, 3],\n",
        "              [4, 5, 6]])\n",
        "B = np.array([[7, 8],\n",
        "              [9, 10],\n",
        "              [11, 12]])\n",
        "C = np.dot(A, B)\n",
        "print(\"Result of matrix multiplication (C = A * B):\")\n",
        "print(C)"
      ],
      "metadata": {
        "colab": {
          "base_uri": "https://localhost:8080/"
        },
        "id": "GrRi7GuD7ZNa",
        "outputId": "ff868ecb-06e8-465f-9645-16feb53807dd"
      },
      "execution_count": 3,
      "outputs": [
        {
          "output_type": "stream",
          "name": "stdout",
          "text": [
            "Result of matrix multiplication (C = A * B):\n",
            "[[ 58  64]\n",
            " [139 154]]\n"
          ]
        }
      ]
    },
    {
      "cell_type": "code",
      "source": [],
      "metadata": {
        "id": "FXu1_t0K-Kay"
      },
      "execution_count": null,
      "outputs": []
    }
  ]
}
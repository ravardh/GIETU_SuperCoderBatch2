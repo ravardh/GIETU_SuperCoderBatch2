{
 "cells": [
  {
   "cell_type": "markdown",
   "id": "786289d9-5316-420f-a126-c13d271423d7",
   "metadata": {},
   "source": [
    "BFS of the Graph"
   ]
  },
  {
   "cell_type": "code",
   "execution_count": 4,
   "id": "f732b749-269e-406e-bb07-9a9600a8c610",
   "metadata": {},
   "outputs": [
    {
     "name": "stdout",
     "output_type": "stream",
     "text": [
      "BFS traversal starting from node 0\n",
      "0 1 2 3 4 "
     ]
    }
   ],
   "source": [
    "def bfs(graph, start):\n",
    "    visited = set()\n",
    "    queue = deque([start])\n",
    "    visited.add(start)\n",
    "    \n",
    "    while queue:\n",
    "        node = queue.popleft()\n",
    "        print(node, end=\" \")\n",
    "        for neighbor in graph[node]:\n",
    "            if neighbor not in visited:\n",
    "                queue.append(neighbor)\n",
    "                visited.add(neighbor)\n",
    "\n",
    "graph = defaultdict(list)\n",
    "graph[0] = [1, 2]\n",
    "graph[1] = [0, 3, 4]\n",
    "graph[2] = [0, 4]\n",
    "graph[3] = [1]\n",
    "graph[4] = [1, 2]\n",
    "start_node = 0\n",
    "\n",
    "print(\"BFS traversal starting from node\", start_node)\n",
    "bfs(graph, start_node)"
   ]
  },
  {
   "cell_type": "code",
   "execution_count": 7,
   "id": "43570ce6-ee28-4967-8bcf-a9f774bdd92a",
   "metadata": {},
   "outputs": [
    {
     "name": "stdout",
     "output_type": "stream",
     "text": [
      "DFS traversal:\n",
      "1\n",
      "2\n",
      "5\n",
      "6\n",
      "3\n",
      "4\n"
     ]
    }
   ],
   "source": [
    "class TreeNode:\n",
    "    def __init__(self, value):\n",
    "        self.value = value\n",
    "        self.children = []\n",
    "\n",
    "def dfs(root):\n",
    "    if not root:\n",
    "        return\n",
    "\n",
    "    stack = []\n",
    "    stack.append(root)\n",
    "\n",
    "    while stack:\n",
    "        node = stack.pop()\n",
    "        print(node.value)\n",
    "\n",
    "        for child in reversed(node.children):\n",
    "            stack.append(child)\n",
    "\n",
    "root = TreeNode(1)\n",
    "node2 = TreeNode(2)\n",
    "node3 = TreeNode(3)\n",
    "node4 = TreeNode(4)\n",
    "node5 = TreeNode(5)\n",
    "node6 = TreeNode(6)\n",
    "\n",
    "root.children = [node2, node3, node4]\n",
    "node2.children = [node5, node6]\n",
    "\n",
    "print(\"DFS traversal:\")\n",
    "dfs(root)\n"
   ]
  },
  {
   "cell_type": "code",
   "execution_count": null,
   "id": "41f37da7-7c31-4b0b-becf-bc6f3de334bb",
   "metadata": {},
   "outputs": [],
   "source": []
  }
 ],
 "metadata": {
  "kernelspec": {
   "display_name": "Python 3 (ipykernel)",
   "language": "python",
   "name": "python3"
  },
  "language_info": {
   "codemirror_mode": {
    "name": "ipython",
    "version": 3
   },
   "file_extension": ".py",
   "mimetype": "text/x-python",
   "name": "python",
   "nbconvert_exporter": "python",
   "pygments_lexer": "ipython3",
   "version": "3.10.9"
  }
 },
 "nbformat": 4,
 "nbformat_minor": 5
}

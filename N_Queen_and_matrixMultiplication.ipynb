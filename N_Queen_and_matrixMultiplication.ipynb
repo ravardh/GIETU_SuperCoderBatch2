{
 "cells": [
  {
   "cell_type": "code",
   "execution_count": null,
   "id": "77d9378d",
   "metadata": {},
   "outputs": [],
   "source": [
    "class n_QueenProblem:\n",
    "    def __init__(self):\n",
    "        self.MAX = 10\n",
    "        self.arr = [0] * self.MAX\n",
    "    def c_Put(self, k, i):\n",
    "        for j in range(1, k):\n",
    "            if (self.arr[j] == i or (abs(self.arr[j] - i) == abs(j - k))):\n",
    "                return False\n",
    "        return True\n",
    "\n",
    "    def display(self, n):\n",
    "        for i in range(1, n + 1):\n",
    "            for j in range(1, n + 1):\n",
    "                if self.arr[i] != j:\n",
    "                    print(\"_\", end=\" \")\n",
    "                else:\n",
    "                    print(\"Q\", end=\" \")\n",
    "            print()\n",
    "        print(\".....................................\")\n",
    "\n",
    "\n",
    "    def nQueens(self, k, n):\n",
    "        for i in range(1, n + 1):\n",
    "            if self.c_Put(k, i):\n",
    "                self.arr[k] = i\n",
    "                if k == n:\n",
    "                    self.display(n)\n",
    "                else:\n",
    "                    self.nQueens(k + 1, n)\n",
    "                    \n",
    "                    \n",
    "n = int(input(\"Enter board size(minimum 4 x 4) : \"))\n",
    "if(n<=3):\n",
    "    print(\"Size should br greater than 3 🤣🤣🤣🤣🤣🤣🤣\")\n",
    "obj = n_QueenProblem()\n",
    "obj.nQueens(1,n)\n"
   ]
  },
  {
   "cell_type": "code",
   "execution_count": null,
   "id": "d14bb83a",
   "metadata": {},
   "outputs": [],
   "source": [
    "def matrixMultiplication(matrix1,matrix2):\n",
    "    result = [[0 for _ in range(len(matrix2[0]))] for _ in range(len(matrix1))]\n",
    "    for i in range(len(matrix1)):\n",
    "        for j in range(len(matrix2[0])):\n",
    "            for k in range(len(matrix2)):\n",
    "                result[i][j] += matrix1[i][j] * matrix2[i][j];\n",
    "    return result\n",
    "def c_matrix(rows, cols):\n",
    "    matrix = []\n",
    "    print(\"Enter the elements of the matrix:\")\n",
    "    for i in range(rows):\n",
    "        row = []\n",
    "        for j in range(cols):\n",
    "            row.append(int(input(f\"Enter element at position ({i+1},{j+1}): \")))\n",
    "        matrix.append(row)\n",
    "    return matrix\n",
    "\n",
    "row1 = int(input(\"Enter the number of rows for matrix 1: \"))\n",
    "col1 = int(input(\"Enter the number of columns for matrix 1: \"))\n",
    "matrix1 = c_matrix(row1, col1)\n",
    "\n",
    "row2 = int(input(\"Enter the number of rows for matrix 2: \"))\n",
    "col2 = int(input(\"Enter the number of columns for matrix 2: \"))\n",
    "matrix2 = c_matrix(row2, col2)\n",
    "\n",
    "matrixMultiplication(matrix1,matrix2)"
   ]
  }
 ],
 "metadata": {
  "kernelspec": {
   "display_name": "Python 3 (ipykernel)",
   "language": "python",
   "name": "python3"
  },
  "language_info": {
   "codemirror_mode": {
    "name": "ipython",
    "version": 3
   },
   "file_extension": ".py",
   "mimetype": "text/x-python",
   "name": "python",
   "nbconvert_exporter": "python",
   "pygments_lexer": "ipython3",
   "version": "3.11.3"
  }
 },
 "nbformat": 4,
 "nbformat_minor": 5
}

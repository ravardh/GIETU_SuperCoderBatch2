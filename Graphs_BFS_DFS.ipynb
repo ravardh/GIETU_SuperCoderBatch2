{
  "nbformat": 4,
  "nbformat_minor": 0,
  "metadata": {
    "colab": {
      "provenance": [],
      "authorship_tag": "ABX9TyM2mB3WkzADILi0bOmhFfLA",
      "include_colab_link": true
    },
    "kernelspec": {
      "name": "python3",
      "display_name": "Python 3"
    },
    "language_info": {
      "name": "python"
    }
  },
  "cells": [
    {
      "cell_type": "markdown",
      "metadata": {
        "id": "view-in-github",
        "colab_type": "text"
      },
      "source": [
        "<a href=\"https://colab.research.google.com/github/ravardh/GIETU_SuperCoderBatch2/blob/Kundan_21cse046/Graphs_BFS_DFS.ipynb\" target=\"_parent\"><img src=\"https://colab.research.google.com/assets/colab-badge.svg\" alt=\"Open In Colab\"/></a>"
      ]
    },
    {
      "cell_type": "code",
      "source": [
        "class Graph:\n",
        "    def __init__(self):\n",
        "        self.graph = {}\n",
        "\n",
        "    def addEdge(self, u, v):\n",
        "        if u not in self.graph:\n",
        "            self.graph[u] = []\n",
        "        self.graph[u].append(v)\n",
        "\n",
        "        if v not in self.graph:\n",
        "            self.graph[v] = []\n",
        "        self.graph[v].append(u)\n",
        "\n",
        "    def bfs(self, start):\n",
        "        visited = set()\n",
        "        queue = deque([start])\n",
        "        visited.add(start)\n",
        "\n",
        "        while queue:\n",
        "            currentNode = queue.popleft()\n",
        "            print(currentNode, end=\" \")\n",
        "\n",
        "            for neighbor in self.graph[currentNode]:\n",
        "                if neighbor not in visited:\n",
        "                    queue.append(neighbor)\n",
        "                    visited.add(neighbor)\n",
        "\n",
        "if __name__ == \"_main_\":\n",
        "    g = Graph()\n",
        "    g.addEdge(1,2)\n",
        "    g.addEdge(1,3)\n",
        "    g.addEdge(1,9)\n",
        "    g.addEdge(2,4)\n",
        "    g.addEdge(4,6)\n",
        "    g.addEdge(4,5)\n",
        "    g.addEdge(7,8)\n",
        "    g.addEdge(8,3)\n",
        "    g.addEdge(8,9)\n",
        "\n",
        "\n",
        "\n",
        "    start_node = int(input(\"Enter starting Node : \"))\n",
        "    g.bfs(start_node)"
      ],
      "metadata": {
        "id": "JJXX1ArewOCK"
      },
      "execution_count": null,
      "outputs": []
    },
    {
      "cell_type": "code",
      "source": [
        "class Graph:\n",
        "    def __init__(self):\n",
        "        self.graph = {}\n",
        "\n",
        "    def addEdge(self, u, v):\n",
        "        if u not in self.graph:\n",
        "            self.graph[u] = []\n",
        "        self.graph[u].append(v)\n",
        "\n",
        "        if v not in self.graph:\n",
        "            self.graph[v] = []\n",
        "        self.graph[v].append(u)\n",
        "\n",
        "    def bfs(self, start):\n",
        "        visited = set()\n",
        "        queue = deque([start])\n",
        "        visited.add(start)\n",
        "\n",
        "        while queue:\n",
        "            currentNode = queue.popleft()\n",
        "            print(currentNode, end=\" \")\n",
        "\n",
        "            for neighbor in self.graph[currentNode]:\n",
        "                if neighbor not in visited:\n",
        "                    queue.append(neighbor)\n",
        "                    visited.add(neighbor)\n",
        "\n",
        "    def dfs(self, start):\n",
        "        visited = set()\n",
        "\n",
        "        def dfsUtil(node):\n",
        "            visited.add(node)\n",
        "            print(node, end=\" \")\n",
        "\n",
        "            for neighbor in self.graph[node]:\n",
        "                if neighbor not in visited:\n",
        "                    dfsUtil(neighbor)\n",
        "\n",
        "        dfsUtil(start)\n",
        "\n",
        "if __name__ == \"__main__\":\n",
        "    g = Graph()\n",
        "    g.addEdge(1, 2)\n",
        "    g.addEdge(1, 3)\n",
        "    g.addEdge(1, 9)\n",
        "    g.addEdge(2, 4)\n",
        "    g.addEdge(4, 6)\n",
        "    g.addEdge(4, 5)\n",
        "    g.addEdge(7, 8)\n",
        "    g.addEdge(8, 3)\n",
        "    g.addEdge(8, 9)\n",
        "\n",
        "    start_node = int(input(\"Enter starting Node : \"))\n",
        "    print(\"DFS Traversal:\")\n",
        "    g.dfs(start_node)\n",
        "\n"
      ],
      "metadata": {
        "colab": {
          "base_uri": "https://localhost:8080/"
        },
        "id": "qUEfis14CIcl",
        "outputId": "d09a6fa4-5aaf-4fbc-eeb3-43ec865859ca"
      },
      "execution_count": null,
      "outputs": [
        {
          "output_type": "stream",
          "name": "stdout",
          "text": [
            "Enter starting Node : 5\n",
            "DFS Traversal:\n",
            "5 4 2 1 3 8 7 9 6 "
          ]
        }
      ]
    }
  ]
}
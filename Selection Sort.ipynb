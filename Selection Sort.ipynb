{
 "cells": [
  {
   "cell_type": "code",
   "execution_count": 1,
   "id": "9ad1b061",
   "metadata": {},
   "outputs": [
    {
     "name": "stdout",
     "output_type": "stream",
     "text": [
      "Enter the size of array: 5\n",
      "1\n",
      "44\n",
      "22\n",
      "6\n",
      "-22\n",
      "Unsorted array: 1 44 22 6 -22 \n",
      "Sorted array: -22 1 6 22 44 \n"
     ]
    }
   ],
   "source": [
    "# Selection Sort\n",
    "def print_array(l):\n",
    "    for i in range(len(l)):\n",
    "        print(l[i], end=\" \")\n",
    "    print()\n",
    "    \n",
    "l=[]\n",
    "n=int(input(\"Enter the size of array: \"))\n",
    "for i in range(n):\n",
    "    e=int(input())\n",
    "    l.append(e)\n",
    "\n",
    "print(\"Unsorted array: \", end=\"\")\n",
    "print_array(l)\n",
    "\n",
    "for i in range(n): \n",
    "    min_idx = i \n",
    "    for j in range(i+1, n): \n",
    "        if l[min_idx] > l[j]: \n",
    "            min_idx = j     \n",
    "    l[i], l[min_idx] = l[min_idx], l[i]\n",
    "\n",
    "print(\"Sorted array: \", end=\"\")\n",
    "print_array(l)"
   ]
  },
  {
   "cell_type": "code",
   "execution_count": null,
   "id": "a7024e97",
   "metadata": {},
   "outputs": [],
   "source": []
  }
 ],
 "metadata": {
  "kernelspec": {
   "display_name": "Python 3 (ipykernel)",
   "language": "python",
   "name": "python3"
  },
  "language_info": {
   "codemirror_mode": {
    "name": "ipython",
    "version": 3
   },
   "file_extension": ".py",
   "mimetype": "text/x-python",
   "name": "python",
   "nbconvert_exporter": "python",
   "pygments_lexer": "ipython3",
   "version": "3.9.13"
  }
 },
 "nbformat": 4,
 "nbformat_minor": 5
}

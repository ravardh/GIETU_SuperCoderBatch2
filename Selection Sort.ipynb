{
 "cells": [
  {
   "cell_type": "code",
   "execution_count": null,
   "id": "e0da536b",
   "metadata": {},
   "outputs": [],
   "source": [
    "# Selection Sort\n",
    "def print_array(array):\n",
    "    for i in range(len(array)):\n",
    "        print(array[i], end=\" \")\n",
    "    print()\n",
    "\n",
    "def selectionSort(array, size):\n",
    "    for ind in range(size):\n",
    "        min_index = ind\n",
    "\n",
    "        for j in range(ind + 1, size):\n",
    "            if array[j] < array[min_index]:\n",
    "                min_index = j\n",
    "        (array[ind], array[min_index]) = (array[min_index], array[ind])\n",
    "    \n",
    "array=[]\n",
    "n=int(input(\"Enter the size of array: \"))\n",
    "for i in range(n):\n",
    "    e=int(input())\n",
    "    array.append(e)\n",
    "print(\"Unsorted array: \", end=\"\")\n",
    "print_array(array)\n",
    "selectionSort(array,n)\n",
    "print(\"Sorted array: \", end=\"\")\n",
    "print_array(array)"
   ]
  },
  {
   "cell_type": "code",
   "execution_count": null,
   "id": "477aef1a",
   "metadata": {},
   "outputs": [],
   "source": []
  }
 ],
 "metadata": {
  "kernelspec": {
   "display_name": "Python 3 (ipykernel)",
   "language": "python",
   "name": "python3"
  },
  "language_info": {
   "codemirror_mode": {
    "name": "ipython",
    "version": 3
   },
   "file_extension": ".py",
   "mimetype": "text/x-python",
   "name": "python",
   "nbconvert_exporter": "python",
   "pygments_lexer": "ipython3",
   "version": "3.10.9"
  }
 },
 "nbformat": 4,
 "nbformat_minor": 5
}

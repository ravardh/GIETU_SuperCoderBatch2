{
 "cells": [
  {
   "cell_type": "markdown",
   "id": "27b468b6",
   "metadata": {},
   "source": [
    "## 0/1 Knapsack"
   ]
  },
  {
   "cell_type": "markdown",
   "id": "1e236091",
   "metadata": {},
   "source": [
    "v[i,w]=max{v[i-1,w],v[i-1,w-w[i]]+p[i]}"
   ]
  },
  {
   "cell_type": "code",
   "execution_count": 2,
   "id": "b01f0fad",
   "metadata": {},
   "outputs": [
    {
     "name": "stdout",
     "output_type": "stream",
     "text": [
      "220\n"
     ]
    }
   ],
   "source": [
    "def knapSack(W, wt, val, n): \n",
    "\n",
    "    if n == 0 or W == 0: \n",
    "        return 0\n",
    "\n",
    "    if (wt[n-1] > W): \n",
    "        return knapSack(W, wt, val, n-1) \n",
    "\n",
    "    else: \n",
    "        return max( \n",
    "            val[n-1] + knapSack( \n",
    "                W-wt[n-1], wt, val, n-1), \n",
    "            knapSack(W, wt, val, n-1)) \n",
    "\n",
    "\n",
    "    \n",
    "if __name__ == '__main__': \n",
    "    profit = [60, 100, 120] \n",
    "    weight = [10, 20, 30] \n",
    "    W = 50\n",
    "    n = len(profit) \n",
    "    print(knapSack(W, weight, profit, n))\n"
   ]
  },
  {
   "cell_type": "code",
   "execution_count": null,
   "id": "3f9e5ff9",
   "metadata": {},
   "outputs": [],
   "source": []
  }
 ],
 "metadata": {
  "kernelspec": {
   "display_name": "Python 3 (ipykernel)",
   "language": "python",
   "name": "python3"
  },
  "language_info": {
   "codemirror_mode": {
    "name": "ipython",
    "version": 3
   },
   "file_extension": ".py",
   "mimetype": "text/x-python",
   "name": "python",
   "nbconvert_exporter": "python",
   "pygments_lexer": "ipython3",
   "version": "3.9.13"
  }
 },
 "nbformat": 4,
 "nbformat_minor": 5
}

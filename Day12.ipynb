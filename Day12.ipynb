{
  "nbformat": 4,
  "nbformat_minor": 0,
  "metadata": {
    "colab": {
      "provenance": []
    },
    "kernelspec": {
      "name": "python3",
      "display_name": "Python 3"
    },
    "language_info": {
      "name": "python"
    }
  },
  "cells": [
    {
      "cell_type": "code",
      "source": [
        "n = 7\n",
        "Fab = [0] * n\n",
        "Fab[0] = 0\n",
        "Fab[1] = 1\n",
        "for i in range(2, n):\n",
        "    Fab[i] = Fab[i - 1] + Fab[i - 2]\n",
        "for i in range(n):\n",
        "    print(Fab[i])\n"
      ],
      "metadata": {
        "colab": {
          "base_uri": "https://localhost:8080/"
        },
        "id": "QADTRc_dEKPW",
        "outputId": "56b38be4-95a2-4b9d-8911-8b9c9263ddfb"
      },
      "execution_count": null,
      "outputs": [
        {
          "output_type": "stream",
          "name": "stdout",
          "text": [
            "0\n",
            "1\n",
            "1\n",
            "2\n",
            "3\n",
            "5\n",
            "8\n"
          ]
        }
      ]
    },
    {
      "cell_type": "code",
      "source": [
        "# KNAPSACK\n",
        "l=[[10,2],[5,3],[15,5],[7,7],[6,1],[18,4],[3,1]]\n",
        "DICT={}\n",
        "WeightBag=15\n",
        "instantW=0\n",
        "price=0\n",
        "for i in range(len(l)):\n",
        "  DICT[i] = round(l[i][0]/l[i][1],2)*100\n",
        "print(DICT)\n",
        "DICT=dict(sorted(DICT.items(), key=lambda item: item[1]))\n",
        "print(DICT)\n",
        "for i in DICT.keys():\n",
        "  instantW = instantW+l[i][1]\n",
        "  price= price+l[i][0]\n",
        "  if(instantW==WeightBag):\n",
        "    break\n",
        "print(price)"
      ],
      "metadata": {
        "colab": {
          "base_uri": "https://localhost:8080/"
        },
        "id": "5lxYZbqEb-ie",
        "outputId": "63e3b6b4-4711-4f33-c1ac-a8cd502d08f3"
      },
      "execution_count": null,
      "outputs": [
        {
          "output_type": "stream",
          "name": "stdout",
          "text": [
            "{0: 500.0, 1: 167.0, 2: 300.0, 3: 100.0, 4: 600.0, 5: 450.0, 6: 300.0}\n",
            "{3: 100.0, 1: 167.0, 2: 300.0, 6: 300.0, 5: 450.0, 0: 500.0, 4: 600.0}\n",
            "27\n"
          ]
        }
      ]
    },
    {
      "cell_type": "code",
      "source": [
        "def knapsack(wi, pi, cap):\n",
        "    n = len(pi)\n",
        "    V = [[0] * (cap + 1) for _ in range(n + 1)]\n",
        "\n",
        "    for i in range(1, n + 1):\n",
        "        for w in range(1, cap + 1):\n",
        "            if wi[i - 1] > w:\n",
        "                V[i][w] = V[i - 1][w]\n",
        "            else:\n",
        "                V[i][w] = max(V[i - 1][w], V[i - 1][w - wi[i-1]] + pi[i-1])\n",
        "    return V[n][cap]\n",
        "wi = [0,2,3,5,7,1,4,1]\n",
        "pi = [0,10,5,15,7,6,18,3]\n",
        "cap = 15\n",
        "\n",
        "max_value = knapsack(wi, pi, cap)\n",
        "print(\"Maximum value:\", max_value)\n"
      ],
      "metadata": {
        "colab": {
          "base_uri": "https://localhost:8080/"
        },
        "id": "woVf4Gs6c0Y6",
        "outputId": "0e792600-f104-45d3-dd67-42108f1901bd"
      },
      "execution_count": null,
      "outputs": [
        {
          "output_type": "stream",
          "name": "stdout",
          "text": [
            "Maximum value: 54\n"
          ]
        }
      ]
    },
    {
      "cell_type": "code",
      "source": [],
      "metadata": {
        "id": "hPofuE5FcYFF"
      },
      "execution_count": null,
      "outputs": []
    }
  ]
}
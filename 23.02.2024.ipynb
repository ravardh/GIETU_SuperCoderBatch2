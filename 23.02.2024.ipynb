{
 "cells": [
  {
   "cell_type": "code",
   "execution_count": 1,
   "id": "1320fcf2",
   "metadata": {},
   "outputs": [
    {
     "name": "stdout",
     "output_type": "stream",
     "text": [
      "Found pattern at index 3\n",
      "Found pattern at index 10\n",
      "Found pattern at index 16\n"
     ]
    }
   ],
   "source": [
    "#KMP Algorithm\n",
    "def KMPSearch(pat, data):\n",
    "    M = len(pat)\n",
    "    N = len(data)\n",
    "    lps = [0]*M\n",
    "    j = 0 \n",
    "\n",
    "    LPS(pat, M, lps)\n",
    "\n",
    "    i = 0 \n",
    "    while (N - i) >= (M - j):\n",
    "        if pat[j] == data[i]:\n",
    "            i += 1\n",
    "            j += 1\n",
    "\n",
    "        if j == M:\n",
    "            print(\"Found pattern at index \" + str(i-j))\n",
    "            j = lps[j-1]\n",
    "\n",
    "        elif i < N and pat[j] != data[i]:\n",
    "            if j != 0:\n",
    "                j = lps[j-1]\n",
    "            else:\n",
    "                i += 1\n",
    "\n",
    "def LPS(pat, M, lps):\n",
    "    len = 0 \n",
    "\n",
    "    lps[0] = 0 \n",
    "    i = 1\n",
    "\n",
    "    while i < M:\n",
    "        if pat[i] == pat[len]:\n",
    "            len += 1\n",
    "            lps[i] = len\n",
    "            i += 1\n",
    "        else:\n",
    "            if len != 0:\n",
    "                len = lps[len-1]\n",
    "            else:\n",
    "                lps[i] = 0\n",
    "                i += 1\n",
    "                \n",
    "# Driver code\n",
    "if __name__ == '__main__':\n",
    "    data = \"ABAABABCABABABCAABABCABAC\"\n",
    "    pat = \"ABABC\"\n",
    "    KMPSearch(pat, data)"
   ]
  },
  {
   "cell_type": "code",
   "execution_count": 2,
   "id": "1a0d8a10",
   "metadata": {},
   "outputs": [
    {
     "name": "stdout",
     "output_type": "stream",
     "text": [
      "<__main__.node object at 0x0000019E08F0D370>\n",
      "1\n",
      "<__main__.node object at 0x0000019E08F0D340>\n",
      "2\n",
      "<__main__.node object at 0x0000019E08F0D310>\n",
      "3\n",
      "<__main__.node object at 0x0000019E08F0D2B0>\n",
      "4\n",
      "<__main__.node object at 0x0000019E08F0D220>\n",
      "5\n",
      "None\n",
      "Node added into begining\n",
      "<__main__.node object at 0x0000019E08F0D5B0>\n",
      "0\n",
      "<__main__.node object at 0x0000019E08F0D370>\n",
      "1\n",
      "<__main__.node object at 0x0000019E08F0D340>\n",
      "2\n",
      "<__main__.node object at 0x0000019E08F0D310>\n",
      "3\n",
      "<__main__.node object at 0x0000019E08F0D2B0>\n",
      "4\n",
      "<__main__.node object at 0x0000019E08F0D220>\n",
      "5\n",
      "None\n",
      "Node added into End\n",
      "<__main__.node object at 0x0000019E08F0D5B0>\n",
      "0\n",
      "<__main__.node object at 0x0000019E08F0D370>\n",
      "1\n",
      "<__main__.node object at 0x0000019E08F0D340>\n",
      "2\n",
      "<__main__.node object at 0x0000019E08F0D310>\n",
      "3\n",
      "<__main__.node object at 0x0000019E08F0D2B0>\n",
      "4\n",
      "<__main__.node object at 0x0000019E08F0D220>\n",
      "5\n",
      "<__main__.node object at 0x0000019E08F0D6A0>\n",
      "6\n",
      "None\n"
     ]
    }
   ],
   "source": [
    "#Linked List\n",
    "\n",
    "class node:\n",
    "    def __init__(self,data=None):\n",
    "        self.data=data\n",
    "        self.next=None\n",
    "newNode = node(1)\n",
    "start = newNode\n",
    "\n",
    "start.next= node(2)\n",
    "start.next.next= node(3)\n",
    "start.next.next.next= node(4)\n",
    "start.next.next.next.next= node(5)\n",
    "\n",
    "temp = start\n",
    "print(temp)\n",
    "while temp:\n",
    "    print(temp.data)\n",
    "    temp=temp.next\n",
    "    print(temp)\n",
    "\n",
    "\n",
    "n1=node(0)\n",
    "n1.next=start\n",
    "start=n1\n",
    "print(\"Node added into begining\")\n",
    "\n",
    "temp = start\n",
    "print(temp)\n",
    "while temp:\n",
    "    print(temp.data)\n",
    "    temp=temp.next\n",
    "    print(temp)\n",
    "\n",
    "\n",
    "\n",
    "n2=node(6)\n",
    "temp=start\n",
    "while temp.next:\n",
    "    temp=temp.next\n",
    "temp.next=n2\n",
    "print(\"Node added into End\")\n",
    "\n",
    "temp = start\n",
    "print(temp)\n",
    "while temp:\n",
    "    print(temp.data)\n",
    "    temp=temp.next\n",
    "    print(temp)"
   ]
  },
  {
   "cell_type": "code",
   "execution_count": 3,
   "id": "c7ae926d",
   "metadata": {},
   "outputs": [
    {
     "name": "stdout",
     "output_type": "stream",
     "text": [
      "1 -> 2 -> 3 -> 4 -> None\n"
     ]
    }
   ],
   "source": [
    "#Linked List\n",
    "class Node:\n",
    "    def __init__(self, data):\n",
    "        self.data = data\n",
    "        self.next = None\n",
    "\n",
    "class LinkedList:\n",
    "    def __init__(self):\n",
    "        self.head = None\n",
    "\n",
    "    def append(self, data):\n",
    "        new_node = Node(data)\n",
    "        if self.head is None:\n",
    "            self.head = new_node\n",
    "            return\n",
    "        last_node = self.head\n",
    "        while last_node.next:\n",
    "            last_node = last_node.next\n",
    "        last_node.next = new_node\n",
    "\n",
    "    def display(self):\n",
    "        current = self.head\n",
    "        while current:\n",
    "            print(current.data, end=' -> ')\n",
    "            current = current.next\n",
    "        print(\"None\")\n",
    "\n",
    "if __name__ == \"__main__\":\n",
    "    linked_list = LinkedList()\n",
    "    linked_list.append(1)\n",
    "    linked_list.append(2)\n",
    "    linked_list.append(3)\n",
    "    linked_list.append(4)\n",
    "    linked_list.display()"
   ]
  },
  {
   "cell_type": "code",
   "execution_count": 4,
   "id": "62f1d31e",
   "metadata": {},
   "outputs": [
    {
     "name": "stdout",
     "output_type": "stream",
     "text": [
      "Enter the number: 5\n",
      "The factorial of 5 is  120\n"
     ]
    }
   ],
   "source": [
    "#Recursion Function\n",
    "n = int(input(\"Enter the number: \"))\n",
    "def facto(n):\n",
    "    if n==1:\n",
    "        return n\n",
    "    else:\n",
    "        return n*facto(n-1)\n",
    "if n<0:\n",
    "    print(\"Factorial does not exist for negative number\")\n",
    "elif n==0:\n",
    "    print(\"The factorial 0 is 1\")\n",
    "else:\n",
    "    print(f\"The factorial of {n} is \",facto(n))"
   ]
  },
  {
   "cell_type": "code",
   "execution_count": 5,
   "id": "21d342d8",
   "metadata": {},
   "outputs": [
    {
     "name": "stdout",
     "output_type": "stream",
     "text": [
      "Enter the number: 5\n",
      "Enter the power: 3\n",
      "5.0 raised to 3 is  125.0\n"
     ]
    }
   ],
   "source": [
    "#Power of x\n",
    "def power(x,n):\n",
    "    if n==0:\n",
    "        return 1\n",
    "    else:\n",
    "        return x*power(x,n-1)\n",
    "\n",
    "x = float(input(\"Enter the number: \"))\n",
    "n = int(input(\"Enter the power: \"))\n",
    "\n",
    "print(f\"{x} raised to {n} is \",power(x,n))"
   ]
  },
  {
   "cell_type": "code",
   "execution_count": null,
   "id": "2ec0b129",
   "metadata": {},
   "outputs": [],
   "source": []
  }
 ],
 "metadata": {
  "kernelspec": {
   "display_name": "Python 3 (ipykernel)",
   "language": "python",
   "name": "python3"
  },
  "language_info": {
   "codemirror_mode": {
    "name": "ipython",
    "version": 3
   },
   "file_extension": ".py",
   "mimetype": "text/x-python",
   "name": "python",
   "nbconvert_exporter": "python",
   "pygments_lexer": "ipython3",
   "version": "3.9.13"
  }
 },
 "nbformat": 4,
 "nbformat_minor": 5
}

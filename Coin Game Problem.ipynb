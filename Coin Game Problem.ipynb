{
 "cells": [
  {
   "cell_type": "code",
   "execution_count": 28,
   "id": "937f5d81",
   "metadata": {},
   "outputs": [
    {
     "name": "stdout",
     "output_type": "stream",
     "text": [
      "Second player wins\n"
     ]
    }
   ],
   "source": [
    "def max_coin_value(coins):\n",
    "    n = len(coins)\n",
    "    a = [[0] * n for k in range(n)]\n",
    "    for g in range(n):\n",
    "        for i in range(n - g):\n",
    "            j = i + g\n",
    "            x = 0\n",
    "            if (i + 2) <= j:\n",
    "                x = a[i + 2][j]\n",
    "            y = 0\n",
    "            if (i + 1) <= (j - 1):\n",
    "                y = a[i + 1][j - 1]\n",
    "            z = 0\n",
    "            if i <= (j - 2):\n",
    "                z = a[i][j - 2]\n",
    "            a[i][j] = max(coins[i] + min(x, y), coins[j] + min(y, z))\n",
    "\n",
    "    total_value = sum(coins)\n",
    "    first_player_value = a[0][n - 1]\n",
    "    second_player_value = total_value - first_player_value\n",
    "\n",
    "    if first_player_value < second_player_value:\n",
    "        return \"First player wins\"\n",
    "    else:\n",
    "        return \"Second player wins\"\n",
    "\n",
    "coins = [18, 20, 15, 30, 10, 14]\n",
    "print(max_coin_value(coins))\n"
   ]
  },
  {
   "cell_type": "code",
   "execution_count": null,
   "id": "e41f86b6",
   "metadata": {},
   "outputs": [],
   "source": []
  }
 ],
 "metadata": {
  "kernelspec": {
   "display_name": "Python 3 (ipykernel)",
   "language": "python",
   "name": "python3"
  },
  "language_info": {
   "codemirror_mode": {
    "name": "ipython",
    "version": 3
   },
   "file_extension": ".py",
   "mimetype": "text/x-python",
   "name": "python",
   "nbconvert_exporter": "python",
   "pygments_lexer": "ipython3",
   "version": "3.11.5"
  }
 },
 "nbformat": 4,
 "nbformat_minor": 5
}

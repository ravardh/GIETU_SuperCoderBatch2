{
 "cells": [
  {
   "cell_type": "markdown",
   "id": "93387231",
   "metadata": {},
   "source": [
    "# Tree Creation"
   ]
  },
  {
   "cell_type": "code",
   "execution_count": 27,
   "id": "248e599d",
   "metadata": {},
   "outputs": [
    {
     "name": "stdout",
     "output_type": "stream",
     "text": [
      "<__main__.node object at 0x000001D52E5127D0>\n",
      "1\n"
     ]
    }
   ],
   "source": [
    "class node:\n",
    "    def __init__(self,data=None):\n",
    "        self.data=data\n",
    "        self.left=None\n",
    "        self.right=None\n",
    "root=node(1)\n",
    "root.left=node(2)\n",
    "root.right=node(4)\n",
    "root.left.left=node(3)\n",
    "root.left.right=node(6)\n",
    "root.right.left=node(5)\n",
    "root.right.right=node(7)\n",
    "\n",
    "print(root)\n",
    "print(root.data)"
   ]
  },
  {
   "cell_type": "markdown",
   "id": "d47ef80d",
   "metadata": {},
   "source": [
    "# PreOrder Traversal"
   ]
  },
  {
   "cell_type": "code",
   "execution_count": 17,
   "id": "3fd2b2b9",
   "metadata": {},
   "outputs": [
    {
     "name": "stdout",
     "output_type": "stream",
     "text": [
      "<__main__.node object at 0x000001D52E3E4810>\n",
      "1\n",
      "2\n",
      "3\n",
      "6\n",
      "4\n",
      "5\n",
      "7\n",
      "None\n"
     ]
    }
   ],
   "source": [
    "class node:\n",
    "    def __init__(self,data=None):\n",
    "        self.data=data\n",
    "        self.left=None\n",
    "        self.right=None\n",
    "root=node(1)\n",
    "root.left=node(2)\n",
    "root.right=node(4)\n",
    "root.left.left=node(3)\n",
    "root.left.right=node(6)\n",
    "root.right.left=node(5)\n",
    "root.right.right=node(7)\n",
    "\n",
    "print(root)\n",
    "print(preOrder(root))\n",
    "\n",
    "def preOrder(root):\n",
    "    if (root==None):\n",
    "        #print(\"-1,\")\n",
    "        return\n",
    "    \n",
    "    else:\n",
    "        print(root.data)\n",
    "        preOrder(root.left)\n",
    "        preOrder(root.right)"
   ]
  },
  {
   "cell_type": "markdown",
   "id": "6ce5165e",
   "metadata": {},
   "source": [
    "# PostOrder Traversal"
   ]
  },
  {
   "cell_type": "code",
   "execution_count": 25,
   "id": "39690109",
   "metadata": {},
   "outputs": [
    {
     "name": "stdout",
     "output_type": "stream",
     "text": [
      "<__main__.node object at 0x000001D52E461B10>\n",
      "3\n",
      "6\n",
      "2\n",
      "5\n",
      "7\n",
      "4\n",
      "1\n"
     ]
    }
   ],
   "source": [
    "class node:\n",
    "    def __init__(self,data=None):\n",
    "        self.data=data\n",
    "        self.left=None\n",
    "        self.right=None\n",
    "\n",
    "def postOrder(root):\n",
    "    if (root==None):\n",
    "        #print(\"-1,\")\n",
    "        return\n",
    "    \n",
    "    else:\n",
    "        postOrder(root.left)\n",
    "        postOrder(root.right)\n",
    "        print(root.data)\n",
    "\n",
    "root=node(1)\n",
    "root.left=node(2)\n",
    "root.right=node(4)\n",
    "root.left.left=node(3)\n",
    "root.left.right=node(6)\n",
    "root.right.left=node(5)\n",
    "root.right.right=node(7)\n",
    "\n",
    "print(root)\n",
    "postOrder(root)\n"
   ]
  },
  {
   "cell_type": "markdown",
   "id": "d8cb699f",
   "metadata": {},
   "source": [
    "# InOrder Traversal"
   ]
  },
  {
   "cell_type": "code",
   "execution_count": 26,
   "id": "400fac01",
   "metadata": {},
   "outputs": [
    {
     "name": "stdout",
     "output_type": "stream",
     "text": [
      "<__main__.node object at 0x000001D52E5136D0>\n",
      "3\n",
      "2\n",
      "6\n",
      "1\n",
      "5\n",
      "4\n",
      "7\n"
     ]
    }
   ],
   "source": [
    "class node:\n",
    "    def __init__(self,data=None):\n",
    "        self.data=data\n",
    "        self.left=None\n",
    "        self.right=None\n",
    "\n",
    "def postOrder(root):\n",
    "    if (root==None):\n",
    "        #print(\"-1,\")\n",
    "        return\n",
    "    \n",
    "    else:\n",
    "        postOrder(root.left)\n",
    "        print(root.data)\n",
    "        postOrder(root.right)\n",
    "        \n",
    "\n",
    "root=node(1)\n",
    "root.left=node(2)\n",
    "root.right=node(4)\n",
    "root.left.left=node(3)\n",
    "root.left.right=node(6)\n",
    "root.right.left=node(5)\n",
    "root.right.right=node(7)\n",
    "\n",
    "print(root)\n",
    "postOrder(root)\n"
   ]
  },
  {
   "cell_type": "markdown",
   "id": "4e3f6e38",
   "metadata": {},
   "source": [
    "# LevelOrder Traversal"
   ]
  },
  {
   "cell_type": "code",
   "execution_count": 2,
   "id": "ff42a574",
   "metadata": {},
   "outputs": [
    {
     "name": "stdout",
     "output_type": "stream",
     "text": [
      "<__main__.node object at 0x000002268DC72E90>\n",
      "1\n",
      "Level order Traversal\n",
      "1 \n",
      "2 4 \n",
      "19 14 6 12 \n",
      "9 5 16 8 11 \n",
      "10 15 17 20 \n"
     ]
    }
   ],
   "source": [
    "class node:\n",
    "    def __init__(self,data=None):\n",
    "        self.data=data\n",
    "        self.left=None\n",
    "        self.right=None\n",
    "\n",
    "# def levelorder(root):\n",
    "#     Q=[root]\n",
    "#     Q.append(None)\n",
    "\n",
    "#     while Q:\n",
    "#         cur = Q.pop(0)\n",
    "#         if cur:\n",
    "#             print(cur.data,ends=\" \")\n",
    "#         elif len(Q)==0:\n",
    "#             return\n",
    "#         else:\n",
    "#             Q.append(None)\n",
    "#             print()\n",
    "            \n",
    "#         if cur.left:\n",
    "#             Q.append(cur.left)\n",
    "#         if cur.right:\n",
    "#             Q.append(cur.right)\n",
    "        \n",
    "def levelorder(root):\n",
    "    if root is None:\n",
    "        return\n",
    "    \n",
    "    Q = [root]\n",
    "\n",
    "    while Q:\n",
    "        level_length = len(Q)\n",
    "        for _ in range(level_length):\n",
    "            cur = Q.pop(0)\n",
    "            print(cur.data, end=\" \")\n",
    "            \n",
    "            if cur.left:\n",
    "                Q.append(cur.left)\n",
    "            if cur.right:\n",
    "                Q.append(cur.right)\n",
    "        print()  # Move the newline here to print after each level\n",
    "     \n",
    "\n",
    "root=node(1)\n",
    "root.left=node(2)\n",
    "root.right=node(4)\n",
    "root.left.left=node(19)\n",
    "root.left.right=node(14)\n",
    "root.right.left=node(6)\n",
    "root.right.right=node(12)\n",
    "root.left.right.left=node(9)\n",
    "root.left.right.right=node(5)\n",
    "root.left.right.left.right=node(10)\n",
    "root.right.left.right=node(16)\n",
    "root.right.right.left=node(8)\n",
    "root.right.right.right=node(11)\n",
    "root.right.right.left.left=node(15)\n",
    "root.right.right.right.left=node(17)\n",
    "root.right.right.right.right=node(20)\n",
    "\n",
    "print(root)\n",
    "print(root.data)\n",
    "\n",
    "\n",
    "print(\"Level order Traversal\")\n",
    "levelorder(root)"
   ]
  },
  {
   "cell_type": "code",
   "execution_count": null,
   "id": "0aa05ec7",
   "metadata": {},
   "outputs": [],
   "source": []
  }
 ],
 "metadata": {
  "kernelspec": {
   "display_name": "Python 3 (ipykernel)",
   "language": "python",
   "name": "python3"
  },
  "language_info": {
   "codemirror_mode": {
    "name": "ipython",
    "version": 3
   },
   "file_extension": ".py",
   "mimetype": "text/x-python",
   "name": "python",
   "nbconvert_exporter": "python",
   "pygments_lexer": "ipython3",
   "version": "3.11.5"
  }
 },
 "nbformat": 4,
 "nbformat_minor": 5
}

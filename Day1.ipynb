{
  "nbformat": 4,
  "nbformat_minor": 0,
  "metadata": {
    "colab": {
      "provenance": []
    },
    "kernelspec": {
      "name": "python3",
      "display_name": "Python 3"
    },
    "language_info": {
      "name": "python"
    }
  },
  "cells": [
    {
      "cell_type": "code",
      "execution_count": 9,
      "metadata": {
        "colab": {
          "base_uri": "https://localhost:8080/"
        },
        "id": "cOb2HSNj8nvM",
        "outputId": "a29a9049-c311-4a2b-f86b-2bac71f7bb6a"
      },
      "outputs": [
        {
          "output_type": "stream",
          "name": "stdout",
          "text": [
            "Enter a list: 1,3,2,4,5\n",
            "[1, 2, 3, 4, 5]\n"
          ]
        }
      ],
      "source": [
        "#selection sort\n",
        "l = list(eval(input(\"Enter a list: \")))\n",
        "for i in range(len(l)):\n",
        "    pos = i\n",
        "    for j in range(i + 1, len(l)):\n",
        "        if l[j] < l[pos]:\n",
        "            pos = j\n",
        "    l[i],l[pos] = l[pos], l[i]\n",
        "print(l)\n"
      ]
    },
    {
      "cell_type": "code",
      "source": [
        "#insertion sort\n",
        "l = list(eval(input(\"Enter a list: \")))\n",
        "for i in range(1, len(l)):\n",
        "        val = l[i]\n",
        "        j = i - 1\n",
        "        while j >= 0 and val < l[j]:\n",
        "            l[j + 1] = l[j]\n",
        "            j -= 1\n",
        "        l[j + 1] = val\n",
        "print(l)\n",
        "\n",
        "\n",
        "\n"
      ],
      "metadata": {
        "colab": {
          "base_uri": "https://localhost:8080/"
        },
        "id": "DFMvf3GACjqG",
        "outputId": "176cb52a-ff6f-400c-e172-7652a061b51f"
      },
      "execution_count": 14,
      "outputs": [
        {
          "output_type": "stream",
          "name": "stdout",
          "text": [
            "Enter a list: 1,3,2,4,5\n",
            "[1, 2, 3, 4, 5]\n"
          ]
        }
      ]
    },
    {
      "cell_type": "code",
      "source": [
        "#calculator\n",
        "num1=int(input(\"Enter first number\"))\n",
        "num2=int(input(\"Enter second number\"))\n",
        "operator=input(\"enter the operator\")\n",
        "match operator:\n",
        "  case \"+\":\n",
        "    print(\"The sum is\",num1+num2)\n",
        "  case \"+\":\n",
        "    print(\"The sum is\",num1+num2)\n",
        "  case \"-\":\n",
        "    print(\"The sub is\",num1-num2)\n",
        "  case \"*\":\n",
        "    print(\"The multiplication is\",num1*num2)\n",
        "  case \"/\":\n",
        "    print(\"The division is\",num1/num2)\n",
        "  case \"**\":\n",
        "    print(\"The power is\",num1**num2)\n",
        "  case _:\n",
        "    print(\"Enter valid operator(+,-,*,/,**)\")\n",
        ""
      ],
      "metadata": {
        "id": "S-JX24Dr_UrK"
      },
      "execution_count": null,
      "outputs": []
    },
    {
      "cell_type": "code",
      "source": [
        "#Bubble sort\n",
        "l = list(eval(input(\"Enter a list: \")))\n",
        "# for j in range(len(l)):\n",
        "for i in range(len(l)-1):\n",
        "    if(l[i]>l[i+1]):\n",
        "      l[i],l[i+1]=l[i+1],l[i]\n",
        "print(l)"
      ],
      "metadata": {
        "colab": {
          "base_uri": "https://localhost:8080/"
        },
        "id": "eNZYfWUQAiJ6",
        "outputId": "624eb765-ac96-4c45-d7af-9d403f4173c6"
      },
      "execution_count": 11,
      "outputs": [
        {
          "output_type": "stream",
          "name": "stdout",
          "text": [
            "Enter a list: 1,4,2,3,5\n",
            "[1, 2, 3, 4, 5]\n"
          ]
        }
      ]
    }
  ]
}
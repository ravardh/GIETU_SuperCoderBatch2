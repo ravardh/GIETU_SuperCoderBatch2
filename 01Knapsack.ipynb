{
  "nbformat": 4,
  "nbformat_minor": 0,
  "metadata": {
    "colab": {
      "provenance": [],
      "authorship_tag": "ABX9TyOzng7UDCQseb67X30zQ+y6",
      "include_colab_link": true
    },
    "kernelspec": {
      "name": "python3",
      "display_name": "Python 3"
    },
    "language_info": {
      "name": "python"
    }
  },
  "cells": [
    {
      "cell_type": "markdown",
      "metadata": {
        "id": "view-in-github",
        "colab_type": "text"
      },
      "source": [
        "<a href=\"https://colab.research.google.com/github/ravardh/GIETU_SuperCoderBatch2/blob/Kundan_21cse046/01Knapsack.ipynb\" target=\"_parent\"><img src=\"https://colab.research.google.com/assets/colab-badge.svg\" alt=\"Open In Colab\"/></a>"
      ]
    },
    {
      "cell_type": "code",
      "source": [
        "def knapsack_bag_capacity(capacity, weights, prices):\n",
        "    n = len(prices)\n",
        "    table = [[0] * (capacity + 1) for _ in range(n + 1)]\n",
        "\n",
        "    for i in range(1, n + 1):\n",
        "        for w in range(1, capacity + 1):\n",
        "            if weights[i - 1] <= w:\n",
        "                table[i][w] = max(prices[i - 1] + table[i - 1][w - weights[i - 1]], table[i - 1][w])\n",
        "            else:\n",
        "                table[i][w] = table[i - 1][w]\n",
        "\n",
        "    max_value = table[n][capacity]\n",
        "\n",
        "    included_items = []\n",
        "    w = capacity\n",
        "    for i in range(n, 0, -1):\n",
        "        if table[i][w] != table[i - 1][w]:\n",
        "            included_items.append(i - 1)\n",
        "            w -= weights[i - 1]\n",
        "\n",
        "    return max_value, included_items\n",
        "\n",
        "capacity = 15\n",
        "prices = [10, 5, 15, 7, 6, 18, 3]\n",
        "weights = [2, 3, 5, 7, 1, 4, 1]\n",
        "\n",
        "max_value, included_items = knapsack_bag_capacity(capacity, weights, prices)\n",
        "print(\"Maximum value:\", max_value)\n",
        "print(\"Included items (0-based indices):\", included_items)"
      ],
      "metadata": {
        "colab": {
          "base_uri": "https://localhost:8080/"
        },
        "id": "2iEfAkONkIcG",
        "outputId": "a5d227f9-798e-4390-d8ec-845dc3155620"
      },
      "execution_count": 48,
      "outputs": [
        {
          "output_type": "stream",
          "name": "stdout",
          "text": [
            "Maximum value: 54\n",
            "Included items (0-based indices): [5, 4, 2, 1, 0]\n"
          ]
        }
      ]
    }
  ]
}
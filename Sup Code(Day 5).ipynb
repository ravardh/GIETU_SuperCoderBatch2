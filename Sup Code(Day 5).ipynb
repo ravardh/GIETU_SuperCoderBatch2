{
 "cells": [
  {
   "cell_type": "code",
   "execution_count": 5,
   "id": "8b86c770",
   "metadata": {},
   "outputs": [
    {
     "name": "stdout",
     "output_type": "stream",
     "text": [
      "Left view of the binary tree: [1, 5, 2]\n"
     ]
    }
   ],
   "source": [
    "#Left View\n",
    "class Node:\n",
    "    def __init__(self, val=0, left=None, right=None):\n",
    "        self.val = val\n",
    "        self.left = left\n",
    "        self.right = right\n",
    "\n",
    "def left_view(root):\n",
    "    if not root:\n",
    "        return []\n",
    "\n",
    "    left_view_nodes = []\n",
    "    queue = [(root, 0)]\n",
    "\n",
    "    while queue:\n",
    "        node, level = queue.pop(0)\n",
    "\n",
    "        if len(left_view_nodes) == level:\n",
    "            left_view_nodes.append(node.val)\n",
    "\n",
    "        if node.left:\n",
    "            queue.append((node.left, level + 1))\n",
    "        if node.right:\n",
    "            queue.append((node.right, level + 1))\n",
    "\n",
    "    return left_view_nodes\n",
    "\n",
    "root = Node(1)\n",
    "root.left = Node(5)\n",
    "root.right = Node(7)\n",
    "root.left.left = Node(2)\n",
    "root.left.right = Node(5)\n",
    "root.right.left = Node(6)\n",
    "root.right.right = Node(7)\n",
    "\n",
    "print(\"Left view of the binary tree:\", left_view(root))  \n"
   ]
  },
  {
   "cell_type": "code",
   "execution_count": 3,
   "id": "c1e8c6a7",
   "metadata": {},
   "outputs": [
    {
     "name": "stdout",
     "output_type": "stream",
     "text": [
      "Right view of the binary tree: [1, 3, 7]\n"
     ]
    }
   ],
   "source": [
    "#Right View\n",
    "class node:\n",
    "    def __init__(self, val=0, left=None, right=None):\n",
    "        self.val = val\n",
    "        self.left = left\n",
    "        self.right = right\n",
    "\n",
    "def right_view(root):\n",
    "    if not root:\n",
    "        return []\n",
    "\n",
    "    right_view_nodes = []\n",
    "    queue = [(root, 0)]\n",
    "\n",
    "    while queue:\n",
    "        node, level = queue.pop(0)\n",
    "\n",
    "        if len(right_view_nodes) == level:\n",
    "            right_view_nodes.append(node.val)\n",
    "\n",
    "        if node.right:\n",
    "            queue.append((node.right, level + 1))\n",
    "        if node.left:\n",
    "            queue.append((node.left, level + 1))\n",
    "\n",
    "    return right_view_nodes\n",
    "\n",
    "\n",
    "root = node(1)\n",
    "root.left = node(2)\n",
    "root.right = node(3)\n",
    "root.left.left = node(4)\n",
    "root.left.right = node(5)\n",
    "root.right.left = node(6)\n",
    "root.right.right = node(7)\n",
    "\n",
    "print(\"Right view of the binary tree:\", right_view(root))  \n"
   ]
  },
  {
   "cell_type": "code",
   "execution_count": 4,
   "id": "7a23480e",
   "metadata": {},
   "outputs": [
    {
     "name": "stdout",
     "output_type": "stream",
     "text": [
      "Number of nodes: 6\n"
     ]
    }
   ],
   "source": [
    "class TreeNode:\n",
    "    def __init__(self, value):\n",
    "        self.value = value\n",
    "        self.left = None\n",
    "        self.right = None\n",
    "\n",
    "def count_nodes(root):\n",
    "    if root is None:\n",
    "        return 0\n",
    "    return 1 + count_nodes(root.left) + count_nodes(root.right)\n",
    "\n",
    "root = TreeNode(1)\n",
    "root.left = TreeNode(2)\n",
    "root.right = TreeNode(3)\n",
    "root.left.left = TreeNode(4)\n",
    "root.left.right = TreeNode(5)\n",
    "root.left.right.right = TreeNode(8)\n",
    "\n",
    "\n",
    "print(\"Number of nodes:\", count_nodes(root))  \n"
   ]
  },
  {
   "cell_type": "code",
   "execution_count": null,
   "id": "448ead68",
   "metadata": {},
   "outputs": [],
   "source": []
  }
 ],
 "metadata": {
  "kernelspec": {
   "display_name": "Python 3 (ipykernel)",
   "language": "python",
   "name": "python3"
  },
  "language_info": {
   "codemirror_mode": {
    "name": "ipython",
    "version": 3
   },
   "file_extension": ".py",
   "mimetype": "text/x-python",
   "name": "python",
   "nbconvert_exporter": "python",
   "pygments_lexer": "ipython3",
   "version": "3.11.5"
  }
 },
 "nbformat": 4,
 "nbformat_minor": 5
}

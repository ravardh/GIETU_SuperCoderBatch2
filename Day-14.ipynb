{
 "cells": [
  {
   "cell_type": "markdown",
   "id": "f29a37ac-aa16-4ad4-b96a-8d70b749a892",
   "metadata": {},
   "source": [
    "item :    0   1     2    3    4     5     6  \n",
    "price:    10  5   15     7    6     18    3\n",
    "weight:   2   3    5     7    1      4    1\n",
    "Bag capacity:15kg\n",
    "Constraint: maximize the sum of price\n",
    "weight should be not more than bag capacity\n",
    "the problem is which item we can take that will satisfy the condition along with highest profit"
   ]
  },
  {
   "cell_type": "code",
   "execution_count": 2,
   "id": "9a119b1c-866b-43ec-97a5-9abb1b28ad23",
   "metadata": {},
   "outputs": [
    {
     "name": "stdout",
     "output_type": "stream",
     "text": [
      "Maximum value: 54\n",
      "Items Include: [0, 1, 2, 4, 5]\n"
     ]
    }
   ],
   "source": [
    "def knapsack(capacity, weights, prices):\n",
    "    n = len(prices)\n",
    "    table = [[0] * (capacity + 1) for _ in range(n + 1)]\n",
    "\n",
    "    for i in range(1, n + 1):\n",
    "        for w in range(1, capacity + 1):\n",
    "            if weights[i - 1] <= w:\n",
    "                table[i][w] = max(prices[i - 1] + table[i - 1][w - weights[i - 1]], table[i - 1][w])\n",
    "            else:\n",
    "                table[i][w] = table[i - 1][w]\n",
    "\n",
    "    maxValue = table[n][capacity]\n",
    "\n",
    "    items = []\n",
    "    w = capacity\n",
    "    for i in range(n, 0, -1):\n",
    "        if table[i][w] != table[i - 1][w]:\n",
    "            items.append(i - 1)\n",
    "            w -= weights[i - 1]\n",
    "    sortItems = sorted(items)\n",
    "    return maxValue, sortItems\n",
    "\n",
    "capacity = 15\n",
    "prices = [10, 5, 15, 7, 6, 18, 3]\n",
    "weights = [2, 3, 5, 7, 1, 4, 1]\n",
    "\n",
    "maxValue, items = knapsack(capacity, weights, prices)\n",
    "print(\"Maximum value:\", maxValue)\n",
    "print(\"Items Include:\", items)"
   ]
  }
 ],
 "metadata": {
  "kernelspec": {
   "display_name": "Python 3 (ipykernel)",
   "language": "python",
   "name": "python3"
  },
  "language_info": {
   "codemirror_mode": {
    "name": "ipython",
    "version": 3
   },
   "file_extension": ".py",
   "mimetype": "text/x-python",
   "name": "python",
   "nbconvert_exporter": "python",
   "pygments_lexer": "ipython3",
   "version": "3.10.9"
  }
 },
 "nbformat": 4,
 "nbformat_minor": 5
}

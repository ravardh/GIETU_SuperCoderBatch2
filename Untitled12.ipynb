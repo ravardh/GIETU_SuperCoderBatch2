{
 "cells": [
  {
   "cell_type": "code",
   "execution_count": 8,
   "id": "f34092e3",
   "metadata": {},
   "outputs": [
    {
     "name": "stdout",
     "output_type": "stream",
     "text": [
      "Vertex \t Distance from Source\n",
      "0\t 0\n",
      "1\t 4\n",
      "2\t 12\n",
      "3\t 19\n",
      "4\t 21\n",
      "5\t 11\n",
      "6\t 9\n",
      "7\t 8\n",
      "8\t 14\n"
     ]
    }
   ],
   "source": [
    "class Graph:\n",
    "    def __init__(self, vertices):\n",
    "        self.V = vertices\n",
    "        self.graph = []\n",
    "\n",
    "    def dijkstra(self, src):\n",
    "        dist = [float('inf')] * self.V\n",
    "        sptSet = [False] * self.V\n",
    "        dist[src] = 0\n",
    "        for _ in range(self.V):\n",
    "                u = self.minDistance(dist, sptSet)\n",
    "                sptSet[u] = True\n",
    "\n",
    "                for v in range(self.V):\n",
    "                    if self.graph[u][v] > 0 and not sptSet[v] and dist[v] > dist[u] + self.graph[u][v]:\n",
    "                        dist[v] = dist[u] + self.graph[u][v]\n",
    "\n",
    "        self.printSolution(src, dist)\n",
    "\n",
    "    def printSolution(self, src, dist):\n",
    "        print(\"Vertex \\t Distance from Source\")\n",
    "        for node in range(self.V):\n",
    "            print(f\"{node}\\t {dist[node]}\")\n",
    "            \n",
    "    def minDistance(self, dist, sptSet):\n",
    "        min_value = float('inf')\n",
    "        min_index = -1\n",
    "\n",
    "        for v in range(self.V):\n",
    "            if dist[v] < min_value and not sptSet[v]:\n",
    "                min_value = dist[v]\n",
    "                min_index = v\n",
    "\n",
    "        return min_index\n",
    "\n",
    "\n",
    "g = Graph(9)\n",
    "g.graph = [[0, 4, 0, 0, 0, 0, 0, 8, 0],\n",
    "           [4, 0, 8, 0, 0, 0, 0, 11, 0],\n",
    "           [0, 8, 0, 7, 0, 4, 0, 0, 2],\n",
    "           [0, 0, 7, 0, 9, 14, 0, 0, 0],\n",
    "           [0, 0, 0, 9, 0, 10, 0, 0, 0],\n",
    "           [0, 0, 4, 14, 10, 0, 2, 0, 0],\n",
    "           [0, 0, 0, 0, 0, 2, 0, 1, 6],\n",
    "           [8, 11, 0, 0, 0, 0, 1, 0, 7],\n",
    "           [0, 0, 2, 0, 0, 0, 6, 7, 0]]\n",
    "\n",
    "# Run Dijkstra's algorithm\n",
    "g.dijkstra(0)"
   ]
  },
  {
   "cell_type": "code",
   "execution_count": null,
   "id": "3d1f3e8c",
   "metadata": {},
   "outputs": [],
   "source": []
  }
 ],
 "metadata": {
  "kernelspec": {
   "display_name": "Python 3 (ipykernel)",
   "language": "python",
   "name": "python3"
  },
  "language_info": {
   "codemirror_mode": {
    "name": "ipython",
    "version": 3
   },
   "file_extension": ".py",
   "mimetype": "text/x-python",
   "name": "python",
   "nbconvert_exporter": "python",
   "pygments_lexer": "ipython3",
   "version": "3.10.9"
  }
 },
 "nbformat": 4,
 "nbformat_minor": 5
}

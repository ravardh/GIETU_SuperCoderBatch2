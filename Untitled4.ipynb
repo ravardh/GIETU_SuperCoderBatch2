{
 "cells": [
  {
   "cell_type": "code",
   "execution_count": 4,
   "id": "cb95145d",
   "metadata": {},
   "outputs": [
    {
     "name": "stdout",
     "output_type": "stream",
     "text": [
      "Height of tree is 3\n"
     ]
    }
   ],
   "source": [
    "#depth of a binry tree\n",
    "\n",
    "class Node:\n",
    "\n",
    "    def __init__(self, data):\n",
    "        self.data = data\n",
    "        self.left = None\n",
    "        self.right = None\n",
    "\n",
    "def maxDepth(node):\n",
    "    if node is None:\n",
    "        return 0\n",
    "\n",
    "    else:\n",
    "\n",
    "        lDepth = maxDepth(node.left)\n",
    "        rDepth = maxDepth(node.right)\n",
    "\n",
    "        if (lDepth > rDepth):\n",
    "            return lDepth+1\n",
    "        else:\n",
    "            return rDepth+1\n",
    "\n",
    "\n",
    "root = Node(1)\n",
    "root.left = Node(2)\n",
    "root.right = Node(3)\n",
    "root.left.left = Node(4)\n",
    "root.left.right = Node(5)\n",
    "\n",
    "\n",
    "print(\"Height of tree is %d\" % (maxDepth(root)))"
   ]
  },
  {
   "cell_type": "code",
   "execution_count": 7,
   "id": "99f8acf8",
   "metadata": {},
   "outputs": [
    {
     "name": "stdout",
     "output_type": "stream",
     "text": [
      "Depth of the binary tree: 3\n",
      "Leaf nodes:\n",
      "29\n",
      "12\n",
      "15\n",
      "21\n"
     ]
    }
   ],
   "source": [
    "class TreeNode:\n",
    "    def __init__(self, value):\n",
    "        self.value = value\n",
    "        self.left = None\n",
    "        self.right = None\n",
    "\n",
    "def find_depth(node):\n",
    "    if not node:\n",
    "        return 0\n",
    "    else:\n",
    "        left_depth = find_depth(node.left)\n",
    "        right_depth = find_depth(node.right)\n",
    "        return max(left_depth, right_depth) + 1\n",
    "\n",
    "def print_leaf_nodes(node):\n",
    "    if not node:\n",
    "        return\n",
    "    if not node.left and not node.right:\n",
    "        print(node.value)  \n",
    "    print_leaf_nodes(node.left)\n",
    "    print_leaf_nodes(node.right)\n",
    "\n",
    "root = TreeNode(10)\n",
    "root.left = TreeNode(23)\n",
    "root.right = TreeNode(25)\n",
    "root.left.left = TreeNode(29)\n",
    "root.left.right = TreeNode(12)\n",
    "root.right.left = TreeNode(15)\n",
    "root.right.right = TreeNode(21)\n",
    "\n",
    "depth = find_depth(root)\n",
    "print(\"Depth of the binary tree:\", depth)\n",
    "\n",
    "print(\"Leaf nodes:\")\n",
    "print_leaf_nodes(root)"
   ]
  },
  {
   "cell_type": "code",
   "execution_count": 10,
   "id": "a021ad55",
   "metadata": {},
   "outputs": [
    {
     "ename": "SyntaxError",
     "evalue": "invalid syntax (2059569316.py, line 9)",
     "output_type": "error",
     "traceback": [
      "\u001b[1;36m  Cell \u001b[1;32mIn[10], line 9\u001b[1;36m\u001b[0m\n\u001b[1;33m    the topView\u001b[0m\n\u001b[1;37m        ^\u001b[0m\n\u001b[1;31mSyntaxError\u001b[0m\u001b[1;31m:\u001b[0m invalid syntax\n"
     ]
    }
   ],
   "source": [
    "class newNode:\n",
    " \n",
    "    def __init__(self, key):\n",
    "        self.data = key\n",
    "        self.left = None\n",
    "        self.right = None\n",
    "        self.hd = 0\n",
    " \n",
    "the topView\n",
    "\n",
    " \n",
    "def topview(root):\n",
    " \n",
    "    if(root == None):\n",
    "        return\n",
    "    q = []\n",
    "    m = dict()\n",
    "    hd = 0\n",
    "    root.hd = hd\n",
    "while(len(q)):\n",
    "        root = q[0]\n",
    "        hd = root.hd\n",
    " \n",
    "        \n",
    "        if hd not in m:\n",
    "            m[hd] = root.data\n",
    "        if(root.left):\n",
    "            root.left.hd = hd - 1\n",
    "            q.append(root.left)\n",
    " \n",
    "        if(root.right):\n",
    "            root.right.hd = hd + 1\n",
    "            q.append(root.right)\n",
    " \n",
    "        q.pop(0)\n",
    "for i in sorted(m):\n",
    "        print(m[i], end=\" \")\n",
    " \n",
    " \n",
    "# Driver Code\n",
    "if __name__ == '__main__':\n",
    "    root = newNode(1)\n",
    "    root.left = newNode(2)\n",
    "    root.right = newNode(3)\n",
    "    root.left.right = newNode(4)\n",
    "    root.left.right.right = newNode(5)\n",
    "    root.left.right.right.right = newNode(6)\n",
    "    print(\"The top view of the tree is: \")\n",
    "    topview(root)\n",
    " "
   ]
  },
  {
   "cell_type": "code",
   "execution_count": null,
   "id": "299f2bd1",
   "metadata": {},
   "outputs": [],
   "source": []
  }
 ],
 "metadata": {
  "kernelspec": {
   "display_name": "Python 3 (ipykernel)",
   "language": "python",
   "name": "python3"
  },
  "language_info": {
   "codemirror_mode": {
    "name": "ipython",
    "version": 3
   },
   "file_extension": ".py",
   "mimetype": "text/x-python",
   "name": "python",
   "nbconvert_exporter": "python",
   "pygments_lexer": "ipython3",
   "version": "3.10.9"
  }
 },
 "nbformat": 4,
 "nbformat_minor": 5
}

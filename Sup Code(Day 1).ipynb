{
 "cells": [
  {
   "cell_type": "code",
   "execution_count": 13,
   "id": "f90cf22b",
   "metadata": {},
   "outputs": [
    {
     "name": "stdout",
     "output_type": "stream",
     "text": [
      "Enter operation +, -, *, /: =\n",
      "Enter first number: 12\n",
      "Enter second number: 12\n",
      "Result is: Invalid operation\n"
     ]
    }
   ],
   "source": [
    "#Calculator using match case\n",
    "\n",
    "op = input(\"Enter operation +, -, *, /: \")\n",
    "x = int(input(\"Enter first number: \"))\n",
    "y = int(input(\"Enter second number: \"))\n",
    "def add(a,b):\n",
    "    return a+b\n",
    "def sub(a,b):\n",
    "    return a-b\n",
    "def mul(a,b):\n",
    "    return a*b\n",
    "def div(a,b):\n",
    "        return a/b\n",
    "def calc(op, a,b):\n",
    "    match op:\n",
    "        case \"+\":\n",
    "            res = add(a,b)\n",
    "        case \"-\":\n",
    "            res = sub(a,b)\n",
    "        case \"*\":\n",
    "            res = mul(a,b)\n",
    "        case \"/\":\n",
    "            res = div(a,b)\n",
    "        case _:\n",
    "            res = \"Invalid operation\"\n",
    "    return res\n",
    "print(\"Result is:\", calc(op,x,y))"
   ]
  },
  {
   "cell_type": "code",
   "execution_count": 19,
   "id": "5755295e",
   "metadata": {},
   "outputs": [
    {
     "name": "stdout",
     "output_type": "stream",
     "text": [
      "Enter number of elements : 5\n",
      "1\n",
      "2\n",
      "34\n",
      "5\n",
      "6\n",
      "[1, 2, 34, 5, 6]\n",
      "Sorted Array in Ascending Order:\n",
      "[1, 2, 5, 6, 34]\n"
     ]
    }
   ],
   "source": [
    "# Selection Sort\n",
    "\n",
    "lst = []\n",
    "n = int(input(\"Enter number of elements : \"))\n",
    "for i in range(0, n):\n",
    "    ele = int(input())\n",
    "    lst.append(ele) \n",
    "print(lst)\n",
    "a=lst\n",
    "size = len(a)\n",
    "def selSort(arr,size):\n",
    "    for i in range(size):\n",
    "        min=i\n",
    "        for j in range(i + 1,size):\n",
    "            if arr[j]<arr[min]:\n",
    "                min=j\n",
    "        (arr[i], arr[min]) = (arr[min], arr[i])\n",
    "selSort(a,size)\n",
    "print('Array in Ascending Order:')\n",
    "print(a)"
   ]
  },
  {
   "cell_type": "code",
   "execution_count": 23,
   "id": "d6d78190",
   "metadata": {},
   "outputs": [
    {
     "name": "stdout",
     "output_type": "stream",
     "text": [
      "Enter number of elements : 5\n",
      "12\n",
      "34\n",
      "12\n",
      "2\n",
      "45\n",
      "[12, 34, 12, 2, 45]\n",
      "Array in Ascending Order:\n",
      "[2, 12, 12, 34, 45]\n"
     ]
    }
   ],
   "source": [
    "# Bubble Sort\n",
    "\n",
    "lst = []\n",
    "n = int(input(\"Enter number of elements : \"))\n",
    "for i in range(0, n):\n",
    "    ele = int(input())\n",
    "    lst.append(ele) \n",
    "print(lst)\n",
    "arr=lst\n",
    "size = len(arr)\n",
    "\n",
    "def bubbleSort(arr):\n",
    "  for i in range(len(arr)):\n",
    "    for j in range(0, len(arr)-i-1):\n",
    "      if arr[j]>arr[j+1]:\n",
    "        temp=arr[j]\n",
    "        arr[j]=arr[j+1]\n",
    "        arr[j+1]=temp\n",
    "        \n",
    "bubbleSort(arr)\n",
    "print('Array in Ascending Order:')\n",
    "print(arr)"
   ]
  },
  {
   "cell_type": "code",
   "execution_count": 25,
   "id": "952572e2",
   "metadata": {},
   "outputs": [
    {
     "name": "stdout",
     "output_type": "stream",
     "text": [
      "Enter number of elements : 6\n",
      "2\n",
      "34\n",
      "1\n",
      "23\n",
      "12\n",
      "6\n",
      "[2, 34, 1, 23, 12, 6]\n",
      "Array in Ascending Order:\n",
      "[1, 2, 6, 12, 23, 34]\n"
     ]
    }
   ],
   "source": [
    "#Insertion Sort\n",
    "\n",
    "lst = []\n",
    "n = int(input(\"Enter number of elements : \"))\n",
    "for i in range(0, n):\n",
    "    ele = int(input())\n",
    "    lst.append(ele) \n",
    "print(lst)\n",
    "arr=lst\n",
    "\n",
    "size = len(arr)\n",
    "\n",
    "def insertionSort(array):\n",
    "\n",
    "    for i in range(1, size):\n",
    "        key=arr[i]\n",
    "        j=i-1   \n",
    "        while j>=0 and key<arr[j]:\n",
    "            arr[j+1]=arr[j]\n",
    "            j=j-1\n",
    "        arr[j+1]=key\n",
    "        \n",
    "insertionSort(arr)\n",
    "print('Array in Ascending Order:')\n",
    "print(arr)\n"
   ]
  },
  {
   "cell_type": "code",
   "execution_count": null,
   "id": "bc523065",
   "metadata": {},
   "outputs": [],
   "source": []
  }
 ],
 "metadata": {
  "kernelspec": {
   "display_name": "Python 3 (ipykernel)",
   "language": "python",
   "name": "python3"
  },
  "language_info": {
   "codemirror_mode": {
    "name": "ipython",
    "version": 3
   },
   "file_extension": ".py",
   "mimetype": "text/x-python",
   "name": "python",
   "nbconvert_exporter": "python",
   "pygments_lexer": "ipython3",
   "version": "3.11.5"
  }
 },
 "nbformat": 4,
 "nbformat_minor": 5
}

{
 "cells": [
  {
   "cell_type": "code",
   "execution_count": 1,
   "id": "0259f8d9",
   "metadata": {},
   "outputs": [],
   "source": [
    "#sliding window\n",
    "a=[1,3,5,2,7,4,8,9,5,3,5,7,9,3,2,0]\n",
    "#grades or ranking of students"
   ]
  },
  {
   "cell_type": "code",
   "execution_count": 2,
   "id": "19238eb9",
   "metadata": {},
   "outputs": [
    {
     "name": "stdout",
     "output_type": "stream",
     "text": [
      "Enter the size of array: 5\n",
      "1\n",
      "2\n",
      "9\n",
      "3\n",
      "7\n",
      "Enter the value of k: 3\n",
      "Maximum sum of subarray of length 3 : 19\n"
     ]
    }
   ],
   "source": [
    "#Sliding Window\n",
    "def max_sum_subarray(a, k):\n",
    "    if k > len(a):\n",
    "        return \"k is greater than length of array\"\n",
    "    \n",
    "    max_sum = sum(a[:k])  \n",
    "    win_sum = max_sum \n",
    "    \n",
    "    for i in range(len(a) - k):  \n",
    "        win_sum = win_sum - a[i] + a[i + k]  \n",
    "        max_sum = max(max_sum, win_sum)  \n",
    "        \n",
    "    return max_sum\n",
    "\n",
    "a=[]\n",
    "n=int(input(\"Enter the size of array: \"))\n",
    "for i in range(n):\n",
    "    e=int(input())\n",
    "    a.append(e)\n",
    "k = int(input(\"Enter the value of k: \"))\n",
    "print(\"Maximum sum of subarray of length\", k, \":\", max_sum_subarray(a, k))"
   ]
  },
  {
   "cell_type": "code",
   "execution_count": 3,
   "id": "6ddecee0",
   "metadata": {},
   "outputs": [
    {
     "name": "stdout",
     "output_type": "stream",
     "text": [
      "Maximum sum of three consecutive numbers: 22\n",
      "Consecutive numbers: 8 9 5\n"
     ]
    }
   ],
   "source": [
    "a = [1, 3, 5, 2, 7, 4, 8, 9, 5, 3, 5, 7, 9, 3, 2, 0]\n",
    "\n",
    "max_sum = 1  \n",
    "for i in range(len(a) - 2):\n",
    "    current_sum = a[i] + a[i + 1] + a[i + 2]\n",
    "    if current_sum > max_sum:\n",
    "        max_sum = current_sum\n",
    "        max_indices = (i, i + 1, i + 2)  \n",
    "print(\"Maximum sum of three consecutive numbers:\", max_sum)\n",
    "print(\"Consecutive numbers:\", a[max_indices[0]], a[max_indices[1]], a[max_indices[2]])\n"
   ]
  },
  {
   "cell_type": "code",
   "execution_count": 4,
   "id": "619bee6e",
   "metadata": {},
   "outputs": [
    {
     "name": "stdout",
     "output_type": "stream",
     "text": [
      "Pattern found at positions: [0, 9, 12]\n"
     ]
    }
   ],
   "source": [
    "def pattern_matching(text, pattern):\n",
    "    matches = []\n",
    "    pattern_length = len(pattern)\n",
    "    text_length = len(text)\n",
    "\n",
    "    for i in range(text_length - pattern_length + 1):\n",
    "        if text[i:i+pattern_length] == pattern:\n",
    "            matches.append(i)\n",
    "\n",
    "    return matches\n",
    "\n",
    "# Example usage:\n",
    "text = \"AABAACAADAABAABA\"\n",
    "pattern = \"AABA\"\n",
    "print(\"Pattern found at positions:\", pattern_matching(text, pattern))\n"
   ]
  }
 ],
 "metadata": {
  "kernelspec": {
   "display_name": "Python 3 (ipykernel)",
   "language": "python",
   "name": "python3"
  },
  "language_info": {
   "codemirror_mode": {
    "name": "ipython",
    "version": 3
   },
   "file_extension": ".py",
   "mimetype": "text/x-python",
   "name": "python",
   "nbconvert_exporter": "python",
   "pygments_lexer": "ipython3",
   "version": "3.9.13"
  }
 },
 "nbformat": 4,
 "nbformat_minor": 5
}

{
 "cells": [
  {
   "cell_type": "code",
   "execution_count": 1,
   "id": "4e72f8fe",
   "metadata": {},
   "outputs": [
    {
     "name": "stdout",
     "output_type": "stream",
     "text": [
      "10 2 7 14 "
     ]
    }
   ],
   "source": [
    "#Left view\n",
    "class Node:\n",
    "    def __init__(self, data):\n",
    "        self.data = data\n",
    "        self.left = None\n",
    "        self.right = None\n",
    "\n",
    "def leftViewUtil(root, level, max_level):\n",
    "    if root is None:\n",
    "        return\n",
    "    if (max_level[0] < level):\n",
    "        print (root.data, end = \" \")\n",
    "        max_level[0] = level\n",
    "\n",
    "    leftViewUtil(root.left, level + 1, max_level)\n",
    "    leftViewUtil(root.right, level + 1, max_level)\n",
    "\n",
    "def leftView(root):\n",
    "    max_level = [0]\n",
    "    leftViewUtil(root, 1, max_level)\n",
    "\n",
    "if __name__ == '__main__':\n",
    "    root = Node(10)\n",
    "    root.left = Node(2)\n",
    "    root.right = Node(3)\n",
    "    root.left.left = Node(7)\n",
    "    root.left.right = Node(8)\n",
    "    root.right.right = Node(15)\n",
    "    root.right.left = Node(12)\n",
    "    root.right.right.left = Node(14)\n",
    "    leftView(root)"
   ]
  },
  {
   "cell_type": "code",
   "execution_count": 2,
   "id": "29528870",
   "metadata": {},
   "outputs": [
    {
     "name": "stdout",
     "output_type": "stream",
     "text": [
      "10 3 15 14 "
     ]
    }
   ],
   "source": [
    "#Right View\n",
    "class newNode:\n",
    "    def __init__(self, key): \n",
    "        self.data = key\n",
    "        self.left = None\n",
    "        self.right = None\n",
    "        self.hd = 0\n",
    "\n",
    "def printRightView(root):\n",
    "    if (not root): \n",
    "        return\n",
    "    q = [] \n",
    "    q.append(root) \n",
    "\n",
    "    while (len(q)):\n",
    "        n = len(q) \n",
    "        for i in range(1, n + 1):\n",
    "            temp = q[0] \n",
    "            q.pop(0)\n",
    "            if (i == n) :\n",
    "                print(temp.data, end = \" \" )\n",
    "            if (temp.left != None) :\n",
    "                q.append(temp.left)\n",
    "            if (temp.right != None) :\n",
    "                q.append(temp.right) \n",
    "\n",
    "if __name__ == '__main__':\n",
    "    root = newNode(10) \n",
    "    root.left = newNode(2) \n",
    "    root.right = newNode(3) \n",
    "    root.left.left = newNode(7) \n",
    "    root.left.right = newNode(8) \n",
    "    root.right.right = newNode(15) \n",
    "    root.right.left = newNode(12) \n",
    "    root.right.right.left = newNode(14)\n",
    "    printRightView(root)"
   ]
  },
  {
   "cell_type": "code",
   "execution_count": null,
   "id": "ad57eaf9",
   "metadata": {},
   "outputs": [],
   "source": []
  }
 ],
 "metadata": {
  "kernelspec": {
   "display_name": "Python 3 (ipykernel)",
   "language": "python",
   "name": "python3"
  },
  "language_info": {
   "codemirror_mode": {
    "name": "ipython",
    "version": 3
   },
   "file_extension": ".py",
   "mimetype": "text/x-python",
   "name": "python",
   "nbconvert_exporter": "python",
   "pygments_lexer": "ipython3",
   "version": "3.9.13"
  }
 },
 "nbformat": 4,
 "nbformat_minor": 5
}

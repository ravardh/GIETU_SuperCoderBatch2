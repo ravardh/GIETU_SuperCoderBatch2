{
  "nbformat": 4,
  "nbformat_minor": 0,
  "metadata": {
    "colab": {
      "provenance": []
    },
    "kernelspec": {
      "name": "python3",
      "display_name": "Python 3"
    },
    "language_info": {
      "name": "python"
    }
  },
  "cells": [
    {
      "cell_type": "code",
      "execution_count": 2,
      "metadata": {
        "colab": {
          "base_uri": "https://localhost:8080/"
        },
        "id": "zUGvp5oUj1sj",
        "outputId": "0c2d07dc-1e63-4fdc-d7fc-fe6bef7e5bad"
      },
      "outputs": [
        {
          "output_type": "stream",
          "name": "stdout",
          "text": [
            "Maximum profit: 40\n",
            "Scheduled jobs: ['J1', 'J4', 'J5']\n"
          ]
        }
      ],
      "source": [
        "def job_sequencing(jobs):\n",
        "    jobs.sort(key=lambda x: x[2], reverse=True)\n",
        "    max_deadline = max(jobs, key=lambda x: x[1])[1]\n",
        "    schedule = [-1] * max_deadline\n",
        "    total_profit = 0\n",
        "\n",
        "    for job in jobs:\n",
        "        deadline = job[1] - 1\n",
        "        while deadline >= 0:\n",
        "            if schedule[deadline] == -1:\n",
        "                schedule[deadline] = job[0]\n",
        "                total_profit += job[2]\n",
        "                break\n",
        "            deadline -= 1\n",
        "\n",
        "    return total_profit, [job_id for job_id in schedule if job_id != -1]\n",
        "\n",
        "\n",
        "# Example usage\n",
        "jobs = [(\"J1\", 2, 15), (\"J2\", 3, 1), (\"J3\", 1, 10), (\"J4\", 2, 20), (\"J5\", 3, 5)]\n",
        "profit, schedule = job_sequencing(jobs)\n",
        "print(\"Maximum profit:\", profit)\n",
        "print(\"Scheduled jobs:\", schedule)"
      ]
    },
    {
      "cell_type": "code",
      "source": [],
      "metadata": {
        "id": "gy-VwaylkGQk"
      },
      "execution_count": null,
      "outputs": []
    }
  ]
}
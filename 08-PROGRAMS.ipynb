{
 "cells": [
  {
   "cell_type": "code",
   "execution_count": null,
   "id": "cdf6d2c4",
   "metadata": {},
   "outputs": [],
   "source": [
    "class Node:\n",
    "    def __init__(self, data):\n",
    "        self.data = data\n",
    "        self.left = None\n",
    "        self.right = None\n",
    "\n",
    "def insert(root, data):\n",
    "    if data<root.data:\n",
    "        if root.left == None:\n",
    "            root.left=Node(data)\n",
    "            return\n",
    "        else:\n",
    "            insert(root.left,data)\n",
    "\n",
    "    if data > root.data:\n",
    "        if root.right == None:\n",
    "            root.right = Node(data)\n",
    "            return\n",
    "        else:\n",
    "            insert(root.right, data)\n",
    "def preOrder_traversal(root):\n",
    "    if root:\n",
    "        preOrder_traversal(root.left)\n",
    "        print(root.data,end=' ')\n",
    "        preOrder_traversal(root.right)\n",
    "\n",
    "array = [50,36,39,66,75,19,98,76,105,22,42,21]\n",
    "root = Node(array[0])\n",
    "for data in range (1,len(array)):\n",
    "    insert(root,array[data])\n",
    "print(\"prerder Traversal:\")\n",
    "preOrder_traversal(root)\n",
    "\n"
   ]
  }
 ],
 "metadata": {
  "kernelspec": {
   "display_name": "Python 3 (ipykernel)",
   "language": "python",
   "name": "python3"
  },
  "language_info": {
   "codemirror_mode": {
    "name": "ipython",
    "version": 3
   },
   "file_extension": ".py",
   "mimetype": "text/x-python",
   "name": "python",
   "nbconvert_exporter": "python",
   "pygments_lexer": "ipython3",
   "version": "3.11.3"
  }
 },
 "nbformat": 4,
 "nbformat_minor": 5
}

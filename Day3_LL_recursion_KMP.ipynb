{
  "nbformat": 4,
  "nbformat_minor": 0,
  "metadata": {
    "colab": {
      "provenance": []
    },
    "kernelspec": {
      "name": "python3",
      "display_name": "Python 3"
    },
    "language_info": {
      "name": "python"
    }
  },
  "cells": [
    {
      "cell_type": "code",
      "execution_count": 1,
      "metadata": {
        "colab": {
          "base_uri": "https://localhost:8080/"
        },
        "id": "tIOAGpB9f8r1",
        "outputId": "da8b3cbc-ae1c-4231-caed-865ba38fa10e"
      },
      "outputs": [
        {
          "output_type": "stream",
          "name": "stdout",
          "text": [
            "1\n",
            "2\n",
            "3\n",
            "4\n",
            "5\n",
            "Node added into begining\n",
            "0\n",
            "1\n",
            "2\n",
            "3\n",
            "4\n",
            "5\n",
            "Node added into End\n",
            "0\n",
            "1\n",
            "2\n",
            "3\n",
            "4\n",
            "5\n",
            "6\n"
          ]
        }
      ],
      "source": [
        "# LINK LIST\n",
        "class node:\n",
        "    def __init__(self, data=None):\n",
        "        self.data = data\n",
        "        self.next = None\n",
        "\n",
        "\n",
        "newNode = node(1)\n",
        "start = newNode\n",
        "\n",
        "start.next = node(2)\n",
        "start.next.next = node(3)\n",
        "start.next.next.next = node(4)\n",
        "start.next.next.next.next = node(5)\n",
        "\n",
        "temp = start\n",
        "# print(temp)\n",
        "while temp:\n",
        "    print(temp.data)\n",
        "    temp = temp.next\n",
        "\n",
        "\n",
        "n1 = node(0)\n",
        "n1.next = start\n",
        "start = n1\n",
        "print(\"Node added into begining\")\n",
        "\n",
        "temp = start\n",
        "# print(temp)\n",
        "while temp:\n",
        "    print(temp.data)\n",
        "    temp = temp.next\n",
        "\n",
        "\n",
        "n2 = node(6)\n",
        "temp = start\n",
        "while temp.next:\n",
        "    temp = temp.next\n",
        "temp.next = n2\n",
        "print(\"Node added into End\")\n",
        "\n",
        "temp = start\n",
        "# print(temp)\n",
        "while temp:\n",
        "    print(temp.data)\n",
        "    temp = temp.next\n"
      ]
    },
    {
      "cell_type": "code",
      "source": [
        "#Power using recursion\n",
        "def power(x, n):\n",
        "    if n == 0:\n",
        "        return 1\n",
        "    return (x*power(x, n-1))\n",
        "\n",
        "\n",
        "x = int(input(\"enter the base: \"))\n",
        "n = int(input(\"enter the exponent: \"))\n",
        "print(power(x, n))"
      ],
      "metadata": {
        "colab": {
          "base_uri": "https://localhost:8080/"
        },
        "id": "r7l0E5tMgau0",
        "outputId": "60bce5e3-39cc-454a-96b7-1d34060f4b2e"
      },
      "execution_count": 2,
      "outputs": [
        {
          "output_type": "stream",
          "name": "stdout",
          "text": [
            "enter the base: 5\n",
            "enter the exponent: 3\n",
            "125\n"
          ]
        }
      ]
    },
    {
      "cell_type": "code",
      "source": [
        "# KMP\n",
        "\n",
        "def KMPSearch(pat, data):\n",
        "    M = len(pat)\n",
        "    N = len(data)\n",
        "    lps = [0]*M\n",
        "    j = 0\n",
        "    LPS(pat, M, lps)\n",
        "    i = 0\n",
        "    while (N - i) >= (M - j):\n",
        "        if pat[j] == data[i]:\n",
        "            i += 1\n",
        "            j += 1\n",
        "\n",
        "        if j == M:\n",
        "            print(\"Found pattern at index \" + str(i-j))\n",
        "            j = lps[j-1]\n",
        "\n",
        "        elif i < N and pat[j] != data[i]:\n",
        "            if j != 0:\n",
        "                j = lps[j-1]\n",
        "            else:\n",
        "                i += 1\n",
        "\n",
        "\n",
        "def LPS(pat, M, lps):\n",
        "    len = 0\n",
        "    lps[0] = 0\n",
        "    i = 1\n",
        "    while i < M:\n",
        "        if pat[i] == pat[len]:\n",
        "            len += 1\n",
        "            lps[i] = len\n",
        "            i += 1\n",
        "        else:\n",
        "            if len != 0:\n",
        "                len = lps[len-1]\n",
        "            else:\n",
        "                lps[i] = 0\n",
        "                i += 1\n",
        "\n",
        "data = \"ABAABABCABABABCAABABCABAC\"\n",
        "pat = \"ABA\"\n",
        "KMPSearch(pat, data)\n"
      ],
      "metadata": {
        "colab": {
          "base_uri": "https://localhost:8080/"
        },
        "id": "5pVAYyEgghKp",
        "outputId": "5165d5ba-c836-4a8f-dda3-3cbec0bc3e61"
      },
      "execution_count": 3,
      "outputs": [
        {
          "output_type": "stream",
          "name": "stdout",
          "text": [
            "Found pattern at index 0\n",
            "Found pattern at index 3\n",
            "Found pattern at index 8\n",
            "Found pattern at index 10\n",
            "Found pattern at index 16\n",
            "Found pattern at index 21\n"
          ]
        }
      ]
    },
    {
      "cell_type": "code",
      "source": [
        "#Factorial using recursion\n",
        "def factorial(n):\n",
        "    if n == 0:\n",
        "        return 1\n",
        "    return (n*factorial(n-1))\n",
        "\n",
        "n=int(input(\"enter a number: \"))\n",
        "print(factorial(n))"
      ],
      "metadata": {
        "colab": {
          "base_uri": "https://localhost:8080/"
        },
        "id": "FVbsD1AGgp0v",
        "outputId": "dbda6b33-bb24-4c5b-d445-d908d9a2306b"
      },
      "execution_count": 4,
      "outputs": [
        {
          "output_type": "stream",
          "name": "stdout",
          "text": [
            "enter a number: 5\n",
            "120\n"
          ]
        }
      ]
    }
  ]
}
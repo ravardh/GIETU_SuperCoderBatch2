{
  "nbformat": 4,
  "nbformat_minor": 0,
  "metadata": {
    "colab": {
      "provenance": [],
      "authorship_tag": "ABX9TyNvyqWlp2E5ajcvZWBzXyJ4",
      "include_colab_link": true
    },
    "kernelspec": {
      "name": "python3",
      "display_name": "Python 3"
    },
    "language_info": {
      "name": "python"
    }
  },
  "cells": [
    {
      "cell_type": "markdown",
      "metadata": {
        "id": "view-in-github",
        "colab_type": "text"
      },
      "source": [
        "<a href=\"https://colab.research.google.com/github/ravardh/GIETU_SuperCoderBatch2/blob/shrejal_21CSEDS044/git22.ipynb\" target=\"_parent\"><img src=\"https://colab.research.google.com/assets/colab-badge.svg\" alt=\"Open In Colab\"/></a>"
      ]
    },
    {
      "cell_type": "markdown",
      "source": [
        "SLIDING **WINDOW**"
      ],
      "metadata": {
        "id": "E0A2bLBu38L4"
      }
    },
    {
      "cell_type": "code",
      "source": [
        "#Sliding Window\n",
        "def max_sum_subarray(a, k):\n",
        "    if k > len(a):\n",
        "        return \"k is greater than length of array\"\n",
        "\n",
        "    max_sum = sum(a[:k])\n",
        "    win_sum = max_sum\n",
        "\n",
        "    for i in range(len(a) - k):\n",
        "        win_sum = win_sum - a[i] + a[i + k]\n",
        "        max_sum = max(max_sum, win_sum)\n",
        "\n",
        "    return max_sum\n",
        "\n",
        "a=[]\n",
        "n=int(input(\"Enter the size of array: \"))\n",
        "for i in range(n):\n",
        "    e=int(input())\n",
        "    a.append(e)\n",
        "k = int(input(\"Enter the value of k: \"))\n",
        "print(\"Maximum sum of subarray of length\", k, \":\", max_sum_subarray(a, k))"
      ],
      "metadata": {
        "colab": {
          "base_uri": "https://localhost:8080/"
        },
        "id": "HZeDWW_82U_v",
        "outputId": "623b79fd-00e3-49ba-ff80-63f8c2cf7d23"
      },
      "execution_count": 6,
      "outputs": [
        {
          "output_type": "stream",
          "name": "stdout",
          "text": [
            "Enter the size of array: 5\n",
            "1\n",
            "2\n",
            "3\n",
            "4\n",
            "5\n",
            "Enter the value of k: 2\n",
            "Maximum sum of subarray of length 2 : 9\n"
          ]
        }
      ]
    },
    {
      "cell_type": "markdown",
      "source": [
        "**PATTEREN**"
      ],
      "metadata": {
        "id": "RU-JPJtl2DZQ"
      }
    },
    {
      "cell_type": "code",
      "execution_count": 2,
      "metadata": {
        "colab": {
          "base_uri": "https://localhost:8080/"
        },
        "id": "B7QhTjlz1elO",
        "outputId": "65b93d21-61d9-486c-a072-7674d9807e34"
      },
      "outputs": [
        {
          "output_type": "stream",
          "name": "stdout",
          "text": [
            "6\n",
            "12\n"
          ]
        }
      ],
      "source": [
        "#String =ABCBBACBAABACBABC\n",
        "#patteern=CBA\n",
        "\n",
        "def pattern_string(a,p):\n",
        "    if len(p)>len(a):\n",
        "        return \"Length of pattern is greater than length of String\"\n",
        "    k=len(p)\n",
        "    for i in range(len(a)-k+1):\n",
        "        if p==a[i:i+k]:\n",
        "            print(i)\n",
        "a=\"ABCBBACBAABACBABC\"\n",
        "p=\"CBA\"\n",
        "pattern_string(a,p)"
      ]
    },
    {
      "cell_type": "markdown",
      "source": [
        "**MAXIMUM**"
      ],
      "metadata": {
        "id": "_ya3mjkh2G_X"
      }
    },
    {
      "cell_type": "code",
      "source": [
        "def max_in_subarray(a, k):\n",
        "    if k > len(a):\n",
        "        return \"k is greater than length of array\"\n",
        "    li = []\n",
        "    max_e = 0\n",
        "    for i in range(len(a) - k + 1):\n",
        "        if max_e < max(a[i:i + k]):\n",
        "            max_e = max(a[i:i + k])\n",
        "        li.append(max_e)\n",
        "    print(li)\n",
        "\n",
        "a = []\n",
        "n = int(input(\"Enter the size of array: \"))\n",
        "for i in range(n):\n",
        "    e = int(input())\n",
        "    a.append(e)\n",
        "k = int(input(\"Enter the value of k: \"))\n",
        "max_in_subarray(a, k)\n"
      ],
      "metadata": {
        "colab": {
          "base_uri": "https://localhost:8080/"
        },
        "id": "lU_x44dW15Ze",
        "outputId": "ef3c9304-d0de-49b3-a19a-9b887ee9ba04"
      },
      "execution_count": 3,
      "outputs": [
        {
          "output_type": "stream",
          "name": "stdout",
          "text": [
            "Enter the size of array: 3\n",
            "45\n",
            "56\n",
            "2\n",
            "Enter the value of k: 2\n",
            "[56, 56]\n"
          ]
        }
      ]
    }
  ]
}
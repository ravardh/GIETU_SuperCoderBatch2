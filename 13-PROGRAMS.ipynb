{
 "cells": [
  {
   "cell_type": "code",
   "execution_count": null,
   "id": "8b4837f8",
   "metadata": {},
   "outputs": [],
   "source": [
    "def find_minimum_distance_vertex(distances, visited):\n",
    "    min_distance_vertex = None\n",
    "    min_distance = float('inf')\n",
    "\n",
    "    for vertex in range(1, len(distances)):\n",
    "        if vertex not in visited and distances[vertex] < min_distance:\n",
    "            min_distance = distances[vertex]\n",
    "            min_distance_vertex = vertex\n",
    "\n",
    "    return min_distance_vertex\n",
    "\n",
    "def create_adjacency_list(graph):\n",
    "    num_vertices = int(input(\"Enter the number of vertices: \"))\n",
    "    for i in range(1, num_vertices + 1):\n",
    "        connections_list = []\n",
    "        print(f\"Enter the number of connections for vertex {i}:\")\n",
    "        num_connections = int(input())\n",
    "        print(f\"Enter the connections of vertex {i} separated by space (dest weight):\")\n",
    "        for _ in range(num_connections):\n",
    "            destination = int(input(\"Destination: \"))\n",
    "            weight = int(input(\"Weight: \"))\n",
    "            if i == destination:\n",
    "                print(\"Source and destination cannot be the same.\")\n",
    "                exit()\n",
    "            connections_list.append((destination, weight))\n",
    "        graph.append(connections_list)\n",
    "\n",
    "    for idx, connections in enumerate(graph):\n",
    "        print(f\"For vertex {idx + 1}:\")\n",
    "        print(connections)\n",
    "\n",
    "    return graph\n",
    "\n",
    "def find_minimum_distances(graph):\n",
    "    num_vertices = len(graph)\n",
    "    distances = [float('inf')] * (num_vertices + 1)\n",
    "    visited = set()\n",
    "    start_vertex = int(input(\"Enter the start vertex: \"))\n",
    "    distances[start_vertex] = 0\n",
    "\n",
    "    while len(visited) < num_vertices:\n",
    "        current_vertex = find_minimum_distance_vertex(distances, visited)\n",
    "        visited.add(current_vertex)\n",
    "        for destination, weight in graph[current_vertex - 1]:\n",
    "            if destination not in visited:\n",
    "                if distances[destination] > weight + distances[current_vertex]:\n",
    "                    distances[destination] = weight + distances[current_vertex]\n",
    "\n",
    "    for idx in range(1, num_vertices + 1):\n",
    "        print(f\"Minimum distance to vertex {idx}: {distances[idx]}\")\n",
    "\n",
    "graph = []\n",
    "graph = create_adjacency_list(graph)\n",
    "find_minimum_distances(graph)\n"
   ]
  }
 ],
 "metadata": {
  "kernelspec": {
   "display_name": "Python 3 (ipykernel)",
   "language": "python",
   "name": "python3"
  },
  "language_info": {
   "codemirror_mode": {
    "name": "ipython",
    "version": 3
   },
   "file_extension": ".py",
   "mimetype": "text/x-python",
   "name": "python",
   "nbconvert_exporter": "python",
   "pygments_lexer": "ipython3",
   "version": "3.11.3"
  }
 },
 "nbformat": 4,
 "nbformat_minor": 5
}

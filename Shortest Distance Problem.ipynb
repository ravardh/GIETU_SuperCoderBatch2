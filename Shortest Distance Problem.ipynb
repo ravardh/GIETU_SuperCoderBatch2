{
 "cells": [
  {
   "cell_type": "code",
   "execution_count": 46,
   "id": "27b6b064",
   "metadata": {},
   "outputs": [
    {
     "name": "stdout",
     "output_type": "stream",
     "text": [
      "Shortest distance from node 1 to each node:\n",
      "{1: 0, 2: 4, 3: 12, 4: 19, 5: 21, 6: 11, 7: 9, 8: 8, 9: 14}\n",
      "21\n"
     ]
    }
   ],
   "source": [
    "my_dict = {(1, 2): 4, (1, 8): 8, (2, 3): 8, (2, 8): 11, (3, 4): 7,(3, 9): 2, (3, 6): 4, (4, 5): 9, (4, 6): 14, (5, 6): 10,(6, 7): 2, (7, 8): 1, (7, 9): 6, (8, 9): 7}\n",
    "my_list = {i: [] for i in range(1, 10)}\n",
    "for (start, end), weight in my_dict.items():\n",
    "    my_list[start].append((end, weight))\n",
    "    my_list[end].append((start, weight))\n",
    "\n",
    "def dist(start, my_list):\n",
    "    dist_covered = {n: float('inf') for n in my_list}\n",
    "    dist_covered[start] = 0\n",
    "    visited = set()\n",
    "    while len(visited) < len(my_list):\n",
    "        curr_node = min((n for n in my_list if n not in visited), key=lambda x: dist_covered[x])\n",
    "        visited.add(curr_node)\n",
    "        for neighbor, weight in my_list[curr_node]:\n",
    "            distance = dist_covered[curr_node] + weight\n",
    "            if distance < dist_covered[neighbor]:\n",
    "                dist_covered[neighbor] = distance\n",
    "    return dist_covered\n",
    "shortest_dist_covered = dist(1, my_list)\n",
    "print(\"Shortest distance from node 1 to each node:\")\n",
    "print(shortest_dist_covered)\n",
    "min_dist_covered = shortest_dist_covered[5]\n",
    "print(min_dist_covered)"
   ]
  },
  {
   "cell_type": "code",
   "execution_count": null,
   "id": "4461ebbc",
   "metadata": {},
   "outputs": [],
   "source": []
  }
 ],
 "metadata": {
  "kernelspec": {
   "display_name": "Python 3 (ipykernel)",
   "language": "python",
   "name": "python3"
  },
  "language_info": {
   "codemirror_mode": {
    "name": "ipython",
    "version": 3
   },
   "file_extension": ".py",
   "mimetype": "text/x-python",
   "name": "python",
   "nbconvert_exporter": "python",
   "pygments_lexer": "ipython3",
   "version": "3.11.5"
  }
 },
 "nbformat": 4,
 "nbformat_minor": 5
}

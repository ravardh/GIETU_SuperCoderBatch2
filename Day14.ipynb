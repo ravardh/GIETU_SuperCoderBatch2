{
 "cells": [
  {
   "cell_type": "markdown",
   "id": "e1bbddd5",
   "metadata": {},
   "source": [
    "## Bellman-Ford algorithm"
   ]
  },
  {
   "cell_type": "code",
   "execution_count": 4,
   "id": "86e76d48",
   "metadata": {},
   "outputs": [
    {
     "name": "stdout",
     "output_type": "stream",
     "text": [
      "Vertex Distance from Source:\n",
      "0\t0\n",
      "1\t-1\n",
      "2\t2\n",
      "3\t-2\n",
      "4\t1\n"
     ]
    }
   ],
   "source": [
    "class Graph:\n",
    "    def __init__(self, vertices):\n",
    "        self.V = vertices\n",
    "        self.graph = []\n",
    "\n",
    "    def add_edge(self, u, v, w):\n",
    "        self.graph.append([u, v, w])\n",
    "\n",
    "    def bellman_ford(self, src):\n",
    "        dist = [float(\"Inf\")] * self.V\n",
    "        dist[src] = 0\n",
    "\n",
    "        for _ in range(self.V - 1):\n",
    "            for u, v, w in self.graph:\n",
    "                if dist[u] != float(\"Inf\") and dist[u] + w < dist[v]:\n",
    "                    dist[v] = dist[u] + w\n",
    "\n",
    "        for u, v, w in self.graph:\n",
    "            if dist[u] != float(\"Inf\") and dist[u] + w < dist[v]:\n",
    "                print(\"Graph contains negative weight cycle\")\n",
    "                return\n",
    "\n",
    "        self.print_solution(dist)\n",
    "\n",
    "    def print_solution(self, dist):\n",
    "        print(\"Vertex Distance from Source:\")\n",
    "        for i in range(self.V):\n",
    "            print(f\"{i}\\t{dist[i]}\")\n",
    "\n",
    "\n",
    "g = Graph(5)\n",
    "g.add_edge(0, 1, -1)\n",
    "g.add_edge(0, 2, 4)\n",
    "g.add_edge(1, 2, 3)\n",
    "g.add_edge(1, 3, 2)\n",
    "g.add_edge(1, 4, 2)\n",
    "g.add_edge(3, 2, 5)\n",
    "g.add_edge(3, 1, 1)\n",
    "g.add_edge(4, 3, -3)\n",
    "\n",
    "g.bellman_ford(0)\n"
   ]
  },
  {
   "cell_type": "code",
   "execution_count": null,
   "id": "4ea7b171",
   "metadata": {},
   "outputs": [],
   "source": [
    "def bellman_ford(self,src):\n",
    "    dist=[float[(\"inf\")]*self.V\n",
    "    dist[src]=0\n",
    "          \n",
    "    for _ in range(self.V-1):\n",
    "          for u,v,w in self.graph:\n",
    "              dist[src]=0\n",
    "          if dist[u] != float(\"Inf\") and dist[u]+w < dist[v]:\n",
    "              "
   ]
  }
 ],
 "metadata": {
  "kernelspec": {
   "display_name": "Python 3 (ipykernel)",
   "language": "python",
   "name": "python3"
  },
  "language_info": {
   "codemirror_mode": {
    "name": "ipython",
    "version": 3
   },
   "file_extension": ".py",
   "mimetype": "text/x-python",
   "name": "python",
   "nbconvert_exporter": "python",
   "pygments_lexer": "ipython3",
   "version": "3.9.13"
  }
 },
 "nbformat": 4,
 "nbformat_minor": 5
}

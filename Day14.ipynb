{
  "nbformat": 4,
  "nbformat_minor": 0,
  "metadata": {
    "colab": {
      "provenance": []
    },
    "kernelspec": {
      "name": "python3",
      "display_name": "Python 3"
    },
    "language_info": {
      "name": "python"
    }
  },
  "cells": [
    {
      "cell_type": "code",
      "execution_count": null,
      "metadata": {
        "colab": {
          "base_uri": "https://localhost:8080/"
        },
        "id": "aKyvEUQZry4z",
        "outputId": "d3875b24-93a4-4988-faf4-1475f8805e60"
      },
      "outputs": [
        {
          "output_type": "stream",
          "name": "stdout",
          "text": [
            "5\n",
            "126\n"
          ]
        }
      ],
      "source": [
        "def subset(l, target_sum, lnew, index, length,C):\n",
        "    if index == len(l):\n",
        "        if sum(lnew) == 0 and len(lnew) > length[0]:\n",
        "            length[0] = len(lnew)\n",
        "\n",
        "        return\n",
        "    subset(l, target_sum + l[index], lnew + [l[index]], index + 1, length,C)\n",
        "    subset(l, target_sum, lnew, index + 1, length,C)\n",
        "    C[0]=C[0]+2\n",
        "l = [9, -3, 3, -1, 6, -5]\n",
        "length = [0]\n",
        "C=[0]\n",
        "subset(l, 0, [], 0, length,C)\n",
        "print(length[0])\n",
        "print(C[0])"
      ]
    },
    {
      "cell_type": "code",
      "source": [
        "def divide(st: int, end: int, ans: list, arr: list):\n",
        "    if end == len(arr) or st == len(arr) or st >= end:\n",
        "        return\n",
        "    # print(st,end)\n",
        "\n",
        "    idx: int = st\n",
        "    sum: int = 0\n",
        "    while idx <= end:\n",
        "        sum += arr[idx]\n",
        "        idx += 1\n",
        "\n",
        "    if sum == 0:\n",
        "        idx = st\n",
        "        sub_arr: list = []\n",
        "        while idx <= end:\n",
        "            print(arr[idx], end='\\t')\n",
        "            sub_arr.append(arr[idx])\n",
        "            sum += arr[idx]\n",
        "            idx += 1\n",
        "        print()\n",
        "        ans.append(sub_arr)\n",
        "\n",
        "    divide(st, end + 1, ans, arr)\n",
        "    divide(st + 1, end, ans, arr)\n",
        "\n",
        "\n",
        "if _name_ == '_main_':\n",
        "    arr: list = [9, -3, 3, -1, 6, -5]\n",
        "    ans: list = []\n",
        "    divide(0, 1, ans, arr)\n",
        "    max_len: int = 0\n",
        "    for i in range(len(ans)):\n",
        "        if len(ans[i]) > max_len:\n",
        "            max_len = len(ans[i])\n",
        "\n",
        "    print(max_len)"
      ],
      "metadata": {
        "id": "A84FkQ6nuHSN"
      },
      "execution_count": null,
      "outputs": []
    },
    {
      "cell_type": "code",
      "source": [
        "def fun(arr):\n",
        "    maxl=0\n",
        "    for i in range(len(arr)):\n",
        "        cur=0\n",
        "        for j in range(i,len(arr)):\n",
        "            cur+=arr[j]\n",
        "            if cur==0:\n",
        "                maxl=max(maxl,j-i+1)\n",
        "    return maxl\n",
        "arr=[9,-3,3,-1,6,-5]\n",
        "res=fun(arr)\n",
        "print(res)"
      ],
      "metadata": {
        "colab": {
          "base_uri": "https://localhost:8080/"
        },
        "id": "0RYp8Ng86lUu",
        "outputId": "e3fa85fd-2dc6-4883-a8e1-a08d9105c73d"
      },
      "execution_count": null,
      "outputs": [
        {
          "output_type": "stream",
          "name": "stdout",
          "text": [
            "5\n"
          ]
        }
      ]
    },
    {
      "cell_type": "code",
      "source": [
        "l=[18,20,15,30,10,14]\n",
        "l1=[]\n",
        "l2=[]\n",
        "for i in range(0,len(l)+1):\n",
        "    if(l[i-1]!=-1 and i%2!=0):\n",
        "      l1.append(l[i-1]);\n",
        "      l[i-1]=-1\n",
        "    if(l[i-1]!=-1 and i%2==0):\n",
        "      l2.append(l[i-1])\n",
        "      l[i-1]=-1\n",
        "for i in range(1,len(l)+1):\n",
        "    if(l[i-1]!=-1 and i%2==0):\n",
        "      l1.append(l[i-1]);\n",
        "      l[i-1]=-1\n",
        "    if(l[i-1]!=-1 and i%2!=0):\n",
        "      l2.append(l[i-1])\n",
        "      l[i-1]=-1\n",
        "print(l1)\n",
        "print(l2)"
      ],
      "metadata": {
        "colab": {
          "base_uri": "https://localhost:8080/"
        },
        "id": "mE-425yc_bsD",
        "outputId": "3cd8d50d-3c1a-4a18-d2f5-8e4ebee0ab95"
      },
      "execution_count": null,
      "outputs": [
        {
          "output_type": "stream",
          "name": "stdout",
          "text": [
            "[18, 15, 10]\n",
            "[14, 20, 30]\n"
          ]
        }
      ]
    },
    {
      "cell_type": "code",
      "source": [],
      "metadata": {
        "id": "_o56_siwFiYL"
      },
      "execution_count": null,
      "outputs": []
    }
  ]
}
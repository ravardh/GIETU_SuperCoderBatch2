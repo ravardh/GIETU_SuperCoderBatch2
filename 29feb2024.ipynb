{
 "cells": [
  {
   "cell_type": "markdown",
   "id": "ffdf4b75",
   "metadata": {},
   "source": [
    "# Create a Binary search Tree (using backtracking)"
   ]
  },
  {
   "cell_type": "code",
   "execution_count": 2,
   "id": "f9c2aa9f",
   "metadata": {},
   "outputs": [
    {
     "name": "stdout",
     "output_type": "stream",
     "text": [
      "<__main__.node object at 0x000001C82D606ED0>\n",
      "50 45 35 20 15 22 25 30 40 41 42 48 47 55 60 70 90 None\n"
     ]
    }
   ],
   "source": [
    "class node:\n",
    "    def __init__(self,value):\n",
    "        self.data=value\n",
    "        self.left=None\n",
    "        self.right=None\n",
    "    \n",
    "\n",
    "def insert(root,value):\n",
    "    if(root==None):\n",
    "        return node(value)\n",
    "    if (value<root.data):\n",
    "        root.left=insert(root.left,value)\n",
    "    elif (value>root.data):\n",
    "        root.right=insert(root.right,value)\n",
    "    return root\n",
    "\n",
    "\n",
    "def preorder(root):\n",
    "    if root==None:\n",
    "        return\n",
    "    print(root.data,end=' ')\n",
    "    preorder(root.left)\n",
    "    preorder(root.right)\n",
    "    \n",
    "\n",
    "root=None\n",
    "V_L=[50, 45, 55, 35, 40, 48, 60, 20, 70, 41, 47, 42, 15, 22, 25, 30, 90]\n",
    "for x in V_L:\n",
    "    root=insert(root,x)\n",
    "print(root)\n",
    "print(preorder(root))"
   ]
  },
  {
   "cell_type": "markdown",
   "id": "0e2adeb9",
   "metadata": {},
   "source": [
    " # Create a Binary search Tree (using recursion)"
   ]
  },
  {
   "cell_type": "code",
   "execution_count": 6,
   "id": "f9c56a9d",
   "metadata": {},
   "outputs": [
    {
     "name": "stdout",
     "output_type": "stream",
     "text": [
      "<__main__.node object at 0x000001C82E3A3150>\n",
      "50 45 35 20 15 22 25 30 40 41 42 48 47 55 60 70 90 None\n"
     ]
    }
   ],
   "source": [
    "class node:\n",
    "    def __init__(self,value):\n",
    "        self.data=value\n",
    "        self.left=None\n",
    "        self.right=None\n",
    "\n",
    "        \n",
    "def insert(root,value):\n",
    "    if (value<root.data):\n",
    "        if root.left==None:\n",
    "            root.left=node(value)\n",
    "            return\n",
    "        insert(root.left,value)\n",
    "\n",
    "    elif (value>root.data):\n",
    "        if root.right==None:\n",
    "            root.right=node(value)\n",
    "            return\n",
    "        insert(root.right,value)\n",
    "    \n",
    "    \n",
    "def preorder(root):\n",
    "    if root==None:\n",
    "        return\n",
    "    print(root.data,end=' ')\n",
    "    preorder(root.left)\n",
    "    preorder(root.right)\n",
    "    \n",
    "\n",
    "\n",
    "V_L=[50, 45, 55, 35, 40, 48, 60, 20, 70, 41, 47, 42, 15, 22, 25, 30, 90]\n",
    "root=node(V_L[0])\n",
    "for x in range(1,len(V_L)):\n",
    "    insert(root,V_L[x])\n",
    "print(root)\n",
    "print(preorder(root))"
   ]
  },
  {
   "cell_type": "markdown",
   "id": "3d5974ad",
   "metadata": {},
   "source": [
    "# Avl Tree"
   ]
  },
  {
   "cell_type": "code",
   "execution_count": 3,
   "id": "02100bf8",
   "metadata": {},
   "outputs": [
    {
     "name": "stdout",
     "output_type": "stream",
     "text": [
      "<__main__.node object at 0x0000023F2DADAA90>\n",
      "12 18 20 22 24 32 36 44 45 50 52 65 76 87 90 100 "
     ]
    }
   ],
   "source": [
    "class node:\n",
    "    def __init__(self,value):\n",
    "        self.data = value\n",
    "        self.left = None\n",
    "        self.right = None\n",
    "        self.height = 1\n",
    "\n",
    "class AVLTree(object):\n",
    "\n",
    "    def insert(self,root,value):\n",
    "        if root == None:\n",
    "            return node(value)\n",
    "        if(value<root.data):\n",
    "            root.left = self.insert(root.left,value)\n",
    "        elif value>root.data:\n",
    "            root.right = self.insert(root.right,value)\n",
    "        \n",
    "        root.height = 1 + max(self.ght(root.left),\n",
    "                              self.ght(root.right))\n",
    "\n",
    "\n",
    "        bl = self.bal(root)\n",
    "\n",
    "        if bl > 1 and value < root.left.data:\n",
    "            return self.leftrotate(root)\n",
    "\n",
    "        if bl > 1 and value > root.left.data:\n",
    "            root.left = self.rightrotate(root.left)\n",
    "            return self.leftrotate(root)\n",
    "\n",
    "        if bl < -1 and value > root.right.data:\n",
    "            return self.rightrotate(root)\n",
    "\n",
    "        if bl < -1 and value < root.right.data:\n",
    "            root.right = self.leftrotate(root.right)\n",
    "            return self.rightrotate(root)\n",
    "        return root\n",
    "\n",
    "    def ght(self,root):\n",
    "        if root == None:\n",
    "            return 0\n",
    "        return root.height\n",
    "\n",
    "    def bal(self,root):\n",
    "        if root == None:\n",
    "            return 0\n",
    "        return self.ght(root.left)-self.ght(root.right)\n",
    "\n",
    "    def leftrotate(self,A):\n",
    "        if A is None or A.left is None:\n",
    "            return A\n",
    "        B = A.left\n",
    "        temp = B.right\n",
    "        B.right = A\n",
    "        A.left = temp\n",
    "\n",
    "        A.height = 1 + max(self.ght(A.left),\n",
    "                              self.ght(A.right))\n",
    "        B.height = 1 + max(self.ght(B.left),\n",
    "                              self.ght(B.right))\n",
    "        return B\n",
    "\n",
    "    def rightrotate(self,A):\n",
    "        if A is None or A.right is None:\n",
    "            return A\n",
    "        B = A.right\n",
    "        temp = B.left\n",
    "        B.left = A\n",
    "        A.right = temp\n",
    "\n",
    "        A.height = 1 + max(self.ght(A.left),\n",
    "                              self.ght(A.right))\n",
    "        B.height = 1 + max(self.ght(B.left),\n",
    "                              self.ght(B.right))\n",
    "        return B\n",
    "\n",
    "    def inorder(self,root):\n",
    "        if root == None:\n",
    "            return\n",
    "        self.inorder(root.left)\n",
    "        print(root.data, end=\" \")\n",
    "        self.inorder(root.right)\n",
    "    \n",
    "\n",
    "tree = AVLTree()\n",
    "\n",
    "root = None\n",
    "V_L = [50 , 36, 12, 20, 76, 18, 44, 52, 90, 100,12,32,44,22,44,65,45,87,65,90,24]\n",
    "for x in V_L:\n",
    "    root = tree.insert(root,x)\n",
    "\n",
    "print(root)\n",
    "\n",
    "tree.inorder(root)"
   ]
  },
  {
   "cell_type": "code",
   "execution_count": null,
   "id": "af58bd9a",
   "metadata": {},
   "outputs": [],
   "source": []
  }
 ],
 "metadata": {
  "kernelspec": {
   "display_name": "Python 3 (ipykernel)",
   "language": "python",
   "name": "python3"
  },
  "language_info": {
   "codemirror_mode": {
    "name": "ipython",
    "version": 3
   },
   "file_extension": ".py",
   "mimetype": "text/x-python",
   "name": "python",
   "nbconvert_exporter": "python",
   "pygments_lexer": "ipython3",
   "version": "3.11.5"
  }
 },
 "nbformat": 4,
 "nbformat_minor": 5
}

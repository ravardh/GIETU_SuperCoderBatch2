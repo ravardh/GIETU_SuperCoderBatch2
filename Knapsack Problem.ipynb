{
 "cells": [
  {
   "cell_type": "markdown",
   "id": "12bf6ba0",
   "metadata": {},
   "source": [
    "# Types of Algorithm Approach\n",
    "\n",
    "1. Brute Force\n",
    "2. Sliding Window\n",
    "3. Divide & Conquer\n",
    "4. Greedy \n",
    "5. Dynamic Programming\n",
    "  > Approcah of DP\n",
    "  \n",
    "  i)  Tabulation\n",
    "  ii) Memorizaion\n",
    "  \n",
    "i) Tabulization\n",
    "\n",
    "def fibo(terms,dp):\n",
    "    if terms == 0 || terms == 1:\n",
    "        return term\n",
    "    if dp[term] != -1:\n",
    "        return dp[term]\n",
    "    return fibo(n-1) + fibo(n-2)"
   ]
  },
  {
   "cell_type": "code",
   "execution_count": null,
   "id": "e342523b",
   "metadata": {},
   "outputs": [],
   "source": []
  },
  {
   "cell_type": "markdown",
   "id": "94124af9",
   "metadata": {},
   "source": [
    "v[i,w] = max{v[i-1,w] , v[i-1,w-w[i]] + p[i] }"
   ]
  },
  {
   "cell_type": "code",
   "execution_count": 18,
   "id": "6ab0ee87",
   "metadata": {},
   "outputs": [
    {
     "name": "stdout",
     "output_type": "stream",
     "text": [
      "Maximum value: 54\n",
      "Items Include: [0, 1, 2, 4, 5]\n"
     ]
    }
   ],
   "source": [
    "def knapsack(capacity, weights, prices):\n",
    "    n = len(prices)\n",
    "    table = [[0] * (capacity + 1) for _ in range(n + 1)]\n",
    "\n",
    "    for i in range(1, n + 1):\n",
    "        for w in range(1, capacity + 1):\n",
    "            if weights[i - 1] <= w:\n",
    "                table[i][w] = max(prices[i - 1] + table[i - 1][w - weights[i - 1]], table[i - 1][w])\n",
    "            else:\n",
    "                table[i][w] = table[i - 1][w]\n",
    "\n",
    "    maxValue = table[n][capacity]\n",
    "\n",
    "    items = []\n",
    "    w = capacity\n",
    "    for i in range(n, 0, -1):\n",
    "        if table[i][w] != table[i - 1][w]:\n",
    "            items.append(i - 1)\n",
    "            w -= weights[i - 1]\n",
    "    sortItems = sorted(items)\n",
    "    return maxValue, sortItems\n",
    "\n",
    "capacity = 15\n",
    "prices = [10, 5, 15, 7, 6, 18, 3]\n",
    "weights = [2, 3, 5, 7, 1, 4, 1]\n",
    "\n",
    "maxValue, items = knapsack(capacity, weights, prices)\n",
    "print(\"Maximum value:\", maxValue)\n",
    "print(\"Items Include:\", items)"
   ]
  },
  {
   "cell_type": "code",
   "execution_count": 7,
   "id": "4251d005",
   "metadata": {},
   "outputs": [],
   "source": []
  },
  {
   "cell_type": "code",
   "execution_count": null,
   "id": "a9556dca",
   "metadata": {},
   "outputs": [],
   "source": []
  }
 ],
 "metadata": {
  "kernelspec": {
   "display_name": "Python 3 (ipykernel)",
   "language": "python",
   "name": "python3"
  },
  "language_info": {
   "codemirror_mode": {
    "name": "ipython",
    "version": 3
   },
   "file_extension": ".py",
   "mimetype": "text/x-python",
   "name": "python",
   "nbconvert_exporter": "python",
   "pygments_lexer": "ipython3",
   "version": "3.11.3"
  }
 },
 "nbformat": 4,
 "nbformat_minor": 5
}

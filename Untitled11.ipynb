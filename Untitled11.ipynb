{
 "cells": [
  {
   "cell_type": "markdown",
   "id": "f6512d51",
   "metadata": {},
   "source": [
    "# Knapsack problem"
   ]
  },
  {
   "cell_type": "code",
   "execution_count": 3,
   "id": "63638583",
   "metadata": {},
   "outputs": [
    {
     "name": "stdout",
     "output_type": "stream",
     "text": [
      "Selected items: [1, 0, 1, 0, 1, 1, 1]\n",
      "Total value: 52\n"
     ]
    }
   ],
   "source": [
    "def knapsack(items, capacity):\n",
    "    n = len(items)\n",
    "    ratios = [(i, items[i]['price'] / items[i]['weight']) for i in range(n)]\n",
    "    ratios.sort(key=lambda x: x[1], reverse=True)\n",
    "\n",
    "    total_value = 0\n",
    "    remaining_capacity = capacity\n",
    "    selected_items = [0] * n\n",
    "\n",
    "    for i, ratio in ratios:\n",
    "        if items[i]['weight'] <= remaining_capacity:\n",
    "            selected_items[i] = 1\n",
    "            total_value += items[i]['price']\n",
    "            remaining_capacity -= items[i]['weight']\n",
    "\n",
    "    return selected_items, total_value\n",
    "\n",
    "items = [\n",
    "    {'price': 10, 'weight': 2},\n",
    "    {'price': 5, 'weight': 3},\n",
    "    {'price': 15, 'weight': 5},\n",
    "    {'price': 7, 'weight': 7},\n",
    "    {'price': 6, 'weight': 1},\n",
    "    {'price': 18, 'weight': 4},\n",
    "    {'price': 3, 'weight': 1}\n",
    "]\n",
    "\n",
    "bag_capacity = 15\n",
    "\n",
    "selected_items, total_value = knapsack(items, bag_capacity)\n",
    "\n",
    "print(\"Selected items:\", selected_items)\n",
    "print(\"Total value:\", total_value)\n"
   ]
  },
  {
   "cell_type": "code",
   "execution_count": null,
   "id": "c0d1de9b",
   "metadata": {},
   "outputs": [],
   "source": []
  }
 ],
 "metadata": {
  "kernelspec": {
   "display_name": "Python 3 (ipykernel)",
   "language": "python",
   "name": "python3"
  },
  "language_info": {
   "codemirror_mode": {
    "name": "ipython",
    "version": 3
   },
   "file_extension": ".py",
   "mimetype": "text/x-python",
   "name": "python",
   "nbconvert_exporter": "python",
   "pygments_lexer": "ipython3",
   "version": "3.10.9"
  }
 },
 "nbformat": 4,
 "nbformat_minor": 5
}

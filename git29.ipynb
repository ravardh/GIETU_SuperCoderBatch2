{
  "nbformat": 4,
  "nbformat_minor": 0,
  "metadata": {
    "colab": {
      "provenance": [],
      "authorship_tag": "ABX9TyOaIsvsNjk7txFUyPLmQCI2",
      "include_colab_link": true
    },
    "kernelspec": {
      "name": "python3",
      "display_name": "Python 3"
    },
    "language_info": {
      "name": "python"
    }
  },
  "cells": [
    {
      "cell_type": "markdown",
      "metadata": {
        "id": "view-in-github",
        "colab_type": "text"
      },
      "source": [
        "<a href=\"https://colab.research.google.com/github/ravardh/GIETU_SuperCoderBatch2/blob/shrejal_21CSEDS044/git29.ipynb\" target=\"_parent\"><img src=\"https://colab.research.google.com/assets/colab-badge.svg\" alt=\"Open In Colab\"/></a>"
      ]
    },
    {
      "cell_type": "code",
      "execution_count": null,
      "metadata": {
        "id": "UCEClLSCIvYx",
        "colab": {
          "base_uri": "https://localhost:8080/"
        },
        "outputId": "d92a317f-44e6-4328-96e1-11cab5415ffe"
      },
      "outputs": [
        {
          "output_type": "stream",
          "name": "stdout",
          "text": [
            "Preorder traversal of constructed AVL tree: [36, 18, 12, 20, 50, 44, 76, 52, 90]\n"
          ]
        }
      ],
      "source": [
        "class AVLNode:\n",
        "    def __init__(self, key):\n",
        "        self.key = key\n",
        "        self.left = None\n",
        "        self.right = None\n",
        "        self.height = 1\n",
        "\n",
        "class AVLTree:\n",
        "    def __init__(self):\n",
        "        self.root = None\n",
        "\n",
        "    def height(self, node):\n",
        "        if node is None:\n",
        "            return 0\n",
        "        return node.height\n",
        "\n",
        "    def balance(self, node):\n",
        "        if node is None:\n",
        "            return 0\n",
        "        return self.height(node.left) - self.height(node.right)\n",
        "\n",
        "    def rotate_right(self, y):\n",
        "        x = y.left\n",
        "        T2 = x.right\n",
        "\n",
        "        x.right = y\n",
        "        y.left = T2\n",
        "\n",
        "        y.height = 1 + max(self.height(y.left), self.height(y.right))\n",
        "        x.height = 1 + max(self.height(x.left), self.height(x.right))\n",
        "\n",
        "        return x\n",
        "\n",
        "    def rotate_left(self, x):\n",
        "        y = x.right\n",
        "        T2 = y.left\n",
        "\n",
        "        y.left = x\n",
        "        x.right = T2\n",
        "\n",
        "        x.height = 1 + max(self.height(x.left), self.height(x.right))\n",
        "        y.height = 1 + max(self.height(y.left), self.height(y.right))\n",
        "\n",
        "        return y\n",
        "\n",
        "    def insert(self, node, key):\n",
        "        if node is None:\n",
        "            return AVLNode(key)\n",
        "\n",
        "        if key < node.key:\n",
        "            node.left = self.insert(node.left, key)\n",
        "        else:\n",
        "            node.right = self.insert(node.right, key)\n",
        "\n",
        "        node.height = 1 + max(self.height(node.left), self.height(node.right))\n",
        "\n",
        "        balance = self.balance(node)\n",
        "\n",
        "        if balance > 1:\n",
        "            if key < node.left.key:\n",
        "                return self.rotate_right(node)\n",
        "            else:\n",
        "                node.left = self.rotate_left(node.left)\n",
        "                return self.rotate_right(node)\n",
        "\n",
        "        if balance < -1:\n",
        "            if key > node.right.key:\n",
        "                return self.rotate_left(node)\n",
        "            else:\n",
        "                node.right = self.rotate_right(node.right)\n",
        "                return self.rotate_left(node)\n",
        "\n",
        "        return node\n",
        "\n",
        "    def preorder_traversal(self, node, traversal):\n",
        "        if node:\n",
        "            traversal.append(node.key)\n",
        "            traversal = self.preorder_traversal(node.left, traversal)\n",
        "            traversal = self.preorder_traversal(node.right, traversal)\n",
        "        return traversal\n",
        "\n",
        "    def construct_preorder(self, keys):\n",
        "        for key in keys:\n",
        "            self.root = self.insert(self.root, key)\n",
        "\n",
        "        return self.preorder_traversal(self.root, [])\n",
        "\n",
        "avl_tree = AVLTree()\n",
        "keys = [50,36,12,20,76,18,44,52,90]\n",
        "preorder = avl_tree.construct_preorder(keys)\n",
        "print(\"Preorder traversal of constructed AVL tree:\", preorder)"
      ]
    },
    {
      "cell_type": "code",
      "source": [
        "class node:\n",
        "    def __init__(self,value):\n",
        "        self.data = value\n",
        "        self.left = None\n",
        "        self.right = None\n",
        "        self.height = 1\n",
        "\n",
        "class AVLTree(object):\n",
        "\n",
        "    def insert(self,root,value):\n",
        "        if root == None:\n",
        "            return node(value)\n",
        "        if(value<root.data):\n",
        "            root.left = self.insert(root.left,value)\n",
        "        elif value>root.data:\n",
        "            root.right = self.insert(root.right,value)\n",
        "\n",
        "        root.height = 1 + max(self.ght(root.left),\n",
        "                              self.ght(root.right))\n",
        "\n",
        "\n",
        "        bl = self.bal(root)\n",
        "\n",
        "        if bl > 1 and value < root.left.data:\n",
        "            return self.leftrotate(root)\n",
        "\n",
        "        if bl > 1 and value > root.left.data:\n",
        "            root.left = self.rightrotate(root.left)\n",
        "            return self.leftrotate(root)\n",
        "\n",
        "        if bl < -1 and value > root.right.data:\n",
        "            return self.rightrotate(root)\n",
        "\n",
        "        if bl < -1 and value < root.right.data:\n",
        "            root.right = self.leftrotate(root.right)\n",
        "            return self.rightrotate(root)\n",
        "        return root\n",
        "\n",
        "    def ght(self,root):\n",
        "        if root == None:\n",
        "            return 0\n",
        "        return root.height\n",
        "\n",
        "    def bal(self,root):\n",
        "        if root == None:\n",
        "            return 0\n",
        "        return self.ght(root.left)-self.ght(root.right)\n",
        "\n",
        "    def leftrotate(self,A):\n",
        "        B = A.left\n",
        "        temp = B.right\n",
        "        B.right = A\n",
        "        A.left = temp\n",
        "\n",
        "        A.height = 1 + max(self.ght(root.left),\n",
        "                              self.ght(root.right))\n",
        "        B.height = 1 + max(self.ght(root.left),\n",
        "                              self.ght(root.right))\n",
        "        return B\n",
        "\n",
        "    def rightrotate(self,A):\n",
        "        B = A.right\n",
        "        temp = B.left\n",
        "        B.left = A\n",
        "        A.right = temp\n",
        "\n",
        "        A.height = 1 + max(self.ght(root.left),\n",
        "                              self.ght(root.right))\n",
        "        B.height = 1 + max(self.ght(root.left),\n",
        "                              self.ght(root.right))\n",
        "        return B\n",
        "\n",
        "    def inorder(self,root):\n",
        "        if root == None:\n",
        "            return\n",
        "        self.inorder(root.left)\n",
        "        print(root.data, end=\" \")\n",
        "        self.inorder(root.right)\n",
        "\n",
        "\n",
        "tree = AVLTree()\n",
        "\n",
        "root = None\n",
        "V_L = [50 , 36, 12, 20, 76, 18, 44, 52, 90]\n",
        "for x in V_L:\n",
        "    root = tree.insert(root,x)\n",
        "\n",
        "print(root)\n",
        "\n",
        "tree.inorder(root)"
      ],
      "metadata": {
        "colab": {
          "base_uri": "https://localhost:8080/"
        },
        "id": "TAL0hUxTcMWb",
        "outputId": "eeb260d3-bcd5-4fe5-c43e-466181408b42"
      },
      "execution_count": null,
      "outputs": [
        {
          "output_type": "stream",
          "name": "stdout",
          "text": [
            "<__main__.node object at 0x7a7566158550>\n",
            "12 18 20 36 44 50 52 76 90 "
          ]
        }
      ]
    },
    {
      "cell_type": "code",
      "source": [
        "class node:\n",
        "    def __init__(self,value):\n",
        "        self.data = value\n",
        "        self.left = None\n",
        "        self.right = None\n",
        "\n",
        "def insert(root,value):\n",
        "    if root == None:\n",
        "        return node(value)\n",
        "    if(value<root.data):\n",
        "        root.left = insert(root.left,value)\n",
        "    elif value>root.data:\n",
        "        root.right = insert(root.right,value)\n",
        "    return root\n",
        "\n",
        "def preorder(root):\n",
        "    if root == None:\n",
        "        return\n",
        "    print(root.data, end=\" \")\n",
        "    preorder(root.left)\n",
        "    preorder(root.right)\n",
        "\n",
        "root= None\n",
        "V_L = [50,36,12,20,44,76,18,44,52,90]\n",
        "for x in V_L:\n",
        "    root = insert(root,x)\n",
        "\n",
        "print(root)\n",
        "preorder(root)\n"
      ],
      "metadata": {
        "colab": {
          "base_uri": "https://localhost:8080/"
        },
        "id": "stCe6VrZ2LZ1",
        "outputId": "aad4799a-9ad9-4fb6-bdc2-714ecf67481e"
      },
      "execution_count": null,
      "outputs": [
        {
          "output_type": "stream",
          "name": "stdout",
          "text": [
            "<__main__.node object at 0x7a756615a170>\n",
            "50 36 12 20 18 44 76 52 90 "
          ]
        }
      ]
    },
    {
      "cell_type": "code",
      "source": [
        "class node:\n",
        "    def __init__(self,value):\n",
        "        self.data = value\n",
        "        self.left = None\n",
        "        self.right = None\n",
        "\n",
        "def insert(root,value):\n",
        "    if value<root.data:\n",
        "        if root.left == None:\n",
        "            root.left = node(value)\n",
        "            return\n",
        "        insert(root.left,value)\n",
        "\n",
        "    elif value>root.data:\n",
        "        if root.right == None:\n",
        "            root.right = node(value)\n",
        "            return\n",
        "        insert(root.right,value)\n",
        "\n",
        "\n",
        "def preorder(root):\n",
        "    if root == None:\n",
        "        return\n",
        "    print(root.data, end=\" \")\n",
        "    preorder(root.left)\n",
        "    preorder(root.right)\n",
        "\n",
        "\n",
        "V_L = [50,36,12,20,44,76,18,44,52,90]\n",
        "root = node(V_L[0])\n",
        "for x in range(1,len(V_L)):\n",
        "    insert(root,V_L[x])\n",
        "\n",
        "print(root)\n",
        "preorder(root)"
      ],
      "metadata": {
        "colab": {
          "base_uri": "https://localhost:8080/"
        },
        "id": "fKApxwlH2VsB",
        "outputId": "69839707-7480-4be1-f5f5-0a83a5ad8483"
      },
      "execution_count": null,
      "outputs": [
        {
          "output_type": "stream",
          "name": "stdout",
          "text": [
            "<__main__.node object at 0x7a7566159f60>\n",
            "50 36 12 20 18 44 76 52 90 "
          ]
        }
      ]
    },
    {
      "cell_type": "code",
      "source": [],
      "metadata": {
        "id": "vsKWCwZy25-8"
      },
      "execution_count": null,
      "outputs": []
    }
  ]
}
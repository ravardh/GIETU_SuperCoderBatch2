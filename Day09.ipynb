{
 "cells": [
  {
   "cell_type": "markdown",
   "id": "a37ace1b",
   "metadata": {},
   "source": [
    "## Adjacency List"
   ]
  },
  {
   "cell_type": "code",
   "execution_count": null,
   "id": "84946536",
   "metadata": {},
   "outputs": [],
   "source": [
    "def addEdge(adj, u, v):\n",
    "\n",
    "    adj[u].append(v);\n",
    "    adj[v].append(u);\n",
    "\n",
    "def delEdge(adj, u, v):\n",
    "    for i in range(len(adj[u])):\n",
    "    \n",
    "        if (adj[u][i] == v):\n",
    "            adj[u].pop(i);\n",
    "            break;\n",
    "    for i in range(len(adj[v])):\n",
    "    \n",
    "        if (adj[v][i] == u):\n",
    "            \n",
    "            adj[v].pop(i);\n",
    "            break;\n",
    "\n",
    "def prGraph(adj, V):\n",
    "    \n",
    "    for v in range(V):\n",
    "\t\t\n",
    "\t\tprint(\"vertex \" + str(v), end = ' ')\n",
    "\t\t\n",
    "\t\tfor x in adj[v]:\n",
    "\t\t\tprint(\"-> \" + str(x), end = '')\n",
    "\t\t\t\n",
    "\t\tprint()\n",
    "\tprint()\n",
    "\t\n",
    "# Driver code\n",
    "if __name__=='__main__':\n",
    "\n",
    "\tV = 5;\n",
    "\tadj = [[] for i in range(V)]\n",
    "\n",
    "\t# Adding edge as shown in the example figure\n",
    "\taddEdge(adj, 0, 1);\n",
    "\taddEdge(adj, 0, 4);\n",
    "\taddEdge(adj, 1, 2);\n",
    "\taddEdge(adj, 1, 3);\n",
    "\taddEdge(adj, 1, 4);\n",
    "\taddEdge(adj, 2, 3);\n",
    "\taddEdge(adj, 3, 4);\n",
    "\n",
    "\t# Print adjacency matrix\n",
    "\tprGraph(adj, V);\n",
    "\n",
    "\t# Deleting edge (1, 4)\n",
    "\t# as shown in the example figure\n",
    "\tdelEdge(adj, 1, 4);\n",
    "\n",
    "\t# Print adjacency matrix\n",
    "\tprGraph(adj, V);\n",
    "\n",
    "# This code is contributed by rutvik_56 \n"
   ]
  }
 ],
 "metadata": {
  "kernelspec": {
   "display_name": "Python 3 (ipykernel)",
   "language": "python",
   "name": "python3"
  },
  "language_info": {
   "codemirror_mode": {
    "name": "ipython",
    "version": 3
   },
   "file_extension": ".py",
   "mimetype": "text/x-python",
   "name": "python",
   "nbconvert_exporter": "python",
   "pygments_lexer": "ipython3",
   "version": "3.9.13"
  }
 },
 "nbformat": 4,
 "nbformat_minor": 5
}

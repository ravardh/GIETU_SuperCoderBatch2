{
 "cells": [
  {
   "cell_type": "markdown",
   "id": "d929361d",
   "metadata": {},
   "source": [
    "# Depth of a binary tree"
   ]
  },
  {
   "cell_type": "code",
   "execution_count": 2,
   "id": "faf0fde8",
   "metadata": {},
   "outputs": [
    {
     "name": "stdout",
     "output_type": "stream",
     "text": [
      "Maximum Depth of the Binary Tree: 4\n"
     ]
    }
   ],
   "source": [
    "class Node:\n",
    "    def __init__(self, value=0, left=None, right=None):\n",
    "        self.data = value\n",
    "        self.left = None\n",
    "        self.right = None\n",
    "\n",
    "def maxDepth(node):\n",
    "    if node is None:\n",
    "        return 0\n",
    "    else:\n",
    "        left_depth = maxDepth(node.left)\n",
    "        right_depth = maxDepth(node.right)\n",
    "        return max(left_depth, right_depth) + 1\n",
    "0.\n",
    "\n",
    "# Test case\n",
    "if __name__ == \"__main__\":\n",
    "    root = Node(1)\n",
    "    root.left = Node(2)\n",
    "    root.right = Node(3)\n",
    "    root.left.left = Node(4)\n",
    "    root.left.right = Node(5)\n",
    "    root.left.left.left = Node(6)\n",
    "\n",
    "    print(\"Maximum Depth of the Binary Tree:\", maxDepth(root))\n"
   ]
  },
  {
   "cell_type": "code",
   "execution_count": 6,
   "id": "4f19f970",
   "metadata": {},
   "outputs": [
    {
     "name": "stdout",
     "output_type": "stream",
     "text": [
      "4 6 7 9 10 "
     ]
    }
   ],
   "source": [
    "class Node:\n",
    "    def __init__(self, data):\n",
    "        self.data = data\n",
    "        self.left = None\n",
    "        self.right = None\n",
    "        \n",
    "def printLeafNodes(root: Node) -> None:\n",
    "    if (not root):\n",
    "        return\n",
    "    if (not root.left and\n",
    "        not root.right):\n",
    "        print(root.data,end = \" \")\n",
    "        return\n",
    "    \n",
    "    if root.left:\n",
    "        printLeafNodes(root.left)\n",
    "        \n",
    "        if root.right:\n",
    "            printLeafNodes(root.right)\n",
    "\n",
    "if __name__ == \"__main__\":\n",
    "    root = Node(1)\n",
    "    root.left = Node(2)\n",
    "    root.right = Node(3)\n",
    "    root.left.left = Node(4)\n",
    "    root.right.left = Node(5)\n",
    "    root.right.right = Node(8)\n",
    "    root.right.left.left = Node(6)\n",
    "    root.right.left.right = Node(7)\n",
    "    root.right.right.left = Node(9)\n",
    "    root.right.right.right = Node(10)\n",
    "    printLeafNodes(root)\n"
   ]
  },
  {
   "cell_type": "code",
   "execution_count": 9,
   "id": "f950d4c8",
   "metadata": {},
   "outputs": [
    {
     "name": "stdout",
     "output_type": "stream",
     "text": [
      "The top view of the tree is: \n",
      "2 1 3 6 "
     ]
    }
   ],
   "source": [
    "class newNode:\n",
    "    def __init__(self, key):\n",
    "        self.data = key\n",
    "        self.left = None\n",
    "        self.right = None\n",
    "        self.hd = 0\n",
    "\n",
    "def topview(root):\n",
    "    if(root == None):\n",
    "        return\n",
    "    q = []\n",
    "    m = dict()\n",
    "    hd = 0\n",
    "    root.hd = hd\n",
    "\n",
    "    q.append(root)\n",
    "\n",
    "    while(len(q)):\n",
    "        root = q[0]\n",
    "        hd = root.hd\n",
    "        if hd not in m:\n",
    "            m[hd] = root.data\n",
    "        if(root.left):\n",
    "            root.left.hd = hd - 1\n",
    "            q.append(root.left)\n",
    "        if(root.right):\n",
    "            root.right.hd = hd + 1\n",
    "            q.append(root.right)\n",
    "        q.pop(0)\n",
    "    for i in sorted(m):\n",
    "        print(m[i], end=\" \")\n",
    "\n",
    "if __name__ == '__main__':\n",
    "    root = newNode(1)\n",
    "    root.left = newNode(2)\n",
    "    root.right = newNode(3)\n",
    "    root.left.right = newNode(4)\n",
    "    root.left.right.right = newNode(5)\n",
    "    root.left.right.right.right = newNode(6)\n",
    "    print(\"The top view of the tree is: \")\n",
    "    topview(root)"
   ]
  },
  {
   "cell_type": "code",
   "execution_count": 4,
   "id": "89eeb751",
   "metadata": {},
   "outputs": [
    {
     "name": "stdout",
     "output_type": "stream",
     "text": [
      "Bottom view of the tree is: \n",
      "2 4 5 6 "
     ]
    }
   ],
   "source": [
    "class newNode:\n",
    "    def __init__(self, key):\n",
    "        self.data = key\n",
    "        self.left = None\n",
    "        self.right = None\n",
    "        self.hd = 0\n",
    "\n",
    "def bottomview(root):\n",
    "    if(root == None):\n",
    "        return\n",
    "    q = []\n",
    "    m = dict()\n",
    "    hd = 0\n",
    "    root.hd = hd\n",
    "\n",
    "    q.append(root)\n",
    "\n",
    "    while(len(q)):\n",
    "        root = q[0]\n",
    "        hd = root.hd\n",
    "        m[hd] = root.data\n",
    "        if(root.left):\n",
    "            root.left.hd = hd - 1\n",
    "            q.append(root.left)\n",
    "        if(root.right):\n",
    "            root.right.hd = hd + 1\n",
    "            q.append(root.right)\n",
    "        q.pop(0)\n",
    "    for i in sorted(m):\n",
    "        print(m[i], end=\" \")\n",
    "\n",
    "if __name__ == '__main__':\n",
    "    root = newNode(1)\n",
    "    root.left = newNode(2)\n",
    "    root.right = newNode(3)\n",
    "    root.left.right = newNode(4)\n",
    "    root.left.right.right = newNode(5)\n",
    "    root.left.right.right.right = newNode(6)\n",
    "    print(\"Bottom view of the tree is: \")\n",
    "    bottomview(root)"
   ]
  },
  {
   "cell_type": "code",
   "execution_count": null,
   "id": "79010791",
   "metadata": {},
   "outputs": [],
   "source": []
  }
 ],
 "metadata": {
  "kernelspec": {
   "display_name": "Python 3 (ipykernel)",
   "language": "python",
   "name": "python3"
  },
  "language_info": {
   "codemirror_mode": {
    "name": "ipython",
    "version": 3
   },
   "file_extension": ".py",
   "mimetype": "text/x-python",
   "name": "python",
   "nbconvert_exporter": "python",
   "pygments_lexer": "ipython3",
   "version": "3.9.13"
  }
 },
 "nbformat": 4,
 "nbformat_minor": 5
}

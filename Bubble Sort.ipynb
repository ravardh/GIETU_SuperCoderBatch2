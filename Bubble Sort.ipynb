{
 "cells": [
  {
   "cell_type": "code",
   "execution_count": 1,
   "id": "13b07d95",
   "metadata": {},
   "outputs": [
    {
     "name": "stdout",
     "output_type": "stream",
     "text": [
      "Enter the size of array: 5\n",
      "12\n",
      "423\n",
      "-12\n",
      "24\n",
      "5\n",
      "Unsorted array: 12 423 -12 24 5 \n",
      "Sorted array: -12 5 12 24 423 \n"
     ]
    }
   ],
   "source": [
    "# Bubble Sort\n",
    "def swap(l, i, j):\n",
    "    temp = l[i]\n",
    "    l[i] = l[j]\n",
    "    l[j] = temp\n",
    "\n",
    "def bubble_sort(l):\n",
    "    n = len(l)\n",
    "    for i in range(n):\n",
    "        for j in range(0, n - i - 1):\n",
    "            if l[j] > l[j + 1]:\n",
    "                swap(l, j, j + 1)\n",
    "\n",
    "def print_array(l):\n",
    "    for i in range(len(l)):\n",
    "        print(l[i], end=\" \")\n",
    "    print()\n",
    "\n",
    "if __name__ == \"__main__\":\n",
    "    l=[]\n",
    "    n=int(input(\"Enter the size of array: \"))\n",
    "    for i in range(n):\n",
    "        e=int(input())\n",
    "        l.append(e)\n",
    "    print(\"Unsorted array: \", end=\"\")\n",
    "    print_array(l)\n",
    "    bubble_sort(l)\n",
    "    print(\"Sorted array: \", end=\"\")\n",
    "    print_array(l)\n"
   ]
  },
  {
   "cell_type": "code",
   "execution_count": null,
   "id": "7a435c7c",
   "metadata": {},
   "outputs": [],
   "source": []
  }
 ],
 "metadata": {
  "kernelspec": {
   "display_name": "Python 3 (ipykernel)",
   "language": "python",
   "name": "python3"
  },
  "language_info": {
   "codemirror_mode": {
    "name": "ipython",
    "version": 3
   },
   "file_extension": ".py",
   "mimetype": "text/x-python",
   "name": "python",
   "nbconvert_exporter": "python",
   "pygments_lexer": "ipython3",
   "version": "3.9.13"
  }
 },
 "nbformat": 4,
 "nbformat_minor": 5
}

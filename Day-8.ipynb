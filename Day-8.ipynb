{
 "cells": [
  {
   "cell_type": "markdown",
   "id": "a2d7112d-28e9-4e7c-809d-403189b43a01",
   "metadata": {},
   "source": [
    "Count total number of nodes"
   ]
  },
  {
   "cell_type": "code",
   "execution_count": 1,
   "id": "87afa670-a0b8-4f48-b641-8c6c3f5fde48",
   "metadata": {},
   "outputs": [
    {
     "name": "stdout",
     "output_type": "stream",
     "text": [
      "Total number of nodes =  16\n"
     ]
    }
   ],
   "source": [
    "class node:\n",
    "    def __init__(self,data=None):\n",
    "        self.data = data\n",
    "        self.left = None\n",
    "        self.right = None\n",
    "\n",
    "def count(root):\n",
    "    if root == None:\n",
    "        return 0\n",
    "    else:\n",
    "        return 1 + count(root.left) + count(root.right)\n",
    "root=node(1)\n",
    "root.left=node(2)\n",
    "root.right=node(4)\n",
    "root.left.left=node(19)\n",
    "root.left.right=node(14)\n",
    "root.right.left=node(6)\n",
    "root.right.right=node(12)\n",
    "root.left.right.left=node(9)\n",
    "root.left.right.right=node(5)\n",
    "root.left.right.left.right=node(10)\n",
    "root.right.left.right=node(16)\n",
    "root.right.right.left=node(8)\n",
    "root.right.right.right=node(11)\n",
    "root.right.right.left.left=node(15)\n",
    "root.right.right.right.left=node(17)\n",
    "root.right.right.right.right=node(20)\n",
    "\n",
    "print(\"Total number of nodes = \",count(root))"
   ]
  },
  {
   "cell_type": "markdown",
   "id": "ee3e6e36-d478-44bd-b59c-0c5ceb03081d",
   "metadata": {},
   "source": [
    "Binary tree Left View"
   ]
  },
  {
   "cell_type": "code",
   "execution_count": 2,
   "id": "39b47a9b-2d8f-4f44-9531-140c34e6252a",
   "metadata": {},
   "outputs": [
    {
     "name": "stdout",
     "output_type": "stream",
     "text": [
      "1\n",
      "5\n",
      "2\n",
      "20\n",
      "10\n",
      "21\n",
      "15\n"
     ]
    }
   ],
   "source": [
    "class node:\n",
    "    def __init__(self,data=None):\n",
    "        self.data = data\n",
    "        self.left = None\n",
    "        self.right = None\n",
    "\n",
    "root=node(1)\n",
    "root.left=node(5)\n",
    "root.right=node(7)\n",
    "root.left.left=node(2)\n",
    "root.left.right=node(4)\n",
    "root.right.right=node(17)\n",
    "root.left.left.left=node(20)\n",
    "root.left.right.left=node(11)\n",
    "root.left.right.right=node(3)\n",
    "root.right.right.left=node(12)\n",
    "root.right.right.right=node(16)\n",
    "root.left.left.left.right=node(10)\n",
    "root.right.right.left.left=node(14)\n",
    "root.right.right.left.right=node(19)\n",
    "root.left.left.left.right.left=node(21)\n",
    "root.right.right.left.right.right=node(18)\n",
    "root.right.right.left.right.right.right=node(15)\n",
    "\n",
    "L =[0]\n",
    "def leftView(root,value,L):\n",
    "    if root == None:\n",
    "        return \n",
    "    cl = value\n",
    "    if(L[0]<cl):\n",
    "        print(root.data)\n",
    "        L[0] = cl\n",
    "    leftView(root.left,cl+1,L)\n",
    "    leftView(root.right,cl+1,L)\n",
    "    \n",
    "leftView(root,1,L)"
   ]
  },
  {
   "cell_type": "markdown",
   "id": "b6c5dd66-9370-4b4c-bfa7-03023b4c9738",
   "metadata": {},
   "source": [
    "Binary Tree Right View"
   ]
  },
  {
   "cell_type": "code",
   "execution_count": null,
   "id": "ab323b81-63df-4fae-8fac-b4a71cbf5e15",
   "metadata": {},
   "outputs": [],
   "source": []
  }
 ],
 "metadata": {
  "kernelspec": {
   "display_name": "Python 3 (ipykernel)",
   "language": "python",
   "name": "python3"
  },
  "language_info": {
   "codemirror_mode": {
    "name": "ipython",
    "version": 3
   },
   "file_extension": ".py",
   "mimetype": "text/x-python",
   "name": "python",
   "nbconvert_exporter": "python",
   "pygments_lexer": "ipython3",
   "version": "3.10.9"
  }
 },
 "nbformat": 4,
 "nbformat_minor": 5
}

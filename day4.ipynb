{
  "nbformat": 4,
  "nbformat_minor": 0,
  "metadata": {
    "colab": {
      "provenance": []
    },
    "kernelspec": {
      "name": "python3",
      "display_name": "Python 3"
    },
    "language_info": {
      "name": "python"
    }
  },
  "cells": [
    {
      "cell_type": "code",
      "source": [
        "#creating root node in linked list\n",
        "class Node:\n",
        "    def __init__(self,data=None):\n",
        "        self.data = data\n",
        "        self.left = None\n",
        "        self.right = None\n",
        "def inorder(root):\n",
        "  if root== None:\n",
        "    return\n",
        "  inorder(root.left)\n",
        "  print(root.data)\n",
        "  inorder(root.right)\n",
        "\n",
        "def preorder(root):\n",
        "  if root== None:\n",
        "    return\n",
        "  print(root.data)\n",
        "  inorder(root.left)\n",
        "\n",
        "  inorder(root.right)\n",
        "def postorder(root):\n",
        "  if root== None:\n",
        "    return\n",
        "  inorder(root.left)\n",
        "  inorder(root.right)\n",
        "  print(root.data)\n",
        "\n",
        "root=Node(1)\n",
        "root.right=Node(2)\n",
        "root.left=Node(3)\n",
        "root.left.left=Node(4)\n",
        "root.left.right=Node(5)\n",
        "root.right.right=Node(6)\n",
        "root.right.left=Node(7)\n",
        "print(root)\n",
        "print(root.data)\n",
        "inorder(root)\n",
        "# preorder(root)\n",
        "# postorder(root)\n",
        "# print(\"Inorder is\",)"
      ],
      "metadata": {
        "colab": {
          "base_uri": "https://localhost:8080/"
        },
        "id": "6FykvIxwtuKm",
        "outputId": "616681b5-dcf4-4f4e-b0d6-1e7a22ca30aa"
      },
      "execution_count": 22,
      "outputs": [
        {
          "output_type": "stream",
          "name": "stdout",
          "text": [
            "<__main__.Node object at 0x7fedb2b95000>\n",
            "1\n",
            "4\n",
            "3\n",
            "5\n",
            "1\n",
            "7\n",
            "2\n",
            "6\n"
          ]
        }
      ]
    },
    {
      "cell_type": "code",
      "source": [
        "class node:\n",
        "    def _init_(self,data=None):\n",
        "        self.data=data\n",
        "        self.left=None\n",
        "        self.right=None\n",
        "\n",
        "\n",
        "def inorder(root):\n",
        "    if root == None:\n",
        "        return\n",
        "\n",
        "    inorder(root.left)\n",
        "    print(root.data)\n",
        "    inorder(root.right)\n"
      ],
      "metadata": {
        "id": "_3srieLIDj6x"
      },
      "execution_count": 24,
      "outputs": []
    },
    {
      "cell_type": "code",
      "source": [
        "def preorder(root):\n",
        "    if root == None:\n",
        "        return\n",
        "\n",
        "    print(root.data)\n",
        "    preorder(root.left)\n",
        "    preorder(root.right)\n",
        "\n",
        "def postorder(root):\n",
        "    if root == None:\n",
        "        return\n",
        "    postorder(root.left)\n",
        "    postorder(root.right)\n",
        "    print(root.data)\n",
        "\n"
      ],
      "metadata": {
        "id": "vHbDblbCDqoW"
      },
      "execution_count": 25,
      "outputs": []
    },
    {
      "cell_type": "code",
      "source": [
        "def levelorder(root):\n",
        "    if root is None:\n",
        "        return\n",
        "\n",
        "    Q = [root]\n",
        "\n",
        "    while Q:\n",
        "        level_length = len(Q)\n",
        "        for _ in range(level_length):\n",
        "            cur = Q.pop(0)\n",
        "            print(cur.data, end=\" \")\n",
        "\n",
        "            if cur.left:\n",
        "                Q.append(cur.left)\n",
        "            if cur.right:\n",
        "                Q.append(cur.right)\n",
        "        print()  # Move the newline here to print after each level\n",
        "\n"
      ],
      "metadata": {
        "id": "rLS3OR2HDz4-"
      },
      "execution_count": 26,
      "outputs": []
    },
    {
      "cell_type": "code",
      "source": [
        "root=node(1)\n",
        "root.left=node(2)\n",
        "root.right=node(4)\n",
        "root.left.left=node(19)\n",
        "root.left.right=node(14)\n",
        "root.right.left=node(6)\n",
        "root.right.right=node(12)\n",
        "root.left.right.left=node(9)\n",
        "root.left.right.right=node(5)\n",
        "root.left.right.left.right=node(10)\n",
        "root.right.left.right=node(16)\n",
        "root.right.right.left=node(8)\n",
        "root.right.right.right=node(11)\n",
        "root.right.right.left.left=node(15)\n",
        "root.right.right.right.left=node(17)\n",
        "root.right.right.right.right=node(20)\n",
        "\n",
        "print(root)\n",
        "print(root.data)\n",
        "\n",
        "# print(\"Inorder traversal\")\n",
        "# inorder(root)\n",
        "\n",
        "# print(\"Preorder traversal\")\n",
        "# preorder(root)\n",
        "\n",
        "# print(\"Postorder traversal\")\n",
        "# postorder(root)\n",
        "\n",
        "print(\"Level order Traversal\")\n",
        "levelorder(root)"
      ],
      "metadata": {
        "colab": {
          "base_uri": "https://localhost:8080/",
          "height": 211
        },
        "id": "uTIX5Y38D2aV",
        "outputId": "0afe2932-55d5-4676-ac28-70a0793ab98a"
      },
      "execution_count": 27,
      "outputs": [
        {
          "output_type": "error",
          "ename": "TypeError",
          "evalue": "node() takes no arguments",
          "traceback": [
            "\u001b[0;31m---------------------------------------------------------------------------\u001b[0m",
            "\u001b[0;31mTypeError\u001b[0m                                 Traceback (most recent call last)",
            "\u001b[0;32m<ipython-input-27-1dc39e2b058b>\u001b[0m in \u001b[0;36m<cell line: 1>\u001b[0;34m()\u001b[0m\n\u001b[0;32m----> 1\u001b[0;31m \u001b[0mroot\u001b[0m\u001b[0;34m=\u001b[0m\u001b[0mnode\u001b[0m\u001b[0;34m(\u001b[0m\u001b[0;36m1\u001b[0m\u001b[0;34m)\u001b[0m\u001b[0;34m\u001b[0m\u001b[0;34m\u001b[0m\u001b[0m\n\u001b[0m\u001b[1;32m      2\u001b[0m \u001b[0mroot\u001b[0m\u001b[0;34m.\u001b[0m\u001b[0mleft\u001b[0m\u001b[0;34m=\u001b[0m\u001b[0mnode\u001b[0m\u001b[0;34m(\u001b[0m\u001b[0;36m2\u001b[0m\u001b[0;34m)\u001b[0m\u001b[0;34m\u001b[0m\u001b[0;34m\u001b[0m\u001b[0m\n\u001b[1;32m      3\u001b[0m \u001b[0mroot\u001b[0m\u001b[0;34m.\u001b[0m\u001b[0mright\u001b[0m\u001b[0;34m=\u001b[0m\u001b[0mnode\u001b[0m\u001b[0;34m(\u001b[0m\u001b[0;36m4\u001b[0m\u001b[0;34m)\u001b[0m\u001b[0;34m\u001b[0m\u001b[0;34m\u001b[0m\u001b[0m\n\u001b[1;32m      4\u001b[0m \u001b[0mroot\u001b[0m\u001b[0;34m.\u001b[0m\u001b[0mleft\u001b[0m\u001b[0;34m.\u001b[0m\u001b[0mleft\u001b[0m\u001b[0;34m=\u001b[0m\u001b[0mnode\u001b[0m\u001b[0;34m(\u001b[0m\u001b[0;36m19\u001b[0m\u001b[0;34m)\u001b[0m\u001b[0;34m\u001b[0m\u001b[0;34m\u001b[0m\u001b[0m\n\u001b[1;32m      5\u001b[0m \u001b[0mroot\u001b[0m\u001b[0;34m.\u001b[0m\u001b[0mleft\u001b[0m\u001b[0;34m.\u001b[0m\u001b[0mright\u001b[0m\u001b[0;34m=\u001b[0m\u001b[0mnode\u001b[0m\u001b[0;34m(\u001b[0m\u001b[0;36m14\u001b[0m\u001b[0;34m)\u001b[0m\u001b[0;34m\u001b[0m\u001b[0;34m\u001b[0m\u001b[0m\n",
            "\u001b[0;31mTypeError\u001b[0m: node() takes no arguments"
          ]
        }
      ]
    }
  ]
}
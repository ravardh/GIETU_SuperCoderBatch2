{
 "cells": [
  {
   "cell_type": "code",
   "execution_count": 1,
   "id": "2da71511",
   "metadata": {},
   "outputs": [
    {
     "name": "stdout",
     "output_type": "stream",
     "text": [
      "3\n",
      "12\n"
     ]
    }
   ],
   "source": [
    "a = [1,5,4,3,2]\n",
    "n = len(a)\n",
    "maxi = 0\n",
    "k = int(input())\n",
    "for i in range(0,n-k+1):\n",
    "    sum = 0\n",
    "    for j in range(i+1,k+1):\n",
    "        sum += a[j]\n",
    "    maxi = max(maxi,sum)\n",
    "print(maxi)"
   ]
  },
  {
   "cell_type": "code",
   "execution_count": 9,
   "id": "d83257cf",
   "metadata": {},
   "outputs": [
    {
     "data": {
      "text/plain": [
       "[3, 4, 5, 6, 7, 8, 9, 10]"
      ]
     },
     "execution_count": 9,
     "metadata": {},
     "output_type": "execute_result"
    }
   ],
   "source": [
    " def max_of_subarrays(arr,n,k):\n",
    "        q = []\n",
    "        answer = []\n",
    "        for i in range(k):\n",
    "            while q and arr[i]>=arr[q[-1]]:\n",
    "                q.pop()\n",
    "            q.append(i),\n",
    "        for i in range(k, n):\n",
    "            answer.append(arr[q[0]])\n",
    "            while q and q[0] <= i-k:\n",
    "                q.pop(0)                                                                #pop(0) is O(N)\n",
    "            while q and arr[i]>=arr[q[-1]]:\n",
    "                q.pop()\n",
    "            q.append(i)\n",
    "        answer.append(arr[q[0]])\n",
    "        return answer\n",
    "    \n",
    "arr = [1, 2, 3, 4, 5, 6, 7, 8, 9, 10]\n",
    "n = len(arr)\n",
    "k = 3\n",
    "     \n",
    "    \n",
    "max_of_subarrays(arr, n, k)\n"
   ]
  },
  {
   "cell_type": "code",
   "execution_count": null,
   "id": "a7cc1dab",
   "metadata": {},
   "outputs": [],
   "source": []
  }
 ],
 "metadata": {
  "kernelspec": {
   "display_name": "Python 3 (ipykernel)",
   "language": "python",
   "name": "python3"
  },
  "language_info": {
   "codemirror_mode": {
    "name": "ipython",
    "version": 3
   },
   "file_extension": ".py",
   "mimetype": "text/x-python",
   "name": "python",
   "nbconvert_exporter": "python",
   "pygments_lexer": "ipython3",
   "version": "3.11.5"
  }
 },
 "nbformat": 4,
 "nbformat_minor": 5
}

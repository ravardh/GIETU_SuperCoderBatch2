{
  "nbformat": 4,
  "nbformat_minor": 0,
  "metadata": {
    "colab": {
      "provenance": [],
      "authorship_tag": "ABX9TyPT66vu+0arl3WOLmp3Q6RS",
      "include_colab_link": true
    },
    "kernelspec": {
      "name": "python3",
      "display_name": "Python 3"
    },
    "language_info": {
      "name": "python"
    }
  },
  "cells": [
    {
      "cell_type": "markdown",
      "metadata": {
        "id": "view-in-github",
        "colab_type": "text"
      },
      "source": [
        "<a href=\"https://colab.research.google.com/github/ravardh/GIETU_SuperCoderBatch2/blob/Kundan_21cse046/Dijkstra_Minimum_Distance.ipynb\" target=\"_parent\"><img src=\"https://colab.research.google.com/assets/colab-badge.svg\" alt=\"Open In Colab\"/></a>"
      ]
    },
    {
      "cell_type": "code",
      "source": [
        "import heapq\n",
        "\n",
        "def dijkstra(graph, start):\n",
        "    distances = {node: float('inf') for node in graph}\n",
        "    distances[start] = 0\n",
        "    queue = [(0, start)]\n",
        "\n",
        "    while queue:\n",
        "        cur_distance, cur_node = heapq.heappop(queue)\n",
        "\n",
        "        if cur_distance > distances[cur_node]:\n",
        "            continue\n",
        "\n",
        "        for neighbor, weight in graph[cur_node].items():\n",
        "            distance = cur_distance + weight\n",
        "            if distance < distances[neighbor]:\n",
        "                distances[neighbor] = distance\n",
        "                heapq.heappush(queue, (distance, neighbor))\n",
        "\n",
        "    return distances\n",
        "\n",
        "graph = {\n",
        "    1: {2: 4, 8: 8},\n",
        "    2: {1: 4, 3: 8, 8: 11},\n",
        "    3: {2: 8, 4: 7, 9: 2, 6: 4},\n",
        "    4: {3: 7, 5: 9, 6: 14},\n",
        "    5: {4: 9, 6: 10},\n",
        "    6: {3: 4, 4: 14, 5: 10, 7: 2},\n",
        "    7: {6: 2, 8: 1, 9: 6},\n",
        "    8: {1: 8, 2: 11, 7: 1, 9: 7},\n",
        "    9: {3: 2, 7: 6, 8: 7}\n",
        "}\n",
        "\n",
        "start_node = 1\n",
        "distances = dijkstra(graph, start_node)\n",
        "\n",
        "print(\"Minimum distances from node\", start_node, \":\")\n",
        "for node, distance in distances.items():\n",
        "    print(\"Node:\", node, \"Distance:\", distance)\n"
      ],
      "metadata": {
        "colab": {
          "base_uri": "https://localhost:8080/"
        },
        "id": "0w-ZvH6DjeO2",
        "outputId": "6dc8e176-8a9b-4769-f8be-e6a4af63039b"
      },
      "execution_count": 14,
      "outputs": [
        {
          "output_type": "stream",
          "name": "stdout",
          "text": [
            "Minimum distances from node 1 :\n",
            "Node: 1 Distance: 0\n",
            "Node: 2 Distance: 4\n",
            "Node: 3 Distance: 12\n",
            "Node: 4 Distance: 19\n",
            "Node: 5 Distance: 21\n",
            "Node: 6 Distance: 11\n",
            "Node: 7 Distance: 9\n",
            "Node: 8 Distance: 8\n",
            "Node: 9 Distance: 14\n"
          ]
        }
      ]
    }
  ]
}
{
 "cells": [
  {
   "cell_type": "markdown",
   "id": "a3a6350a",
   "metadata": {},
   "source": [
    "priority of data types"
   ]
  },
  {
   "cell_type": "code",
   "execution_count": 2,
   "id": "4d53d945",
   "metadata": {},
   "outputs": [
    {
     "name": "stdout",
     "output_type": "stream",
     "text": [
      "2\n",
      "50.0\n"
     ]
    }
   ],
   "source": [
    "a=2.55\n",
    "print(int(a))\n",
    "b=50\n",
    "print(float(b))"
   ]
  },
  {
   "cell_type": "code",
   "execution_count": 4,
   "id": "86ae1f10",
   "metadata": {},
   "outputs": [
    {
     "name": "stdout",
     "output_type": "stream",
     "text": [
      "11.2\n",
      "<class 'int'>\n",
      "<class 'float'>\n",
      "<class 'float'>\n"
     ]
    }
   ],
   "source": [
    "a=5\n",
    "b=6.2\n",
    "print(a+b)\n",
    "print(type(a))\n",
    "print(type(b))\n",
    "print(type(a+b))"
   ]
  },
  {
   "cell_type": "code",
   "execution_count": 6,
   "id": "3bee49a4",
   "metadata": {},
   "outputs": [
    {
     "name": "stdout",
     "output_type": "stream",
     "text": [
      "<class 'int'>\n",
      "<class 'str'>\n",
      "37\n"
     ]
    }
   ],
   "source": [
    "a=10\n",
    "b=\"27\"\n",
    "print(type(a))\n",
    "print(type(b))\n",
    "#print(a+b)            This line will give error\n",
    "print(a+int(b))"
   ]
  },
  {
   "cell_type": "markdown",
   "id": "06594610",
   "metadata": {},
   "source": [
    "Operators\n",
    "\n",
    "+  Addition\n",
    "-  Subtraction\n",
    "*  multiplication\n",
    "/  Division\n",
    "// Floor Division\n",
    "%  Modulus/remainder\n",
    "** Power"
   ]
  },
  {
   "cell_type": "code",
   "execution_count": 1,
   "id": "53a42d62",
   "metadata": {},
   "outputs": [
    {
     "name": "stdout",
     "output_type": "stream",
     "text": [
      "Simple Calculator\n",
      "Enter your choice\n",
      " 1. +\n",
      " 2. -\n",
      " 3. *\n",
      " 4. /\n",
      "4\n",
      "Enter first value: 5.2\n",
      "Enter second value: 2.4\n",
      "Result:  2.166666666666667\n"
     ]
    }
   ],
   "source": [
    "print(\"Simple Calculator\")\n",
    "c=int(input(\"Enter your choice\\n 1. +\\n 2. -\\n 3. *\\n 4. /\\n\"))\n",
    "a=float(input(\"Enter first value: \"))\n",
    "b=float(input(\"Enter second value: \"))\n",
    "match c:\n",
    "    case 1: \n",
    "        print(\"Result: \",a+b)\n",
    "    \n",
    "    case 2: \n",
    "        print(\"Result: \",a-b)\n",
    "        \n",
    "    case 3: \n",
    "        print(\"Result: \",a*b)\n",
    "        \n",
    "    case 4: \n",
    "        print(\"Result: \",a/b)\n",
    "        \n",
    "    case _:\n",
    "        print(\"Pls enter valid choice\")\n"
   ]
  },
  {
   "cell_type": "code",
   "execution_count": null,
   "id": "69a0eca0",
   "metadata": {},
   "outputs": [],
   "source": []
  }
 ],
 "metadata": {
  "kernelspec": {
   "display_name": "Python 3 (ipykernel)",
   "language": "python",
   "name": "python3"
  },
  "language_info": {
   "codemirror_mode": {
    "name": "ipython",
    "version": 3
   },
   "file_extension": ".py",
   "mimetype": "text/x-python",
   "name": "python",
   "nbconvert_exporter": "python",
   "pygments_lexer": "ipython3",
   "version": "3.11.5"
  }
 },
 "nbformat": 4,
 "nbformat_minor": 5
}

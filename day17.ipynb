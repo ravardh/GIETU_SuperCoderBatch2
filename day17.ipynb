{
 "cells": [
  {
   "cell_type": "markdown",
   "id": "ab73061f",
   "metadata": {},
   "source": [
    "One day, Peter and his wife Linda moved to a grocery market to buy some groceries and other items. They only picked up the items those were having some discounts but their little son Carl picked up some toys he liked most. Later at the billing counter, Peter found that the bill was too high than expected and there were so many products to carry that they can’t. Finally, they decided to select and buy the items with a limited weight ‘W’ but wanted to keep most of items with great profit even by picking the product in the fractions. Would you please help them by implementing a logic for selecting the maximum no. of items within the total carry weight of ‘W’?\n",
    "Inputs are as given below; First line input - W: The total weight (limited) of the products to carry Second line input - N: Total no. of products to choose from Third line inputs - PW[N] : Weight of each product Fourth line inputs - PP[N] : Profit from each product TEST CASE INPUT W: 15 N: 4 PW[4]: 5 10 10 5 PP[4]: 10 5 5 10 OUTPUT Max Profit: 22.5"
   ]
  },
  {
   "cell_type": "code",
   "execution_count": null,
   "id": "d5795ce4",
   "metadata": {},
   "outputs": [],
   "source": [
    "def knapsack(W,N,PW,PP):\n",
    "    profit_per_weight=[(PP[i]/PW[i],PW[i],PP[i]) for i in range(N)]\n",
    "    profit_per_weight.sort(reverse=True)\n",
    "    max_profit=0\n",
    "    remaining_weight=W\n",
    "    \n",
    "    for ppu,weight,profit in profit_per_weight:\n",
    "        if remaining_weight>=weight:\n",
    "            max_profit+=profit\n",
    "            remaining_weight-=weight\n",
    "        else:\n",
    "            fraction=remaining_weight/weight\n",
    "            max_profit+=fraction*profit\n",
    "            break\n",
    "    return max_profit\n",
    "    \n",
    "W=int(input(\"W: \"))\n",
    "N=int(input(\"N: \"))\n",
    "PW=list(map(int, input(\"PW: \").split()))\n",
    "PP=list(map(int, input(\"PP: \").split()))\n",
    "print(\"Max Profit:\",knapsack(W,N,PW,PP))"
   ]
  },
  {
   "cell_type": "markdown",
   "id": "e45559bc",
   "metadata": {},
   "source": [
    "Max Profit: 22.5"
   ]
  },
  {
   "cell_type": "markdown",
   "id": "bca7fce3",
   "metadata": {},
   "source": [
    "In a bustling town, residents engaged in their daily activities, exchanging stories and experiences. Among them, there was a keen observer named Alex, who found fascination in sequences of numbers and their patterns. One day, while exploring the town's historical archives, Alex stumbled upon an ancient numerical tale that intrigued the curious mind. The tale involved an array of integers, where each number held a unique significance. Some numbers portrayed positive vibes, while others carried a negative essence. Alex was drawn to the mystery of discovering a special arrangement within this array – the longest subarray with the magical property that the sum of its elements equaled zero. As the town's storyteller, Alex embarked on a journey to unravel the secrets of this numerical tale. With each step through the array, Alex carefully examined the interplay of positive and negative integers, searching for patterns that would lead to a subarray of maximum length, where the sum of its elements would magically balance to zero. In the quest to find this elusive subarray, Alex encountered twists and turns, navigating through the numerical landscape. The goal was to identify a contiguous sequence of numbers that, when summed up, resulted in the enchanting total of zero. The townsfolk eagerly anticipated the discovery, envisioning the longest subarray that would showcase the intricate dance of positive and negative elements. As Alex delved into the depths of the array, the journey became a captivating exploration of numerical harmony. The longest subarray with a sum of zero became a legend, a tale whispered from one resident to another, carrying the essence of a mathematical adventure through the vibrant tapestry of the town. And so, the story of Alex's pursuit continued, weaving through the array's numerical nuances, uncovering the secrets of the longest subarray with the magical sum of zero—a tale that resonated in the hearts of the townspeople and echoed through the streets, blending the worlds of numbers and narratives in a delightful symphony. Input 6 9 -3 3 -1 6 -5 Result : 5 The following subarrays sum to zero: {-3, 3} , {-1, 6, -5}, {-3, 3, -1, 6, -5} Since we require the length of the longest subarray, our answer is 5!"
   ]
  },
  {
   "cell_type": "code",
   "execution_count": 2,
   "id": "52952f0c",
   "metadata": {},
   "outputs": [
    {
     "name": "stdout",
     "output_type": "stream",
     "text": [
      "5\n",
      "Result: 0\n"
     ]
    }
   ],
   "source": [
    "def sum(arr):\n",
    "    prefix_sum=0\n",
    "    max_length=0\n",
    "    index={}\n",
    "    \n",
    "    for i, num in enumerate(arr):\n",
    "        prefix_sum+=num\n",
    "        if num==0 and max_length==0:\n",
    "            max_length=1\n",
    "        if prefix_sum==0:\n",
    "            max_length=i+1\n",
    "        if prefix_sum in index:\n",
    "            max_length=max(max_length,i-index[prefix_sum])\n",
    "        else:\n",
    "            index[prefix_sum]=i\n",
    "    return max_length\n",
    "    \n",
    "arr=list(map(int, input().split()))\n",
    "result=sum(arr)\n",
    "print(\"Result:\",result)"
   ]
  },
  {
   "cell_type": "markdown",
   "id": "770c9383",
   "metadata": {},
   "source": [
    "Deep in the heart of an ancient jungle lies a hidden treasure, guarded by mystical creatures and traps. You, an intrepid adventurer, have embarked on a quest to uncover this treasure and claim it as your own. Armed with a map and your wits, you navigate through the dense foliage, inching closer to your goal with each step. However, the jungle is fraught with danger, and you must tread carefully to avoid falling into the clutches of the guardians that protect the treasure. Your map reveals a series of numbered locations, each representing a potential hiding spot for the treasure. But beware - the treasure may not be found at a single location; it could be hidden within a sequence of adjacent locations. To aid you in your quest, you possess a magical compass that guides you towards the treasure. The compass, however, has a limitation: it can only detect the presence of the treasure within a fixed range of locations at any given time. Your task is to devise a strategy to maximize your chances of finding the treasure. Using the information provided by the map and your compass, you must determine the maximum number of locations within the jungle where the treasure could be hidden."
   ]
  },
  {
   "cell_type": "code",
   "execution_count": 3,
   "id": "f3ec8d80",
   "metadata": {},
   "outputs": [
    {
     "name": "stdout",
     "output_type": "stream",
     "text": [
      "Maximum number of locations with treasure: 0\n"
     ]
    }
   ],
   "source": [
    "def max_treasure_locations(locations, range_limit):\n",
    "    max_locations = 0\n",
    "    current_locations = set()\n",
    "    left = right = 0\n",
    "\n",
    "    while right < len(locations):\n",
    "        current_locations.add(locations[right])\n",
    "        while len(current_locations) > range_limit:\n",
    "            if locations[left] in current_locations:\n",
    "                current_locations.remove(locations[left])\n",
    "        left += 1\n",
    "        max_locations = max(max_locations, right - left + 1)\n",
    "        right += 1\n",
    "    return max_locations\n",
    "\n",
    "locations = [1, 3, 1, 2, 2, 4, 5, 3, 6]\n",
    "range_limit = 3\n",
    "print(\"Maximum number of locations with treasure:\", max_treasure_locations(locations, range_limit))"
   ]
  },
  {
   "cell_type": "markdown",
   "id": "60960a08",
   "metadata": {},
   "source": [
    "Problem Statement: The Treasure Hunt Deep in the heart of an ancient jungle lies a hidden treasure, guarded by mystical creatures and traps. You, an intrepid adventurer, have embarked on a quest to uncover this treasure and claim it as your own. Armed with a map and your wits, you navigate through the dense foliage, inching closer to your goal with each step. However, the jungle is fraught with danger, and you must tread carefully to avoid falling into the clutches of the guardians that protect the treasure. Your map reveals a series of numbered locations, each representing a potential hiding spot for the treasure. But beware - the treasure may not be found at a single location; it could be hidden within a sequence of adjacent locations. To aid you in your quest, you possess a magical compass that guides you towards the treasure. The compass, however, has a limitation: it can only detect the presence of the treasure within a fixed range of locations at any given time. Your task is to devise a strategy to maximize your chances of finding the treasure. Using the information provided by the map and your compass, you must determine the maximum number of locations within the jungle where the treasure could be hidden. Consider a map with the following numbered locations: [2, 7, 1, 4, 8, 3, 5] And a magical compass with a range of 3 locations. Your strategy should identify the maximum number of locations where the treasure could potentially be hidden. In this case, the optimal solution would be to search within the range of locations [1, 4, 8], where the treasure is most likely to be found. Expected Output: Maximum number of potential treasure locations: 3"
   ]
  },
  {
   "cell_type": "code",
   "execution_count": 4,
   "id": "3fd40cd2",
   "metadata": {},
   "outputs": [
    {
     "name": "stdout",
     "output_type": "stream",
     "text": [
      "Maximum potential hiding spots: {1, 2, 3, 4, 5, 7, 8}\n",
      "Number of maximum potential hiding spots: 7\n"
     ]
    }
   ],
   "source": [
    "def spots(locations,compass_range):\n",
    "    max_hiding_spots=set()\n",
    "    \n",
    "    for i in range(len(locations)):\n",
    "        current_location=locations[i]\n",
    "        potential_hiding_spots=set()\n",
    "        start_index=max(0,i-compass_range)\n",
    "        end_index=min(len(locations),i+compass_range+1)\n",
    "        for j in range(start_index,end_index):\n",
    "            if j!=i:\n",
    "                potential_hiding_spots.add(locations[j])\n",
    "        max_hiding_spots.update(potential_hiding_spots)\n",
    "    return max_hiding_spots\n",
    "\n",
    "locations=[2,7,1,4,8,3,5]\n",
    "compass_range=3\n",
    "max_hiding_spots=spots(locations,compass_range)\n",
    "print(\"Maximum potential hiding spots:\",max_hiding_spots)\n",
    "print(\"Number of maximum potential hiding spots:\",len(max_hiding_spots))"
   ]
  },
  {
   "cell_type": "markdown",
   "id": "d5d7a3b7",
   "metadata": {},
   "source": [
    "Coin Game Problem Consider a two-player coin game where each player gets turned one by one. There is a row of even number of coins, and a player on his/her turn can pick a coin from any of the two corners of the row. The player that collects coins with more value wins the game. Develop a strategy for the player making the first turn, such that he/she never loses the game. Note that the strategy to pick a maximum of two corners may not work. In the following example, the first player loses the game when he/she uses strategy to pick a maximum of two corners. Example: Input:18 20 15 30 10 14 Output:Second player wins."
   ]
  },
  {
   "cell_type": "code",
   "execution_count": 5,
   "id": "c33248b8",
   "metadata": {},
   "outputs": [
    {
     "name": "stdout",
     "output_type": "stream",
     "text": [
      "Result: Second player wins.\n"
     ]
    }
   ],
   "source": [
    "def winning_strategy(coins):\n",
    "    n = len(coins)\n",
    "    if sum(coins[::2])>sum(coins[1::2]):\n",
    "        return \"First player wins.\"\n",
    "    else:\n",
    "        return \"Second player wins.\"\n",
    "\n",
    "coins = [18,20,15,30,10,14]\n",
    "result = winning_strategy(coins)\n",
    "print(\"Result:\",result)"
   ]
  },
  {
   "cell_type": "code",
   "execution_count": null,
   "id": "ae157ad7",
   "metadata": {},
   "outputs": [],
   "source": []
  }
 ],
 "metadata": {
  "kernelspec": {
   "display_name": "Python 3 (ipykernel)",
   "language": "python",
   "name": "python3"
  },
  "language_info": {
   "codemirror_mode": {
    "name": "ipython",
    "version": 3
   },
   "file_extension": ".py",
   "mimetype": "text/x-python",
   "name": "python",
   "nbconvert_exporter": "python",
   "pygments_lexer": "ipython3",
   "version": "3.11.5"
  }
 },
 "nbformat": 4,
 "nbformat_minor": 5
}

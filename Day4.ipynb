{
  "nbformat": 4,
  "nbformat_minor": 0,
  "metadata": {
    "colab": {
      "provenance": []
    },
    "kernelspec": {
      "name": "python3",
      "display_name": "Python 3"
    },
    "language_info": {
      "name": "python"
    }
  },
  "cells": [
    {
      "cell_type": "code",
      "execution_count": 1,
      "metadata": {
        "id": "-3VURr6p0hWm"
      },
      "outputs": [],
      "source": [
        "# GRAPH USING LIKED LIST\n",
        "class node:\n",
        "  def __init__(self,data=None):\n",
        "    self.data=data\n",
        "    self.next=None\n",
        "class Graph:\n",
        "  def __init__(self):\n",
        "       self.head=None\n",
        "  def root(self,data):\n",
        "    Node = node(data)\n",
        "    Node.next=self.head\n",
        "    self.head=Node\n",
        "graph = Graph()\n",
        "graph.insert(5)"
      ]
    },
    {
      "cell_type": "code",
      "source": [
        "class node:\n",
        "  def __init__(self,data=None):\n",
        "    self.data=data\n",
        "    self.left=None\n",
        "    self.right=None\n",
        "def printg(root):\n",
        "  if(root==None):\n",
        "    return\n",
        "  print(root.data)\n",
        "  printg(root.left)\n",
        "  printg(root.right)\n",
        "\n",
        "def inorder(root):\n",
        "  if(root==None):\n",
        "    return\n",
        "  inorder(root.left)\n",
        "  print(root.data)\n",
        "  inorder(root.right)\n",
        "def preorder(root):\n",
        "  if(root==None):\n",
        "    return\n",
        "  print(root.data)\n",
        "  preorder(root.left)\n",
        "  preorder(root.right)\n",
        "def postorder(root):\n",
        "  if(root==None):\n",
        "    return\n",
        "  postorder(root.left)\n",
        "  postorder(root.right)\n",
        "  print(root.data)\n",
        "def levelorder(root):\n",
        "    if root is None:\n",
        "        return\n",
        "\n",
        "    Q = [root]\n",
        "\n",
        "    while Q:\n",
        "        level_length = len(Q)\n",
        "        for _ in range(level_length):\n",
        "            cur = Q.pop(0)\n",
        "            print(cur.data, end=\" \")\n",
        "\n",
        "            if cur.left:\n",
        "                Q.append(cur.left)\n",
        "            if cur.right:\n",
        "                Q.append(cur.right)\n",
        "        print()  # Move the newline here to print after each leve\n",
        "\n",
        "\n",
        "  Level(root.left)\n",
        "  Level(root.right)\n",
        "root=node(1)\n",
        "root.left=node(2)\n",
        "root.right=node(3)\n",
        "root.left.left=node(4)\n",
        "root.left.right=node(5)\n",
        "root.right.left=node(6)\n",
        "root.right.right=node(7)\n",
        "# print(root.data)\n",
        "# inorder(root)\n",
        "# printg(root)\n",
        "# preorder(root)\n",
        "# postorder(root)\n",
        "Level(root)\n"
      ],
      "metadata": {
        "id": "dqnNZ2KX6DVV"
      },
      "execution_count": null,
      "outputs": []
    },
    {
      "cell_type": "code",
      "source": [],
      "metadata": {
        "id": "gGUeqNrK8EIM"
      },
      "execution_count": null,
      "outputs": []
    }
  ]
}
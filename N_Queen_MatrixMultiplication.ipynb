{
  "nbformat": 4,
  "nbformat_minor": 0,
  "metadata": {
    "colab": {
      "provenance": [],
      "authorship_tag": "ABX9TyOqotQhkGpe4xBMqEicLF6K",
      "include_colab_link": true
    },
    "kernelspec": {
      "name": "python3",
      "display_name": "Python 3"
    },
    "language_info": {
      "name": "python"
    }
  },
  "cells": [
    {
      "cell_type": "markdown",
      "metadata": {
        "id": "view-in-github",
        "colab_type": "text"
      },
      "source": [
        "<a href=\"https://colab.research.google.com/github/ravardh/GIETU_SuperCoderBatch2/blob/Kundan_21cse046/N_Queen_MatrixMultiplication.ipynb\" target=\"_parent\"><img src=\"https://colab.research.google.com/assets/colab-badge.svg\" alt=\"Open In Colab\"/></a>"
      ]
    },
    {
      "cell_type": "code",
      "source": [
        "def nqueen(board, row, col):\n",
        "    for i in range(col):\n",
        "        if board[row][i] == 1:\n",
        "            return False\n",
        "\n",
        "    i, j = row, col\n",
        "    while i >= 0 and j >= 0:\n",
        "        if board[i][j] == 1:\n",
        "            return False\n",
        "        i -= 1\n",
        "        j -= 1\n",
        "\n",
        "    i, j = row, col\n",
        "    while i < len(board) and j >= 0:\n",
        "        if board[i][j] == 1:\n",
        "            return False\n",
        "        i += 1\n",
        "        j -= 1\n",
        "\n",
        "    return True\n",
        "\n",
        "def solve_queens(board, col):\n",
        "    if col >= len(board):\n",
        "        return True\n",
        "\n",
        "    for i in range(len(board)):\n",
        "        if nqueen(board, i, col):\n",
        "            board[i][col] = 1\n",
        "            if solve_queens(board, col + 1):\n",
        "                return True\n",
        "            board[i][col] = 0\n",
        "\n",
        "    return False\n",
        "\n",
        "def print_solution(board):\n",
        "    for row in board:\n",
        "        print(\" \".join(map(str, row)))\n",
        "\n",
        "def solve_n_queens(n):\n",
        "    board = [[0] * n for _ in range(n)]\n",
        "    if not solve_queens(board, 0):\n",
        "        print(\"No solution exists.\")\n",
        "        return\n",
        "    print_solution(board)\n",
        "\n",
        "if __name__ == \"__main__\":\n",
        "    solve_n_queens(4)\n"
      ],
      "metadata": {
        "colab": {
          "base_uri": "https://localhost:8080/"
        },
        "id": "Sb_m0WS53RPR",
        "outputId": "3f4d063e-ca4c-455e-9458-b700c812b579"
      },
      "execution_count": 11,
      "outputs": [
        {
          "output_type": "stream",
          "name": "stdout",
          "text": [
            "0 0 1 0\n",
            "1 0 0 0\n",
            "0 0 0 1\n",
            "0 1 0 0\n"
          ]
        }
      ]
    },
    {
      "cell_type": "code",
      "source": [
        "def matrix_multiplication(matrix1, matrix2):\n",
        "    if len(matrix1[0]) != len(matrix2):\n",
        "        print(\"Error: Number of columns in the first matrix must be equal to the number of rows in the second matrix.\")\n",
        "        return None\n",
        "\n",
        "    result = [[0] * len(matrix2[0]) for _ in range(len(matrix1))]\n",
        "\n",
        "    for i in range(len(matrix1)):\n",
        "        for j in range(len(matrix2[0])):\n",
        "            for k in range(len(matrix2)):\n",
        "                result[i][j] += matrix1[i][k] * matrix2[k][j]\n",
        "\n",
        "    return result\n",
        "\n",
        "matrix1 = [[1, 2, 3],\n",
        "           [4, 5, 6]]\n",
        "\n",
        "matrix2 = [[7, 8],\n",
        "           [9, 10],\n",
        "           [11, 12]]\n",
        "\n",
        "result = matrix_multiplication(matrix1, matrix2)\n",
        "if result is not None:\n",
        "    print(\"Matrix multiplication result:\")\n",
        "    for row in result:\n",
        "        print(row)\n"
      ],
      "metadata": {
        "colab": {
          "base_uri": "https://localhost:8080/"
        },
        "id": "ZVCNVmq9GJQ5",
        "outputId": "5360516a-fc25-4770-b703-e53392565fb7"
      },
      "execution_count": 13,
      "outputs": [
        {
          "output_type": "stream",
          "name": "stdout",
          "text": [
            "Matrix multiplication result:\n",
            "[58, 64]\n",
            "[139, 154]\n"
          ]
        }
      ]
    }
  ]
}
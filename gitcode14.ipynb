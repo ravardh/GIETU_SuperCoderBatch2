{
  "nbformat": 4,
  "nbformat_minor": 0,
  "metadata": {
    "colab": {
      "provenance": []
    },
    "kernelspec": {
      "name": "python3",
      "display_name": "Python 3"
    },
    "language_info": {
      "name": "python"
    }
  },
  "cells": [
    {
      "cell_type": "code",
      "execution_count": 1,
      "metadata": {
        "colab": {
          "base_uri": "https://localhost:8080/"
        },
        "id": "i8Xs0PDmeOjC",
        "outputId": "80b462d4-8e74-4630-c8df-13d9ba3964df"
      },
      "outputs": [
        {
          "output_type": "stream",
          "name": "stdout",
          "text": [
            "Maximum number of potential treasure locations: 5\n"
          ]
        }
      ],
      "source": [
        "def max_potential_locations(locations, compass_range):\n",
        "    max_locations = 0\n",
        "    n = len(locations)\n",
        "\n",
        "    for i in range(n):\n",
        "        left = max(0, i - compass_range + 1)\n",
        "        right = min(n, i + compass_range)\n",
        "\n",
        "        max_locations = max(max_locations, right - left)\n",
        "\n",
        "    return max_locations\n",
        "\n",
        "# Example usage:\n",
        "locations = [2, 7, 1, 4, 8, 3, 5]\n",
        "compass_range = 3\n",
        "\n",
        "result = max_potential_locations(locations, compass_range)\n",
        "print(\"Maximum number of potential treasure locations:\", result)\n"
      ]
    },
    {
      "cell_type": "code",
      "source": [],
      "metadata": {
        "id": "nkdyeM5eehE-"
      },
      "execution_count": null,
      "outputs": []
    }
  ]
}
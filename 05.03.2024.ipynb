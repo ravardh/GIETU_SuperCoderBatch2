{
 "cells": [
  {
   "cell_type": "code",
   "execution_count": 12,
   "id": "d6126171",
   "metadata": {},
   "outputs": [
    {
     "name": "stdout",
     "output_type": "stream",
     "text": [
      "Selected items: [0, 1, 2, 4, 5]\n"
     ]
    }
   ],
   "source": [
    "def knapsack01(capacity, weights, prices, n):\n",
    "    table = [[0 for _ in range(capacity + 1)] for _ in range(n + 1)]\n",
    "    for i in range(n + 1):\n",
    "        for w in range(capacity + 1):\n",
    "            if i == 0 or w == 0:\n",
    "                table[i][w] = 0\n",
    "            elif weights[i - 1] <= w:\n",
    "                table[i][w] = max(prices[i - 1] + table[i - 1][w - weights[i - 1]], table[i - 1][w])\n",
    "            else:\n",
    "                table[i][w] = table[i - 1][w]\n",
    "    selected_items = []\n",
    "    w = capacity\n",
    "    for i in range(n, 0, -1):\n",
    "        if table[i][w] != table[i - 1][w]:\n",
    "            selected_items.append(i - 1)\n",
    "            w -= weights[i - 1]\n",
    "\n",
    "    selected_items.reverse()\n",
    "    return selected_items\n",
    "\n",
    "capacity = 15\n",
    "item = [0, 1, 2, 3, 4, 5, 6]\n",
    "price = [10, 5, 15, 7, 6, 18, 3]\n",
    "weight = [2, 3, 5, 7, 1, 4, 1]\n",
    "n = len(item)\n",
    "\n",
    "selected_items = knapsack01(capacity, weight, price, n)\n",
    "print(\"Selected items:\", selected_items)\n"
   ]
  },
  {
   "cell_type": "code",
   "execution_count": 15,
   "id": "d8a01de1",
   "metadata": {},
   "outputs": [
    {
     "name": "stdout",
     "output_type": "stream",
     "text": [
      "Selected items: [0, 1, 2, 4, 5]\n",
      "Total value: 54\n"
     ]
    }
   ],
   "source": [
    "def knapsack01(items, price, weight, capacity):\n",
    "    n = len(items)\n",
    "    table = [[0] * (capacity + 1) for _ in range(n + 1)]\n",
    "\n",
    "    for i in range(1, n + 1):\n",
    "        for w in range(capacity + 1):\n",
    "            if weight[i - 1] <= w:\n",
    "                table[i][w] = max(table[i - 1][w], price[i - 1] + table[i - 1][w - weight[i - 1]])\n",
    "            else:\n",
    "                table[i][w] = table[i - 1][w]\n",
    "                \n",
    "    selected_items = []\n",
    "    i, j = n, capacity\n",
    "    while i > 0 and j > 0:\n",
    "        if table[i][j] != table[i - 1][j]:\n",
    "            selected_items.append(items[i - 1])\n",
    "            j -= weight[i - 1]\n",
    "        i -= 1\n",
    "        \n",
    "    selected_items.reverse()\n",
    "    return selected_items, table[n][capacity]\n",
    "\n",
    "items = [0, 1, 2, 3, 4, 5, 6]\n",
    "price = [10, 5, 15, 7, 6, 18, 3]\n",
    "weight = [2, 3, 5, 7, 1, 4, 1]\n",
    "capacity = 15\n",
    "\n",
    "selected_items, total_value = knapsack01(items, price, weight, capacity)\n",
    "\n",
    "print(\"Selected items:\", selected_items)\n",
    "print(\"Total value:\", total_value)"
   ]
  },
  {
   "cell_type": "code",
   "execution_count": null,
   "id": "727bcd58",
   "metadata": {},
   "outputs": [],
   "source": []
  }
 ],
 "metadata": {
  "kernelspec": {
   "display_name": "Python 3 (ipykernel)",
   "language": "python",
   "name": "python3"
  },
  "language_info": {
   "codemirror_mode": {
    "name": "ipython",
    "version": 3
   },
   "file_extension": ".py",
   "mimetype": "text/x-python",
   "name": "python",
   "nbconvert_exporter": "python",
   "pygments_lexer": "ipython3",
   "version": "3.9.13"
  }
 },
 "nbformat": 4,
 "nbformat_minor": 5
}

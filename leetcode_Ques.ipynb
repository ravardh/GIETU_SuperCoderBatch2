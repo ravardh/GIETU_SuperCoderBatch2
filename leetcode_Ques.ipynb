{
  "nbformat": 4,
  "nbformat_minor": 0,
  "metadata": {
    "colab": {
      "provenance": [],
      "authorship_tag": "ABX9TyNTGJso5COaIRV+mWTtcCns",
      "include_colab_link": true
    },
    "kernelspec": {
      "name": "python3",
      "display_name": "Python 3"
    },
    "language_info": {
      "name": "python"
    }
  },
  "cells": [
    {
      "cell_type": "markdown",
      "metadata": {
        "id": "view-in-github",
        "colab_type": "text"
      },
      "source": [
        "<a href=\"https://colab.research.google.com/github/ravardh/GIETU_SuperCoderBatch2/blob/Jatin_21CSE153/leetcode_Ques.ipynb\" target=\"_parent\"><img src=\"https://colab.research.google.com/assets/colab-badge.svg\" alt=\"Open In Colab\"/></a>"
      ]
    },
    {
      "cell_type": "code",
      "execution_count": 1,
      "metadata": {
        "colab": {
          "base_uri": "https://localhost:8080/"
        },
        "id": "I7EzGEIg3sLQ",
        "outputId": "10afd76c-41c3-412b-ed0c-3036b59fc8c6"
      },
      "outputs": [
        {
          "output_type": "stream",
          "name": "stdout",
          "text": [
            "3\n"
          ]
        }
      ],
      "source": [
        "# first missing positive integer\n",
        "\n",
        "def firstMissingPositive(nums):\n",
        "    nums.sort()\n",
        "    missingVal = 1\n",
        "    for i in nums:\n",
        "        if (nums[i] == missingVal):\n",
        "            missingVal += 1\n",
        "    return missingVal\n",
        "\n",
        "\n",
        "nums = [2, 0, 1]\n",
        "print(firstMissingPositive(nums))\n"
      ]
    },
    {
      "cell_type": "code",
      "source": [
        "# Container with most water\n",
        "def containerWithMostWater(height):\n",
        "    start = 0\n",
        "    end = len(height)-1\n",
        "    maxArea = 0\n",
        "    while (start < end):\n",
        "        maxArea = max(maxArea, min(height[start], height[end])*(end-start))\n",
        "        if (height[start] < height[end]):\n",
        "            start += 1\n",
        "        else:\n",
        "            end -= 1\n",
        "    return maxArea\n",
        "\n",
        "\n",
        "height = [1, 8, 6, 2, 5, 4, 8, 3, 7]\n",
        "print(containerWithMostWater(height))\n"
      ],
      "metadata": {
        "colab": {
          "base_uri": "https://localhost:8080/"
        },
        "id": "Llt9nBNU301H",
        "outputId": "eb0869e8-7f79-4ece-ace6-f7f74414ea89"
      },
      "execution_count": 2,
      "outputs": [
        {
          "output_type": "stream",
          "name": "stdout",
          "text": [
            "49\n"
          ]
        }
      ]
    }
  ]
}
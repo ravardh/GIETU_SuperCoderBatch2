{
  "nbformat": 4,
  "nbformat_minor": 0,
  "metadata": {
    "colab": {
      "provenance": []
    },
    "kernelspec": {
      "name": "python3",
      "display_name": "Python 3"
    },
    "language_info": {
      "name": "python"
    }
  },
  "cells": [
    {
      "cell_type": "code",
      "execution_count": null,
      "metadata": {
        "colab": {
          "base_uri": "https://localhost:8080/"
        },
        "id": "mXIcrIMcICSM",
        "outputId": "fb8683fe-f0a2-4460-8693-15e7b9bc85df"
      },
      "outputs": [
        {
          "output_type": "stream",
          "name": "stdout",
          "text": [
            "[0, 1, 1, 2, 3, 5, 8, 13]\n"
          ]
        }
      ],
      "source": [
        "def fibo(term, dp):\n",
        "    if term == 0 or term == 1:\n",
        "      dp[term]=term\n",
        "      return term\n",
        "    if dp[term] != -1:\n",
        "        return dp[term]\n",
        "    dp[term] = fibo(term - 1, dp) + fibo(term - 2, dp)\n",
        "    return dp[term]\n",
        "dp = [-1] * 8\n",
        "for i in range(8):\n",
        "    fibo(i, dp)\n",
        "print(dp)"
      ]
    }
  ]
}
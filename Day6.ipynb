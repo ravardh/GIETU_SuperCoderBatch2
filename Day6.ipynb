{
  "nbformat": 4,
  "nbformat_minor": 0,
  "metadata": {
    "colab": {
      "provenance": []
    },
    "kernelspec": {
      "name": "python3",
      "display_name": "Python 3"
    },
    "language_info": {
      "name": "python"
    }
  },
  "cells": [
    {
      "cell_type": "code",
      "execution_count": null,
      "metadata": {
        "id": "fu1CHkHvOHCq",
        "colab": {
          "base_uri": "https://localhost:8080/"
        },
        "outputId": "04b1cd0c-0bbf-4cbf-a04f-321cc72fe55e"
      },
      "outputs": [
        {
          "output_type": "stream",
          "name": "stdout",
          "text": [
            "1\n",
            "5\n",
            "2\n",
            "20\n",
            "10\n",
            "21\n",
            "15\n"
          ]
        }
      ],
      "source": [
        "class node:\n",
        "    def __init__(self,info=None):\n",
        "        self.left=None\n",
        "        self.data=info\n",
        "        self.right=None\n",
        "        self.key=None\n",
        "def leftView(root,cl,l):\n",
        "  # print(cl,l)\n",
        "  if root==None:\n",
        "    return\n",
        "  if(cl > l[0]):\n",
        "    print(root.data)\n",
        "    l[0]=cl\n",
        "  #leftview\n",
        "  # leftView(root.left,cl+1,l)\n",
        "  # leftView(root.right,cl+1,l)\n",
        "\n",
        "  #rightview\n",
        "  leftView(root.right,cl+1,l)\n",
        "  leftView(root.left,cl+1,l)\n",
        "root=node(1)\n",
        "root.left=node(5)\n",
        "root.right=node(7)\n",
        "root.left.left=node(2)\n",
        "root.left.right=node(4)\n",
        "root.right.right=node(17)\n",
        "root.right.right.left=node(12)\n",
        "root.right.right.right=node(16)\n",
        "root.right.right.left.left=node(14)\n",
        "root.right.right.left.right=node(19)\n",
        "root.right.right.left.right.right=node(18)\n",
        "root.right.right.left.right.right.right=node(15)\n",
        "root.left.right.right=node(3)\n",
        "root.left.right.left=node(11)\n",
        "root.left.left.left=node(20)\n",
        "root.left.left.left.right=node(10)\n",
        "root.left.left.left.right.left=node(21)\n",
        "l=[0]\n",
        "leftView(root,1,l)"
      ]
    },
    {
      "cell_type": "code",
      "source": [
        "#count the node\n",
        "def countNode(root,l):\n",
        "    if root==None:\n",
        "      return\n",
        "    else:\n",
        "      l[0]=l[0]+1\n",
        "    countNode(root.left,l)\n",
        "    countNode(root.right,l)\n",
        "root=node(1)\n",
        "root.left=node(5)\n",
        "root.right=node(7)\n",
        "root.left.left=node(2)\n",
        "root.left.right=node(4)\n",
        "root.right.right=node(17)\n",
        "root.right.right.left=node(12)\n",
        "root.right.right.right=node(16)\n",
        "root.right.right.left.left=node(14)\n",
        "root.right.right.left.right=node(19)\n",
        "root.right.right.left.right.right=node(18)\n",
        "root.right.right.left.right.right.right=node(15)\n",
        "root.left.right.right=node(3)\n",
        "root.left.right.left=node(11)\n",
        "root.left.left.left=node(20)\n",
        "root.left.left.left.right=node(10)\n",
        "root.left.left.left.right.left=node(21)\n",
        "l=[0]\n",
        "countNode(root,l)\n",
        "print(l[0])"
      ],
      "metadata": {
        "colab": {
          "base_uri": "https://localhost:8080/"
        },
        "id": "nHRI4c47qr--",
        "outputId": "5d25f2fd-5c00-45a7-8847-fed2c708192a"
      },
      "execution_count": null,
      "outputs": [
        {
          "output_type": "stream",
          "name": "stdout",
          "text": [
            "17\n"
          ]
        }
      ]
    },
    {
      "cell_type": "code",
      "source": [
        "class node:\n",
        "    def __init__(self,info=None):\n",
        "        self.left=None\n",
        "        self.data=info\n",
        "        self.right=None\n",
        "        self.key=None\n",
        "l=[]\n"
      ],
      "metadata": {
        "id": "9aSUC9ehv-SP"
      },
      "execution_count": null,
      "outputs": []
    }
  ]
}
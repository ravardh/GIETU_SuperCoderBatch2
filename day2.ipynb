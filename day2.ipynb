{
 "cells": [
  {
   "cell_type": "code",
   "execution_count": 1,
   "id": "50772a9e",
   "metadata": {},
   "outputs": [
    {
     "name": "stdout",
     "output_type": "stream",
     "text": [
      "[1, 1, 2, 3, 6, 8, 10]\n"
     ]
    }
   ],
   "source": [
    "def quick_sort(arr, start, end):\n",
    "    if start < end:\n",
    "        pivot = arr[end]\n",
    "        i = start - 1\n",
    "        for j in range(start, end):\n",
    "            if arr[j] <= pivot:\n",
    "                i += 1\n",
    "                arr[i], arr[j] = arr[j], arr[i]\n",
    "        arr[i + 1], arr[end] = arr[end], arr[i + 1]\n",
    "        pivot_index = i + 1\n",
    "        quick_sort(arr, start, pivot_index - 1)\n",
    "        quick_sort(arr, pivot_index + 1, end)\n",
    "\n",
    "arr = [3, 6, 8, 10, 1, 2, 1]\n",
    "quick_sort(arr, 0, len(arr) - 1)\n",
    "print(arr)  \n"
   ]
  },
  {
   "cell_type": "code",
   "execution_count": 2,
   "id": "8ec60a6c",
   "metadata": {},
   "outputs": [
    {
     "name": "stdout",
     "output_type": "stream",
     "text": [
      "[3, 9, 10, 27, 38, 43, 82]\n"
     ]
    }
   ],
   "source": [
    "def merge_sort(arr):\n",
    "    if len(arr) > 1:\n",
    "        mid = len(arr) // 2\n",
    "        l = arr[:mid]\n",
    "        r = arr[mid:]\n",
    "\n",
    "        merge_sort(l)\n",
    "        merge_sort(r)\n",
    "\n",
    "        i = j = k = 0\n",
    "\n",
    "        while i < len(l) and j < len(r):\n",
    "            if l[i] < r[j]:\n",
    "                arr[k] = l[i]\n",
    "                i += 1\n",
    "            else:\n",
    "                arr[k] = r[j]\n",
    "                j += 1\n",
    "            k += 1\n",
    "\n",
    "        while i < len(l):\n",
    "            arr[k] = l[i]\n",
    "            i += 1\n",
    "            k += 1\n",
    "\n",
    "        while j < len(r):\n",
    "            arr[k] = r[j]\n",
    "            j += 1\n",
    "            k += 1\n",
    "\n",
    "    return arr\n",
    "\n",
    "arr = [38, 27, 43, 3, 9, 82, 10]\n",
    "sorted_arr = merge_sort(arr)\n",
    "print(sorted_arr) \n"
   ]
  },
  {
   "cell_type": "code",
   "execution_count": null,
   "id": "b59dfedd",
   "metadata": {},
   "outputs": [],
   "source": []
  }
 ],
 "metadata": {
  "kernelspec": {
   "display_name": "Python 3 (ipykernel)",
   "language": "python",
   "name": "python3"
  },
  "language_info": {
   "codemirror_mode": {
    "name": "ipython",
    "version": 3
   },
   "file_extension": ".py",
   "mimetype": "text/x-python",
   "name": "python",
   "nbconvert_exporter": "python",
   "pygments_lexer": "ipython3",
   "version": "3.11.5"
  }
 },
 "nbformat": 4,
 "nbformat_minor": 5
}

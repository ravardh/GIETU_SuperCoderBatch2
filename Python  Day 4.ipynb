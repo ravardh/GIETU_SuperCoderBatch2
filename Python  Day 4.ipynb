{
 "cells": [
  {
   "cell_type": "markdown",
   "id": "487f149f-0109-497f-a974-200b31fb6356",
   "metadata": {},
   "source": [
    "exception handling\n",
    "\n",
    "try\n",
    "except\n",
    "else\n",
    "finally"
   ]
  },
  {
   "cell_type": "code",
   "execution_count": 27,
   "id": "a0dd319a-9570-4275-ac56-8e0fd53a5e60",
   "metadata": {},
   "outputs": [
    {
     "name": "stdout",
     "output_type": "stream",
     "text": [
      "{1: 'abc', 2: 'def', 3: 'xyz'}\n",
      "def\n",
      "Valid key\n",
      "code executed sucessfully\n"
     ]
    }
   ],
   "source": [
    "d={1:\"abc\",2:\"def\",3:\"xyz\"}\n",
    "print(d)\n",
    "try:\n",
    "    print(d[2])\n",
    "except:\n",
    "    print(\"Invalid key\")\n",
    "else:\n",
    "    print(\"Valid key\")\n",
    "finally:\n",
    "    print(\"code executed sucessfully\")"
   ]
  },
  {
   "cell_type": "code",
   "execution_count": 35,
   "id": "2e963d94-3b56-493e-8e07-82ebb403d34c",
   "metadata": {},
   "outputs": [],
   "source": [
    "#GFG Solution\n",
    "#Maximum of all subarrays of size k\n",
    "class Solution:\n",
    "    def max_of_subarrays(self, arr, n, k):\n",
    "        res = []\n",
    "        if arr is None or k <= 0:\n",
    "            return res\n",
    "        q = deque()\n",
    "        for i in range(n):\n",
    "            while q and q[0] <= i - k:\n",
    "                q.popleft()\n",
    "            while q and arr[q[-1]] < arr[i]:\n",
    "                q.pop()\n",
    "            q.append(i)\n",
    "            if i >= k - 1:\n",
    "                res.append(arr[q[0]])\n",
    "        return res"
   ]
  },
  {
   "cell_type": "code",
   "execution_count": 39,
   "id": "ee59e8a6-2541-43b7-8c2d-cf6038217312",
   "metadata": {},
   "outputs": [
    {
     "name": "stdout",
     "output_type": "stream",
     "text": [
      "Pattern found in the position of:  [6, 12]\n"
     ]
    }
   ],
   "source": [
    "#String = ABCBBACBAABACBABC\n",
    "#Pattern = CBA\n",
    "\n",
    "def find(string,pattern):\n",
    "    pattern_length=len(pattern)\n",
    "    pattern_positions=[]\n",
    "    for i in range(len(string)-pattern_length + 1):\n",
    "        if string[i:i+pattern_length]==pattern:\n",
    "            pattern_positions.append(i)\n",
    "    return pattern_positions\n",
    "String = \"ABCBBACBAABACBABC\"\n",
    "Pattern = \"CBA\"\n",
    "positions=find_pattern(string,pattern)\n",
    "print(\"Pattern found in the position of: \",positions)"
   ]
  },
  {
   "cell_type": "code",
   "execution_count": null,
   "id": "06c696a5-2b18-44cb-9229-ccaac8479f24",
   "metadata": {},
   "outputs": [],
   "source": []
  }
 ],
 "metadata": {
  "kernelspec": {
   "display_name": "Python 3 (ipykernel)",
   "language": "python",
   "name": "python3"
  },
  "language_info": {
   "codemirror_mode": {
    "name": "ipython",
    "version": 3
   },
   "file_extension": ".py",
   "mimetype": "text/x-python",
   "name": "python",
   "nbconvert_exporter": "python",
   "pygments_lexer": "ipython3",
   "version": "3.10.9"
  }
 },
 "nbformat": 4,
 "nbformat_minor": 5
}

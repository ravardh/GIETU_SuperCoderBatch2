{
 "cells": [
  {
   "cell_type": "code",
   "execution_count": 9,
   "id": "dad65f50",
   "metadata": {},
   "outputs": [
    {
     "name": "stdout",
     "output_type": "stream",
     "text": [
      "The graph contains a cycle.\n"
     ]
    }
   ],
   "source": [
    "def dfsCycle(graph, vertex, visited, stack):\n",
    "    visited[vertex] = True\n",
    "    stack[vertex] = True\n",
    "    for nextt in graph[vertex]:\n",
    "        if not visited[nextt]:\n",
    "            if dfsCycle(graph, nextt, visited, stack):\n",
    "                return True\n",
    "        elif stack[nextt]:\n",
    "            return True\n",
    "    stack[vertex] = False\n",
    "    return False\n",
    "\n",
    "def isCycleExist(graph):\n",
    "    tVertices = len(graph)\n",
    "    visited = [False] * tVertices\n",
    "    stack = [False] * tVertices\n",
    "    for vertex in range(tVertices):\n",
    "        if not visited[vertex]:\n",
    "            if dfsCycle(graph, vertex, visited, stack):\n",
    "                return True\n",
    "    return False\n",
    "\n",
    "\n",
    "def create_graph(graph, u, v):\n",
    "    graph[u].append(v)\n",
    "\n",
    "v = 8\n",
    "graph = [[] for _ in range(v)]\n",
    "\n",
    "create_graph(graph, 0, 1)\n",
    "create_graph(graph, 0, 3)\n",
    "create_graph(graph, 1, 2)\n",
    "create_graph(graph, 1, 0)\n",
    "create_graph(graph, 2, 1)\n",
    "create_graph(graph, 2, 4)\n",
    "create_graph(graph, 3, 0)\n",
    "create_graph(graph, 3, 4)\n",
    "create_graph(graph, 4, 3)\n",
    "create_graph(graph, 4, 2)\n",
    "create_graph(graph, 5, 4)\n",
    "create_graph(graph, 6, 5)\n",
    "create_graph(graph, 7, 6)\n",
    "\n",
    "\n",
    "if isCycleExist(graph):\n",
    "    print(\"The graph contains a cycle.\")\n",
    "else:\n",
    "    print(\"The graph does not contain a cycle.\")\n"
   ]
  },
  {
   "cell_type": "code",
   "execution_count": null,
   "id": "6b056898",
   "metadata": {},
   "outputs": [],
   "source": []
  },
  {
   "cell_type": "code",
   "execution_count": null,
   "id": "3918919c",
   "metadata": {},
   "outputs": [],
   "source": []
  }
 ],
 "metadata": {
  "kernelspec": {
   "display_name": "Python 3 (ipykernel)",
   "language": "python",
   "name": "python3"
  },
  "language_info": {
   "codemirror_mode": {
    "name": "ipython",
    "version": 3
   },
   "file_extension": ".py",
   "mimetype": "text/x-python",
   "name": "python",
   "nbconvert_exporter": "python",
   "pygments_lexer": "ipython3",
   "version": "3.11.3"
  }
 },
 "nbformat": 4,
 "nbformat_minor": 5
}

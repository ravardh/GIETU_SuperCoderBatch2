{
 "cells": [
  {
   "cell_type": "code",
   "execution_count": 1,
   "id": "753ac319",
   "metadata": {},
   "outputs": [
    {
     "name": "stdout",
     "output_type": "stream",
     "text": [
      "Edge \tWeight\n",
      "0 - 1 \t 2\n",
      "1 - 2 \t 3\n",
      "0 - 3 \t 6\n",
      "1 - 4 \t 5\n"
     ]
    }
   ],
   "source": [
    "class Graph:\n",
    "    def __init__(self, vertices):\n",
    "        self.V = vertices\n",
    "        self.graph = [[0 for _ in range(vertices)] for _ in range(vertices)]\n",
    "\n",
    "    def min_key(self, key, mst_set):\n",
    "        min_val = float('inf')\n",
    "        min_index = -1\n",
    "\n",
    "        for v in range(self.V):\n",
    "            if key[v] < min_val and mst_set[v] is False:\n",
    "                min_val = key[v]\n",
    "                min_index = v\n",
    "\n",
    "        return min_index\n",
    "\n",
    "    def prim_mst(self):\n",
    "        key = [float('inf')] * self.V\n",
    "        parent = [None] * self.V\n",
    "        key[0] = 0\n",
    "        mst_set = [False] * self.V\n",
    "\n",
    "        parent[0] = -1\n",
    "\n",
    "        for _ in range(self.V):\n",
    "            u = self.min_key(key, mst_set)\n",
    "            mst_set[u] = True\n",
    "\n",
    "            for v in range(self.V):\n",
    "                if self.graph[u][v] > 0 and mst_set[v] is False and key[v] > self.graph[u][v]:\n",
    "                    key[v] = self.graph[u][v]\n",
    "                    parent[v] = u\n",
    "\n",
    "        print(\"Edge \\tWeight\")\n",
    "        for i in range(1, self.V):\n",
    "            print(parent[i], \"-\", i, \"\\t\", self.graph[i][parent[i]])\n",
    "\n",
    "g = Graph(5)\n",
    "g.graph = [\n",
    "    [0, 2, 0, 6, 0],\n",
    "    [2, 0, 3, 8, 5],\n",
    "    [0, 3, 0, 0, 7],\n",
    "    [6, 8, 0, 0, 9],\n",
    "    [0, 5, 7, 9, 0]\n",
    "]\n",
    "\n",
    "g.prim_mst()\n"
   ]
  },
  {
   "cell_type": "code",
   "execution_count": 2,
   "id": "0463ef70",
   "metadata": {},
   "outputs": [
    {
     "name": "stdout",
     "output_type": "stream",
     "text": [
      "Edge \tWeight\n",
      "0 - 1 \t 2\n",
      "1 - 2 \t 3\n",
      "1 - 4 \t 5\n",
      "0 - 3 \t 6\n"
     ]
    }
   ],
   "source": [
    "class Graph:\n",
    "    def __init__(self, vertices):\n",
    "        self.V = vertices\n",
    "        self.graph = []\n",
    "\n",
    "    def add_edge(self, u, v, w):\n",
    "        self.graph.append((u, v, w))\n",
    "\n",
    "    def find(self, parent, i):\n",
    "        if parent[i] != i:\n",
    "            parent[i] = self.find(parent, parent[i])\n",
    "        return parent[i]\n",
    "\n",
    "    def union(self, parent, rank, x, y):\n",
    "        x_root = self.find(parent, x)\n",
    "        y_root = self.find(parent, y)\n",
    "\n",
    "        if rank[x_root] < rank[y_root]:\n",
    "            parent[x_root] = y_root\n",
    "        elif rank[x_root] > rank[y_root]:\n",
    "            parent[y_root] = x_root\n",
    "        else:\n",
    "            parent[y_root] = x_root\n",
    "            rank[x_root] += 1\n",
    "\n",
    "    def kruskal_mst(self):\n",
    "        result = []\n",
    "        self.graph = sorted(self.graph, key=lambda item: item[2])\n",
    "        parent = [i for i in range(self.V)]\n",
    "        rank = [0] * self.V\n",
    "\n",
    "        for u, v, w in self.graph:\n",
    "            x = self.find(parent, u)\n",
    "            y = self.find(parent, v)\n",
    "\n",
    "            if x != y:\n",
    "                result.append((u, v, w))\n",
    "                self.union(parent, rank, x, y)\n",
    "\n",
    "        print(\"Edge \\tWeight\")\n",
    "        for u, v, weight in result:\n",
    "            print(u, \"-\", v, \"\\t\", weight)\n",
    "\n",
    "g = Graph(5)\n",
    "g.add_edge(0, 1, 2)\n",
    "g.add_edge(0, 3, 6)\n",
    "g.add_edge(1, 2, 3)\n",
    "g.add_edge(1, 4, 5)\n",
    "g.add_edge(2, 4, 7)\n",
    "\n",
    "g.kruskal_mst()\n"
   ]
  },
  {
   "cell_type": "code",
   "execution_count": null,
   "id": "f43f68c9",
   "metadata": {},
   "outputs": [],
   "source": []
  }
 ],
 "metadata": {
  "kernelspec": {
   "display_name": "Python 3 (ipykernel)",
   "language": "python",
   "name": "python3"
  },
  "language_info": {
   "codemirror_mode": {
    "name": "ipython",
    "version": 3
   },
   "file_extension": ".py",
   "mimetype": "text/x-python",
   "name": "python",
   "nbconvert_exporter": "python",
   "pygments_lexer": "ipython3",
   "version": "3.11.5"
  }
 },
 "nbformat": 4,
 "nbformat_minor": 5
}

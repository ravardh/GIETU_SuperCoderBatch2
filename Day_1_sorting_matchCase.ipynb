{
  "nbformat": 4,
  "nbformat_minor": 0,
  "metadata": {
    "colab": {
      "provenance": [],
      "authorship_tag": "ABX9TyMgwcQFSKdIogWk5mAPxiHG",
      "include_colab_link": true
    },
    "kernelspec": {
      "name": "python3",
      "display_name": "Python 3"
    },
    "language_info": {
      "name": "python"
    }
  },
  "cells": [
    {
      "cell_type": "markdown",
      "metadata": {
        "id": "view-in-github",
        "colab_type": "text"
      },
      "source": [
        "<a href=\"https://colab.research.google.com/github/ravardh/GIETU_SuperCoderBatch2/blob/Jatin_21CSE153/Day_1_sorting_matchCase.ipynb\" target=\"_parent\"><img src=\"https://colab.research.google.com/assets/colab-badge.svg\" alt=\"Open In Colab\"/></a>"
      ]
    },
    {
      "cell_type": "code",
      "execution_count": 1,
      "metadata": {
        "colab": {
          "base_uri": "https://localhost:8080/"
        },
        "id": "4JLP4akuyTR4",
        "outputId": "5464a551-ea68-454c-8c55-216615f9e381"
      },
      "outputs": [
        {
          "output_type": "stream",
          "name": "stdout",
          "text": [
            "[5, 10, 12, 23, 57, 100, 565, 1454]\n"
          ]
        }
      ],
      "source": [
        "# bubble sort\n",
        "def bubble_SORT(array):\n",
        "    n = len(array)\n",
        "    for i in range(n):\n",
        "        for j in range(0, n-1):\n",
        "            if array[j] > array[j+1]:\n",
        "                array[j], array[j+1] = array[j+1], array[j]\n",
        "\n",
        "\n",
        "arr1 = [57, 23, 565, 12, 100, 1454, 10, 5]\n",
        "bubble_SORT(arr1)\n",
        "print(arr1)"
      ]
    },
    {
      "cell_type": "code",
      "source": [
        "# selection sort\n",
        "def selection_SORT(arr):\n",
        "    n = len(arr)\n",
        "    for i in range(n):\n",
        "        min = i\n",
        "        for j in range(i+1, n):\n",
        "            if arr[j] < arr[min]:\n",
        "                min = j\n",
        "\n",
        "        arr[i], arr[min] = arr[min], arr[i]\n",
        "\n",
        "\n",
        "arr1 = [57, 23, 565, 12, 100, 1454, 10, 5]\n",
        "selection_SORT(arr1)\n",
        "print(arr1)"
      ],
      "metadata": {
        "colab": {
          "base_uri": "https://localhost:8080/"
        },
        "id": "K0tgkk6B0sYz",
        "outputId": "95139633-13f5-4654-b68e-6bea075fd937"
      },
      "execution_count": 2,
      "outputs": [
        {
          "output_type": "stream",
          "name": "stdout",
          "text": [
            "[5, 10, 12, 23, 57, 100, 565, 1454]\n"
          ]
        }
      ]
    },
    {
      "cell_type": "code",
      "source": [
        "# insertion sort\n",
        "def insertion_SORT(array):\n",
        "    n = len(array)\n",
        "    for i in range(1, n):\n",
        "        b = array[i]\n",
        "        j = i - 1\n",
        "        while j >= 0 and b < array[j]:\n",
        "            array[j + 1] = array[j]\n",
        "            j -= 1\n",
        "        array[j + 1] = b\n",
        "\n",
        "\n",
        "arr1 = [57, 23, 565, 12, 100, 1454, 10, 5]\n",
        "insertion_SORT(arr1)\n",
        "print(arr1)"
      ],
      "metadata": {
        "colab": {
          "base_uri": "https://localhost:8080/"
        },
        "id": "H1qimHgE0wCq",
        "outputId": "3d5b40ab-ed39-441c-942f-d9b7b44d9521"
      },
      "execution_count": 3,
      "outputs": [
        {
          "output_type": "stream",
          "name": "stdout",
          "text": [
            "[5, 10, 12, 23, 57, 100, 565, 1454]\n"
          ]
        }
      ]
    },
    {
      "cell_type": "code",
      "source": [
        "#calculator using match case\n",
        "operator = input(\"enter any one operator(+ - * / % ): \")\n",
        "a1 = int(input(\"enter a number: \"))\n",
        "a2 = int(input(\"enter a number: \"))\n",
        "\n",
        "match (operator):\n",
        "    case \"+\":\n",
        "        print(\"Addition: \", a1+a2)\n",
        "    case \"-\":\n",
        "        print(\"Subtraction: \", a1-a2)\n",
        "    case \"*\":\n",
        "        print(\"Multiplication: \", a1*a2)\n",
        "    case \"/\":\n",
        "        print(\"Division: \", a1/a2)\n",
        "    case \"%\":\n",
        "        print(\"Modulus: \", a1 % a2)\n",
        "    case _:\n",
        "        print(\"invalid operator\")\n"
      ],
      "metadata": {
        "colab": {
          "base_uri": "https://localhost:8080/"
        },
        "id": "ncX-51l2083R",
        "outputId": "e38b6ac6-f122-46b0-bd03-545326ed936a"
      },
      "execution_count": 5,
      "outputs": [
        {
          "output_type": "stream",
          "name": "stdout",
          "text": [
            "enter any one operator(+ - * / % ): +\n",
            "enter a number: 20\n",
            "enter a number: 100\n",
            "Addition:  120\n"
          ]
        }
      ]
    }
  ]
}
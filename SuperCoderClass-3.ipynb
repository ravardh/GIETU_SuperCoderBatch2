{
 "cells": [
  {
   "cell_type": "code",
   "execution_count": 5,
   "id": "3f9515b8-d8ef-462c-9103-95743c318ebd",
   "metadata": {},
   "outputs": [
    {
     "name": "stdin",
     "output_type": "stream",
     "text": [
      "Enter Symbol (+,-,*,/,%,**,sqrt):  -\n",
      "Enter First Number:  4\n",
      "Enter Second Number:  5\n"
     ]
    },
    {
     "name": "stdout",
     "output_type": "stream",
     "text": [
      "Result: -1.0\n"
     ]
    }
   ],
   "source": [
    "#Calculator design\n",
    "import math\n",
    "def calculator(Symbol,First_number,Second_number):\n",
    "    match Symbol:\n",
    "        case '+':\n",
    "            return First_number+Second_number\n",
    "        case '-':\n",
    "            return First_number-Second_number\n",
    "        case '*':\n",
    "            return First_number*Second_number\n",
    "        case '/':\n",
    "            if Second_number!=0:\n",
    "                return First_number/Second_number\n",
    "            else:\n",
    "                return \"Not Divisible by zero!\"\n",
    "        case '%':\n",
    "            if Second_number!=0:\n",
    "                return First_number%Second_number\n",
    "            else:\n",
    "                return \"Not Modulo by zero!\"\n",
    "        case '**':\n",
    "            return First_number ** Second_number\n",
    "        case 'sqrt':\n",
    "            return math.sqrt(First_number)\n",
    "        case _:\n",
    "            return \"Invalid symbol!\"\n",
    "\n",
    "Symbol=input(\"Enter Symbol (+,-,*,/,%,**,sqrt): \")\n",
    "First_number=float(input(\"Enter First Number: \"))\n",
    "Second_number=float(input(\"Enter Second Number: \"))\n",
    "\n",
    "result=calculator(Symbol, First_number, Second_number)\n",
    "print(\"Result:\",result)"
   ]
  },
  {
   "cell_type": "code",
   "execution_count": 4,
   "id": "16a79576-ba81-4140-b0da-0ae6011c8a32",
   "metadata": {},
   "outputs": [
    {
     "name": "stdin",
     "output_type": "stream",
     "text": [
      "Enter the elements:  4  6 5 7 9 8 3 2 1 \n"
     ]
    },
    {
     "name": "stdout",
     "output_type": "stream",
     "text": [
      "Sorted array: \n",
      "1 2 3 4 5 6 7 8 9 "
     ]
    }
   ],
   "source": [
    "#Bubble sort\n",
    "def bubbleSort(arr):\n",
    "    n=len(arr)\n",
    "    swapped=False\n",
    "    for i in range(n-1):\n",
    "        for j in range(0,n-i-1):\n",
    "            if arr[j]> arr[j+1]:\n",
    "                swapped=True\n",
    "                arr[j],arr[j+1]=arr[j+1],arr[j]\n",
    "        if not swapped:\n",
    "            return\n",
    "arr= list(map(int,input(\"Enter the elements: \").split()))\n",
    "bubbleSort(arr)\n",
    "print(\"Sorted array: \")\n",
    "for i in range(len(arr)):\n",
    "    print(\"%d\" % arr[i],end=\" \")"
   ]
  },
  {
   "cell_type": "code",
   "execution_count": 6,
   "id": "85923ba7-e14d-4a31-8cff-f1cb29720406",
   "metadata": {},
   "outputs": [
    {
     "name": "stdin",
     "output_type": "stream",
     "text": [
      "Enter the elements:  4 5 7 9 8 6 1 3 2\n"
     ]
    },
    {
     "name": "stdout",
     "output_type": "stream",
     "text": [
      "Sorted array: [1, 2, 3, 4, 5, 6, 7, 8, 9]\n"
     ]
    }
   ],
   "source": [
    "#Insertion Sort\n",
    "def insertionSort(arr):\n",
    "    n=len(arr)\n",
    "    if n<=1:\n",
    "        return\n",
    "    for i in range(1,n):\n",
    "        key=arr[i]\n",
    "        j=i-1\n",
    "        while j>=0 and key<arr[j]:\n",
    "            arr[j+1]=arr[j]\n",
    "            j-=1\n",
    "        arr[j+1]=key\n",
    "\n",
    "input_string =input(\"Enter the elements: \")\n",
    "arr=list(map(int,input_string.split()))\n",
    "insertionSort(arr)\n",
    "print(\"Sorted array:\",arr)"
   ]
  },
  {
   "cell_type": "code",
   "execution_count": 7,
   "id": "2d53961e-12b8-4068-8a85-80682a2a60a4",
   "metadata": {},
   "outputs": [
    {
     "name": "stdin",
     "output_type": "stream",
     "text": [
      "Enter the elements:  5 7 6 8 9 1 3 2\n"
     ]
    },
    {
     "name": "stdout",
     "output_type": "stream",
     "text": [
      "sort is:\n",
      "[1, 2, 3, 5, 6, 7, 8, 9]\n"
     ]
    }
   ],
   "source": [
    "#selection sort\n",
    "def selectionSort(array,size):\n",
    "    for i in range(size):\n",
    "        min_index =i\n",
    "        for j in range(i+1,size):\n",
    "            if array[j]<array[min_index]:\n",
    "                min_index=j\n",
    "        (array[i],array[min_index])=(array[min_index],array[i])\n",
    "arr = list(map(int, input(\"Enter the elements: \").split()))\n",
    "size = len(arr)\n",
    "selectionSort(arr,size)\n",
    "print('sort is:')\n",
    "print(arr)"
   ]
  },
  {
   "cell_type": "code",
   "execution_count": null,
   "id": "5906179e-e243-467b-b4ad-c5b0e83898b7",
   "metadata": {},
   "outputs": [],
   "source": []
  }
 ],
 "metadata": {
  "kernelspec": {
   "display_name": "Python 3 (ipykernel)",
   "language": "python",
   "name": "python3"
  },
  "language_info": {
   "codemirror_mode": {
    "name": "ipython",
    "version": 3
   },
   "file_extension": ".py",
   "mimetype": "text/x-python",
   "name": "python",
   "nbconvert_exporter": "python",
   "pygments_lexer": "ipython3",
   "version": "3.10.9"
  }
 },
 "nbformat": 4,
 "nbformat_minor": 5
}

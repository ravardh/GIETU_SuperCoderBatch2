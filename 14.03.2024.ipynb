{
 "cells": [
  {
   "cell_type": "code",
   "execution_count": 1,
   "id": "2cac789d",
   "metadata": {},
   "outputs": [
    {
     "name": "stdout",
     "output_type": "stream",
     "text": [
      "Max Profit: 22.5\n"
     ]
    }
   ],
   "source": [
    "def fractional_knapsack(W, N, PW, PP):\n",
    "    items = [(PP[i] / PW[i], PW[i], PP[i]) for i in range(N)]\n",
    "    items.sort(reverse=True)\n",
    "    max_profit = 0\n",
    "    current_weight = 0\n",
    "    for i in range(N):\n",
    "        if current_weight + items[i][1] <= W:\n",
    "            max_profit += items[i][2]\n",
    "            current_weight += items[i][1]\n",
    "        else:\n",
    "            remaining_weight = W - current_weight\n",
    "            max_profit += remaining_weight * items[i][0]\n",
    "            break\n",
    "\n",
    "    return max_profit\n",
    "\n",
    "W = 15\n",
    "N = 4\n",
    "PW = [5, 10, 10, 5]\n",
    "PP = [10, 5, 5, 10]\n",
    "\n",
    "print(\"Max Profit:\", fractional_knapsack(W, N, PW, PP))"
   ]
  },
  {
   "cell_type": "code",
   "execution_count": 2,
   "id": "fb07f9ba",
   "metadata": {},
   "outputs": [
    {
     "name": "stdout",
     "output_type": "stream",
     "text": [
      "Result: 5\n"
     ]
    }
   ],
   "source": [
    "def longest_zero_sum_subarray(arr):\n",
    "    max_length = 0\n",
    "    sum_index_map = {}\n",
    "    current_sum = 0\n",
    "\n",
    "    for i in range(len(arr)):\n",
    "        current_sum += arr[i]\n",
    "\n",
    "        if arr[i] == 0 and max_length == 0:\n",
    "            max_length = 1\n",
    "\n",
    "        if current_sum == 0:\n",
    "            max_length = i + 1\n",
    "\n",
    "        if current_sum in sum_index_map:\n",
    "            max_length = max(max_length, i - sum_index_map[current_sum])\n",
    "        else:\n",
    "            sum_index_map[current_sum] = i\n",
    "\n",
    "    return max_length\n",
    "\n",
    "arr = [9, -3, 3, -1, 6, -5]\n",
    "print(\"Result:\", longest_zero_sum_subarray(arr))"
   ]
  },
  {
   "cell_type": "code",
   "execution_count": 4,
   "id": "78248ab8",
   "metadata": {},
   "outputs": [
    {
     "name": "stdout",
     "output_type": "stream",
     "text": [
      "Maximum number of potential treasure locations: 6\n"
     ]
    }
   ],
   "source": [
    "def max_potential_treasure_locations(locations, compass_range):\n",
    "    max_locations = 0\n",
    "    start = 0\n",
    "    end = 0\n",
    "    while end < len(locations):\n",
    "        while end < len(locations) and locations[end] - locations[start] <= compass_range:\n",
    "            end += 1\n",
    "        max_locations = max(max_locations, end - start)\n",
    "        start += 1\n",
    "    return max_locations\n",
    "\n",
    "locations = [2, 7, 1, 4, 8, 3, 5]\n",
    "compass_range = 3\n",
    "print(\"Maximum number of potential treasure locations:\", max_potential_treasure_locations(locations, compass_range))"
   ]
  },
  {
   "cell_type": "code",
   "execution_count": 5,
   "id": "6e0d10a6",
   "metadata": {},
   "outputs": [
    {
     "name": "stdout",
     "output_type": "stream",
     "text": [
      "Second player wins.\n"
     ]
    }
   ],
   "source": [
    "def coin_game_winner(coins):\n",
    "    sum_even = sum(coins[::2])\n",
    "    sum_odd = sum(coins[1::2])\n",
    "    if sum_even > sum_odd:\n",
    "        return \"First player wins.\"\n",
    "    else:\n",
    "        return \"Second player wins.\"\n",
    "\n",
    "coins = [18, 20, 15, 30, 10, 14]\n",
    "print(coin_game_winner(coins))"
   ]
  },
  {
   "cell_type": "code",
   "execution_count": 6,
   "id": "c4fc46ca",
   "metadata": {},
   "outputs": [
    {
     "name": "stdout",
     "output_type": "stream",
     "text": [
      "The winning child is: 5\n"
     ]
    }
   ],
   "source": [
    "def find_winning_child(N, K):\n",
    "    chairs = list(range(1, N + 1))\n",
    "    index = 0\n",
    "    while len(chairs) > 1:\n",
    "        index = (index + K - 1) % len(chairs)\n",
    "        chairs.pop(index)\n",
    "    return chairs[0]\n",
    "\n",
    "N = 14\n",
    "K = 20\n",
    "print(\"The winning child is:\", find_winning_child(N, K))"
   ]
  },
  {
   "cell_type": "code",
   "execution_count": null,
   "id": "de093dbe",
   "metadata": {},
   "outputs": [],
   "source": []
  }
 ],
 "metadata": {
  "kernelspec": {
   "display_name": "Python 3 (ipykernel)",
   "language": "python",
   "name": "python3"
  },
  "language_info": {
   "codemirror_mode": {
    "name": "ipython",
    "version": 3
   },
   "file_extension": ".py",
   "mimetype": "text/x-python",
   "name": "python",
   "nbconvert_exporter": "python",
   "pygments_lexer": "ipython3",
   "version": "3.9.13"
  }
 },
 "nbformat": 4,
 "nbformat_minor": 5
}

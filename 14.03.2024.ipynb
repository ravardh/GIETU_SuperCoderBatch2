{
 "cells": [
  {
   "cell_type": "code",
   "execution_count": 1,
   "id": "3917c927",
   "metadata": {},
   "outputs": [
    {
     "name": "stdout",
     "output_type": "stream",
     "text": [
      "Max Profit: 22.5\n"
     ]
    }
   ],
   "source": [
    "def fractional_knapsack(W, N, PW, PP):\n",
    "    items = [(PP[i] / PW[i], PW[i], PP[i]) for i in range(N)]\n",
    "    items.sort(reverse=True)\n",
    "    max_profit = 0\n",
    "    current_weight = 0\n",
    "    for i in range(N):\n",
    "        if current_weight + items[i][1] <= W:\n",
    "            max_profit += items[i][2]\n",
    "            current_weight += items[i][1]\n",
    "        else:\n",
    "            rem_weight = W - current_weight\n",
    "            max_profit += rem_weight * items[i][0]\n",
    "            break\n",
    "\n",
    "    return max_profit\n",
    "\n",
    "W = 15\n",
    "N = 4\n",
    "PW = [5, 10, 10, 5]\n",
    "PP = [10, 5, 5, 10]\n",
    "\n",
    "print(\"Max Profit:\", fractional_knapsack(W, N, PW, PP))"
   ]
  },
  {
   "cell_type": "code",
   "execution_count": 4,
   "id": "0ec1abfb",
   "metadata": {},
   "outputs": [
    {
     "name": "stdout",
     "output_type": "stream",
     "text": [
      "Result: 5\n"
     ]
    }
   ],
   "source": [
    "def long_zero_sum_subarray(arr):\n",
    "    max_len = 0\n",
    "    sum_index_map = {}\n",
    "    current_sum = 0\n",
    "\n",
    "    for i in range(len(arr)):\n",
    "        current_sum += arr[i]\n",
    "\n",
    "        if arr[i] == 0 and max_len == 0:\n",
    "            max_len = 1\n",
    "\n",
    "        if current_sum == 0:\n",
    "            max_len = i + 1\n",
    "\n",
    "        if current_sum in sum_index_map:\n",
    "            max_len = max(max_len, i - sum_index_map[current_sum])\n",
    "        else:\n",
    "            sum_index_map[current_sum] = i\n",
    "\n",
    "    return max_len\n",
    "\n",
    "arr = [9, -3, 3, -1, 6, -5]\n",
    "print(\"Result:\", long_zero_sum_subarray(arr))"
   ]
  },
  {
   "cell_type": "code",
   "execution_count": 7,
   "id": "64d3d875",
   "metadata": {},
   "outputs": [
    {
     "name": "stdout",
     "output_type": "stream",
     "text": [
      "Maximum no. of treasure locations: 6\n"
     ]
    }
   ],
   "source": [
    "def max_treasure_locations(locs, compass_range):\n",
    "    max_locs = 0\n",
    "    start = 0\n",
    "    end = 0\n",
    "    while end < len(locs):\n",
    "        while end < len(locs) and locs[end] - locs[start] <= compass_range:\n",
    "            end += 1\n",
    "        max_locs = max(max_locs, end - start)\n",
    "        start += 1\n",
    "    return max_locs\n",
    "\n",
    "locs = [2, 7, 1, 4, 8, 3, 5]\n",
    "compass_range = 3\n",
    "print(\"Maximum no. of treasure locations:\", max_treasure_locations(locs, compass_range))"
   ]
  },
  {
   "cell_type": "code",
   "execution_count": 10,
   "id": "8cecc060",
   "metadata": {},
   "outputs": [
    {
     "name": "stdout",
     "output_type": "stream",
     "text": [
      "Second player wins.\n"
     ]
    }
   ],
   "source": [
    "def coin_game_winner(coins):\n",
    "    sum_e = sum(coins[::2])\n",
    "    sum_o = sum(coins[1::2])\n",
    "    if sum_e > sum_o:\n",
    "        return \"First player wins.\"\n",
    "    else:\n",
    "        return \"Second player wins.\"\n",
    "\n",
    "coins = [18, 20, 15, 30, 10, 14]\n",
    "print(coin_game_winner(coins))"
   ]
  },
  {
   "cell_type": "code",
   "execution_count": 9,
   "id": "1530c1b9",
   "metadata": {},
   "outputs": [
    {
     "name": "stdout",
     "output_type": "stream",
     "text": [
      "The winning child is: 5\n"
     ]
    }
   ],
   "source": [
    "def find_winner_child(N, K):\n",
    "    chairs = list(range(1, N + 1))\n",
    "    index = 0\n",
    "    while len(chairs) > 1:\n",
    "        index = (index + K - 1) % len(chairs)\n",
    "        chairs.pop(index)\n",
    "    return chairs[0]\n",
    "\n",
    "N = 14\n",
    "K = 20\n",
    "print(\"The winning child is:\", find_winner_child(N, K))"
   ]
  },
  {
   "cell_type": "code",
   "execution_count": null,
   "id": "d7f5bb90",
   "metadata": {},
   "outputs": [],
   "source": []
  }
 ],
 "metadata": {
  "kernelspec": {
   "display_name": "Python 3 (ipykernel)",
   "language": "python",
   "name": "python3"
  },
  "language_info": {
   "codemirror_mode": {
    "name": "ipython",
    "version": 3
   },
   "file_extension": ".py",
   "mimetype": "text/x-python",
   "name": "python",
   "nbconvert_exporter": "python",
   "pygments_lexer": "ipython3",
   "version": "3.9.13"
  }
 },
 "nbformat": 4,
 "nbformat_minor": 5
}

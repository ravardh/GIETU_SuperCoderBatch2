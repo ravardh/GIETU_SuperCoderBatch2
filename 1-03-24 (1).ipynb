{
 "cells": [
  {
   "cell_type": "code",
   "execution_count": 1,
   "id": "a7c89046",
   "metadata": {},
   "outputs": [],
   "source": [
    "def find_number_of_nodes_from_vertex(graph, vertex):\n",
    "  \"\"\"Finds the number of nodes from a vertex in a graph.\n",
    "\n",
    "  Args:\n",
    "    graph: A graph represented as an adjacency list.\n",
    "    vertex: The vertex to start from.\n",
    "\n",
    "  Returns:\n",
    "    The number of nodes from the vertex.\n",
    "  \"\"\"\n",
    "\n",
    "  queue = [vertex]\n",
    "  visited = set()\n",
    "  count = 0\n",
    "\n",
    "  while queue:\n",
    "    node = queue.pop(0)\n",
    "    visited.add(node)\n",
    "    count += 1\n",
    "\n",
    "    for neighbor in graph[node]:\n",
    "      if neighbor not in visited:\n",
    "        queue.append(neighbor)\n",
    "\n",
    "  return count"
   ]
  },
  {
   "cell_type": "code",
   "execution_count": 2,
   "id": "b060c90b",
   "metadata": {},
   "outputs": [
    {
     "name": "stdout",
     "output_type": "stream",
     "text": [
      "Number of nodes: 4\n"
     ]
    }
   ],
   "source": [
    "import networkx as nx\n",
    "\n",
    "# Create a graph\n",
    "G = nx.Graph()\n",
    "\n",
    "# Add edges\n",
    "G.add_edges_from([(1, 2), (2, 3), (3, 4), (4, 1)])\n",
    "\n",
    "# Get the number of nodes\n",
    "num_nodes = G.number_of_nodes()\n",
    "\n",
    "print(\"Number of nodes:\", num_nodes)"
   ]
  },
  {
   "cell_type": "code",
   "execution_count": 3,
   "id": "c1e43227",
   "metadata": {},
   "outputs": [
    {
     "name": "stdout",
     "output_type": "stream",
     "text": [
      "Number of nodes from vertex A: 7\n"
     ]
    }
   ],
   "source": [
    "def find_number_of_nodes_from_vertex(graph, vertex):\n",
    "    \"\"\"Finds the number of nodes from a vertex in a graph.\n",
    "\n",
    "    Args:\n",
    "      graph: A graph represented as an adjacency list.\n",
    "      vertex: The vertex to start from.\n",
    "\n",
    "    Returns:\n",
    "      The number of nodes from the vertex.\n",
    "    \"\"\"\n",
    "\n",
    "    queue = [vertex]\n",
    "    visited = set()\n",
    "    count = 0\n",
    "\n",
    "    while queue:\n",
    "        node = queue.pop(0)\n",
    "        visited.add(node)\n",
    "        count += 1\n",
    "\n",
    "        for neighbor in graph[node]:\n",
    "            if neighbor not in visited:\n",
    "                queue.append(neighbor)\n",
    "\n",
    "    return count\n",
    "\n",
    "# Example graph represented as an adjacency list\n",
    "graph = {\n",
    "    'A': ['B', 'C'],\n",
    "    'B': ['A', 'D', 'E'],\n",
    "    'C': ['A', 'F'],\n",
    "    'D': ['B'],\n",
    "    'E': ['B', 'F'],\n",
    "    'F': ['C', 'E']\n",
    "}\n",
    "\n",
    "# Starting vertex\n",
    "start_vertex = 'A'\n",
    "\n",
    "# Call the function\n",
    "num_nodes = find_number_of_nodes_from_vertex(graph, start_vertex)\n",
    "print(\"Number of nodes from vertex {}: {}\".format(start_vertex, num_nodes))"
   ]
  },
  {
   "cell_type": "code",
   "execution_count": null,
   "id": "a3d1df15",
   "metadata": {},
   "outputs": [],
   "source": []
  }
 ],
 "metadata": {
  "kernelspec": {
   "display_name": "Python 3 (ipykernel)",
   "language": "python",
   "name": "python3"
  },
  "language_info": {
   "codemirror_mode": {
    "name": "ipython",
    "version": 3
   },
   "file_extension": ".py",
   "mimetype": "text/x-python",
   "name": "python",
   "nbconvert_exporter": "python",
   "pygments_lexer": "ipython3",
   "version": "3.10.9"
  }
 },
 "nbformat": 4,
 "nbformat_minor": 5
}

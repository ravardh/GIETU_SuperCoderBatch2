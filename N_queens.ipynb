{
  "nbformat": 4,
  "nbformat_minor": 0,
  "metadata": {
    "colab": {
      "provenance": [],
      "authorship_tag": "ABX9TyOfOf+9EOTHe04Y7Z1XJGOx",
      "include_colab_link": true
    },
    "kernelspec": {
      "name": "python3",
      "display_name": "Python 3"
    },
    "language_info": {
      "name": "python"
    }
  },
  "cells": [
    {
      "cell_type": "markdown",
      "metadata": {
        "id": "view-in-github",
        "colab_type": "text"
      },
      "source": [
        "<a href=\"https://colab.research.google.com/github/ravardh/GIETU_SuperCoderBatch2/blob/Jatin_21CSE153/N_queens.ipynb\" target=\"_parent\"><img src=\"https://colab.research.google.com/assets/colab-badge.svg\" alt=\"Open In Colab\"/></a>"
      ]
    },
    {
      "cell_type": "code",
      "execution_count": 2,
      "metadata": {
        "colab": {
          "base_uri": "https://localhost:8080/"
        },
        "id": "NBPDuHU8l2uz",
        "outputId": "a4ae31ba-f630-4068-84f2-6ffe6cdba1a2"
      },
      "outputs": [
        {
          "output_type": "stream",
          "name": "stdout",
          "text": [
            "X Q X X \n",
            "X X X Q \n",
            "Q X X X \n",
            "X X Q X \n",
            "\n",
            "X X Q X \n",
            "Q X X X \n",
            "X X X Q \n",
            "X Q X X \n",
            "\n"
          ]
        }
      ],
      "source": [
        "def main():\n",
        "\n",
        "    n = 4\n",
        "    board = []\n",
        "    for j in range(n):\n",
        "        row = []\n",
        "        for i in range(n):\n",
        "            row.append('X')\n",
        "        board.append(row)\n",
        "\n",
        "    nqueen(board, 0)\n",
        "\n",
        "\n",
        "def nqueen(board, row):\n",
        "    n = len(board)\n",
        "    if row == n:\n",
        "        for i in range(n):\n",
        "            for j in range(n):\n",
        "                print(board[i][j], end=\" \")\n",
        "            print()\n",
        "        print()\n",
        "        return\n",
        "\n",
        "    for j in range(n):\n",
        "        if is_safe(board, row, j):\n",
        "            board[row][j] = 'Q'\n",
        "            nqueen(board, row + 1)\n",
        "            board[row][j] = 'X'\n",
        "\n",
        "\n",
        "def is_safe(board, row, col):\n",
        "    n = len(board)\n",
        "    for j in range(n):\n",
        "        if board[row][j] == 'Q':\n",
        "            return False\n",
        "\n",
        "    for i in range(n):\n",
        "        if board[i][col] == 'Q':\n",
        "            return False\n",
        "\n",
        "    i, j = row, col\n",
        "    while i >= 0 and j < n:\n",
        "        if board[i][j] == 'Q':\n",
        "            return False\n",
        "        i -= 1\n",
        "        j += 1\n",
        "\n",
        "    i, j = row, col\n",
        "    while i < n and j < n:\n",
        "        if board[i][j] == 'Q':\n",
        "            return False\n",
        "        i += 1\n",
        "        j += 1\n",
        "\n",
        "    i, j = row, col\n",
        "    while i < n and j >= 0:\n",
        "        if board[i][j] == 'Q':\n",
        "            return False\n",
        "        i += 1\n",
        "        j -= 1\n",
        "\n",
        "    i, j = row, col\n",
        "    while i >= 0 and j >= 0:\n",
        "        if board[i][j] == 'Q':\n",
        "            return False\n",
        "        i -= 1\n",
        "        j -= 1\n",
        "\n",
        "    return True\n",
        "\n",
        "\n",
        "main()\n"
      ]
    }
  ]
}
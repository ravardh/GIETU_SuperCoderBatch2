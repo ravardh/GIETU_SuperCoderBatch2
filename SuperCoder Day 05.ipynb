{
 "cells": [
  {
   "cell_type": "markdown",
   "id": "00fb043e",
   "metadata": {},
   "source": [
    "# Tree using Linked List"
   ]
  },
  {
   "cell_type": "markdown",
   "id": "c32988f9",
   "metadata": {},
   "source": [
    "## Preorder"
   ]
  },
  {
   "cell_type": "code",
   "execution_count": 4,
   "id": "983790c8",
   "metadata": {},
   "outputs": [
    {
     "name": "stdout",
     "output_type": "stream",
     "text": [
      "Preorder traversal is\n",
      "2 4 8 10 6 "
     ]
    }
   ],
   "source": [
    "class Node:\n",
    "    def __init__(self, data:None):\n",
    "        self.left=None\n",
    "        self.right=None\n",
    "        self.data=data\n",
    "    \n",
    "def printPreorder(root):\n",
    "    if root!=None:\n",
    "        print(root.data, end=\" \")\n",
    "        printPreorder(root.left)\n",
    "        printPreorder(root.right)\n",
    "        \n",
    "if __name__ == \"__main__\":\n",
    "    root = Node(2)\n",
    "    root.left = Node(4)\n",
    "    root.right = Node(6)\n",
    "    root.left.left = Node(8)\n",
    "    root.left.right = Node(10)\n",
    "    \n",
    "    print(\"Preorder traversal is\")\n",
    "    printPreorder(root)"
   ]
  },
  {
   "cell_type": "markdown",
   "id": "777dede7",
   "metadata": {},
   "source": [
    "## Inorder"
   ]
  },
  {
   "cell_type": "code",
   "execution_count": 5,
   "id": "90b4bbd0",
   "metadata": {},
   "outputs": [
    {
     "name": "stdout",
     "output_type": "stream",
     "text": [
      "Inorder traversal is\n",
      "8 4 10 2 6 "
     ]
    }
   ],
   "source": [
    "class Node:\n",
    "    def __init__(self, data:None):\n",
    "        self.left=None\n",
    "        self.right=None\n",
    "        self.data=data\n",
    "    \n",
    "def printInorder(root):\n",
    "    if root!=None:\n",
    "        printInorder(root.left)\n",
    "        print(root.data, end=\" \")\n",
    "        printInorder(root.right)\n",
    "        \n",
    "if __name__ == \"__main__\":\n",
    "    root = Node(2)\n",
    "    root.left = Node(4)\n",
    "    root.right = Node(6)\n",
    "    root.left.left = Node(8)\n",
    "    root.left.right = Node(10)\n",
    "    \n",
    "    print(\"Inorder traversal is\")\n",
    "    printInorder(root)"
   ]
  },
  {
   "cell_type": "markdown",
   "id": "6837a02f",
   "metadata": {},
   "source": [
    "## Postorder"
   ]
  },
  {
   "cell_type": "code",
   "execution_count": 6,
   "id": "1b96bf15",
   "metadata": {},
   "outputs": [
    {
     "name": "stdout",
     "output_type": "stream",
     "text": [
      "Postorder traversal is\n",
      "8 10 4 6 2 "
     ]
    }
   ],
   "source": [
    "class Node:\n",
    "    def __init__(self, data:None):\n",
    "        self.left=None\n",
    "        self.right=None\n",
    "        self.data=data\n",
    "    \n",
    "def printPostorder(root):\n",
    "    if root!=None:\n",
    "        printPostorder(root.left)\n",
    "        printPostorder(root.right)\n",
    "        print(root.data, end=\" \")\n",
    "        \n",
    "if __name__ == \"__main__\":\n",
    "    root = Node(2)\n",
    "    root.left = Node(4)\n",
    "    root.right = Node(6)\n",
    "    root.left.left = Node(8)\n",
    "    root.left.right = Node(10)\n",
    "    \n",
    "    print(\"Postorder traversal is\")\n",
    "    printPostorder(root)"
   ]
  },
  {
   "cell_type": "markdown",
   "id": "362ce893",
   "metadata": {},
   "source": [
    "## Level Order"
   ]
  },
  {
   "cell_type": "code",
   "execution_count": 2,
   "id": "e338bd51",
   "metadata": {
    "scrolled": false
   },
   "outputs": [
    {
     "name": "stdout",
     "output_type": "stream",
     "text": [
      "<__main__.node object at 0x000001DF4BE5D5B0>\n",
      "1\n",
      "Level order Traversal\n",
      "1 \n",
      "2 4 \n",
      "19 14 6 12 \n",
      "9 5 16 8 11 \n",
      "10 15 17 20 \n"
     ]
    }
   ],
   "source": [
    "class node:\n",
    "    def __init__(self,data=None):\n",
    "        self.data=data\n",
    "        self.left=None\n",
    "        self.right=None\n",
    "\n",
    "\n",
    "def inorder(root):\n",
    "    if root == None:\n",
    "        return\n",
    "    \n",
    "    inorder(root.left)\n",
    "    print(root.data)\n",
    "    inorder(root.right)\n",
    "\n",
    "def preorder(root):\n",
    "    if root == None:\n",
    "        return\n",
    "    \n",
    "    print(root.data)\n",
    "    preorder(root.left)\n",
    "    preorder(root.right)\n",
    "\n",
    "def postorder(root):\n",
    "    if root == None:\n",
    "        return\n",
    "    postorder(root.left)\n",
    "    postorder(root.right)\n",
    "    print(root.data)\n",
    "\n",
    "\n",
    "# def levelorder(root):\n",
    "#     Q=[root]\n",
    "#     Q.append(None)\n",
    "\n",
    "#     while Q:\n",
    "#         cur = Q.pop(0)\n",
    "#         if cur:\n",
    "#             print(cur.data,ends=\" \")\n",
    "#         elif len(Q)==0:\n",
    "#             return\n",
    "#         else:\n",
    "#             Q.append(None)\n",
    "#             print()\n",
    "            \n",
    "#         if cur.left:\n",
    "#             Q.append(cur.left)\n",
    "#         if cur.right:\n",
    "#             Q.append(cur.right)\n",
    "        \n",
    "def levelorder(root):\n",
    "    if root is None:\n",
    "        return\n",
    "    \n",
    "    Q = [root]\n",
    "\n",
    "    while Q:\n",
    "        level_length = len(Q)\n",
    "        for _ in range(level_length):\n",
    "            cur = Q.pop(0)\n",
    "            print(cur.data, end=\" \")\n",
    "            \n",
    "            if cur.left:\n",
    "                Q.append(cur.left)\n",
    "            if cur.right:\n",
    "                Q.append(cur.right)\n",
    "        print()  # Move the newline here to print after each level\n",
    "\n",
    "\n",
    "root=node(1)\n",
    "root.left=node(2)\n",
    "root.right=node(4)\n",
    "root.left.left=node(19)\n",
    "root.left.right=node(14)\n",
    "root.right.left=node(6)\n",
    "root.right.right=node(12)\n",
    "root.left.right.left=node(9)\n",
    "root.left.right.right=node(5)\n",
    "root.left.right.left.right=node(10)\n",
    "root.right.left.right=node(16)\n",
    "root.right.right.left=node(8)\n",
    "root.right.right.right=node(11)\n",
    "root.right.right.left.left=node(15)\n",
    "root.right.right.right.left=node(17)\n",
    "root.right.right.right.right=node(20)\n",
    "\n",
    "print(root)\n",
    "print(root.data)\n",
    "\n",
    "# print(\"Inorder traversal\")\n",
    "# inorder(root)\n",
    "\n",
    "# print(\"Preorder traversal\")\n",
    "# preorder(root)\n",
    "\n",
    "# print(\"Postorder traversal\")\n",
    "# postorder(root)\n",
    "\n",
    "print(\"Level order Traversal\")\n",
    "levelorder(root)"
   ]
  },
  {
   "cell_type": "code",
   "execution_count": null,
   "id": "d2c13317",
   "metadata": {},
   "outputs": [],
   "source": []
  }
 ],
 "metadata": {
  "kernelspec": {
   "display_name": "Python 3 (ipykernel)",
   "language": "python",
   "name": "python3"
  },
  "language_info": {
   "codemirror_mode": {
    "name": "ipython",
    "version": 3
   },
   "file_extension": ".py",
   "mimetype": "text/x-python",
   "name": "python",
   "nbconvert_exporter": "python",
   "pygments_lexer": "ipython3",
   "version": "3.9.13"
  }
 },
 "nbformat": 4,
 "nbformat_minor": 5
}

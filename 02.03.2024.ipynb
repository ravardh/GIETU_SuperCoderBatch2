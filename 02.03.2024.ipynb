{
 "cells": [
  {
   "cell_type": "code",
   "execution_count": 9,
   "id": "72ab7f1c",
   "metadata": {},
   "outputs": [
    {
     "name": "stdout",
     "output_type": "stream",
     "text": [
      "Level Order Traversal:\n",
      "0 1 2 3 4 5 "
     ]
    }
   ],
   "source": [
    "class Graph:\n",
    "    def __init__(self, vertices):\n",
    "        self.vertices = vertices\n",
    "        self.adj_list = [[] for _ in range(vertices)]\n",
    "\n",
    "    def add_edge(self, u, v):\n",
    "        self.adj_list[u].append(v)\n",
    "\n",
    "    def level_order_traversal(self, start):\n",
    "        visited = [False] * self.vertices\n",
    "        queue = [start]\n",
    "        visited[start] = True\n",
    "\n",
    "        while queue:\n",
    "            node = queue.pop(0)\n",
    "            print(node, end=\" \")\n",
    "\n",
    "            for neighbor in self.adj_list[node]:\n",
    "                if not visited[neighbor]:\n",
    "                    queue.append(neighbor)\n",
    "                    visited[neighbor] = True\n",
    "g = Graph(6)\n",
    "g.add_edge(0, 1)\n",
    "g.add_edge(0, 2)\n",
    "g.add_edge(1, 3)\n",
    "g.add_edge(1, 4)\n",
    "g.add_edge(2, 4)\n",
    "g.add_edge(3, 5)\n",
    "g.add_edge(4, 5)\n",
    "\n",
    "print(\"Level Order Traversal:\")\n",
    "g.level_order_traversal(0)"
   ]
  },
  {
   "cell_type": "code",
   "execution_count": 11,
   "id": "ed82bff2",
   "metadata": {},
   "outputs": [
    {
     "name": "stdout",
     "output_type": "stream",
     "text": [
      "BFS starting from node 1\n",
      "1 2 3 4 5 "
     ]
    }
   ],
   "source": [
    "#BFS\n",
    "class Graph:\n",
    "    def __init__(self):\n",
    "        self.graph = {}\n",
    "\n",
    "    def add_edge(self, node, neighbors):\n",
    "        self.graph[node] = neighbors\n",
    "\n",
    "    def bfs(self, start_node):\n",
    "        visited = set()\n",
    "        queue = [start_node]\n",
    "\n",
    "        while queue:\n",
    "            current_node = queue.pop(0)\n",
    "            if current_node not in visited:\n",
    "                print(current_node, end=' ')\n",
    "                visited.add(current_node)\n",
    "                queue.extend(neighbor for neighbor in self.graph[current_node] if neighbor not in visited)\n",
    "graph = Graph()\n",
    "graph.add_edge(1, [2, 3])\n",
    "graph.add_edge(2, [4])\n",
    "graph.add_edge(3, [5])\n",
    "graph.add_edge(4, [])\n",
    "graph.add_edge(5, [])\n",
    "\n",
    "start_node = 1\n",
    "print(\"BFS starting from node\", start_node)\n",
    "graph.bfs(start_node)\n"
   ]
  },
  {
   "cell_type": "code",
   "execution_count": 10,
   "id": "b99c309b",
   "metadata": {},
   "outputs": [
    {
     "name": "stdout",
     "output_type": "stream",
     "text": [
      "Depth First Search:\n",
      "1 2 4 5 3 6 "
     ]
    }
   ],
   "source": [
    "#DFS\n",
    "class Graph:\n",
    "    def __init__(self):\n",
    "        self.graph = {}\n",
    "\n",
    "    def add_edge(self, u, v):\n",
    "        if u not in self.graph:\n",
    "            self.graph[u] = []\n",
    "        self.graph[u].append(v)\n",
    "\n",
    "    def dfs(self, start, visited=None):\n",
    "        if visited is None:\n",
    "            visited = set()\n",
    "\n",
    "        visited.add(start)\n",
    "        print(start, end=' ')\n",
    "\n",
    "        for neighbor in self.graph.get(start, []):\n",
    "            if neighbor not in visited:\n",
    "                self.dfs(neighbor, visited)\n",
    "g = Graph()\n",
    "g.add_edge(1, 2)\n",
    "g.add_edge(1, 3)\n",
    "g.add_edge(2, 4)\n",
    "g.add_edge(2, 5)\n",
    "g.add_edge(3, 6)\n",
    "\n",
    "print(\"Depth First Search:\")\n",
    "g.dfs(1)\n"
   ]
  },
  {
   "cell_type": "code",
   "execution_count": null,
   "id": "a3c3d078",
   "metadata": {},
   "outputs": [],
   "source": []
  }
 ],
 "metadata": {
  "kernelspec": {
   "display_name": "Python 3 (ipykernel)",
   "language": "python",
   "name": "python3"
  },
  "language_info": {
   "codemirror_mode": {
    "name": "ipython",
    "version": 3
   },
   "file_extension": ".py",
   "mimetype": "text/x-python",
   "name": "python",
   "nbconvert_exporter": "python",
   "pygments_lexer": "ipython3",
   "version": "3.9.13"
  }
 },
 "nbformat": 4,
 "nbformat_minor": 5
}

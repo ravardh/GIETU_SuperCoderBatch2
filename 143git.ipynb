{
  "nbformat": 4,
  "nbformat_minor": 0,
  "metadata": {
    "colab": {
      "provenance": [],
      "authorship_tag": "ABX9TyMU4snUsbjUTee93rjX/WGq",
      "include_colab_link": true
    },
    "kernelspec": {
      "name": "python3",
      "display_name": "Python 3"
    },
    "language_info": {
      "name": "python"
    }
  },
  "cells": [
    {
      "cell_type": "markdown",
      "metadata": {
        "id": "view-in-github",
        "colab_type": "text"
      },
      "source": [
        "<a href=\"https://colab.research.google.com/github/ravardh/GIETU_SuperCoderBatch2/blob/shrejal_21CSEDS044/143git.ipynb\" target=\"_parent\"><img src=\"https://colab.research.google.com/assets/colab-badge.svg\" alt=\"Open In Colab\"/></a>"
      ]
    },
    {
      "cell_type": "code",
      "execution_count": 3,
      "metadata": {
        "id": "S5-1-F_XbbMd",
        "colab": {
          "base_uri": "https://localhost:8080/"
        },
        "outputId": "fe2f207a-018d-4f00-f9be-b3bb293a74c0"
      },
      "outputs": [
        {
          "output_type": "stream",
          "name": "stdout",
          "text": [
            "Max Profit: 22.5\n"
          ]
        }
      ],
      "source": [
        "def fractional_knapsack(W, N, PW, PP):\n",
        "    products = [(PP[i] / PW[i], PW[i], PP[i]) for i in range(N)]\n",
        "    products.sort(reverse=True)\n",
        "    max_profit = 0\n",
        "    remaining_weight = W\n",
        "    for ratio, weight, profit in products:\n",
        "        if remaining_weight >= weight:\n",
        "            max_profit += profit\n",
        "            remaining_weight -= weight\n",
        "        else:\n",
        "            fraction = remaining_weight / weight\n",
        "            max_profit += fraction * profit\n",
        "            remaining_weight = 0\n",
        "            break\n",
        "    return max_profit\n",
        "W = 15\n",
        "N = 4\n",
        "PW = [5, 10, 10, 5]\n",
        "PP = [10, 5, 5, 10]\n",
        "\n",
        "print(\"Max Profit:\", fractional_knapsack(W, N, PW, PP))\n"
      ]
    },
    {
      "cell_type": "code",
      "source": [
        "def max_treasure_locations(locations, compass_range):\n",
        "    max_locations = 0\n",
        "    for i in range(len(locations)):\n",
        "        min_range = max(0, i - compass_range)\n",
        "        max_range = min(len(locations), i + compass_range + 1)\n",
        "        num_locations = max_range - min_range\n",
        "        max_locations = max(max_locations, num_locations)\n",
        "    return max_locations\n",
        "locations = [2, 7, 1, 4, 8, 3, 5]\n",
        "compass_range = 3\n",
        "print(\"Maximum number of potential treasure locations:\", max_treasure_locations(locations, compass_range))\n"
      ],
      "metadata": {
        "colab": {
          "base_uri": "https://localhost:8080/"
        },
        "id": "VNkMOMadkXvR",
        "outputId": "70b695c4-0db3-4a7b-9ae7-88586ef5a91e"
      },
      "execution_count": 4,
      "outputs": [
        {
          "output_type": "stream",
          "name": "stdout",
          "text": [
            "Maximum number of potential treasure locations: 7\n"
          ]
        }
      ]
    },
    {
      "cell_type": "code",
      "source": [
        "def coin_game(coins):\n",
        "    n = len(coins)\n",
        "    dp = [[0] * n for _ in range(n)]\n",
        "    for gap in range(n):\n",
        "        for i in range(n - gap):\n",
        "            j = i + gap\n",
        "            x = 0\n",
        "            if (i + 2) <= j:\n",
        "                x = dp[i + 2][j]\n",
        "            y = 0\n",
        "            if (i + 1) <= (j - 1):\n",
        "                y = dp[i + 1][j - 1]\n",
        "            z = 0\n",
        "            if i <= (j - 2):\n",
        "                z = dp[i][j - 2]\n",
        "            dp[i][j] = max(coins[i] + min(x, y), coins[j] + min(y, z))\n",
        "\n",
        "    total = sum(coins)\n",
        "    first_player_score = dp[0][n - 1]\n",
        "    second_player_score = total - first_player_score\n",
        "\n",
        "    if first_player_score > second_player_score:\n",
        "        return \"First player wins\"\n",
        "    elif first_player_score < second_player_score:\n",
        "        return \"Second player wins\"\n",
        "    else:\n",
        "        return \"It's a draw\"\n",
        "coins = [18, 20, 15, 30, 10, 14]\n",
        "print(coin_game(coins))\n"
      ],
      "metadata": {
        "colab": {
          "base_uri": "https://localhost:8080/"
        },
        "id": "ski-_VXVAalu",
        "outputId": "66c0204c-7178-4e86-8e41-88b17354ee1b"
      },
      "execution_count": 1,
      "outputs": [
        {
          "output_type": "stream",
          "name": "stdout",
          "text": [
            "First player wins\n"
          ]
        }
      ]
    },
    {
      "cell_type": "code",
      "source": [
        "."
      ],
      "metadata": {
        "id": "mFVFpPZ2AfVD"
      },
      "execution_count": null,
      "outputs": []
    }
  ]
}
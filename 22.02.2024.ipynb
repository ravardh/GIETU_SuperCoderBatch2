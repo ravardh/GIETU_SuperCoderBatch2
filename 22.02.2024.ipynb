{
 "cells": [
  {
   "cell_type": "code",
   "execution_count": 1,
   "id": "8630814e",
   "metadata": {},
   "outputs": [
    {
     "name": "stdout",
     "output_type": "stream",
     "text": [
      "Maximum sum of subarray of length 3 : 22\n"
     ]
    }
   ],
   "source": [
    "#sliding Window\n",
    "\n",
    "def max_sum_subarray(a, k):\n",
    "    if k > len(a):\n",
    "        return \"Invalid input: k is greater than the length of the array\"\n",
    "    \n",
    "    max_sum = sum(a[:k])  \n",
    "    window_sum = max_sum \n",
    "    \n",
    "    for i in range(len(a) - k):  \n",
    "        window_sum = window_sum - a[i] + a[i + k]  \n",
    "        max_sum = max(max_sum, window_sum)    \n",
    "    return max_sum\n",
    "\n",
    "a=[1,3,5,2,7,4,8,9,5,7,9,3,2,0]\n",
    "k=3\n",
    "print(\"Maximum sum of subarray of length\", k, \":\", max_sum_subarray(a, k))"
   ]
  },
  {
   "cell_type": "code",
   "execution_count": 2,
   "id": "f595133b",
   "metadata": {},
   "outputs": [
    {
     "name": "stdout",
     "output_type": "stream",
     "text": [
      "Enter the size of array: 4\n",
      "44\n",
      "33\n",
      "2\n",
      "6\n",
      "Enter the value of k: 1\n",
      "Maximum sum of subarray of length 1 : 44\n"
     ]
    }
   ],
   "source": [
    "#Sliding Window\n",
    "def max_sum_subarray(a, k):\n",
    "    if k > len(a):\n",
    "        return \"k is greater than length of array\"\n",
    "    \n",
    "    max_sum = sum(a[:k])  \n",
    "    win_sum = max_sum \n",
    "    \n",
    "    for i in range(len(a) - k):  \n",
    "        win_sum = win_sum - a[i] + a[i + k]  \n",
    "        max_sum = max(max_sum, win_sum)  \n",
    "        \n",
    "    return max_sum\n",
    "\n",
    "a=[]\n",
    "n=int(input(\"Enter the size of array: \"))\n",
    "for i in range(n):\n",
    "    e=int(input())\n",
    "    a.append(e)\n",
    "k = int(input(\"Enter the value of k: \"))\n",
    "print(\"Maximum sum of subarray of length\", k, \":\", max_sum_subarray(a, k))"
   ]
  },
  {
   "cell_type": "code",
   "execution_count": 3,
   "id": "570e99b5",
   "metadata": {},
   "outputs": [
    {
     "name": "stdout",
     "output_type": "stream",
     "text": [
      "Enter the size of array: 4\n",
      "3\n",
      "22\n",
      "4\n",
      "22\n",
      "Enter the value of k: 1\n",
      "[3, 22, 4, 22]\n"
     ]
    }
   ],
   "source": [
    "def max_in_subarray(a,k):\n",
    "    if k>len(a):\n",
    "        return \"k is greater than length of array\"\n",
    "    li=[]\n",
    "    max_e = 0\n",
    "    for i in range(len(a)-k+1):\n",
    "        li.append(max(a[i:i+k]))\n",
    "    print(li)\n",
    "\n",
    "a=[]\n",
    "n=int(input(\"Enter the size of array: \"))\n",
    "for i in range(n):\n",
    "    e=int(input())\n",
    "    a.append(e)\n",
    "k = int(input(\"Enter the value of k: \"))\n",
    "max_in_subarray(a,k)"
   ]
  },
  {
   "cell_type": "code",
   "execution_count": 4,
   "id": "8336663c",
   "metadata": {},
   "outputs": [
    {
     "name": "stdout",
     "output_type": "stream",
     "text": [
      "6\n",
      "12\n"
     ]
    }
   ],
   "source": [
    "#String = ABCBBACBAABACBABC\n",
    "#Pattern = CBA\n",
    "\n",
    "def pattern_string(a,p):\n",
    "    if len(p)>len(a):\n",
    "        return \"Length of pattern is greater than length of String\"\n",
    "    k=len(p)\n",
    "    for i in range(len(a)-k+1):\n",
    "        if p==a[i:i+k]:\n",
    "            print(i)\n",
    "            \n",
    "a = \"ABCBBACBAABACBABC\"\n",
    "p = \"CBA\"\n",
    "\n",
    "pattern_string(a,p)"
   ]
  },
  {
   "cell_type": "code",
   "execution_count": null,
   "id": "9b7be0a9",
   "metadata": {},
   "outputs": [],
   "source": []
  }
 ],
 "metadata": {
  "kernelspec": {
   "display_name": "Python 3 (ipykernel)",
   "language": "python",
   "name": "python3"
  },
  "language_info": {
   "codemirror_mode": {
    "name": "ipython",
    "version": 3
   },
   "file_extension": ".py",
   "mimetype": "text/x-python",
   "name": "python",
   "nbconvert_exporter": "python",
   "pygments_lexer": "ipython3",
   "version": "3.9.13"
  }
 },
 "nbformat": 4,
 "nbformat_minor": 5
}

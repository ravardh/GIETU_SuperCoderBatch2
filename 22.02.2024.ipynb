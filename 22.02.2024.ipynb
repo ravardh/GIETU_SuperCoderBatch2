{
 "cells": [
  {
   "cell_type": "code",
   "execution_count": 1,
   "id": "cb2e697b",
   "metadata": {},
   "outputs": [
    {
     "name": "stdout",
     "output_type": "stream",
     "text": [
      "Maximum sum of subarray of length 3 : 22\n"
     ]
    }
   ],
   "source": [
    "#Sliding Window\n",
    "def max_sum_subarray(a, k):\n",
    "    if k > len(a):\n",
    "        return \"k is greater than length of array\"\n",
    "    \n",
    "    max_sum = sum(a[:k])  \n",
    "    window_sum = max_sum \n",
    "    \n",
    "    for i in range(len(a) - k):  \n",
    "        window_sum = window_sum - a[i] + a[i + k]  \n",
    "        max_sum = max(max_sum, window_sum)  \n",
    "        \n",
    "    return max_sum\n",
    "\n",
    "a=[1,3,5,2,7,4,8,9,5,7,9,3,2,0]\n",
    "k = 3\n",
    "print(\"Maximum sum of subarray of length\", k, \":\", max_sum_subarray(a, k))"
   ]
  },
  {
   "cell_type": "code",
   "execution_count": 2,
   "id": "c31f2fc2",
   "metadata": {},
   "outputs": [
    {
     "name": "stdout",
     "output_type": "stream",
     "text": [
      "Enter the size of array: 5\n",
      "12\n",
      "41\n",
      "12\n",
      "56\n",
      "7\n",
      "Enter the value of k: 3\n",
      "Maximum sum of subarray of length 3 : 109\n"
     ]
    }
   ],
   "source": [
    "#Sliding Window\n",
    "def max_sum_subarray(a, k):\n",
    "    if k > len(a):\n",
    "        return \"k is greater than length of array\"\n",
    "    \n",
    "    max_sum = sum(a[:k])  \n",
    "    win_sum = max_sum \n",
    "    \n",
    "    for i in range(len(a) - k):  \n",
    "        win_sum = win_sum - a[i] + a[i + k]  \n",
    "        max_sum = max(max_sum, win_sum)  \n",
    "        \n",
    "    return max_sum\n",
    "\n",
    "a=[]\n",
    "n=int(input(\"Enter the size of array: \"))\n",
    "for i in range(n):\n",
    "    e=int(input())\n",
    "    a.append(e)\n",
    "k = int(input(\"Enter the value of k: \"))\n",
    "print(\"Maximum sum of subarray of length\", k, \":\", max_sum_subarray(a, k))"
   ]
  },
  {
   "cell_type": "code",
   "execution_count": 4,
   "id": "f2736264",
   "metadata": {},
   "outputs": [
    {
     "name": "stdout",
     "output_type": "stream",
     "text": [
      "Enter the size of array: 5\n",
      "1\n",
      "4\n",
      "1\n",
      "7\n",
      "2\n",
      "Enter the value of k: 2\n",
      "[4, 4, 7, 7]\n"
     ]
    }
   ],
   "source": [
    "def max_in_subarray(a,k):\n",
    "    if k>len(a):\n",
    "        return \"k is greater than length of array\"\n",
    "    li=[]\n",
    "    max_e = 0\n",
    "    for i in range(len(a)-k+1):\n",
    "        li.append(max(a[i:i+k]))\n",
    "    print(li)\n",
    "\n",
    "a=[]\n",
    "n=int(input(\"Enter the size of array: \"))\n",
    "for i in range(n):\n",
    "    e=int(input())\n",
    "    a.append(e)\n",
    "k = int(input(\"Enter the value of k: \"))\n",
    "max_in_subarray(a,k)"
   ]
  },
  {
   "cell_type": "code",
   "execution_count": 5,
   "id": "dd3f8aa3",
   "metadata": {},
   "outputs": [
    {
     "name": "stdout",
     "output_type": "stream",
     "text": [
      "6\n",
      "12\n"
     ]
    }
   ],
   "source": [
    "def pat_string(a,p):\n",
    "    if len(p)>len(a):\n",
    "        return \"length of pattern is greater than length of string\"\n",
    "    k=len(p)\n",
    "    for i in range(len(a)-k+1):\n",
    "        if p==a[i:i+k]:\n",
    "            print(i)\n",
    "\n",
    "a = \"ABCBBACBAABACBABC\"\n",
    "p = \"CBA\"\n",
    "\n",
    "pat_string(a,p)"
   ]
  },
  {
   "cell_type": "code",
   "execution_count": null,
   "id": "e830a006",
   "metadata": {},
   "outputs": [],
   "source": []
  }
 ],
 "metadata": {
  "kernelspec": {
   "display_name": "Python 3 (ipykernel)",
   "language": "python",
   "name": "python3"
  },
  "language_info": {
   "codemirror_mode": {
    "name": "ipython",
    "version": 3
   },
   "file_extension": ".py",
   "mimetype": "text/x-python",
   "name": "python",
   "nbconvert_exporter": "python",
   "pygments_lexer": "ipython3",
   "version": "3.9.13"
  }
 },
 "nbformat": 4,
 "nbformat_minor": 5
}

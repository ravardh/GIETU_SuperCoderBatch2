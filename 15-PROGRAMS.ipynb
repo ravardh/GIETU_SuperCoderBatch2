{
 "cells": [
  {
   "cell_type": "code",
   "execution_count": 1,
   "id": "7aa3f9dd",
   "metadata": {},
   "outputs": [
    {
     "name": "stdout",
     "output_type": "stream",
     "text": [
      "Maximum Profit:- 22.5\n"
     ]
    }
   ],
   "source": [
    "def knapsack(W,N,PW,PP):\n",
    "    items=[]\n",
    "    for i in range(N):\n",
    "        items.append((PP[i]/PW[i],PW[i],PP[i]))\n",
    "    items.sort(reverse=True)\n",
    "    totalWeight=0\n",
    "    totalProfit=0\n",
    "    for fra,w,p in items:\n",
    "        if totalWeight+w<=W:\n",
    "            totalWeight+=w\n",
    "            totalProfit+=p\n",
    "        else:\n",
    "            rem=W-totalWeight\n",
    "            fract=rem/w\n",
    "            totalProfit +=fract*p\n",
    "            break\n",
    "    return totalProfit\n",
    "W=15\n",
    "N=4\n",
    "PW=[5, 10, 10, 5]\n",
    "PP=[10, 5, 5, 10]\n",
    "max_profit=knapsack(W,N,PW,PP)\n",
    "print(\"Maximum Profit:-\",max_profit)\n",
    "\n"
   ]
  },
  {
   "cell_type": "code",
   "execution_count": null,
   "id": "53b14f70",
   "metadata": {},
   "outputs": [],
   "source": []
  }
 ],
 "metadata": {
  "kernelspec": {
   "display_name": "Python 3 (ipykernel)",
   "language": "python",
   "name": "python3"
  },
  "language_info": {
   "codemirror_mode": {
    "name": "ipython",
    "version": 3
   },
   "file_extension": ".py",
   "mimetype": "text/x-python",
   "name": "python",
   "nbconvert_exporter": "python",
   "pygments_lexer": "ipython3",
   "version": "3.11.3"
  }
 },
 "nbformat": 4,
 "nbformat_minor": 5
}

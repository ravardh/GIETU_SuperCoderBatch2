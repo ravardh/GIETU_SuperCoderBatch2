{
 "cells": [
  {
   "cell_type": "code",
   "execution_count": 3,
   "id": "f5efb36a-9264-45e7-9b15-553f70a0ec9b",
   "metadata": {},
   "outputs": [
    {
     "name": "stdin",
     "output_type": "stream",
     "text": [
      "Enter the total weight limit:  3\n",
      "Enter the total number of products:  2\n",
      "Enter the weights of each product (space-separated):  3 4\n",
      "Enter the profits from each product (space-separated):  22 3\n"
     ]
    },
    {
     "name": "stdout",
     "output_type": "stream",
     "text": [
      "Max Profit: 22.00\n"
     ]
    }
   ],
   "source": [
    "def fractional_knapsack(W, N, PW, PP):\n",
    "    ratio = [(PP[i] / PW[i], i) for i in range(N)]\n",
    "    ratio.sort(reverse=True)  \n",
    "    max_profit = 0\n",
    "    remaining_weight = W\n",
    "    for _, i in ratio:\n",
    "        if PW[i] <= remaining_weight:\n",
    "            max_profit += PP[i]\n",
    "            remaining_weight -= PW[i]\n",
    "        else:\n",
    "            fraction = remaining_weight / PW[i]\n",
    "            max_profit += fraction * PP[i]\n",
    "            break  \n",
    "    return max_profit\n",
    "\n",
    "def main():\n",
    "    \n",
    "    W = float(input(\"Enter the total weight limit: \"))\n",
    "    N = int(input(\"Enter the total number of products: \"))\n",
    "    PW = list(map(float, input(\"Enter the weights of each product (space-separated): \").split()))\n",
    "    PP = list(map(float, input(\"Enter the profits from each product (space-separated): \").split()))    \n",
    "    result = fractional_knapsack(W, N, PW, PP)\n",
    "    print(f\"Max Profit: {result:.2f}\")\n",
    "\n",
    "if __name__ == \"__main__\":\n",
    "    main()\n"
   ]
  },
  {
   "cell_type": "code",
   "execution_count": 3,
   "id": "d19fc87a-a280-45c0-937d-216289fbc227",
   "metadata": {},
   "outputs": [
    {
     "name": "stdin",
     "output_type": "stream",
     "text": [
      "Enter the number of children:  3\n",
      "Enter the count (K):  2\n"
     ]
    },
    {
     "name": "stdout",
     "output_type": "stream",
     "text": [
      "The child who wins the game is: 3\n"
     ]
    }
   ],
   "source": [
    "def find_winner(N, K):\n",
    "    children = list(range(1, N + 1))\n",
    "    current_index = 0\n",
    "    while len(children) > 1:\n",
    "        current_index = (current_index + K - 1) % len(children)\n",
    "        del children[current_index]\n",
    "\n",
    "    return children[0]\n",
    "\n",
    "def main():\n",
    "    try:\n",
    "        N = int(input(\"Enter the number of children: \"))\n",
    "        K = int(input(\"Enter the count (K): \"))\n",
    "        if N <= 0 or K <= 0:\n",
    "            print(\"Please enter positive values for N and K.\")\n",
    "            return\n",
    "\n",
    "        winner = find_winner(N, K)\n",
    "        print(f\"The child who wins the game is: {winner}\")\n",
    "    except ValueError:\n",
    "        print(\"Invalid input. Please enter valid integers for N and K.\")\n",
    "\n",
    "if __name__ == \"__main__\":\n",
    "    main()\n"
   ]
  },
  {
   "cell_type": "code",
   "execution_count": 4,
   "id": "ceca5340-6907-4780-aab1-4139034a2b9d",
   "metadata": {},
   "outputs": [
    {
     "name": "stdin",
     "output_type": "stream",
     "text": [
      "Enter the values of coins (space-separated):  2 3 3 4\n"
     ]
    },
    {
     "name": "stdout",
     "output_type": "stream",
     "text": [
      "Second player wins.\n"
     ]
    }
   ],
   "source": [
    "def find_winner(coins):\n",
    "    even_sum = sum(coins[::2])\n",
    "    odd_sum = sum(coins[1::2])\n",
    "    if even_sum > odd_sum:\n",
    "        return \"First player wins.\"\n",
    "    else:\n",
    "        return \"Second player wins.\"\n",
    "\n",
    "def main():\n",
    "    try:\n",
    "        coins = list(map(int, input(\"Enter the values of coins (space-separated): \").split()))\n",
    "        if len(coins) % 2 != 0:\n",
    "            print(\"Please enter an even number of coins.\")\n",
    "            return\n",
    "\n",
    "        result = find_winner(coins)\n",
    "        print(result)\n",
    "    except ValueError:\n",
    "        print(\"Invalid input. Please enter valid integers for coin values.\")\n",
    "\n",
    "if __name__ == \"__main__\":\n",
    "    main()\n"
   ]
  },
  {
   "cell_type": "code",
   "execution_count": 1,
   "id": "d5439f72-205d-4046-935a-786762b11e67",
   "metadata": {},
   "outputs": [
    {
     "name": "stdout",
     "output_type": "stream",
     "text": [
      "Maximum number of potential treasure locations: 6\n"
     ]
    }
   ],
   "source": [
    "def find_max_treasure_locations(locations, compass_range):\n",
    "    sorted_locations = sorted(locations)\n",
    "    max_adjacent = [0] * len(sorted_locations)\n",
    "    for i in range(len(sorted_locations)):\n",
    "        for j in range(i - 1, -1, -1):\n",
    "            if sorted_locations[i] - sorted_locations[j] <= compass_range:\n",
    "                max_adjacent[i] = max(max_adjacent[i], max_adjacent[j] + 1)\n",
    "            else:\n",
    "                break\n",
    "\n",
    "    return max(max_adjacent)\n",
    "\n",
    "locations = [2, 7, 1, 4, 8, 3, 5]\n",
    "compass_range = 3\n",
    "result = find_max_treasure_locations(locations, compass_range)\n",
    "print(f\"Maximum number of potential treasure locations: {result}\")\n"
   ]
  },
  {
   "cell_type": "code",
   "execution_count": 2,
   "id": "2ba292dc-5949-4f87-aa08-9b0606983782",
   "metadata": {},
   "outputs": [
    {
     "name": "stdout",
     "output_type": "stream",
     "text": [
      "Maximum length of subarray with zero sum: 5\n"
     ]
    }
   ],
   "source": [
    "def find_longest_zero_sum_subarray(arr):\n",
    "    prefix_sum = {} \n",
    "    max_length = 0\n",
    "    current_sum = 0\n",
    "\n",
    "    for i, num in enumerate(arr):\n",
    "        current_sum += num\n",
    "\n",
    "        if current_sum == 0:\n",
    "            max_length = i + 1\n",
    "\n",
    "        if current_sum in prefix_sum:\n",
    "            max_length = max(max_length, i - prefix_sum[current_sum])\n",
    "        else:\n",
    "            prefix_sum[current_sum] = i\n",
    "\n",
    "    return max_length\n",
    "\n",
    "numbers = [9, -3, 3, -1, 6, -5]\n",
    "result = find_longest_zero_sum_subarray(numbers)\n",
    "print(f\"Maximum length of subarray with zero sum: {result}\")\n"
   ]
  },
  {
   "cell_type": "code",
   "execution_count": null,
   "id": "49daf8ee-88b5-4069-9d8d-593b5ffdbc97",
   "metadata": {},
   "outputs": [],
   "source": []
  }
 ],
 "metadata": {
  "kernelspec": {
   "display_name": "Python 3 (ipykernel)",
   "language": "python",
   "name": "python3"
  },
  "language_info": {
   "codemirror_mode": {
    "name": "ipython",
    "version": 3
   },
   "file_extension": ".py",
   "mimetype": "text/x-python",
   "name": "python",
   "nbconvert_exporter": "python",
   "pygments_lexer": "ipython3",
   "version": "3.10.6"
  }
 },
 "nbformat": 4,
 "nbformat_minor": 5
}

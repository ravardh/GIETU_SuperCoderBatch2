{
 "cells": [
  {
   "cell_type": "markdown",
   "id": "794a62c1",
   "metadata": {},
   "source": [
    "# Left View"
   ]
  },
  {
   "cell_type": "code",
   "execution_count": 2,
   "id": "d831d557",
   "metadata": {},
   "outputs": [
    {
     "name": "stdout",
     "output_type": "stream",
     "text": [
      "1\n",
      "5\n",
      "2\n",
      "20\n",
      "10\n",
      "21\n",
      "15\n"
     ]
    }
   ],
   "source": [
    "class node:\n",
    "    def __init__(self,data=None):\n",
    "        self.data=data\n",
    "        self.left=None\n",
    "        self.right=None\n",
    "        \n",
    "def left(root,cl,l):\n",
    "    if root is None:\n",
    "        return\n",
    "    if l[0]<cl:\n",
    "        print(root.data)\n",
    "        l[0]=cl\n",
    "    left(root.left,cl+1,l)\n",
    "    left(root.right,cl+1,l)\n",
    "        \n",
    "l=[0]\n",
    "cl=1\n",
    "root=node(1)\n",
    "root.left=node(5)\n",
    "root.right=node(7)\n",
    "root.left.left=node(2)\n",
    "root.left.left.left=node(20)\n",
    "root.left.left.left.right=node(10)\n",
    "root.left.left.left.right.left=node(21)\n",
    "root.left.right=node(4)\n",
    "root.left.right.left=node(11)\n",
    "root.left.right.right=node(3)\n",
    "root.right.right=node(17)\n",
    "root.right.right.right=node(16)\n",
    "root.right.right.left=node(12)\n",
    "root.right.right.left.left=node(14)\n",
    "root.right.right.left.right=node(19)\n",
    "root.right.right.left.right.right=node(18)\n",
    "root.right.right.left.right.right.right=node(15)\n",
    "\n",
    "left(root,cl,l)"
   ]
  },
  {
   "cell_type": "markdown",
   "id": "e63d8b86",
   "metadata": {},
   "source": [
    "# Right View of Tree"
   ]
  },
  {
   "cell_type": "code",
   "execution_count": 5,
   "id": "7f320347",
   "metadata": {},
   "outputs": [
    {
     "name": "stdout",
     "output_type": "stream",
     "text": [
      "1\n",
      "7\n",
      "17\n",
      "16\n",
      "19\n",
      "18\n",
      "15\n"
     ]
    }
   ],
   "source": [
    "class node:\n",
    "    def __init__(self,data=None):\n",
    "        self.data=data\n",
    "        self.left=None\n",
    "        self.right=None\n",
    "        \n",
    "def rightView(root,cl,l):\n",
    "    if root is None:\n",
    "        return\n",
    "    if l[0]<cl:\n",
    "        print(root.data)\n",
    "        l[0]=cl\n",
    "    rightView(root.right,cl+1,l)\n",
    "    rightView(root.left,cl+1,l)\n",
    "        \n",
    "l=[0]\n",
    "cl=1\n",
    "root=node(1)\n",
    "root.left=node(5)\n",
    "root.right=node(7)\n",
    "root.left.left=node(2)\n",
    "root.left.left.left=node(20)\n",
    "root.left.left.left.right=node(10)\n",
    "root.left.left.left.right.left=node(21)\n",
    "root.left.right=node(4)\n",
    "root.left.right.left=node(11)\n",
    "root.left.right.right=node(3)\n",
    "root.right.right=node(17)\n",
    "root.right.right.right=node(16)\n",
    "root.right.right.left=node(12)\n",
    "root.right.right.left.left=node(14)\n",
    "root.right.right.left.right=node(19)\n",
    "root.right.right.left.right.right=node(18)\n",
    "root.right.right.left.right.right.right=node(15)\n",
    "\n",
    "rightView(root,cl,l)"
   ]
  },
  {
   "cell_type": "code",
   "execution_count": null,
   "id": "aff06d78",
   "metadata": {},
   "outputs": [],
   "source": []
  },
  {
   "cell_type": "code",
   "execution_count": null,
   "id": "dfaafb76",
   "metadata": {},
   "outputs": [],
   "source": []
  }
 ],
 "metadata": {
  "kernelspec": {
   "display_name": "Python 3 (ipykernel)",
   "language": "python",
   "name": "python3"
  },
  "language_info": {
   "codemirror_mode": {
    "name": "ipython",
    "version": 3
   },
   "file_extension": ".py",
   "mimetype": "text/x-python",
   "name": "python",
   "nbconvert_exporter": "python",
   "pygments_lexer": "ipython3",
   "version": "3.11.5"
  }
 },
 "nbformat": 4,
 "nbformat_minor": 5
}

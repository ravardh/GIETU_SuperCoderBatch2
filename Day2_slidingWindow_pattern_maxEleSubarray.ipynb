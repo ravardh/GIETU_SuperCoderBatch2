{
  "nbformat": 4,
  "nbformat_minor": 0,
  "metadata": {
    "colab": {
      "provenance": [],
      "authorship_tag": "ABX9TyNlSXPhTnc2pYSJwod5D/O5",
      "include_colab_link": true
    },
    "kernelspec": {
      "name": "python3",
      "display_name": "Python 3"
    },
    "language_info": {
      "name": "python"
    }
  },
  "cells": [
    {
      "cell_type": "markdown",
      "metadata": {
        "id": "view-in-github",
        "colab_type": "text"
      },
      "source": [
        "<a href=\"https://colab.research.google.com/github/ravardh/GIETU_SuperCoderBatch2/blob/Jatin_21CSE153/Day2_slidingWindow_pattern_maxEleSubarray.ipynb\" target=\"_parent\"><img src=\"https://colab.research.google.com/assets/colab-badge.svg\" alt=\"Open In Colab\"/></a>"
      ]
    },
    {
      "cell_type": "code",
      "execution_count": 5,
      "metadata": {
        "colab": {
          "base_uri": "https://localhost:8080/"
        },
        "id": "KKVZYlMzDNzn",
        "outputId": "dbedd6a2-4285-47e2-a0b7-c208f0ffbf18"
      },
      "outputs": [
        {
          "output_type": "stream",
          "name": "stdout",
          "text": [
            "enter the value of window: 3\n",
            "22\n"
          ]
        }
      ],
      "source": [
        "#sliding window\n",
        "arr = [1, 3, 5, 2, 7, 4, 8, 9, 5, 3, 5, 7, 9, 3, 2, 0]\n",
        "# n = len(a)\n",
        "# max_sum = 0\n",
        "# for i in range(n-2):\n",
        "#     sum = a[i]+a[i+1]+a[i+2]\n",
        "#     if (sum > max_sum):\n",
        "#         max_sum = sum\n",
        "\n",
        "# print(max_sum)\n",
        "k = int(input(\"enter the value of window: \"))\n",
        "sum = 0\n",
        "max = 0\n",
        "for i in range(k):\n",
        "    sum = sum+arr[i]\n",
        "max = sum\n",
        "for i in range(k, len(arr)):\n",
        "    sum = sum-arr[i-k]+arr[i]\n",
        "    if (sum > max):\n",
        "        max = sum\n",
        "print(max)"
      ]
    },
    {
      "cell_type": "code",
      "source": [
        "#pattern\n",
        "\n",
        "string = \"ABCBBACBAABACBABC\"\n",
        "Pattern = \"CBA\"\n",
        "\n",
        "count = 0\n",
        "for i in range(len(string)-len(Pattern)+1):\n",
        "    if string[i:i+len(Pattern)] == Pattern:\n",
        "        count += 1\n",
        "print(count)"
      ],
      "metadata": {
        "id": "Tci46wHKDxot",
        "colab": {
          "base_uri": "https://localhost:8080/"
        },
        "outputId": "bdf84388-f7cc-4048-d523-8e39c0a31639"
      },
      "execution_count": 11,
      "outputs": [
        {
          "output_type": "stream",
          "name": "stdout",
          "text": [
            "2\n"
          ]
        }
      ]
    },
    {
      "cell_type": "code",
      "source": [
        "#maximum_element_from_subarray\n",
        "\n",
        "arr = [1, 3, 5, 2, 7, 4, 8, 9, 5, 3, 5, 7, 9, 3, 2, 0]\n",
        "k = int(input(\"enter the window size: \"))\n",
        "n = len(arr)\n",
        "arr2 = []\n",
        "for i in range(n - k + 1):\n",
        "    max_element = arr[i]\n",
        "    for j in range(1, k):\n",
        "        if arr[i + j] > max_element:\n",
        "            max_element = arr[i + j]\n",
        "    arr2.append(max_element)\n",
        "print(arr2)\n"
      ],
      "metadata": {
        "colab": {
          "base_uri": "https://localhost:8080/"
        },
        "id": "Xa2qdwnNMEQP",
        "outputId": "b7c46cd0-e346-4f25-e61d-d7c6bf952f69"
      },
      "execution_count": 7,
      "outputs": [
        {
          "output_type": "stream",
          "name": "stdout",
          "text": [
            "enter the window size: 3\n",
            "[5, 5, 7, 7, 8, 9, 9, 9, 5, 7, 9, 9, 9, 3]\n"
          ]
        }
      ]
    }
  ]
}
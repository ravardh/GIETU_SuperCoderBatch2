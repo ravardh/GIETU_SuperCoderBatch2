{
 "cells": [
  {
   "cell_type": "code",
   "execution_count": 5,
   "id": "d84b2dac-30b5-4036-a946-8cf2ad3e8704",
   "metadata": {},
   "outputs": [
    {
     "name": "stdout",
     "output_type": "stream",
     "text": [
      "1 -> 2 -> 3\n",
      "2 -> 3\n",
      "3 -> 4\n",
      "4 -> \n"
     ]
    }
   ],
   "source": [
    "class Graph:\n",
    "    def __init__(self):\n",
    "        self.graph = {}\n",
    "\n",
    "    def add_vertex(self, vertex):\n",
    "        if vertex not in self.graph:\n",
    "            self.graph[vertex] = []\n",
    "\n",
    "    def add_edge(self, start, end):\n",
    "        if start in self.graph:\n",
    "            self.graph[start].append(end)\n",
    "        else:\n",
    "            print(\"Vertex\", start, \"not found.\")\n",
    "\n",
    "    def print_graph(self):\n",
    "        for vertex in self.graph:\n",
    "            print(vertex, \"->\", \" -> \".join(map(str, self.graph[vertex])))\n",
    "\n",
    "g = Graph()\n",
    "g.add_vertex(1)\n",
    "g.add_vertex(2)\n",
    "g.add_vertex(3)\n",
    "g.add_vertex(4)\n",
    "g.add_edge(1, 2)\n",
    "g.add_edge(1, 3)\n",
    "g.add_edge(2, 3)\n",
    "g.add_edge(3, 4)\n",
    "g.print_graph()"
   ]
  },
  {
   "cell_type": "code",
   "execution_count": 6,
   "id": "7ca04f02-0805-4afc-8471-5cac69ae56be",
   "metadata": {},
   "outputs": [
    {
     "name": "stdout",
     "output_type": "stream",
     "text": [
      "1 -> 2 -> 3\n",
      "2 -> 1 -> 3\n",
      "3 -> 1 -> 2 -> 4\n",
      "4 -> 3\n"
     ]
    }
   ],
   "source": [
    "class Graph:\n",
    "    def __init__(self):\n",
    "        self.graph = {}\n",
    "\n",
    "    def add_vertex(self, vertex):\n",
    "        if vertex not in self.graph:\n",
    "            self.graph[vertex] = []\n",
    "\n",
    "    def add_edge(self, vertex1, vertex2):\n",
    "        if vertex1 in self.graph and vertex2 in self.graph:\n",
    "            self.graph[vertex1].append(vertex2)\n",
    "            self.graph[vertex2].append(vertex1)\n",
    "        else:\n",
    "            print(\"One or more vertices not found.\")\n",
    "\n",
    "    def print_graph(self):\n",
    "        for vertex in self.graph:\n",
    "            print(vertex, \"->\", \" -> \".join(map(str, self.graph[vertex])))\n",
    "g = Graph()\n",
    "g.add_vertex(1)\n",
    "g.add_vertex(2)\n",
    "g.add_vertex(3)\n",
    "g.add_vertex(4)\n",
    "g.add_edge(1, 2)\n",
    "g.add_edge(1, 3)\n",
    "g.add_edge(2, 3)\n",
    "g.add_edge(3, 4)\n",
    "g.print_graph()"
   ]
  },
  {
   "cell_type": "code",
   "execution_count": 7,
   "id": "c1452bc2-62a4-4116-af3d-cf2895a21320",
   "metadata": {},
   "outputs": [
    {
     "name": "stdout",
     "output_type": "stream",
     "text": [
      "1 -> 2(5) -> 3(3)\n",
      "2 -> 1(5) -> 3(2)\n",
      "3 -> 1(3) -> 2(2) -> 4(7)\n",
      "4 -> 3(7)\n"
     ]
    }
   ],
   "source": [
    "class Graph:\n",
    "    def __init__(self):\n",
    "        self.graph = {}\n",
    "\n",
    "    def add_vertex(self, vertex):\n",
    "        if vertex not in self.graph:\n",
    "            self.graph[vertex] = {}\n",
    "\n",
    "    def add_edge(self, start, end, weight):\n",
    "        if start in self.graph and end in self.graph:\n",
    "            self.graph[start][end] = weight\n",
    "            self.graph[end][start] = weight  # Assuming undirected graph\n",
    "        else:\n",
    "            print(\"One or more vertices not found.\")\n",
    "\n",
    "    def print_graph(self):\n",
    "        for vertex in self.graph:\n",
    "            print(vertex, \"->\", \" -> \".join(f\"{neighbor}({weight})\" for neighbor, weight in self.graph[vertex].items()))\n",
    "\n",
    "g = Graph()\n",
    "g.add_vertex(1)\n",
    "g.add_vertex(2)\n",
    "g.add_vertex(3)\n",
    "g.add_vertex(4)\n",
    "g.add_edge(1, 2, 5)\n",
    "g.add_edge(1, 3, 3)\n",
    "g.add_edge(2, 3, 2)\n",
    "g.add_edge(3, 4, 7)\n",
    "g.print_graph()"
   ]
  },
  {
   "cell_type": "code",
   "execution_count": 8,
   "id": "3d3da678-a64b-4e27-b721-2b94b88e44af",
   "metadata": {},
   "outputs": [
    {
     "name": "stdout",
     "output_type": "stream",
     "text": [
      "1 -> 2 -> 3\n",
      "2 -> 3\n",
      "3 -> 4\n",
      "4 -> \n"
     ]
    }
   ],
   "source": [
    "class Graph:\n",
    "    def __init__(self):\n",
    "        self.graph = {}\n",
    "\n",
    "    def add_vertex(self, vertex):\n",
    "        if vertex not in self.graph:\n",
    "            self.graph[vertex] = []\n",
    "\n",
    "    def add_edge(self, start, end):\n",
    "        if start in self.graph and end in self.graph:\n",
    "            self.graph[start].append(end)\n",
    "        else:\n",
    "            print(\"One or more vertices not found.\")\n",
    "\n",
    "    def print_graph(self):\n",
    "        for vertex in self.graph:\n",
    "            print(vertex, \"->\", \" -> \".join(map(str, self.graph[vertex])))\n",
    "\n",
    "g = Graph()\n",
    "g.add_vertex(1)\n",
    "g.add_vertex(2)\n",
    "g.add_vertex(3)\n",
    "g.add_vertex(4)\n",
    "g.add_edge(1, 2)\n",
    "g.add_edge(1, 3)\n",
    "g.add_edge(2, 3)\n",
    "g.add_edge(3, 4)\n",
    "g.print_graph()"
   ]
  },
  {
   "cell_type": "code",
   "execution_count": null,
   "id": "40546d10-40cd-4485-ab93-fee58dda711b",
   "metadata": {},
   "outputs": [],
   "source": []
  }
 ],
 "metadata": {
  "kernelspec": {
   "display_name": "Python 3 (ipykernel)",
   "language": "python",
   "name": "python3"
  },
  "language_info": {
   "codemirror_mode": {
    "name": "ipython",
    "version": 3
   },
   "file_extension": ".py",
   "mimetype": "text/x-python",
   "name": "python",
   "nbconvert_exporter": "python",
   "pygments_lexer": "ipython3",
   "version": "3.10.9"
  }
 },
 "nbformat": 4,
 "nbformat_minor": 5
}

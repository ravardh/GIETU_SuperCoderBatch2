{
  "nbformat": 4,
  "nbformat_minor": 0,
  "metadata": {
    "colab": {
      "provenance": [],
      "authorship_tag": "ABX9TyOk1dgE8bx6MtHxFqKKxw5a",
      "include_colab_link": true
    },
    "kernelspec": {
      "name": "python3",
      "display_name": "Python 3"
    },
    "language_info": {
      "name": "python"
    }
  },
  "cells": [
    {
      "cell_type": "markdown",
      "metadata": {
        "id": "view-in-github",
        "colab_type": "text"
      },
      "source": [
        "<a href=\"https://colab.research.google.com/github/ravardh/GIETU_SuperCoderBatch2/blob/Kundan_21cse046/Depth_Leaf_TopView.ipynb\" target=\"_parent\"><img src=\"https://colab.research.google.com/assets/colab-badge.svg\" alt=\"Open In Colab\"/></a>"
      ]
    },
    {
      "cell_type": "code",
      "source": [
        "class Node:\n",
        "    def __init__(self, data=None):\n",
        "        self.data = data\n",
        "        self.left = None\n",
        "        self.right = None\n",
        "\n",
        "def find_height(root):\n",
        "    if root is None:\n",
        "        return 0\n",
        "    left_height = find_height(root.left)\n",
        "    right_height = find_height(root.right)\n",
        "    height = max(left_height, right_height) + 1\n",
        "    return height\n",
        "\n",
        "root = Node(1)\n",
        "root.left = Node(2)\n",
        "root.right = Node(4)\n",
        "root.left.left = Node(19)\n",
        "root.left.right = Node(14)\n",
        "root.right.left = Node(6)\n",
        "root.right.right = Node(12)\n",
        "root.left.right.left = Node(9)\n",
        "root.left.right.right = Node(5)\n",
        "root.left.right.left.right = Node(10)\n",
        "root.right.left.right = Node(16)\n",
        "root.right.right.left = Node(8)\n",
        "root.right.right.right = Node(11)\n",
        "root.right.right.left.left = Node(15)\n",
        "root.right.right.right.left = Node(17)\n",
        "root.right.right.right.right = Node(20)\n",
        "\n",
        "print(\"Depth of tree is:\", find_height(root))\n"
      ],
      "metadata": {
        "colab": {
          "base_uri": "https://localhost:8080/"
        },
        "id": "ZyuyH0T1I_eH",
        "outputId": "1228cc51-9bfc-46a9-d431-2f57b90d45d2"
      },
      "execution_count": 19,
      "outputs": [
        {
          "output_type": "stream",
          "name": "stdout",
          "text": [
            "Depth of tree is: 5\n"
          ]
        }
      ]
    },
    {
      "cell_type": "code",
      "source": [
        "class node:\n",
        "    def __init__(self,data = None):\n",
        "        self.data = data\n",
        "        self.left = None\n",
        "        self.right = None\n",
        "\n",
        "def leafNode(root):\n",
        "    if(root==None):\n",
        "        return 0\n",
        "    if (root.left == None) and (root.right == None):\n",
        "        print(root.data, end=\" \")\n",
        "    leafNode(root.left)\n",
        "    leafNode(root.right)\n",
        "\n",
        "root=node(20)\n",
        "root.left=node(32)\n",
        "root.right=node(10)\n",
        "root.left.left=node(15)\n",
        "root.left.right=node(12)\n",
        "root.right.left=node(8)\n",
        "root.right.right=node(24)\n",
        "root.left.left.left=node(4)\n",
        "root.left.right.left=node(50)\n",
        "root.left.right.right=node(6)\n",
        "root.right.right.left=node(16)\n",
        "root.right.right.right=node(2)\n",
        "root.left.right.left.left=node(40)\n",
        "root.left.right.left.right=node(35)\n",
        "\n",
        "print(\"Leaf Nodes are : \")\n",
        "leafNode(root)"
      ],
      "metadata": {
        "colab": {
          "base_uri": "https://localhost:8080/"
        },
        "id": "XQz-eqx0KTr_",
        "outputId": "2f6f36b1-ba93-4e15-caff-8b43cfdde8a1"
      },
      "execution_count": 21,
      "outputs": [
        {
          "output_type": "stream",
          "name": "stdout",
          "text": [
            "Leaf Nodes are : \n",
            "4 40 35 6 8 16 2 "
          ]
        }
      ]
    },
    {
      "cell_type": "code",
      "source": [
        "class node:\n",
        "    def __init__(self,data = None):\n",
        "        self.data = data\n",
        "        self.left = None\n",
        "        self.right = None\n",
        "\n",
        "def Topview(root):\n",
        "  if(root == None):\n",
        "    return\n",
        "  Q = [root]\n",
        "  key = 0\n",
        "  TView = dict()\n",
        "  root.key = key\n",
        "\n",
        "  while len(Q) != 0:\n",
        "    curr = Q.pop(0)\n",
        "    key = curr.key\n",
        "    if key not in TView:\n",
        "      TView[key] = curr.data\n",
        "    if curr.left != None:\n",
        "      Q.append(curr.left)\n",
        "      curr.left.key = key - 1\n",
        "    if curr.right != None:\n",
        "      Q.append(curr.right)\n",
        "      curr.right.key = key +1\n",
        "  for x in sorted(TView.keys()):\n",
        "    print(TView[x], end=\" \")\n",
        "\n",
        "\n",
        "root=node(20)\n",
        "root.left=node(32)\n",
        "root.right=node(10)\n",
        "root.left.left=node(15)\n",
        "root.left.right=node(12)\n",
        "root.right.left=node(8)\n",
        "root.right.right=node(24)\n",
        "root.left.left.left=node(4)\n",
        "root.left.right.left=node(50)\n",
        "root.left.right.right=node(6)\n",
        "root.right.right.left=node(16)\n",
        "root.right.right.right=node(2)\n",
        "root.left.right.left.left=node(40)\n",
        "root.left.right.left.right=node(35)\n",
        "\n",
        "print(\"top view nodes  are : \")\n",
        "Topview(root)"
      ],
      "metadata": {
        "colab": {
          "base_uri": "https://localhost:8080/"
        },
        "id": "sX5HZ19POybV",
        "outputId": "0d25aff6-84c2-4fc0-bda0-dea210fdacca"
      },
      "execution_count": 23,
      "outputs": [
        {
          "output_type": "stream",
          "name": "stdout",
          "text": [
            "top view nodes  are : \n",
            "4 15 32 20 10 24 2 "
          ]
        }
      ]
    }
  ]
}
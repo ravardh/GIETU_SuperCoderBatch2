{
 "cells": [
  {
   "cell_type": "code",
   "execution_count": 1,
   "id": "0e507faf",
   "metadata": {},
   "outputs": [
    {
     "name": "stdout",
     "output_type": "stream",
     "text": [
      "Found pattern at index 10\n"
     ]
    }
   ],
   "source": [
    "\n",
    "def KMPSearch(pat, txt):\n",
    "    M = len(pat)\n",
    "    N = len(txt)\n",
    "    \n",
    "    lps = [0]*M\n",
    "    j = 0 \n",
    "\n",
    "    computeLPSArray(pat, M, lps)\n",
    "\n",
    "    i = 0 \n",
    "    while i < N:\n",
    "        if pat[j] == txt[i]:\n",
    "            i += 1\n",
    "            j += 1\n",
    "        if j == M:\n",
    "            print (\"Found pattern at index\", str(i-j))\n",
    "            j = lps[j-1]\n",
    "        elif i < N and pat[j] != txt[i]:\n",
    "            if j != 0:\n",
    "                j = lps[j-1]\n",
    "            else:\n",
    "                i += 1\n",
    "\n",
    "def computeLPSArray(pat, M, lps):\n",
    "    len = 0\n",
    "\n",
    "    lps[0]\n",
    "    i = 1\n",
    "\n",
    "    while i < M:\n",
    "        if pat[i]== pat[len]:\n",
    "            len += 1\n",
    "            lps[i] = len\n",
    "            i += 1\n",
    "        else:\n",
    "            if len != 0:\n",
    "                len = lps[len-1]\n",
    "            else:\n",
    "                lps[i] = 0\n",
    "                i += 1\n",
    "\n",
    "txt = \"ABABDABACDABABCABAB\"\n",
    "pat = \"ABABCABAB\"\n",
    "KMPSearch(pat, txt)\n",
    "\n"
   ]
  },
  {
   "cell_type": "code",
   "execution_count": 2,
   "id": "0cdfb6db",
   "metadata": {},
   "outputs": [
    {
     "name": "stdout",
     "output_type": "stream",
     "text": [
      "Pattern found at indices: [10]\n"
     ]
    }
   ],
   "source": [
    "def kmp_search(text, pattern):\n",
    "    m = len(text)\n",
    "    n = len(pattern)\n",
    "\n",
    "    prefix = [0] * n\n",
    "    j = 0\n",
    "\n",
    "    for i in range(1, n):\n",
    "        while j > 0 and pattern[i] != pattern[j]:\n",
    "            j = prefix[j - 1]\n",
    "\n",
    "        if pattern[i] == pattern[j]:\n",
    "            j += 1\n",
    "\n",
    "        prefix[i] = j\n",
    "\n",
    "    j = 0\n",
    "    indices = []\n",
    "\n",
    "    for i in range(m):\n",
    "        while j > 0 and text[i] != pattern[j]:\n",
    "            j = prefix[j - 1]\n",
    "\n",
    "        if text[i] == pattern[j]:\n",
    "            j += 1\n",
    "\n",
    "        if j == n:\n",
    "            indices.append(i - j + 1)\n",
    "            j = prefix[j - 1]\n",
    "\n",
    "    return indices\n",
    "\n",
    "text = \"ABABDABACDABABCABAB\"\n",
    "pattern = \"ABABCABAB\"\n",
    "result = kmp_search(text, pattern)\n",
    "print(\"Pattern found at indices:\", result)\n"
   ]
  },
  {
   "cell_type": "code",
   "execution_count": null,
   "id": "b76dcc62",
   "metadata": {},
   "outputs": [],
   "source": []
  }
 ],
 "metadata": {
  "kernelspec": {
   "display_name": "Python 3 (ipykernel)",
   "language": "python",
   "name": "python3"
  },
  "language_info": {
   "codemirror_mode": {
    "name": "ipython",
    "version": 3
   },
   "file_extension": ".py",
   "mimetype": "text/x-python",
   "name": "python",
   "nbconvert_exporter": "python",
   "pygments_lexer": "ipython3",
   "version": "3.11.3"
  }
 },
 "nbformat": 4,
 "nbformat_minor": 5
}

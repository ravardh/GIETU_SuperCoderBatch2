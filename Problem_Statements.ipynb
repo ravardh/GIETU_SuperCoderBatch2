{
  "nbformat": 4,
  "nbformat_minor": 0,
  "metadata": {
    "colab": {
      "provenance": [],
      "authorship_tag": "ABX9TyOFfKNU1Iz78hRjS2TDtuPI",
      "include_colab_link": true
    },
    "kernelspec": {
      "name": "python3",
      "display_name": "Python 3"
    },
    "language_info": {
      "name": "python"
    }
  },
  "cells": [
    {
      "cell_type": "markdown",
      "metadata": {
        "id": "view-in-github",
        "colab_type": "text"
      },
      "source": [
        "<a href=\"https://colab.research.google.com/github/ravardh/GIETU_SuperCoderBatch2/blob/Kundan_21cse046/Problem_Statements.ipynb\" target=\"_parent\"><img src=\"https://colab.research.google.com/assets/colab-badge.svg\" alt=\"Open In Colab\"/></a>"
      ]
    },
    {
      "cell_type": "code",
      "execution_count": null,
      "metadata": {
        "colab": {
          "base_uri": "https://localhost:8080/"
        },
        "id": "HZfFQc6mYVCk",
        "outputId": "bc5b5756-7e82-4b48-d0e6-85a004b17b65"
      },
      "outputs": [
        {
          "output_type": "stream",
          "name": "stdout",
          "text": [
            "Max Profit: 22.5\n"
          ]
        }
      ],
      "source": [
        "def fractional_knapsack(W, N, PW, PP):\n",
        "    profit_per_weight = [(PP[i] / PW[i], PW[i], PP[i]) for i in range(N)]\n",
        "    profit_per_weight.sort(reverse=True)\n",
        "\n",
        "    max_profit = 0\n",
        "    remaining_weight = W\n",
        "\n",
        "    for ppw, weight, profit in profit_per_weight:\n",
        "        if remaining_weight >= weight:\n",
        "            max_profit += profit\n",
        "            remaining_weight -= weight\n",
        "        else:\n",
        "            max_profit += remaining_weight * ppw\n",
        "            break\n",
        "\n",
        "    return max_profit\n",
        "\n",
        "W = 15\n",
        "N = 4\n",
        "PW = [5, 10, 10, 5]\n",
        "PP = [10, 5, 5, 10]\n",
        "\n",
        "print(\"Max Profit:\", fractional_knapsack(W, N, PW, PP))\n",
        "\n"
      ]
    },
    {
      "cell_type": "code",
      "source": [
        "def max_treasure_locations(locations, compass_range):\n",
        "    max_locations = 0\n",
        "\n",
        "    for i in range(len(locations)):\n",
        "        window_start = i\n",
        "        window_end = min(i + compass_range, len(locations))\n",
        "        max_locations_in_window = window_end - window_start\n",
        "\n",
        "        for j in range(window_start, window_end):\n",
        "            if locations[j] - locations[window_start] <= compass_range:\n",
        "                max_locations_in_window += 1\n",
        "            else:\n",
        "                break\n",
        "\n",
        "        max_locations = max(max_locations, max_locations_in_window)\n",
        "\n",
        "    return max_locations\n",
        "\n",
        "locations = [2, 7, 1, 4, 8, 3, 5]\n",
        "compass_range = 3\n",
        "\n",
        "print(\"Maximum number of potential treasure locations:\", max_treasure_locations(locations, compass_range))\n"
      ],
      "metadata": {
        "colab": {
          "base_uri": "https://localhost:8080/"
        },
        "id": "ijdKXt_e2rzN",
        "outputId": "65dc9689-2396-4df6-868b-17816e23202b"
      },
      "execution_count": null,
      "outputs": [
        {
          "output_type": "stream",
          "name": "stdout",
          "text": [
            "Maximum number of potential treasure locations: 6\n"
          ]
        }
      ]
    },
    {
      "cell_type": "code",
      "source": [
        "def longest_subarray_with_zero_sum(arr):\n",
        "    cumulative_sum_map = {0: -1}\n",
        "    max_length = 0\n",
        "    current_sum = 0\n",
        "\n",
        "    for i, num in enumerate(arr):\n",
        "        current_sum += num\n",
        "\n",
        "        if current_sum in cumulative_sum_map:\n",
        "            max_length = max(max_length, i - cumulative_sum_map[current_sum])\n",
        "\n",
        "        else:\n",
        "            cumulative_sum_map[current_sum] = i\n",
        "\n",
        "    return max_length\n",
        "\n",
        "arr = [9, -3, 3, -1, 6, -5]\n",
        "\n",
        "result = longest_subarray_with_zero_sum(arr)\n",
        "\n",
        "print(\"Result:\", result)\n"
      ],
      "metadata": {
        "colab": {
          "base_uri": "https://localhost:8080/"
        },
        "id": "yGeR8KtJ2-Tk",
        "outputId": "3b162403-8a60-4459-ffdf-364ebf5e1917"
      },
      "execution_count": null,
      "outputs": [
        {
          "output_type": "stream",
          "name": "stdout",
          "text": [
            "Result: 5\n"
          ]
        }
      ]
    },
    {
      "cell_type": "code",
      "source": [
        "def find_winner(N, K):\n",
        "    children = list(range(1, N + 1))\n",
        "\n",
        "    index = 0\n",
        "\n",
        "    while len(children) > 1:\n",
        "        index = (index + K - 1) % len(children)\n",
        "\n",
        "        children.pop(index)\n",
        "\n",
        "    return children[0]\n",
        "\n",
        "N = 14\n",
        "K = 20\n",
        "print(\"Winner:\", find_winner(N, K))\n"
      ],
      "metadata": {
        "colab": {
          "base_uri": "https://localhost:8080/"
        },
        "id": "dYtaz9MS4zjy",
        "outputId": "abda46b4-8b91-4bc9-f27b-ae07afed4dc1"
      },
      "execution_count": null,
      "outputs": [
        {
          "output_type": "stream",
          "name": "stdout",
          "text": [
            "Winner: 5\n"
          ]
        }
      ]
    }
  ]
}
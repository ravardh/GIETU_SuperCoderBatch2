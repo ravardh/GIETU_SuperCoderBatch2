{
 "cells": [
  {
   "cell_type": "markdown",
   "id": "096560b9",
   "metadata": {},
   "source": [
    "MATRIX MULTIPLICATION"
   ]
  },
  {
   "cell_type": "code",
   "execution_count": 19,
   "id": "5f99a5a3",
   "metadata": {},
   "outputs": [
    {
     "name": "stdout",
     "output_type": "stream",
     "text": [
      "[30, 24, 18]\n",
      "[84, 69, 54]\n",
      "[138, 114, 90]\n"
     ]
    }
   ],
   "source": [
    "def matrix_multiply(matrix1, matrix2):\n",
    "    rows1 = len(matrix1)\n",
    "    cols1 = len(matrix1[0])\n",
    "    rows2 = len(matrix2)\n",
    "    cols2 = len(matrix2[0])\n",
    "\n",
    "    if cols1 != rows2:\n",
    "        print(\"Cannot multiply these matrices!! Number of columns in the first matrix must be equal to the number of rows in the second matrix.\")\n",
    "        return None\n",
    "\n",
    "    result = [[0 for x in range(cols2)] for x in range(rows1)]\n",
    "\n",
    "    for i in range(rows1):\n",
    "        for j in range(cols2):\n",
    "            for k in range(cols1):\n",
    "                result[i][j] += matrix1[i][k] * matrix2[k][j]\n",
    "\n",
    "    return result\n",
    "matrix1 = [\n",
    "    [1, 2, 3],\n",
    "    [4, 5, 6],\n",
    "    [7, 8, 9]\n",
    "]\n",
    "\n",
    "matrix2 = [\n",
    "    [9, 8, 7],\n",
    "    [6, 5, 4],\n",
    "    [3, 2, 1]\n",
    "]\n",
    "\n",
    "result = matrix_multiply(matrix1, matrix2)\n",
    "if result:\n",
    "    for row in result:\n",
    "        print(row)\n"
   ]
  },
  {
   "cell_type": "markdown",
   "id": "97d6bd08",
   "metadata": {},
   "source": [
    "N-QUEEN PROBLEM"
   ]
  },
  {
   "cell_type": "code",
   "execution_count": 20,
   "id": "dee294b8",
   "metadata": {},
   "outputs": [
    {
     "name": "stdout",
     "output_type": "stream",
     "text": [
      "0 1 0 0\n",
      "0 0 0 1\n",
      "1 0 0 0\n",
      "0 0 1 0\n"
     ]
    },
    {
     "data": {
      "text/plain": [
       "True"
      ]
     },
     "execution_count": 20,
     "metadata": {},
     "output_type": "execute_result"
    }
   ],
   "source": [
    "def is_safe(board,row,col,M):\n",
    "    for i in range(row):\n",
    "        if board[i][col]==1:\n",
    "            return False\n",
    "        \n",
    "    for i,j in zip(range(row,-1,-1),range(col,-1-1)):\n",
    "        if board[i][j]==1:\n",
    "            return False\n",
    "        \n",
    "    for i,j in zip(range(row,-1,-1),range(col,-1,-1)):\n",
    "        if board[i][j]==1:\n",
    "            return False\n",
    "        \n",
    "    return True\n",
    "def solve_n_queens_util(board, row, N):\n",
    "    if row == N:\n",
    "        return True\n",
    "\n",
    "    for col in range(N):\n",
    "        if is_safe(board, row, col, N):\n",
    "            board[row][col] = 1\n",
    "            if solve_n_queens_util(board, row + 1, N):\n",
    "                return True\n",
    "            board[row][col] = 0\n",
    "\n",
    "    return False\n",
    "\n",
    "def solve_n_queens(N):\n",
    "    board = [[0] * N for _ in range(N)]\n",
    "\n",
    "    if not solve_n_queens_util(board, 0, N):\n",
    "        print(\"Solution does not exist\")\n",
    "        return False\n",
    "\n",
    "    print_solution(board)\n",
    "    return True\n",
    "\n",
    "def print_solution(board):\n",
    "    for row in board:\n",
    "        print(\" \".join(map(str, row)))\n",
    "\n",
    "n = 4  \n",
    "solve_n_queens(n)"
   ]
  },
  {
   "cell_type": "code",
   "execution_count": null,
   "id": "91835dbe",
   "metadata": {},
   "outputs": [],
   "source": []
  }
 ],
 "metadata": {
  "kernelspec": {
   "display_name": "Python 3 (ipykernel)",
   "language": "python",
   "name": "python3"
  },
  "language_info": {
   "codemirror_mode": {
    "name": "ipython",
    "version": 3
   },
   "file_extension": ".py",
   "mimetype": "text/x-python",
   "name": "python",
   "nbconvert_exporter": "python",
   "pygments_lexer": "ipython3",
   "version": "3.10.5"
  }
 },
 "nbformat": 4,
 "nbformat_minor": 5
}

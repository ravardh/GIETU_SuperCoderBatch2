{
  "nbformat": 4,
  "nbformat_minor": 0,
  "metadata": {
    "colab": {
      "provenance": []
    },
    "kernelspec": {
      "name": "python3",
      "display_name": "Python 3"
    },
    "language_info": {
      "name": "python"
    }
  },
  "cells": [
    {
      "cell_type": "code",
      "source": [
        "def isSafe(board,row,col):\n",
        "  # print(\"inside check\")\n",
        "  # col\n",
        "  for i in range(len(board)):\n",
        "    if(board[row][i]==1):\n",
        "      return False\n",
        "  # row\n",
        "  for i in range(len(board)):\n",
        "    if(board[i][col]==1):\n",
        "      return False\n",
        "\n",
        "  # lower left\n",
        "  j = col\n",
        "  for i in range(row, len(board)):\n",
        "    if j >= 0:\n",
        "      if board[i][j] == 1:\n",
        "          return False\n",
        "    j=j-1\n",
        "\n",
        "  #uper left\n",
        "  j = col\n",
        "  for i in range(row, -1, -1):\n",
        "    if j >= 0:\n",
        "      if board[i][j] == 1:\n",
        "          return False\n",
        "    j=j-1\n",
        "\n",
        "  #uper right\n",
        "  j = col\n",
        "  for i in range(row, -1, -1):\n",
        "    if j <len(board):\n",
        "      if board[i][j] == 1:\n",
        "          return False\n",
        "    j=j+1\n",
        "  #lower right\n",
        "  j = col\n",
        "  for i in range(row,len(board)):\n",
        "    if j <len(board):\n",
        "      if board[i][j] == 1:\n",
        "          return False\n",
        "    j=j+1\n",
        "  return True\n",
        "def addsol(AnsBoard,board):\n",
        "    newBoard = []\n",
        "    for i in range(len(board)):\n",
        "        row = \"\"\n",
        "        for j in range(len(board[i])):\n",
        "            if board[i][j] == 1:\n",
        "                row = row + '1'\n",
        "            else:\n",
        "                row = row + '0'\n",
        "        newBoard.append(row)\n",
        "    AnsBoard.append(newBoard)\n",
        "def createBoard(AnsBoard,board,n,row):\n",
        "  if(row==n):\n",
        "    # for i in range(n):\n",
        "    #   print(board[i])\n",
        "    addsol(AnsBoard,board)\n",
        "    return\n",
        "  for i in range(n):\n",
        "    # print(isSafe(board,row,i))\n",
        "    if(isSafe(board,row,i)):\n",
        "      board[row][i]=1\n",
        "      # print(\"queen added\")\n",
        "      # print(board)\n",
        "      createBoard(AnsBoard,board,n,row+1)\n",
        "      board[row][i]=0\n",
        "\n",
        "\n",
        "def NQueen(n):\n",
        "    AnsBoard=[]\n",
        "    board = [[0 for _ in range(n)] for _ in range(n)]\n",
        "    # print(board)\n",
        "    createBoard(AnsBoard,board, n, 0)\n",
        "    return AnsBoard\n",
        "\n",
        "n=int(input(\"Enter No of Queens\"))\n",
        "print(NQueen(n))\n",
        "# NQueen(n)"
      ],
      "metadata": {
        "colab": {
          "base_uri": "https://localhost:8080/"
        },
        "id": "bAHw9Vx88C4h",
        "outputId": "19341a11-1d1e-4fec-9532-13665620e907"
      },
      "execution_count": 22,
      "outputs": [
        {
          "output_type": "stream",
          "name": "stdout",
          "text": [
            "Enter No of Queens5\n",
            "[['10000', '00100', '00001', '01000', '00010'], ['10000', '00010', '01000', '00001', '00100'], ['01000', '00010', '10000', '00100', '00001'], ['01000', '00001', '00100', '10000', '00010'], ['00100', '10000', '00010', '01000', '00001'], ['00100', '00001', '01000', '00010', '10000'], ['00010', '10000', '00100', '00001', '01000'], ['00010', '01000', '00001', '00100', '10000'], ['00001', '01000', '00010', '10000', '00100'], ['00001', '00100', '10000', '00010', '01000']]\n"
          ]
        }
      ]
    },
    {
      "cell_type": "code",
      "source": [
        "r1=3\n",
        "c1=3\n",
        "r2=3\n",
        "c2=3\n",
        "sum=0\n",
        "a=[[1,2,3],[3,4,5],[7,8,9]]\n",
        "b=[[2,3,4],[5,6,7],[8,9,0]]\n",
        "c=[[0 for _ in range(r1)] for _ in range(c2)]\n",
        "for i in range(r1):\n",
        "  for j in range(c2):\n",
        "    sum=0\n",
        "    for k in range(c1):\n",
        "      sum=sum+a[i][k]*a[k][j]\n",
        "    c[i][j]=sum\n",
        "print(c)"
      ],
      "metadata": {
        "colab": {
          "base_uri": "https://localhost:8080/"
        },
        "id": "UlQsVSK8DntI",
        "outputId": "2e2dd977-1618-42c4-c2c8-0aaebe68b47b"
      },
      "execution_count": 25,
      "outputs": [
        {
          "output_type": "stream",
          "name": "stdout",
          "text": [
            "[[28, 34, 40], [50, 62, 74], [94, 118, 142]]\n"
          ]
        }
      ]
    },
    {
      "cell_type": "code",
      "source": [],
      "metadata": {
        "id": "wy8mm9ZaNkJu"
      },
      "execution_count": null,
      "outputs": []
    }
  ]
}
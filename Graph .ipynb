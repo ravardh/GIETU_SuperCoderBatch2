{
 "cells": [
  {
   "cell_type": "markdown",
   "id": "3b4f5912",
   "metadata": {},
   "source": [
    "# Graph using bfs"
   ]
  },
  {
   "cell_type": "code",
   "execution_count": 43,
   "id": "74299b58",
   "metadata": {},
   "outputs": [
    {
     "name": "stdout",
     "output_type": "stream",
     "text": [
      "Enter starting Node : 6\n",
      "6 4 2 5 1 3 9 8 7 "
     ]
    }
   ],
   "source": [
    "class Graph:\n",
    "    def __init__(self):\n",
    "        self.graph = {}\n",
    "    def addEdge(self,u,v):\n",
    "        if u not in self.graph:\n",
    "            self.graph[u] = []\n",
    "        self.graph[u].append(v)\n",
    "        \n",
    "        if v not in self.graph:\n",
    "            self.graph[v] = []\n",
    "        self.graph[v].append(u)\n",
    "        \n",
    "    def bfs(self,sNode):\n",
    "        visited = set()\n",
    "        queue = deque([sNode])\n",
    "        visited.add(sNode)\n",
    "        \n",
    "        while(len(queue) != 0):\n",
    "            currentNode = queue.popleft()\n",
    "            print(currentNode,end=\" \")\n",
    "            \n",
    "            for neighbour in self.graph[currentNode]:\n",
    "                if neighbour not in visited:\n",
    "                    queue.append(neighbour)\n",
    "                    visited.add(neighbour)\n",
    "g = Graph()\n",
    "g.addEdge(1,2)\n",
    "g.addEdge(1,3)\n",
    "g.addEdge(1,9)\n",
    "g.addEdge(2,4)\n",
    "g.addEdge(4,6)\n",
    "g.addEdge(4,5)\n",
    "g.addEdge(7,8)\n",
    "g.addEdge(8,3)\n",
    "g.addEdge(8,9)\n",
    "    \n",
    "start_node = int(input(\"Enter starting Node : \"))\n",
    "g.bfs(start_node)\n",
    "        \n",
    "            \n"
   ]
  },
  {
   "cell_type": "markdown",
   "id": "9d6ced8e",
   "metadata": {},
   "source": [
    "# Graph DFS"
   ]
  },
  {
   "cell_type": "code",
   "execution_count": 60,
   "id": "f201eb58",
   "metadata": {},
   "outputs": [
    {
     "name": "stdout",
     "output_type": "stream",
     "text": [
      "Enter starting Node : 4\n"
     ]
    },
    {
     "ename": "TypeError",
     "evalue": "Graph.dfss() missing 1 required positional argument: 'visited'",
     "output_type": "error",
     "traceback": [
      "\u001b[1;31m---------------------------------------------------------------------------\u001b[0m",
      "\u001b[1;31mTypeError\u001b[0m                                 Traceback (most recent call last)",
      "Cell \u001b[1;32mIn[60], line 48\u001b[0m\n\u001b[0;32m     45\u001b[0m g\u001b[38;5;241m.\u001b[39maddEdge(\u001b[38;5;241m8\u001b[39m,\u001b[38;5;241m9\u001b[39m)\n\u001b[0;32m     47\u001b[0m sNode \u001b[38;5;241m=\u001b[39m \u001b[38;5;28mint\u001b[39m(\u001b[38;5;28minput\u001b[39m(\u001b[38;5;124m\"\u001b[39m\u001b[38;5;124mEnter starting Node : \u001b[39m\u001b[38;5;124m\"\u001b[39m))\n\u001b[1;32m---> 48\u001b[0m g\u001b[38;5;241m.\u001b[39mdfss(sNode)\n",
      "\u001b[1;31mTypeError\u001b[0m: Graph.dfss() missing 1 required positional argument: 'visited'"
     ]
    }
   ],
   "source": [
    "class Graph:\n",
    "    def __init__(self):\n",
    "        self.graph = {}\n",
    "    \n",
    "    def addEdge(self,u,v):\n",
    "        if u not in self.graph:\n",
    "            self.graph[u] = []\n",
    "        self.graph[u].append(v)\n",
    "        \n",
    "        if v not in self.graph:\n",
    "            self.graph[v] = []\n",
    "        self.graph[v].append(u)\n",
    "    \n",
    "#     def dfs(self,sNode,visited = None):\n",
    "#         if visited is None:\n",
    "#             visited = set()\n",
    "#         if sNode in visited:\n",
    "#             return \n",
    "#         print(sNode)   \n",
    "#         visited.add(sNode)\n",
    "#         for i in self.graph([sNode]):\n",
    "#             if i not in visited:\n",
    "#                 self.dfs(i,visited)\n",
    "                \n",
    "    def dfss(self, sNode, visited):\n",
    "        if sNode in visited:\n",
    "            return\n",
    "        visited.add(sNode)\n",
    "        for i in self.graph[sNode]:\n",
    "            if i not in visited:\n",
    "                self.dfss(i, visited)\n",
    "        print(sNode)\n",
    "  \n",
    "            \n",
    "                \n",
    "g = Graph()\n",
    "g.addEdge(1,2)\n",
    "g.addEdge(1,3)\n",
    "g.addEdge(1,9)\n",
    "g.addEdge(2,4)\n",
    "g.addEdge(4,6)\n",
    "g.addEdge(4,5)\n",
    "g.addEdge(7,8)\n",
    "g.addEdge(8,3)\n",
    "g.addEdge(8,9)\n",
    "    \n",
    "sNode = int(input(\"Enter starting Node : \"))\n",
    "g.dfss(sNode)\n",
    "        \n",
    "        \n",
    "            \n",
    "            \n",
    "        "
   ]
  },
  {
   "cell_type": "code",
   "execution_count": null,
   "id": "c99dda26",
   "metadata": {},
   "outputs": [],
   "source": []
  }
 ],
 "metadata": {
  "kernelspec": {
   "display_name": "Python 3 (ipykernel)",
   "language": "python",
   "name": "python3"
  },
  "language_info": {
   "codemirror_mode": {
    "name": "ipython",
    "version": 3
   },
   "file_extension": ".py",
   "mimetype": "text/x-python",
   "name": "python",
   "nbconvert_exporter": "python",
   "pygments_lexer": "ipython3",
   "version": "3.11.3"
  }
 },
 "nbformat": 4,
 "nbformat_minor": 5
}

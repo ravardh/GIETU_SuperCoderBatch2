{
 "cells": [
  {
   "cell_type": "code",
   "execution_count": 8,
   "id": "ff90e447",
   "metadata": {},
   "outputs": [
    {
     "name": "stdout",
     "output_type": "stream",
     "text": [
      "Enter the 1st Number= 9\n",
      "Enter the 2nd number= 6\n",
      "Enter the action to be taken: +\n",
      "15\n"
     ]
    }
   ],
   "source": [
    "#CALCULATOR\n",
    "a=int(input(\"Enter the 1st Number= \"))\n",
    "b=int(input(\"Enter the 2nd number= \"))\n",
    "cal=input(\"Enter the action to be taken: \")\n",
    "match cal:\n",
    "    case '+':\n",
    "        print(a+b)\n",
    "    case '-':\n",
    "        print(a-b)\n",
    "    case '*':\n",
    "        print(a*b)\n",
    "    case '/':\n",
    "        print(a/b)\n",
    "    case '//':\n",
    "        print(a//b)\n",
    "    case '%':\n",
    "        print(a%b)\n",
    "    case _:\n",
    "        print(\"Enter a Valid Action\")"
   ]
  },
  {
   "cell_type": "code",
   "execution_count": 16,
   "id": "2b493632",
   "metadata": {},
   "outputs": [
    {
     "name": "stdout",
     "output_type": "stream",
     "text": [
      "enter the numbers[2,5,3,7,4]\n",
      "Sorted Array using insertion sort:\n",
      "[2, 3, 4, 5, 7]\n"
     ]
    }
   ],
   "source": [
    "#INSERTION SORT\n",
    "def insertionSort(arr):\n",
    "    for i in range(1, len(arr)):\n",
    "        end = arr[i]\n",
    "        j = i - 1\n",
    "        \n",
    "        while j >= 0 and end < arr[j]:\n",
    "            arr[j + 1] = arr[j]\n",
    "            j = j - 1\n",
    "        arr[j + 1] = end\n",
    "data=eval(input(\"enter the numbers\"))\n",
    "insertionSort(data)\n",
    "print('Sorted Array using insertion sort:')\n",
    "print(data)"
   ]
  },
  {
   "cell_type": "code",
   "execution_count": 19,
   "id": "64a57dcd",
   "metadata": {},
   "outputs": [
    {
     "name": "stdout",
     "output_type": "stream",
     "text": [
      "enter the numbers[2,5,3,7,4]\n",
      "Sorted Array using selection sort:\n",
      "[2, 3, 4, 5, 7]\n"
     ]
    }
   ],
   "source": [
    "#SELECTION SORT\n",
    "def selectionSort(arr, k):\n",
    "   for i in range(k):\n",
    "        low = i\n",
    "        for j in range(i + 1, k):\n",
    "            if arr[j] < arr[low]:\n",
    "                low = j\n",
    "        (arr[i], arr[low]) = (arr[low], arr[i])\n",
    "         \n",
    "data =eval(input(\"enter the numbers\"))\n",
    "k = len(data)\n",
    "selectionSort(data, k)\n",
    "print('Sorted Array using selection sort:')\n",
    "print(data)"
   ]
  },
  {
   "cell_type": "code",
   "execution_count": 2,
   "id": "a0468979",
   "metadata": {},
   "outputs": [
    {
     "name": "stdout",
     "output_type": "stream",
     "text": [
      "enter the numbers[2,5,3,7,4]\n",
      "Sorted Array using bubble sort:\n",
      "[2, 3, 4, 5, 7]\n"
     ]
    }
   ],
   "source": [
    "#BUBBLE SORT\n",
    "def bubbleSort(arr):\n",
    "  for i in range(len(arr)):\n",
    "    swap = False\n",
    "    for j in range(0, len(arr) - i - 1):\n",
    "       if arr[j] > arr[j + 1]:\n",
    "          temp = arr[j]\n",
    "          arr[j] = arr[j+1]\n",
    "          arr[j+1] = temp\n",
    "       swap = True\n",
    "          \n",
    "    if not swap:\n",
    "      break\n",
    "data = eval(input(\"enter the numbers\"))\n",
    "bubbleSort(data)\n",
    "print('Sorted Array using bubble sort:')\n",
    "print(data)"
   ]
  },
  {
   "cell_type": "code",
   "execution_count": null,
   "id": "576b497a",
   "metadata": {},
   "outputs": [],
   "source": []
  }
 ],
 "metadata": {
  "kernelspec": {
   "display_name": "Python 3 (ipykernel)",
   "language": "python",
   "name": "python3"
  },
  "language_info": {
   "codemirror_mode": {
    "name": "ipython",
    "version": 3
   },
   "file_extension": ".py",
   "mimetype": "text/x-python",
   "name": "python",
   "nbconvert_exporter": "python",
   "pygments_lexer": "ipython3",
   "version": "3.10.6"
  }
 },
 "nbformat": 4,
 "nbformat_minor": 5
}

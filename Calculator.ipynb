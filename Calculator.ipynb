{
 "cells": [
  {
   "cell_type": "code",
   "execution_count": 1,
   "id": "1b979237",
   "metadata": {},
   "outputs": [
    {
     "name": "stdout",
     "output_type": "stream",
     "text": [
      "Select any operation:\n",
      "1. Addition\n",
      "2. Subtraction\n",
      "3. Multiplication\n",
      "4. Division\n",
      "Enter your choice: 2\n",
      "Enter the 1st number: 33\n",
      "Enter the 2nd number: 2\n",
      "Difference:  31\n",
      "Do you want to continue?: Y/N: N\n"
     ]
    }
   ],
   "source": [
    "#Calculator\n",
    "option = \"y\"\n",
    "while(option==\"y\" or option==\"Y\"):\n",
    "    print(\"Select any operation:\")\n",
    "    print(\"1. Addition\")\n",
    "    print(\"2. Subtraction\")\n",
    "    print(\"3. Multiplication\")\n",
    "    print(\"4. Division\")\n",
    "    ch = int(input(\"Enter your choice: \"))\n",
    "    n1 = int(input(\"Enter the 1st number: \"))\n",
    "    n2 = int(input(\"Enter the 2nd number: \"))\n",
    "    \n",
    "    if ch==1:\n",
    "        print(\"Sum: \",n1+n2)\n",
    "    elif ch==2:\n",
    "        print(\"Difference: \",n1-n2)\n",
    "    elif ch==3:\n",
    "        print(\"Product: \",n1*n2)\n",
    "    elif ch==4:\n",
    "        print(\"Quotient: \",n1/n2)\n",
    "    else:\n",
    "        print(\"Invalid Input\")\n",
    "    option = input(\"Do you want to continue?: Y/N: \")"
   ]
  },
  {
   "cell_type": "code",
   "execution_count": null,
   "id": "12ef2a00",
   "metadata": {},
   "outputs": [],
   "source": []
  }
 ],
 "metadata": {
  "kernelspec": {
   "display_name": "Python 3 (ipykernel)",
   "language": "python",
   "name": "python3"
  },
  "language_info": {
   "codemirror_mode": {
    "name": "ipython",
    "version": 3
   },
   "file_extension": ".py",
   "mimetype": "text/x-python",
   "name": "python",
   "nbconvert_exporter": "python",
   "pygments_lexer": "ipython3",
   "version": "3.9.13"
  }
 },
 "nbformat": 4,
 "nbformat_minor": 5
}

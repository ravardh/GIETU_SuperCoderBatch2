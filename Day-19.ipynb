{
 "cells": [
  {
   "cell_type": "markdown",
   "id": "25499da7-bf3a-46f4-a75f-7a241caca2e4",
   "metadata": {},
   "source": [
    "N-Queen Problem"
   ]
  },
  {
   "cell_type": "code",
   "execution_count": 25,
   "id": "67c8d50d-fb4b-4edb-9232-78cfd154b03e",
   "metadata": {},
   "outputs": [
    {
     "name": "stdout",
     "output_type": "stream",
     "text": [
      " -  -  Q  - \n",
      " Q  -  -  - \n",
      " -  -  -  Q \n",
      " -  Q  -  - \n"
     ]
    }
   ],
   "source": [
    "def print_solution(board):\n",
    "    for i in range(4):\n",
    "        for j in range(4):\n",
    "            if board[i][j]==1:\n",
    "                print(\" Q \",end=\"\")\n",
    "            else:\n",
    "                print(\" - \",end=\"\")\n",
    "        print()\n",
    "\n",
    "def is_safe(board,row,col):\n",
    "    for i in range(col):\n",
    "        if board[row][i]==1:\n",
    "            return False\n",
    "    for i,j in zip(range(row,-1,-1),range(col,-1,-1)):\n",
    "        if board[i][j]==1:\n",
    "            return False\n",
    "    for i,j in zip(range(row, 4),range(col,-1,-1)):\n",
    "        if board[i][j]==1:\n",
    "            return False \n",
    "    return True\n",
    "\n",
    "def solve_n_queens(board,col):\n",
    "    if col>=4:\n",
    "        return True\n",
    "    for i in range(4):\n",
    "        if is_safe(board,i,col):\n",
    "            board[i][col] = 1\n",
    "            if solve_n_queens(board,col+1):\n",
    "                return True\n",
    "            board[i][col]=0\n",
    "    return False\n",
    "\n",
    "def solve_4_queens():\n",
    "    board = [[0 for _ in range(4)]for _ in range(4)]\n",
    "    if not solve_n_queens(board,0):\n",
    "        print(\"Solution does not exist\")\n",
    "        return\n",
    "    print_solution(board)\n",
    "solve_4_queens()"
   ]
  },
  {
   "cell_type": "code",
   "execution_count": 24,
   "id": "590ca893-ec8f-4d17-a83b-21392bb489fb",
   "metadata": {},
   "outputs": [
    {
     "name": "stdout",
     "output_type": "stream",
     "text": [
      "+---+---+---+---+\n",
      "| - | - | Q | - |\n",
      "+---+---+---+---+\n",
      "| Q | - | - | - |\n",
      "+---+---+---+---+\n",
      "| - | - | - | Q |\n",
      "+---+---+---+---+\n",
      "| - | Q | - | - |\n",
      "+---+---+---+---+\n"
     ]
    }
   ],
   "source": [
    "def print_solution(board):\n",
    "    for i in range(4):\n",
    "        print(\"+---+---+---+---+\")\n",
    "        for j in range(4):\n",
    "            if board[i][j] == 1:\n",
    "                print(\"| Q \", end=\"\")\n",
    "            else:\n",
    "                print(\"| - \", end=\"\")\n",
    "        print(\"|\")\n",
    "    print(\"+---+---+---+---+\")\n",
    "\n",
    "def is_safe(board, row, col):\n",
    "    for i in range(col):\n",
    "        if board[row][i] == 1:\n",
    "            return False\n",
    "    for i, j in zip(range(row, -1, -1), range(col, -1, -1)):\n",
    "        if board[i][j] == 1:\n",
    "            return False\n",
    "    for i, j in zip(range(row, 4), range(col, -1, -1)):\n",
    "        if board[i][j] == 1:\n",
    "            return False\n",
    "    return True\n",
    "\n",
    "def solve_n_queens(board, col):\n",
    "    if col >= 4:\n",
    "        return True\n",
    "    for i in range(4):\n",
    "        if is_safe(board, i, col):\n",
    "            board[i][col] = 1\n",
    "            if solve_n_queens(board, col + 1):\n",
    "                return True\n",
    "            board[i][col] = 0\n",
    "    return False\n",
    "\n",
    "def solve_4_queens():\n",
    "    board = [[0 for _ in range(4)] for _ in range(4)]\n",
    "    if not solve_n_queens(board, 0):\n",
    "        print(\"Solution does not exist\")\n",
    "        return\n",
    "    print_solution(board)\n",
    "solve_4_queens()"
   ]
  },
  {
   "cell_type": "markdown",
   "id": "223408c7-d366-4611-8d2f-9babb0f0b411",
   "metadata": {},
   "source": [
    "Matrix Multiplication"
   ]
  },
  {
   "cell_type": "code",
   "execution_count": 19,
   "id": "67647af2-a37e-4cf3-b95a-665ec570aa21",
   "metadata": {},
   "outputs": [
    {
     "name": "stdout",
     "output_type": "stream",
     "text": [
      "Result of matrix multiplication:\n",
      "[30, 24, 18]\n",
      "[84, 69, 54]\n",
      "[138, 114, 90]\n"
     ]
    }
   ],
   "source": [
    "def matrix_multiplication(matrix1,matrix2):\n",
    "    result=[]\n",
    "    if len(matrix1[0])!=len(matrix2):\n",
    "        print(\"Matrices cannot be multiplied\")\n",
    "        return None\n",
    "    for i in range(len(matrix1)):\n",
    "        result.append([0]*len(matrix2[0]))\n",
    "    for i in range(len(matrix1)):\n",
    "        for j in range(len(matrix2[0])):\n",
    "            for k in range(len(matrix2)):\n",
    "                result[i][j]+=matrix1[i][k]*matrix2[k][j]\n",
    "    return result\n",
    "\n",
    "matrix_a=[\n",
    "    [1, 2, 3],\n",
    "    [4, 5, 6],\n",
    "    [7, 8, 9]\n",
    "]\n",
    "matrix_b=[\n",
    "    [9, 8, 7],\n",
    "    [6, 5, 4],\n",
    "    [3, 2, 1]\n",
    "]\n",
    "result_matrix=matrix_multiplication(matrix_a,matrix_b)\n",
    "if result_matrix:\n",
    "    print(\"Result of matrix multiplication:\")\n",
    "    for row in result_matrix:\n",
    "        print(row)"
   ]
  },
  {
   "cell_type": "code",
   "execution_count": null,
   "id": "bded7813-7525-40cc-af89-a304cc2520da",
   "metadata": {},
   "outputs": [],
   "source": []
  }
 ],
 "metadata": {
  "kernelspec": {
   "display_name": "Python 3 (ipykernel)",
   "language": "python",
   "name": "python3"
  },
  "language_info": {
   "codemirror_mode": {
    "name": "ipython",
    "version": 3
   },
   "file_extension": ".py",
   "mimetype": "text/x-python",
   "name": "python",
   "nbconvert_exporter": "python",
   "pygments_lexer": "ipython3",
   "version": "3.10.9"
  }
 },
 "nbformat": 4,
 "nbformat_minor": 5
}

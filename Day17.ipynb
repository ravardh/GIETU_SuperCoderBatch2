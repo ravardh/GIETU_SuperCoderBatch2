{
 "cells": [
  {
   "cell_type": "markdown",
   "id": "b70d5e08",
   "metadata": {},
   "source": [
    "## N-Queen Problem"
   ]
  },
  {
   "cell_type": "code",
   "execution_count": 1,
   "id": "0491c3f8",
   "metadata": {},
   "outputs": [
    {
     "name": "stdout",
     "output_type": "stream",
     "text": [
      ". . Q . \n",
      "Q . . . \n",
      ". . . Q \n",
      ". Q . . \n"
     ]
    }
   ],
   "source": [
    "global N\n",
    "N = 4\n",
    " \n",
    "def printSolution(board):\n",
    "    for i in range(N):\n",
    "        for j in range(N):\n",
    "            if board[i][j] == 1:\n",
    "                print(\"Q\",end=\" \")\n",
    "            else:\n",
    "                print(\".\",end=\" \")\n",
    "        print()\n",
    " \n",
    "def isSafe(board, row, col):\n",
    " \n",
    "    for i in range(col):\n",
    "        if board[row][i] == 1:\n",
    "            return False\n",
    " \n",
    "    for i, j in zip(range(row, -1, -1),\n",
    "                    range(col, -1, -1)):\n",
    "        if board[i][j] == 1:\n",
    "            return False\n",
    " \n",
    "    for i, j in zip(range(row, N, 1),\n",
    "                    range(col, -1, -1)):\n",
    "        if board[i][j] == 1:\n",
    "            return False\n",
    " \n",
    "    return True\n",
    " \n",
    " \n",
    "def solveNQUtil(board, col):\n",
    " \n",
    "    if col >= N:\n",
    "        return True\n",
    " \n",
    "    for i in range(N):\n",
    " \n",
    "        if isSafe(board, i, col):\n",
    " \n",
    "            board[i][col] = 1\n",
    " \n",
    "            if solveNQUtil(board, col + 1) == True:\n",
    "                return True\n",
    " \n",
    "            board[i][col] = 0\n",
    " \n",
    "    return False\n",
    " \n",
    "def solveNQ():\n",
    "    board = [[0, 0, 0, 0],\n",
    "             [0, 0, 0, 0],\n",
    "             [0, 0, 0, 0],\n",
    "             [0, 0, 0, 0]]\n",
    " \n",
    "    if solveNQUtil(board, 0) == False:\n",
    "        print(\"Solution does not exist\")\n",
    "        return False\n",
    " \n",
    "    printSolution(board)\n",
    "    return True\n",
    " \n",
    " \n",
    "if __name__ == '__main__':\n",
    "    solveNQ()"
   ]
  },
  {
   "cell_type": "markdown",
   "id": "9f87132a",
   "metadata": {},
   "source": [
    "## Matrix Multiplication"
   ]
  },
  {
   "cell_type": "code",
   "execution_count": 2,
   "id": "1555a739",
   "metadata": {},
   "outputs": [
    {
     "name": "stdout",
     "output_type": "stream",
     "text": [
      "Multiplication of given two matrices is:\n",
      "3 3 \n",
      "6 6 \n"
     ]
    }
   ],
   "source": [
    "def mulMat(mat1, mat2, R1, R2, C1, C2):\n",
    "    # List to store matrix multiplication result\n",
    "    rslt = [[0, 0, 0, 0],\n",
    "            [0, 0, 0, 0],\n",
    "            [0, 0, 0, 0],\n",
    "            [0, 0, 0, 0]]\n",
    " \n",
    "    for i in range(0, R1):\n",
    "        for j in range(0, C2):\n",
    "            for k in range(0, R2):\n",
    "                rslt[i][j] += mat1[i][k] * mat2[k][j]\n",
    " \n",
    "    print(\"Multiplication of given two matrices is:\")\n",
    "    for i in range(0, R1):\n",
    "        for j in range(0, C2):\n",
    "            print(rslt[i][j], end=\" \")\n",
    "        print(\"\\n\", end=\"\")\n",
    " \n",
    " \n",
    "# Driver code\n",
    "if __name__ == '__main__':\n",
    "    R1 = 2\n",
    "    R2 = 2\n",
    "    C1 = 2\n",
    "    C2 = 2\n",
    "     \n",
    "    mat1 = [[1, 1],\n",
    "           [2, 2]]\n",
    "     \n",
    "   \n",
    "    mat2 = [[1, 1],\n",
    "           [2, 2]]\n",
    " \n",
    "    if C1 != R2:\n",
    "        print(\"The number of columns in Matrix-1  must be equal to the number of rows in \" + \"Matrix-2\", end='')\n",
    "        print(\"\\n\", end='')\n",
    "        print(\"Please update MACROs according to your array dimension in #define section\", end='')\n",
    "        print(\"\\n\", end='')\n",
    "    else:\n",
    "        mulMat(mat1, mat2, R1, R2, C1, C2)"
   ]
  },
  {
   "cell_type": "code",
   "execution_count": null,
   "id": "5b9e39b3",
   "metadata": {},
   "outputs": [],
   "source": []
  }
 ],
 "metadata": {
  "kernelspec": {
   "display_name": "Python 3 (ipykernel)",
   "language": "python",
   "name": "python3"
  },
  "language_info": {
   "codemirror_mode": {
    "name": "ipython",
    "version": 3
   },
   "file_extension": ".py",
   "mimetype": "text/x-python",
   "name": "python",
   "nbconvert_exporter": "python",
   "pygments_lexer": "ipython3",
   "version": "3.9.13"
  }
 },
 "nbformat": 4,
 "nbformat_minor": 5
}

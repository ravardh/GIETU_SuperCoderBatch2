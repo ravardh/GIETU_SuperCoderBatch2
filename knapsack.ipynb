{
  "nbformat": 4,
  "nbformat_minor": 0,
  "metadata": {
    "colab": {
      "provenance": [],
      "authorship_tag": "ABX9TyNSNuj5MevnJMD/mJ8OLyTP",
      "include_colab_link": true
    },
    "kernelspec": {
      "name": "python3",
      "display_name": "Python 3"
    },
    "language_info": {
      "name": "python"
    }
  },
  "cells": [
    {
      "cell_type": "markdown",
      "metadata": {
        "id": "view-in-github",
        "colab_type": "text"
      },
      "source": [
        "<a href=\"https://colab.research.google.com/github/ravardh/GIETU_SuperCoderBatch2/blob/Jatin_21CSE153/knapsack.ipynb\" target=\"_parent\"><img src=\"https://colab.research.google.com/assets/colab-badge.svg\" alt=\"Open In Colab\"/></a>"
      ]
    },
    {
      "cell_type": "code",
      "execution_count": 1,
      "metadata": {
        "colab": {
          "base_uri": "https://localhost:8080/"
        },
        "id": "Il8_0oXjHjdd",
        "outputId": "5d7846a0-63b4-48a6-90f7-713d48f42fbb"
      },
      "outputs": [
        {
          "output_type": "stream",
          "name": "stdout",
          "text": [
            "Maximum Profit:- 22.5\n"
          ]
        }
      ],
      "source": [
        "def knapsack(W, N, PW, PP):\n",
        "    items = []\n",
        "    for i in range(N):\n",
        "        items.append((PP[i]/PW[i], PW[i], PP[i]))\n",
        "    items.sort(reverse=True)\n",
        "    totalWeight = 0\n",
        "    totalProfit = 0\n",
        "    for frac, w, p in items:\n",
        "        if totalWeight+w <= W:\n",
        "            totalWeight += w\n",
        "            totalProfit += p\n",
        "        else:\n",
        "            rem = W-totalWeight\n",
        "            fraction = rem/w\n",
        "            totalProfit += fraction*p\n",
        "            break\n",
        "    return totalProfit\n",
        "\n",
        "\n",
        "W = 15\n",
        "N = 4\n",
        "PW = [5, 10, 10, 5]\n",
        "PP = [10, 5, 5, 10]\n",
        "max_profit = knapsack(W, N, PW, PP)\n",
        "print(\"Maximum Profit:-\", max_profit)\n"
      ]
    }
  ]
}
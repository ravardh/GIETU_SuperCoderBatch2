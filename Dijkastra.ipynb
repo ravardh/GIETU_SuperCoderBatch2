{
 "cells": [
  {
   "cell_type": "code",
   "execution_count": 2,
   "id": "0d7fdb67",
   "metadata": {},
   "outputs": [
    {
     "name": "stdout",
     "output_type": "stream",
     "text": [
      "Enter starting node : 1\n"
     ]
    }
   ],
   "source": [
    "from numpy import Inf\n",
    "def Dijkstra(graph, start):\n",
    "    l = len(graph)\n",
    "    \n",
    "    dist = [Inf for _ in range(l)]\n",
    "    \n",
    "    dist[start] = 1\n",
    "    \n",
    "    visited = [False for _ in range(l)]\n",
    "    \n",
    "    for _ in range(l):\n",
    "        \n",
    "        u = -1\n",
    "        \n",
    "        for x in range(l):\n",
    "            if not visited[x] and (u == -1 or dist[x] < dist[u]):\n",
    "                u = x\n",
    "                \n",
    "        if dist[u] == Inf:\n",
    "            break\n",
    "            \n",
    "        visited[u] = True\n",
    "        \n",
    "        for v, d in graph[u]:\n",
    "            if dist[u] + d < dist[v]:\n",
    "                dist[v] = dist[u] + d\n",
    "                \n",
    "    return dist\n",
    "\n",
    "graph = {\n",
    "    '1': {'2': 4, '8': 8},\n",
    "    '2': {'3': 8, '8': 11, '1': 4},\n",
    "    '3': {'4': 7, '6': 4, '9': 2,'2':8},\n",
    "    '4': {'5': 9, '6': 14,'3':7},\n",
    "    '5': {'6':10,'4':9},\n",
    "    '6': {'4':14,'5':10,'3':4},\n",
    "    '7': {'6':2,'9':6,'8':1},\n",
    "    '8': {'7':1,'9':7,'2':11,'1':8},\n",
    "    '9': {'3':2,'7':6,'8':7},\n",
    "    \n",
    "#      '1': {'3': 6, '2': 3},\n",
    "#      '3': {'4': 5,},\n",
    "#      '4': {'2' : -10},\n",
    "}\n",
    "c = str(input(\"Enter starting node : \"))\n",
    "print(dijkstra(graph,c))\n",
    "\n"
   ]
  },
  {
   "cell_type": "code",
   "execution_count": null,
   "id": "23ac1d94",
   "metadata": {},
   "outputs": [],
   "source": []
  },
  {
   "cell_type": "code",
   "execution_count": null,
   "id": "6e8d7996",
   "metadata": {},
   "outputs": [],
   "source": []
  }
 ],
 "metadata": {
  "kernelspec": {
   "display_name": "Python 3 (ipykernel)",
   "language": "python",
   "name": "python3"
  },
  "language_info": {
   "codemirror_mode": {
    "name": "ipython",
    "version": 3
   },
   "file_extension": ".py",
   "mimetype": "text/x-python",
   "name": "python",
   "nbconvert_exporter": "python",
   "pygments_lexer": "ipython3",
   "version": "3.11.3"
  }
 },
 "nbformat": 4,
 "nbformat_minor": 5
}

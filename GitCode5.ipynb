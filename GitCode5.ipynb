{
  "nbformat": 4,
  "nbformat_minor": 0,
  "metadata": {
    "colab": {
      "provenance": []
    },
    "kernelspec": {
      "name": "python3",
      "display_name": "Python 3"
    },
    "language_info": {
      "name": "python"
    }
  },
  "cells": [
    {
      "cell_type": "code",
      "execution_count": 6,
      "metadata": {
        "colab": {
          "base_uri": "https://localhost:8080/"
        },
        "id": "DEF8l-XOfHFG",
        "outputId": "8a3931cf-eefb-4fba-dfa0-70c176b9af26"
      },
      "outputs": [
        {
          "output_type": "stream",
          "name": "stdout",
          "text": [
            "Maximum Depth of the Binary Tree: 4\n"
          ]
        }
      ],
      "source": [
        "class Node:\n",
        "    def __init__(self, value=0, left=None, right=None):\n",
        "        self.data = value\n",
        "        self.left = None\n",
        "        self.right = None\n",
        "\n",
        "def maxDepth(node):\n",
        "    if node is None:\n",
        "        return 0\n",
        "    else:\n",
        "        left_depth = maxDepth(node.left)\n",
        "        right_depth = maxDepth(node.right)\n",
        "        return max(left_depth, right_depth) + 1\n",
        "\n",
        "# Test case\n",
        "if __name__ == \"__main__\":\n",
        "    root = Node(1)\n",
        "    root.left = Node(2)\n",
        "    root.right = Node(3)\n",
        "    root.left.left = Node(4)\n",
        "    root.left.right = Node(5)\n",
        "    root.left.left.left = Node(6)\n",
        "\n",
        "    print(\"Maximum Depth of the Binary Tree:\", maxDepth(root))"
      ]
    },
    {
      "cell_type": "code",
      "source": [
        "\n",
        "class Node:\n",
        "\n",
        "\tdef __init__(self, data):\n",
        "\t\tself.data = data\n",
        "\t\tself.left = None\n",
        "\t\tself.right = None\n",
        "\n",
        "\n",
        "def printLeafNodes(root: Node) -> None:\n",
        "\n",
        "\n",
        "\tif (not root):\n",
        "\t\treturn\n",
        "\n",
        "\tif (not root.left and\n",
        "\t\tnot root.right):\n",
        "\t\tprint(root.data,\n",
        "\t\t\tend = \" \")\n",
        "\t\treturn\n",
        "\n",
        "\tif root.left:\n",
        "\t\tprintLeafNodes(root.left)\n",
        "\n",
        "\n",
        "\tif root.right:\n",
        "\t\tprintLeafNodes(root.right)\n",
        "\n",
        "\n",
        "if __name__ == \"__main__\":\n",
        "\n",
        "\n",
        "\troot = Node(1)\n",
        "\troot.left = Node(2)\n",
        "\troot.right = Node(3)\n",
        "\troot.left.left = Node(4)\n",
        "\troot.right.left = Node(5)\n",
        "\troot.right.right = Node(8)\n",
        "\troot.right.left.left = Node(6)\n",
        "\troot.right.left.right = Node(7)\n",
        "\troot.right.right.left = Node(9)\n",
        "\troot.right.right.right = Node(10)\n",
        "\n",
        "\tprintLeafNodes(root)"
      ],
      "metadata": {
        "colab": {
          "base_uri": "https://localhost:8080/"
        },
        "id": "sBFAHhNJfTYU",
        "outputId": "16ff151d-ad0d-401d-e0ef-a0562bb79ecf"
      },
      "execution_count": 8,
      "outputs": [
        {
          "output_type": "stream",
          "name": "stdout",
          "text": [
            "4 6 7 9 10 "
          ]
        }
      ]
    },
    {
      "cell_type": "code",
      "source": [
        "from collections import deque\n",
        "\n",
        "class Node:\n",
        "\n",
        "\tdef __init__(self, key):\n",
        "\n",
        "\t\tself.data = key\n",
        "\t\tself.hd = float('inf')\n",
        "\t\tself.left = None\n",
        "\t\tself.right = None\n",
        "\n",
        "def bottomView(root):\n",
        "\n",
        "\tif (root == None):\n",
        "\t\treturn\n",
        "\n",
        "\n",
        "\thd = 0\n",
        "\tmin_hd, max_hd = 0, 0\n",
        "\n",
        "\thd_dict = dict()\n",
        "\tq = deque()\n",
        "\troot.hd = hd\n",
        "\tq.append(root)\n",
        "\twhile q:\n",
        "\t\tcurr_node = q.popleft()\n",
        "\t\thd = curr_node.hd\n",
        "\t\tmin_hd = min(min_hd, hd)\n",
        "\t\tmax_hd = max(max_hd, hd)\n",
        "\t\thd_dict[hd] = curr_node.data\n",
        "\t\tif curr_node.left:\n",
        "\t\t\tcurr_node.left.hd = hd - 1\n",
        "\t\t\tq.append(curr_node.left)\n",
        "\n",
        "\t\tif curr_node.right:\n",
        "\t\t\tcurr_node.right.hd = hd + 1\n",
        "\t\t\tq.append(curr_node.right)\n",
        "\n",
        "\tfor i in range(min_hd, max_hd+1):\n",
        "\t\tprint(hd_dict[i], end = ' ')\n",
        "\n",
        "if __name__=='__main__':\n",
        "\n",
        "\troot = Node(20)\n",
        "\troot.left = Node(8)\n",
        "\troot.right = Node(22)\n",
        "\troot.left.left = Node(5)\n",
        "\troot.left.right = Node(3)\n",
        "\troot.right.left = Node(4)\n",
        "\troot.right.right = Node(25)\n",
        "\troot.left.right.left = Node(10)\n",
        "\troot.left.right.right = Node(14)\n",
        "\n",
        "\tprint(\"Bottom view of the given binary tree :\")\n",
        "\n",
        "\tbottomView(root)"
      ],
      "metadata": {
        "colab": {
          "base_uri": "https://localhost:8080/"
        },
        "id": "TIn9iy5OfZjj",
        "outputId": "266ddbea-affe-4790-d59e-b7459b42668f"
      },
      "execution_count": 9,
      "outputs": [
        {
          "output_type": "stream",
          "name": "stdout",
          "text": [
            "Bottom view of the given binary tree :\n",
            "5 10 4 14 25 "
          ]
        }
      ]
    },
    {
      "cell_type": "code",
      "source": [
        "class newNode:\n",
        "\n",
        "\tdef __init__(self, key):\n",
        "\t\tself.data = key\n",
        "\t\tself.left = None\n",
        "\t\tself.right = None\n",
        "\t\tself.hd = 0\n",
        "\n",
        "def topview(root):\n",
        "\n",
        "\tif(root == None):\n",
        "\t\treturn\n",
        "\tq = []\n",
        "\tm = dict()\n",
        "\thd = 0\n",
        "\troot.hd = hd\n",
        "\tq.append(root)\n",
        "\n",
        "\twhile(len(q)):\n",
        "\t\troot = q[0]\n",
        "\t\thd = root.hd\n",
        "\n",
        "\t\tif hd not in m:\n",
        "\t\t\tm[hd] = root.data\n",
        "\t\tif(root.left):\n",
        "\t\t\troot.left.hd = hd - 1\n",
        "\t\t\tq.append(root.left)\n",
        "\n",
        "\t\tif(root.right):\n",
        "\t\t\troot.right.hd = hd + 1\n",
        "\t\t\tq.append(root.right)\n",
        "\n",
        "\t\tq.pop(0)\n",
        "\tfor i in sorted(m):\n",
        "\t\tprint(m[i], end=\" \")\n",
        "\n",
        "\n",
        "# Driver Code\n",
        "if __name__ == '__main__':\n",
        "\n",
        "\t\"\"\" Create following Binary Tree\n",
        "\t\t1\n",
        "\t\t/ \\\n",
        "\t2 3\n",
        "\t\t\\\n",
        "\t\t4\n",
        "\t\t\\\n",
        "\t\t\t5\n",
        "\t\t\t\\\n",
        "\t\t\t6\n",
        "\t\"\"\"\n",
        "\troot = newNode(1)\n",
        "\troot.left = newNode(2)\n",
        "\troot.right = newNode(3)\n",
        "\troot.left.right = newNode(4)\n",
        "\troot.left.right.right = newNode(5)\n",
        "\troot.left.right.right.right = newNode(6)\n",
        "\tprint(\"The top view of the tree is: \")\n",
        "\ttopview(root)\n"
      ],
      "metadata": {
        "colab": {
          "base_uri": "https://localhost:8080/"
        },
        "id": "BdcPfRDAfl9Q",
        "outputId": "df9d411d-31e2-4349-bffc-b85ff0c25d6e"
      },
      "execution_count": 11,
      "outputs": [
        {
          "output_type": "stream",
          "name": "stdout",
          "text": [
            "The top view of the tree is: \n",
            "2 1 3 6 "
          ]
        }
      ]
    },
    {
      "cell_type": "code",
      "source": [],
      "metadata": {
        "id": "mBuTrDLYftds"
      },
      "execution_count": null,
      "outputs": []
    }
  ]
}
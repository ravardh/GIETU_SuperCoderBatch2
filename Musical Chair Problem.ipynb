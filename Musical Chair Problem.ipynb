{
 "cells": [
  {
   "cell_type": "code",
   "execution_count": 21,
   "id": "e47e0954",
   "metadata": {},
   "outputs": [
    {
     "name": "stdout",
     "output_type": "stream",
     "text": [
      "The winner is child 5\n"
     ]
    }
   ],
   "source": [
    "def find_winner(N, K):\n",
    "    children = list(range(1, N + 1))\n",
    "    current_index = 0\n",
    "    while len(children) > 1:\n",
    "        current_index = (current_index + K - 1) % len(children)\n",
    "        del children[current_index]\n",
    "\n",
    "    return children[0]\n",
    "\n",
    "N = 14\n",
    "K = 20\n",
    "print(\"The winner is child\", find_winner(N, K))\n"
   ]
  },
  {
   "cell_type": "code",
   "execution_count": null,
   "id": "b5474368",
   "metadata": {},
   "outputs": [],
   "source": []
  }
 ],
 "metadata": {
  "kernelspec": {
   "display_name": "Python 3 (ipykernel)",
   "language": "python",
   "name": "python3"
  },
  "language_info": {
   "codemirror_mode": {
    "name": "ipython",
    "version": 3
   },
   "file_extension": ".py",
   "mimetype": "text/x-python",
   "name": "python",
   "nbconvert_exporter": "python",
   "pygments_lexer": "ipython3",
   "version": "3.11.5"
  }
 },
 "nbformat": 4,
 "nbformat_minor": 5
}

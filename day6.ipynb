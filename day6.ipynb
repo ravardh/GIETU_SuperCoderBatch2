{
 "cells": [
  {
   "cell_type": "code",
   "execution_count": 1,
   "id": "d9b9629b",
   "metadata": {},
   "outputs": [
    {
     "name": "stdout",
     "output_type": "stream",
     "text": [
      "1\n",
      "2\n",
      "3\n",
      "5\n",
      "4\n",
      "6\n",
      "7\n"
     ]
    }
   ],
   "source": [
    "#preorder\n",
    "class node:\n",
    "    def __init__(self,data=None):\n",
    "        self.left = None\n",
    "        self.right= None\n",
    "        self.data = data\n",
    "\n",
    "def preorder_traversal(node):\n",
    "    if node is not None:\n",
    "        print(node.data)\n",
    "        preorder_traversal(node.left)\n",
    "        preorder_traversal(node.right)\n",
    "        \n",
    "root = node(1)\n",
    "root.left = node(2)\n",
    "root.right = node(4)\n",
    "root.left.left = node(3)\n",
    "root.left.right = node(5)\n",
    "root.right.left = node(6)\n",
    "root.right.right = node(7)\n",
    "\n",
    "#print(root)\n",
    "#print(root.data)\n",
    "\n",
    "preorder_traversal(root)"
   ]
  },
  {
   "cell_type": "code",
   "execution_count": 2,
   "id": "1a4ebadb",
   "metadata": {},
   "outputs": [
    {
     "name": "stdout",
     "output_type": "stream",
     "text": [
      "3\n",
      "5\n",
      "2\n",
      "6\n",
      "7\n",
      "4\n",
      "1\n"
     ]
    }
   ],
   "source": [
    "#postorder\n",
    "class node:\n",
    "    def __init__(self,data=None):\n",
    "        self.left = None\n",
    "        self.right= None\n",
    "        self.data = data\n",
    "\n",
    "def postorder_traversal(node):\n",
    "    if node is not None:\n",
    "        postorder_traversal(node.left)\n",
    "        postorder_traversal(node.right)\n",
    "        print(node.data)\n",
    "\n",
    "\n",
    "root=node(1)\n",
    "root.left = node(2)\n",
    "root.right = node(4)\n",
    "root.left.left = node(3)\n",
    "root.left.right = node(5)\n",
    "root.right.left = node(6)\n",
    "root.right.right = node(7)\n",
    "\n",
    "postorder_traversal(root)"
   ]
  },
  {
   "cell_type": "code",
   "execution_count": 3,
   "id": "26956a43",
   "metadata": {},
   "outputs": [
    {
     "name": "stdout",
     "output_type": "stream",
     "text": [
      "8\n",
      "4\n",
      "2\n",
      "5\n",
      "9\n",
      "6\n",
      "10\n",
      "1\n",
      "11\n",
      "7\n",
      "12\n",
      "3\n"
     ]
    }
   ],
   "source": [
    "class node:\n",
    "    def __init__(self , data=None):\n",
    "        self.left = None\n",
    "        self.right = None\n",
    "        self.data = data\n",
    "\n",
    "def inorder_traversal(node):\n",
    "    if node is not None:\n",
    "        inorder_traversal(node.left)\n",
    "        print(node.data)\n",
    "        inorder_traversal(node.right)\n",
    "\n",
    "root=node(1)\n",
    "root.left = node(2)\n",
    "root.right = node(3)\n",
    "root.left.left = node(4)\n",
    "root.left.right = node(5)\n",
    "root.right.left = node(7)\n",
    "root.left.left.left = node(8)\n",
    "root.left.right.right = node(6)\n",
    "root.right.left.left = node(11)\n",
    "root.right.left.right = node(12)\n",
    "root.left.right.right.left = node(9)\n",
    "root.left.right.right.right = node(10)\n",
    "\n",
    "inorder_traversal(root)\n"
   ]
  },
  {
   "cell_type": "code",
   "execution_count": 4,
   "id": "a6413afa",
   "metadata": {},
   "outputs": [
    {
     "name": "stdout",
     "output_type": "stream",
     "text": [
      "1\n",
      "1 \n",
      "2 3 \n",
      "4 5 7 \n",
      "8 6 11 12 \n",
      "9 10 \n"
     ]
    }
   ],
   "source": [
    "class node:\n",
    "    def __init__(self , data=None):\n",
    "        self.left = None\n",
    "        self.right = None\n",
    "        self.data = data\n",
    "\n",
    "def levelorder_travesal(root):\n",
    "    if root is None:\n",
    "        return\n",
    "    \n",
    "    q=[root]\n",
    "\n",
    "    while q:\n",
    "        level_length = len(q)\n",
    "        for _ in range(level_length):\n",
    "            cur = q.pop(0)\n",
    "            print(cur.data ,end=\" \")\n",
    "\n",
    "            if cur.left:\n",
    "                q.append(cur.left)\n",
    "        \n",
    "            if cur.right:\n",
    "                q.append(cur.right)\n",
    "        print()\n",
    "\n",
    "root=node(1)\n",
    "root.left = node(2)\n",
    "root.right = node(3)\n",
    "root.left.left = node(4)\n",
    "root.left.right = node(5)\n",
    "root.right.left = node(7)\n",
    "root.left.left.left = node(8)\n",
    "root.left.right.right = node(6)\n",
    "root.right.left.left = node(11)\n",
    "root.right.left.right = node(12)\n",
    "root.left.right.right.left = node(9)\n",
    "root.left.right.right.right = node(10)\n",
    "\n",
    "#print(root)\n",
    "print(root.data)\n",
    "\n",
    "levelorder_travesal(root)\n"
   ]
  },
  {
   "cell_type": "code",
   "execution_count": null,
   "id": "66d43d84",
   "metadata": {},
   "outputs": [],
   "source": []
  }
 ],
 "metadata": {
  "kernelspec": {
   "display_name": "Python 3 (ipykernel)",
   "language": "python",
   "name": "python3"
  },
  "language_info": {
   "codemirror_mode": {
    "name": "ipython",
    "version": 3
   },
   "file_extension": ".py",
   "mimetype": "text/x-python",
   "name": "python",
   "nbconvert_exporter": "python",
   "pygments_lexer": "ipython3",
   "version": "3.11.5"
  }
 },
 "nbformat": 4,
 "nbformat_minor": 5
}

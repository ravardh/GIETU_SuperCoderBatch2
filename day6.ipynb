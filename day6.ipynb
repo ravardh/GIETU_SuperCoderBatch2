{
  "nbformat": 4,
  "nbformat_minor": 0,
  "metadata": {
    "colab": {
      "provenance": []
    },
    "kernelspec": {
      "name": "python3",
      "display_name": "Python 3"
    },
    "language_info": {
      "name": "python"
    }
  },
  "cells": [
    {
      "cell_type": "code",
      "execution_count": 2,
      "metadata": {
        "colab": {
          "base_uri": "https://localhost:8080/",
          "height": 106
        },
        "id": "ozWA4SvSaXle",
        "outputId": "733e54b8-83a8-403e-f6ec-36080b00382b"
      },
      "outputs": [
        {
          "output_type": "error",
          "ename": "SyntaxError",
          "evalue": "invalid syntax. Maybe you meant '==' or ':=' instead of '='? (<ipython-input-2-43caa82bf4b8>, line 9)",
          "traceback": [
            "\u001b[0;36m  File \u001b[0;32m\"<ipython-input-2-43caa82bf4b8>\"\u001b[0;36m, line \u001b[0;32m9\u001b[0m\n\u001b[0;31m    CL=value\u001b[0m\n\u001b[0m    ^\u001b[0m\n\u001b[0;31mSyntaxError\u001b[0m\u001b[0;31m:\u001b[0m invalid syntax. Maybe you meant '==' or ':=' instead of '='?\n"
          ]
        }
      ],
      "source": [
        "class Node:\n",
        "    def __init__(self, data):\n",
        "        self.data = data\n",
        "        self.left = None\n",
        "        self.right = None\n",
        "        self.key = None\n",
        "def leftview(root,value,L,CL):\n",
        "  {\n",
        "      if(root==none)\n",
        "      return\n",
        "      CL=value\n",
        "      if(L<CL):\n",
        "        print(root.data)\n",
        "        L=CL\n",
        "      leftview(root.left,CL+1,L)\n",
        "      leftview(root.right,CL+1,L)\n",
        "  }\n",
        "root = Node(20)\n",
        "root.left = Node(32)\n",
        "root.right = Node(10)\n",
        "root.left.left = Node(15)\n",
        "root.left.right = Node(12)\n",
        "root.right.left = Node(8)\n",
        "root.right.right = Node(24)\n",
        "root.left.left.right = Node(4)\n",
        "root.left.left.left = Node(9)\n",
        "root.left.right.left = Node(50)\n",
        "root.left.right.right = Node(6)\n",
        "root.left.right.left.left = Node(40)\n",
        "root.left.right.left.right = Node(35)\n",
        "root.right.right.left = Node(16)\n",
        "root.right.right.right = Node(2)\n",
        "leftview(root)"
      ]
    },
    {
      "cell_type": "code",
      "source": [
        "class Node:\n",
        "    def __init__(self, data):\n",
        "        self.data = data\n",
        "        self.left = None\n",
        "        self.right = None\n",
        "\n",
        "def leftView(root, l, cl):\n",
        "    if root is None:\n",
        "        return\n",
        "\n",
        "    if cl[0] < l:\n",
        "        print(root.data, end=\" \")\n",
        "        cl[0] = l\n",
        "    leftView(root.left, l + 1, cl)\n",
        "    leftView(root.right, l + 1, cl)\n",
        "\n",
        "def leftView1(root):\n",
        "    max_level = [0]\n",
        "    leftView(root, 1, max_level)\n",
        "\n",
        "root = Node(20)\n",
        "root.left = Node(32)\n",
        "root.right = Node(10)\n",
        "root.left.left = Node(15)\n",
        "root.left.right = Node(12)\n",
        "root.right.left = Node(8)\n",
        "root.right.right = Node(24)\n",
        "root.left.left.right = Node(4)\n",
        "root.left.left.left = Node(9)\n",
        "root.left.right.left = Node(50)\n",
        "root.left.right.right = Node(6)\n",
        "root.left.right.left.left = Node(40)\n",
        "root.left.right.left.right = Node(35)\n",
        "root.right.right.left = Node(16)\n",
        "root.right.right.right = Node(2)\n",
        "\n",
        "print(\"Left view of the tree:\")\n",
        "leftView1(root)\n"
      ],
      "metadata": {
        "colab": {
          "base_uri": "https://localhost:8080/"
        },
        "id": "-6WAMxBNcaDd",
        "outputId": "9fcb52b0-1591-4984-f72d-90ec72365ff9"
      },
      "execution_count": 7,
      "outputs": [
        {
          "output_type": "stream",
          "name": "stdout",
          "text": [
            "Left view of the tree:\n",
            "20 32 15 9 40 "
          ]
        }
      ]
    },
    {
      "cell_type": "code",
      "source": [
        "class Node:\n",
        "    def __init__(self, data):\n",
        "        self.data = data\n",
        "        self.left = None\n",
        "        self.right = None\n",
        "\n",
        "def rightView(root, level, max_level):\n",
        "    if root is None:\n",
        "        return\n",
        "\n",
        "    if max_level[0] < level:\n",
        "        print(root.data, end=\" \")\n",
        "        max_level[0] = level\n",
        "\n",
        "    rightView(root.right, level + 1, max_level)\n",
        "    rightView(root.left, level + 1, max_level)\n",
        "\n",
        "def rightView1(root):\n",
        "    max_level = [0]\n",
        "    rightView(root, 1, max_level)\n",
        "\n",
        "root = Node(20)\n",
        "root.left = Node(32)\n",
        "root.right = Node(10)\n",
        "root.left.left = Node(15)\n",
        "root.left.right = Node(12)\n",
        "root.right.left = Node(8)\n",
        "root.right.right = Node(24)\n",
        "root.left.left.right = Node(4)\n",
        "root.left.left.left = Node(9)\n",
        "root.left.right.left = Node(50)\n",
        "root.left.right.right = Node(6)\n",
        "root.left.right.left.left = Node(40)\n",
        "root.left.right.left.right = Node(35)\n",
        "root.right.right.left = Node(16)\n",
        "root.right.right.right = Node(2)\n",
        "\n",
        "print(\"Right view of the tree:\")\n",
        "rightView1(root)\n"
      ],
      "metadata": {
        "colab": {
          "base_uri": "https://localhost:8080/"
        },
        "id": "4CrKrMnPe2bV",
        "outputId": "ffb0bc94-0f80-428c-e448-3ddbd0b56437"
      },
      "execution_count": 8,
      "outputs": [
        {
          "output_type": "stream",
          "name": "stdout",
          "text": [
            "Right view of the tree:\n",
            "20 10 24 2 35 "
          ]
        }
      ]
    },
    {
      "cell_type": "code",
      "source": [
        "class Node:\n",
        "    def __init__(self, data):\n",
        "        self.data = data\n",
        "        self.left = None\n",
        "        self.right = None\n",
        "\n",
        "def countNodes(root):\n",
        "    if root is None:\n",
        "        return 0\n",
        "\n",
        "    left_count = countNodes(root.left)\n",
        "    right_count = countNodes(root.right)\n",
        "\n",
        "    return left_count + right_count + 1\n",
        "root = Node(20)\n",
        "root.left = Node(32)\n",
        "root.right = Node(10)\n",
        "root.left.left = Node(15)\n",
        "root.left.right = Node(12)\n",
        "root.right.left = Node(8)\n",
        "root.right.right = Node(24)\n",
        "root.left.left.right = Node(4)\n",
        "root.left.left.left = Node(9)\n",
        "root.left.right.left = Node(50)\n",
        "root.left.right.right = Node(6)\n",
        "root.left.right.left.left = Node(40)\n",
        "root.left.right.left.right = Node(35)\n",
        "root.right.right.left = Node(16)\n",
        "root.right.right.right = Node(2)\n",
        "\n",
        "print(\"Number of nodes in the tree:\", countNodes(root))\n"
      ],
      "metadata": {
        "colab": {
          "base_uri": "https://localhost:8080/"
        },
        "id": "9CjOlyede7C8",
        "outputId": "b0a3a762-1eac-47db-8c2a-f8f616e2c431"
      },
      "execution_count": 9,
      "outputs": [
        {
          "output_type": "stream",
          "name": "stdout",
          "text": [
            "Number of nodes in the tree: 15\n"
          ]
        }
      ]
    },
    {
      "cell_type": "code",
      "source": [
        "\n",
        ""
      ],
      "metadata": {
        "id": "p06XLq_hnAgC"
      },
      "execution_count": null,
      "outputs": []
    }
  ]
}
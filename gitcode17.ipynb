{
  "nbformat": 4,
  "nbformat_minor": 0,
  "metadata": {
    "colab": {
      "provenance": []
    },
    "kernelspec": {
      "name": "python3",
      "display_name": "Python 3"
    },
    "language_info": {
      "name": "python"
    }
  },
  "cells": [
    {
      "cell_type": "code",
      "execution_count": 1,
      "metadata": {
        "colab": {
          "base_uri": "https://localhost:8080/"
        },
        "id": "ji44Hjpcrs7O",
        "outputId": "a9f3a96f-5457-41f3-92b2-8e78f4a950aa"
      },
      "outputs": [
        {
          "output_type": "stream",
          "name": "stdout",
          "text": [
            "enter the patterns:BACBAA\n",
            "[4]\n"
          ]
        }
      ],
      "source": [
        "str = \"ABCBBACBAABACBABC\"\n",
        "p = input(\"enter the patterns:\")\n",
        "index_length = []\n",
        "for i in range(len(str)-(len(p)-1)):\n",
        "    if str[i:i +len(p)] == (p):\n",
        "        index_length.append(i)\n",
        "print(index_length)"
      ]
    },
    {
      "cell_type": "code",
      "source": [],
      "metadata": {
        "id": "J5BoKIoBtDhj"
      },
      "execution_count": null,
      "outputs": []
    },
    {
      "cell_type": "code",
      "source": [],
      "metadata": {
        "id": "XaZWE_cEtOJF"
      },
      "execution_count": null,
      "outputs": []
    }
  ]
}
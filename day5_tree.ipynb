{
  "nbformat": 4,
  "nbformat_minor": 0,
  "metadata": {
    "colab": {
      "provenance": [],
      "authorship_tag": "ABX9TyNy5VLEqKcgQTbw/tQUZb14",
      "include_colab_link": true
    },
    "kernelspec": {
      "name": "python3",
      "display_name": "Python 3"
    },
    "language_info": {
      "name": "python"
    }
  },
  "cells": [
    {
      "cell_type": "markdown",
      "metadata": {
        "id": "view-in-github",
        "colab_type": "text"
      },
      "source": [
        "<a href=\"https://colab.research.google.com/github/ravardh/GIETU_SuperCoderBatch2/blob/Jatin_21CSE153/day5_tree.ipynb\" target=\"_parent\"><img src=\"https://colab.research.google.com/assets/colab-badge.svg\" alt=\"Open In Colab\"/></a>"
      ]
    },
    {
      "cell_type": "code",
      "source": [
        "class node:\n",
        "    def __init__(self, data, left=None, right=None):\n",
        "        self.data = data\n",
        "        self.left = left\n",
        "        self.right = right\n",
        "        self.key = 0\n",
        "\n",
        "\n",
        "root = node(1)\n",
        "root.left = node(2)\n",
        "root.right = node(4)\n",
        "root.left.left = node(3)\n",
        "root.left.right = node(6)\n",
        "root.right.left = node(5)\n",
        "root.right.right = node(7)\n",
        "# print(root)\n",
        "\n",
        "#         1\n",
        "#     2       4\n",
        "#   3   6   5   7\n",
        "\n",
        "#height of the binary tree\n",
        "def height_tree(node):\n",
        "    if node is None:\n",
        "        return 0\n",
        "    # return max(height_tree(node.left), height_tree(node.right))+1\n",
        "    else:\n",
        "        left = height_tree(node.left)\n",
        "        right = height_tree(node.right)\n",
        "\n",
        "        height = max(left, right) + 1\n",
        "\n",
        "    return height\n",
        "\n",
        "\n",
        "print(\"height of the tree: \", height_tree(root))"
      ],
      "metadata": {
        "colab": {
          "base_uri": "https://localhost:8080/"
        },
        "id": "d8s4fnZdexCV",
        "outputId": "91b17f7d-cea3-4234-cd61-5d13e034ddf1"
      },
      "execution_count": null,
      "outputs": [
        {
          "output_type": "stream",
          "name": "stdout",
          "text": [
            "height of the tree:  3\n"
          ]
        }
      ]
    },
    {
      "cell_type": "code",
      "source": [
        "#print leaf node of the binary tree\n",
        "def leaf_node(node):\n",
        "    if node is None:\n",
        "        return\n",
        "\n",
        "    if node.left == None and node.right == None:\n",
        "        print(node.data)\n",
        "        return\n",
        "\n",
        "    leaf_node(node.left)\n",
        "    leaf_node(node.right)\n",
        "\n",
        "\n",
        "print(\"leaf node: \")\n",
        "print(leaf_node(root))\n"
      ],
      "metadata": {
        "colab": {
          "base_uri": "https://localhost:8080/"
        },
        "id": "8xS7-qq9e1Ls",
        "outputId": "c1001e71-e23d-49e6-bcb4-c64fede48887"
      },
      "execution_count": null,
      "outputs": [
        {
          "output_type": "stream",
          "name": "stdout",
          "text": [
            "leaf node: \n",
            "3\n",
            "6\n",
            "5\n",
            "7\n",
            "None\n"
          ]
        }
      ]
    },
    {
      "cell_type": "code",
      "source": [
        "#print the top view of the binary tree\n",
        "def topview(root):\n",
        "    if root == None:\n",
        "        return\n",
        "\n",
        "    Q = [root]\n",
        "    key = 0\n",
        "    TView = dict()\n",
        "    root.key = key\n",
        "    while len(Q) != 0:\n",
        "        curr = Q.pop(0)\n",
        "        key = curr.key\n",
        "        if key not in TView:\n",
        "            TView[key] = curr.data\n",
        "        if curr.left != None:\n",
        "            Q.append(curr.left)\n",
        "            curr.left.key = key-1\n",
        "        if curr.right != None:\n",
        "            Q.append(curr.right)\n",
        "            curr.right.key = key+1\n",
        "    for x in sorted(TView.keys()):\n",
        "        print(TView[x], end=\" \")\n",
        "\n",
        "\n",
        "print(\"top view: \")\n",
        "topview(root)"
      ],
      "metadata": {
        "colab": {
          "base_uri": "https://localhost:8080/"
        },
        "id": "9nZovbmde3_k",
        "outputId": "2deb4dc1-b47d-446c-8558-1fa3513164fa"
      },
      "execution_count": null,
      "outputs": [
        {
          "output_type": "stream",
          "name": "stdout",
          "text": [
            "top view: \n",
            "3 2 1 4 7 "
          ]
        }
      ]
    }
  ]
}
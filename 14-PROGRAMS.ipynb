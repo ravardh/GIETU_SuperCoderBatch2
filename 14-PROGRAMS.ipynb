{
 "cells": [
  {
   "cell_type": "code",
   "execution_count": 49,
   "id": "f56c6a72",
   "metadata": {},
   "outputs": [
    {
     "name": "stdout",
     "output_type": "stream",
     "text": [
      "{0: 0, 1: 1, 2: 3, 3: 5, 4: 0, 5: 4, 6: 3}\n"
     ]
    }
   ],
   "source": [
    "class Graph:\n",
    "    def __init__(self, vertices):\n",
    "        self.v = vertices\n",
    "        self.graph = []\n",
    "\n",
    "    def addEdge(self, u, v, w):\n",
    "        self.graph.append([u, v, w])\n",
    "\n",
    "    def bellmanford(self, start):\n",
    "        dict1 = {vertex: float('inf') for vertex in range(self.v)}\n",
    "\n",
    "        dict1[start - 1] = 0\n",
    "\n",
    "        for _ in range(self.v - 1):\n",
    "            for u, v, w in self.graph:\n",
    "                if dict1[u - 1] != float('inf'):\n",
    "                    if dict1[u - 1] + w < dict1[v - 1]:\n",
    "                        dict1[v - 1] = dict1[u - 1] + w\n",
    "\n",
    "        return dict1\n",
    "\n",
    "g = Graph(7)\n",
    "g.addEdge(1, 2, 6)\n",
    "g.addEdge(1, 3, 5)\n",
    "g.addEdge(1, 4, 5)\n",
    "g.addEdge(2, 5, -1)\n",
    "g.addEdge(3, 5, 1)\n",
    "g.addEdge(3, 2, -2)\n",
    "g.addEdge(4, 3, -2)\n",
    "g.addEdge(4, 6, -1)\n",
    "g.addEdge(5, 7, 3)\n",
    "g.addEdge(6, 7, 3)\n",
    "\n",
    "result = g.bellmanford(1)\n",
    "print(result)\n"
   ]
  },
  {
   "cell_type": "code",
   "execution_count": null,
   "id": "26b76e70",
   "metadata": {},
   "outputs": [],
   "source": []
  }
 ],
 "metadata": {
  "kernelspec": {
   "display_name": "Python 3 (ipykernel)",
   "language": "python",
   "name": "python3"
  },
  "language_info": {
   "codemirror_mode": {
    "name": "ipython",
    "version": 3
   },
   "file_extension": ".py",
   "mimetype": "text/x-python",
   "name": "python",
   "nbconvert_exporter": "python",
   "pygments_lexer": "ipython3",
   "version": "3.11.3"
  }
 },
 "nbformat": 4,
 "nbformat_minor": 5
}

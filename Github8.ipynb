{
 "cells": [
  {
   "cell_type": "code",
   "execution_count": 2,
   "id": "42b94967",
   "metadata": {},
   "outputs": [
    {
     "name": "stdout",
     "output_type": "stream",
     "text": [
      "Depth First Search:\n",
      "1 2 4 5 3 6 "
     ]
    }
   ],
   "source": [
    "#DFS\n",
    "class Graph:\n",
    "    def __init__(self):\n",
    "        self.graph = {}\n",
    "\n",
    "    def add_edge(self, u, v):\n",
    "        if u not in self.graph:\n",
    "            self.graph[u] = []\n",
    "        self.graph[u].append(v)\n",
    "\n",
    "    def dfs(self, start, visited=None):\n",
    "        if visited is None:\n",
    "            visited = set()\n",
    "\n",
    "        visited.add(start)\n",
    "        print(start, end=' ')\n",
    "\n",
    "        for neighbor in self.graph.get(start, []):\n",
    "            if neighbor not in visited:\n",
    "                self.dfs(neighbor, visited)\n",
    "g = Graph()\n",
    "g.add_edge(1, 2)\n",
    "g.add_edge(1, 3)\n",
    "g.add_edge(2, 4)\n",
    "g.add_edge(2, 5)\n",
    "g.add_edge(3, 6)\n",
    "\n",
    "print(\"Depth First Search:\")\n",
    "g.dfs(1)"
   ]
  },
  {
   "cell_type": "code",
   "execution_count": null,
   "id": "0a199b66",
   "metadata": {},
   "outputs": [],
   "source": []
  }
 ],
 "metadata": {
  "kernelspec": {
   "display_name": "Python 3 (ipykernel)",
   "language": "python",
   "name": "python3"
  },
  "language_info": {
   "codemirror_mode": {
    "name": "ipython",
    "version": 3
   },
   "file_extension": ".py",
   "mimetype": "text/x-python",
   "name": "python",
   "nbconvert_exporter": "python",
   "pygments_lexer": "ipython3",
   "version": "3.9.13"
  }
 },
 "nbformat": 4,
 "nbformat_minor": 5
}

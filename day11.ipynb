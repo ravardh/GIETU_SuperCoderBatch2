{
 "cells": [
  {
   "cell_type": "code",
   "execution_count": 4,
   "id": "9461e71a",
   "metadata": {},
   "outputs": [
    {
     "name": "stdout",
     "output_type": "stream",
     "text": [
      "Maximum value that can be obtained: 54\n"
     ]
    }
   ],
   "source": [
    "#GREEDY\n",
    "def knapsack(values, weights, capacity):\n",
    "    n = len(values)\n",
    "    table = [[0] * (capacity + 1) for _ in range(n + 1)]\n",
    "    for i in range(1, n + 1):\n",
    "        for w in range(1, capacity + 1):\n",
    "            if weights[i - 1] <= w:\n",
    "                table[i][w] = max(\n",
    "                    values[i - 1] + table[i - 1][w - weights[i - 1]],\n",
    "                    table[i - 1][w]\n",
    "                )\n",
    "            else:\n",
    "                table[i][w] = table[i - 1][w]\n",
    "                \n",
    "    return table[n][capacity]\n",
    "\n",
    "\n",
    "\n",
    "values = [10, 5, 15,7,6,18,3]\n",
    "weights = [2, 3, 5,7,1,4,1]\n",
    "capacity = 15\n",
    "\n",
    "max_value = knapsack(values, weights, capacity)\n",
    "print(\"Maximum value that can be obtained:\", max_value)"
   ]
  },
  {
   "cell_type": "code",
   "execution_count": 3,
   "id": "e4e98b4f",
   "metadata": {},
   "outputs": [
    {
     "name": "stdout",
     "output_type": "stream",
     "text": [
      "Maximum value that can be obtained: 54\n"
     ]
    }
   ],
   "source": [
    "def knapsack(values, weights, capacity):\n",
    "    n = len(values)\n",
    "    table = [[0] * (capacity + 1) for _ in range(n + 1)]\n",
    "    \n",
    "    for i in range(1, n + 1):\n",
    "        for w in range(1, capacity + 1):\n",
    "            if weights[i - 1] <= w:\n",
    "                table[i][w] = max(values[i - 1] + table[i - 1][w - weights[i - 1]], table[i - 1][w])\n",
    "            else:\n",
    "                table[i][w] = table[i - 1][w]\n",
    "                \n",
    "    return table[n][capacity]\n",
    "\n",
    "\n",
    "\n",
    "\n",
    "values = [10, 5, 15, 7, 6, 18, 3]\n",
    "weights = [2, 3, 5, 7, 1, 4, 1]\n",
    "capacity = 15\n",
    "\n",
    "max_value = knapsack(values, weights, capacity)\n",
    "print(\"Maximum value that can be obtained:\", max_value)"
   ]
  },
  {
   "cell_type": "code",
   "execution_count": 5,
   "id": "ce5c424a",
   "metadata": {},
   "outputs": [],
   "source": [
    "#tabulation\n",
    "def fib(num):\n",
    "    f=[-1 for i in range(7)]\n",
    "    f[0]=0\n",
    "    f[1]=1\n",
    "    for i in range(2,7):\n",
    "        f[i]=f[i-1]"
   ]
  },
  {
   "cell_type": "code",
   "execution_count": null,
   "id": "7434b250",
   "metadata": {},
   "outputs": [],
   "source": []
  }
 ],
 "metadata": {
  "kernelspec": {
   "display_name": "Python 3 (ipykernel)",
   "language": "python",
   "name": "python3"
  },
  "language_info": {
   "codemirror_mode": {
    "name": "ipython",
    "version": 3
   },
   "file_extension": ".py",
   "mimetype": "text/x-python",
   "name": "python",
   "nbconvert_exporter": "python",
   "pygments_lexer": "ipython3",
   "version": "3.11.5"
  }
 },
 "nbformat": 4,
 "nbformat_minor": 5
}

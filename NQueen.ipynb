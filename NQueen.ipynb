{
  "nbformat": 4,
  "nbformat_minor": 0,
  "metadata": {
    "colab": {
      "provenance": []
    },
    "kernelspec": {
      "name": "python3",
      "display_name": "Python 3"
    },
    "language_info": {
      "name": "python"
    }
  },
  "cells": [
    {
      "cell_type": "code",
      "execution_count": 1,
      "metadata": {
        "id": "Ly6HHpe8QfsH"
      },
      "outputs": [],
      "source": [
        "class Solution:\n",
        "    def isSafe(self, row, col, board):\n",
        "        # Check horizontal\n",
        "        for j in range(len(board)):\n",
        "            if board[row][j] == 'Q':\n",
        "                return False\n",
        "\n",
        "        # Check vertical\n",
        "        for i in range(len(board)):\n",
        "            if board[i][col] == 'Q':\n",
        "                return False\n",
        "\n",
        "        # Check upper left\n",
        "        r, c = row, col\n",
        "        while r >= 0 and c >= 0:\n",
        "            if board[r][c] == 'Q':\n",
        "                return False\n",
        "            r -= 1\n",
        "            c -= 1\n",
        "\n",
        "        # Check upper right\n",
        "        r, c = row, col\n",
        "        while r >= 0 and c < len(board):\n",
        "            if board[r][c] == 'Q':\n",
        "                return False\n",
        "            r -= 1\n",
        "            c += 1\n",
        "\n",
        "        # Check lower left\n",
        "        r, c = row, col\n",
        "        while r < len(board) and c >= 0:\n",
        "            if board[r][c] == 'Q':\n",
        "                return False\n",
        "            r += 1\n",
        "            c -= 1\n",
        "\n",
        "        # Check lower right\n",
        "        r, c = row, col\n",
        "        while r < len(board) and c < len(board):\n",
        "            if board[r][c] == 'Q':\n",
        "                return False\n",
        "            r += 1\n",
        "            c += 1\n",
        "\n",
        "        return True\n",
        "\n",
        "    def saveBoard(self, board, allBoards):\n",
        "        newBoard = [''.join(row) for row in board]\n",
        "        allBoards.append(newBoard)\n",
        "\n",
        "    def helper(self, board, allBoards, col):\n",
        "        if col == len(board):\n",
        "            self.saveBoard(board, allBoards)\n",
        "            return\n",
        "        for row in range(len(board)):\n",
        "            if self.isSafe(row, col, board):\n",
        "                board[row][col] = 'Q'\n",
        "                self.helper(board, allBoards, col + 1)\n",
        "                board[row][col] = '.'\n",
        "\n",
        "    def solveNQueens(self, n):\n",
        "        allBoards = []\n",
        "        board = [['.' for _ in range(n)] for _ in range(n)]\n",
        "        self.helper(board, allBoards, 0)\n",
        "        return allBoards\n"
      ]
    },
    {
      "cell_type": "code",
      "source": [],
      "metadata": {
        "id": "NODyYzrbUZIO"
      },
      "execution_count": null,
      "outputs": []
    }
  ]
}
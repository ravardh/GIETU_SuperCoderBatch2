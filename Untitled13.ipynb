{
 "cells": [
  {
   "cell_type": "code",
   "execution_count": 2,
   "id": "8638cf9b",
   "metadata": {},
   "outputs": [
    {
     "name": "stdout",
     "output_type": "stream",
     "text": [
      "Result: 5\n"
     ]
    }
   ],
   "source": [
    "def longest_subarray(arr):\n",
    "    max_length = 0\n",
    "    sum_index_map = {}\n",
    "    current_sum = 0\n",
    "\n",
    "    for i in range(len(arr)):\n",
    "        current_sum += arr[i]\n",
    "\n",
    "        if arr[i] == 0 and max_length == 0:\n",
    "            max_length = 1\n",
    "\n",
    "        if current_sum == 0:\n",
    "            max_length = i + 1\n",
    "\n",
    "        if current_sum in sum_index_map:\n",
    "            max_length = max(max_length, i - sum_index_map[current_sum])\n",
    "        else:\n",
    "            sum_index_map[current_sum] = i\n",
    "\n",
    "    return max_length\n",
    "\n",
    "arr = [9, -3, 3, -1, 6, -5]\n",
    "print(\"Result:\", longest_subarray(arr))\n"
   ]
  },
  {
   "cell_type": "code",
   "execution_count": null,
   "id": "5e330c99",
   "metadata": {},
   "outputs": [],
   "source": []
  }
 ],
 "metadata": {
  "kernelspec": {
   "display_name": "Python 3 (ipykernel)",
   "language": "python",
   "name": "python3"
  },
  "language_info": {
   "codemirror_mode": {
    "name": "ipython",
    "version": 3
   },
   "file_extension": ".py",
   "mimetype": "text/x-python",
   "name": "python",
   "nbconvert_exporter": "python",
   "pygments_lexer": "ipython3",
   "version": "3.10.9"
  }
 },
 "nbformat": 4,
 "nbformat_minor": 5
}

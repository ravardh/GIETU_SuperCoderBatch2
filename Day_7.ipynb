{
  "nbformat": 4,
  "nbformat_minor": 0,
  "metadata": {
    "colab": {
      "provenance": [],
      "authorship_tag": "ABX9TyOqsxa8IzAfjqdhnfhyu7ks",
      "include_colab_link": true
    },
    "kernelspec": {
      "name": "python3",
      "display_name": "Python 3"
    },
    "language_info": {
      "name": "python"
    }
  },
  "cells": [
    {
      "cell_type": "markdown",
      "metadata": {
        "id": "view-in-github",
        "colab_type": "text"
      },
      "source": [
        "<a href=\"https://colab.research.google.com/github/ravardh/GIETU_SuperCoderBatch2/blob/Jatin_21CSE153/Day_7.ipynb\" target=\"_parent\"><img src=\"https://colab.research.google.com/assets/colab-badge.svg\" alt=\"Open In Colab\"/></a>"
      ]
    },
    {
      "cell_type": "code",
      "execution_count": 2,
      "metadata": {
        "colab": {
          "base_uri": "https://localhost:8080/"
        },
        "id": "gsLyuGUQGG3W",
        "outputId": "ef1351cd-de68-47b3-bef9-bf9427a39952"
      },
      "outputs": [
        {
          "output_type": "stream",
          "name": "stdout",
          "text": [
            "12 18 20 22 24 32 36 44 45 50 52 65 76 87 90 100 "
          ]
        }
      ],
      "source": [
        "class node:\n",
        "    def __init__(self,value):\n",
        "        self.data = value\n",
        "        self.left = None\n",
        "        self.right = None\n",
        "        self.height = 1\n",
        "\n",
        "class AVLTree(object):\n",
        "\n",
        "    def insert(self,root,value):\n",
        "        if root == None:\n",
        "            return node(value)\n",
        "        if(value<root.data):\n",
        "            root.left = self.insert(root.left,value)\n",
        "        elif value>root.data:\n",
        "            root.right = self.insert(root.right,value)\n",
        "\n",
        "        root.height = 1 + max(self.ght(root.left),\n",
        "                              self.ght(root.right))\n",
        "\n",
        "\n",
        "        bl = self.bal(root)\n",
        "\n",
        "        if bl > 1 and value < root.left.data:\n",
        "            return self.leftrotate(root)\n",
        "\n",
        "        if bl > 1 and value > root.left.data:\n",
        "            root.left = self.rightrotate(root.left)\n",
        "            return self.leftrotate(root)\n",
        "\n",
        "        if bl < -1 and value > root.right.data:\n",
        "            return self.rightrotate(root)\n",
        "\n",
        "        if bl < -1 and value < root.right.data:\n",
        "            root.right = self.leftrotate(root.right)\n",
        "            return self.rightrotate(root)\n",
        "        return root\n",
        "\n",
        "    def ght(self,root):\n",
        "        if root == None:\n",
        "            return 0\n",
        "        return root.height\n",
        "\n",
        "    def bal(self,root):\n",
        "        if root == None:\n",
        "            return 0\n",
        "        return self.ght(root.left)-self.ght(root.right)\n",
        "\n",
        "    def leftrotate(self,A):\n",
        "        if A is None or A.left is None:\n",
        "            return A\n",
        "        B = A.left\n",
        "        temp = B.right\n",
        "        B.right = A\n",
        "        A.left = temp\n",
        "\n",
        "        A.height = 1 + max(self.ght(A.left),\n",
        "                              self.ght(A.right))\n",
        "        B.height = 1 + max(self.ght(B.left),\n",
        "                              self.ght(B.right))\n",
        "        return B\n",
        "\n",
        "    def rightrotate(self,A):\n",
        "        if A is None or A.right is None:\n",
        "            return A\n",
        "        B = A.right\n",
        "        temp = B.left\n",
        "        B.left = A\n",
        "        A.right = temp\n",
        "\n",
        "        A.height = 1 + max(self.ght(A.left),\n",
        "                              self.ght(A.right))\n",
        "        B.height = 1 + max(self.ght(B.left),\n",
        "                              self.ght(B.right))\n",
        "        return B\n",
        "\n",
        "    def inorder(self,root):\n",
        "        if root == None:\n",
        "            return\n",
        "        self.inorder(root.left)\n",
        "        print(root.data, end=\" \")\n",
        "        self.inorder(root.right)\n",
        "\n",
        "\n",
        "tree = AVLTree()\n",
        "\n",
        "root = None\n",
        "V_L = [50 , 36, 12, 20, 76, 18, 44, 52, 90, 100,12,32,44,22,44,65,45,87,65,90,24]\n",
        "for x in V_L:\n",
        "    root = tree.insert(root,x)\n",
        "\n",
        "\n",
        "tree.inorder(root)"
      ]
    }
  ]
}
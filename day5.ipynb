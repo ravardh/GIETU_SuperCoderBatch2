{
  "nbformat": 4,
  "nbformat_minor": 0,
  "metadata": {
    "colab": {
      "provenance": []
    },
    "kernelspec": {
      "name": "python3",
      "display_name": "Python 3"
    },
    "language_info": {
      "name": "python"
    }
  },
  "cells": [
    {
      "cell_type": "code",
      "execution_count": 10,
      "metadata": {
        "colab": {
          "base_uri": "https://localhost:8080/"
        },
        "id": "zPNctWHGy_Co",
        "outputId": "6b794711-9193-4721-ea87-671ebfb9b48f"
      },
      "outputs": [
        {
          "output_type": "stream",
          "name": "stdout",
          "text": [
            "5\n"
          ]
        },
        {
          "output_type": "execute_result",
          "data": {
            "text/plain": [
              "5"
            ]
          },
          "metadata": {},
          "execution_count": 10
        }
      ],
      "source": [
        "#Height of a binary tree\n",
        "class node:\n",
        "  def __init__(self, data):\n",
        "        self.data = data\n",
        "        self.left = None\n",
        "        self.right = None\n",
        "def findheight(root):\n",
        "  if(root==None):\n",
        "   return 0;\n",
        "  return max(findheight(root.left),findheight(root.right))+1\n",
        "root=node(1)\n",
        "root.left=node(2)\n",
        "root.right=node(3)\n",
        "root.left.left=node(4)\n",
        "root.left.right=node(5)\n",
        "root.right.left=node(6)\n",
        "root.right.right=node(7)\n",
        "root.left.left.right=node(8)\n",
        "root.left.left.left=node(9)\n",
        "root.left.left.right.left=node(10)\n",
        "root.left.left.right.right=node(11)\n",
        "print(findheight(root))\n",
        "findheight(root)"
      ]
    },
    {
      "cell_type": "code",
      "source": [
        "class node:\n",
        "  def __init__(self, data):\n",
        "        self.data = data\n",
        "        self.left = None\n",
        "        self.right = None\n",
        "def findleaf(root):\n",
        "    if root==None:\n",
        "        return\n",
        "\n",
        "    elif(root.left==None and root.right==None):\n",
        "        print(root.data)\n",
        "    findleaf(root.left)\n",
        "    findleaf(root.right)\n",
        "root=node(1)\n",
        "root.left=node(2)\n",
        "root.right=node(3)\n",
        "root.left.left=node(4)\n",
        "root.left.right=node(5)\n",
        "root.right.left=node(6)\n",
        "root.right.right=node(7)\n",
        "root.left.left.right=node(8)\n",
        "root.left.left.left=node(9)\n",
        "root.left.left.right.left=node(10)\n",
        "root.left.left.right.right=node(11)\n",
        "print(findleaf(root))\n",
        "findleaf(root)"
      ],
      "metadata": {
        "colab": {
          "base_uri": "https://localhost:8080/"
        },
        "id": "WlVyVWo19u3O",
        "outputId": "5cdb90c1-d984-4550-843e-7285aa90e60b"
      },
      "execution_count": 11,
      "outputs": [
        {
          "output_type": "stream",
          "name": "stdout",
          "text": [
            "9\n",
            "10\n",
            "11\n",
            "5\n",
            "6\n",
            "7\n",
            "None\n",
            "9\n",
            "10\n",
            "11\n",
            "5\n",
            "6\n",
            "7\n"
          ]
        }
      ]
    },
    {
      "cell_type": "code",
      "source": [
        "class Node:\n",
        "    def __init__(self, data):\n",
        "        self.data = data\n",
        "        self.left = None\n",
        "        self.right = None\n",
        "        self.key = None\n",
        "def topview(root):\n",
        "  if(root==None):\n",
        "    return\n",
        "  Q=[root]\n",
        "  key=0\n",
        "  TView=dict()\n",
        "  root.key=key\n",
        "  while len(Q)!=0:\n",
        "    cur = Q.pop(0)\n",
        "    key = cur.key\n",
        "    if cur.left!=None:\n",
        "      Q.append(cur.left)\n",
        "      cur.left.key=key-1\n",
        "    if cur.right!=None:\n",
        "      Q.append(cur.right)\n",
        "      cur.right.key=key+1\n",
        "  for x in sorted(TView.keys()):\n",
        "    print(TView[x],end=\" \")\n",
        "root = Node(20)\n",
        "root.left = Node(32)\n",
        "root.right = Node(10)\n",
        "root.left.left = Node(15)\n",
        "root.left.right = Node(12)\n",
        "root.right.left = Node(8)\n",
        "root.right.right = Node(24)\n",
        "root.left.left.right = Node(4)\n",
        "root.left.left.left = Node(9)\n",
        "root.left.right.left = Node(50)\n",
        "root.left.right.right = Node(6)\n",
        "root.left.right.left.left = Node(40)\n",
        "root.left.right.left.right = Node(35)\n",
        "root.right.right.left = Node(16)\n",
        "root.right.right.right = Node(2)\n",
        "topview(root)\n",
        "\n"
      ],
      "metadata": {
        "id": "NIsQxJwZIv3Y"
      },
      "execution_count": 25,
      "outputs": []
    }
  ]
}
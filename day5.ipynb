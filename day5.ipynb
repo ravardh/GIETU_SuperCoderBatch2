{
  "nbformat": 4,
  "nbformat_minor": 0,
  "metadata": {
    "colab": {
      "provenance": []
    },
    "kernelspec": {
      "name": "python3",
      "display_name": "Python 3"
    },
    "language_info": {
      "name": "python"
    }
  },
  "cells": [
    {
      "cell_type": "code",
      "execution_count": null,
      "metadata": {
        "colab": {
          "base_uri": "https://localhost:8080/"
        },
        "id": "7UTllND2C_zs",
        "outputId": "4cfdeff8-37dc-4c95-b03c-4097958a310e"
      },
      "outputs": [
        {
          "output_type": "stream",
          "name": "stdout",
          "text": [
            "1\n",
            "3\n",
            "2\n"
          ]
        }
      ],
      "source": [
        "class node:\n",
        "  def __init__(self,data=None):\n",
        "    self.data=data\n",
        "    self.left=None\n",
        "    self.right=None\n",
        "def levelorder(root):\n",
        "    if root is None:\n",
        "        return\n",
        "\n",
        "    Q = [root]\n",
        "\n",
        "    while Q:\n",
        "        level_length = len(Q)\n",
        "        for _ in range(level_length):\n",
        "            cur = Q.pop(0)\n",
        "            print(cur.data, end=\" \")\n",
        "\n",
        "            if cur.left:\n",
        "                Q.append(cur.left)\n",
        "            if cur.right:\n",
        "                Q.append(cur.right)\n",
        "        print()  # Move the newline here to print after each leve\n",
        "\n",
        "\n",
        "  # Level(root.left)\n",
        "  # Level(root.right)\n",
        "def heightofgraph(root):\n",
        "  if root==None:\n",
        "    return 0\n",
        "  return max(heightofgraph(root.left),heightofgraph(root.right))+1\n",
        "def leafnode(root):\n",
        "    if root==None:\n",
        "        return\n",
        "\n",
        "    elif(root.left==None and root.right==None):\n",
        "        print(root.data)\n",
        "    leafnode(root.left)\n",
        "    leafnode(root.right)\n",
        "def upperview(root):\n",
        "  if(root==None):\n",
        "    return\n",
        "  print(root.data)\n",
        "\n",
        "  upperviewright(root.right)\n",
        "  upperviewleft(root.left)\n",
        "def upperviewright(root):\n",
        "  if(root==None):\n",
        "    return\n",
        "  print(root.data)\n",
        "\n",
        "  upperviewright(root.right)\n",
        "  # upperviewleft(root.left)\n",
        "def upperviewleft(root):\n",
        "  if(root==None):\n",
        "    return\n",
        "  print(root.data)\n",
        "\n",
        "  # upperviewright(root.right)\n",
        "  upperviewleft(root.left)\n",
        "root=node(1)\n",
        "root.left=node(2)\n",
        "root.right=node(3)\n",
        "root.left.left=node(4)\n",
        "root.left.right=node(5)\n",
        "root.right.left=node(6)\n",
        "root.right.right=node(7)\n",
        "root.left.left.right=node(8)\n",
        "root.left.left.left=node(9)\n",
        "root.left.left.right.left=node(10)\n",
        "root.left.left.right.right=node(11)\n",
        "# print(heightofgraph(root))\n",
        "# levelorder(root)\n",
        "# leafnode(root)\n",
        "upperview(root)"
      ]
    },
    {
      "cell_type": "code",
      "source": [
        "class node:\n",
        "  def __init__(self,data=None):\n",
        "    self.data=data\n",
        "    self.left=None\n",
        "    self.right=None\n",
        "def upperview(root,val,ind):\n",
        "  if root==None:\n",
        "    return\n",
        "  if ind not in val.values():\n",
        "    val.update({root.data: ind})\n",
        "  upperview(root.right,val,ind+1)\n",
        "  upperview(root.left,val,ind-1)\n",
        "\n",
        "root=node(20)\n",
        "root.left=node(32)\n",
        "root.right=node(10)\n",
        "root.left.left=node(15)\n",
        "root.left.right=node(12)\n",
        "root.right.left=node(8)\n",
        "root.right.right=node(24)\n",
        "root.left.left.left=node(4)\n",
        "root.left.right.left=node(50)\n",
        "root.left.right.right=node(6)\n",
        "root.left.right.left.left=node(40)\n",
        "root.left.right.left.right=node(35)\n",
        "root.right.right.left=node(16)\n",
        "root.right.right.right=node(2)\n",
        "\n",
        "val = {}\n",
        "ind=0\n",
        "upperview(root,val,0)\n",
        "for i in val.keys():\n",
        "  print(i)"
      ],
      "metadata": {
        "colab": {
          "base_uri": "https://localhost:8080/"
        },
        "id": "cSwU0MvSPoGP",
        "outputId": "a27f20dd-7766-41cb-ad07-1df175ab4494"
      },
      "execution_count": null,
      "outputs": [
        {
          "output_type": "stream",
          "name": "stdout",
          "text": [
            "20\n",
            "10\n",
            "24\n",
            "2\n",
            "32\n",
            "40\n",
            "4\n"
          ]
        }
      ]
    },
    {
      "cell_type": "code",
      "source": [
        "class node:\n",
        "    def __init__(self,info=None):\n",
        "        self.left=None\n",
        "        self.data=info\n",
        "        self.right=None\n",
        "        self.key=None\n",
        "\n",
        "def topView(root):\n",
        "    if root is None:\n",
        "        return\n",
        "    Q = [root]\n",
        "    key=0\n",
        "    TView=dict()\n",
        "    root.key=key\n",
        "    while len(Q)!=0:\n",
        "        curr=Q.pop(0)\n",
        "        key=curr.key\n",
        "        # if key not in TView:\n",
        "        TView[key]=curr.data\n",
        "        if curr.left!=None:\n",
        "          Q.append(curr.left)\n",
        "          curr.left.key=key-1\n",
        "        if curr.right!=None:\n",
        "            Q.append(curr.right)\n",
        "            curr.right.key=key+1\n",
        "    for x in sorted(TView.keys()):\n",
        "        print(TView[x],end=\" \")\n",
        "root=node(20)\n",
        "root.left=node(32)\n",
        "root.right=node(10)\n",
        "root.left.left=node(15)\n",
        "root.left.right=node(12)\n",
        "root.right.left=node(8)\n",
        "root.right.right=node(24)\n",
        "root.left.left.left=node(4)\n",
        "root.left.right.left=node(50)\n",
        "root.left.right.right=node(6)\n",
        "root.right.right.left=node(16)\n",
        "root.right.right.right=node(2)\n",
        "root.left.right.left.left=node(40)\n",
        "root.left.right.left.right=node(35)\n",
        "topView(root)"
      ],
      "metadata": {
        "colab": {
          "base_uri": "https://localhost:8080/"
        },
        "id": "7HPN5g8cjTO1",
        "outputId": "2ebf6299-e4d8-466f-8ff0-53fa82ae5dda"
      },
      "execution_count": null,
      "outputs": [
        {
          "output_type": "stream",
          "name": "stdout",
          "text": [
            "4 40 50 35 16 24 2 "
          ]
        }
      ]
    },
    {
      "cell_type": "code",
      "source": [],
      "metadata": {
        "id": "wTmoqSXSqkPE"
      },
      "execution_count": null,
      "outputs": []
    }
  ]
}
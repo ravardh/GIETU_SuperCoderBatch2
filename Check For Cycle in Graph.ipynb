{
 "cells": [
  {
   "cell_type": "code",
   "execution_count": 7,
   "id": "a8873aa5",
   "metadata": {},
   "outputs": [
    {
     "name": "stdout",
     "output_type": "stream",
     "text": [
      "a cycle is there\n"
     ]
    }
   ],
   "source": [
    "def cyclic(graph):\n",
    "    visited = set()\n",
    "    \n",
    "    def dfs(node, parent):\n",
    "        visited.add(node)\n",
    "        for neighbor in graph.get(node, []):\n",
    "            if neighbor == parent:\n",
    "                continue\n",
    "            if neighbor in visited or dfs(neighbor, node):\n",
    "                return True\n",
    "        return False\n",
    "    \n",
    "    if len(graph) == 2:\n",
    "        nodes = list(graph.keys())\n",
    "        if len(graph[nodes[0]]) == 1 and len(graph[nodes[1]]) == 1 and graph[nodes[1]][0] == nodes[0]:\n",
    "            return True\n",
    "        else:\n",
    "            return False\n",
    "\n",
    "    for node in graph:\n",
    "        if node not in visited:\n",
    "            if dfs(node, None):\n",
    "                return True\n",
    "    return False\n",
    "graph = {\n",
    "    1: [2,4],\n",
    "    2: [1,3],\n",
    "    3: [2,6,5],\n",
    "    4: [1,7],\n",
    "    5: [3,4],\n",
    "    6: [3],\n",
    "    7: [4,8],\n",
    "    8: [7]\n",
    "}\n",
    "\n",
    "if cyclic(graph):\n",
    "    print(\"a cycle is there\")\n",
    "else:\n",
    "    print(\"cycle is not there\")\n"
   ]
  },
  {
   "cell_type": "code",
   "execution_count": null,
   "id": "e70a64a9",
   "metadata": {},
   "outputs": [],
   "source": []
  }
 ],
 "metadata": {
  "kernelspec": {
   "display_name": "Python 3 (ipykernel)",
   "language": "python",
   "name": "python3"
  },
  "language_info": {
   "codemirror_mode": {
    "name": "ipython",
    "version": 3
   },
   "file_extension": ".py",
   "mimetype": "text/x-python",
   "name": "python",
   "nbconvert_exporter": "python",
   "pygments_lexer": "ipython3",
   "version": "3.11.5"
  }
 },
 "nbformat": 4,
 "nbformat_minor": 5
}

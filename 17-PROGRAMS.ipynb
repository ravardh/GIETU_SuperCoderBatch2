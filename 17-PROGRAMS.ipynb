{
 "cells": [
  {
   "cell_type": "code",
   "execution_count": 2,
   "id": "352833c5",
   "metadata": {},
   "outputs": [
    {
     "name": "stdout",
     "output_type": "stream",
     "text": [
      "Solution exists:\n",
      "Queen placed at (0, 2)\n",
      "Queen placed at (1, 0)\n",
      "Queen placed at (2, 3)\n",
      "Queen placed at (3, 1)\n"
     ]
    }
   ],
   "source": [
    "def is_position_safe(board, row, col, N):\n",
    "    for i in range(col):\n",
    "        if board[row][i] == 1:\n",
    "            return False\n",
    "    for i, j in zip(range(row, -1, -1), range(col, -1, -1)):\n",
    "        if board[i][j] == 1:\n",
    "            return False\n",
    "    for i, j in zip(range(row, N), range(col, -1, -1)):\n",
    "        if board[i][j] == 1:\n",
    "            return False\n",
    "    return True\n",
    "\n",
    "def solve_n_queens_problem(board, col, N):\n",
    "    if col >= N:\n",
    "        return True\n",
    "    for i in range(N):\n",
    "        if is_position_safe(board, i, col, N):\n",
    "            board[i][col] = 1\n",
    "            if solve_n_queens_problem(board, col + 1, N):\n",
    "                return True\n",
    "            board[i][col] = 0\n",
    "    return False\n",
    "\n",
    "def print_solution(board, N):\n",
    "    for i in range(N):\n",
    "        for j in range(N):\n",
    "            if board[i][j] == 1:\n",
    "                print(f\"Queen placed at ({i}, {j})\")\n",
    "\n",
    "N = 4\n",
    "board = [[0] * N for _ in range(N)]\n",
    "if solve_n_queens_problem(board, 0, N):\n",
    "    print(\"Solution exists:\")\n",
    "    print_solution(board, N)\n",
    "else:\n",
    "    print(\"Solution does not exist!\")\n"
   ]
  },
  {
   "cell_type": "code",
   "execution_count": 3,
   "id": "1e4c041b",
   "metadata": {},
   "outputs": [
    {
     "name": "stdout",
     "output_type": "stream",
     "text": [
      "[18, 42, 28]\n",
      "[51, 111, 76]\n",
      "[11, 23, 16]\n"
     ]
    }
   ],
   "source": [
    "def matrix_multiplication(A, B):\n",
    "    if len(A[0]) != len(B):\n",
    "        print(\"Cannot multiply matrices. Inner dimensions must match.\")\n",
    "        return None\n",
    "    \n",
    "    result = [[0] * len(B[0]) for _ in range(len(A))]\n",
    "    for i in range(len(A)):\n",
    "        for j in range(len(B[0])):\n",
    "            for k in range(len(B)):\n",
    "                result[i][j] += A[i][k] * B[k][j]\n",
    "\n",
    "    return result\n",
    "\n",
    "m1 = [[1, 2, 3],\n",
    "      [4, 5, 6],\n",
    "      [1, 1, 1]]\n",
    "\n",
    "m2 = [[7, 8, 9],\n",
    "      [1, 11, 2],\n",
    "      [3, 4, 5]]\n",
    "\n",
    "result_matrix = matrix_multiplication(m1, m2)\n",
    "\n",
    "if result_matrix:\n",
    "    for row in result_matrix:\n",
    "        print(row)\n"
   ]
  },
  {
   "cell_type": "code",
   "execution_count": null,
   "id": "2d917abf",
   "metadata": {},
   "outputs": [],
   "source": []
  }
 ],
 "metadata": {
  "kernelspec": {
   "display_name": "Python 3 (ipykernel)",
   "language": "python",
   "name": "python3"
  },
  "language_info": {
   "codemirror_mode": {
    "name": "ipython",
    "version": 3
   },
   "file_extension": ".py",
   "mimetype": "text/x-python",
   "name": "python",
   "nbconvert_exporter": "python",
   "pygments_lexer": "ipython3",
   "version": "3.11.3"
  }
 },
 "nbformat": 4,
 "nbformat_minor": 5
}

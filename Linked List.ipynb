{
 "cells": [
  {
   "cell_type": "code",
   "execution_count": 4,
   "id": "aa41dc7b",
   "metadata": {},
   "outputs": [
    {
     "name": "stdout",
     "output_type": "stream",
     "text": [
      "Mon\n",
      "Tue\n",
      "Wed\n",
      "Thu\n",
      "Fri\n",
      "sat\n",
      "sun\n"
     ]
    }
   ],
   "source": [
    "class day:\n",
    "    def __init__(self, data=None):\n",
    "        self.data = data\n",
    "        self.next = None\n",
    "\n",
    "e1 = day('Mon')\n",
    "e2 = day('Tue')\n",
    "e3 = day('Wed')\n",
    "e4 = day('Thu')\n",
    "e5 = day('Fri')\n",
    "e6 = day('sat')\n",
    "e7 = day('sun')\n",
    " \n",
    "e1.next = e2\n",
    "e2.next = e3\n",
    "e3.next = e4\n",
    "e4.next = e5\n",
    "e5.next = e6\n",
    "e6.next = e7\n",
    "\n",
    "value = e1\n",
    "\n",
    "while value:\n",
    "        print(value.data)\n",
    "        value = value.next"
   ]
  },
  {
   "cell_type": "code",
   "execution_count": null,
   "id": "07b608f7",
   "metadata": {},
   "outputs": [],
   "source": []
  },
  {
   "cell_type": "code",
   "execution_count": 20,
   "id": "4012d58e",
   "metadata": {},
   "outputs": [
    {
     "name": "stdout",
     "output_type": "stream",
     "text": [
      "Mon\n",
      "Tue\n",
      "Wed\n",
      "Thu\n",
      "Fri\n",
      "sat\n",
      "which day u want to delete ? : Mon\n"
     ]
    }
   ],
   "source": [
    "class day:\n",
    "    def __init__(self, data=None):\n",
    "        self.data = data\n",
    "        self.next = None\n",
    "\n",
    "e1 = day('Mon')\n",
    "e2 = day('Tue')\n",
    "e3 = day('Wed')\n",
    "e4 = day('Thu')\n",
    "e5 = day('Fri')\n",
    "e6 = day('sat')\n",
    "e7 = day('sun')\n",
    " \n",
    "e1.next = e2\n",
    "e2.next = e3\n",
    "e3.next = e4\n",
    "e4.next = e5\n",
    "e5.next = e6\n",
    "e6.next = e7\n",
    "\n",
    "value = e1\n",
    "\n",
    "while value.next != None:\n",
    "        print(value.data)\n",
    "        value = value.next\n",
    "        \n",
    "a = str(input(\"which day u want to delete ? : \"))\n",
    "\n",
    "value = e1\n",
    "prev = None\n",
    "while value.next != None:\n",
    "    if value.data == a:\n",
    "        if prev:\n",
    "            prev.next = value.next\n",
    "        else:\n",
    "            e1 = value.next\n",
    "    value = value.next;\n",
    "\n",
    "value = e1\n",
    "while value.next != None:\n",
    "    print(value.data)\n",
    "    value = value.next"
   ]
  },
  {
   "cell_type": "code",
   "execution_count": null,
   "id": "ec90c19d",
   "metadata": {},
   "outputs": [],
   "source": []
  },
  {
   "cell_type": "code",
   "execution_count": null,
   "id": "28aa5819",
   "metadata": {},
   "outputs": [],
   "source": []
  },
  {
   "cell_type": "code",
   "execution_count": null,
   "id": "69e73283",
   "metadata": {},
   "outputs": [],
   "source": []
  }
 ],
 "metadata": {
  "kernelspec": {
   "display_name": "Python 3 (ipykernel)",
   "language": "python",
   "name": "python3"
  },
  "language_info": {
   "codemirror_mode": {
    "name": "ipython",
    "version": 3
   },
   "file_extension": ".py",
   "mimetype": "text/x-python",
   "name": "python",
   "nbconvert_exporter": "python",
   "pygments_lexer": "ipython3",
   "version": "3.11.3"
  }
 },
 "nbformat": 4,
 "nbformat_minor": 5
}

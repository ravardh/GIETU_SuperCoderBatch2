{
 "cells": [
  {
   "cell_type": "markdown",
   "id": "cff5777f",
   "metadata": {},
   "source": [
    "# Graph Creation"
   ]
  },
  {
   "cell_type": "code",
   "execution_count": 2,
   "id": "6a3199c5",
   "metadata": {},
   "outputs": [
    {
     "ename": "SyntaxError",
     "evalue": "cannot assign to expression (2582589966.py, line 12)",
     "output_type": "error",
     "traceback": [
      "\u001b[1;36m  Cell \u001b[1;32mIn[2], line 12\u001b[1;36m\u001b[0m\n\u001b[1;33m    for (i in self.start and j in self.dest ):\u001b[0m\n\u001b[1;37m         ^\u001b[0m\n\u001b[1;31mSyntaxError\u001b[0m\u001b[1;31m:\u001b[0m cannot assign to expression\n"
     ]
    }
   ],
   "source": [
    "class graph:\n",
    "    def __init__(self,vertex):\n",
    "        self.vertex = vertex\n",
    "        \n",
    "        \n",
    "    def edge(self,start,dest):\n",
    "        if ((start in self.vertex and dest in self.vertex) and start!=dest):\n",
    "            self.start = start\n",
    "            self.dest = dest\n",
    "            \n",
    "    def display():\n",
    "        for (i in self.start and j in self.dest ):\n",
    "            print(\"{i} --> {j}\")\n",
    "    \n",
    "\n",
    "graph(1)\n",
    "graph(2)\n",
    "graph(3)\n",
    "graph(4)\n",
    "graph(5)\n",
    "\n",
    "edge(1,2)\n",
    "edge(2,3)\n",
    "edge(3,4)\n",
    "edge(4,5)\n",
    "\n",
    "display()"
   ]
  },
  {
   "cell_type": "markdown",
   "id": "9ddb0792",
   "metadata": {},
   "source": [
    "# Undirected unweighted graph"
   ]
  },
  {
   "cell_type": "code",
   "execution_count": 15,
   "id": "35f803e2",
   "metadata": {},
   "outputs": [
    {
     "name": "stdout",
     "output_type": "stream",
     "text": [
      "1  <->  2\n",
      "1  <->  10\n",
      "2  <->  1\n",
      "2  <->  4\n",
      "4  <->  2\n",
      "4  <->  10\n",
      "10  <->  4\n",
      "10  <->  1\n"
     ]
    }
   ],
   "source": [
    "class Graph:\n",
    "    def __init__(self):\n",
    "        self.vertices = {}\n",
    "\n",
    "    def add_vertex(self, vertex):\n",
    "        if vertex not in self.vertices:\n",
    "            self.vertices[vertex] = []\n",
    "\n",
    "    def add_edge(self, vertex1, vertex2):\n",
    "        if vertex1 in self.vertices and vertex2 in self.vertices:\n",
    "            self.vertices[vertex1].append(vertex2)\n",
    "            self.vertices[vertex2].append(vertex1)  \n",
    "\n",
    "    def display_edges(self):\n",
    "        for vertex in self.vertices:\n",
    "            for adjacent_vertex in self.vertices[vertex]:\n",
    "                print(vertex,\" <-> \",adjacent_vertex)\n",
    "\n",
    "\n",
    "\n",
    "graph = Graph()\n",
    "\n",
    "    \n",
    "graph.add_vertex(1)\n",
    "graph.add_vertex(2)\n",
    "graph.add_vertex(4)\n",
    "graph.add_vertex(10)\n",
    "\n",
    "   \n",
    "graph.add_edge(1, 2)\n",
    "graph.add_edge(2, 4)\n",
    "graph.add_edge(4, 10)\n",
    "graph.add_edge(10, 1)\n",
    "\n",
    "   \n",
    "graph.display_edges()\n"
   ]
  },
  {
   "cell_type": "markdown",
   "id": "18d47987",
   "metadata": {},
   "source": [
    "# Directed UnWeighted graph"
   ]
  },
  {
   "cell_type": "code",
   "execution_count": 3,
   "id": "61030b4c",
   "metadata": {},
   "outputs": [
    {
     "name": "stdout",
     "output_type": "stream",
     "text": [
      "1  -->  2\n",
      "2  -->  4\n",
      "2  -->  10\n",
      "4  -->  10\n",
      "10  -->  1\n"
     ]
    }
   ],
   "source": [
    "class Graph:\n",
    "    def __init__(self):\n",
    "        self.vertices = {}\n",
    "\n",
    "    def add_vertex(self, vertex):\n",
    "        if vertex not in self.vertices:\n",
    "            self.vertices[vertex] = []\n",
    "\n",
    "    def add_edge(self, vertex1, vertex2):\n",
    "        if vertex1 in self.vertices and vertex2 in self.vertices:\n",
    "            self.vertices[vertex1].append(vertex2)\n",
    "              \n",
    "\n",
    "    def display_edges(self):\n",
    "        for vertex in self.vertices:\n",
    "            for adjacent_vertex in self.vertices[vertex]:\n",
    "                print(vertex,\" --> \",adjacent_vertex)\n",
    "\n",
    "\n",
    "\n",
    "graph = Graph()\n",
    "\n",
    "    \n",
    "graph.add_vertex(1)\n",
    "graph.add_vertex(2)\n",
    "graph.add_vertex(4)\n",
    "graph.add_vertex(10)\n",
    "\n",
    "   \n",
    "graph.add_edge(1, 2)\n",
    "graph.add_edge(2, 4)\n",
    "graph.add_edge(4, 10)\n",
    "graph.add_edge(10, 1)\n",
    "graph.add_edge(2, 10)\n",
    "\n",
    "   \n",
    "graph.display_edges()\n"
   ]
  },
  {
   "cell_type": "markdown",
   "id": "eb28551a",
   "metadata": {},
   "source": [
    "# BFS"
   ]
  },
  {
   "cell_type": "code",
   "execution_count": 1,
   "id": "7062bdff",
   "metadata": {},
   "outputs": [
    {
     "name": "stdout",
     "output_type": "stream",
     "text": [
      "BFS Traversal:\n",
      "0 1 2 3 4 5 "
     ]
    }
   ],
   "source": [
    "def bfs(graph, start):\n",
    "    visited = set()\n",
    "    queue = [start]\n",
    "    visited.add(start)\n",
    "\n",
    "    while queue:\n",
    "        vertex = queue.pop(0)\n",
    "        print(vertex, end=\" \")\n",
    "\n",
    "        for neighbor in graph[vertex]:\n",
    "            if neighbor not in visited:\n",
    "                queue.append(neighbor)\n",
    "                visited.add(neighbor)\n",
    "\n",
    "\n",
    "graph = {\n",
    "    0: [1, 2],\n",
    "    1: [0, 3, 4],\n",
    "    2: [0, 5],\n",
    "    3: [1],\n",
    "    4: [1, 5],\n",
    "    5: [2, 4]\n",
    "}\n",
    "\n",
    "\n",
    "start_vertex = 0\n",
    "\n",
    "print(\"BFS Traversal:\")\n",
    "bfs(graph, start_vertex)\n"
   ]
  },
  {
   "cell_type": "code",
   "execution_count": null,
   "id": "f89a7f74",
   "metadata": {},
   "outputs": [],
   "source": []
  }
 ],
 "metadata": {
  "kernelspec": {
   "display_name": "Python 3 (ipykernel)",
   "language": "python",
   "name": "python3"
  },
  "language_info": {
   "codemirror_mode": {
    "name": "ipython",
    "version": 3
   },
   "file_extension": ".py",
   "mimetype": "text/x-python",
   "name": "python",
   "nbconvert_exporter": "python",
   "pygments_lexer": "ipython3",
   "version": "3.11.5"
  }
 },
 "nbformat": 4,
 "nbformat_minor": 5
}
